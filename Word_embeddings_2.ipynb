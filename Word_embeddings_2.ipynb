{
 "cells": [
  {
   "cell_type": "markdown",
   "metadata": {},
   "source": [
    "# Practica 4 (De nou)"
   ]
  },
  {
   "cell_type": "markdown",
   "metadata": {},
   "source": [
    "## Requeriments"
   ]
  },
  {
   "cell_type": "code",
   "execution_count": 9,
   "metadata": {},
   "outputs": [],
   "source": [
    "import gensim\n",
    "from gensim.models import Word2Vec, word2vec\n",
    "from gensim.models.word2vec import PathLineSentences\n",
    "from typing import Tuple, List, Optional\n",
    "import os\n",
    "import re"
   ]
  },
  {
   "cell_type": "markdown",
   "metadata": {},
   "source": [
    "## Codi per entrenar models word2vec"
   ]
  },
  {
   "cell_type": "code",
   "execution_count": 10,
   "metadata": {},
   "outputs": [
    {
     "name": "stderr",
     "output_type": "stream",
     "text": [
      "c:\\Users\\Usuario\\.pyenv\\pyenv-win\\versions\\3.11.0\\Lib\\site-packages\\tqdm\\auto.py:21: TqdmWarning: IProgress not found. Please update jupyter and ipywidgets. See https://ipywidgets.readthedocs.io/en/stable/user_install.html\n",
      "  from .autonotebook import tqdm as notebook_tqdm\n",
      "c:\\Users\\Usuario\\.pyenv\\pyenv-win\\versions\\3.11.0\\Lib\\site-packages\\datasets\\load.py:1486: FutureWarning: The repository for projecte-aina/catalan_general_crawling contains custom code which must be executed to correctly load the dataset. You can inspect the repository content at https://hf.co/datasets/projecte-aina/catalan_general_crawling\n",
      "You can avoid this message in future by passing the argument `trust_remote_code=True`.\n",
      "Passing `trust_remote_code=True` will be mandatory to load this dataset from the next major release of `datasets`.\n",
      "  warnings.warn(\n"
     ]
    }
   ],
   "source": [
    "from datasets import load_dataset\n",
    "\n",
    "dataset = load_dataset(\"projecte-aina/catalan_general_crawling\")\n",
    "dataset = dataset['train']"
   ]
  },
  {
   "cell_type": "code",
   "execution_count": 11,
   "metadata": {},
   "outputs": [
    {
     "name": "stdout",
     "output_type": "stream",
     "text": [
      "files per 100MB: 57333\n",
      "files per 500MB: 213432\n",
      "files per 1GB: 410702\n"
     ]
    }
   ],
   "source": [
    "# Getting the first 100 MB of the dataset\n",
    "size = 0\n",
    "for i in range(len(dataset)):\n",
    "    size += len(dataset[i]['text'])\n",
    "    if size > 100000000:  # 100 MB\n",
    "        print('files per 100MB:', i)\n",
    "        break\n",
    "\n",
    "dataset_100MB = dataset.select(list(range(i)))\n",
    "\n",
    "\n",
    "# Getting the first 500 MB of the dataset\n",
    "size = 0\n",
    "for j in range(len(dataset)):\n",
    "    size += len(dataset[j]['text'])  # corrected from dataset[i]['text']\n",
    "    if size > 500000000:  # 500 MB\n",
    "        print('files per 500MB:', j)\n",
    "        break\n",
    "\n",
    "dataset_500MB = dataset.select(list(range(j)))\n",
    "\n",
    "# Getting the first 1 GB of the dataset\n",
    "size = 0\n",
    "for g in range(len(dataset)):\n",
    "    size += len(dataset[g]['text'])  # corrected from dataset[i]['text']\n",
    "    if size > 1000000000:  # 1 GB\n",
    "        print('files per 1GB:', g)\n",
    "        break\n",
    "\n",
    "dataset_1GB = dataset.select(list(range(g)))\n",
    "\n",
    "# Getting the whole dataset\n",
    "dataset_complet = dataset"
   ]
  },
  {
   "cell_type": "code",
   "execution_count": 12,
   "metadata": {},
   "outputs": [],
   "source": [
    "datasets = {}\n",
    "datasets['100MB'] = dataset_100MB\n",
    "datasets['500MB'] = dataset_500MB\n",
    "datasets['1GB'] = dataset_1GB  \n",
    "datasets['complet'] = dataset_complet\n",
    "\n",
    "models = {}"
   ]
  },
  {
   "cell_type": "code",
   "execution_count": 13,
   "metadata": {},
   "outputs": [],
   "source": [
    "stopwords_catala = [ \n",
    "    \"a\", \"abans\", \"ací\", \"així\", \"alguns\", \"alguna\", \"algunes\", \"algú\", \"alhora\", \n",
    "    \"als\", \"allò\", \"aquell\", \"aquelles\", \"aquell\", \"aquells\", \"baix\", \n",
    "    \"cada\", \"com\", \"com a\", \"eixa\", \"eixes\", \"eixí\", \n",
    "    \"eixos\", \"el\", \"ella\", \"elles\", \"ell\", \"ells\", \"en\", \"endavant\", \"enfront\", \n",
    "    \"ens\", \"entre\", \"he\", \"hem\", \"heu\", \"hi\", \"ho\", \n",
    "    \"i\", \"igual\", \"iguals\", \"ja\", \"jo\", \"l'\", \"la\", \"les\", \"li\", \"els\", \"tu\", \"nosaltres\", \"vosaltres\",\n",
    "    \"de\", \"del\", \"dels\", \"d'un\", \"d'una\", \"d'uns\", \"d'unes\", \"des\", \"des de\",\n",
    "    ]\n",
    "\n",
    "# Funció per netejar i tokenitzar el text\n",
    "def preprocess_text(text):\n",
    "    # Neteja el text: treu caràcters no desitjats, converteix a minúscules, etc.\n",
    "    text = re.sub(r'\\W+', ' ', text)  # Substitueix caràcters no alfanumèrics per espais\n",
    "    text = text.lower()  # Converteix a minúscules\n",
    "    words = text.split()  # Tokenitza\n",
    "    # elimina stopwords\n",
    "    words = [word for word in words if word not in stopwords_catala]\n",
    "    return words"
   ]
  },
  {
   "cell_type": "code",
   "execution_count": null,
   "metadata": {},
   "outputs": [],
   "source": [
    "# Carrega el fitxer de text i processa'l\n",
    "def create_corpus(dataset):\n",
    "    corpus = []\n",
    "    for line in dataset:\n",
    "        words = preprocess_text(line['text'])\n",
    "        if words:  # Assegura't que la línia no està buida\n",
    "            corpus.append(words)\n",
    "    return corpus\n",
    "\n",
    "corpus_dict = {}\n",
    "for mida in [\"100MB\", \"500MB\", \"1GB\", \"complet\"]:\n",
    "    dataset = datasets[mida]\n",
    "    corpus_dict[f\"corpus_{mida}\"] = create_corpus(dataset=dataset)\n",
    "    print(f\"Corpus {mida} creat\")\n"
   ]
  },
  {
   "cell_type": "code",
   "execution_count": 95,
   "metadata": {},
   "outputs": [],
   "source": [
    "def entrenar_word2vec(corpus, mida_vector=100, finestra=5, sg=1, min_count=10, workers=4, epochs=25):\n",
    "    \n",
    "    model = word2vec.Word2Vec(corpus, vector_size=mida_vector, window=finestra, min_count=min_count, workers=workers, epochs=epochs, sg=sg)\n",
    "    \n",
    "    return model\n",
    "\n",
    "# Entrenar models per a cada mida de dataset\n",
    "for mida in [\"500MB\", \"1GB\", \"complet\"]: # \"100MB\"\n",
    "    corpus = corpus_dict[f\"corpus_{mida}\"]\n",
    "    model = entrenar_word2vec(corpus)\n",
    "    models[mida] = model\n",
    "    model.save(f\"model_{mida}.model\")\n"
   ]
  },
  {
   "cell_type": "code",
   "execution_count": 14,
   "metadata": {},
   "outputs": [],
   "source": [
    "for model in ['100MB', '500MB', '1GB', 'complet']:\n",
    "    # load model\n",
    "    models[model] = gensim.models.Word2Vec.load(f\"model_{model}.model\")\n",
    "    \n",
    "models['100MB'] = gensim.models.Word2Vec.load(\"model_100MB.model\")"
   ]
  },
  {
   "cell_type": "code",
   "execution_count": 15,
   "metadata": {},
   "outputs": [
    {
     "data": {
      "text/plain": [
       "[('caseta', 0.715048611164093),\n",
       " ('família', 0.6787399053573608),\n",
       " ('llar', 0.6702232360839844),\n",
       " ('pairal', 0.6680922508239746),\n",
       " ('acollidora', 0.6579598188400269),\n",
       " ('cabana', 0.6460942625999451),\n",
       " ('bonica', 0.6448329091072083),\n",
       " ('jardí', 0.640557587146759),\n",
       " ('habitació', 0.6359531283378601),\n",
       " ('granja', 0.6318382024765015)]"
      ]
     },
     "execution_count": 15,
     "metadata": {},
     "output_type": "execute_result"
    }
   ],
   "source": [
    "models['500MB'].wv.most_similar(\"casa\", topn=10)"
   ]
  },
  {
   "cell_type": "markdown",
   "metadata": {},
   "source": [
    "## Model de Similitud de Text Semàntic"
   ]
  },
  {
   "cell_type": "code",
   "execution_count": 16,
   "metadata": {},
   "outputs": [],
   "source": [
    "# Requisites\n",
    "from gensim.models import TfidfModel\n",
    "from gensim.utils import simple_preprocess\n",
    "from gensim.corpora import Dictionary\n",
    "import numpy as np\n",
    "from scipy import spatial\n",
    "from typing import Tuple, List"
   ]
  },
  {
   "cell_type": "code",
   "execution_count": 17,
   "metadata": {},
   "outputs": [
    {
     "name": "stderr",
     "output_type": "stream",
     "text": [
      "c:\\Users\\Usuario\\.pyenv\\pyenv-win\\versions\\3.11.0\\Lib\\site-packages\\datasets\\load.py:1486: FutureWarning: The repository for projecte-aina/sts-ca contains custom code which must be executed to correctly load the dataset. You can inspect the repository content at https://hf.co/datasets/projecte-aina/sts-ca\n",
      "You can avoid this message in future by passing the argument `trust_remote_code=True`.\n",
      "Passing `trust_remote_code=True` will be mandatory to load this dataset from the next major release of `datasets`.\n",
      "  warnings.warn(\n"
     ]
    }
   ],
   "source": [
    "from datasets import load_dataset\n",
    "\n",
    "text_semantic = load_dataset(\"projecte-aina/sts-ca\")"
   ]
  },
  {
   "cell_type": "code",
   "execution_count": 18,
   "metadata": {},
   "outputs": [
    {
     "data": {
      "text/plain": [
       "'Atorga per primer cop les mencions Encarna Sanahuja a la inclusió de la perspectiva de gènere en docència Universitària'"
      ]
     },
     "execution_count": 18,
     "metadata": {},
     "output_type": "execute_result"
    }
   ],
   "source": [
    "text_semantic['train']['sentence1'][0]"
   ]
  },
  {
   "cell_type": "markdown",
   "metadata": {},
   "source": [
    "### Inicialització"
   ]
  },
  {
   "cell_type": "code",
   "execution_count": 19,
   "metadata": {},
   "outputs": [],
   "source": [
    "input_pairs = [(e[\"sentence1\"], e[\"sentence2\"], e[\"label\"], ) for e in text_semantic[\"train\"].to_list()]\n",
    "input_pairs_val = [(e[\"sentence1\"], e[\"sentence2\"], e[\"label\"], ) for e in text_semantic[\"validation\"].to_list()]\n",
    "input_pairs_test = [(e[\"sentence1\"], e[\"sentence2\"], e[\"label\"], ) for e in text_semantic[\"test\"].to_list()]"
   ]
  },
  {
   "cell_type": "code",
   "execution_count": 20,
   "metadata": {},
   "outputs": [],
   "source": [
    "all_input_pairs = input_pairs + input_pairs_val + input_pairs_test\n",
    "# Preprocesamiento de las oraciones y creación del diccionario\n",
    "sentences_1_preproc = [simple_preprocess(sentence_1) for sentence_1, _, _ in all_input_pairs]\n",
    "sentences_2_preproc = [simple_preprocess(sentence_2) for _, sentence_2, _ in all_input_pairs]\n",
    "sentence_pairs = list(zip(sentences_1_preproc, sentences_2_preproc))\n",
    "# Versión aplanada para poder entrenar el modelo\n",
    "sentences_pairs_flattened = sentences_1_preproc + sentences_2_preproc\n",
    "diccionario = Dictionary(sentences_pairs_flattened)"
   ]
  },
  {
   "cell_type": "code",
   "execution_count": 21,
   "metadata": {},
   "outputs": [
    {
     "data": {
      "text/plain": [
       "('Atorga per primer cop les mencions Encarna Sanahuja a la inclusió de la perspectiva de gènere en docència Universitària',\n",
       " 'Creen la menció M. Encarna Sanahuja a la inclusió de la perspectiva de gènere en docència universitària',\n",
       " 3.5)"
      ]
     },
     "execution_count": 21,
     "metadata": {},
     "output_type": "execute_result"
    }
   ],
   "source": [
    "all_input_pairs[0]"
   ]
  },
  {
   "cell_type": "code",
   "execution_count": 22,
   "metadata": {},
   "outputs": [],
   "source": [
    "# Cálculo de los pesos TF-IDF para las oraciones pre-procesadas\n",
    "corpus = [diccionario.doc2bow(sent) for sent in sentences_pairs_flattened]\n",
    "modelo_tfidf = TfidfModel(corpus)"
   ]
  },
  {
   "cell_type": "code",
   "execution_count": 23,
   "metadata": {},
   "outputs": [],
   "source": [
    "def map_tf_idf(sentence_preproc: List[str], dictionary: Dictionary, tf_idf_model: TfidfModel, wv_model) -> Tuple[List[np.ndarray], List[float]]:\n",
    "    bow = dictionary.doc2bow(sentence_preproc)\n",
    "    tf_idf = tf_idf_model[bow]\n",
    "    vectors, weights = [], []\n",
    "    for word_index, weight in tf_idf:\n",
    "        word = dictionary.get(word_index)\n",
    "        if word in wv_model:\n",
    "            vectors.append(wv_model[word])\n",
    "            weights.append(weight)\n",
    "    return vectors, weights\n",
    "\n",
    "def map_pairs(\n",
    "        sentence_pairs: List[Tuple[str, str, float]],\n",
    "        dictionary: Dictionary = None,\n",
    "        tf_idf_model: TfidfModel = None,\n",
    "        wv_model: Word2Vec = None,\n",
    ") -> List[Tuple[Tuple[np.ndarray, np.ndarray], float]]:\n",
    "    # Mapeo de los pares de oraciones a pares de vectores\n",
    "    pares_vectores = []\n",
    "    for i, (sentence_1, sentence_2, similitud) in enumerate(sentence_pairs):\n",
    "        sentence_1_preproc = preprocess_text(sentence_1)\n",
    "        sentence_2_preproc = preprocess_text(sentence_2)\n",
    "        # Si usamos TF-IDF\n",
    "        if tf_idf_model is not None:\n",
    "            # Cálculo del promedio ponderado por TF-IDF de los word embeddings\n",
    "            vectors1, weights1 = map_tf_idf(sentence_1_preproc, dictionary=dictionary, tf_idf_model=tf_idf_model, wv_model=wv_model,)\n",
    "            vectors2, weights2 = map_tf_idf(sentence_2_preproc, dictionary=dictionary, tf_idf_model=tf_idf_model, wv_model=wv_model,)\n",
    "            vector1 = np.average(vectors1, weights=weights1, axis=0, )\n",
    "            vector2 = np.average(vectors2, weights=weights2, axis=0, )\n",
    "        else:\n",
    "            # Cálculo del promedio de los word embeddings\n",
    "            vectors1 = [wv_model[word] for word in sentence_1_preproc if word in wv_model]\n",
    "            vectors2 = [wv_model[word] for word in sentence_2_preproc if word in wv_model]\n",
    "            vector1 = np.mean(vectors1, axis=0)\n",
    "            vector2 = np.mean(vectors2, axis=0)\n",
    "        # Añadir a la lista\n",
    "        pares_vectores.append(((vector1, vector2), similitud))\n",
    "    return pares_vectores"
   ]
  },
  {
   "cell_type": "code",
   "execution_count": 24,
   "metadata": {},
   "outputs": [],
   "source": [
    "def pair_list_to_x_y(pair_list: List[Tuple[Tuple[np.ndarray, np.ndarray], int]]) -> Tuple[Tuple[np.ndarray, np.ndarray], np.ndarray]:\n",
    "    _x, _y = zip(*pair_list)\n",
    "    _x_1, _x_2 = zip(*_x)\n",
    "    return (np.array(_x_1), np.array(_x_2)), np.array(_y, dtype=np.float32, )"
   ]
  },
  {
   "cell_type": "markdown",
   "metadata": {},
   "source": [
    "## Model Baseline"
   ]
  },
  {
   "cell_type": "code",
   "execution_count": 25,
   "metadata": {},
   "outputs": [],
   "source": [
    "# Define the Model\n",
    "import tensorflow as tf"
   ]
  },
  {
   "cell_type": "code",
   "execution_count": 26,
   "metadata": {},
   "outputs": [],
   "source": [
    "def build_and_compile_model_better(embedding_size: int = 300, learning_rate: float = 1e-3) -> tf.keras.Model:\n",
    "    # Capa de entrada para los pares de vectores\n",
    "    input_1 = tf.keras.Input(shape=(embedding_size,))\n",
    "    input_2 = tf.keras.Input(shape=(embedding_size,))\n",
    "\n",
    "    # Hidden layer\n",
    "    first_projection = tf.keras.layers.Dense(\n",
    "        embedding_size,\n",
    "        kernel_initializer=tf.keras.initializers.Identity(),\n",
    "        bias_initializer=tf.keras.initializers.Zeros(),\n",
    "    )\n",
    "    projected_1 =  first_projection(input_1)\n",
    "    projected_2 = first_projection(input_2)\n",
    "    \n",
    "    # Compute the cosine distance using a Lambda layer\n",
    "    def normalized_product(x):\n",
    "        x1, x2 = x\n",
    "        x1_normalized = tf.keras.backend.l2_normalize(x1, axis=1)\n",
    "        x2_normalized = tf.keras.backend.l2_normalize(x2, axis=1)\n",
    "        return x1_normalized * x2_normalized\n",
    "\n",
    "    output = tf.keras.layers.Lambda(normalized_product)([projected_1, projected_2])\n",
    "    output = tf.keras.layers.Dropout(0.1)(output)\n",
    "    output = tf.keras.layers.Dense(\n",
    "        16,\n",
    "        activation=\"relu\",\n",
    "    )(output)\n",
    "    output = tf.keras.layers.Dropout(0.2)(output)\n",
    "    output = tf.keras.layers.Dense(\n",
    "        1,\n",
    "        activation=\"sigmoid\",\n",
    "    )(output)\n",
    "    \n",
    "    output = tf.keras.layers.Lambda(lambda x: x * 5)(output)\n",
    "    \n",
    "    # Define output\n",
    "    model = tf.keras.Model(inputs=[input_1, input_2], outputs=output)\n",
    "\n",
    "    # Compile the model\n",
    "    model.compile(loss='mean_squared_error',\n",
    "                  optimizer=tf.keras.optimizers.Adam(learning_rate))\n",
    "    return model"
   ]
  },
  {
   "cell_type": "code",
   "execution_count": 27,
   "metadata": {},
   "outputs": [],
   "source": [
    "import tensorflow as tf\n",
    "\n",
    "def model_2(\n",
    "    input_length: int = 37,\n",
    "    dictionary_size: int = 1000,\n",
    "    embedding_size: int = 100,\n",
    "    learning_rate: float = 0.01,\n",
    "    pretrained_weights: Optional[np.ndarray] = None,\n",
    "    trainable: bool = False,\n",
    "    use_cosine: bool = False,\n",
    "    l2_regularizer: float = 1e-4,\n",
    ") -> tf.keras.Model:\n",
    "    # Inputs\n",
    "    input_1 = tf.keras.Input((input_length,), dtype=tf.int32)\n",
    "    input_2 = tf.keras.Input((input_length,), dtype=tf.int32)\n",
    "\n",
    "    # Embedding Layer\n",
    "    if pretrained_weights is None:\n",
    "        embedding_layer = tf.keras.layers.Embedding(\n",
    "            dictionary_size, embedding_size, input_length=input_length, mask_zero=True, embeddings_initializer='uniform'\n",
    "        )\n",
    "    else:\n",
    "        embedding_layer = tf.keras.layers.Embedding(\n",
    "            pretrained_weights.shape[0], pretrained_weights.shape[1],  # Ajustar la forma de los embeddings pre-entrenados\n",
    "            input_length=input_length,\n",
    "            mask_zero=True,\n",
    "            embeddings_initializer=tf.keras.initializers.Constant(pretrained_weights),\n",
    "            trainable=trainable,\n",
    "        )\n",
    "\n",
    "    # Embed the inputs\n",
    "    embedded_1 = embedding_layer(input_1)\n",
    "    embedded_2 = embedding_layer(input_2)\n",
    "    # Pass through the embedding layer\n",
    "    _input_mask_1, _input_mask_2 = tf.not_equal(input_1, 0), tf.not_equal(input_2, 0)\n",
    "    \n",
    "    # Attention Mechanism\n",
    "    attention_mlp = tf.keras.Sequential([\n",
    "        tf.keras.layers.Dropout(0.2),\n",
    "        tf.keras.layers.Dense(16, activation='tanh', kernel_regularizer=tf.keras.regularizers.l2(l2_regularizer)),\n",
    "        tf.keras.layers.Dropout(0.2),\n",
    "        tf.keras.layers.Dense(1)\n",
    "    ])\n",
    "    # Apply attention to each embedding\n",
    "    attention_weights_1 = attention_mlp(embedded_1)  \n",
    "    attention_weights_2 = attention_mlp(embedded_2) \n",
    "    # Mask the attention weights\n",
    "    attention_weights_1 = tf.exp(attention_weights_1) * tf.cast(_input_mask_1[:, :, None], tf.float32)\n",
    "    attention_weights_2 = tf.exp(attention_weights_2) * tf.cast(_input_mask_2[:, :, None], tf.float32)\n",
    "    # Normalize attention weights\n",
    "    attention_weights_1 = attention_weights_1 / tf.reduce_sum(attention_weights_1, axis=1, keepdims=True)\n",
    "    attention_weights_2 = attention_weights_2 / tf.reduce_sum(attention_weights_2, axis=1, keepdims=True)\n",
    "    # Compute context vectors\n",
    "    projected_1 = tf.reduce_sum(embedded_1 * attention_weights_1, axis=1) \n",
    "    projected_2 = tf.reduce_sum(embedded_2 * attention_weights_2, axis=1) \n",
    "    \n",
    "    if use_cosine:\n",
    "        # Compute the cosine distance using a Lambda layer\n",
    "        def cosine_distance(x):\n",
    "            x1, x2 = x\n",
    "            x1_normalized = tf.keras.backend.l2_normalize(x1, axis=1)\n",
    "            x2_normalized = tf.keras.backend.l2_normalize(x2, axis=1)\n",
    "            return 2.5 * (1.0 + tf.reduce_sum(x1_normalized * x2_normalized, axis=1))\n",
    "        output = tf.keras.layers.Lambda(cosine_distance)([projected_1, projected_2])\n",
    "    else:\n",
    "        # Compute the cosine distance using a Lambda layer\n",
    "        def normalized_product(x):\n",
    "            x1, x2 = x\n",
    "            x1_normalized = tf.keras.backend.l2_normalize(x1, axis=1)\n",
    "            x2_normalized = tf.keras.backend.l2_normalize(x2, axis=1)\n",
    "            return x1_normalized * x2_normalized\n",
    "    \n",
    "        output = tf.keras.layers.Lambda(normalized_product)([projected_1, projected_2])\n",
    "        output = tf.keras.layers.Dropout(0.1)(output)\n",
    "        output = tf.keras.layers.Dense(\n",
    "            16,\n",
    "            activation=\"relu\",\n",
    "            kernel_regularizer=tf.keras.regularizers.l2(l2_regularizer)\n",
    "        )(output)\n",
    "        output = tf.keras.layers.Dropout(0.2)(output)\n",
    "        output = tf.keras.layers.Dense(\n",
    "            1,\n",
    "            activation=\"sigmoid\",\n",
    "        )(output)\n",
    "        \n",
    "        output = tf.keras.layers.Lambda(lambda x: x * 5)(output)\n",
    "        \n",
    "    # Model Definition\n",
    "    model = tf.keras.Model(inputs=(input_1, input_2), outputs=output)\n",
    "    model.compile(\n",
    "        loss=\"mean_squared_error\", optimizer=tf.keras.optimizers.Adam(learning_rate=learning_rate)\n",
    "    )\n",
    "    return model\n"
   ]
  },
  {
   "cell_type": "markdown",
   "metadata": {},
   "source": [
    "## Diferents models de Word Embeddings"
   ]
  },
  {
   "cell_type": "markdown",
   "metadata": {},
   "source": [
    "### One Hot"
   ]
  },
  {
   "cell_type": "code",
   "execution_count": 28,
   "metadata": {},
   "outputs": [],
   "source": [
    "import re\n",
    "from nltk.tokenize import word_tokenize\n",
    "from nltk.corpus import stopwords\n",
    "from tensorflow.keras.preprocessing.text import one_hot\n",
    "from tensorflow.keras.preprocessing.sequence import pad_sequences"
   ]
  },
  {
   "cell_type": "code",
   "execution_count": 29,
   "metadata": {},
   "outputs": [
    {
     "name": "stdout",
     "output_type": "stream",
     "text": [
      "Epoch 1/50\n",
      "32/32 [==============================] - 2s 20ms/step - loss: 0.8300 - val_loss: 0.8093\n",
      "Epoch 2/50\n",
      "32/32 [==============================] - 0s 14ms/step - loss: 0.7048 - val_loss: 1.0448\n",
      "Epoch 3/50\n",
      "32/32 [==============================] - 0s 14ms/step - loss: 0.4929 - val_loss: 0.9730\n",
      "Epoch 4/50\n",
      "32/32 [==============================] - 0s 14ms/step - loss: 0.2454 - val_loss: 0.9781\n",
      "Epoch 5/50\n",
      "32/32 [==============================] - 0s 14ms/step - loss: 0.2292 - val_loss: 0.9541\n",
      "Epoch 6/50\n",
      "32/32 [==============================] - 0s 14ms/step - loss: 0.1744 - val_loss: 0.9781\n",
      "Epoch 7/50\n",
      "32/32 [==============================] - 0s 14ms/step - loss: 0.1120 - val_loss: 0.9451\n",
      "Epoch 8/50\n",
      "32/32 [==============================] - 0s 15ms/step - loss: 0.0841 - val_loss: 0.9730\n",
      "Epoch 9/50\n",
      "32/32 [==============================] - 0s 14ms/step - loss: 0.0734 - val_loss: 0.9686\n",
      "Epoch 10/50\n",
      "32/32 [==============================] - 0s 15ms/step - loss: 0.0593 - val_loss: 0.9683\n",
      "Epoch 11/50\n",
      "32/32 [==============================] - 0s 15ms/step - loss: 0.0594 - val_loss: 0.9680\n",
      "Epoch 12/50\n",
      "32/32 [==============================] - 0s 14ms/step - loss: 0.0477 - val_loss: 0.9497\n",
      "Epoch 13/50\n",
      "32/32 [==============================] - 0s 13ms/step - loss: 0.0434 - val_loss: 0.9639\n",
      "Epoch 14/50\n",
      "32/32 [==============================] - 0s 14ms/step - loss: 0.0457 - val_loss: 0.9724\n",
      "Epoch 15/50\n",
      "32/32 [==============================] - 0s 14ms/step - loss: 0.0352 - val_loss: 0.9854\n",
      "Epoch 16/50\n",
      "32/32 [==============================] - 0s 15ms/step - loss: 0.0353 - val_loss: 0.9761\n",
      "Epoch 17/50\n",
      "32/32 [==============================] - 0s 15ms/step - loss: 0.0402 - val_loss: 0.9769\n",
      "Epoch 18/50\n",
      "32/32 [==============================] - 0s 15ms/step - loss: 0.0445 - val_loss: 0.9702\n",
      "Epoch 19/50\n",
      "32/32 [==============================] - 0s 15ms/step - loss: 0.0400 - val_loss: 0.9703\n",
      "Epoch 20/50\n",
      "32/32 [==============================] - 0s 14ms/step - loss: 0.0366 - val_loss: 0.9629\n",
      "Epoch 21/50\n",
      "32/32 [==============================] - 0s 14ms/step - loss: 0.0379 - val_loss: 0.9698\n",
      "Epoch 22/50\n",
      "32/32 [==============================] - 0s 14ms/step - loss: 0.0367 - val_loss: 0.9722\n",
      "Epoch 23/50\n",
      "32/32 [==============================] - 0s 14ms/step - loss: 0.0313 - val_loss: 0.9637\n",
      "Epoch 24/50\n",
      "32/32 [==============================] - 0s 14ms/step - loss: 0.0376 - val_loss: 0.9881\n",
      "Epoch 25/50\n",
      "32/32 [==============================] - 0s 14ms/step - loss: 0.0307 - val_loss: 0.9694\n",
      "Epoch 26/50\n",
      "32/32 [==============================] - 0s 14ms/step - loss: 0.0313 - val_loss: 0.9803\n",
      "Epoch 27/50\n",
      "32/32 [==============================] - 0s 15ms/step - loss: 0.0316 - val_loss: 1.0123\n",
      "Epoch 28/50\n",
      "32/32 [==============================] - 0s 14ms/step - loss: 0.0310 - val_loss: 0.9854\n",
      "Epoch 29/50\n",
      "32/32 [==============================] - 0s 15ms/step - loss: 0.0309 - val_loss: 0.9835\n",
      "Epoch 30/50\n",
      "32/32 [==============================] - 0s 14ms/step - loss: 0.0316 - val_loss: 0.9896\n",
      "Epoch 31/50\n",
      "32/32 [==============================] - 0s 14ms/step - loss: 0.0270 - val_loss: 0.9868\n",
      "Epoch 32/50\n",
      "32/32 [==============================] - 0s 14ms/step - loss: 0.0283 - val_loss: 0.9920\n",
      "Epoch 33/50\n",
      "32/32 [==============================] - 0s 15ms/step - loss: 0.0245 - val_loss: 0.9844\n",
      "Epoch 34/50\n",
      "32/32 [==============================] - 0s 15ms/step - loss: 0.0276 - val_loss: 0.9918\n",
      "Epoch 35/50\n",
      "32/32 [==============================] - 0s 14ms/step - loss: 0.0267 - val_loss: 0.9892\n",
      "Epoch 36/50\n",
      "32/32 [==============================] - 0s 14ms/step - loss: 0.0262 - val_loss: 0.9841\n",
      "Epoch 37/50\n",
      "32/32 [==============================] - 0s 14ms/step - loss: 0.0267 - val_loss: 0.9753\n",
      "Epoch 38/50\n",
      "32/32 [==============================] - 0s 14ms/step - loss: 0.0294 - val_loss: 0.9687\n",
      "Epoch 39/50\n",
      "32/32 [==============================] - 0s 14ms/step - loss: 0.0257 - val_loss: 0.9754\n",
      "Epoch 40/50\n",
      "32/32 [==============================] - 0s 13ms/step - loss: 0.0256 - val_loss: 0.9758\n",
      "Epoch 41/50\n",
      "32/32 [==============================] - 0s 14ms/step - loss: 0.0260 - val_loss: 0.9869\n",
      "Epoch 42/50\n",
      "32/32 [==============================] - 0s 15ms/step - loss: 0.0277 - val_loss: 0.9808\n",
      "Epoch 43/50\n",
      "32/32 [==============================] - 0s 14ms/step - loss: 0.0285 - val_loss: 0.9942\n",
      "Epoch 44/50\n",
      "32/32 [==============================] - 0s 14ms/step - loss: 0.0273 - val_loss: 0.9728\n",
      "Epoch 45/50\n",
      "32/32 [==============================] - 0s 14ms/step - loss: 0.0257 - val_loss: 0.9951\n",
      "Epoch 46/50\n",
      "32/32 [==============================] - 0s 14ms/step - loss: 0.0286 - val_loss: 0.9846\n",
      "Epoch 47/50\n",
      "32/32 [==============================] - 0s 14ms/step - loss: 0.0270 - val_loss: 0.9914\n",
      "Epoch 48/50\n",
      "32/32 [==============================] - 0s 14ms/step - loss: 0.0269 - val_loss: 0.9684\n",
      "Epoch 49/50\n",
      "32/32 [==============================] - 0s 14ms/step - loss: 0.0244 - val_loss: 0.9990\n",
      "Epoch 50/50\n",
      "32/32 [==============================] - 0s 14ms/step - loss: 0.0230 - val_loss: 0.9757\n"
     ]
    }
   ],
   "source": [
    "# Calcula el número de muestras de entrenamiento y validación\n",
    "num_train_samples = len(input_pairs)\n",
    "num_val_samples = len(input_pairs_val)\n",
    "num_test_samples = len(input_pairs_test)\n",
    "\n",
    "# Combina las muestras de entrenamiento y validación para procesarlas juntas\n",
    "all_input_pairs = input_pairs + input_pairs_val + input_pairs_test\n",
    "\n",
    "# Preprocesamiento de todas las oraciones y construcción del vocabulario\n",
    "preprocessed_sentences = [preprocess_text(pair[0]) + preprocess_text(pair[1]) for pair in all_input_pairs]\n",
    "vocab = set([word for sentence in preprocessed_sentences for word in sentence])\n",
    "vocab_size = len(vocab)\n",
    "\n",
    "# Codificación one-hot de cada oración preprocesada\n",
    "encoded_sentences = [one_hot(' '.join(sentence), vocab_size) for sentence in preprocessed_sentences]\n",
    "\n",
    "# Obtener la longitud máxima de las secuencias codificadas\n",
    "max_seq_length = max(len(seq) for seq in encoded_sentences)\n",
    "\n",
    "# Rellenar las secuencias codificadas para que todas tengan la misma longitud\n",
    "padded_encoded_sentences = pad_sequences(encoded_sentences, maxlen=max_seq_length)\n",
    "\n",
    "# Dividir los pares de entrada nuevamente\n",
    "train_encoded_pairs = [\n",
    "    (padded_encoded_sentences[i], padded_encoded_sentences[i + num_train_samples], label)\n",
    "    for i, (_, _, label) in enumerate(input_pairs)\n",
    "    if i + num_train_samples < len(padded_encoded_sentences)\n",
    "]\n",
    "\n",
    "val_encoded_pairs = [\n",
    "    (padded_encoded_sentences[i], padded_encoded_sentences[i + num_val_samples], label)\n",
    "    for i, (_, _, label) in enumerate(input_pairs_val)\n",
    "    if i + num_val_samples < len(padded_encoded_sentences)\n",
    "]\n",
    "\n",
    "test_encoded_pairs = [\n",
    "    (padded_encoded_sentences[i], padded_encoded_sentences[i + num_test_samples], label)\n",
    "    for i, (_, _, label) in enumerate(input_pairs_test)\n",
    "    if i + num_test_samples < len(padded_encoded_sentences)\n",
    "]\n",
    "\n",
    "# Entrenar el modelo con los datos codificados en one-hot\n",
    "model = model_2(dictionary_size=vocab_size, input_length=max_seq_length, use_cosine=True)\n",
    "\n",
    "# Entrenar el modelo\n",
    "history = model.fit(\n",
    "    x=[np.array([pair[0] for pair in train_encoded_pairs]), np.array([pair[1] for pair in train_encoded_pairs])],\n",
    "    y=np.array([pair[2] for pair in train_encoded_pairs]),\n",
    "    validation_data=(\n",
    "        [np.array([pair[0] for pair in val_encoded_pairs]), np.array([pair[1] for pair in val_encoded_pairs])],\n",
    "        np.array([pair[2] for pair in val_encoded_pairs]),\n",
    "    ),\n",
    "    epochs=50,  # Ajustar según sea necesario\n",
    "    batch_size=32,  # Ajustar según sea necesario\n",
    "    verbose=1\n",
    ")\n"
   ]
  },
  {
   "cell_type": "markdown",
   "metadata": {},
   "source": [
    "L'entrenament del model està molt sobreajustat, ja que la loss del conjunt d'entrenament a la que arriba és de gairebé 0, mentres que la loss del conjunt de validació a la que arriba és de gairebé 1, deixant d'aquesta manera una diferència molt notòria entre el conjunt de test i el de validació."
   ]
  },
  {
   "cell_type": "code",
   "execution_count": 30,
   "metadata": {},
   "outputs": [
    {
     "name": "stdout",
     "output_type": "stream",
     "text": [
      "16/16 [==============================] - 0s 2ms/step\n",
      "Coeficiente de determinación (R^2) en el conjunto de prueba: -0.2745535267284387\n",
      "\n",
      "Error cuadrático medio (MSE): 0.9623000786934015\n"
     ]
    }
   ],
   "source": [
    "from sklearn.metrics import mean_squared_error, r2_score\n",
    "\n",
    "\n",
    "# Obtener las predicciones del modelo en el conjunto de prueba\n",
    "predictions = model.predict(x=[np.array([pair[0] for pair in test_encoded_pairs]), np.array([pair[1] for pair in test_encoded_pairs])], verbose=1)\n",
    "\n",
    "# Calcular el coeficiente de determinación (R^2)\n",
    "r2 = r2_score(np.array([pair[2] for pair in test_encoded_pairs]), predictions)\n",
    "\n",
    "print(\"Coeficiente de determinación (R^2) en el conjunto de prueba:\", r2)\n",
    "\n",
    "mse = mean_squared_error(np.array([pair[2] for pair in test_encoded_pairs]), predictions)\n",
    "print(\"\\nError cuadrático medio (MSE):\", mse)\n"
   ]
  },
  {
   "cell_type": "markdown",
   "metadata": {},
   "source": [
    "Com havíem mencionat anteriorment, el model al estar tan sobreajustat no funciona bé amb dades no vistes i per tant el R2_score dona negatiu. Indicant que el model prediu els valors pitjor que predint només amb la mitjana."
   ]
  },
  {
   "cell_type": "markdown",
   "metadata": {},
   "source": [
    "### Model Word2Vec"
   ]
  },
  {
   "cell_type": "markdown",
   "metadata": {},
   "source": [
    "Realitzem el model de regressio amb els embeddings dels models Word2Vec + Mean i + Mean Ponderada."
   ]
  },
  {
   "cell_type": "markdown",
   "metadata": {},
   "source": [
    "#### Word2Vec + Mean "
   ]
  },
  {
   "cell_type": "code",
   "execution_count": 31,
   "metadata": {},
   "outputs": [
    {
     "name": "stdout",
     "output_type": "stream",
     "text": [
      "Entrenant model 100MB\n",
      "\n",
      "Correlación de Pearson (baseline-train): 0.34132889471710465\n",
      "Correlación de Pearson (baseline-validation): 0.2878746083296036\n",
      "Correlación de Pearson (baseline-test): 0.40315940546719736\n",
      "\n",
      "65/65 [==============================] - 0s 951us/step\n",
      "Correlación de Pearson (train): 0.9726040743395692\n",
      "16/16 [==============================] - 0s 901us/step\n",
      "Correlación de Pearson (validation): 0.24693219167955727\n",
      "16/16 [==============================] - 0s 931us/step\n",
      "Correlación de Pearson (test): 0.3190721192769009\n",
      "\n",
      "\n",
      "Entrenant model 500MB\n",
      "\n",
      "Correlación de Pearson (baseline-train): 0.452860546989999\n",
      "Correlación de Pearson (baseline-validation): 0.4618448540799148\n",
      "Correlación de Pearson (baseline-test): 0.5399993029883255\n",
      "\n",
      "65/65 [==============================] - 0s 994us/step\n",
      "Correlación de Pearson (train): 0.961833713815724\n",
      "16/16 [==============================] - 0s 1ms/step\n",
      "Correlación de Pearson (validation): 0.30232934045863735\n",
      "16/16 [==============================] - 0s 1ms/step\n",
      "Correlación de Pearson (test): 0.42399145401646254\n",
      "\n",
      "\n",
      "Entrenant model 1GB\n",
      "\n",
      "Correlación de Pearson (baseline-train): 0.46200113639497536\n",
      "Correlación de Pearson (baseline-validation): 0.4586275065105852\n",
      "Correlación de Pearson (baseline-test): 0.5487582028405382\n",
      "\n",
      "65/65 [==============================] - 0s 966us/step\n",
      "Correlación de Pearson (train): 0.9586826727852165\n",
      "16/16 [==============================] - 0s 935us/step\n",
      "Correlación de Pearson (validation): 0.2648047631776273\n",
      "16/16 [==============================] - 0s 844us/step\n",
      "Correlación de Pearson (test): 0.40809956998363667\n",
      "\n",
      "\n",
      "Entrenant model complet\n",
      "\n",
      "Correlación de Pearson (baseline-train): 0.4545686670182321\n",
      "Correlación de Pearson (baseline-validation): 0.47057408002119083\n",
      "Correlación de Pearson (baseline-test): 0.5268634171857982\n",
      "\n",
      "65/65 [==============================] - 0s 985us/step\n",
      "Correlación de Pearson (train): 0.9560061647009337\n",
      "16/16 [==============================] - 0s 934us/step\n",
      "Correlación de Pearson (validation): 0.2704615477707127\n",
      "16/16 [==============================] - 0s 935us/step\n",
      "Correlación de Pearson (test): 0.41316088942704243\n",
      "\n",
      "\n"
     ]
    }
   ],
   "source": [
    "from scipy.stats import pearsonr\n",
    "\n",
    "def mapp(word2vec, batch_size: int = 64, num_epochs: int = 64):\n",
    "    \n",
    "    # Imprimir los pares de vectores y la puntuación de similitud asociada\n",
    "    mapped = map_pairs(input_pairs, dictionary=diccionario, wv_model=word2vec.wv)\n",
    "    \n",
    "    # Imprimir los pares de vectores y la puntuación de similitud asociada\n",
    "    mapped_train = map_pairs(input_pairs,  dictionary=diccionario, wv_model=word2vec.wv)\n",
    "    mapped_val = map_pairs(input_pairs_val, dictionary=diccionario, wv_model=word2vec.wv)\n",
    "    mapped_test = map_pairs(input_pairs_test, dictionary=diccionario, wv_model=word2vec.wv)\n",
    "\n",
    "    # Obtener las listas de train y test\n",
    "    x_train, y_train = pair_list_to_x_y(mapped_train)\n",
    "    x_val, y_val = pair_list_to_x_y(mapped_val)\n",
    "\n",
    "    # Preparar los conjuntos de datos de entrenamiento y validación\n",
    "    train_dataset = tf.data.Dataset.from_tensor_slices((x_train, y_train))\n",
    "    train_dataset = train_dataset.shuffle(buffer_size=len(x_train)).batch(batch_size)\n",
    "\n",
    "    val_dataset = tf.data.Dataset.from_tensor_slices((x_val, y_val))\n",
    "    val_dataset = val_dataset.batch(batch_size)\n",
    "    \n",
    "    model = build_and_compile_model_better(embedding_size=word2vec.vector_size)\n",
    "    \n",
    "    model.fit(train_dataset, epochs=num_epochs, validation_data=val_dataset, verbose=0)\n",
    "    \n",
    "    from scipy.stats import pearsonr\n",
    "    x_test, y_test = pair_list_to_x_y(mapped_test)\n",
    "    \n",
    "    # Baseline\n",
    "    def compute_pearson_baseline(x_, y_):\n",
    "        y_pred_baseline = []\n",
    "        for v1, v2 in zip(*x_):\n",
    "            d = 1.0 - spatial.distance.cosine(v1, v2)\n",
    "            y_pred_baseline.append(d)\n",
    "        # Calcular la correlación de Pearson entre las predicciones y los datos de prueba\n",
    "        correlation, _ = pearsonr(y_pred_baseline, y_.flatten())\n",
    "        return correlation\n",
    "    \n",
    "    # Imprimir el coeficiente de correlación de Pearson\n",
    "    print(f\"Correlación de Pearson (baseline-train): {compute_pearson_baseline(x_train, y_train)}\")\n",
    "    print(f\"Correlación de Pearson (baseline-validation): {compute_pearson_baseline(x_val, y_val)}\")\n",
    "    print(f\"Correlación de Pearson (baseline-test): {compute_pearson_baseline(x_test, y_test)}\\n\")\n",
    "    \n",
    "    def compute_pearson(x_, y_):\n",
    "        # Obtener las predicciones del modelo para los datos de prueba. En este ejemplo vamos a utilizar el corpus de training.\n",
    "        y_pred = model.predict(x_)\n",
    "        # Calcular la correlación de Pearson entre las predicciones y los datos de prueba\n",
    "        correlation, _ = pearsonr(y_pred.flatten(), y_.flatten())\n",
    "        return correlation\n",
    "\n",
    "    # Imprimir el coeficiente de correlación de Pearson\n",
    "    print(f\"Correlación de Pearson (train): {compute_pearson(x_train, y_train)}\")\n",
    "    print(f\"Correlación de Pearson (validation): {compute_pearson(x_val, y_val)}\")\n",
    "    print(f\"Correlación de Pearson (test): {compute_pearson(x_test, y_test)}\\n\\n\")\n",
    "\n",
    "for model in ['100MB', '500MB', '1GB', 'complet']:\n",
    "    print(f\"Entrenant model {model}\\n\")\n",
    "    mapp(models[model])"
   ]
  },
  {
   "cell_type": "markdown",
   "metadata": {},
   "source": [
    "Els valors de les Correlacions de Pearson calculats ens indiquen que el model també està molt sobreajustat, amb valors propers al 1 en tots els models pel conjunt de train i amb valors propers a 0.4 per tots els models en els conjunts de test. El model complet obté els millors resultats pel conjunt de test, però la diferència no és gairebé notòria.  "
   ]
  },
  {
   "cell_type": "markdown",
   "metadata": {},
   "source": [
    "#### Word2Vec + Mean Ponderada"
   ]
  },
  {
   "cell_type": "code",
   "execution_count": 48,
   "metadata": {},
   "outputs": [
    {
     "name": "stdout",
     "output_type": "stream",
     "text": [
      "Entrenant model 100MB\n",
      "\n",
      "Correlación de Pearson (baseline-train): 0.3648063022380385\n",
      "Correlación de Pearson (baseline-validation): 0.27936252945628576\n",
      "Correlación de Pearson (baseline-test): 0.3922879849557813\n",
      "\n",
      "65/65 [==============================] - 0s 688us/step\n",
      "Correlación de Pearson (train): 0.97947417844422\n",
      "16/16 [==============================] - 0s 730us/step\n",
      "Correlación de Pearson (validation): 0.2206613558163073\n",
      "16/16 [==============================] - 0s 738us/step\n",
      "Correlación de Pearson (test): 0.36146354618584164\n",
      "\n",
      "\n",
      "Entrenant model 500MB\n",
      "\n",
      "Correlación de Pearson (baseline-train): 0.46535328131056514\n",
      "Correlación de Pearson (baseline-validation): 0.4927845302072769\n",
      "Correlación de Pearson (baseline-test): 0.5245793205439706\n",
      "\n",
      "65/65 [==============================] - 0s 695us/step\n",
      "Correlación de Pearson (train): 0.9708647046487451\n",
      "16/16 [==============================] - 0s 646us/step\n",
      "Correlación de Pearson (validation): 0.2878802680116447\n",
      "16/16 [==============================] - 0s 800us/step\n",
      "Correlación de Pearson (test): 0.36742282696603207\n",
      "\n",
      "\n",
      "Entrenant model 1GB\n",
      "\n",
      "Correlación de Pearson (baseline-train): 0.46755773415503343\n",
      "Correlación de Pearson (baseline-validation): 0.4936641345624569\n",
      "Correlación de Pearson (baseline-test): 0.5349217743711233\n",
      "\n",
      "65/65 [==============================] - 0s 682us/step\n",
      "Correlación de Pearson (train): 0.9681921259961669\n",
      "16/16 [==============================] - 0s 754us/step\n",
      "Correlación de Pearson (validation): 0.3027051033339575\n",
      "16/16 [==============================] - 0s 802us/step\n",
      "Correlación de Pearson (test): 0.40395339710116057\n",
      "\n",
      "\n",
      "Entrenant model complet\n",
      "\n",
      "Correlación de Pearson (baseline-train): 0.4647217994640573\n",
      "Correlación de Pearson (baseline-validation): 0.5084799291222295\n",
      "Correlación de Pearson (baseline-test): 0.5169887263876756\n",
      "\n",
      "65/65 [==============================] - 0s 688us/step\n",
      "Correlación de Pearson (train): 0.965679153420463\n",
      "16/16 [==============================] - 0s 715us/step\n",
      "Correlación de Pearson (validation): 0.2900266178479769\n",
      "16/16 [==============================] - 0s 793us/step\n",
      "Correlación de Pearson (test): 0.3742118760515454\n",
      "\n",
      "\n"
     ]
    }
   ],
   "source": [
    "from scipy.stats import pearsonr\n",
    "\n",
    "def mapp(word2vec, batch_size: int = 64, num_epochs: int = 64):\n",
    "    \n",
    "    # Imprimir los pares de vectores y la puntuación de similitud asociada\n",
    "    mapped = map_pairs(input_pairs, tf_idf_model=modelo_tfidf, dictionary=diccionario, wv_model=word2vec.wv)\n",
    "    \n",
    "    # Imprimir los pares de vectores y la puntuación de similitud asociada\n",
    "    mapped_train = map_pairs(input_pairs,  tf_idf_model=modelo_tfidf, dictionary=diccionario, wv_model=word2vec.wv)\n",
    "    mapped_val = map_pairs(input_pairs_val, tf_idf_model=modelo_tfidf, dictionary=diccionario, wv_model=word2vec.wv)\n",
    "    mapped_test = map_pairs(input_pairs_test, tf_idf_model=modelo_tfidf, dictionary=diccionario, wv_model=word2vec.wv)\n",
    "\n",
    "    # Obtener las listas de train y test\n",
    "    x_train, y_train = pair_list_to_x_y(mapped_train)\n",
    "    x_val, y_val = pair_list_to_x_y(mapped_val)\n",
    "\n",
    "    # Preparar los conjuntos de datos de entrenamiento y validación\n",
    "    train_dataset = tf.data.Dataset.from_tensor_slices((x_train, y_train))\n",
    "    train_dataset = train_dataset.shuffle(buffer_size=len(x_train)).batch(batch_size)\n",
    "\n",
    "    val_dataset = tf.data.Dataset.from_tensor_slices((x_val, y_val))\n",
    "    val_dataset = val_dataset.batch(batch_size)\n",
    "    \n",
    "    model = build_and_compile_model_better(embedding_size=word2vec.vector_size)\n",
    "    \n",
    "    model.fit(train_dataset, epochs=num_epochs, validation_data=val_dataset, verbose=0)\n",
    "    \n",
    "    from scipy.stats import pearsonr\n",
    "    x_test, y_test = pair_list_to_x_y(mapped_test)\n",
    "    \n",
    "    # Baseline\n",
    "    def compute_pearson_baseline(x_, y_):\n",
    "        y_pred_baseline = []\n",
    "        for v1, v2 in zip(*x_):\n",
    "            d = 1.0 - spatial.distance.cosine(v1, v2)\n",
    "            y_pred_baseline.append(d)\n",
    "        # Calcular la correlación de Pearson entre las predicciones y los datos de prueba\n",
    "        correlation, _ = pearsonr(y_pred_baseline, y_.flatten())\n",
    "        return correlation\n",
    "    \n",
    "    # Imprimir el coeficiente de correlación de Pearson\n",
    "    print(f\"Correlación de Pearson (baseline-train): {compute_pearson_baseline(x_train, y_train)}\")\n",
    "    print(f\"Correlación de Pearson (baseline-validation): {compute_pearson_baseline(x_val, y_val)}\")\n",
    "    print(f\"Correlación de Pearson (baseline-test): {compute_pearson_baseline(x_test, y_test)}\\n\")\n",
    "    \n",
    "    def compute_pearson(x_, y_):\n",
    "        # Obtener las predicciones del modelo para los datos de prueba. En este ejemplo vamos a utilizar el corpus de training.\n",
    "        y_pred = model.predict(x_)\n",
    "        # Calcular la correlación de Pearson entre las predicciones y los datos de prueba\n",
    "        correlation, _ = pearsonr(y_pred.flatten(), y_.flatten())\n",
    "        return correlation\n",
    "\n",
    "    # Imprimir el coeficiente de correlación de Pearson\n",
    "    print(f\"Correlación de Pearson (train): {compute_pearson(x_train, y_train)}\")\n",
    "    print(f\"Correlación de Pearson (validation): {compute_pearson(x_val, y_val)}\")\n",
    "    print(f\"Correlación de Pearson (test): {compute_pearson(x_test, y_test)}\\n\\n\")\n",
    "\n",
    "for model in ['100MB', '500MB', '1GB', 'complet']:\n",
    "    print(f\"Entrenant model {model}\\n\")\n",
    "    mapp(models[model])"
   ]
  },
  {
   "cell_type": "markdown",
   "metadata": {},
   "source": [
    "Els resultats segueixen estan sobreajustats i els valors de les correlacions de Pearson són gairebé els mateixos per cadascún dels models."
   ]
  },
  {
   "cell_type": "markdown",
   "metadata": {},
   "source": [
    "#### Word2Vec + Mean amb model de Linear Regression"
   ]
  },
  {
   "cell_type": "markdown",
   "metadata": {},
   "source": [
    "Hem volgut veure com es comporta l'entrenament del model word2vec amb una linear Regression, ja que el model que utilitzem ens dona molts mals resultats. Amb aquest experiment volem comprovar que no es tracta de la definició del model que usem, sinó de la dificultat de fer prediccions amb aquesta incrustació de paraules."
   ]
  },
  {
   "cell_type": "code",
   "execution_count": 19,
   "metadata": {},
   "outputs": [
    {
     "name": "stdout",
     "output_type": "stream",
     "text": [
      "MSE del model de regressió: 0.6825629832324949\n"
     ]
    }
   ],
   "source": [
    "import numpy as np\n",
    "from sklearn.model_selection import train_test_split\n",
    "from sklearn.linear_model import LinearRegression\n",
    "from sklearn.metrics import mean_squared_error\n",
    "\n",
    "# Exemple de preprocessament de text\n",
    "def obtenir_vectores_mean(text, model_word2vec):\n",
    "    tokens = text.split()\n",
    "    vectors = [model_word2vec.wv[word] for word in tokens if word in model_word2vec.wv]\n",
    "    return np.mean(vectors, axis=0) if vectors else np.zeros(model_word2vec.vector_size)\n",
    "\n",
    "# Exemple d'entrenament del model de regressió\n",
    "def entrenar_model_regressio(texts, labels, model_word2vec):\n",
    "    X = np.array([np.concatenate((obtenir_vectores_mean(text1, model_word2vec), obtenir_vectores_mean(text2, model_word2vec))) \n",
    "                  for text1, text2 in texts])\n",
    "    \n",
    "    X_train, X_test, y_train, y_test = train_test_split(X, labels, test_size=0.2)\n",
    "    model = LinearRegression()\n",
    "    model.fit(X_train, y_train)\n",
    "    prediccions = model.predict(X_test)\n",
    "    mse = mean_squared_error(y_test, prediccions)\n",
    "    return model, mse\n",
    "\n",
    "# Entrenar el model de regressió utilitzant un dels models Word2Vec\n",
    "texts =  [(sentence1, sentence2) for sentence1, sentence2, _ in input_pairs] # textos del dataset\n",
    "labels = [label for _, _, label in input_pairs]  # similituds reals\n",
    "model_word2vec = Word2Vec.load(\"model_100MB\") # utilitzar el model Word2Vec entrenat\n",
    "\n",
    "model_regressio, mse = entrenar_model_regressio(texts, labels, model_word2vec)\n",
    "print(f\"MSE del model de regressió: {mse}\")\n"
   ]
  },
  {
   "cell_type": "markdown",
   "metadata": {},
   "source": [
    "Un valor d'MSE de 0.6825629832324949 indica que l'error quadràtic mitjà entre les prediccions del model i els valors reals és relativament alt. Això suggereix que el model de regressió no està fent prediccions molt precises."
   ]
  },
  {
   "cell_type": "code",
   "execution_count": 20,
   "metadata": {},
   "outputs": [
    {
     "name": "stdout",
     "output_type": "stream",
     "text": [
      "Similitud predita: 2.6517136096954346\n"
     ]
    }
   ],
   "source": [
    "# Funció per predir la similitud entre dos textos\n",
    "def predir_similitud(text1, text2, model_regressio, model_word2vec):\n",
    "    vector1 = obtenir_vectores_mean(text1, model_word2vec)\n",
    "    vector2 = obtenir_vectores_mean(text2, model_word2vec)\n",
    "    vector_concat = np.concatenate((vector1, vector2)).reshape(1, -1)\n",
    "    prediccio = model_regressio.predict(vector_concat)\n",
    "    return prediccio[0]\n",
    "\n",
    "# Exemple de predicció\n",
    "text1 = \"Aquest és un text\"\n",
    "text2 = \"Aquest és un altre text\"\n",
    "similitud = predir_similitud(text1, text2, model_regressio, model_word2vec)\n",
    "print(f\"Similitud predita: {similitud}\")\n"
   ]
  },
  {
   "cell_type": "markdown",
   "metadata": {},
   "source": [
    "En aquest exemple hem volgut comprovar que predia el model amb dues frases realment similars per veure quant de malament s'equivoca. Efectivament, la similitud predita hauria de ser més elevada i l'error és bastant gran, predint una valor en el mig de la puntuació màxima per una predicció de gairebé el màxim de la puntuació."
   ]
  },
  {
   "cell_type": "markdown",
   "metadata": {},
   "source": [
    "### 3. spaCy"
   ]
  },
  {
   "cell_type": "code",
   "execution_count": null,
   "metadata": {},
   "outputs": [],
   "source": [
    "!python -m spacy download ca_core_news_md"
   ]
  },
  {
   "cell_type": "code",
   "execution_count": null,
   "metadata": {},
   "outputs": [],
   "source": [
    "import spacy\n",
    "\n",
    "# Cargar el modelo de spaCy\n",
    "nlp = spacy.load('ca_core_news_md')\n",
    "\n",
    "def embeddings_spacy(inputs):\n",
    "    # Lista para almacenar los embeddings de los textos\n",
    "    embeddings = []\n",
    "\n",
    "    # Procesar cada par de textos\n",
    "    for texto1, texto2, _ in inputs:\n",
    "        # Procesar el primer texto\n",
    "        doc1 = nlp(texto1)\n",
    "        # Obtener los embeddings del primer texto\n",
    "        embeddings_texto1 = np.mean([token.vector for token in doc1])\n",
    "        \n",
    "        # Procesar el segundo texto\n",
    "        doc2 = nlp(texto2)\n",
    "        # Obtener los embeddings del segundo texto\n",
    "        embeddings_texto2 = np.mean([token.vector for token in doc2])\n",
    "        \n",
    "        # Agregar los embeddings de ambos textos a la lista\n",
    "        embeddings.append((embeddings_texto1, embeddings_texto2))\n",
    "        \n",
    "    return np.array(embeddings), np.array([label for _, _, label in inputs])\n",
    "\n",
    "#embedding_cjt = {'train': embeddings_spacy(input_pairs), 'val': embeddings_spacy(input_pairs_val), 'test': embeddings_spacy(input_pairs_test)}"
   ]
  },
  {
   "cell_type": "code",
   "execution_count": 78,
   "metadata": {},
   "outputs": [
    {
     "name": "stdout",
     "output_type": "stream",
     "text": [
      "Epoch 1/50\n"
     ]
    },
    {
     "ename": "ValueError",
     "evalue": "in user code:\n\n    File \"c:\\Users\\Usuario\\.pyenv\\pyenv-win\\versions\\3.11.0\\Lib\\site-packages\\keras\\src\\engine\\training.py\", line 1377, in train_function  *\n        return step_function(self, iterator)\n    File \"c:\\Users\\Usuario\\.pyenv\\pyenv-win\\versions\\3.11.0\\Lib\\site-packages\\keras\\src\\engine\\training.py\", line 1360, in step_function  **\n        outputs = model.distribute_strategy.run(run_step, args=(data,))\n    File \"c:\\Users\\Usuario\\.pyenv\\pyenv-win\\versions\\3.11.0\\Lib\\site-packages\\keras\\src\\engine\\training.py\", line 1349, in run_step  **\n        outputs = model.train_step(data)\n    File \"c:\\Users\\Usuario\\.pyenv\\pyenv-win\\versions\\3.11.0\\Lib\\site-packages\\keras\\src\\engine\\training.py\", line 1126, in train_step\n        y_pred = self(x, training=True)\n    File \"c:\\Users\\Usuario\\.pyenv\\pyenv-win\\versions\\3.11.0\\Lib\\site-packages\\keras\\src\\utils\\traceback_utils.py\", line 70, in error_handler\n        raise e.with_traceback(filtered_tb) from None\n\n    ValueError: Exception encountered when calling layer 'tf.__operators__.getitem_35' (type SlicingOpLambda).\n    \n    Index out of range using input dim 1; input has only 1 dims for '{{node model_21/tf.__operators__.getitem_35/strided_slice}} = StridedSlice[Index=DT_INT32, T=DT_BOOL, begin_mask=3, ellipsis_mask=0, end_mask=3, new_axis_mask=4, shrink_axis_mask=0](model_21/tf.math.not_equal_35/NotEqual, model_21/tf.__operators__.getitem_35/strided_slice/stack, model_21/tf.__operators__.getitem_35/strided_slice/stack_1, model_21/tf.__operators__.getitem_35/strided_slice/stack_2)' with input shapes: [?], [3], [3], [3] and with computed input tensors: input[3] = <1 1 1>.\n    \n    Call arguments received by layer 'tf.__operators__.getitem_35' (type SlicingOpLambda):\n      • tensor=tf.Tensor(shape=(None,), dtype=bool)\n      • slice_spec=({'start': 'None', 'stop': 'None', 'step': 'None'}, {'start': 'None', 'stop': 'None', 'step': 'None'}, 'None')\n      • var=None\n",
     "output_type": "error",
     "traceback": [
      "\u001b[1;31m---------------------------------------------------------------------------\u001b[0m",
      "\u001b[1;31mValueError\u001b[0m                                Traceback (most recent call last)",
      "Cell \u001b[1;32mIn[78], line 15\u001b[0m\n\u001b[0;32m      7\u001b[0m model \u001b[38;5;241m=\u001b[39m model_2(\n\u001b[0;32m      8\u001b[0m     input_length\u001b[38;5;241m=\u001b[39mmax_seq_length,\n\u001b[0;32m      9\u001b[0m     dictionary_size\u001b[38;5;241m=\u001b[39m\u001b[38;5;28mlen\u001b[39m(nlp\u001b[38;5;241m.\u001b[39mvocab),\n\u001b[0;32m     10\u001b[0m     embedding_size\u001b[38;5;241m=\u001b[39mnlp\u001b[38;5;241m.\u001b[39mvocab\u001b[38;5;241m.\u001b[39mvectors_length,\n\u001b[0;32m     11\u001b[0m     use_cosine\u001b[38;5;241m=\u001b[39m\u001b[38;5;28;01mTrue\u001b[39;00m\n\u001b[0;32m     12\u001b[0m )\n\u001b[0;32m     14\u001b[0m \u001b[38;5;66;03m# Entrenar el modelo\u001b[39;00m\n\u001b[1;32m---> 15\u001b[0m history \u001b[38;5;241m=\u001b[39m \u001b[43mmodel\u001b[49m\u001b[38;5;241;43m.\u001b[39;49m\u001b[43mfit\u001b[49m\u001b[43m(\u001b[49m\n\u001b[0;32m     16\u001b[0m \u001b[43m    \u001b[49m\u001b[43mx\u001b[49m\u001b[38;5;241;43m=\u001b[39;49m\u001b[43m[\u001b[49m\n\u001b[0;32m     17\u001b[0m \u001b[43m        \u001b[49m\u001b[43mnp\u001b[49m\u001b[38;5;241;43m.\u001b[39;49m\u001b[43marray\u001b[49m\u001b[43m(\u001b[49m\u001b[43m[\u001b[49m\u001b[43mpair\u001b[49m\u001b[43m[\u001b[49m\u001b[38;5;241;43m0\u001b[39;49m\u001b[43m]\u001b[49m\u001b[43m \u001b[49m\u001b[38;5;28;43;01mfor\u001b[39;49;00m\u001b[43m \u001b[49m\u001b[43mpair\u001b[49m\u001b[43m \u001b[49m\u001b[38;5;129;43;01min\u001b[39;49;00m\u001b[43m \u001b[49m\u001b[43mtrain_embeddings\u001b[49m\u001b[43m]\u001b[49m\u001b[43m)\u001b[49m\u001b[43m,\u001b[49m\n\u001b[0;32m     18\u001b[0m \u001b[43m        \u001b[49m\u001b[43mnp\u001b[49m\u001b[38;5;241;43m.\u001b[39;49m\u001b[43marray\u001b[49m\u001b[43m(\u001b[49m\u001b[43m[\u001b[49m\u001b[43mpair\u001b[49m\u001b[43m[\u001b[49m\u001b[38;5;241;43m1\u001b[39;49m\u001b[43m]\u001b[49m\u001b[43m \u001b[49m\u001b[38;5;28;43;01mfor\u001b[39;49;00m\u001b[43m \u001b[49m\u001b[43mpair\u001b[49m\u001b[43m \u001b[49m\u001b[38;5;129;43;01min\u001b[39;49;00m\u001b[43m \u001b[49m\u001b[43mtrain_embeddings\u001b[49m\u001b[43m]\u001b[49m\u001b[43m)\u001b[49m\n\u001b[0;32m     19\u001b[0m \u001b[43m    \u001b[49m\u001b[43m]\u001b[49m\u001b[43m,\u001b[49m\n\u001b[0;32m     20\u001b[0m \u001b[43m    \u001b[49m\u001b[43my\u001b[49m\u001b[38;5;241;43m=\u001b[39;49m\u001b[43mlabels_train\u001b[49m\u001b[43m,\u001b[49m\n\u001b[0;32m     21\u001b[0m \u001b[43m    \u001b[49m\u001b[43mvalidation_data\u001b[49m\u001b[38;5;241;43m=\u001b[39;49m\u001b[43m(\u001b[49m\n\u001b[0;32m     22\u001b[0m \u001b[43m        \u001b[49m\u001b[43m[\u001b[49m\n\u001b[0;32m     23\u001b[0m \u001b[43m            \u001b[49m\u001b[43mnp\u001b[49m\u001b[38;5;241;43m.\u001b[39;49m\u001b[43marray\u001b[49m\u001b[43m(\u001b[49m\u001b[43m[\u001b[49m\u001b[43mpair\u001b[49m\u001b[43m[\u001b[49m\u001b[38;5;241;43m0\u001b[39;49m\u001b[43m]\u001b[49m\u001b[43m \u001b[49m\u001b[38;5;28;43;01mfor\u001b[39;49;00m\u001b[43m \u001b[49m\u001b[43mpair\u001b[49m\u001b[43m \u001b[49m\u001b[38;5;129;43;01min\u001b[39;49;00m\u001b[43m \u001b[49m\u001b[43mval_embeddings\u001b[49m\u001b[43m]\u001b[49m\u001b[43m)\u001b[49m\u001b[43m,\u001b[49m\n\u001b[0;32m     24\u001b[0m \u001b[43m            \u001b[49m\u001b[43mnp\u001b[49m\u001b[38;5;241;43m.\u001b[39;49m\u001b[43marray\u001b[49m\u001b[43m(\u001b[49m\u001b[43m[\u001b[49m\u001b[43mpair\u001b[49m\u001b[43m[\u001b[49m\u001b[38;5;241;43m1\u001b[39;49m\u001b[43m]\u001b[49m\u001b[43m \u001b[49m\u001b[38;5;28;43;01mfor\u001b[39;49;00m\u001b[43m \u001b[49m\u001b[43mpair\u001b[49m\u001b[43m \u001b[49m\u001b[38;5;129;43;01min\u001b[39;49;00m\u001b[43m \u001b[49m\u001b[43mval_embeddings\u001b[49m\u001b[43m]\u001b[49m\u001b[43m)\u001b[49m\n\u001b[0;32m     25\u001b[0m \u001b[43m        \u001b[49m\u001b[43m]\u001b[49m\u001b[43m,\u001b[49m\u001b[43m \u001b[49m\n\u001b[0;32m     26\u001b[0m \u001b[43m        \u001b[49m\u001b[43mlabels_val\u001b[49m\n\u001b[0;32m     27\u001b[0m \u001b[43m    \u001b[49m\u001b[43m)\u001b[49m\u001b[43m,\u001b[49m\n\u001b[0;32m     28\u001b[0m \u001b[43m    \u001b[49m\u001b[43mepochs\u001b[49m\u001b[38;5;241;43m=\u001b[39;49m\u001b[38;5;241;43m50\u001b[39;49m\u001b[43m,\u001b[49m\u001b[43m        \u001b[49m\u001b[38;5;66;43;03m# Número de épocas\u001b[39;49;00m\n\u001b[0;32m     29\u001b[0m \u001b[43m    \u001b[49m\u001b[43mbatch_size\u001b[49m\u001b[38;5;241;43m=\u001b[39;49m\u001b[38;5;241;43m32\u001b[39;49m\u001b[43m,\u001b[49m\u001b[43m    \u001b[49m\u001b[38;5;66;43;03m# Tamaño del lote\u001b[39;49;00m\n\u001b[0;32m     30\u001b[0m \u001b[43m    \u001b[49m\u001b[43mverbose\u001b[49m\u001b[38;5;241;43m=\u001b[39;49m\u001b[38;5;241;43m1\u001b[39;49m\u001b[43m         \u001b[49m\u001b[38;5;66;43;03m# Modo de verbosidad\u001b[39;49;00m\n\u001b[0;32m     31\u001b[0m \u001b[43m)\u001b[49m\n\u001b[0;32m     33\u001b[0m \u001b[38;5;66;03m# Evaluar el rendimiento del modelo\u001b[39;00m\n\u001b[0;32m     34\u001b[0m evaluation \u001b[38;5;241m=\u001b[39m model\u001b[38;5;241m.\u001b[39mevaluate(\n\u001b[0;32m     35\u001b[0m     x\u001b[38;5;241m=\u001b[39m[\n\u001b[0;32m     36\u001b[0m         np\u001b[38;5;241m.\u001b[39marray([pair[\u001b[38;5;241m0\u001b[39m] \u001b[38;5;28;01mfor\u001b[39;00m pair \u001b[38;5;129;01min\u001b[39;00m test_embeddings]),\n\u001b[1;32m   (...)\u001b[0m\n\u001b[0;32m     39\u001b[0m     y\u001b[38;5;241m=\u001b[39mlabels_test  \u001b[38;5;66;03m# Etiquetas de prueba\u001b[39;00m\n\u001b[0;32m     40\u001b[0m )\n",
      "File \u001b[1;32mc:\\Users\\Usuario\\.pyenv\\pyenv-win\\versions\\3.11.0\\Lib\\site-packages\\keras\\src\\utils\\traceback_utils.py:70\u001b[0m, in \u001b[0;36mfilter_traceback.<locals>.error_handler\u001b[1;34m(*args, **kwargs)\u001b[0m\n\u001b[0;32m     67\u001b[0m     filtered_tb \u001b[38;5;241m=\u001b[39m _process_traceback_frames(e\u001b[38;5;241m.\u001b[39m__traceback__)\n\u001b[0;32m     68\u001b[0m     \u001b[38;5;66;03m# To get the full stack trace, call:\u001b[39;00m\n\u001b[0;32m     69\u001b[0m     \u001b[38;5;66;03m# `tf.debugging.disable_traceback_filtering()`\u001b[39;00m\n\u001b[1;32m---> 70\u001b[0m     \u001b[38;5;28;01mraise\u001b[39;00m e\u001b[38;5;241m.\u001b[39mwith_traceback(filtered_tb) \u001b[38;5;28;01mfrom\u001b[39;00m \u001b[38;5;28;01mNone\u001b[39;00m\n\u001b[0;32m     71\u001b[0m \u001b[38;5;28;01mfinally\u001b[39;00m:\n\u001b[0;32m     72\u001b[0m     \u001b[38;5;28;01mdel\u001b[39;00m filtered_tb\n",
      "File \u001b[1;32m~\\AppData\\Local\\Temp\\__autograph_generated_file3zzhydc6.py:15\u001b[0m, in \u001b[0;36mouter_factory.<locals>.inner_factory.<locals>.tf__train_function\u001b[1;34m(iterator)\u001b[0m\n\u001b[0;32m     13\u001b[0m \u001b[38;5;28;01mtry\u001b[39;00m:\n\u001b[0;32m     14\u001b[0m     do_return \u001b[38;5;241m=\u001b[39m \u001b[38;5;28;01mTrue\u001b[39;00m\n\u001b[1;32m---> 15\u001b[0m     retval_ \u001b[38;5;241m=\u001b[39m ag__\u001b[38;5;241m.\u001b[39mconverted_call(ag__\u001b[38;5;241m.\u001b[39mld(step_function), (ag__\u001b[38;5;241m.\u001b[39mld(\u001b[38;5;28mself\u001b[39m), ag__\u001b[38;5;241m.\u001b[39mld(iterator)), \u001b[38;5;28;01mNone\u001b[39;00m, fscope)\n\u001b[0;32m     16\u001b[0m \u001b[38;5;28;01mexcept\u001b[39;00m:\n\u001b[0;32m     17\u001b[0m     do_return \u001b[38;5;241m=\u001b[39m \u001b[38;5;28;01mFalse\u001b[39;00m\n",
      "\u001b[1;31mValueError\u001b[0m: in user code:\n\n    File \"c:\\Users\\Usuario\\.pyenv\\pyenv-win\\versions\\3.11.0\\Lib\\site-packages\\keras\\src\\engine\\training.py\", line 1377, in train_function  *\n        return step_function(self, iterator)\n    File \"c:\\Users\\Usuario\\.pyenv\\pyenv-win\\versions\\3.11.0\\Lib\\site-packages\\keras\\src\\engine\\training.py\", line 1360, in step_function  **\n        outputs = model.distribute_strategy.run(run_step, args=(data,))\n    File \"c:\\Users\\Usuario\\.pyenv\\pyenv-win\\versions\\3.11.0\\Lib\\site-packages\\keras\\src\\engine\\training.py\", line 1349, in run_step  **\n        outputs = model.train_step(data)\n    File \"c:\\Users\\Usuario\\.pyenv\\pyenv-win\\versions\\3.11.0\\Lib\\site-packages\\keras\\src\\engine\\training.py\", line 1126, in train_step\n        y_pred = self(x, training=True)\n    File \"c:\\Users\\Usuario\\.pyenv\\pyenv-win\\versions\\3.11.0\\Lib\\site-packages\\keras\\src\\utils\\traceback_utils.py\", line 70, in error_handler\n        raise e.with_traceback(filtered_tb) from None\n\n    ValueError: Exception encountered when calling layer 'tf.__operators__.getitem_35' (type SlicingOpLambda).\n    \n    Index out of range using input dim 1; input has only 1 dims for '{{node model_21/tf.__operators__.getitem_35/strided_slice}} = StridedSlice[Index=DT_INT32, T=DT_BOOL, begin_mask=3, ellipsis_mask=0, end_mask=3, new_axis_mask=4, shrink_axis_mask=0](model_21/tf.math.not_equal_35/NotEqual, model_21/tf.__operators__.getitem_35/strided_slice/stack, model_21/tf.__operators__.getitem_35/strided_slice/stack_1, model_21/tf.__operators__.getitem_35/strided_slice/stack_2)' with input shapes: [?], [3], [3], [3] and with computed input tensors: input[3] = <1 1 1>.\n    \n    Call arguments received by layer 'tf.__operators__.getitem_35' (type SlicingOpLambda):\n      • tensor=tf.Tensor(shape=(None,), dtype=bool)\n      • slice_spec=({'start': 'None', 'stop': 'None', 'step': 'None'}, {'start': 'None', 'stop': 'None', 'step': 'None'}, 'None')\n      • var=None\n"
     ]
    }
   ],
   "source": [
    "# Obtener los embeddings para cada conjunto de datos\n",
    "train_embeddings, labels_train = embeddings_spacy(input_pairs)\n",
    "val_embeddings, labels_val = embeddings_spacy(input_pairs_val)\n",
    "test_embeddings, labels_test = embeddings_spacy(input_pairs_test)\n",
    "\n",
    "# Definir y entrenar tu modelo con los embeddings de spaCy\n",
    "model = model_2(\n",
    "    input_length=max_seq_length,\n",
    "    dictionary_size=len(nlp.vocab),\n",
    "    embedding_size=nlp.vocab.vectors_length,\n",
    "    use_cosine=True\n",
    ")\n",
    "\n",
    "# Entrenar el modelo\n",
    "history = model.fit(\n",
    "    x=[\n",
    "        np.array([pair[0] for pair in train_embeddings]),\n",
    "        np.array([pair[1] for pair in train_embeddings])\n",
    "    ],\n",
    "    y=labels_train,\n",
    "    validation_data=(\n",
    "        [\n",
    "            np.array([pair[0] for pair in val_embeddings]),\n",
    "            np.array([pair[1] for pair in val_embeddings])\n",
    "        ], \n",
    "        labels_val\n",
    "    ),\n",
    "    epochs=50,        # Número de épocas\n",
    "    batch_size=32,    # Tamaño del lote\n",
    "    verbose=1         # Modo de verbosidad\n",
    ")\n",
    "\n",
    "# Evaluar el rendimiento del modelo\n",
    "evaluation = model.evaluate(\n",
    "    x=[\n",
    "        np.array([pair[0] for pair in test_embeddings]),\n",
    "        np.array([pair[1] for pair in test_embeddings])\n",
    "    ],\n",
    "    y=labels_test  # Etiquetas de prueba\n",
    ")\n",
    "\n",
    "print(\"Rendimiento del modelo con embeddings de spaCy:\")\n",
    "print(\"Loss:\", evaluation[0])\n",
    "print(\"Accuracy:\", evaluation[1])"
   ]
  },
  {
   "cell_type": "code",
   "execution_count": 48,
   "metadata": {},
   "outputs": [
    {
     "name": "stdout",
     "output_type": "stream",
     "text": [
      "Epoch 1/50\n"
     ]
    },
    {
     "ename": "InvalidArgumentError",
     "evalue": "Graph execution error:\n\nDetected at node model_12/embedding_8/embedding_lookup defined at (most recent call last):\n  File \"<frozen runpy>\", line 198, in _run_module_as_main\n\n  File \"<frozen runpy>\", line 88, in _run_code\n\n  File \"c:\\Users\\Usuario\\.pyenv\\pyenv-win\\versions\\3.11.0\\Lib\\site-packages\\ipykernel_launcher.py\", line 17, in <module>\n\n  File \"c:\\Users\\Usuario\\.pyenv\\pyenv-win\\versions\\3.11.0\\Lib\\site-packages\\traitlets\\config\\application.py\", line 1053, in launch_instance\n\n  File \"c:\\Users\\Usuario\\.pyenv\\pyenv-win\\versions\\3.11.0\\Lib\\site-packages\\ipykernel\\kernelapp.py\", line 736, in start\n\n  File \"c:\\Users\\Usuario\\.pyenv\\pyenv-win\\versions\\3.11.0\\Lib\\site-packages\\tornado\\platform\\asyncio.py\", line 195, in start\n\n  File \"c:\\Users\\Usuario\\.pyenv\\pyenv-win\\versions\\3.11.0\\Lib\\asyncio\\base_events.py\", line 604, in run_forever\n\n  File \"c:\\Users\\Usuario\\.pyenv\\pyenv-win\\versions\\3.11.0\\Lib\\asyncio\\base_events.py\", line 1909, in _run_once\n\n  File \"c:\\Users\\Usuario\\.pyenv\\pyenv-win\\versions\\3.11.0\\Lib\\asyncio\\events.py\", line 80, in _run\n\n  File \"c:\\Users\\Usuario\\.pyenv\\pyenv-win\\versions\\3.11.0\\Lib\\site-packages\\ipykernel\\kernelbase.py\", line 516, in dispatch_queue\n\n  File \"c:\\Users\\Usuario\\.pyenv\\pyenv-win\\versions\\3.11.0\\Lib\\site-packages\\ipykernel\\kernelbase.py\", line 505, in process_one\n\n  File \"c:\\Users\\Usuario\\.pyenv\\pyenv-win\\versions\\3.11.0\\Lib\\site-packages\\ipykernel\\kernelbase.py\", line 412, in dispatch_shell\n\n  File \"c:\\Users\\Usuario\\.pyenv\\pyenv-win\\versions\\3.11.0\\Lib\\site-packages\\ipykernel\\kernelbase.py\", line 740, in execute_request\n\n  File \"c:\\Users\\Usuario\\.pyenv\\pyenv-win\\versions\\3.11.0\\Lib\\site-packages\\ipykernel\\ipkernel.py\", line 422, in do_execute\n\n  File \"c:\\Users\\Usuario\\.pyenv\\pyenv-win\\versions\\3.11.0\\Lib\\site-packages\\ipykernel\\zmqshell.py\", line 546, in run_cell\n\n  File \"c:\\Users\\Usuario\\.pyenv\\pyenv-win\\versions\\3.11.0\\Lib\\site-packages\\IPython\\core\\interactiveshell.py\", line 3024, in run_cell\n\n  File \"c:\\Users\\Usuario\\.pyenv\\pyenv-win\\versions\\3.11.0\\Lib\\site-packages\\IPython\\core\\interactiveshell.py\", line 3079, in _run_cell\n\n  File \"c:\\Users\\Usuario\\.pyenv\\pyenv-win\\versions\\3.11.0\\Lib\\site-packages\\IPython\\core\\async_helpers.py\", line 129, in _pseudo_sync_runner\n\n  File \"c:\\Users\\Usuario\\.pyenv\\pyenv-win\\versions\\3.11.0\\Lib\\site-packages\\IPython\\core\\interactiveshell.py\", line 3284, in run_cell_async\n\n  File \"c:\\Users\\Usuario\\.pyenv\\pyenv-win\\versions\\3.11.0\\Lib\\site-packages\\IPython\\core\\interactiveshell.py\", line 3466, in run_ast_nodes\n\n  File \"c:\\Users\\Usuario\\.pyenv\\pyenv-win\\versions\\3.11.0\\Lib\\site-packages\\IPython\\core\\interactiveshell.py\", line 3526, in run_code\n\n  File \"C:\\Users\\Usuario\\AppData\\Local\\Temp\\ipykernel_26732\\4034928751.py\", line 36, in <module>\n\n  File \"c:\\Users\\Usuario\\.pyenv\\pyenv-win\\versions\\3.11.0\\Lib\\site-packages\\keras\\src\\utils\\traceback_utils.py\", line 65, in error_handler\n\n  File \"c:\\Users\\Usuario\\.pyenv\\pyenv-win\\versions\\3.11.0\\Lib\\site-packages\\keras\\src\\engine\\training.py\", line 1783, in fit\n\n  File \"c:\\Users\\Usuario\\.pyenv\\pyenv-win\\versions\\3.11.0\\Lib\\site-packages\\keras\\src\\engine\\training.py\", line 1377, in train_function\n\n  File \"c:\\Users\\Usuario\\.pyenv\\pyenv-win\\versions\\3.11.0\\Lib\\site-packages\\keras\\src\\engine\\training.py\", line 1360, in step_function\n\n  File \"c:\\Users\\Usuario\\.pyenv\\pyenv-win\\versions\\3.11.0\\Lib\\site-packages\\keras\\src\\engine\\training.py\", line 1349, in run_step\n\n  File \"c:\\Users\\Usuario\\.pyenv\\pyenv-win\\versions\\3.11.0\\Lib\\site-packages\\keras\\src\\engine\\training.py\", line 1126, in train_step\n\n  File \"c:\\Users\\Usuario\\.pyenv\\pyenv-win\\versions\\3.11.0\\Lib\\site-packages\\keras\\src\\utils\\traceback_utils.py\", line 65, in error_handler\n\n  File \"c:\\Users\\Usuario\\.pyenv\\pyenv-win\\versions\\3.11.0\\Lib\\site-packages\\keras\\src\\engine\\training.py\", line 589, in __call__\n\n  File \"c:\\Users\\Usuario\\.pyenv\\pyenv-win\\versions\\3.11.0\\Lib\\site-packages\\keras\\src\\utils\\traceback_utils.py\", line 65, in error_handler\n\n  File \"c:\\Users\\Usuario\\.pyenv\\pyenv-win\\versions\\3.11.0\\Lib\\site-packages\\keras\\src\\engine\\base_layer.py\", line 1149, in __call__\n\n  File \"c:\\Users\\Usuario\\.pyenv\\pyenv-win\\versions\\3.11.0\\Lib\\site-packages\\keras\\src\\utils\\traceback_utils.py\", line 96, in error_handler\n\n  File \"c:\\Users\\Usuario\\.pyenv\\pyenv-win\\versions\\3.11.0\\Lib\\site-packages\\keras\\src\\engine\\functional.py\", line 515, in call\n\n  File \"c:\\Users\\Usuario\\.pyenv\\pyenv-win\\versions\\3.11.0\\Lib\\site-packages\\keras\\src\\engine\\functional.py\", line 672, in _run_internal_graph\n\n  File \"c:\\Users\\Usuario\\.pyenv\\pyenv-win\\versions\\3.11.0\\Lib\\site-packages\\keras\\src\\utils\\traceback_utils.py\", line 65, in error_handler\n\n  File \"c:\\Users\\Usuario\\.pyenv\\pyenv-win\\versions\\3.11.0\\Lib\\site-packages\\keras\\src\\engine\\base_layer.py\", line 1149, in __call__\n\n  File \"c:\\Users\\Usuario\\.pyenv\\pyenv-win\\versions\\3.11.0\\Lib\\site-packages\\keras\\src\\utils\\traceback_utils.py\", line 96, in error_handler\n\n  File \"c:\\Users\\Usuario\\.pyenv\\pyenv-win\\versions\\3.11.0\\Lib\\site-packages\\keras\\src\\layers\\core\\embedding.py\", line 272, in call\n\nindices[27,7] = -1 is not in [0, 14222)\n\t [[{{node model_12/embedding_8/embedding_lookup}}]] [Op:__inference_train_function_76649]",
     "output_type": "error",
     "traceback": [
      "\u001b[1;31m---------------------------------------------------------------------------\u001b[0m",
      "\u001b[1;31mInvalidArgumentError\u001b[0m                      Traceback (most recent call last)",
      "Cell \u001b[1;32mIn[48], line 36\u001b[0m\n\u001b[0;32m     29\u001b[0m \u001b[38;5;66;03m# Definir y entrenar tu modelo con los embeddings de spaCy\u001b[39;00m\n\u001b[0;32m     30\u001b[0m model \u001b[38;5;241m=\u001b[39m model_2(\n\u001b[0;32m     31\u001b[0m     input_length\u001b[38;5;241m=\u001b[39mmax_seq_length,\n\u001b[0;32m     32\u001b[0m     dictionary_size\u001b[38;5;241m=\u001b[39m\u001b[38;5;28mlen\u001b[39m(nlp_md\u001b[38;5;241m.\u001b[39mvocab),\n\u001b[0;32m     33\u001b[0m     embedding_size\u001b[38;5;241m=\u001b[39mnlp_md\u001b[38;5;241m.\u001b[39mvocab\u001b[38;5;241m.\u001b[39mvectors_length,\n\u001b[0;32m     34\u001b[0m     use_cosine\u001b[38;5;241m=\u001b[39m\u001b[38;5;28;01mTrue\u001b[39;00m\n\u001b[0;32m     35\u001b[0m )\n\u001b[1;32m---> 36\u001b[0m history \u001b[38;5;241m=\u001b[39m \u001b[43mmodel\u001b[49m\u001b[38;5;241;43m.\u001b[39;49m\u001b[43mfit\u001b[49m\u001b[43m(\u001b[49m\n\u001b[0;32m     37\u001b[0m \u001b[43m    \u001b[49m\u001b[43mx\u001b[49m\u001b[38;5;241;43m=\u001b[39;49m\u001b[43m[\u001b[49m\n\u001b[0;32m     38\u001b[0m \u001b[43m        \u001b[49m\u001b[43mnp\u001b[49m\u001b[38;5;241;43m.\u001b[39;49m\u001b[43marray\u001b[49m\u001b[43m(\u001b[49m\u001b[43m[\u001b[49m\u001b[43mpair\u001b[49m\u001b[43m[\u001b[49m\u001b[38;5;241;43m0\u001b[39;49m\u001b[43m]\u001b[49m\u001b[43m \u001b[49m\u001b[38;5;28;43;01mfor\u001b[39;49;00m\u001b[43m \u001b[49m\u001b[43mpair\u001b[49m\u001b[43m \u001b[49m\u001b[38;5;129;43;01min\u001b[39;49;00m\u001b[43m \u001b[49m\u001b[43mtrain_embeddings_pairs\u001b[49m\u001b[43m]\u001b[49m\u001b[43m)\u001b[49m\u001b[43m,\u001b[49m\n\u001b[0;32m     39\u001b[0m \u001b[43m        \u001b[49m\u001b[43mnp\u001b[49m\u001b[38;5;241;43m.\u001b[39;49m\u001b[43marray\u001b[49m\u001b[43m(\u001b[49m\u001b[43m[\u001b[49m\u001b[43mpair\u001b[49m\u001b[43m[\u001b[49m\u001b[38;5;241;43m1\u001b[39;49m\u001b[43m]\u001b[49m\u001b[43m \u001b[49m\u001b[38;5;28;43;01mfor\u001b[39;49;00m\u001b[43m \u001b[49m\u001b[43mpair\u001b[49m\u001b[43m \u001b[49m\u001b[38;5;129;43;01min\u001b[39;49;00m\u001b[43m \u001b[49m\u001b[43mtrain_embeddings_pairs\u001b[49m\u001b[43m]\u001b[49m\u001b[43m)\u001b[49m\n\u001b[0;32m     40\u001b[0m \u001b[43m    \u001b[49m\u001b[43m]\u001b[49m\u001b[43m,\u001b[49m\n\u001b[0;32m     41\u001b[0m \u001b[43m    \u001b[49m\u001b[43my\u001b[49m\u001b[38;5;241;43m=\u001b[39;49m\u001b[43mnp\u001b[49m\u001b[38;5;241;43m.\u001b[39;49m\u001b[43marray\u001b[49m\u001b[43m(\u001b[49m\u001b[43m[\u001b[49m\u001b[43mpair\u001b[49m\u001b[43m[\u001b[49m\u001b[38;5;241;43m2\u001b[39;49m\u001b[43m]\u001b[49m\u001b[43m \u001b[49m\u001b[38;5;28;43;01mfor\u001b[39;49;00m\u001b[43m \u001b[49m\u001b[43mpair\u001b[49m\u001b[43m \u001b[49m\u001b[38;5;129;43;01min\u001b[39;49;00m\u001b[43m \u001b[49m\u001b[43mtrain_embeddings_pairs\u001b[49m\u001b[43m]\u001b[49m\u001b[43m)\u001b[49m\u001b[43m,\u001b[49m\n\u001b[0;32m     42\u001b[0m \u001b[43m    \u001b[49m\u001b[43mvalidation_data\u001b[49m\u001b[38;5;241;43m=\u001b[39;49m\u001b[43m(\u001b[49m\n\u001b[0;32m     43\u001b[0m \u001b[43m        \u001b[49m\u001b[43m[\u001b[49m\n\u001b[0;32m     44\u001b[0m \u001b[43m            \u001b[49m\u001b[43mnp\u001b[49m\u001b[38;5;241;43m.\u001b[39;49m\u001b[43marray\u001b[49m\u001b[43m(\u001b[49m\u001b[43m[\u001b[49m\u001b[43mpair\u001b[49m\u001b[43m[\u001b[49m\u001b[38;5;241;43m0\u001b[39;49m\u001b[43m]\u001b[49m\u001b[43m \u001b[49m\u001b[38;5;28;43;01mfor\u001b[39;49;00m\u001b[43m \u001b[49m\u001b[43mpair\u001b[49m\u001b[43m \u001b[49m\u001b[38;5;129;43;01min\u001b[39;49;00m\u001b[43m \u001b[49m\u001b[43mval_embeddings_pairs\u001b[49m\u001b[43m]\u001b[49m\u001b[43m)\u001b[49m\u001b[43m,\u001b[49m\n\u001b[0;32m     45\u001b[0m \u001b[43m            \u001b[49m\u001b[43mnp\u001b[49m\u001b[38;5;241;43m.\u001b[39;49m\u001b[43marray\u001b[49m\u001b[43m(\u001b[49m\u001b[43m[\u001b[49m\u001b[43mpair\u001b[49m\u001b[43m[\u001b[49m\u001b[38;5;241;43m1\u001b[39;49m\u001b[43m]\u001b[49m\u001b[43m \u001b[49m\u001b[38;5;28;43;01mfor\u001b[39;49;00m\u001b[43m \u001b[49m\u001b[43mpair\u001b[49m\u001b[43m \u001b[49m\u001b[38;5;129;43;01min\u001b[39;49;00m\u001b[43m \u001b[49m\u001b[43mval_embeddings_pairs\u001b[49m\u001b[43m]\u001b[49m\u001b[43m)\u001b[49m\n\u001b[0;32m     46\u001b[0m \u001b[43m        \u001b[49m\u001b[43m]\u001b[49m\u001b[43m,\u001b[49m\n\u001b[0;32m     47\u001b[0m \u001b[43m        \u001b[49m\u001b[43mnp\u001b[49m\u001b[38;5;241;43m.\u001b[39;49m\u001b[43marray\u001b[49m\u001b[43m(\u001b[49m\u001b[43m[\u001b[49m\u001b[43mpair\u001b[49m\u001b[43m[\u001b[49m\u001b[38;5;241;43m2\u001b[39;49m\u001b[43m]\u001b[49m\u001b[43m \u001b[49m\u001b[38;5;28;43;01mfor\u001b[39;49;00m\u001b[43m \u001b[49m\u001b[43mpair\u001b[49m\u001b[43m \u001b[49m\u001b[38;5;129;43;01min\u001b[39;49;00m\u001b[43m \u001b[49m\u001b[43mval_embeddings_pairs\u001b[49m\u001b[43m]\u001b[49m\u001b[43m)\u001b[49m\n\u001b[0;32m     48\u001b[0m \u001b[43m    \u001b[49m\u001b[43m)\u001b[49m\u001b[43m,\u001b[49m\n\u001b[0;32m     49\u001b[0m \u001b[43m    \u001b[49m\u001b[43mepochs\u001b[49m\u001b[38;5;241;43m=\u001b[39;49m\u001b[38;5;241;43m50\u001b[39;49m\u001b[43m,\u001b[49m\n\u001b[0;32m     50\u001b[0m \u001b[43m    \u001b[49m\u001b[43mbatch_size\u001b[49m\u001b[38;5;241;43m=\u001b[39;49m\u001b[38;5;241;43m32\u001b[39;49m\u001b[43m,\u001b[49m\n\u001b[0;32m     51\u001b[0m \u001b[43m    \u001b[49m\u001b[43mverbose\u001b[49m\u001b[38;5;241;43m=\u001b[39;49m\u001b[38;5;241;43m1\u001b[39;49m\n\u001b[0;32m     52\u001b[0m \u001b[43m)\u001b[49m\n\u001b[0;32m     54\u001b[0m \u001b[38;5;66;03m# Evaluar el rendimiento del modelo\u001b[39;00m\n\u001b[0;32m     55\u001b[0m evaluation \u001b[38;5;241m=\u001b[39m model\u001b[38;5;241m.\u001b[39mevaluate(\n\u001b[0;32m     56\u001b[0m     x\u001b[38;5;241m=\u001b[39m[\n\u001b[0;32m     57\u001b[0m         np\u001b[38;5;241m.\u001b[39marray([pair[\u001b[38;5;241m0\u001b[39m] \u001b[38;5;28;01mfor\u001b[39;00m pair \u001b[38;5;129;01min\u001b[39;00m val_embeddings_pairs]),\n\u001b[1;32m   (...)\u001b[0m\n\u001b[0;32m     60\u001b[0m     y\u001b[38;5;241m=\u001b[39mnp\u001b[38;5;241m.\u001b[39marray([pair[\u001b[38;5;241m2\u001b[39m] \u001b[38;5;28;01mfor\u001b[39;00m pair \u001b[38;5;129;01min\u001b[39;00m val_embeddings_pairs])\n\u001b[0;32m     61\u001b[0m )\n",
      "File \u001b[1;32mc:\\Users\\Usuario\\.pyenv\\pyenv-win\\versions\\3.11.0\\Lib\\site-packages\\keras\\src\\utils\\traceback_utils.py:70\u001b[0m, in \u001b[0;36mfilter_traceback.<locals>.error_handler\u001b[1;34m(*args, **kwargs)\u001b[0m\n\u001b[0;32m     67\u001b[0m     filtered_tb \u001b[38;5;241m=\u001b[39m _process_traceback_frames(e\u001b[38;5;241m.\u001b[39m__traceback__)\n\u001b[0;32m     68\u001b[0m     \u001b[38;5;66;03m# To get the full stack trace, call:\u001b[39;00m\n\u001b[0;32m     69\u001b[0m     \u001b[38;5;66;03m# `tf.debugging.disable_traceback_filtering()`\u001b[39;00m\n\u001b[1;32m---> 70\u001b[0m     \u001b[38;5;28;01mraise\u001b[39;00m e\u001b[38;5;241m.\u001b[39mwith_traceback(filtered_tb) \u001b[38;5;28;01mfrom\u001b[39;00m \u001b[38;5;28;01mNone\u001b[39;00m\n\u001b[0;32m     71\u001b[0m \u001b[38;5;28;01mfinally\u001b[39;00m:\n\u001b[0;32m     72\u001b[0m     \u001b[38;5;28;01mdel\u001b[39;00m filtered_tb\n",
      "File \u001b[1;32mc:\\Users\\Usuario\\.pyenv\\pyenv-win\\versions\\3.11.0\\Lib\\site-packages\\tensorflow\\python\\eager\\execute.py:60\u001b[0m, in \u001b[0;36mquick_execute\u001b[1;34m(op_name, num_outputs, inputs, attrs, ctx, name)\u001b[0m\n\u001b[0;32m     53\u001b[0m   \u001b[38;5;66;03m# Convert any objects of type core_types.Tensor to Tensor.\u001b[39;00m\n\u001b[0;32m     54\u001b[0m   inputs \u001b[38;5;241m=\u001b[39m [\n\u001b[0;32m     55\u001b[0m       tensor_conversion_registry\u001b[38;5;241m.\u001b[39mconvert(t)\n\u001b[0;32m     56\u001b[0m       \u001b[38;5;28;01mif\u001b[39;00m \u001b[38;5;28misinstance\u001b[39m(t, core_types\u001b[38;5;241m.\u001b[39mTensor)\n\u001b[0;32m     57\u001b[0m       \u001b[38;5;28;01melse\u001b[39;00m t\n\u001b[0;32m     58\u001b[0m       \u001b[38;5;28;01mfor\u001b[39;00m t \u001b[38;5;129;01min\u001b[39;00m inputs\n\u001b[0;32m     59\u001b[0m   ]\n\u001b[1;32m---> 60\u001b[0m   tensors \u001b[38;5;241m=\u001b[39m pywrap_tfe\u001b[38;5;241m.\u001b[39mTFE_Py_Execute(ctx\u001b[38;5;241m.\u001b[39m_handle, device_name, op_name,\n\u001b[0;32m     61\u001b[0m                                       inputs, attrs, num_outputs)\n\u001b[0;32m     62\u001b[0m \u001b[38;5;28;01mexcept\u001b[39;00m core\u001b[38;5;241m.\u001b[39m_NotOkStatusException \u001b[38;5;28;01mas\u001b[39;00m e:\n\u001b[0;32m     63\u001b[0m   \u001b[38;5;28;01mif\u001b[39;00m name \u001b[38;5;129;01mis\u001b[39;00m \u001b[38;5;129;01mnot\u001b[39;00m \u001b[38;5;28;01mNone\u001b[39;00m:\n",
      "\u001b[1;31mInvalidArgumentError\u001b[0m: Graph execution error:\n\nDetected at node model_12/embedding_8/embedding_lookup defined at (most recent call last):\n  File \"<frozen runpy>\", line 198, in _run_module_as_main\n\n  File \"<frozen runpy>\", line 88, in _run_code\n\n  File \"c:\\Users\\Usuario\\.pyenv\\pyenv-win\\versions\\3.11.0\\Lib\\site-packages\\ipykernel_launcher.py\", line 17, in <module>\n\n  File \"c:\\Users\\Usuario\\.pyenv\\pyenv-win\\versions\\3.11.0\\Lib\\site-packages\\traitlets\\config\\application.py\", line 1053, in launch_instance\n\n  File \"c:\\Users\\Usuario\\.pyenv\\pyenv-win\\versions\\3.11.0\\Lib\\site-packages\\ipykernel\\kernelapp.py\", line 736, in start\n\n  File \"c:\\Users\\Usuario\\.pyenv\\pyenv-win\\versions\\3.11.0\\Lib\\site-packages\\tornado\\platform\\asyncio.py\", line 195, in start\n\n  File \"c:\\Users\\Usuario\\.pyenv\\pyenv-win\\versions\\3.11.0\\Lib\\asyncio\\base_events.py\", line 604, in run_forever\n\n  File \"c:\\Users\\Usuario\\.pyenv\\pyenv-win\\versions\\3.11.0\\Lib\\asyncio\\base_events.py\", line 1909, in _run_once\n\n  File \"c:\\Users\\Usuario\\.pyenv\\pyenv-win\\versions\\3.11.0\\Lib\\asyncio\\events.py\", line 80, in _run\n\n  File \"c:\\Users\\Usuario\\.pyenv\\pyenv-win\\versions\\3.11.0\\Lib\\site-packages\\ipykernel\\kernelbase.py\", line 516, in dispatch_queue\n\n  File \"c:\\Users\\Usuario\\.pyenv\\pyenv-win\\versions\\3.11.0\\Lib\\site-packages\\ipykernel\\kernelbase.py\", line 505, in process_one\n\n  File \"c:\\Users\\Usuario\\.pyenv\\pyenv-win\\versions\\3.11.0\\Lib\\site-packages\\ipykernel\\kernelbase.py\", line 412, in dispatch_shell\n\n  File \"c:\\Users\\Usuario\\.pyenv\\pyenv-win\\versions\\3.11.0\\Lib\\site-packages\\ipykernel\\kernelbase.py\", line 740, in execute_request\n\n  File \"c:\\Users\\Usuario\\.pyenv\\pyenv-win\\versions\\3.11.0\\Lib\\site-packages\\ipykernel\\ipkernel.py\", line 422, in do_execute\n\n  File \"c:\\Users\\Usuario\\.pyenv\\pyenv-win\\versions\\3.11.0\\Lib\\site-packages\\ipykernel\\zmqshell.py\", line 546, in run_cell\n\n  File \"c:\\Users\\Usuario\\.pyenv\\pyenv-win\\versions\\3.11.0\\Lib\\site-packages\\IPython\\core\\interactiveshell.py\", line 3024, in run_cell\n\n  File \"c:\\Users\\Usuario\\.pyenv\\pyenv-win\\versions\\3.11.0\\Lib\\site-packages\\IPython\\core\\interactiveshell.py\", line 3079, in _run_cell\n\n  File \"c:\\Users\\Usuario\\.pyenv\\pyenv-win\\versions\\3.11.0\\Lib\\site-packages\\IPython\\core\\async_helpers.py\", line 129, in _pseudo_sync_runner\n\n  File \"c:\\Users\\Usuario\\.pyenv\\pyenv-win\\versions\\3.11.0\\Lib\\site-packages\\IPython\\core\\interactiveshell.py\", line 3284, in run_cell_async\n\n  File \"c:\\Users\\Usuario\\.pyenv\\pyenv-win\\versions\\3.11.0\\Lib\\site-packages\\IPython\\core\\interactiveshell.py\", line 3466, in run_ast_nodes\n\n  File \"c:\\Users\\Usuario\\.pyenv\\pyenv-win\\versions\\3.11.0\\Lib\\site-packages\\IPython\\core\\interactiveshell.py\", line 3526, in run_code\n\n  File \"C:\\Users\\Usuario\\AppData\\Local\\Temp\\ipykernel_26732\\4034928751.py\", line 36, in <module>\n\n  File \"c:\\Users\\Usuario\\.pyenv\\pyenv-win\\versions\\3.11.0\\Lib\\site-packages\\keras\\src\\utils\\traceback_utils.py\", line 65, in error_handler\n\n  File \"c:\\Users\\Usuario\\.pyenv\\pyenv-win\\versions\\3.11.0\\Lib\\site-packages\\keras\\src\\engine\\training.py\", line 1783, in fit\n\n  File \"c:\\Users\\Usuario\\.pyenv\\pyenv-win\\versions\\3.11.0\\Lib\\site-packages\\keras\\src\\engine\\training.py\", line 1377, in train_function\n\n  File \"c:\\Users\\Usuario\\.pyenv\\pyenv-win\\versions\\3.11.0\\Lib\\site-packages\\keras\\src\\engine\\training.py\", line 1360, in step_function\n\n  File \"c:\\Users\\Usuario\\.pyenv\\pyenv-win\\versions\\3.11.0\\Lib\\site-packages\\keras\\src\\engine\\training.py\", line 1349, in run_step\n\n  File \"c:\\Users\\Usuario\\.pyenv\\pyenv-win\\versions\\3.11.0\\Lib\\site-packages\\keras\\src\\engine\\training.py\", line 1126, in train_step\n\n  File \"c:\\Users\\Usuario\\.pyenv\\pyenv-win\\versions\\3.11.0\\Lib\\site-packages\\keras\\src\\utils\\traceback_utils.py\", line 65, in error_handler\n\n  File \"c:\\Users\\Usuario\\.pyenv\\pyenv-win\\versions\\3.11.0\\Lib\\site-packages\\keras\\src\\engine\\training.py\", line 589, in __call__\n\n  File \"c:\\Users\\Usuario\\.pyenv\\pyenv-win\\versions\\3.11.0\\Lib\\site-packages\\keras\\src\\utils\\traceback_utils.py\", line 65, in error_handler\n\n  File \"c:\\Users\\Usuario\\.pyenv\\pyenv-win\\versions\\3.11.0\\Lib\\site-packages\\keras\\src\\engine\\base_layer.py\", line 1149, in __call__\n\n  File \"c:\\Users\\Usuario\\.pyenv\\pyenv-win\\versions\\3.11.0\\Lib\\site-packages\\keras\\src\\utils\\traceback_utils.py\", line 96, in error_handler\n\n  File \"c:\\Users\\Usuario\\.pyenv\\pyenv-win\\versions\\3.11.0\\Lib\\site-packages\\keras\\src\\engine\\functional.py\", line 515, in call\n\n  File \"c:\\Users\\Usuario\\.pyenv\\pyenv-win\\versions\\3.11.0\\Lib\\site-packages\\keras\\src\\engine\\functional.py\", line 672, in _run_internal_graph\n\n  File \"c:\\Users\\Usuario\\.pyenv\\pyenv-win\\versions\\3.11.0\\Lib\\site-packages\\keras\\src\\utils\\traceback_utils.py\", line 65, in error_handler\n\n  File \"c:\\Users\\Usuario\\.pyenv\\pyenv-win\\versions\\3.11.0\\Lib\\site-packages\\keras\\src\\engine\\base_layer.py\", line 1149, in __call__\n\n  File \"c:\\Users\\Usuario\\.pyenv\\pyenv-win\\versions\\3.11.0\\Lib\\site-packages\\keras\\src\\utils\\traceback_utils.py\", line 96, in error_handler\n\n  File \"c:\\Users\\Usuario\\.pyenv\\pyenv-win\\versions\\3.11.0\\Lib\\site-packages\\keras\\src\\layers\\core\\embedding.py\", line 272, in call\n\nindices[27,7] = -1 is not in [0, 14222)\n\t [[{{node model_12/embedding_8/embedding_lookup}}]] [Op:__inference_train_function_76649]"
     ]
    }
   ],
   "source": [
    "import spacy\n",
    "\n",
    "# Cargar el modelo de spaCy\n",
    "nlp_md = spacy.load('ca_core_news_md')\n",
    "\n",
    "# Procesar las oraciones con spaCy para obtener los embeddings\n",
    "embeddings_md = []\n",
    "for sentence in preprocessed_sentences:\n",
    "    doc = nlp_md(' '.join(sentence))\n",
    "    sentence_embedding = np.mean([token.vector for token in doc], axis=0)\n",
    "    embeddings_md.append(sentence_embedding)\n",
    "\n",
    "# Convertir la lista de embeddings en un array de NumPy\n",
    "embeddings_array_md = np.array(embeddings_md)\n",
    "\n",
    "# Dividir los pares de entrada nuevamente\n",
    "train_embeddings_pairs = [\n",
    "    (embeddings_array_md[i], embeddings_array_md[i + num_train_samples], label)\n",
    "    for i, (_, _, label) in enumerate(input_pairs)\n",
    "    if i + num_train_samples < len(embeddings_array_md)\n",
    "]\n",
    "\n",
    "val_embeddings_pairs = [\n",
    "    (embeddings_array_md[i], embeddings_array_md[i + num_val_samples], label)\n",
    "    for i, (_, _, label) in enumerate(input_pairs_val)\n",
    "    if i + num_val_samples < len(embeddings_array_md)\n",
    "]\n",
    "\n",
    "# Definir y entrenar tu modelo con los embeddings de spaCy\n",
    "model = model_2(\n",
    "    input_length=max_seq_length,\n",
    "    dictionary_size=len(nlp_md.vocab),\n",
    "    embedding_size=nlp_md.vocab.vectors_length,\n",
    "    use_cosine=True\n",
    ")\n",
    "history = model.fit(\n",
    "    x=[\n",
    "        np.array([pair[0] for pair in train_embeddings_pairs]),\n",
    "        np.array([pair[1] for pair in train_embeddings_pairs])\n",
    "    ],\n",
    "    y=np.array([pair[2] for pair in train_embeddings_pairs]),\n",
    "    validation_data=(\n",
    "        [\n",
    "            np.array([pair[0] for pair in val_embeddings_pairs]),\n",
    "            np.array([pair[1] for pair in val_embeddings_pairs])\n",
    "        ],\n",
    "        np.array([pair[2] for pair in val_embeddings_pairs])\n",
    "    ),\n",
    "    epochs=50,\n",
    "    batch_size=32,\n",
    "    verbose=1\n",
    ")\n",
    "\n",
    "# Evaluar el rendimiento del modelo\n",
    "evaluation = model.evaluate(\n",
    "    x=[\n",
    "        np.array([pair[0] for pair in val_embeddings_pairs]),\n",
    "        np.array([pair[1] for pair in val_embeddings_pairs])\n",
    "    ],\n",
    "    y=np.array([pair[2] for pair in val_embeddings_pairs])\n",
    ")\n",
    "\n",
    "print(\"Rendimiento del modelo con embeddings de spaCy:\")\n",
    "print(\"Loss:\", evaluation[0])\n",
    "print(\"Accuracy:\", evaluation[1])\n"
   ]
  },
  {
   "cell_type": "code",
   "execution_count": 32,
   "metadata": {},
   "outputs": [],
   "source": [
    "import spacy\n",
    "import numpy as np\n",
    "\n",
    "# Cargar el modelo de spaCy\n",
    "nlp_md = spacy.load('ca_core_news_md')\n",
    "\n",
    "# Procesar las oraciones con spaCy para obtener los embeddings\n",
    "embeddings_md = []\n",
    "for sentence in preprocessed_sentences:\n",
    "    # Procesar la oración con spaCy\n",
    "    doc = nlp_md(' '.join(sentence))\n",
    "    # Obtener el embedding de la oración como el promedio de los embeddings de las palabras\n",
    "    sentence_embedding = np.mean([token.vector for token in doc], axis=0)\n",
    "    embeddings_md.append(sentence_embedding)\n",
    "\n",
    "# Convertir la lista de embeddings en un array de NumPy\n",
    "embeddings_array_md = np.array(embeddings_md)\n",
    "\n",
    "# Dividir los pares de entrada nuevamente\n",
    "train_embeddings_pairs = [\n",
    "    (embeddings_array_md[i], embeddings_array_md[i + num_train_samples], label)\n",
    "    for i, (_, _, label) in enumerate(input_pairs)\n",
    "    if i + num_train_samples < len(embeddings_array_md)\n",
    "]\n",
    "\n",
    "val_embeddings_pairs = [\n",
    "    (embeddings_array_md[i], embeddings_array_md[i + num_val_samples], label)\n",
    "    for i, (_, _, label) in enumerate(input_pairs_val)\n",
    "    if i + num_val_samples < len(embeddings_array_md)\n",
    "]\n",
    "\n",
    "max_seq_length = max(len(seq) for seq in embeddings_md)"
   ]
  },
  {
   "cell_type": "code",
   "execution_count": 35,
   "metadata": {},
   "outputs": [
    {
     "name": "stdout",
     "output_type": "stream",
     "text": [
      "Tamaño del diccionario: 14222\n"
     ]
    }
   ],
   "source": [
    "# Obtener el tamaño del vocabulario del modelo de spaCy\n",
    "vocab_size = len(nlp_md.vocab)\n",
    "\n",
    "print(\"Tamaño del diccionario:\", vocab_size)\n"
   ]
  },
  {
   "cell_type": "code",
   "execution_count": null,
   "metadata": {},
   "outputs": [],
   "source": [
    "# Entrenar el modelo con los embeddings\n",
    "model = model_2(dictionary_size=20000000, input_length=max_seq_length, use_cosine=True)  # El input_dim debe ser la dimensión del embedding\n",
    "history = model.fit(\n",
    "    x=[np.array([pair[0] for pair in train_embeddings_pairs]), np.array([pair[1] for pair in train_embeddings_pairs])],\n",
    "    y=np.array([pair[2] for pair in train_embeddings_pairs]),\n",
    "    validation_data=(\n",
    "        [np.array([pair[0] for pair in val_embeddings_pairs]), np.array([pair[1] for pair in val_embeddings_pairs])],\n",
    "        np.array([pair[2] for pair in val_embeddings_pairs]),\n",
    "    ),\n",
    "    epochs=50,  # Ajustar según sea necesario\n",
    "    batch_size=32,  # Ajustar según sea necesario\n",
    "    verbose=1\n",
    ")\n"
   ]
  },
  {
   "cell_type": "markdown",
   "metadata": {},
   "source": [
    "### 4.RoBERTa"
   ]
  },
  {
   "cell_type": "code",
   "execution_count": null,
   "metadata": {},
   "outputs": [],
   "source": [
    "!python -m spacy download ca_core_news_trf"
   ]
  },
  {
   "cell_type": "code",
   "execution_count": 50,
   "metadata": {},
   "outputs": [
    {
     "ename": "ValueError",
     "evalue": "[E002] Can't find factory for 'curated_transformer' for language Catalan (ca). This usually happens when spaCy calls `nlp.create_pipe` with a custom component name that's not registered on the current language class. If you're using a custom component, make sure you've added the decorator `@Language.component` (for function components) or `@Language.factory` (for class components).\n\nAvailable factories: attribute_ruler, tok2vec, merge_noun_chunks, merge_entities, merge_subtokens, token_splitter, doc_cleaner, parser, beam_parser, lemmatizer, trainable_lemmatizer, entity_linker, entity_ruler, tagger, morphologizer, ner, beam_ner, senter, sentencizer, spancat, spancat_singlelabel, span_finder, future_entity_ruler, span_ruler, textcat, textcat_multilabel, ca.lemmatizer",
     "output_type": "error",
     "traceback": [
      "\u001b[1;31m---------------------------------------------------------------------------\u001b[0m",
      "\u001b[1;31mValueError\u001b[0m                                Traceback (most recent call last)",
      "Cell \u001b[1;32mIn[50], line 4\u001b[0m\n\u001b[0;32m      1\u001b[0m \u001b[38;5;28;01mimport\u001b[39;00m \u001b[38;5;21;01mspacy\u001b[39;00m\n\u001b[0;32m      3\u001b[0m \u001b[38;5;66;03m# Cargar el modelo de spaCy\u001b[39;00m\n\u001b[1;32m----> 4\u001b[0m nlp \u001b[38;5;241m=\u001b[39m \u001b[43mspacy\u001b[49m\u001b[38;5;241;43m.\u001b[39;49m\u001b[43mload\u001b[49m\u001b[43m(\u001b[49m\u001b[38;5;124;43m'\u001b[39;49m\u001b[38;5;124;43mca_core_news_trf\u001b[39;49m\u001b[38;5;124;43m'\u001b[39;49m\u001b[43m)\u001b[49m\n\u001b[0;32m      6\u001b[0m \u001b[38;5;66;03m# Procesar el texto\u001b[39;00m\n\u001b[0;32m      7\u001b[0m text \u001b[38;5;241m=\u001b[39m \u001b[38;5;124m\"\u001b[39m\u001b[38;5;124mTu texto aquí\u001b[39m\u001b[38;5;124m\"\u001b[39m\n",
      "File \u001b[1;32mc:\\Users\\Usuario\\.pyenv\\pyenv-win\\versions\\3.11.0\\Lib\\site-packages\\spacy\\__init__.py:51\u001b[0m, in \u001b[0;36mload\u001b[1;34m(name, vocab, disable, enable, exclude, config)\u001b[0m\n\u001b[0;32m     27\u001b[0m \u001b[38;5;28;01mdef\u001b[39;00m \u001b[38;5;21mload\u001b[39m(\n\u001b[0;32m     28\u001b[0m     name: Union[\u001b[38;5;28mstr\u001b[39m, Path],\n\u001b[0;32m     29\u001b[0m     \u001b[38;5;241m*\u001b[39m,\n\u001b[1;32m   (...)\u001b[0m\n\u001b[0;32m     34\u001b[0m     config: Union[Dict[\u001b[38;5;28mstr\u001b[39m, Any], Config] \u001b[38;5;241m=\u001b[39m util\u001b[38;5;241m.\u001b[39mSimpleFrozenDict(),\n\u001b[0;32m     35\u001b[0m ) \u001b[38;5;241m-\u001b[39m\u001b[38;5;241m>\u001b[39m Language:\n\u001b[0;32m     36\u001b[0m \u001b[38;5;250m    \u001b[39m\u001b[38;5;124;03m\"\"\"Load a spaCy model from an installed package or a local path.\u001b[39;00m\n\u001b[0;32m     37\u001b[0m \n\u001b[0;32m     38\u001b[0m \u001b[38;5;124;03m    name (str): Package name or model path.\u001b[39;00m\n\u001b[1;32m   (...)\u001b[0m\n\u001b[0;32m     49\u001b[0m \u001b[38;5;124;03m    RETURNS (Language): The loaded nlp object.\u001b[39;00m\n\u001b[0;32m     50\u001b[0m \u001b[38;5;124;03m    \"\"\"\u001b[39;00m\n\u001b[1;32m---> 51\u001b[0m     \u001b[38;5;28;01mreturn\u001b[39;00m \u001b[43mutil\u001b[49m\u001b[38;5;241;43m.\u001b[39;49m\u001b[43mload_model\u001b[49m\u001b[43m(\u001b[49m\n\u001b[0;32m     52\u001b[0m \u001b[43m        \u001b[49m\u001b[43mname\u001b[49m\u001b[43m,\u001b[49m\n\u001b[0;32m     53\u001b[0m \u001b[43m        \u001b[49m\u001b[43mvocab\u001b[49m\u001b[38;5;241;43m=\u001b[39;49m\u001b[43mvocab\u001b[49m\u001b[43m,\u001b[49m\n\u001b[0;32m     54\u001b[0m \u001b[43m        \u001b[49m\u001b[43mdisable\u001b[49m\u001b[38;5;241;43m=\u001b[39;49m\u001b[43mdisable\u001b[49m\u001b[43m,\u001b[49m\n\u001b[0;32m     55\u001b[0m \u001b[43m        \u001b[49m\u001b[43menable\u001b[49m\u001b[38;5;241;43m=\u001b[39;49m\u001b[43menable\u001b[49m\u001b[43m,\u001b[49m\n\u001b[0;32m     56\u001b[0m \u001b[43m        \u001b[49m\u001b[43mexclude\u001b[49m\u001b[38;5;241;43m=\u001b[39;49m\u001b[43mexclude\u001b[49m\u001b[43m,\u001b[49m\n\u001b[0;32m     57\u001b[0m \u001b[43m        \u001b[49m\u001b[43mconfig\u001b[49m\u001b[38;5;241;43m=\u001b[39;49m\u001b[43mconfig\u001b[49m\u001b[43m,\u001b[49m\n\u001b[0;32m     58\u001b[0m \u001b[43m    \u001b[49m\u001b[43m)\u001b[49m\n",
      "File \u001b[1;32mc:\\Users\\Usuario\\.pyenv\\pyenv-win\\versions\\3.11.0\\Lib\\site-packages\\spacy\\util.py:465\u001b[0m, in \u001b[0;36mload_model\u001b[1;34m(name, vocab, disable, enable, exclude, config)\u001b[0m\n\u001b[0;32m    463\u001b[0m     \u001b[38;5;28;01mreturn\u001b[39;00m get_lang_class(name\u001b[38;5;241m.\u001b[39mreplace(\u001b[38;5;124m\"\u001b[39m\u001b[38;5;124mblank:\u001b[39m\u001b[38;5;124m\"\u001b[39m, \u001b[38;5;124m\"\u001b[39m\u001b[38;5;124m\"\u001b[39m))()\n\u001b[0;32m    464\u001b[0m \u001b[38;5;28;01mif\u001b[39;00m is_package(name):  \u001b[38;5;66;03m# installed as package\u001b[39;00m\n\u001b[1;32m--> 465\u001b[0m     \u001b[38;5;28;01mreturn\u001b[39;00m \u001b[43mload_model_from_package\u001b[49m\u001b[43m(\u001b[49m\u001b[43mname\u001b[49m\u001b[43m,\u001b[49m\u001b[43m \u001b[49m\u001b[38;5;241;43m*\u001b[39;49m\u001b[38;5;241;43m*\u001b[39;49m\u001b[43mkwargs\u001b[49m\u001b[43m)\u001b[49m  \u001b[38;5;66;03m# type: ignore[arg-type]\u001b[39;00m\n\u001b[0;32m    466\u001b[0m \u001b[38;5;28;01mif\u001b[39;00m Path(name)\u001b[38;5;241m.\u001b[39mexists():  \u001b[38;5;66;03m# path to model data directory\u001b[39;00m\n\u001b[0;32m    467\u001b[0m     \u001b[38;5;28;01mreturn\u001b[39;00m load_model_from_path(Path(name), \u001b[38;5;241m*\u001b[39m\u001b[38;5;241m*\u001b[39mkwargs)  \u001b[38;5;66;03m# type: ignore[arg-type]\u001b[39;00m\n",
      "File \u001b[1;32mc:\\Users\\Usuario\\.pyenv\\pyenv-win\\versions\\3.11.0\\Lib\\site-packages\\spacy\\util.py:501\u001b[0m, in \u001b[0;36mload_model_from_package\u001b[1;34m(name, vocab, disable, enable, exclude, config)\u001b[0m\n\u001b[0;32m    484\u001b[0m \u001b[38;5;250m\u001b[39m\u001b[38;5;124;03m\"\"\"Load a model from an installed package.\u001b[39;00m\n\u001b[0;32m    485\u001b[0m \n\u001b[0;32m    486\u001b[0m \u001b[38;5;124;03mname (str): The package name.\u001b[39;00m\n\u001b[1;32m   (...)\u001b[0m\n\u001b[0;32m    498\u001b[0m \u001b[38;5;124;03mRETURNS (Language): The loaded nlp object.\u001b[39;00m\n\u001b[0;32m    499\u001b[0m \u001b[38;5;124;03m\"\"\"\u001b[39;00m\n\u001b[0;32m    500\u001b[0m \u001b[38;5;28mcls\u001b[39m \u001b[38;5;241m=\u001b[39m importlib\u001b[38;5;241m.\u001b[39mimport_module(name)\n\u001b[1;32m--> 501\u001b[0m \u001b[38;5;28;01mreturn\u001b[39;00m \u001b[38;5;28;43mcls\u001b[39;49m\u001b[38;5;241;43m.\u001b[39;49m\u001b[43mload\u001b[49m\u001b[43m(\u001b[49m\u001b[43mvocab\u001b[49m\u001b[38;5;241;43m=\u001b[39;49m\u001b[43mvocab\u001b[49m\u001b[43m,\u001b[49m\u001b[43m \u001b[49m\u001b[43mdisable\u001b[49m\u001b[38;5;241;43m=\u001b[39;49m\u001b[43mdisable\u001b[49m\u001b[43m,\u001b[49m\u001b[43m \u001b[49m\u001b[43menable\u001b[49m\u001b[38;5;241;43m=\u001b[39;49m\u001b[43menable\u001b[49m\u001b[43m,\u001b[49m\u001b[43m \u001b[49m\u001b[43mexclude\u001b[49m\u001b[38;5;241;43m=\u001b[39;49m\u001b[43mexclude\u001b[49m\u001b[43m,\u001b[49m\u001b[43m \u001b[49m\u001b[43mconfig\u001b[49m\u001b[38;5;241;43m=\u001b[39;49m\u001b[43mconfig\u001b[49m\u001b[43m)\u001b[49m\n",
      "File \u001b[1;32mc:\\Users\\Usuario\\.pyenv\\pyenv-win\\versions\\3.11.0\\Lib\\site-packages\\ca_core_news_trf\\__init__.py:10\u001b[0m, in \u001b[0;36mload\u001b[1;34m(**overrides)\u001b[0m\n\u001b[0;32m      9\u001b[0m \u001b[38;5;28;01mdef\u001b[39;00m \u001b[38;5;21mload\u001b[39m(\u001b[38;5;241m*\u001b[39m\u001b[38;5;241m*\u001b[39moverrides):\n\u001b[1;32m---> 10\u001b[0m     \u001b[38;5;28;01mreturn\u001b[39;00m \u001b[43mload_model_from_init_py\u001b[49m\u001b[43m(\u001b[49m\u001b[38;5;18;43m__file__\u001b[39;49m\u001b[43m,\u001b[49m\u001b[43m \u001b[49m\u001b[38;5;241;43m*\u001b[39;49m\u001b[38;5;241;43m*\u001b[39;49m\u001b[43moverrides\u001b[49m\u001b[43m)\u001b[49m\n",
      "File \u001b[1;32mc:\\Users\\Usuario\\.pyenv\\pyenv-win\\versions\\3.11.0\\Lib\\site-packages\\spacy\\util.py:682\u001b[0m, in \u001b[0;36mload_model_from_init_py\u001b[1;34m(init_file, vocab, disable, enable, exclude, config)\u001b[0m\n\u001b[0;32m    680\u001b[0m \u001b[38;5;28;01mif\u001b[39;00m \u001b[38;5;129;01mnot\u001b[39;00m model_path\u001b[38;5;241m.\u001b[39mexists():\n\u001b[0;32m    681\u001b[0m     \u001b[38;5;28;01mraise\u001b[39;00m \u001b[38;5;167;01mIOError\u001b[39;00m(Errors\u001b[38;5;241m.\u001b[39mE052\u001b[38;5;241m.\u001b[39mformat(path\u001b[38;5;241m=\u001b[39mdata_path))\n\u001b[1;32m--> 682\u001b[0m \u001b[38;5;28;01mreturn\u001b[39;00m \u001b[43mload_model_from_path\u001b[49m\u001b[43m(\u001b[49m\n\u001b[0;32m    683\u001b[0m \u001b[43m    \u001b[49m\u001b[43mdata_path\u001b[49m\u001b[43m,\u001b[49m\n\u001b[0;32m    684\u001b[0m \u001b[43m    \u001b[49m\u001b[43mvocab\u001b[49m\u001b[38;5;241;43m=\u001b[39;49m\u001b[43mvocab\u001b[49m\u001b[43m,\u001b[49m\n\u001b[0;32m    685\u001b[0m \u001b[43m    \u001b[49m\u001b[43mmeta\u001b[49m\u001b[38;5;241;43m=\u001b[39;49m\u001b[43mmeta\u001b[49m\u001b[43m,\u001b[49m\n\u001b[0;32m    686\u001b[0m \u001b[43m    \u001b[49m\u001b[43mdisable\u001b[49m\u001b[38;5;241;43m=\u001b[39;49m\u001b[43mdisable\u001b[49m\u001b[43m,\u001b[49m\n\u001b[0;32m    687\u001b[0m \u001b[43m    \u001b[49m\u001b[43menable\u001b[49m\u001b[38;5;241;43m=\u001b[39;49m\u001b[43menable\u001b[49m\u001b[43m,\u001b[49m\n\u001b[0;32m    688\u001b[0m \u001b[43m    \u001b[49m\u001b[43mexclude\u001b[49m\u001b[38;5;241;43m=\u001b[39;49m\u001b[43mexclude\u001b[49m\u001b[43m,\u001b[49m\n\u001b[0;32m    689\u001b[0m \u001b[43m    \u001b[49m\u001b[43mconfig\u001b[49m\u001b[38;5;241;43m=\u001b[39;49m\u001b[43mconfig\u001b[49m\u001b[43m,\u001b[49m\n\u001b[0;32m    690\u001b[0m \u001b[43m\u001b[49m\u001b[43m)\u001b[49m\n",
      "File \u001b[1;32mc:\\Users\\Usuario\\.pyenv\\pyenv-win\\versions\\3.11.0\\Lib\\site-packages\\spacy\\util.py:539\u001b[0m, in \u001b[0;36mload_model_from_path\u001b[1;34m(model_path, meta, vocab, disable, enable, exclude, config)\u001b[0m\n\u001b[0;32m    537\u001b[0m overrides \u001b[38;5;241m=\u001b[39m dict_to_dot(config, for_overrides\u001b[38;5;241m=\u001b[39m\u001b[38;5;28;01mTrue\u001b[39;00m)\n\u001b[0;32m    538\u001b[0m config \u001b[38;5;241m=\u001b[39m load_config(config_path, overrides\u001b[38;5;241m=\u001b[39moverrides)\n\u001b[1;32m--> 539\u001b[0m nlp \u001b[38;5;241m=\u001b[39m \u001b[43mload_model_from_config\u001b[49m\u001b[43m(\u001b[49m\n\u001b[0;32m    540\u001b[0m \u001b[43m    \u001b[49m\u001b[43mconfig\u001b[49m\u001b[43m,\u001b[49m\n\u001b[0;32m    541\u001b[0m \u001b[43m    \u001b[49m\u001b[43mvocab\u001b[49m\u001b[38;5;241;43m=\u001b[39;49m\u001b[43mvocab\u001b[49m\u001b[43m,\u001b[49m\n\u001b[0;32m    542\u001b[0m \u001b[43m    \u001b[49m\u001b[43mdisable\u001b[49m\u001b[38;5;241;43m=\u001b[39;49m\u001b[43mdisable\u001b[49m\u001b[43m,\u001b[49m\n\u001b[0;32m    543\u001b[0m \u001b[43m    \u001b[49m\u001b[43menable\u001b[49m\u001b[38;5;241;43m=\u001b[39;49m\u001b[43menable\u001b[49m\u001b[43m,\u001b[49m\n\u001b[0;32m    544\u001b[0m \u001b[43m    \u001b[49m\u001b[43mexclude\u001b[49m\u001b[38;5;241;43m=\u001b[39;49m\u001b[43mexclude\u001b[49m\u001b[43m,\u001b[49m\n\u001b[0;32m    545\u001b[0m \u001b[43m    \u001b[49m\u001b[43mmeta\u001b[49m\u001b[38;5;241;43m=\u001b[39;49m\u001b[43mmeta\u001b[49m\u001b[43m,\u001b[49m\n\u001b[0;32m    546\u001b[0m \u001b[43m\u001b[49m\u001b[43m)\u001b[49m\n\u001b[0;32m    547\u001b[0m \u001b[38;5;28;01mreturn\u001b[39;00m nlp\u001b[38;5;241m.\u001b[39mfrom_disk(model_path, exclude\u001b[38;5;241m=\u001b[39mexclude, overrides\u001b[38;5;241m=\u001b[39moverrides)\n",
      "File \u001b[1;32mc:\\Users\\Usuario\\.pyenv\\pyenv-win\\versions\\3.11.0\\Lib\\site-packages\\spacy\\util.py:587\u001b[0m, in \u001b[0;36mload_model_from_config\u001b[1;34m(config, meta, vocab, disable, enable, exclude, auto_fill, validate)\u001b[0m\n\u001b[0;32m    584\u001b[0m \u001b[38;5;66;03m# This will automatically handle all codes registered via the languages\u001b[39;00m\n\u001b[0;32m    585\u001b[0m \u001b[38;5;66;03m# registry, including custom subclasses provided via entry points\u001b[39;00m\n\u001b[0;32m    586\u001b[0m lang_cls \u001b[38;5;241m=\u001b[39m get_lang_class(nlp_config[\u001b[38;5;124m\"\u001b[39m\u001b[38;5;124mlang\u001b[39m\u001b[38;5;124m\"\u001b[39m])\n\u001b[1;32m--> 587\u001b[0m nlp \u001b[38;5;241m=\u001b[39m \u001b[43mlang_cls\u001b[49m\u001b[38;5;241;43m.\u001b[39;49m\u001b[43mfrom_config\u001b[49m\u001b[43m(\u001b[49m\n\u001b[0;32m    588\u001b[0m \u001b[43m    \u001b[49m\u001b[43mconfig\u001b[49m\u001b[43m,\u001b[49m\n\u001b[0;32m    589\u001b[0m \u001b[43m    \u001b[49m\u001b[43mvocab\u001b[49m\u001b[38;5;241;43m=\u001b[39;49m\u001b[43mvocab\u001b[49m\u001b[43m,\u001b[49m\n\u001b[0;32m    590\u001b[0m \u001b[43m    \u001b[49m\u001b[43mdisable\u001b[49m\u001b[38;5;241;43m=\u001b[39;49m\u001b[43mdisable\u001b[49m\u001b[43m,\u001b[49m\n\u001b[0;32m    591\u001b[0m \u001b[43m    \u001b[49m\u001b[43menable\u001b[49m\u001b[38;5;241;43m=\u001b[39;49m\u001b[43menable\u001b[49m\u001b[43m,\u001b[49m\n\u001b[0;32m    592\u001b[0m \u001b[43m    \u001b[49m\u001b[43mexclude\u001b[49m\u001b[38;5;241;43m=\u001b[39;49m\u001b[43mexclude\u001b[49m\u001b[43m,\u001b[49m\n\u001b[0;32m    593\u001b[0m \u001b[43m    \u001b[49m\u001b[43mauto_fill\u001b[49m\u001b[38;5;241;43m=\u001b[39;49m\u001b[43mauto_fill\u001b[49m\u001b[43m,\u001b[49m\n\u001b[0;32m    594\u001b[0m \u001b[43m    \u001b[49m\u001b[43mvalidate\u001b[49m\u001b[38;5;241;43m=\u001b[39;49m\u001b[43mvalidate\u001b[49m\u001b[43m,\u001b[49m\n\u001b[0;32m    595\u001b[0m \u001b[43m    \u001b[49m\u001b[43mmeta\u001b[49m\u001b[38;5;241;43m=\u001b[39;49m\u001b[43mmeta\u001b[49m\u001b[43m,\u001b[49m\n\u001b[0;32m    596\u001b[0m \u001b[43m\u001b[49m\u001b[43m)\u001b[49m\n\u001b[0;32m    597\u001b[0m \u001b[38;5;28;01mreturn\u001b[39;00m nlp\n",
      "File \u001b[1;32mc:\\Users\\Usuario\\.pyenv\\pyenv-win\\versions\\3.11.0\\Lib\\site-packages\\spacy\\language.py:1889\u001b[0m, in \u001b[0;36mLanguage.from_config\u001b[1;34m(cls, config, vocab, disable, enable, exclude, meta, auto_fill, validate)\u001b[0m\n\u001b[0;32m   1886\u001b[0m     factory \u001b[38;5;241m=\u001b[39m pipe_cfg\u001b[38;5;241m.\u001b[39mpop(\u001b[38;5;124m\"\u001b[39m\u001b[38;5;124mfactory\u001b[39m\u001b[38;5;124m\"\u001b[39m)\n\u001b[0;32m   1887\u001b[0m     \u001b[38;5;66;03m# The pipe name (key in the config) here is the unique name\u001b[39;00m\n\u001b[0;32m   1888\u001b[0m     \u001b[38;5;66;03m# of the component, not necessarily the factory\u001b[39;00m\n\u001b[1;32m-> 1889\u001b[0m     \u001b[43mnlp\u001b[49m\u001b[38;5;241;43m.\u001b[39;49m\u001b[43madd_pipe\u001b[49m\u001b[43m(\u001b[49m\n\u001b[0;32m   1890\u001b[0m \u001b[43m        \u001b[49m\u001b[43mfactory\u001b[49m\u001b[43m,\u001b[49m\n\u001b[0;32m   1891\u001b[0m \u001b[43m        \u001b[49m\u001b[43mname\u001b[49m\u001b[38;5;241;43m=\u001b[39;49m\u001b[43mpipe_name\u001b[49m\u001b[43m,\u001b[49m\n\u001b[0;32m   1892\u001b[0m \u001b[43m        \u001b[49m\u001b[43mconfig\u001b[49m\u001b[38;5;241;43m=\u001b[39;49m\u001b[43mpipe_cfg\u001b[49m\u001b[43m,\u001b[49m\n\u001b[0;32m   1893\u001b[0m \u001b[43m        \u001b[49m\u001b[43mvalidate\u001b[49m\u001b[38;5;241;43m=\u001b[39;49m\u001b[43mvalidate\u001b[49m\u001b[43m,\u001b[49m\n\u001b[0;32m   1894\u001b[0m \u001b[43m        \u001b[49m\u001b[43mraw_config\u001b[49m\u001b[38;5;241;43m=\u001b[39;49m\u001b[43mraw_config\u001b[49m\u001b[43m,\u001b[49m\n\u001b[0;32m   1895\u001b[0m \u001b[43m    \u001b[49m\u001b[43m)\u001b[49m\n\u001b[0;32m   1896\u001b[0m \u001b[38;5;28;01melse\u001b[39;00m:\n\u001b[0;32m   1897\u001b[0m     \u001b[38;5;28;01massert\u001b[39;00m \u001b[38;5;124m\"\u001b[39m\u001b[38;5;124msource\u001b[39m\u001b[38;5;124m\"\u001b[39m \u001b[38;5;129;01min\u001b[39;00m pipe_cfg\n",
      "File \u001b[1;32mc:\\Users\\Usuario\\.pyenv\\pyenv-win\\versions\\3.11.0\\Lib\\site-packages\\spacy\\language.py:821\u001b[0m, in \u001b[0;36mLanguage.add_pipe\u001b[1;34m(self, factory_name, name, before, after, first, last, source, config, raw_config, validate)\u001b[0m\n\u001b[0;32m    817\u001b[0m     pipe_component, factory_name \u001b[38;5;241m=\u001b[39m \u001b[38;5;28mself\u001b[39m\u001b[38;5;241m.\u001b[39mcreate_pipe_from_source(\n\u001b[0;32m    818\u001b[0m         factory_name, source, name\u001b[38;5;241m=\u001b[39mname\n\u001b[0;32m    819\u001b[0m     )\n\u001b[0;32m    820\u001b[0m \u001b[38;5;28;01melse\u001b[39;00m:\n\u001b[1;32m--> 821\u001b[0m     pipe_component \u001b[38;5;241m=\u001b[39m \u001b[38;5;28;43mself\u001b[39;49m\u001b[38;5;241;43m.\u001b[39;49m\u001b[43mcreate_pipe\u001b[49m\u001b[43m(\u001b[49m\n\u001b[0;32m    822\u001b[0m \u001b[43m        \u001b[49m\u001b[43mfactory_name\u001b[49m\u001b[43m,\u001b[49m\n\u001b[0;32m    823\u001b[0m \u001b[43m        \u001b[49m\u001b[43mname\u001b[49m\u001b[38;5;241;43m=\u001b[39;49m\u001b[43mname\u001b[49m\u001b[43m,\u001b[49m\n\u001b[0;32m    824\u001b[0m \u001b[43m        \u001b[49m\u001b[43mconfig\u001b[49m\u001b[38;5;241;43m=\u001b[39;49m\u001b[43mconfig\u001b[49m\u001b[43m,\u001b[49m\n\u001b[0;32m    825\u001b[0m \u001b[43m        \u001b[49m\u001b[43mraw_config\u001b[49m\u001b[38;5;241;43m=\u001b[39;49m\u001b[43mraw_config\u001b[49m\u001b[43m,\u001b[49m\n\u001b[0;32m    826\u001b[0m \u001b[43m        \u001b[49m\u001b[43mvalidate\u001b[49m\u001b[38;5;241;43m=\u001b[39;49m\u001b[43mvalidate\u001b[49m\u001b[43m,\u001b[49m\n\u001b[0;32m    827\u001b[0m \u001b[43m    \u001b[49m\u001b[43m)\u001b[49m\n\u001b[0;32m    828\u001b[0m pipe_index \u001b[38;5;241m=\u001b[39m \u001b[38;5;28mself\u001b[39m\u001b[38;5;241m.\u001b[39m_get_pipe_index(before, after, first, last)\n\u001b[0;32m    829\u001b[0m \u001b[38;5;28mself\u001b[39m\u001b[38;5;241m.\u001b[39m_pipe_meta[name] \u001b[38;5;241m=\u001b[39m \u001b[38;5;28mself\u001b[39m\u001b[38;5;241m.\u001b[39mget_factory_meta(factory_name)\n",
      "File \u001b[1;32mc:\\Users\\Usuario\\.pyenv\\pyenv-win\\versions\\3.11.0\\Lib\\site-packages\\spacy\\language.py:690\u001b[0m, in \u001b[0;36mLanguage.create_pipe\u001b[1;34m(self, factory_name, name, config, raw_config, validate)\u001b[0m\n\u001b[0;32m    682\u001b[0m \u001b[38;5;28;01mif\u001b[39;00m \u001b[38;5;129;01mnot\u001b[39;00m \u001b[38;5;28mself\u001b[39m\u001b[38;5;241m.\u001b[39mhas_factory(factory_name):\n\u001b[0;32m    683\u001b[0m     err \u001b[38;5;241m=\u001b[39m Errors\u001b[38;5;241m.\u001b[39mE002\u001b[38;5;241m.\u001b[39mformat(\n\u001b[0;32m    684\u001b[0m         name\u001b[38;5;241m=\u001b[39mfactory_name,\n\u001b[0;32m    685\u001b[0m         opts\u001b[38;5;241m=\u001b[39m\u001b[38;5;124m\"\u001b[39m\u001b[38;5;124m, \u001b[39m\u001b[38;5;124m\"\u001b[39m\u001b[38;5;241m.\u001b[39mjoin(\u001b[38;5;28mself\u001b[39m\u001b[38;5;241m.\u001b[39mfactory_names),\n\u001b[1;32m   (...)\u001b[0m\n\u001b[0;32m    688\u001b[0m         lang_code\u001b[38;5;241m=\u001b[39m\u001b[38;5;28mself\u001b[39m\u001b[38;5;241m.\u001b[39mlang,\n\u001b[0;32m    689\u001b[0m     )\n\u001b[1;32m--> 690\u001b[0m     \u001b[38;5;28;01mraise\u001b[39;00m \u001b[38;5;167;01mValueError\u001b[39;00m(err)\n\u001b[0;32m    691\u001b[0m pipe_meta \u001b[38;5;241m=\u001b[39m \u001b[38;5;28mself\u001b[39m\u001b[38;5;241m.\u001b[39mget_factory_meta(factory_name)\n\u001b[0;32m    692\u001b[0m \u001b[38;5;66;03m# This is unideal, but the alternative would mean you always need to\u001b[39;00m\n\u001b[0;32m    693\u001b[0m \u001b[38;5;66;03m# specify the full config settings, which is not really viable.\u001b[39;00m\n",
      "\u001b[1;31mValueError\u001b[0m: [E002] Can't find factory for 'curated_transformer' for language Catalan (ca). This usually happens when spaCy calls `nlp.create_pipe` with a custom component name that's not registered on the current language class. If you're using a custom component, make sure you've added the decorator `@Language.component` (for function components) or `@Language.factory` (for class components).\n\nAvailable factories: attribute_ruler, tok2vec, merge_noun_chunks, merge_entities, merge_subtokens, token_splitter, doc_cleaner, parser, beam_parser, lemmatizer, trainable_lemmatizer, entity_linker, entity_ruler, tagger, morphologizer, ner, beam_ner, senter, sentencizer, spancat, spancat_singlelabel, span_finder, future_entity_ruler, span_ruler, textcat, textcat_multilabel, ca.lemmatizer"
     ]
    }
   ],
   "source": [
    "import spacy\n",
    "\n",
    "# Cargar el modelo de spaCy\n",
    "nlp = spacy.load('ca_core_news_trf')\n",
    "\n",
    "# Procesar el texto\n",
    "text = \"Tu texto aquí\"\n",
    "doc = nlp(text)\n",
    "\n",
    "# Obtener el tensor de embeddings\n",
    "embeddings = doc._.trf_data.tensors[-1]\n",
    "\n",
    "# Obtener el token CLS\n",
    "cls_token = embeddings[0]\n",
    "\n",
    "# Calcular la media de los embeddings\n",
    "mean_embedding = embeddings.mean(axis=0)\n"
   ]
  },
  {
   "cell_type": "code",
   "execution_count": 49,
   "metadata": {},
   "outputs": [
    {
     "ename": "ValueError",
     "evalue": "[E002] Can't find factory for 'curated_transformer' for language Catalan (ca). This usually happens when spaCy calls `nlp.create_pipe` with a custom component name that's not registered on the current language class. If you're using a custom component, make sure you've added the decorator `@Language.component` (for function components) or `@Language.factory` (for class components).\n\nAvailable factories: attribute_ruler, tok2vec, merge_noun_chunks, merge_entities, merge_subtokens, token_splitter, doc_cleaner, parser, beam_parser, lemmatizer, trainable_lemmatizer, entity_linker, entity_ruler, tagger, morphologizer, ner, beam_ner, senter, sentencizer, spancat, spancat_singlelabel, span_finder, future_entity_ruler, span_ruler, textcat, textcat_multilabel, ca.lemmatizer",
     "output_type": "error",
     "traceback": [
      "\u001b[1;31m---------------------------------------------------------------------------\u001b[0m",
      "\u001b[1;31mValueError\u001b[0m                                Traceback (most recent call last)",
      "Cell \u001b[1;32mIn[49], line 5\u001b[0m\n\u001b[0;32m      2\u001b[0m \u001b[38;5;28;01mimport\u001b[39;00m \u001b[38;5;21;01mnumpy\u001b[39;00m \u001b[38;5;28;01mas\u001b[39;00m \u001b[38;5;21;01mnp\u001b[39;00m\n\u001b[0;32m      4\u001b[0m \u001b[38;5;66;03m# Cargar el modelo de spaCy\u001b[39;00m\n\u001b[1;32m----> 5\u001b[0m nlp_trf \u001b[38;5;241m=\u001b[39m \u001b[43mspacy\u001b[49m\u001b[38;5;241;43m.\u001b[39;49m\u001b[43mload\u001b[49m\u001b[43m(\u001b[49m\u001b[38;5;124;43m'\u001b[39;49m\u001b[38;5;124;43mca_core_news_trf\u001b[39;49m\u001b[38;5;124;43m'\u001b[39;49m\u001b[43m)\u001b[49m\n\u001b[0;32m      7\u001b[0m \u001b[38;5;66;03m# Lista para almacenar los embeddings\u001b[39;00m\n\u001b[0;32m      8\u001b[0m embeddings_trf \u001b[38;5;241m=\u001b[39m []\n",
      "File \u001b[1;32mc:\\Users\\Usuario\\.pyenv\\pyenv-win\\versions\\3.11.0\\Lib\\site-packages\\spacy\\__init__.py:51\u001b[0m, in \u001b[0;36mload\u001b[1;34m(name, vocab, disable, enable, exclude, config)\u001b[0m\n\u001b[0;32m     27\u001b[0m \u001b[38;5;28;01mdef\u001b[39;00m \u001b[38;5;21mload\u001b[39m(\n\u001b[0;32m     28\u001b[0m     name: Union[\u001b[38;5;28mstr\u001b[39m, Path],\n\u001b[0;32m     29\u001b[0m     \u001b[38;5;241m*\u001b[39m,\n\u001b[1;32m   (...)\u001b[0m\n\u001b[0;32m     34\u001b[0m     config: Union[Dict[\u001b[38;5;28mstr\u001b[39m, Any], Config] \u001b[38;5;241m=\u001b[39m util\u001b[38;5;241m.\u001b[39mSimpleFrozenDict(),\n\u001b[0;32m     35\u001b[0m ) \u001b[38;5;241m-\u001b[39m\u001b[38;5;241m>\u001b[39m Language:\n\u001b[0;32m     36\u001b[0m \u001b[38;5;250m    \u001b[39m\u001b[38;5;124;03m\"\"\"Load a spaCy model from an installed package or a local path.\u001b[39;00m\n\u001b[0;32m     37\u001b[0m \n\u001b[0;32m     38\u001b[0m \u001b[38;5;124;03m    name (str): Package name or model path.\u001b[39;00m\n\u001b[1;32m   (...)\u001b[0m\n\u001b[0;32m     49\u001b[0m \u001b[38;5;124;03m    RETURNS (Language): The loaded nlp object.\u001b[39;00m\n\u001b[0;32m     50\u001b[0m \u001b[38;5;124;03m    \"\"\"\u001b[39;00m\n\u001b[1;32m---> 51\u001b[0m     \u001b[38;5;28;01mreturn\u001b[39;00m \u001b[43mutil\u001b[49m\u001b[38;5;241;43m.\u001b[39;49m\u001b[43mload_model\u001b[49m\u001b[43m(\u001b[49m\n\u001b[0;32m     52\u001b[0m \u001b[43m        \u001b[49m\u001b[43mname\u001b[49m\u001b[43m,\u001b[49m\n\u001b[0;32m     53\u001b[0m \u001b[43m        \u001b[49m\u001b[43mvocab\u001b[49m\u001b[38;5;241;43m=\u001b[39;49m\u001b[43mvocab\u001b[49m\u001b[43m,\u001b[49m\n\u001b[0;32m     54\u001b[0m \u001b[43m        \u001b[49m\u001b[43mdisable\u001b[49m\u001b[38;5;241;43m=\u001b[39;49m\u001b[43mdisable\u001b[49m\u001b[43m,\u001b[49m\n\u001b[0;32m     55\u001b[0m \u001b[43m        \u001b[49m\u001b[43menable\u001b[49m\u001b[38;5;241;43m=\u001b[39;49m\u001b[43menable\u001b[49m\u001b[43m,\u001b[49m\n\u001b[0;32m     56\u001b[0m \u001b[43m        \u001b[49m\u001b[43mexclude\u001b[49m\u001b[38;5;241;43m=\u001b[39;49m\u001b[43mexclude\u001b[49m\u001b[43m,\u001b[49m\n\u001b[0;32m     57\u001b[0m \u001b[43m        \u001b[49m\u001b[43mconfig\u001b[49m\u001b[38;5;241;43m=\u001b[39;49m\u001b[43mconfig\u001b[49m\u001b[43m,\u001b[49m\n\u001b[0;32m     58\u001b[0m \u001b[43m    \u001b[49m\u001b[43m)\u001b[49m\n",
      "File \u001b[1;32mc:\\Users\\Usuario\\.pyenv\\pyenv-win\\versions\\3.11.0\\Lib\\site-packages\\spacy\\util.py:465\u001b[0m, in \u001b[0;36mload_model\u001b[1;34m(name, vocab, disable, enable, exclude, config)\u001b[0m\n\u001b[0;32m    463\u001b[0m     \u001b[38;5;28;01mreturn\u001b[39;00m get_lang_class(name\u001b[38;5;241m.\u001b[39mreplace(\u001b[38;5;124m\"\u001b[39m\u001b[38;5;124mblank:\u001b[39m\u001b[38;5;124m\"\u001b[39m, \u001b[38;5;124m\"\u001b[39m\u001b[38;5;124m\"\u001b[39m))()\n\u001b[0;32m    464\u001b[0m \u001b[38;5;28;01mif\u001b[39;00m is_package(name):  \u001b[38;5;66;03m# installed as package\u001b[39;00m\n\u001b[1;32m--> 465\u001b[0m     \u001b[38;5;28;01mreturn\u001b[39;00m \u001b[43mload_model_from_package\u001b[49m\u001b[43m(\u001b[49m\u001b[43mname\u001b[49m\u001b[43m,\u001b[49m\u001b[43m \u001b[49m\u001b[38;5;241;43m*\u001b[39;49m\u001b[38;5;241;43m*\u001b[39;49m\u001b[43mkwargs\u001b[49m\u001b[43m)\u001b[49m  \u001b[38;5;66;03m# type: ignore[arg-type]\u001b[39;00m\n\u001b[0;32m    466\u001b[0m \u001b[38;5;28;01mif\u001b[39;00m Path(name)\u001b[38;5;241m.\u001b[39mexists():  \u001b[38;5;66;03m# path to model data directory\u001b[39;00m\n\u001b[0;32m    467\u001b[0m     \u001b[38;5;28;01mreturn\u001b[39;00m load_model_from_path(Path(name), \u001b[38;5;241m*\u001b[39m\u001b[38;5;241m*\u001b[39mkwargs)  \u001b[38;5;66;03m# type: ignore[arg-type]\u001b[39;00m\n",
      "File \u001b[1;32mc:\\Users\\Usuario\\.pyenv\\pyenv-win\\versions\\3.11.0\\Lib\\site-packages\\spacy\\util.py:501\u001b[0m, in \u001b[0;36mload_model_from_package\u001b[1;34m(name, vocab, disable, enable, exclude, config)\u001b[0m\n\u001b[0;32m    484\u001b[0m \u001b[38;5;250m\u001b[39m\u001b[38;5;124;03m\"\"\"Load a model from an installed package.\u001b[39;00m\n\u001b[0;32m    485\u001b[0m \n\u001b[0;32m    486\u001b[0m \u001b[38;5;124;03mname (str): The package name.\u001b[39;00m\n\u001b[1;32m   (...)\u001b[0m\n\u001b[0;32m    498\u001b[0m \u001b[38;5;124;03mRETURNS (Language): The loaded nlp object.\u001b[39;00m\n\u001b[0;32m    499\u001b[0m \u001b[38;5;124;03m\"\"\"\u001b[39;00m\n\u001b[0;32m    500\u001b[0m \u001b[38;5;28mcls\u001b[39m \u001b[38;5;241m=\u001b[39m importlib\u001b[38;5;241m.\u001b[39mimport_module(name)\n\u001b[1;32m--> 501\u001b[0m \u001b[38;5;28;01mreturn\u001b[39;00m \u001b[38;5;28;43mcls\u001b[39;49m\u001b[38;5;241;43m.\u001b[39;49m\u001b[43mload\u001b[49m\u001b[43m(\u001b[49m\u001b[43mvocab\u001b[49m\u001b[38;5;241;43m=\u001b[39;49m\u001b[43mvocab\u001b[49m\u001b[43m,\u001b[49m\u001b[43m \u001b[49m\u001b[43mdisable\u001b[49m\u001b[38;5;241;43m=\u001b[39;49m\u001b[43mdisable\u001b[49m\u001b[43m,\u001b[49m\u001b[43m \u001b[49m\u001b[43menable\u001b[49m\u001b[38;5;241;43m=\u001b[39;49m\u001b[43menable\u001b[49m\u001b[43m,\u001b[49m\u001b[43m \u001b[49m\u001b[43mexclude\u001b[49m\u001b[38;5;241;43m=\u001b[39;49m\u001b[43mexclude\u001b[49m\u001b[43m,\u001b[49m\u001b[43m \u001b[49m\u001b[43mconfig\u001b[49m\u001b[38;5;241;43m=\u001b[39;49m\u001b[43mconfig\u001b[49m\u001b[43m)\u001b[49m\n",
      "File \u001b[1;32mc:\\Users\\Usuario\\.pyenv\\pyenv-win\\versions\\3.11.0\\Lib\\site-packages\\ca_core_news_trf\\__init__.py:10\u001b[0m, in \u001b[0;36mload\u001b[1;34m(**overrides)\u001b[0m\n\u001b[0;32m      9\u001b[0m \u001b[38;5;28;01mdef\u001b[39;00m \u001b[38;5;21mload\u001b[39m(\u001b[38;5;241m*\u001b[39m\u001b[38;5;241m*\u001b[39moverrides):\n\u001b[1;32m---> 10\u001b[0m     \u001b[38;5;28;01mreturn\u001b[39;00m \u001b[43mload_model_from_init_py\u001b[49m\u001b[43m(\u001b[49m\u001b[38;5;18;43m__file__\u001b[39;49m\u001b[43m,\u001b[49m\u001b[43m \u001b[49m\u001b[38;5;241;43m*\u001b[39;49m\u001b[38;5;241;43m*\u001b[39;49m\u001b[43moverrides\u001b[49m\u001b[43m)\u001b[49m\n",
      "File \u001b[1;32mc:\\Users\\Usuario\\.pyenv\\pyenv-win\\versions\\3.11.0\\Lib\\site-packages\\spacy\\util.py:682\u001b[0m, in \u001b[0;36mload_model_from_init_py\u001b[1;34m(init_file, vocab, disable, enable, exclude, config)\u001b[0m\n\u001b[0;32m    680\u001b[0m \u001b[38;5;28;01mif\u001b[39;00m \u001b[38;5;129;01mnot\u001b[39;00m model_path\u001b[38;5;241m.\u001b[39mexists():\n\u001b[0;32m    681\u001b[0m     \u001b[38;5;28;01mraise\u001b[39;00m \u001b[38;5;167;01mIOError\u001b[39;00m(Errors\u001b[38;5;241m.\u001b[39mE052\u001b[38;5;241m.\u001b[39mformat(path\u001b[38;5;241m=\u001b[39mdata_path))\n\u001b[1;32m--> 682\u001b[0m \u001b[38;5;28;01mreturn\u001b[39;00m \u001b[43mload_model_from_path\u001b[49m\u001b[43m(\u001b[49m\n\u001b[0;32m    683\u001b[0m \u001b[43m    \u001b[49m\u001b[43mdata_path\u001b[49m\u001b[43m,\u001b[49m\n\u001b[0;32m    684\u001b[0m \u001b[43m    \u001b[49m\u001b[43mvocab\u001b[49m\u001b[38;5;241;43m=\u001b[39;49m\u001b[43mvocab\u001b[49m\u001b[43m,\u001b[49m\n\u001b[0;32m    685\u001b[0m \u001b[43m    \u001b[49m\u001b[43mmeta\u001b[49m\u001b[38;5;241;43m=\u001b[39;49m\u001b[43mmeta\u001b[49m\u001b[43m,\u001b[49m\n\u001b[0;32m    686\u001b[0m \u001b[43m    \u001b[49m\u001b[43mdisable\u001b[49m\u001b[38;5;241;43m=\u001b[39;49m\u001b[43mdisable\u001b[49m\u001b[43m,\u001b[49m\n\u001b[0;32m    687\u001b[0m \u001b[43m    \u001b[49m\u001b[43menable\u001b[49m\u001b[38;5;241;43m=\u001b[39;49m\u001b[43menable\u001b[49m\u001b[43m,\u001b[49m\n\u001b[0;32m    688\u001b[0m \u001b[43m    \u001b[49m\u001b[43mexclude\u001b[49m\u001b[38;5;241;43m=\u001b[39;49m\u001b[43mexclude\u001b[49m\u001b[43m,\u001b[49m\n\u001b[0;32m    689\u001b[0m \u001b[43m    \u001b[49m\u001b[43mconfig\u001b[49m\u001b[38;5;241;43m=\u001b[39;49m\u001b[43mconfig\u001b[49m\u001b[43m,\u001b[49m\n\u001b[0;32m    690\u001b[0m \u001b[43m\u001b[49m\u001b[43m)\u001b[49m\n",
      "File \u001b[1;32mc:\\Users\\Usuario\\.pyenv\\pyenv-win\\versions\\3.11.0\\Lib\\site-packages\\spacy\\util.py:539\u001b[0m, in \u001b[0;36mload_model_from_path\u001b[1;34m(model_path, meta, vocab, disable, enable, exclude, config)\u001b[0m\n\u001b[0;32m    537\u001b[0m overrides \u001b[38;5;241m=\u001b[39m dict_to_dot(config, for_overrides\u001b[38;5;241m=\u001b[39m\u001b[38;5;28;01mTrue\u001b[39;00m)\n\u001b[0;32m    538\u001b[0m config \u001b[38;5;241m=\u001b[39m load_config(config_path, overrides\u001b[38;5;241m=\u001b[39moverrides)\n\u001b[1;32m--> 539\u001b[0m nlp \u001b[38;5;241m=\u001b[39m \u001b[43mload_model_from_config\u001b[49m\u001b[43m(\u001b[49m\n\u001b[0;32m    540\u001b[0m \u001b[43m    \u001b[49m\u001b[43mconfig\u001b[49m\u001b[43m,\u001b[49m\n\u001b[0;32m    541\u001b[0m \u001b[43m    \u001b[49m\u001b[43mvocab\u001b[49m\u001b[38;5;241;43m=\u001b[39;49m\u001b[43mvocab\u001b[49m\u001b[43m,\u001b[49m\n\u001b[0;32m    542\u001b[0m \u001b[43m    \u001b[49m\u001b[43mdisable\u001b[49m\u001b[38;5;241;43m=\u001b[39;49m\u001b[43mdisable\u001b[49m\u001b[43m,\u001b[49m\n\u001b[0;32m    543\u001b[0m \u001b[43m    \u001b[49m\u001b[43menable\u001b[49m\u001b[38;5;241;43m=\u001b[39;49m\u001b[43menable\u001b[49m\u001b[43m,\u001b[49m\n\u001b[0;32m    544\u001b[0m \u001b[43m    \u001b[49m\u001b[43mexclude\u001b[49m\u001b[38;5;241;43m=\u001b[39;49m\u001b[43mexclude\u001b[49m\u001b[43m,\u001b[49m\n\u001b[0;32m    545\u001b[0m \u001b[43m    \u001b[49m\u001b[43mmeta\u001b[49m\u001b[38;5;241;43m=\u001b[39;49m\u001b[43mmeta\u001b[49m\u001b[43m,\u001b[49m\n\u001b[0;32m    546\u001b[0m \u001b[43m\u001b[49m\u001b[43m)\u001b[49m\n\u001b[0;32m    547\u001b[0m \u001b[38;5;28;01mreturn\u001b[39;00m nlp\u001b[38;5;241m.\u001b[39mfrom_disk(model_path, exclude\u001b[38;5;241m=\u001b[39mexclude, overrides\u001b[38;5;241m=\u001b[39moverrides)\n",
      "File \u001b[1;32mc:\\Users\\Usuario\\.pyenv\\pyenv-win\\versions\\3.11.0\\Lib\\site-packages\\spacy\\util.py:587\u001b[0m, in \u001b[0;36mload_model_from_config\u001b[1;34m(config, meta, vocab, disable, enable, exclude, auto_fill, validate)\u001b[0m\n\u001b[0;32m    584\u001b[0m \u001b[38;5;66;03m# This will automatically handle all codes registered via the languages\u001b[39;00m\n\u001b[0;32m    585\u001b[0m \u001b[38;5;66;03m# registry, including custom subclasses provided via entry points\u001b[39;00m\n\u001b[0;32m    586\u001b[0m lang_cls \u001b[38;5;241m=\u001b[39m get_lang_class(nlp_config[\u001b[38;5;124m\"\u001b[39m\u001b[38;5;124mlang\u001b[39m\u001b[38;5;124m\"\u001b[39m])\n\u001b[1;32m--> 587\u001b[0m nlp \u001b[38;5;241m=\u001b[39m \u001b[43mlang_cls\u001b[49m\u001b[38;5;241;43m.\u001b[39;49m\u001b[43mfrom_config\u001b[49m\u001b[43m(\u001b[49m\n\u001b[0;32m    588\u001b[0m \u001b[43m    \u001b[49m\u001b[43mconfig\u001b[49m\u001b[43m,\u001b[49m\n\u001b[0;32m    589\u001b[0m \u001b[43m    \u001b[49m\u001b[43mvocab\u001b[49m\u001b[38;5;241;43m=\u001b[39;49m\u001b[43mvocab\u001b[49m\u001b[43m,\u001b[49m\n\u001b[0;32m    590\u001b[0m \u001b[43m    \u001b[49m\u001b[43mdisable\u001b[49m\u001b[38;5;241;43m=\u001b[39;49m\u001b[43mdisable\u001b[49m\u001b[43m,\u001b[49m\n\u001b[0;32m    591\u001b[0m \u001b[43m    \u001b[49m\u001b[43menable\u001b[49m\u001b[38;5;241;43m=\u001b[39;49m\u001b[43menable\u001b[49m\u001b[43m,\u001b[49m\n\u001b[0;32m    592\u001b[0m \u001b[43m    \u001b[49m\u001b[43mexclude\u001b[49m\u001b[38;5;241;43m=\u001b[39;49m\u001b[43mexclude\u001b[49m\u001b[43m,\u001b[49m\n\u001b[0;32m    593\u001b[0m \u001b[43m    \u001b[49m\u001b[43mauto_fill\u001b[49m\u001b[38;5;241;43m=\u001b[39;49m\u001b[43mauto_fill\u001b[49m\u001b[43m,\u001b[49m\n\u001b[0;32m    594\u001b[0m \u001b[43m    \u001b[49m\u001b[43mvalidate\u001b[49m\u001b[38;5;241;43m=\u001b[39;49m\u001b[43mvalidate\u001b[49m\u001b[43m,\u001b[49m\n\u001b[0;32m    595\u001b[0m \u001b[43m    \u001b[49m\u001b[43mmeta\u001b[49m\u001b[38;5;241;43m=\u001b[39;49m\u001b[43mmeta\u001b[49m\u001b[43m,\u001b[49m\n\u001b[0;32m    596\u001b[0m \u001b[43m\u001b[49m\u001b[43m)\u001b[49m\n\u001b[0;32m    597\u001b[0m \u001b[38;5;28;01mreturn\u001b[39;00m nlp\n",
      "File \u001b[1;32mc:\\Users\\Usuario\\.pyenv\\pyenv-win\\versions\\3.11.0\\Lib\\site-packages\\spacy\\language.py:1889\u001b[0m, in \u001b[0;36mLanguage.from_config\u001b[1;34m(cls, config, vocab, disable, enable, exclude, meta, auto_fill, validate)\u001b[0m\n\u001b[0;32m   1886\u001b[0m     factory \u001b[38;5;241m=\u001b[39m pipe_cfg\u001b[38;5;241m.\u001b[39mpop(\u001b[38;5;124m\"\u001b[39m\u001b[38;5;124mfactory\u001b[39m\u001b[38;5;124m\"\u001b[39m)\n\u001b[0;32m   1887\u001b[0m     \u001b[38;5;66;03m# The pipe name (key in the config) here is the unique name\u001b[39;00m\n\u001b[0;32m   1888\u001b[0m     \u001b[38;5;66;03m# of the component, not necessarily the factory\u001b[39;00m\n\u001b[1;32m-> 1889\u001b[0m     \u001b[43mnlp\u001b[49m\u001b[38;5;241;43m.\u001b[39;49m\u001b[43madd_pipe\u001b[49m\u001b[43m(\u001b[49m\n\u001b[0;32m   1890\u001b[0m \u001b[43m        \u001b[49m\u001b[43mfactory\u001b[49m\u001b[43m,\u001b[49m\n\u001b[0;32m   1891\u001b[0m \u001b[43m        \u001b[49m\u001b[43mname\u001b[49m\u001b[38;5;241;43m=\u001b[39;49m\u001b[43mpipe_name\u001b[49m\u001b[43m,\u001b[49m\n\u001b[0;32m   1892\u001b[0m \u001b[43m        \u001b[49m\u001b[43mconfig\u001b[49m\u001b[38;5;241;43m=\u001b[39;49m\u001b[43mpipe_cfg\u001b[49m\u001b[43m,\u001b[49m\n\u001b[0;32m   1893\u001b[0m \u001b[43m        \u001b[49m\u001b[43mvalidate\u001b[49m\u001b[38;5;241;43m=\u001b[39;49m\u001b[43mvalidate\u001b[49m\u001b[43m,\u001b[49m\n\u001b[0;32m   1894\u001b[0m \u001b[43m        \u001b[49m\u001b[43mraw_config\u001b[49m\u001b[38;5;241;43m=\u001b[39;49m\u001b[43mraw_config\u001b[49m\u001b[43m,\u001b[49m\n\u001b[0;32m   1895\u001b[0m \u001b[43m    \u001b[49m\u001b[43m)\u001b[49m\n\u001b[0;32m   1896\u001b[0m \u001b[38;5;28;01melse\u001b[39;00m:\n\u001b[0;32m   1897\u001b[0m     \u001b[38;5;28;01massert\u001b[39;00m \u001b[38;5;124m\"\u001b[39m\u001b[38;5;124msource\u001b[39m\u001b[38;5;124m\"\u001b[39m \u001b[38;5;129;01min\u001b[39;00m pipe_cfg\n",
      "File \u001b[1;32mc:\\Users\\Usuario\\.pyenv\\pyenv-win\\versions\\3.11.0\\Lib\\site-packages\\spacy\\language.py:821\u001b[0m, in \u001b[0;36mLanguage.add_pipe\u001b[1;34m(self, factory_name, name, before, after, first, last, source, config, raw_config, validate)\u001b[0m\n\u001b[0;32m    817\u001b[0m     pipe_component, factory_name \u001b[38;5;241m=\u001b[39m \u001b[38;5;28mself\u001b[39m\u001b[38;5;241m.\u001b[39mcreate_pipe_from_source(\n\u001b[0;32m    818\u001b[0m         factory_name, source, name\u001b[38;5;241m=\u001b[39mname\n\u001b[0;32m    819\u001b[0m     )\n\u001b[0;32m    820\u001b[0m \u001b[38;5;28;01melse\u001b[39;00m:\n\u001b[1;32m--> 821\u001b[0m     pipe_component \u001b[38;5;241m=\u001b[39m \u001b[38;5;28;43mself\u001b[39;49m\u001b[38;5;241;43m.\u001b[39;49m\u001b[43mcreate_pipe\u001b[49m\u001b[43m(\u001b[49m\n\u001b[0;32m    822\u001b[0m \u001b[43m        \u001b[49m\u001b[43mfactory_name\u001b[49m\u001b[43m,\u001b[49m\n\u001b[0;32m    823\u001b[0m \u001b[43m        \u001b[49m\u001b[43mname\u001b[49m\u001b[38;5;241;43m=\u001b[39;49m\u001b[43mname\u001b[49m\u001b[43m,\u001b[49m\n\u001b[0;32m    824\u001b[0m \u001b[43m        \u001b[49m\u001b[43mconfig\u001b[49m\u001b[38;5;241;43m=\u001b[39;49m\u001b[43mconfig\u001b[49m\u001b[43m,\u001b[49m\n\u001b[0;32m    825\u001b[0m \u001b[43m        \u001b[49m\u001b[43mraw_config\u001b[49m\u001b[38;5;241;43m=\u001b[39;49m\u001b[43mraw_config\u001b[49m\u001b[43m,\u001b[49m\n\u001b[0;32m    826\u001b[0m \u001b[43m        \u001b[49m\u001b[43mvalidate\u001b[49m\u001b[38;5;241;43m=\u001b[39;49m\u001b[43mvalidate\u001b[49m\u001b[43m,\u001b[49m\n\u001b[0;32m    827\u001b[0m \u001b[43m    \u001b[49m\u001b[43m)\u001b[49m\n\u001b[0;32m    828\u001b[0m pipe_index \u001b[38;5;241m=\u001b[39m \u001b[38;5;28mself\u001b[39m\u001b[38;5;241m.\u001b[39m_get_pipe_index(before, after, first, last)\n\u001b[0;32m    829\u001b[0m \u001b[38;5;28mself\u001b[39m\u001b[38;5;241m.\u001b[39m_pipe_meta[name] \u001b[38;5;241m=\u001b[39m \u001b[38;5;28mself\u001b[39m\u001b[38;5;241m.\u001b[39mget_factory_meta(factory_name)\n",
      "File \u001b[1;32mc:\\Users\\Usuario\\.pyenv\\pyenv-win\\versions\\3.11.0\\Lib\\site-packages\\spacy\\language.py:690\u001b[0m, in \u001b[0;36mLanguage.create_pipe\u001b[1;34m(self, factory_name, name, config, raw_config, validate)\u001b[0m\n\u001b[0;32m    682\u001b[0m \u001b[38;5;28;01mif\u001b[39;00m \u001b[38;5;129;01mnot\u001b[39;00m \u001b[38;5;28mself\u001b[39m\u001b[38;5;241m.\u001b[39mhas_factory(factory_name):\n\u001b[0;32m    683\u001b[0m     err \u001b[38;5;241m=\u001b[39m Errors\u001b[38;5;241m.\u001b[39mE002\u001b[38;5;241m.\u001b[39mformat(\n\u001b[0;32m    684\u001b[0m         name\u001b[38;5;241m=\u001b[39mfactory_name,\n\u001b[0;32m    685\u001b[0m         opts\u001b[38;5;241m=\u001b[39m\u001b[38;5;124m\"\u001b[39m\u001b[38;5;124m, \u001b[39m\u001b[38;5;124m\"\u001b[39m\u001b[38;5;241m.\u001b[39mjoin(\u001b[38;5;28mself\u001b[39m\u001b[38;5;241m.\u001b[39mfactory_names),\n\u001b[1;32m   (...)\u001b[0m\n\u001b[0;32m    688\u001b[0m         lang_code\u001b[38;5;241m=\u001b[39m\u001b[38;5;28mself\u001b[39m\u001b[38;5;241m.\u001b[39mlang,\n\u001b[0;32m    689\u001b[0m     )\n\u001b[1;32m--> 690\u001b[0m     \u001b[38;5;28;01mraise\u001b[39;00m \u001b[38;5;167;01mValueError\u001b[39;00m(err)\n\u001b[0;32m    691\u001b[0m pipe_meta \u001b[38;5;241m=\u001b[39m \u001b[38;5;28mself\u001b[39m\u001b[38;5;241m.\u001b[39mget_factory_meta(factory_name)\n\u001b[0;32m    692\u001b[0m \u001b[38;5;66;03m# This is unideal, but the alternative would mean you always need to\u001b[39;00m\n\u001b[0;32m    693\u001b[0m \u001b[38;5;66;03m# specify the full config settings, which is not really viable.\u001b[39;00m\n",
      "\u001b[1;31mValueError\u001b[0m: [E002] Can't find factory for 'curated_transformer' for language Catalan (ca). This usually happens when spaCy calls `nlp.create_pipe` with a custom component name that's not registered on the current language class. If you're using a custom component, make sure you've added the decorator `@Language.component` (for function components) or `@Language.factory` (for class components).\n\nAvailable factories: attribute_ruler, tok2vec, merge_noun_chunks, merge_entities, merge_subtokens, token_splitter, doc_cleaner, parser, beam_parser, lemmatizer, trainable_lemmatizer, entity_linker, entity_ruler, tagger, morphologizer, ner, beam_ner, senter, sentencizer, spancat, spancat_singlelabel, span_finder, future_entity_ruler, span_ruler, textcat, textcat_multilabel, ca.lemmatizer"
     ]
    }
   ],
   "source": [
    "import spacy\n",
    "import numpy as np\n",
    "\n",
    "# Cargar el modelo de spaCy\n",
    "nlp_trf = spacy.load('ca_core_news_trf')\n",
    "\n",
    "# Lista para almacenar los embeddings\n",
    "embeddings_trf = []\n",
    "\n",
    "# Longitud máxima para los embeddings\n",
    "max_embedding_length = 100\n",
    "\n",
    "# Procesar las oraciones con spaCy para obtener los embeddings\n",
    "for sentence in preprocessed_sentences:\n",
    "    # Procesar la oración con spaCy\n",
    "    doc = nlp_trf(' '.join(sentence))\n",
    "    # Obtener las representaciones de la última capa oculta\n",
    "    embeddings_doc = doc._.trf_data.last_hidden_layer_state\n",
    "    # Convertir a numpy array\n",
    "    embeddings_np = np.array(embeddings_doc.data)\n",
    "    # Calcular la media de los embeddings a lo largo del eje de las palabras\n",
    "    sentence_embedding = np.mean(embeddings_np, axis=1)\n",
    "    # Aplicar relleno al final del array si es necesario\n",
    "    if sentence_embedding.shape[0] < max_embedding_length:\n",
    "        # Calcular cuánto relleno se necesita\n",
    "        padding_length = max_embedding_length - sentence_embedding.shape[0]\n",
    "        # Agregar ceros al final del array para rellenar\n",
    "        padded_embedding = np.pad(sentence_embedding, (0, padding_length), mode='constant')\n",
    "        embeddings_trf.append(padded_embedding)\n",
    "    else:\n",
    "        embeddings_trf.append(sentence_embedding[:max_embedding_length])\n",
    "\n",
    "# Convertir la lista de embeddings en un array de NumPy\n",
    "embeddings_array_trf = np.array(embeddings_trf)\n",
    "\n",
    "# Dividir los pares de entrada nuevamente\n",
    "train_embeddings_pairs = [\n",
    "    (embeddings_array_trf[i], embeddings_array_trf[i + num_train_samples], label)\n",
    "    for i, (_, _, label) in enumerate(input_pairs)\n",
    "    if i + num_train_samples < len(embeddings_array_trf)\n",
    "]\n",
    "\n",
    "val_embeddings_pairs = [\n",
    "    (embeddings_array_trf[i], embeddings_array_trf[i + num_val_samples], label)\n",
    "    for i, (_, _, label) in enumerate(input_pairs_val)\n",
    "    if i + num_val_samples < len(embeddings_array_trf)\n",
    "]\n",
    "\n",
    "max_seq_length = max(len(seq) for seq in embeddings_trf)\n"
   ]
  },
  {
   "cell_type": "code",
   "execution_count": null,
   "metadata": {},
   "outputs": [],
   "source": [
    "# Entrenar el modelo con los embeddings\n",
    "model = model_2(dictionary_size=vocab_size, input_length=max_seq_length, use_cosine=True)  # El input_dim debe ser la dimensión del embedding\n",
    "history = model.fit(\n",
    "    x=[np.array([pair[0] for pair in train_embeddings_pairs]), np.array([pair[1] for pair in train_embeddings_pairs])],\n",
    "    y=np.array([pair[2] for pair in train_embeddings_pairs]),\n",
    "    validation_data=(\n",
    "        [np.array([pair[0] for pair in val_embeddings_pairs]), np.array([pair[1] for pair in val_embeddings_pairs])],\n",
    "        np.array([pair[2] for pair in val_embeddings_pairs]),\n",
    "    ),\n",
    "    epochs=50,  # Ajustar según sea necesario\n",
    "    batch_size=32,  # Ajustar según sea necesario\n",
    "    verbose=1\n",
    ")\n"
   ]
  },
  {
   "cell_type": "markdown",
   "metadata": {},
   "source": [
    "### 5. RoBERTa fine-tuned"
   ]
  },
  {
   "cell_type": "code",
   "execution_count": 80,
   "metadata": {},
   "outputs": [
    {
     "name": "stderr",
     "output_type": "stream",
     "text": [
      "c:\\Users\\USER\\AppData\\Local\\Programs\\Python\\Python311\\Lib\\site-packages\\transformers\\utils\\generic.py:309: UserWarning: torch.utils._pytree._register_pytree_node is deprecated. Please use torch.utils._pytree.register_pytree_node instead.\n",
      "  _torch_pytree._register_pytree_node(\n",
      "c:\\Users\\USER\\AppData\\Local\\Programs\\Python\\Python311\\Lib\\site-packages\\huggingface_hub\\file_download.py:1132: FutureWarning: `resume_download` is deprecated and will be removed in version 1.0.0. Downloads always resume when possible. If you want to force a new download, use `force_download=True`.\n",
      "  warnings.warn(\n"
     ]
    }
   ],
   "source": [
    "from transformers import pipeline, AutoTokenizer\n",
    "from scipy.special import logit\n",
    "\n",
    "model = 'projecte-aina/roberta-base-ca-v2-cased-sts'\n",
    "tokenizer = AutoTokenizer.from_pretrained(model)\n",
    "pipe = pipeline('text-classification', model=model, tokenizer=tokenizer)"
   ]
  },
  {
   "cell_type": "code",
   "execution_count": 81,
   "metadata": {},
   "outputs": [],
   "source": [
    "def prepare(sentence_pairs):\n",
    "    sentence_pairs_prep = []\n",
    "    for s1, s2 in sentence_pairs:\n",
    "        sentence_pairs_prep.append(f\"{tokenizer.cls_token} {s1}{tokenizer.sep_token}{tokenizer.sep_token} {s2}{tokenizer.sep_token}\")\n",
    "    return sentence_pairs_prep"
   ]
  },
  {
   "cell_type": "code",
   "execution_count": 85,
   "metadata": {},
   "outputs": [],
   "source": [
    "fine_runed_corpus_semantic = corpus_semantic.copy()\n",
    "for i, (frase1, frase2) in enumerate(fine_runed_corpus_semantic):\n",
    "    frase1 = ' '.join(frase1)\n",
    "    frase2 = ' '.join(frase2)\n",
    "    fine_runed_corpus_semantic[i] = (frase1, frase2)"
   ]
  },
  {
   "cell_type": "code",
   "execution_count": 92,
   "metadata": {},
   "outputs": [
    {
     "name": "stdout",
     "output_type": "stream",
     "text": [
      "Error cuadrático medio (MSE): 0.19488246370881346\n",
      "Coeficiente de determinación (R^2): 0.7218913654462078\n"
     ]
    }
   ],
   "source": [
    "from sklearn.metrics import mean_squared_error, r2_score\n",
    "\n",
    "predicciones = pipe(prepare(fine_runed_corpus_semantic), add_special_tokens=False)\n",
    "\n",
    "# convert back to scores to the original 0 and 5 interval\n",
    "for prediction in predicciones:\n",
    "    prediction['score'] = logit(prediction['score'])\n",
    "\n",
    "scores = [pred['score'] for pred in predicciones]\n",
    "\n",
    "mse = mean_squared_error(semantic_score, scores)\n",
    "r2 = r2_score(semantic_score, scores)\n",
    "\n",
    "print(\"Error cuadrático medio (MSE):\", mse)\n",
    "print(\"Coeficiente de determinación (R^2):\", r2)\n"
   ]
  },
  {
   "cell_type": "code",
   "execution_count": null,
   "metadata": {},
   "outputs": [],
   "source": [
    "mse = mean_squared_error(semantic_score_test, predicciones)\n",
    "\n",
    "# Calcular el coeficiente de determinación (R^2)\n",
    "r2 = r2_score(semantic_score_test, predicciones)\n",
    "\n",
    "print(\"Error cuadrático medio (MSE):\", mse)\n",
    "print(\"Coeficiente de determinación (R^2):\", r2)"
   ]
  },
  {
   "cell_type": "code",
   "execution_count": 87,
   "metadata": {},
   "outputs": [],
   "source": [
    "fine_runed_corpus_semantic_test = corpus_semantic_test.copy()\n",
    "for i, (frase1, frase2) in enumerate(fine_runed_corpus_semantic_test):\n",
    "    frase1 = ' '.join(frase1)\n",
    "    frase2 = ' '.join(frase2)\n",
    "    fine_runed_corpus_semantic_test[i] = (frase1, frase2)"
   ]
  },
  {
   "cell_type": "code",
   "execution_count": 91,
   "metadata": {},
   "outputs": [
    {
     "name": "stdout",
     "output_type": "stream",
     "text": [
      "Error cuadrático medio (MSE): 0.3876424155120614\n",
      "Coeficiente de determinación (R^2): 0.48657282822706216\n"
     ]
    }
   ],
   "source": [
    "from sklearn.metrics import mean_squared_error, r2_score\n",
    "\n",
    "predicciones = pipe(prepare(fine_runed_corpus_semantic_test), add_special_tokens=False)\n",
    "\n",
    "# convert back to scores to the original 0 and 5 interval\n",
    "for prediction in predicciones:\n",
    "    prediction['score'] = logit(prediction['score'])\n",
    "\n",
    "scores = [pred['score'] for pred in predicciones]\n",
    "\n",
    "mse = mean_squared_error(semantic_score_test, scores)\n",
    "r2 = r2_score(semantic_score_test, scores)\n",
    "\n",
    "print(\"Error cuadrático medio (MSE):\", mse)\n",
    "print(\"Coeficiente de determinación (R^2):\", r2)"
   ]
  },
  {
   "cell_type": "markdown",
   "metadata": {},
   "source": [
    "Observem que l'error quadràtic és significativament inferior en comparació amb els altres models, fet que indica una millor ajustament del model. A més, destaca que el coeficient de determinació R2 és notablement elevat, suggerint una alta capacitat del model per explicar la variabilitat de les dades observades."
   ]
  },
  {
   "cell_type": "markdown",
   "metadata": {},
   "source": [
    "## Model amb embeddings entrenables"
   ]
  },
  {
   "cell_type": "code",
   "execution_count": 56,
   "metadata": {},
   "outputs": [
    {
     "name": "stdout",
     "output_type": "stream",
     "text": [
      "Model: \"model_13\"\n",
      "__________________________________________________________________________________________________\n",
      " Layer (type)                Output Shape                 Param #   Connected to                  \n",
      "==================================================================================================\n",
      " input_27 (InputLayer)       [(None, 37)]                 0         []                            \n",
      "                                                                                                  \n",
      " input_28 (InputLayer)       [(None, 37)]                 0         []                            \n",
      "                                                                                                  \n",
      " embedding_1 (Embedding)     (None, 37, 100)              100000    ['input_27[0][0]',            \n",
      "                                                                     'input_28[0][0]']            \n",
      "                                                                                                  \n",
      " tf.math.not_equal_2 (TFOpL  (None, 37)                   0         ['input_27[0][0]']            \n",
      " ambda)                                                                                           \n",
      "                                                                                                  \n",
      " tf.math.not_equal_3 (TFOpL  (None, 37)                   0         ['input_28[0][0]']            \n",
      " ambda)                                                                                           \n",
      "                                                                                                  \n",
      " sequential_1 (Sequential)   (None, 37, 1)                1633      ['embedding_1[0][0]',         \n",
      "                                                                     'embedding_1[1][0]']         \n",
      "                                                                                                  \n",
      " tf.__operators__.getitem_2  (None, 37, 1)                0         ['tf.math.not_equal_2[0][0]'] \n",
      "  (SlicingOpLambda)                                                                               \n",
      "                                                                                                  \n",
      " tf.__operators__.getitem_3  (None, 37, 1)                0         ['tf.math.not_equal_3[0][0]'] \n",
      "  (SlicingOpLambda)                                                                               \n",
      "                                                                                                  \n",
      " tf.math.exp_2 (TFOpLambda)  (None, 37, 1)                0         ['sequential_1[0][0]']        \n",
      "                                                                                                  \n",
      " tf.cast_2 (TFOpLambda)      (None, 37, 1)                0         ['tf.__operators__.getitem_2[0\n",
      "                                                                    ][0]']                        \n",
      "                                                                                                  \n",
      " tf.math.exp_3 (TFOpLambda)  (None, 37, 1)                0         ['sequential_1[1][0]']        \n",
      "                                                                                                  \n",
      " tf.cast_3 (TFOpLambda)      (None, 37, 1)                0         ['tf.__operators__.getitem_3[0\n",
      "                                                                    ][0]']                        \n",
      "                                                                                                  \n",
      " tf.math.multiply_4 (TFOpLa  (None, 37, 1)                0         ['tf.math.exp_2[0][0]',       \n",
      " mbda)                                                               'tf.cast_2[0][0]']           \n",
      "                                                                                                  \n",
      " tf.math.multiply_5 (TFOpLa  (None, 37, 1)                0         ['tf.math.exp_3[0][0]',       \n",
      " mbda)                                                               'tf.cast_3[0][0]']           \n",
      "                                                                                                  \n",
      " tf.math.reduce_sum_4 (TFOp  (None, 1, 1)                 0         ['tf.math.multiply_4[0][0]']  \n",
      " Lambda)                                                                                          \n",
      "                                                                                                  \n",
      " tf.math.reduce_sum_5 (TFOp  (None, 1, 1)                 0         ['tf.math.multiply_5[0][0]']  \n",
      " Lambda)                                                                                          \n",
      "                                                                                                  \n",
      " tf.math.truediv_2 (TFOpLam  (None, 37, 1)                0         ['tf.math.multiply_4[0][0]',  \n",
      " bda)                                                                'tf.math.reduce_sum_4[0][0]']\n",
      "                                                                                                  \n",
      " tf.math.truediv_3 (TFOpLam  (None, 37, 1)                0         ['tf.math.multiply_5[0][0]',  \n",
      " bda)                                                                'tf.math.reduce_sum_5[0][0]']\n",
      "                                                                                                  \n",
      " tf.math.multiply_6 (TFOpLa  (None, 37, 100)              0         ['embedding_1[0][0]',         \n",
      " mbda)                                                               'tf.math.truediv_2[0][0]']   \n",
      "                                                                                                  \n",
      " tf.math.multiply_7 (TFOpLa  (None, 37, 100)              0         ['embedding_1[1][0]',         \n",
      " mbda)                                                               'tf.math.truediv_3[0][0]']   \n",
      "                                                                                                  \n",
      " tf.math.reduce_sum_6 (TFOp  (None, 100)                  0         ['tf.math.multiply_6[0][0]']  \n",
      " Lambda)                                                                                          \n",
      "                                                                                                  \n",
      " tf.math.reduce_sum_7 (TFOp  (None, 100)                  0         ['tf.math.multiply_7[0][0]']  \n",
      " Lambda)                                                                                          \n",
      "                                                                                                  \n",
      " lambda_25 (Lambda)          (None,)                      0         ['tf.math.reduce_sum_6[0][0]',\n",
      "                                                                     'tf.math.reduce_sum_7[0][0]']\n",
      "                                                                                                  \n",
      "==================================================================================================\n",
      "Total params: 101633 (397.00 KB)\n",
      "Trainable params: 101633 (397.00 KB)\n",
      "Non-trainable params: 0 (0.00 Byte)\n",
      "__________________________________________________________________________________________________\n"
     ]
    }
   ],
   "source": [
    "import tensorflow as tf\n",
    "\n",
    "def model_2_wv_rnd(\n",
    "    input_length: int = 37,\n",
    "    dictionary_size: int = 1000,\n",
    "    embedding_size: int = 100,\n",
    "    learning_rate: float = 0.01,\n",
    "    pretrained_weights: Optional[np.ndarray] = None,\n",
    "    trainable: bool = False,\n",
    "    use_cosine: bool = False,\n",
    "    l2_regularizer: float = 1e-4,\n",
    ") -> tf.keras.Model:\n",
    "    # Inputs\n",
    "    input_1 = tf.keras.Input((input_length,), dtype=tf.int32)\n",
    "    input_2 = tf.keras.Input((input_length,), dtype=tf.int32)\n",
    "\n",
    "    # Embedding Layer\n",
    "    if pretrained_weights is None:\n",
    "        embedding = tf.keras.layers.Embedding(\n",
    "            dictionary_size, embedding_size, input_length=input_length, mask_zero=True, embeddings_initializer='uniform'\n",
    "        )\n",
    "    else:\n",
    "        # Obtener la matriz de embeddings del modelo Word2Vec\n",
    "        word_vectors = pretrained_weights.wv\n",
    "        embedding_matrix = np.zeros((len(word_vectors), embedding_size))\n",
    "        for i in range(len(word_vectors)):\n",
    "            embedding_matrix[i] = word_vectors[word_vectors.index_to_key[i]]\n",
    "            \n",
    "        dictionary_size = embedding_matrix.shape[0]\n",
    "        embedding_size = embedding_matrix.shape[1]\n",
    "        initializer = tf.keras.initializers.Constant(embedding_matrix)\n",
    "        embedding = tf.keras.layers.Embedding(\n",
    "            dictionary_size,\n",
    "            embedding_size,\n",
    "            input_length=input_length,\n",
    "            mask_zero=True,\n",
    "            embeddings_initializer=initializer,\n",
    "            trainable=trainable,\n",
    "        )\n",
    "\n",
    "    # Embed the inputs\n",
    "    embedded_1 = embedding(input_1)\n",
    "    embedded_2 = embedding(input_2)\n",
    "    # Pass through the embedding layer\n",
    "    _input_mask_1, _input_mask_2 = tf.not_equal(input_1, 0), tf.not_equal(input_2, 0)\n",
    "    \n",
    "    # Attention Mechanism\n",
    "    attention_mlp = tf.keras.Sequential([\n",
    "        tf.keras.layers.Dropout(0.2),\n",
    "        tf.keras.layers.Dense(16, activation='tanh', kernel_regularizer=tf.keras.regularizers.l2(l2_regularizer)),\n",
    "        tf.keras.layers.Dropout(0.2),\n",
    "        tf.keras.layers.Dense(1)\n",
    "    ])\n",
    "    # Apply attention to each embedding\n",
    "    attention_weights_1 = attention_mlp(embedded_1)  \n",
    "    attention_weights_2 = attention_mlp(embedded_2) \n",
    "    # Mask the attention weights\n",
    "    attention_weights_1 = tf.exp(attention_weights_1) * tf.cast(_input_mask_1[:, :, None], tf.float32)\n",
    "    attention_weights_2 = tf.exp(attention_weights_2) * tf.cast(_input_mask_2[:, :, None], tf.float32)\n",
    "    # Normalize attention weights\n",
    "    attention_weights_1 = attention_weights_1 / tf.reduce_sum(attention_weights_1, axis=1, keepdims=True)\n",
    "    attention_weights_2 = attention_weights_2 / tf.reduce_sum(attention_weights_2, axis=1, keepdims=True)\n",
    "    # Compute context vectors\n",
    "    projected_1 = tf.reduce_sum(embedded_1 * attention_weights_1, axis=1) \n",
    "    projected_2 = tf.reduce_sum(embedded_2 * attention_weights_2, axis=1) \n",
    "    \n",
    "    if use_cosine:\n",
    "        # Compute the cosine distance using a Lambda layer\n",
    "        def cosine_distance(x):\n",
    "            x1, x2 = x\n",
    "            x1_normalized = tf.keras.backend.l2_normalize(x1, axis=1)\n",
    "            x2_normalized = tf.keras.backend.l2_normalize(x2, axis=1)\n",
    "            return 2.5 * (1.0 + tf.reduce_sum(x1_normalized * x2_normalized, axis=1))\n",
    "        output = tf.keras.layers.Lambda(cosine_distance)([projected_1, projected_2])\n",
    "    else:\n",
    "         # Compute the cosine distance using a Lambda layer\n",
    "        def normalized_product(x):\n",
    "            x1, x2 = x\n",
    "            x1_normalized = tf.keras.backend.l2_normalize(x1, axis=1)\n",
    "            x2_normalized = tf.keras.backend.l2_normalize(x2, axis=1)\n",
    "            return x1_normalized * x2_normalized\n",
    "    \n",
    "        output = tf.keras.layers.Lambda(normalized_product)([projected_1, projected_2])\n",
    "        output = tf.keras.layers.Dropout(0.1)(output)\n",
    "        output = tf.keras.layers.Dense(\n",
    "            16,\n",
    "            activation=\"relu\",\n",
    "            kernel_regularizer=tf.keras.regularizers.l2(l2_regularizer)\n",
    "        )(output)\n",
    "        output = tf.keras.layers.Dropout(0.2)(output)\n",
    "        output = tf.keras.layers.Dense(\n",
    "            1,\n",
    "            activation=\"sigmoid\",\n",
    "        )(output)\n",
    "        \n",
    "        output = tf.keras.layers.Lambda(lambda x: x * 5)(output)\n",
    "        \n",
    "    # Model Definition\n",
    "    model = tf.keras.Model(inputs=(input_1, input_2), outputs=output)\n",
    "    model.compile(\n",
    "        loss=\"mean_squared_error\", optimizer=tf.keras.optimizers.Adam(learning_rate=learning_rate)\n",
    "    )\n",
    "    return model\n",
    "\n",
    "baseline_model = model_2(use_cosine = True)\n",
    "baseline_model.compile()\n",
    "baseline_model.summary()\n"
   ]
  },
  {
   "cell_type": "code",
   "execution_count": null,
   "metadata": {},
   "outputs": [],
   "source": [
    "from collections import defaultdict\n",
    "from tensorflow.keras.preprocessing.sequence import pad_sequences\n",
    "\n",
    "\n",
    "# Tokenitzar i preparar les seqüències d'entrada per als models\n",
    "def tokenitzar(text):\n",
    "    return text.lower().split()\n",
    "\n",
    "def construir_diccionari(texts):\n",
    "    word_to_index = defaultdict(lambda: len(word_to_index))\n",
    "    for text in texts:\n",
    "        tokens = tokenitzar(text)\n",
    "        for token in tokens:\n",
    "            word_to_index[token]\n",
    "    return dict(word_to_index)\n",
    "\n",
    "def text_to_sequence(text, word_to_index):\n",
    "    tokens = tokenitzar(text)\n",
    "    return [word_to_index[token] for token in tokens]"
   ]
  },
  {
   "cell_type": "code",
   "execution_count": 52,
   "metadata": {},
   "outputs": [],
   "source": [
    "##### TRAIN #####\n",
    "\n",
    "# Suposem que tens els teus texts i labels\n",
    "texts = [(sentence1, sentence2) for sentence1, sentence2, _ in input_pairs]\n",
    "labels = [label for _, _, label in input_pairs]\n",
    "\n",
    "# Obtenim tots els textos del dataset\n",
    "all_texts = [text for pair in input_pairs for text in pair[:2]]\n",
    "word_to_index = construir_diccionari(all_texts)\n",
    "\n",
    "# Convertir tots els textos a seqüències d'índexs\n",
    "input_sequences = [(text_to_sequence(pair[0], word_to_index), text_to_sequence(pair[1], word_to_index)) for pair in input_pairs]\n",
    "\n",
    "# max length of the sequences\n",
    "max_len = max(max(len(seq[0]), len(seq[1])) for seq in input_sequences) \n",
    "\n",
    "# Padding de les seqüències d'índexs\n",
    "input_1_sequences = pad_sequences([seq[0] for seq in input_sequences], maxlen=max_len, padding='post')\n",
    "input_2_sequences = pad_sequences([seq[1] for seq in input_sequences], maxlen=max_len, padding='post')\n",
    "\n",
    "# Convertir les seqüències i labels a arrays numpy\n",
    "input_1_sequences = np.array(input_1_sequences)\n",
    "input_2_sequences = np.array(input_2_sequences)\n",
    "labels = np.array(labels)\n",
    "\n",
    "# Ajustar la mida del diccionari basat en el nombre de paraules úniques\n",
    "dictionary_size = len(word_to_index)\n",
    "\n",
    "#### TEST ####\n",
    "texts_test = [(sentence1, sentence2) for sentence1, sentence2, _ in input_pairs_test]\n",
    "labels_test = [label for _, _, label in input_pairs_test]\n",
    "\n",
    "# Obtenim tots els textos del dataset\n",
    "all_texts_test = [text for pair in input_pairs_test for text in pair[:2]]\n",
    "word_to_index_test = construir_diccionari(all_texts_test)\n",
    "\n",
    "# Convertir tots els textos a seqüències d'índexs\n",
    "input_sequences_test = [(text_to_sequence(pair[0], word_to_index_test), text_to_sequence(pair[1], word_to_index_test)) for pair in input_pairs_test]\n",
    "\n",
    "# max length of the sequences\n",
    "max_len_test = max(max(len(seq[0]), len(seq[1])) for seq in input_sequences_test) \n",
    "\n",
    "# Padding de les seqüències d'índexs\n",
    "input_1_sequences_test = pad_sequences([seq[0] for seq in input_sequences_test], maxlen=max_len, padding='post')\n",
    "input_2_sequences_test = pad_sequences([seq[1] for seq in input_sequences_test], maxlen=max_len, padding='post')\n",
    "\n",
    "# Convertir les seqüències i labels a arrays numpy\n",
    "input_1_sequences_test = np.array(input_1_sequences_test)\n",
    "input_2_sequences_test= np.array(input_2_sequences_test)\n",
    "labels_test = np.array(labels_test)\n",
    "\n",
    "##### VALIDATION #####\n",
    "# Suposem que tens els teus texts i labels\n",
    "texts_val = [(sentence1, sentence2) for sentence1, sentence2, _ in input_pairs_val]\n",
    "labels_val = [label for _, _, label in input_pairs_val]\n",
    "\n",
    "# Obtenim tots els textos del dataset\n",
    "all_texts_val = [text for pair in input_pairs_val for text in pair[:2]]\n",
    "word_to_index_val = construir_diccionari(all_texts_val)\n",
    "\n",
    "# Convertir tots els textos a seqüències d'índexs\n",
    "input_sequences_val = [(text_to_sequence(pair[0], word_to_index_val), text_to_sequence(pair[1], word_to_index_val)) for pair in input_pairs_val]\n",
    "\n",
    "# max length of the sequences\n",
    "max_len_val = max(max(len(seq[0]), len(seq[1])) for seq in input_sequences_val) \n",
    "\n",
    "# Padding de les seqüències d'índexs\n",
    "input_1_sequences_val = pad_sequences([seq[0] for seq in input_sequences_val], maxlen=max_len, padding='post')\n",
    "input_2_sequences_val = pad_sequences([seq[1] for seq in input_sequences_val], maxlen=max_len, padding='post')\n",
    "\n",
    "\n",
    "# Convertir les seqüències i labels a arrays numpy\n",
    "input_1_sequences_val = np.array(input_1_sequences_val)\n",
    "input_2_sequences_val= np.array(input_2_sequences_val)\n",
    "labels_val = np.array(labels_val)"
   ]
  },
  {
   "cell_type": "code",
   "execution_count": 53,
   "metadata": {},
   "outputs": [],
   "source": [
    "batch_size = 64\n",
    "\n",
    "# Crear Dataset de TensorFlow per a les dades d'entrenament\n",
    "train_dataset = tf.data.Dataset.from_tensor_slices(((input_1_sequences, input_2_sequences), labels))\n",
    "train_dataset = train_dataset.shuffle(buffer_size=len(labels)).batch(batch_size)\n",
    "\n",
    "# Crear Dataset de TensorFlow per a les dades de validació\n",
    "val_dataset = tf.data.Dataset.from_tensor_slices(((input_1_sequences_val, input_2_sequences_val), labels_val))\n",
    "val_dataset = val_dataset.batch(batch_size)\n",
    "\n",
    "# Crear Dataset de TensorFlow per a les dades de test\n",
    "test_dataset = tf.data.Dataset.from_tensor_slices(((input_1_sequences_test, input_2_sequences_test), labels_test))\n",
    "test_dataset = test_dataset.batch(batch_size)"
   ]
  },
  {
   "cell_type": "markdown",
   "metadata": {},
   "source": [
    "### Resultats"
   ]
  },
  {
   "cell_type": "markdown",
   "metadata": {},
   "source": [
    "#### Word2Vec"
   ]
  },
  {
   "cell_type": "code",
   "execution_count": 57,
   "metadata": {},
   "outputs": [],
   "source": [
    "word2vec_embedding_models = {}\n",
    "for model in models:\n",
    "    word2vec_embedding_models[f\"{model}\"] = model_2_wv_rnd(pretrained_weights=models[model], trainable=True, use_cosine=True)"
   ]
  },
  {
   "cell_type": "code",
   "execution_count": 59,
   "metadata": {},
   "outputs": [
    {
     "name": "stdout",
     "output_type": "stream",
     "text": [
      "Entrenament embeddings pel model 100MB\n",
      "33/33 [==============================] - 0s 1ms/step - loss: 0.0193\n",
      "MSE del model amb Word2Vec Embeddings en train: 0.01931370235979557\n",
      "16/16 [==============================] - 0s 1ms/step\n",
      "\n",
      "\n",
      "\n",
      "MSE del model amb Word2Vec Embeddings en test: 2.2849441930538372\n",
      "R^2 del model amb Word2Vec Embeddings en test: -2.0263778878504257\n",
      "Entrenament embeddings pel model 500MB\n"
     ]
    },
    {
     "ename": "KeyboardInterrupt",
     "evalue": "",
     "output_type": "error",
     "traceback": [
      "\u001b[1;31m---------------------------------------------------------------------------\u001b[0m",
      "\u001b[1;31mKeyboardInterrupt\u001b[0m                         Traceback (most recent call last)",
      "Cell \u001b[1;32mIn[59], line 26\u001b[0m\n\u001b[0;32m     24\u001b[0m model \u001b[38;5;241m=\u001b[39m word2vec_embedding_models[word2vec_model]\n\u001b[0;32m     25\u001b[0m \u001b[38;5;28mprint\u001b[39m(\u001b[38;5;124mf\u001b[39m\u001b[38;5;124m\"\u001b[39m\u001b[38;5;124mEntrenament embeddings pel model \u001b[39m\u001b[38;5;132;01m{\u001b[39;00mword2vec_model\u001b[38;5;132;01m}\u001b[39;00m\u001b[38;5;124m\"\u001b[39m)\n\u001b[1;32m---> 26\u001b[0m datasets \u001b[38;5;241m=\u001b[39m \u001b[43mentrenament_wv\u001b[49m\u001b[43m(\u001b[49m\u001b[43mmodel\u001b[49m\u001b[43m,\u001b[49m\u001b[43m \u001b[49m\u001b[43minput_1_sequences_test\u001b[49m\u001b[43m,\u001b[49m\u001b[43m \u001b[49m\u001b[43minput_2_sequences_test\u001b[49m\u001b[43m,\u001b[49m\u001b[43m \u001b[49m\u001b[43mlabels_test\u001b[49m\u001b[43m,\u001b[49m\u001b[43m \u001b[49m\u001b[43mbatch_size\u001b[49m\u001b[38;5;241;43m=\u001b[39;49m\u001b[38;5;241;43m64\u001b[39;49m\u001b[43m)\u001b[49m\n",
      "Cell \u001b[1;32mIn[59], line 6\u001b[0m, in \u001b[0;36mentrenament_wv\u001b[1;34m(model, input_1_test, input_2_test, labels_test, batch_size)\u001b[0m\n\u001b[0;32m      4\u001b[0m \u001b[38;5;28;01mdef\u001b[39;00m \u001b[38;5;21mentrenament_wv\u001b[39m(model: gensim\u001b[38;5;241m.\u001b[39mmodels\u001b[38;5;241m.\u001b[39mword2vec, input_1_test, input_2_test, labels_test, batch_size: \u001b[38;5;28mint\u001b[39m \u001b[38;5;241m=\u001b[39m \u001b[38;5;241m64\u001b[39m):\n\u001b[1;32m----> 6\u001b[0m     \u001b[43mmodel\u001b[49m\u001b[38;5;241;43m.\u001b[39;49m\u001b[43mfit\u001b[49m\u001b[43m(\u001b[49m\u001b[43m[\u001b[49m\u001b[43minput_1_sequences\u001b[49m\u001b[43m,\u001b[49m\u001b[43m \u001b[49m\u001b[43minput_2_sequences\u001b[49m\u001b[43m]\u001b[49m\u001b[43m,\u001b[49m\u001b[43m \u001b[49m\u001b[43mlabels\u001b[49m\u001b[43m,\u001b[49m\u001b[43m \u001b[49m\u001b[43mepochs\u001b[49m\u001b[38;5;241;43m=\u001b[39;49m\u001b[38;5;241;43m50\u001b[39;49m\u001b[43m,\u001b[49m\u001b[43m \u001b[49m\u001b[43mbatch_size\u001b[49m\u001b[43m \u001b[49m\u001b[38;5;241;43m=\u001b[39;49m\u001b[43m \u001b[49m\u001b[43mbatch_size\u001b[49m\u001b[43m,\u001b[49m\u001b[43m \u001b[49m\n\u001b[0;32m      7\u001b[0m \u001b[43m              \u001b[49m\u001b[43mvalidation_data\u001b[49m\u001b[38;5;241;43m=\u001b[39;49m\u001b[43m(\u001b[49m\u001b[43m[\u001b[49m\u001b[43minput_1_sequences_val\u001b[49m\u001b[43m,\u001b[49m\u001b[43m \u001b[49m\u001b[43minput_2_sequences_val\u001b[49m\u001b[43m]\u001b[49m\u001b[43m,\u001b[49m\u001b[43m \u001b[49m\u001b[43mlabels_val\u001b[49m\u001b[43m)\u001b[49m\u001b[43m,\u001b[49m\u001b[43m \u001b[49m\u001b[43mverbose\u001b[49m\u001b[38;5;241;43m=\u001b[39;49m\u001b[38;5;241;43m0\u001b[39;49m\u001b[43m)\u001b[49m\n\u001b[0;32m      9\u001b[0m     \u001b[38;5;66;03m# Evaluate en el train\u001b[39;00m\n\u001b[0;32m     10\u001b[0m     mse_word2vec \u001b[38;5;241m=\u001b[39m model\u001b[38;5;241m.\u001b[39mevaluate(train_dataset)\n",
      "File \u001b[1;32mc:\\Users\\Usuario\\.pyenv\\pyenv-win\\versions\\3.11.0\\Lib\\site-packages\\keras\\src\\utils\\traceback_utils.py:65\u001b[0m, in \u001b[0;36mfilter_traceback.<locals>.error_handler\u001b[1;34m(*args, **kwargs)\u001b[0m\n\u001b[0;32m     63\u001b[0m filtered_tb \u001b[38;5;241m=\u001b[39m \u001b[38;5;28;01mNone\u001b[39;00m\n\u001b[0;32m     64\u001b[0m \u001b[38;5;28;01mtry\u001b[39;00m:\n\u001b[1;32m---> 65\u001b[0m     \u001b[38;5;28;01mreturn\u001b[39;00m \u001b[43mfn\u001b[49m\u001b[43m(\u001b[49m\u001b[38;5;241;43m*\u001b[39;49m\u001b[43margs\u001b[49m\u001b[43m,\u001b[49m\u001b[43m \u001b[49m\u001b[38;5;241;43m*\u001b[39;49m\u001b[38;5;241;43m*\u001b[39;49m\u001b[43mkwargs\u001b[49m\u001b[43m)\u001b[49m\n\u001b[0;32m     66\u001b[0m \u001b[38;5;28;01mexcept\u001b[39;00m \u001b[38;5;167;01mException\u001b[39;00m \u001b[38;5;28;01mas\u001b[39;00m e:\n\u001b[0;32m     67\u001b[0m     filtered_tb \u001b[38;5;241m=\u001b[39m _process_traceback_frames(e\u001b[38;5;241m.\u001b[39m__traceback__)\n",
      "File \u001b[1;32mc:\\Users\\Usuario\\.pyenv\\pyenv-win\\versions\\3.11.0\\Lib\\site-packages\\keras\\src\\engine\\training.py:1783\u001b[0m, in \u001b[0;36mModel.fit\u001b[1;34m(self, x, y, batch_size, epochs, verbose, callbacks, validation_split, validation_data, shuffle, class_weight, sample_weight, initial_epoch, steps_per_epoch, validation_steps, validation_batch_size, validation_freq, max_queue_size, workers, use_multiprocessing)\u001b[0m\n\u001b[0;32m   1775\u001b[0m \u001b[38;5;28;01mwith\u001b[39;00m tf\u001b[38;5;241m.\u001b[39mprofiler\u001b[38;5;241m.\u001b[39mexperimental\u001b[38;5;241m.\u001b[39mTrace(\n\u001b[0;32m   1776\u001b[0m     \u001b[38;5;124m\"\u001b[39m\u001b[38;5;124mtrain\u001b[39m\u001b[38;5;124m\"\u001b[39m,\n\u001b[0;32m   1777\u001b[0m     epoch_num\u001b[38;5;241m=\u001b[39mepoch,\n\u001b[1;32m   (...)\u001b[0m\n\u001b[0;32m   1780\u001b[0m     _r\u001b[38;5;241m=\u001b[39m\u001b[38;5;241m1\u001b[39m,\n\u001b[0;32m   1781\u001b[0m ):\n\u001b[0;32m   1782\u001b[0m     callbacks\u001b[38;5;241m.\u001b[39mon_train_batch_begin(step)\n\u001b[1;32m-> 1783\u001b[0m     tmp_logs \u001b[38;5;241m=\u001b[39m \u001b[38;5;28;43mself\u001b[39;49m\u001b[38;5;241;43m.\u001b[39;49m\u001b[43mtrain_function\u001b[49m\u001b[43m(\u001b[49m\u001b[43miterator\u001b[49m\u001b[43m)\u001b[49m\n\u001b[0;32m   1784\u001b[0m     \u001b[38;5;28;01mif\u001b[39;00m data_handler\u001b[38;5;241m.\u001b[39mshould_sync:\n\u001b[0;32m   1785\u001b[0m         context\u001b[38;5;241m.\u001b[39masync_wait()\n",
      "File \u001b[1;32mc:\\Users\\Usuario\\.pyenv\\pyenv-win\\versions\\3.11.0\\Lib\\site-packages\\tensorflow\\python\\util\\traceback_utils.py:150\u001b[0m, in \u001b[0;36mfilter_traceback.<locals>.error_handler\u001b[1;34m(*args, **kwargs)\u001b[0m\n\u001b[0;32m    148\u001b[0m filtered_tb \u001b[38;5;241m=\u001b[39m \u001b[38;5;28;01mNone\u001b[39;00m\n\u001b[0;32m    149\u001b[0m \u001b[38;5;28;01mtry\u001b[39;00m:\n\u001b[1;32m--> 150\u001b[0m   \u001b[38;5;28;01mreturn\u001b[39;00m \u001b[43mfn\u001b[49m\u001b[43m(\u001b[49m\u001b[38;5;241;43m*\u001b[39;49m\u001b[43margs\u001b[49m\u001b[43m,\u001b[49m\u001b[43m \u001b[49m\u001b[38;5;241;43m*\u001b[39;49m\u001b[38;5;241;43m*\u001b[39;49m\u001b[43mkwargs\u001b[49m\u001b[43m)\u001b[49m\n\u001b[0;32m    151\u001b[0m \u001b[38;5;28;01mexcept\u001b[39;00m \u001b[38;5;167;01mException\u001b[39;00m \u001b[38;5;28;01mas\u001b[39;00m e:\n\u001b[0;32m    152\u001b[0m   filtered_tb \u001b[38;5;241m=\u001b[39m _process_traceback_frames(e\u001b[38;5;241m.\u001b[39m__traceback__)\n",
      "File \u001b[1;32mc:\\Users\\Usuario\\.pyenv\\pyenv-win\\versions\\3.11.0\\Lib\\site-packages\\tensorflow\\python\\eager\\polymorphic_function\\polymorphic_function.py:831\u001b[0m, in \u001b[0;36mFunction.__call__\u001b[1;34m(self, *args, **kwds)\u001b[0m\n\u001b[0;32m    828\u001b[0m compiler \u001b[38;5;241m=\u001b[39m \u001b[38;5;124m\"\u001b[39m\u001b[38;5;124mxla\u001b[39m\u001b[38;5;124m\"\u001b[39m \u001b[38;5;28;01mif\u001b[39;00m \u001b[38;5;28mself\u001b[39m\u001b[38;5;241m.\u001b[39m_jit_compile \u001b[38;5;28;01melse\u001b[39;00m \u001b[38;5;124m\"\u001b[39m\u001b[38;5;124mnonXla\u001b[39m\u001b[38;5;124m\"\u001b[39m\n\u001b[0;32m    830\u001b[0m \u001b[38;5;28;01mwith\u001b[39;00m OptionalXlaContext(\u001b[38;5;28mself\u001b[39m\u001b[38;5;241m.\u001b[39m_jit_compile):\n\u001b[1;32m--> 831\u001b[0m   result \u001b[38;5;241m=\u001b[39m \u001b[38;5;28;43mself\u001b[39;49m\u001b[38;5;241;43m.\u001b[39;49m\u001b[43m_call\u001b[49m\u001b[43m(\u001b[49m\u001b[38;5;241;43m*\u001b[39;49m\u001b[43margs\u001b[49m\u001b[43m,\u001b[49m\u001b[43m \u001b[49m\u001b[38;5;241;43m*\u001b[39;49m\u001b[38;5;241;43m*\u001b[39;49m\u001b[43mkwds\u001b[49m\u001b[43m)\u001b[49m\n\u001b[0;32m    833\u001b[0m new_tracing_count \u001b[38;5;241m=\u001b[39m \u001b[38;5;28mself\u001b[39m\u001b[38;5;241m.\u001b[39mexperimental_get_tracing_count()\n\u001b[0;32m    834\u001b[0m without_tracing \u001b[38;5;241m=\u001b[39m (tracing_count \u001b[38;5;241m==\u001b[39m new_tracing_count)\n",
      "File \u001b[1;32mc:\\Users\\Usuario\\.pyenv\\pyenv-win\\versions\\3.11.0\\Lib\\site-packages\\tensorflow\\python\\eager\\polymorphic_function\\polymorphic_function.py:867\u001b[0m, in \u001b[0;36mFunction._call\u001b[1;34m(self, *args, **kwds)\u001b[0m\n\u001b[0;32m    864\u001b[0m   \u001b[38;5;28mself\u001b[39m\u001b[38;5;241m.\u001b[39m_lock\u001b[38;5;241m.\u001b[39mrelease()\n\u001b[0;32m    865\u001b[0m   \u001b[38;5;66;03m# In this case we have created variables on the first call, so we run the\u001b[39;00m\n\u001b[0;32m    866\u001b[0m   \u001b[38;5;66;03m# defunned version which is guaranteed to never create variables.\u001b[39;00m\n\u001b[1;32m--> 867\u001b[0m   \u001b[38;5;28;01mreturn\u001b[39;00m \u001b[43mtracing_compilation\u001b[49m\u001b[38;5;241;43m.\u001b[39;49m\u001b[43mcall_function\u001b[49m\u001b[43m(\u001b[49m\n\u001b[0;32m    868\u001b[0m \u001b[43m      \u001b[49m\u001b[43margs\u001b[49m\u001b[43m,\u001b[49m\u001b[43m \u001b[49m\u001b[43mkwds\u001b[49m\u001b[43m,\u001b[49m\u001b[43m \u001b[49m\u001b[38;5;28;43mself\u001b[39;49m\u001b[38;5;241;43m.\u001b[39;49m\u001b[43m_no_variable_creation_config\u001b[49m\n\u001b[0;32m    869\u001b[0m \u001b[43m  \u001b[49m\u001b[43m)\u001b[49m\n\u001b[0;32m    870\u001b[0m \u001b[38;5;28;01melif\u001b[39;00m \u001b[38;5;28mself\u001b[39m\u001b[38;5;241m.\u001b[39m_variable_creation_config \u001b[38;5;129;01mis\u001b[39;00m \u001b[38;5;129;01mnot\u001b[39;00m \u001b[38;5;28;01mNone\u001b[39;00m:\n\u001b[0;32m    871\u001b[0m   \u001b[38;5;66;03m# Release the lock early so that multiple threads can perform the call\u001b[39;00m\n\u001b[0;32m    872\u001b[0m   \u001b[38;5;66;03m# in parallel.\u001b[39;00m\n\u001b[0;32m    873\u001b[0m   \u001b[38;5;28mself\u001b[39m\u001b[38;5;241m.\u001b[39m_lock\u001b[38;5;241m.\u001b[39mrelease()\n",
      "File \u001b[1;32mc:\\Users\\Usuario\\.pyenv\\pyenv-win\\versions\\3.11.0\\Lib\\site-packages\\tensorflow\\python\\eager\\polymorphic_function\\tracing_compilation.py:139\u001b[0m, in \u001b[0;36mcall_function\u001b[1;34m(args, kwargs, tracing_options)\u001b[0m\n\u001b[0;32m    137\u001b[0m bound_args \u001b[38;5;241m=\u001b[39m function\u001b[38;5;241m.\u001b[39mfunction_type\u001b[38;5;241m.\u001b[39mbind(\u001b[38;5;241m*\u001b[39margs, \u001b[38;5;241m*\u001b[39m\u001b[38;5;241m*\u001b[39mkwargs)\n\u001b[0;32m    138\u001b[0m flat_inputs \u001b[38;5;241m=\u001b[39m function\u001b[38;5;241m.\u001b[39mfunction_type\u001b[38;5;241m.\u001b[39munpack_inputs(bound_args)\n\u001b[1;32m--> 139\u001b[0m \u001b[38;5;28;01mreturn\u001b[39;00m \u001b[43mfunction\u001b[49m\u001b[38;5;241;43m.\u001b[39;49m\u001b[43m_call_flat\u001b[49m\u001b[43m(\u001b[49m\u001b[43m  \u001b[49m\u001b[38;5;66;43;03m# pylint: disable=protected-access\u001b[39;49;00m\n\u001b[0;32m    140\u001b[0m \u001b[43m    \u001b[49m\u001b[43mflat_inputs\u001b[49m\u001b[43m,\u001b[49m\u001b[43m \u001b[49m\u001b[43mcaptured_inputs\u001b[49m\u001b[38;5;241;43m=\u001b[39;49m\u001b[43mfunction\u001b[49m\u001b[38;5;241;43m.\u001b[39;49m\u001b[43mcaptured_inputs\u001b[49m\n\u001b[0;32m    141\u001b[0m \u001b[43m\u001b[49m\u001b[43m)\u001b[49m\n",
      "File \u001b[1;32mc:\\Users\\Usuario\\.pyenv\\pyenv-win\\versions\\3.11.0\\Lib\\site-packages\\tensorflow\\python\\eager\\polymorphic_function\\concrete_function.py:1264\u001b[0m, in \u001b[0;36mConcreteFunction._call_flat\u001b[1;34m(self, tensor_inputs, captured_inputs)\u001b[0m\n\u001b[0;32m   1260\u001b[0m possible_gradient_type \u001b[38;5;241m=\u001b[39m gradients_util\u001b[38;5;241m.\u001b[39mPossibleTapeGradientTypes(args)\n\u001b[0;32m   1261\u001b[0m \u001b[38;5;28;01mif\u001b[39;00m (possible_gradient_type \u001b[38;5;241m==\u001b[39m gradients_util\u001b[38;5;241m.\u001b[39mPOSSIBLE_GRADIENT_TYPES_NONE\n\u001b[0;32m   1262\u001b[0m     \u001b[38;5;129;01mand\u001b[39;00m executing_eagerly):\n\u001b[0;32m   1263\u001b[0m   \u001b[38;5;66;03m# No tape is watching; skip to running the function.\u001b[39;00m\n\u001b[1;32m-> 1264\u001b[0m   \u001b[38;5;28;01mreturn\u001b[39;00m \u001b[38;5;28;43mself\u001b[39;49m\u001b[38;5;241;43m.\u001b[39;49m\u001b[43m_inference_function\u001b[49m\u001b[38;5;241;43m.\u001b[39;49m\u001b[43mflat_call\u001b[49m\u001b[43m(\u001b[49m\u001b[43margs\u001b[49m\u001b[43m)\u001b[49m\n\u001b[0;32m   1265\u001b[0m forward_backward \u001b[38;5;241m=\u001b[39m \u001b[38;5;28mself\u001b[39m\u001b[38;5;241m.\u001b[39m_select_forward_and_backward_functions(\n\u001b[0;32m   1266\u001b[0m     args,\n\u001b[0;32m   1267\u001b[0m     possible_gradient_type,\n\u001b[0;32m   1268\u001b[0m     executing_eagerly)\n\u001b[0;32m   1269\u001b[0m forward_function, args_with_tangents \u001b[38;5;241m=\u001b[39m forward_backward\u001b[38;5;241m.\u001b[39mforward()\n",
      "File \u001b[1;32mc:\\Users\\Usuario\\.pyenv\\pyenv-win\\versions\\3.11.0\\Lib\\site-packages\\tensorflow\\python\\eager\\polymorphic_function\\atomic_function.py:217\u001b[0m, in \u001b[0;36mAtomicFunction.flat_call\u001b[1;34m(self, args)\u001b[0m\n\u001b[0;32m    215\u001b[0m \u001b[38;5;28;01mdef\u001b[39;00m \u001b[38;5;21mflat_call\u001b[39m(\u001b[38;5;28mself\u001b[39m, args: Sequence[core\u001b[38;5;241m.\u001b[39mTensor]) \u001b[38;5;241m-\u001b[39m\u001b[38;5;241m>\u001b[39m Any:\n\u001b[0;32m    216\u001b[0m \u001b[38;5;250m  \u001b[39m\u001b[38;5;124;03m\"\"\"Calls with tensor inputs and returns the structured output.\"\"\"\u001b[39;00m\n\u001b[1;32m--> 217\u001b[0m   flat_outputs \u001b[38;5;241m=\u001b[39m \u001b[38;5;28;43mself\u001b[39;49m\u001b[43m(\u001b[49m\u001b[38;5;241;43m*\u001b[39;49m\u001b[43margs\u001b[49m\u001b[43m)\u001b[49m\n\u001b[0;32m    218\u001b[0m   \u001b[38;5;28;01mreturn\u001b[39;00m \u001b[38;5;28mself\u001b[39m\u001b[38;5;241m.\u001b[39mfunction_type\u001b[38;5;241m.\u001b[39mpack_output(flat_outputs)\n",
      "File \u001b[1;32mc:\\Users\\Usuario\\.pyenv\\pyenv-win\\versions\\3.11.0\\Lib\\site-packages\\tensorflow\\python\\eager\\polymorphic_function\\atomic_function.py:252\u001b[0m, in \u001b[0;36mAtomicFunction.__call__\u001b[1;34m(self, *args)\u001b[0m\n\u001b[0;32m    250\u001b[0m \u001b[38;5;28;01mwith\u001b[39;00m record\u001b[38;5;241m.\u001b[39mstop_recording():\n\u001b[0;32m    251\u001b[0m   \u001b[38;5;28;01mif\u001b[39;00m \u001b[38;5;28mself\u001b[39m\u001b[38;5;241m.\u001b[39m_bound_context\u001b[38;5;241m.\u001b[39mexecuting_eagerly():\n\u001b[1;32m--> 252\u001b[0m     outputs \u001b[38;5;241m=\u001b[39m \u001b[38;5;28;43mself\u001b[39;49m\u001b[38;5;241;43m.\u001b[39;49m\u001b[43m_bound_context\u001b[49m\u001b[38;5;241;43m.\u001b[39;49m\u001b[43mcall_function\u001b[49m\u001b[43m(\u001b[49m\n\u001b[0;32m    253\u001b[0m \u001b[43m        \u001b[49m\u001b[38;5;28;43mself\u001b[39;49m\u001b[38;5;241;43m.\u001b[39;49m\u001b[43mname\u001b[49m\u001b[43m,\u001b[49m\n\u001b[0;32m    254\u001b[0m \u001b[43m        \u001b[49m\u001b[38;5;28;43mlist\u001b[39;49m\u001b[43m(\u001b[49m\u001b[43margs\u001b[49m\u001b[43m)\u001b[49m\u001b[43m,\u001b[49m\n\u001b[0;32m    255\u001b[0m \u001b[43m        \u001b[49m\u001b[38;5;28;43mlen\u001b[39;49m\u001b[43m(\u001b[49m\u001b[38;5;28;43mself\u001b[39;49m\u001b[38;5;241;43m.\u001b[39;49m\u001b[43mfunction_type\u001b[49m\u001b[38;5;241;43m.\u001b[39;49m\u001b[43mflat_outputs\u001b[49m\u001b[43m)\u001b[49m\u001b[43m,\u001b[49m\n\u001b[0;32m    256\u001b[0m \u001b[43m    \u001b[49m\u001b[43m)\u001b[49m\n\u001b[0;32m    257\u001b[0m   \u001b[38;5;28;01melse\u001b[39;00m:\n\u001b[0;32m    258\u001b[0m     outputs \u001b[38;5;241m=\u001b[39m make_call_op_in_graph(\n\u001b[0;32m    259\u001b[0m         \u001b[38;5;28mself\u001b[39m,\n\u001b[0;32m    260\u001b[0m         \u001b[38;5;28mlist\u001b[39m(args),\n\u001b[0;32m    261\u001b[0m         \u001b[38;5;28mself\u001b[39m\u001b[38;5;241m.\u001b[39m_bound_context\u001b[38;5;241m.\u001b[39mfunction_call_options\u001b[38;5;241m.\u001b[39mas_attrs(),\n\u001b[0;32m    262\u001b[0m     )\n",
      "File \u001b[1;32mc:\\Users\\Usuario\\.pyenv\\pyenv-win\\versions\\3.11.0\\Lib\\site-packages\\tensorflow\\python\\eager\\context.py:1479\u001b[0m, in \u001b[0;36mContext.call_function\u001b[1;34m(self, name, tensor_inputs, num_outputs)\u001b[0m\n\u001b[0;32m   1477\u001b[0m cancellation_context \u001b[38;5;241m=\u001b[39m cancellation\u001b[38;5;241m.\u001b[39mcontext()\n\u001b[0;32m   1478\u001b[0m \u001b[38;5;28;01mif\u001b[39;00m cancellation_context \u001b[38;5;129;01mis\u001b[39;00m \u001b[38;5;28;01mNone\u001b[39;00m:\n\u001b[1;32m-> 1479\u001b[0m   outputs \u001b[38;5;241m=\u001b[39m \u001b[43mexecute\u001b[49m\u001b[38;5;241;43m.\u001b[39;49m\u001b[43mexecute\u001b[49m\u001b[43m(\u001b[49m\n\u001b[0;32m   1480\u001b[0m \u001b[43m      \u001b[49m\u001b[43mname\u001b[49m\u001b[38;5;241;43m.\u001b[39;49m\u001b[43mdecode\u001b[49m\u001b[43m(\u001b[49m\u001b[38;5;124;43m\"\u001b[39;49m\u001b[38;5;124;43mutf-8\u001b[39;49m\u001b[38;5;124;43m\"\u001b[39;49m\u001b[43m)\u001b[49m\u001b[43m,\u001b[49m\n\u001b[0;32m   1481\u001b[0m \u001b[43m      \u001b[49m\u001b[43mnum_outputs\u001b[49m\u001b[38;5;241;43m=\u001b[39;49m\u001b[43mnum_outputs\u001b[49m\u001b[43m,\u001b[49m\n\u001b[0;32m   1482\u001b[0m \u001b[43m      \u001b[49m\u001b[43minputs\u001b[49m\u001b[38;5;241;43m=\u001b[39;49m\u001b[43mtensor_inputs\u001b[49m\u001b[43m,\u001b[49m\n\u001b[0;32m   1483\u001b[0m \u001b[43m      \u001b[49m\u001b[43mattrs\u001b[49m\u001b[38;5;241;43m=\u001b[39;49m\u001b[43mattrs\u001b[49m\u001b[43m,\u001b[49m\n\u001b[0;32m   1484\u001b[0m \u001b[43m      \u001b[49m\u001b[43mctx\u001b[49m\u001b[38;5;241;43m=\u001b[39;49m\u001b[38;5;28;43mself\u001b[39;49m\u001b[43m,\u001b[49m\n\u001b[0;32m   1485\u001b[0m \u001b[43m  \u001b[49m\u001b[43m)\u001b[49m\n\u001b[0;32m   1486\u001b[0m \u001b[38;5;28;01melse\u001b[39;00m:\n\u001b[0;32m   1487\u001b[0m   outputs \u001b[38;5;241m=\u001b[39m execute\u001b[38;5;241m.\u001b[39mexecute_with_cancellation(\n\u001b[0;32m   1488\u001b[0m       name\u001b[38;5;241m.\u001b[39mdecode(\u001b[38;5;124m\"\u001b[39m\u001b[38;5;124mutf-8\u001b[39m\u001b[38;5;124m\"\u001b[39m),\n\u001b[0;32m   1489\u001b[0m       num_outputs\u001b[38;5;241m=\u001b[39mnum_outputs,\n\u001b[1;32m   (...)\u001b[0m\n\u001b[0;32m   1493\u001b[0m       cancellation_manager\u001b[38;5;241m=\u001b[39mcancellation_context,\n\u001b[0;32m   1494\u001b[0m   )\n",
      "File \u001b[1;32mc:\\Users\\Usuario\\.pyenv\\pyenv-win\\versions\\3.11.0\\Lib\\site-packages\\tensorflow\\python\\eager\\execute.py:60\u001b[0m, in \u001b[0;36mquick_execute\u001b[1;34m(op_name, num_outputs, inputs, attrs, ctx, name)\u001b[0m\n\u001b[0;32m     53\u001b[0m   \u001b[38;5;66;03m# Convert any objects of type core_types.Tensor to Tensor.\u001b[39;00m\n\u001b[0;32m     54\u001b[0m   inputs \u001b[38;5;241m=\u001b[39m [\n\u001b[0;32m     55\u001b[0m       tensor_conversion_registry\u001b[38;5;241m.\u001b[39mconvert(t)\n\u001b[0;32m     56\u001b[0m       \u001b[38;5;28;01mif\u001b[39;00m \u001b[38;5;28misinstance\u001b[39m(t, core_types\u001b[38;5;241m.\u001b[39mTensor)\n\u001b[0;32m     57\u001b[0m       \u001b[38;5;28;01melse\u001b[39;00m t\n\u001b[0;32m     58\u001b[0m       \u001b[38;5;28;01mfor\u001b[39;00m t \u001b[38;5;129;01min\u001b[39;00m inputs\n\u001b[0;32m     59\u001b[0m   ]\n\u001b[1;32m---> 60\u001b[0m   tensors \u001b[38;5;241m=\u001b[39m \u001b[43mpywrap_tfe\u001b[49m\u001b[38;5;241;43m.\u001b[39;49m\u001b[43mTFE_Py_Execute\u001b[49m\u001b[43m(\u001b[49m\u001b[43mctx\u001b[49m\u001b[38;5;241;43m.\u001b[39;49m\u001b[43m_handle\u001b[49m\u001b[43m,\u001b[49m\u001b[43m \u001b[49m\u001b[43mdevice_name\u001b[49m\u001b[43m,\u001b[49m\u001b[43m \u001b[49m\u001b[43mop_name\u001b[49m\u001b[43m,\u001b[49m\n\u001b[0;32m     61\u001b[0m \u001b[43m                                      \u001b[49m\u001b[43minputs\u001b[49m\u001b[43m,\u001b[49m\u001b[43m \u001b[49m\u001b[43mattrs\u001b[49m\u001b[43m,\u001b[49m\u001b[43m \u001b[49m\u001b[43mnum_outputs\u001b[49m\u001b[43m)\u001b[49m\n\u001b[0;32m     62\u001b[0m \u001b[38;5;28;01mexcept\u001b[39;00m core\u001b[38;5;241m.\u001b[39m_NotOkStatusException \u001b[38;5;28;01mas\u001b[39;00m e:\n\u001b[0;32m     63\u001b[0m   \u001b[38;5;28;01mif\u001b[39;00m name \u001b[38;5;129;01mis\u001b[39;00m \u001b[38;5;129;01mnot\u001b[39;00m \u001b[38;5;28;01mNone\u001b[39;00m:\n",
      "\u001b[1;31mKeyboardInterrupt\u001b[0m: "
     ]
    }
   ],
   "source": [
    "from sklearn.metrics import mean_squared_error\n",
    "from sklearn.metrics import r2_score\n",
    "\n",
    "def entrenament_wv(model: gensim.models.word2vec, input_1_test, input_2_test, labels_test, batch_size: int = 64):\n",
    "    \n",
    "    model.fit([input_1_sequences, input_2_sequences], labels, epochs=50, batch_size = batch_size, \n",
    "              validation_data=([input_1_sequences_val, input_2_sequences_val], labels_val), verbose=0)\n",
    "\n",
    "    # Evaluate en el train\n",
    "    mse_word2vec = model.evaluate(train_dataset)\n",
    "    print(f\"MSE del model amb Word2Vec Embeddings en train: {mse_word2vec}\")\n",
    "\n",
    "    # Prediccions del test\n",
    "    prediccions_word2vec = model.predict([input_1_test, input_2_test])\n",
    "\n",
    "    # MSE\n",
    "    mse_word2vec = mean_squared_error(labels_test, prediccions_word2vec)\n",
    "    \n",
    "    print('\\n\\n')\n",
    "    print(f\"MSE del model amb Word2Vec Embeddings en test: {mse_word2vec}\")\n",
    "    print(f\"R^2 del model amb Word2Vec Embeddings en test: {r2_score(labels_test, prediccions_word2vec)}\\n\")\n",
    "    \n",
    "for word2vec_model in word2vec_embedding_models:\n",
    "    model = word2vec_embedding_models[word2vec_model]\n",
    "    print(f\"Entrenament embeddings pel model {word2vec_model}\")\n",
    "    datasets = entrenament_wv(model, input_1_sequences_test, input_2_sequences_test, labels_test, batch_size=64)\n",
    "    \n",
    "    "
   ]
  },
  {
   "cell_type": "markdown",
   "metadata": {},
   "source": [
    "#### Random Init"
   ]
  },
  {
   "cell_type": "code",
   "execution_count": 152,
   "metadata": {},
   "outputs": [
    {
     "name": "stdout",
     "output_type": "stream",
     "text": [
      "Epoch 1/50\n",
      "33/33 [==============================] - 1s 17ms/step - loss: 2.7145 - val_loss: 4.2570\n",
      "Epoch 2/50\n",
      "33/33 [==============================] - 0s 12ms/step - loss: 1.4605 - val_loss: 3.2239\n",
      "Epoch 3/50\n",
      "33/33 [==============================] - 0s 12ms/step - loss: 1.6264 - val_loss: 3.3220\n",
      "Epoch 4/50\n",
      "33/33 [==============================] - 0s 12ms/step - loss: 1.4782 - val_loss: 3.4054\n",
      "Epoch 5/50\n",
      "33/33 [==============================] - 0s 12ms/step - loss: 1.5328 - val_loss: 2.9246\n",
      "Epoch 6/50\n",
      "33/33 [==============================] - 0s 12ms/step - loss: 1.5845 - val_loss: 2.7458\n",
      "Epoch 7/50\n",
      "33/33 [==============================] - 0s 12ms/step - loss: 1.5066 - val_loss: 3.4012\n",
      "Epoch 8/50\n",
      "33/33 [==============================] - 0s 12ms/step - loss: 1.4396 - val_loss: 3.0944\n",
      "Epoch 9/50\n",
      "33/33 [==============================] - 0s 12ms/step - loss: 1.2986 - val_loss: 2.5471\n",
      "Epoch 10/50\n",
      "33/33 [==============================] - 0s 12ms/step - loss: 1.2878 - val_loss: 3.5059\n",
      "Epoch 11/50\n",
      "33/33 [==============================] - 0s 12ms/step - loss: 1.1167 - val_loss: 2.9260\n",
      "Epoch 12/50\n",
      "33/33 [==============================] - 0s 12ms/step - loss: 1.1328 - val_loss: 3.0651\n",
      "Epoch 13/50\n",
      "33/33 [==============================] - 0s 12ms/step - loss: 1.1865 - val_loss: 2.8659\n",
      "Epoch 14/50\n",
      "33/33 [==============================] - 0s 12ms/step - loss: 1.1988 - val_loss: 3.0466\n",
      "Epoch 15/50\n",
      "33/33 [==============================] - 0s 12ms/step - loss: 1.1058 - val_loss: 2.7014\n",
      "Epoch 16/50\n",
      "33/33 [==============================] - 0s 12ms/step - loss: 1.2063 - val_loss: 2.6210\n",
      "Epoch 17/50\n",
      "33/33 [==============================] - 0s 12ms/step - loss: 1.1856 - val_loss: 2.5780\n",
      "Epoch 18/50\n",
      "33/33 [==============================] - 0s 12ms/step - loss: 1.2435 - val_loss: 3.0978\n",
      "Epoch 19/50\n",
      "33/33 [==============================] - 0s 12ms/step - loss: 1.1614 - val_loss: 2.5000\n",
      "Epoch 20/50\n",
      "33/33 [==============================] - 0s 12ms/step - loss: 1.1870 - val_loss: 2.4384\n",
      "Epoch 21/50\n",
      "33/33 [==============================] - 0s 12ms/step - loss: 1.1827 - val_loss: 2.4733\n",
      "Epoch 22/50\n",
      "33/33 [==============================] - 0s 12ms/step - loss: 1.1864 - val_loss: 2.6388\n",
      "Epoch 23/50\n",
      "33/33 [==============================] - 0s 12ms/step - loss: 1.2054 - val_loss: 2.4767\n",
      "Epoch 24/50\n",
      "33/33 [==============================] - 0s 12ms/step - loss: 1.2333 - val_loss: 2.5972\n",
      "Epoch 25/50\n",
      "33/33 [==============================] - 0s 12ms/step - loss: 1.1571 - val_loss: 3.5374\n",
      "Epoch 26/50\n",
      "33/33 [==============================] - 0s 12ms/step - loss: 1.0925 - val_loss: 2.9507\n",
      "Epoch 27/50\n",
      "33/33 [==============================] - 0s 12ms/step - loss: 1.0742 - val_loss: 3.1573\n",
      "Epoch 28/50\n",
      "33/33 [==============================] - 0s 12ms/step - loss: 1.0292 - val_loss: 3.0232\n",
      "Epoch 29/50\n",
      "33/33 [==============================] - 0s 13ms/step - loss: 1.0193 - val_loss: 3.0390\n",
      "Epoch 30/50\n",
      "33/33 [==============================] - 0s 13ms/step - loss: 1.0557 - val_loss: 2.6756\n",
      "Epoch 31/50\n",
      "33/33 [==============================] - 0s 14ms/step - loss: 1.1513 - val_loss: 2.6987\n",
      "Epoch 32/50\n",
      "33/33 [==============================] - 0s 12ms/step - loss: 1.0999 - val_loss: 2.9608\n",
      "Epoch 33/50\n",
      "33/33 [==============================] - 0s 12ms/step - loss: 1.0804 - val_loss: 2.4783\n",
      "Epoch 34/50\n",
      "33/33 [==============================] - 0s 12ms/step - loss: 1.1066 - val_loss: 2.5246\n",
      "Epoch 35/50\n",
      "33/33 [==============================] - 0s 12ms/step - loss: 1.0091 - val_loss: 2.4359\n",
      "Epoch 36/50\n",
      "33/33 [==============================] - 0s 12ms/step - loss: 1.0794 - val_loss: 2.2972\n",
      "Epoch 37/50\n",
      "33/33 [==============================] - 0s 12ms/step - loss: 1.1378 - val_loss: 2.3854\n",
      "Epoch 38/50\n",
      "33/33 [==============================] - 0s 12ms/step - loss: 1.0270 - val_loss: 2.4797\n",
      "Epoch 39/50\n",
      "33/33 [==============================] - 0s 12ms/step - loss: 1.0121 - val_loss: 2.3794\n",
      "Epoch 40/50\n",
      "33/33 [==============================] - 0s 12ms/step - loss: 1.0345 - val_loss: 2.7494\n",
      "Epoch 41/50\n",
      "33/33 [==============================] - 0s 12ms/step - loss: 1.0207 - val_loss: 2.8044\n",
      "Epoch 42/50\n",
      "33/33 [==============================] - 0s 12ms/step - loss: 1.0490 - val_loss: 2.9314\n",
      "Epoch 43/50\n",
      "33/33 [==============================] - 0s 12ms/step - loss: 1.1030 - val_loss: 2.6221\n",
      "Epoch 44/50\n",
      "33/33 [==============================] - 0s 12ms/step - loss: 1.0984 - val_loss: 2.4437\n",
      "Epoch 45/50\n",
      "33/33 [==============================] - 0s 12ms/step - loss: 0.9883 - val_loss: 2.6711\n",
      "Epoch 46/50\n",
      "33/33 [==============================] - 0s 12ms/step - loss: 0.9845 - val_loss: 2.7776\n",
      "Epoch 47/50\n",
      "33/33 [==============================] - 0s 12ms/step - loss: 1.1040 - val_loss: 2.5949\n",
      "Epoch 48/50\n",
      "33/33 [==============================] - 0s 12ms/step - loss: 1.0880 - val_loss: 2.6594\n",
      "Epoch 49/50\n",
      "33/33 [==============================] - 0s 12ms/step - loss: 1.0747 - val_loss: 2.6290\n",
      "Epoch 50/50\n",
      "33/33 [==============================] - 0s 12ms/step - loss: 1.0370 - val_loss: 2.3253\n",
      "33/33 [==============================] - 0s 1ms/step - loss: 0.6473\n",
      "MSE del model amb Word2Vec Embeddings en train: 0.6472876071929932\n",
      "16/16 [==============================] - 0s 1ms/step\n",
      "\n",
      "\n",
      "\n",
      "MSE del model amb Word2Vec Embeddings en test: 1.0034994895027056\n",
      "R^2 del model amb Word2Vec Embeddings en test: -0.32912159287411624\n"
     ]
    }
   ],
   "source": [
    "model_random = model_2(dictionary_size=dictionary_size, use_cosine=True)\n",
    "\n",
    "model_random.fit([input_1_sequences, input_2_sequences], labels, epochs=50, batch_size = batch_size, \n",
    "              validation_data=([input_1_sequences_val, input_2_sequences_val], labels_val), verbose=1)\n",
    "\n",
    "# Evaluate en el train\n",
    "mse_word2vec = model.evaluate(train_dataset)\n",
    "print(f\"MSE del model amb Word2Vec Embeddings en train: {mse_word2vec}\")\n",
    "\n",
    "# Prediccions del test\n",
    "prediccions_word2vec = model.predict([input_1_sequences_test, input_1_sequences_test])\n",
    "\n",
    "# MSE\n",
    "mse_word2vec = mean_squared_error(labels_test, prediccions_word2vec)\n",
    "\n",
    "print('\\n\\n')\n",
    "print(f\"MSE del model amb Word2Vec Embeddings en test: {mse_word2vec}\")\n",
    "print(f\"R^2 del model amb Word2Vec Embeddings en test: {r2_score(labels_test, prediccions_word2vec)}\")"
   ]
  },
  {
   "cell_type": "markdown",
   "metadata": {},
   "source": [
    "## CONCLUSIONS"
   ]
  },
  {
   "cell_type": "markdown",
   "metadata": {},
   "source": [
    "Finalment, observem que gairebé tots els models estan sobreajustats i prediuen amb molt mala precisió. Tanmateix, el model de RoBERTa fine tuned \n",
    "\n",
    "\n",
    "Si ordenem els models usats de millor a pitjor rendiment ens quedem amb la següent llista:\n",
    "- Roberta-fine-tuned\n",
    "- Robert \n",
    "- Spacy\n",
    "- Word2Vec Entrenables\n",
    "- "
   ]
  }
 ],
 "metadata": {
  "kernelspec": {
   "display_name": "Python 3",
   "language": "python",
   "name": "python3"
  },
  "language_info": {
   "codemirror_mode": {
    "name": "ipython",
    "version": 3
   },
   "file_extension": ".py",
   "mimetype": "text/x-python",
   "name": "python",
   "nbconvert_exporter": "python",
   "pygments_lexer": "ipython3",
   "version": "3.11.0"
  }
 },
 "nbformat": 4,
 "nbformat_minor": 2
}
