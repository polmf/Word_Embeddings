{
 "cells": [
  {
   "cell_type": "markdown",
   "metadata": {},
   "source": [
    "# Practica 4 (De nou)"
   ]
  },
  {
   "cell_type": "markdown",
   "metadata": {},
   "source": [
    "## Requeriments"
   ]
  },
  {
   "cell_type": "code",
   "execution_count": 7,
   "metadata": {},
   "outputs": [],
   "source": [
    "import gensim\n",
    "from gensim.models import Word2Vec, word2vec\n",
    "from gensim.models.word2vec import PathLineSentences\n",
    "from typing import Tuple, List, Optional\n",
    "import os\n",
    "import re"
   ]
  },
  {
   "cell_type": "markdown",
   "metadata": {},
   "source": [
    "## Codi per entrenar models word2vec"
   ]
  },
  {
   "cell_type": "code",
   "execution_count": 2,
   "metadata": {},
   "outputs": [
    {
     "name": "stderr",
     "output_type": "stream",
     "text": [
      "c:\\Users\\Usuario\\.pyenv\\pyenv-win\\versions\\3.11.0\\Lib\\site-packages\\tqdm\\auto.py:21: TqdmWarning: IProgress not found. Please update jupyter and ipywidgets. See https://ipywidgets.readthedocs.io/en/stable/user_install.html\n",
      "  from .autonotebook import tqdm as notebook_tqdm\n",
      "c:\\Users\\Usuario\\.pyenv\\pyenv-win\\versions\\3.11.0\\Lib\\site-packages\\datasets\\load.py:1486: FutureWarning: The repository for projecte-aina/catalan_general_crawling contains custom code which must be executed to correctly load the dataset. You can inspect the repository content at https://hf.co/datasets/projecte-aina/catalan_general_crawling\n",
      "You can avoid this message in future by passing the argument `trust_remote_code=True`.\n",
      "Passing `trust_remote_code=True` will be mandatory to load this dataset from the next major release of `datasets`.\n",
      "  warnings.warn(\n"
     ]
    }
   ],
   "source": [
    "from datasets import load_dataset\n",
    "\n",
    "dataset = load_dataset(\"projecte-aina/catalan_general_crawling\")\n",
    "dataset = dataset['train']"
   ]
  },
  {
   "cell_type": "code",
   "execution_count": 29,
   "metadata": {},
   "outputs": [
    {
     "name": "stdout",
     "output_type": "stream",
     "text": [
      "files per 100MB: 57333\n",
      "files per 500MB: 213432\n",
      "files per 1GB: 410702\n"
     ]
    }
   ],
   "source": [
    "# Getting the first 100 MB of the dataset\n",
    "size = 0\n",
    "for i in range(len(dataset)):\n",
    "    size += len(dataset[i]['text'])\n",
    "    if size > 100000000:  # 100 MB\n",
    "        print('files per 100MB:', i)\n",
    "        break\n",
    "\n",
    "dataset_100MB = dataset.select(list(range(i)))\n",
    "\n",
    "\n",
    "# Getting the first 500 MB of the dataset\n",
    "size = 0\n",
    "for j in range(len(dataset)):\n",
    "    size += len(dataset[j]['text'])  # corrected from dataset[i]['text']\n",
    "    if size > 500000000:  # 500 MB\n",
    "        print('files per 500MB:', j)\n",
    "        break\n",
    "\n",
    "dataset_500MB = dataset.select(list(range(j)))\n",
    "\n",
    "# Getting the first 1 GB of the dataset\n",
    "size = 0\n",
    "for g in range(len(dataset)):\n",
    "    size += len(dataset[g]['text'])  # corrected from dataset[i]['text']\n",
    "    if size > 1000000000:  # 1 GB\n",
    "        print('files per 1GB:', g)\n",
    "        break\n",
    "\n",
    "dataset_1GB = dataset.select(list(range(g)))\n",
    "\n",
    "# Getting the whole dataset\n",
    "dataset_complet = dataset"
   ]
  },
  {
   "cell_type": "code",
   "execution_count": 30,
   "metadata": {},
   "outputs": [],
   "source": [
    "datasets = {}\n",
    "datasets['100MB'] = dataset_100MB\n",
    "datasets['500MB'] = dataset_500MB\n",
    "datasets['1GB'] = dataset_1GB  \n",
    "datasets['complet'] = dataset_complet\n",
    "\n",
    "models = {}"
   ]
  },
  {
   "cell_type": "code",
   "execution_count": 31,
   "metadata": {},
   "outputs": [
    {
     "name": "stdout",
     "output_type": "stream",
     "text": [
      "Corpus 100MB creat\n",
      "Corpus 500MB creat\n",
      "Corpus 1GB creat\n",
      "Corpus complet creat\n"
     ]
    }
   ],
   "source": [
    "stopwords_catala = [ \n",
    "    \"a\", \"abans\", \"ací\", \"així\", \"alguns\", \"alguna\", \"algunes\", \"algú\", \"alhora\", \n",
    "    \"als\", \"allò\", \"aquell\", \"aquelles\", \"aquell\", \"aquells\", \"baix\", \n",
    "    \"cada\", \"com\", \"com a\", \"eixa\", \"eixes\", \"eixí\", \n",
    "    \"eixos\", \"el\", \"ella\", \"elles\", \"ell\", \"ells\", \"en\", \"endavant\", \"enfront\", \n",
    "    \"ens\", \"entre\", \"he\", \"hem\", \"heu\", \"hi\", \"ho\", \n",
    "    \"i\", \"igual\", \"iguals\", \"ja\", \"jo\", \"l'\", \"la\", \"les\", \"li\", \"els\", \"tu\", \"nosaltres\", \"vosaltres\",\n",
    "    \"de\", \"del\", \"dels\", \"d'un\", \"d'una\", \"d'uns\", \"d'unes\", \"des\", \"des de\",\n",
    "    ]\n",
    "\n",
    "# Funció per netejar i tokenitzar el text\n",
    "def preprocess_text(text):\n",
    "    # Neteja el text: treu caràcters no desitjats, converteix a minúscules, etc.\n",
    "    text = re.sub(r'\\W+', ' ', text)  # Substitueix caràcters no alfanumèrics per espais\n",
    "    text = text.lower()  # Converteix a minúscules\n",
    "    words = text.split()  # Tokenitza\n",
    "    # elimina stopwords\n",
    "    words = [word for word in words if word not in stopwords_catala]\n",
    "    return words\n",
    "\n",
    "# Carrega el fitxer de text i processa'l\n",
    "def create_corpus(dataset):\n",
    "    corpus = []\n",
    "    for line in dataset:\n",
    "        words = preprocess_text(line['text'])\n",
    "        if words:  # Assegura't que la línia no està buida\n",
    "            corpus.append(words)\n",
    "    return corpus\n",
    "\n",
    "corpus_dict = {}\n",
    "for mida in [\"100MB\", \"500MB\", \"1GB\", \"complet\"]:\n",
    "    dataset = datasets[mida]\n",
    "    corpus_dict[f\"corpus_{mida}\"] = create_corpus(dataset=dataset)\n",
    "    print(f\"Corpus {mida} creat\")\n"
   ]
  },
  {
   "cell_type": "code",
   "execution_count": 95,
   "metadata": {},
   "outputs": [],
   "source": [
    "def entrenar_word2vec(corpus, mida_vector=100, finestra=5, sg=1, min_count=10, workers=4, epochs=25):\n",
    "    \n",
    "    model = word2vec.Word2Vec(corpus, vector_size=mida_vector, window=finestra, min_count=min_count, workers=workers, epochs=epochs, sg=sg)\n",
    "    \n",
    "    return model\n",
    "\n",
    "# Entrenar models per a cada mida de dataset\n",
    "for mida in [\"500MB\", \"1GB\", \"complet\"]: # \"100MB\"\n",
    "    corpus = corpus_dict[f\"corpus_{mida}\"]\n",
    "    model = entrenar_word2vec(corpus)\n",
    "    models[mida] = model\n",
    "    model.save(f\"model_{mida}.model\")\n"
   ]
  },
  {
   "cell_type": "code",
   "execution_count": 8,
   "metadata": {},
   "outputs": [],
   "source": [
    "for model in ['100MB', '500MB', '1GB', 'complet']:\n",
    "    # load model\n",
    "    models[model] = gensim.models.Word2Vec.load(f\"model_{model}.model\")\n",
    "    \n",
    "models['100MB'] = gensim.models.Word2Vec.load(\"model_100MB.model\")"
   ]
  },
  {
   "cell_type": "markdown",
   "metadata": {},
   "source": [
    "## Model de Similitud de Text Semàntic"
   ]
  },
  {
   "cell_type": "code",
   "execution_count": 9,
   "metadata": {},
   "outputs": [],
   "source": [
    "# Requisites\n",
    "from gensim.models import TfidfModel\n",
    "from gensim.utils import simple_preprocess\n",
    "from gensim.corpora import Dictionary\n",
    "import numpy as np\n",
    "from scipy import spatial\n",
    "from typing import Tuple, List"
   ]
  },
  {
   "cell_type": "code",
   "execution_count": 10,
   "metadata": {},
   "outputs": [
    {
     "name": "stderr",
     "output_type": "stream",
     "text": [
      "c:\\Users\\Usuario\\.pyenv\\pyenv-win\\versions\\3.11.0\\Lib\\site-packages\\datasets\\load.py:1486: FutureWarning: The repository for projecte-aina/sts-ca contains custom code which must be executed to correctly load the dataset. You can inspect the repository content at https://hf.co/datasets/projecte-aina/sts-ca\n",
      "You can avoid this message in future by passing the argument `trust_remote_code=True`.\n",
      "Passing `trust_remote_code=True` will be mandatory to load this dataset from the next major release of `datasets`.\n",
      "  warnings.warn(\n"
     ]
    }
   ],
   "source": [
    "from datasets import load_dataset\n",
    "\n",
    "text_semantic = load_dataset(\"projecte-aina/sts-ca\")"
   ]
  },
  {
   "cell_type": "code",
   "execution_count": 8,
   "metadata": {},
   "outputs": [
    {
     "data": {
      "text/plain": [
       "'Atorga per primer cop les mencions Encarna Sanahuja a la inclusió de la perspectiva de gènere en docència Universitària'"
      ]
     },
     "execution_count": 8,
     "metadata": {},
     "output_type": "execute_result"
    }
   ],
   "source": [
    "text_semantic['train']['sentence1'][0]"
   ]
  },
  {
   "cell_type": "markdown",
   "metadata": {},
   "source": [
    "### Inicialització"
   ]
  },
  {
   "cell_type": "code",
   "execution_count": 11,
   "metadata": {},
   "outputs": [],
   "source": [
    "input_pairs = [(e[\"sentence1\"], e[\"sentence2\"], e[\"label\"], ) for e in text_semantic[\"train\"].to_list()]\n",
    "input_pairs_val = [(e[\"sentence1\"], e[\"sentence2\"], e[\"label\"], ) for e in text_semantic[\"validation\"].to_list()]\n",
    "input_pairs_test = [(e[\"sentence1\"], e[\"sentence2\"], e[\"label\"], ) for e in text_semantic[\"test\"].to_list()]"
   ]
  },
  {
   "cell_type": "markdown",
   "metadata": {},
   "source": [
    "#### Train"
   ]
  },
  {
   "cell_type": "code",
   "execution_count": 12,
   "metadata": {},
   "outputs": [],
   "source": [
    "# Suposem que tens els teus texts i labels\n",
    "texts = [(sentence1, sentence2) for sentence1, sentence2, _ in input_pairs]\n",
    "labels = [label for _, _, label in input_pairs]"
   ]
  },
  {
   "cell_type": "code",
   "execution_count": 13,
   "metadata": {},
   "outputs": [],
   "source": [
    "from collections import defaultdict\n",
    "\n",
    "# Tokenitzar i preparar les seqüències d'entrada per als models\n",
    "def tokenitzar(text):\n",
    "    return text.lower().split()\n",
    "\n",
    "def construir_diccionari(texts):\n",
    "    word_to_index = defaultdict(lambda: len(word_to_index))\n",
    "    for text in texts:\n",
    "        tokens = tokenitzar(text)\n",
    "        for token in tokens:\n",
    "            word_to_index[token]\n",
    "    return dict(word_to_index)\n",
    "\n",
    "# Obtenim tots els textos del dataset\n",
    "all_texts = [text for pair in input_pairs for text in pair[:2]]\n",
    "word_to_index = construir_diccionari(all_texts)"
   ]
  },
  {
   "cell_type": "code",
   "execution_count": 14,
   "metadata": {},
   "outputs": [],
   "source": [
    "def text_to_sequence(text, word_to_index):\n",
    "    tokens = tokenitzar(text)\n",
    "    return [word_to_index[token] for token in tokens]\n",
    "\n",
    "# Convertir tots els textos a seqüències d'índexs\n",
    "input_sequences = [(text_to_sequence(pair[0], word_to_index), text_to_sequence(pair[1], word_to_index)) for pair in input_pairs]"
   ]
  },
  {
   "cell_type": "code",
   "execution_count": 15,
   "metadata": {},
   "outputs": [],
   "source": [
    "from tensorflow.keras.preprocessing.sequence import pad_sequences\n",
    "\n",
    "# max length of the sequences\n",
    "max_len = max(max(len(seq[0]), len(seq[1])) for seq in input_sequences) \n",
    "\n",
    "# Padding de les seqüències d'índexs\n",
    "input_1_sequences = pad_sequences([seq[0] for seq in input_sequences], maxlen=max_len, padding='post')\n",
    "input_2_sequences = pad_sequences([seq[1] for seq in input_sequences], maxlen=max_len, padding='post')"
   ]
  },
  {
   "cell_type": "code",
   "execution_count": 16,
   "metadata": {},
   "outputs": [
    {
     "data": {
      "text/plain": [
       "((2073, 37), (2073, 37))"
      ]
     },
     "execution_count": 16,
     "metadata": {},
     "output_type": "execute_result"
    }
   ],
   "source": [
    "input_1_sequences.shape, input_2_sequences.shape"
   ]
  },
  {
   "cell_type": "code",
   "execution_count": 17,
   "metadata": {},
   "outputs": [],
   "source": [
    "# Convertir les seqüències i labels a arrays numpy\n",
    "input_1_sequences = np.array(input_1_sequences)\n",
    "input_2_sequences = np.array(input_2_sequences)\n",
    "labels = np.array(labels)\n",
    "\n",
    "# Ajustar la mida del diccionari basat en el nombre de paraules úniques\n",
    "dictionary_size = len(word_to_index)"
   ]
  },
  {
   "cell_type": "markdown",
   "metadata": {},
   "source": [
    "#### Test"
   ]
  },
  {
   "cell_type": "code",
   "execution_count": 18,
   "metadata": {},
   "outputs": [],
   "source": [
    "texts_test = [(sentence1, sentence2) for sentence1, sentence2, _ in input_pairs_test]\n",
    "labels_test = [label for _, _, label in input_pairs_test]"
   ]
  },
  {
   "cell_type": "code",
   "execution_count": 19,
   "metadata": {},
   "outputs": [],
   "source": [
    "# Obtenim tots els textos del dataset\n",
    "all_texts_test = [text for pair in input_pairs_test for text in pair[:2]]\n",
    "word_to_index_test = construir_diccionari(all_texts_test)\n",
    "\n",
    "# Convertir tots els textos a seqüències d'índexs\n",
    "input_sequences_test = [(text_to_sequence(pair[0], word_to_index_test), text_to_sequence(pair[1], word_to_index_test)) for pair in input_pairs_test]\n",
    "\n",
    "# max length of the sequences\n",
    "max_len_test = max(max(len(seq[0]), len(seq[1])) for seq in input_sequences_test) \n",
    "\n",
    "# Padding de les seqüències d'índexs\n",
    "input_1_sequences_test = pad_sequences([seq[0] for seq in input_sequences_test], maxlen=max_len, padding='post')\n",
    "input_2_sequences_test = pad_sequences([seq[1] for seq in input_sequences_test], maxlen=max_len, padding='post')"
   ]
  },
  {
   "cell_type": "code",
   "execution_count": 20,
   "metadata": {},
   "outputs": [
    {
     "data": {
      "text/plain": [
       "((500, 37), (500, 37))"
      ]
     },
     "execution_count": 20,
     "metadata": {},
     "output_type": "execute_result"
    }
   ],
   "source": [
    "input_1_sequences_test.shape, input_2_sequences_test.shape"
   ]
  },
  {
   "cell_type": "code",
   "execution_count": 21,
   "metadata": {},
   "outputs": [],
   "source": [
    "# Convertir les seqüències i labels a arrays numpy\n",
    "input_1_sequences_test = np.array(input_1_sequences_test)\n",
    "input_2_sequences_test= np.array(input_2_sequences_test)\n",
    "labels_test = np.array(labels_test)"
   ]
  },
  {
   "cell_type": "markdown",
   "metadata": {},
   "source": [
    "#### Validation"
   ]
  },
  {
   "cell_type": "code",
   "execution_count": 22,
   "metadata": {},
   "outputs": [],
   "source": [
    "# Suposem que tens els teus texts i labels\n",
    "texts_val = [(sentence1, sentence2) for sentence1, sentence2, _ in input_pairs_val]\n",
    "labels_val = [label for _, _, label in input_pairs_val]\n",
    "\n",
    "# Obtenim tots els textos del dataset\n",
    "all_texts_val = [text for pair in input_pairs_val for text in pair[:2]]\n",
    "word_to_index_val = construir_diccionari(all_texts_val)\n",
    "\n",
    "# Convertir tots els textos a seqüències d'índexs\n",
    "input_sequences_val = [(text_to_sequence(pair[0], word_to_index_val), text_to_sequence(pair[1], word_to_index_val)) for pair in input_pairs_val]\n",
    "\n",
    "# max length of the sequences\n",
    "max_len_val = max(max(len(seq[0]), len(seq[1])) for seq in input_sequences_val) \n",
    "\n",
    "# Padding de les seqüències d'índexs\n",
    "input_1_sequences_val = pad_sequences([seq[0] for seq in input_sequences_val], maxlen=max_len, padding='post')\n",
    "input_2_sequences_val = pad_sequences([seq[1] for seq in input_sequences_val], maxlen=max_len, padding='post')"
   ]
  },
  {
   "cell_type": "code",
   "execution_count": 23,
   "metadata": {},
   "outputs": [
    {
     "data": {
      "text/plain": [
       "((500, 37), (500, 37))"
      ]
     },
     "execution_count": 23,
     "metadata": {},
     "output_type": "execute_result"
    }
   ],
   "source": [
    "input_1_sequences_test.shape, input_2_sequences_test.shape"
   ]
  },
  {
   "cell_type": "code",
   "execution_count": 24,
   "metadata": {},
   "outputs": [],
   "source": [
    "# Convertir les seqüències i labels a arrays numpy\n",
    "input_1_sequences_val = np.array(input_1_sequences_val)\n",
    "input_2_sequences_val= np.array(input_2_sequences_val)\n",
    "labels_val = np.array(labels_val)"
   ]
  },
  {
   "cell_type": "markdown",
   "metadata": {},
   "source": [
    "#### Datasets"
   ]
  },
  {
   "cell_type": "code",
   "execution_count": 25,
   "metadata": {},
   "outputs": [],
   "source": [
    "import tensorflow as tf\n",
    "import numpy as np\n",
    "\n",
    "batch_size = 64\n",
    "\n",
    "# Crear Dataset de TensorFlow per a les dades d'entrenament\n",
    "train_dataset = tf.data.Dataset.from_tensor_slices(((input_1_sequences, input_2_sequences), labels))\n",
    "train_dataset = train_dataset.shuffle(buffer_size=len(labels)).batch(batch_size)\n",
    "\n",
    "# Crear Dataset de TensorFlow per a les dades de validació\n",
    "val_dataset = tf.data.Dataset.from_tensor_slices(((input_1_sequences_val, input_2_sequences_val), labels_val))\n",
    "val_dataset = val_dataset.batch(batch_size)\n",
    "\n",
    "# Crear Dataset de TensorFlow per a les dades de test\n",
    "test_dataset = tf.data.Dataset.from_tensor_slices(((input_1_sequences_test, input_2_sequences_test), labels_test))\n",
    "test_dataset = test_dataset.batch(batch_size)\n",
    " "
   ]
  },
  {
   "cell_type": "markdown",
   "metadata": {},
   "source": [
    "## Model Baseline"
   ]
  },
  {
   "cell_type": "code",
   "execution_count": null,
   "metadata": {},
   "outputs": [],
   "source": [
    "import tensorflow as tf\n",
    "\n",
    "def model_2(\n",
    "    input_length: int = 37,\n",
    "    dictionary_size: int = 1000,\n",
    "    embedding_size: int = 100,\n",
    "    learning_rate: float = 0.01,\n",
    "    pretrained_weights: Optional[np.ndarray] = None,\n",
    "    trainable: bool = False,\n",
    "    use_cosine: bool = False,\n",
    "    l2_regularizer: float = 1e-4,\n",
    ") -> tf.keras.Model:\n",
    "    # Inputs\n",
    "    input_1 = tf.keras.Input((input_length,), dtype=tf.int32)\n",
    "    input_2 = tf.keras.Input((input_length,), dtype=tf.int32)\n",
    "\n",
    "    # Embedding Layer\n",
    "    if pretrained_weights is None:\n",
    "        embedding = tf.keras.layers.Embedding(\n",
    "            dictionary_size, embedding_size, input_length=input_length, mask_zero=True, embeddings_initializer='uniform'\n",
    "        )\n",
    "    else:\n",
    "        # Obtener la matriz de embeddings del modelo Word2Vec\n",
    "        word_vectors = pretrained_weights.wv\n",
    "        embedding_matrix = np.zeros((len(word_vectors), embedding_size))\n",
    "        for i in range(len(word_vectors)):\n",
    "            embedding_matrix[i] = word_vectors[word_vectors.index_to_key[i]]\n",
    "            \n",
    "        dictionary_size = embedding_matrix.shape[0]\n",
    "        embedding_size = embedding_matrix.shape[1]\n",
    "        initializer = tf.keras.initializers.Constant(embedding_matrix)\n",
    "        embedding = tf.keras.layers.Embedding(\n",
    "            dictionary_size,\n",
    "            embedding_size,\n",
    "            input_length=input_length,\n",
    "            mask_zero=True,\n",
    "            embeddings_initializer=initializer,\n",
    "            trainable=trainable,\n",
    "        )\n",
    "\n",
    "    # Embed the inputs\n",
    "    embedded_1 = embedding(input_1)\n",
    "    embedded_2 = embedding(input_2)\n",
    "    # Pass through the embedding layer\n",
    "    _input_mask_1, _input_mask_2 = tf.not_equal(input_1, 0), tf.not_equal(input_2, 0)\n",
    "    \n",
    "    # Attention Mechanism\n",
    "    attention_mlp = tf.keras.Sequential([\n",
    "        tf.keras.layers.Dropout(0.2),\n",
    "        tf.keras.layers.Dense(16, activation='tanh', kernel_regularizer=tf.keras.regularizers.l2(l2_regularizer)),\n",
    "        tf.keras.layers.Dropout(0.2),\n",
    "        tf.keras.layers.Dense(1)\n",
    "    ])\n",
    "    # Apply attention to each embedding\n",
    "    attention_weights_1 = attention_mlp(embedded_1)  \n",
    "    attention_weights_2 = attention_mlp(embedded_2) \n",
    "    # Mask the attention weights\n",
    "    attention_weights_1 = tf.exp(attention_weights_1) * tf.cast(_input_mask_1[:, :, None], tf.float32)\n",
    "    attention_weights_2 = tf.exp(attention_weights_2) * tf.cast(_input_mask_2[:, :, None], tf.float32)\n",
    "    # Normalize attention weights\n",
    "    attention_weights_1 = attention_weights_1 / tf.reduce_sum(attention_weights_1, axis=1, keepdims=True)\n",
    "    attention_weights_2 = attention_weights_2 / tf.reduce_sum(attention_weights_2, axis=1, keepdims=True)\n",
    "    # Compute context vectors\n",
    "    projected_1 = tf.reduce_sum(embedded_1 * attention_weights_1, axis=1) \n",
    "    projected_2 = tf.reduce_sum(embedded_2 * attention_weights_2, axis=1) \n",
    "    \n",
    "    if use_cosine:\n",
    "        # Compute the cosine distance using a Lambda layer\n",
    "        def cosine_distance(x):\n",
    "            x1, x2 = x\n",
    "            x1_normalized = tf.keras.backend.l2_normalize(x1, axis=1)\n",
    "            x2_normalized = tf.keras.backend.l2_normalize(x2, axis=1)\n",
    "            return 2.5 * (1.0 + tf.reduce_sum(x1_normalized * x2_normalized, axis=1))\n",
    "        output = tf.keras.layers.Lambda(cosine_distance)([projected_1, projected_2])\n",
    "    else:\n",
    "         # Compute the cosine distance using a Lambda layer\n",
    "        def normalized_product(x):\n",
    "            x1, x2 = x\n",
    "            x1_normalized = tf.keras.backend.l2_normalize(x1, axis=1)\n",
    "            x2_normalized = tf.keras.backend.l2_normalize(x2, axis=1)\n",
    "            return x1_normalized * x2_normalized\n",
    "    \n",
    "        output = tf.keras.layers.Lambda(normalized_product)([projected_1, projected_2])\n",
    "        output = tf.keras.layers.Dropout(0.1)(output)\n",
    "        output = tf.keras.layers.Dense(\n",
    "            16,\n",
    "            activation=\"relu\",\n",
    "            kernel_regularizer=tf.keras.regularizers.l2(l2_regularizer)\n",
    "        )(output)\n",
    "        output = tf.keras.layers.Dropout(0.2)(output)\n",
    "        output = tf.keras.layers.Dense(\n",
    "            1,\n",
    "            activation=\"sigmoid\",\n",
    "        )(output)\n",
    "        \n",
    "        output = tf.keras.layers.Lambda(lambda x: x * 5)(output)\n",
    "        \n",
    "    # Model Definition\n",
    "    model = tf.keras.Model(inputs=(input_1, input_2), outputs=output)\n",
    "    model.compile(\n",
    "        loss=\"mean_squared_error\", optimizer=tf.keras.optimizers.Adam(learning_rate=learning_rate)\n",
    "    )\n",
    "    return model"
   ]
  },
  {
   "cell_type": "markdown",
   "metadata": {},
   "source": [
    "## Diferents models de Word Embeddings"
   ]
  },
  {
   "cell_type": "markdown",
   "metadata": {},
   "source": [
    "### One Hot"
   ]
  },
  {
   "cell_type": "code",
   "execution_count": null,
   "metadata": {},
   "outputs": [],
   "source": [
    "# Preprcessament del text_semantic\n",
    "corpus_semantic = []\n",
    "semantic_score = []\n",
    "for line in text_semantic['train']:\n",
    "    frase1 = preprocess_text(line['sentence1'])\n",
    "    frase2 = preprocess_text(line['sentence2'])\n",
    "\n",
    "    corpus_semantic.append((frase1, frase2))\n",
    "    semantic_score.append(line['label'])"
   ]
  },
  {
   "cell_type": "code",
   "execution_count": null,
   "metadata": {},
   "outputs": [],
   "source": [
    "corpus_semantic_test = []\n",
    "semantic_score_test = []\n",
    "for line in text_semantic['test']:\n",
    "    frase1 = preprocess_text(line['sentence1'])\n",
    "    frase2 = preprocess_text(line['sentence2'])\n",
    "\n",
    "    corpus_semantic_test.append((frase1, frase2))\n",
    "    semantic_score_test.append(line['label'])"
   ]
  },
  {
   "cell_type": "code",
   "execution_count": null,
   "metadata": {},
   "outputs": [],
   "source": [
    "vocabulari = {}\n",
    "\n",
    "for frases in corpus_semantic:\n",
    "    for frase in frases:\n",
    "        for paraula in frase:\n",
    "            if paraula in vocabulari:\n",
    "                vocabulari[paraula] += 1\n",
    "            else:\n",
    "                vocabulari[paraula] = 1"
   ]
  },
  {
   "cell_type": "code",
   "execution_count": null,
   "metadata": {},
   "outputs": [],
   "source": [
    "vocabulari_reduit = {palabra for palabra, frecuencia in vocabulari.items() if frecuencia >= 10}"
   ]
  },
  {
   "cell_type": "code",
   "execution_count": null,
   "metadata": {},
   "outputs": [],
   "source": [
    "import numpy as np\n",
    "\n",
    "# Función para calcular la representación one-hot de un texto\n",
    "def compute_one_hot_encoding(text, vocabulari):\n",
    "    \"\"\"\n",
    "    Genera la representación one-hot de un texto utilizando un vocabulario predefinido.\n",
    "    \"\"\"\n",
    "    one_hot_vector = np.zeros(len(vocabulari))\n",
    "    vocabulario_list = list(vocabulari)\n",
    "    for palabra in text:\n",
    "        if palabra in vocabulari:\n",
    "            index = vocabulario_list.index(palabra)\n",
    "            one_hot_vector[index] = 1\n",
    "        \n",
    "    return one_hot_vector"
   ]
  },
  {
   "cell_type": "code",
   "execution_count": null,
   "metadata": {},
   "outputs": [],
   "source": [
    "# Passar les frases de corpus_semantic a vectors\n",
    "one_hot_corpus_semantic = corpus_semantic.copy()\n",
    "for i, (frase1, frase2) in enumerate(one_hot_corpus_semantic):\n",
    "    one_hot_corpus_semantic[i] = (compute_one_hot_encoding(frase1, vocabulari_reduit), \n",
    "                                    compute_one_hot_encoding(frase2, vocabulari_reduit))"
   ]
  },
  {
   "cell_type": "code",
   "execution_count": null,
   "metadata": {},
   "outputs": [],
   "source": [
    "#### Entrenament de la xarxa amb els vectors de les frases ####\n",
    "\n",
    "# Convertir les llistes de tuples a arrays de NumPy\n",
    "vectors_1 = np.array([pair[0] for pair in one_hot_corpus_semantic])\n",
    "vectors_2 = np.array([pair[1] for pair in one_hot_corpus_semantic])\n",
    "\n",
    "# Comprovar si hi ha valors fora de rang i substituir-los\n",
    "vectors_1 = np.clip(vectors_1, 0, 1)\n",
    "vectors_2 = np.clip(vectors_2, 0, 1)\n",
    "\n",
    "# Convertir les llistes de similituds a un array de NumPy\n",
    "semantic_score = np.array(semantic_score)\n",
    "\n",
    "baseline_model.fit(\n",
    "    [vectors_1, vectors_2], \n",
    "    semantic_score, \n",
    "    epochs=50, \n",
    "    batch_size=32, \n",
    "    validation_split=0.2\n",
    ")"
   ]
  },
  {
   "cell_type": "code",
   "execution_count": null,
   "metadata": {},
   "outputs": [],
   "source": [
    "from sklearn.metrics import mean_squared_error, r2_score\n",
    "\n",
    "# Pasar las frases de corpus_semantic a vectores\n",
    "one_hot_corpus_semantic_test = corpus_semantic_test.copy()\n",
    "for i, (frase1, frase2) in enumerate(one_hot_corpus_semantic_test):\n",
    "    one_hot_corpus_semantic_test[i] = (compute_one_hot_encoding(frase1, vocabulari_reduit), \n",
    "                                    compute_one_hot_encoding(frase2, vocabulari_reduit))\n",
    "\n",
    "vectors_1 = np.array([pair[0] for pair in one_hot_corpus_semantic_test])\n",
    "vectors_2 = np.array([pair[1] for pair in one_hot_corpus_semantic_test])\n",
    "\n",
    "# Obtener predicciones del modelo\n",
    "predicciones = baseline_model.predict([vectors_1, vectors_2])\n",
    "\n",
    "# Calcular el error cuadrático medio (MSE)\n",
    "mse = mean_squared_error(semantic_score_test, predicciones)\n",
    "\n",
    "# Calcular el coeficiente de determinación (R^2)\n",
    "r2 = r2_score(semantic_score_test, predicciones)\n",
    "\n",
    "# Mostrar las predicciones, el MSE y el R^2\n",
    "#print(\"Predicciones:\", predicciones)\n",
    "print(\"Error cuadrático medio (MSE):\", mse)\n",
    "print(\"Coeficiente de determinación (R^2):\", r2)"
   ]
  },
  {
   "cell_type": "markdown",
   "metadata": {},
   "source": [
    "### Model Word2Vec"
   ]
  },
  {
   "cell_type": "markdown",
   "metadata": {},
   "source": [
    "Realitzem el model de regressio amb els embeddings dels models Word2Vec + Mean i + Mean Ponderada."
   ]
  },
  {
   "cell_type": "code",
   "execution_count": null,
   "metadata": {},
   "outputs": [],
   "source": [
    "all_input_pairs = input_pairs + input_pairs_val + input_pairs_test\n",
    "# Preprocesamiento de las oraciones y creación del diccionario\n",
    "sentences_1_preproc = [simple_preprocess(sentence_1) for sentence_1, _, _ in all_input_pairs]\n",
    "sentences_2_preproc = [simple_preprocess(sentence_2) for _, sentence_2, _ in all_input_pairs]\n",
    "sentence_pairs = list(zip(sentences_1_preproc, sentences_2_preproc))\n",
    "# Versión aplanada para poder entrenar el modelo\n",
    "sentences_pairs_flattened = sentences_1_preproc + sentences_2_preproc\n",
    "diccionario = Dictionary(sentences_pairs_flattened)"
   ]
  },
  {
   "cell_type": "code",
   "execution_count": null,
   "metadata": {},
   "outputs": [],
   "source": [
    "# Cálculo de los pesos TF-IDF para las oraciones pre-procesadas\n",
    "corpus = [diccionario.doc2bow(sent) for sent in sentences_pairs_flattened]\n",
    "modelo_tfidf = TfidfModel(corpus)"
   ]
  },
  {
   "cell_type": "code",
   "execution_count": null,
   "metadata": {},
   "outputs": [],
   "source": [
    "def map_tf_idf(sentence_preproc: List[str], dictionary: Dictionary, tf_idf_model: TfidfModel, wv_model) -> Tuple[List[np.ndarray], List[float]]:\n",
    "    bow = dictionary.doc2bow(sentence_preproc)\n",
    "    tf_idf = tf_idf_model[bow]\n",
    "    vectors, weights = [], []\n",
    "    for word_index, weight in tf_idf:\n",
    "        word = dictionary.get(word_index)\n",
    "        if word in wv_model:\n",
    "            vectors.append(wv_model[word])\n",
    "            weights.append(weight)\n",
    "    return vectors, weights\n",
    "\n",
    "def map_pairs(\n",
    "        sentence_pairs: List[Tuple[str, str, float]],\n",
    "        dictionary: Dictionary = None,\n",
    "        tf_idf_model: TfidfModel = None,\n",
    "        wv_model: gensim.models.word2vec.Word2VecKeyedVectors = None,\n",
    ") -> List[Tuple[Tuple[np.ndarray, np.ndarray], float]]:\n",
    "    # Mapeo de los pares de oraciones a pares de vectores\n",
    "    pares_vectores = []\n",
    "    for i, (sentence_1, sentence_2, similitud) in enumerate(sentence_pairs):\n",
    "        sentence_1_preproc = preprocess_text(sentence_1)\n",
    "        sentence_2_preproc = preprocess_text(sentence_2)\n",
    "        # Si usamos TF-IDF\n",
    "        if tf_idf_model is not None:\n",
    "            # Cálculo del promedio ponderado por TF-IDF de los word embeddings\n",
    "            vectors1, weights1 = map_tf_idf(sentence_1_preproc, dictionary=dictionary, tf_idf_model=tf_idf_model, wv_model=wv_model,)\n",
    "            vectors2, weights2 = map_tf_idf(sentence_2_preproc, dictionary=dictionary, tf_idf_model=tf_idf_model, wv_model=wv_model,)\n",
    "            vector1 = np.average(vectors1, weights=weights1, axis=0, )\n",
    "            vector2 = np.average(vectors2, weights=weights2, axis=0, )\n",
    "        else:\n",
    "            # Cálculo del promedio de los word embeddings\n",
    "            vectors1 = [wv_model[word] for word in sentence_1_preproc if word in wv_model]\n",
    "            vectors2 = [wv_model[word] for word in sentence_2_preproc if word in wv_model]\n",
    "            vector1 = np.mean(vectors1, axis=0)\n",
    "            vector2 = np.mean(vectors2, axis=0)\n",
    "        # Añadir a la lista\n",
    "        pares_vectores.append(((vector1, vector2), similitud))\n",
    "    return pares_vectores\n",
    "\n",
    "def pair_list_to_x_y(pair_list: List[Tuple[Tuple[np.ndarray, np.ndarray], int]]) -> Tuple[Tuple[np.ndarray, np.ndarray], np.ndarray]:\n",
    "    _x, _y = zip(*pair_list)\n",
    "    _x_1, _x_2 = zip(*_x)\n",
    "    return (np.array(_x_1), np.array(_x_2)), np.array(_y, dtype=np.float32, )"
   ]
  },
  {
   "cell_type": "markdown",
   "metadata": {},
   "source": [
    "#### Word2Vec + Mean"
   ]
  },
  {
   "cell_type": "code",
   "execution_count": null,
   "metadata": {},
   "outputs": [],
   "source": [
    "def prepare_datasets(model: gensim.models.word2vec.Word2VecKeyedVectors, batch_size: int = 64):\n",
    "    \n",
    "    # Imprimir los pares de vectores y la puntuación de similitud asociada\n",
    "    mapped_train = map_pairs(input_pairs,  dictionary=diccionario, wv_model = model)\n",
    "    mapped_val = map_pairs(input_pairs_val, dictionary=diccionario, wv_model = model)\n",
    "    mapped_test = map_pairs(input_pairs_test, dictionary=diccionario, wv_model = model)\n",
    "\n",
    "    # Obtener las listas de train y test\n",
    "    x_train, y_train = pair_list_to_x_y(mapped_train)\n",
    "    x_val, y_val = pair_list_to_x_y(mapped_val)\n",
    "    x_test, y_test = pair_list_to_x_y(mapped_test)\n",
    "\n",
    "    # Preparar los conjuntos de datos de entrenamiento y validación\n",
    "    train_dataset_ = tf.data.Dataset.from_tensor_slices((x_train, y_train))\n",
    "    train_dataset_ = train_dataset_.shuffle(buffer_size=len(x_train)).batch(batch_size)\n",
    "\n",
    "    val_dataset_ = tf.data.Dataset.from_tensor_slices((x_val, y_val))\n",
    "    val_dataset_ = val_dataset_.batch(batch_size)\n",
    "    \n",
    "\n",
    "    # Construir y compilar el modelo\n",
    "    embedding_model = build_and_compile_model()\n",
    "    \n",
    "    # Train the model\n",
    "    embedding_model.fit(train_dataset_, epochs=64, validation_data=val_dataset_)\n",
    "\n",
    "    # Prediccions del test\n",
    "    prediccions_word2vec = embedding_model.predict(x_test)\n",
    "\n",
    "    # MSE\n",
    "    mse_word2vec = mean_squared_error(y_test, prediccions_word2vec)\n",
    "\n",
    "    print(f\"MSE del model amb Word2Vec Embeddings: {mse_word2vec}\")\n",
    "    print(f\"R^2 del model amb Word2Vec Embeddings: {r2_score(y_test, prediccions_word2vec)}\")\n",
    "    \n",
    "    \n",
    "\n",
    "for mida in [\"500MB\", \"1GB\", \"complet\"]:\n",
    "    model = models[mida]\n",
    "    datasets = prepare_datasets(model)\n",
    "    print(f\"Datasets preparados para el modelo {mida}\")"
   ]
  },
  {
   "cell_type": "markdown",
   "metadata": {},
   "source": [
    "#### Word2Vec + Mean Ponderada"
   ]
  },
  {
   "cell_type": "code",
   "execution_count": null,
   "metadata": {},
   "outputs": [],
   "source": [
    "def prepare_datasets_mean_ponderada(model: gensim.models.word2vec.Word2VecKeyedVectors, batch_size: int = 64):\n",
    "    \n",
    "    # Imprimir los pares de vectores y la puntuación de similitud asociada\n",
    "    mapped_train = map_pairs(input_pairs,  tf_idf_model=modelo_tfidf, dictionary=diccionario, wv_model = model)\n",
    "    mapped_val = map_pairs(input_pairs_val, tf_idf_model=modelo_tfidf, dictionary=diccionario, wv_model = model)\n",
    "    mapped_test = map_pairs(input_pairs_test, tf_idf_model=modelo_tfidf, dictionary=diccionario, wv_model = model)\n",
    "\n",
    "    # Obtener las listas de train y test\n",
    "    x_train, y_train = pair_list_to_x_y(mapped_train)\n",
    "    x_val, y_val = pair_list_to_x_y(mapped_val)\n",
    "    x_test, y_test = pair_list_to_x_y(mapped_test)\n",
    "\n",
    "    # Preparar los conjuntos de datos de entrenamiento y validación\n",
    "    train_dataset_ = tf.data.Dataset.from_tensor_slices((x_train, y_train))\n",
    "    train_dataset_ = train_dataset_.shuffle(buffer_size=len(x_train)).batch(batch_size)\n",
    "\n",
    "    val_dataset_ = tf.data.Dataset.from_tensor_slices((x_val, y_val))\n",
    "    val_dataset_ = val_dataset_.batch(batch_size)\n",
    "    \n",
    "    \n",
    "    # Construir y compilar el modelo\n",
    "    embedding_model = build_and_compile_model()\n",
    "    \n",
    "    # Train the model\n",
    "    embedding_model.fit(train_dataset_, epochs=64, validation_data=val_dataset_)\n",
    "\n",
    "    # Prediccions del test\n",
    "    prediccions_word2vec = embedding_model.predict(x_test)\n",
    "\n",
    "    # MSE\n",
    "    mse_word2vec = mean_squared_error(y_test, prediccions_word2vec)\n",
    "\n",
    "    print(f\"MSE del model amb Word2Vec Embeddings: {mse_word2vec}\")\n",
    "    print(f\"R^2 del model amb Word2Vec Embeddings: {r2_score(y_test, prediccions_word2vec)}\")\n",
    "    \n",
    "    \n",
    "\n",
    "for mida in [\"500MB\", \"1GB\", \"complet\"]:\n",
    "    model = models[mida]\n",
    "    datasets = prepare_datasets_mean_ponderada(model)\n",
    "    print(f\"Datasets preparados para el modelo {mida}\")"
   ]
  },
  {
   "cell_type": "markdown",
   "metadata": {},
   "source": [
    "#### Word2Vec + Mean amb model de Linear Regression"
   ]
  },
  {
   "cell_type": "code",
   "execution_count": 19,
   "metadata": {},
   "outputs": [
    {
     "name": "stdout",
     "output_type": "stream",
     "text": [
      "MSE del model de regressió: 0.6825629832324949\n"
     ]
    }
   ],
   "source": [
    "import numpy as np\n",
    "from sklearn.model_selection import train_test_split\n",
    "from sklearn.linear_model import LinearRegression\n",
    "from sklearn.metrics import mean_squared_error\n",
    "\n",
    "# Exemple de preprocessament de text\n",
    "def obtenir_vectores_mean(text, model_word2vec):\n",
    "    tokens = text.split()\n",
    "    vectors = [model_word2vec.wv[word] for word in tokens if word in model_word2vec.wv]\n",
    "    return np.mean(vectors, axis=0) if vectors else np.zeros(model_word2vec.vector_size)\n",
    "\n",
    "# Exemple d'entrenament del model de regressió\n",
    "def entrenar_model_regressio(texts, labels, model_word2vec):\n",
    "    X = np.array([np.concatenate((obtenir_vectores_mean(text1, model_word2vec), obtenir_vectores_mean(text2, model_word2vec))) \n",
    "                  for text1, text2 in texts])\n",
    "    \n",
    "    X_train, X_test, y_train, y_test = train_test_split(X, labels, test_size=0.2)\n",
    "    model = LinearRegression()\n",
    "    model.fit(X_train, y_train)\n",
    "    prediccions = model.predict(X_test)\n",
    "    mse = mean_squared_error(y_test, prediccions)\n",
    "    return model, mse\n",
    "\n",
    "# Entrenar el model de regressió utilitzant un dels models Word2Vec\n",
    "texts =  [(sentence1, sentence2) for sentence1, sentence2, _ in input_pairs] # textos del dataset\n",
    "labels = [label for _, _, label in input_pairs]  # similituds reals\n",
    "model_word2vec = Word2Vec.load(\"model_100MB\") # utilitzar el model Word2Vec entrenat\n",
    "\n",
    "model_regressio, mse = entrenar_model_regressio(texts, labels, model_word2vec)\n",
    "print(f\"MSE del model de regressió: {mse}\")\n"
   ]
  },
  {
   "cell_type": "markdown",
   "metadata": {},
   "source": [
    "Un valor d'MSE de 0.6825629832324949 indica que l'error quadràtic mitjà entre les prediccions del model i els valors reals és relativament alt. Això suggereix que el model de regressió no està fent prediccions molt precises."
   ]
  },
  {
   "cell_type": "code",
   "execution_count": 20,
   "metadata": {},
   "outputs": [
    {
     "name": "stdout",
     "output_type": "stream",
     "text": [
      "Similitud predita: 2.6517136096954346\n"
     ]
    }
   ],
   "source": [
    "# Funció per predir la similitud entre dos textos\n",
    "def predir_similitud(text1, text2, model_regressio, model_word2vec):\n",
    "    vector1 = obtenir_vectores_mean(text1, model_word2vec)\n",
    "    vector2 = obtenir_vectores_mean(text2, model_word2vec)\n",
    "    vector_concat = np.concatenate((vector1, vector2)).reshape(1, -1)\n",
    "    prediccio = model_regressio.predict(vector_concat)\n",
    "    return prediccio[0]\n",
    "\n",
    "# Exemple de predicció\n",
    "text1 = \"Aquest és un text\"\n",
    "text2 = \"Aquest és un altre text\"\n",
    "similitud = predir_similitud(text1, text2, model_regressio, model_word2vec)\n",
    "print(f\"Similitud predita: {similitud}\")\n"
   ]
  },
  {
   "cell_type": "markdown",
   "metadata": {},
   "source": [
    "### 3. spaCy"
   ]
  },
  {
   "cell_type": "code",
   "execution_count": null,
   "metadata": {},
   "outputs": [],
   "source": [
    "!py -m spacy download ca_core_news_md"
   ]
  },
  {
   "cell_type": "code",
   "execution_count": null,
   "metadata": {},
   "outputs": [],
   "source": [
    "import spacy\n",
    "\n",
    "nlp_md = spacy.load('ca_core_news_md')"
   ]
  },
  {
   "cell_type": "code",
   "execution_count": null,
   "metadata": {},
   "outputs": [],
   "source": [
    "def spacy_mean_embedding(text1, text2, model):\n",
    "    \"\"\"\n",
    "    Agafa els vectors d'embeddings de cada paraula en una frase o document i \n",
    "    calcula la mitjana dels vectors per obtenir una única representació vectorial \n",
    "    per a la frase o document.\n",
    "    \"\"\"\n",
    "    text1 = ' '.join(text1)\n",
    "    text2 = ' '.join(text2)\n",
    "    frase1 = model(text1).vector\n",
    "    frase2 = model(text2).vector\n",
    "    \n",
    "    return frase1, frase2"
   ]
  },
  {
   "cell_type": "code",
   "execution_count": null,
   "metadata": {},
   "outputs": [],
   "source": [
    "# Passar les frases de corpus_semantic a vectors\n",
    "spacy_mean_embbeding_corpus_semantic = corpus_semantic.copy()\n",
    "for i, (frase1, frase2) in enumerate(spacy_mean_embbeding_corpus_semantic):\n",
    "    \n",
    "    frase1, frase2 = spacy_mean_embedding(frase1, frase2, nlp_md)\n",
    "    spacy_mean_embbeding_corpus_semantic[i] = (frase1, frase2)"
   ]
  },
  {
   "cell_type": "code",
   "execution_count": null,
   "metadata": {},
   "outputs": [],
   "source": [
    "#### Entrenament de la xarxa amb els vectors de les frases ####\n",
    "\n",
    "# Convertir les llistes de tuples a arrays de NumPy\n",
    "vectors_1 = np.array([pair[0] for pair in spacy_mean_embbeding_corpus_semantic])\n",
    "vectors_2 = np.array([pair[1] for pair in spacy_mean_embbeding_corpus_semantic])\n",
    "\n",
    "# Comprovar si hi ha valors fora de rang i substituir-los\n",
    "#vectors_1 = np.clip(vectors_1, 0, 999)\n",
    "#vectors_2 = np.clip(vectors_2, 0, 999)\n",
    "\n",
    "# Convertir les llistes de similituds a un array de NumPy\n",
    "semantic_score = np.array(semantic_score)\n",
    "\n",
    "print(vectors_1.shape)\n",
    "print(vectors_2.shape)\n",
    "print(semantic_score.shape)\n",
    "\n",
    "baseline_model.fit(\n",
    "    [vectors_1, vectors_2], \n",
    "    semantic_score, \n",
    "    epochs=50, \n",
    "    batch_size=32, \n",
    "    "
   ]
  },
  {
   "cell_type": "code",
   "execution_count": null,
   "metadata": {},
   "outputs": [],
   "source": [
    "from sklearn.metrics import mean_squared_error, r2_score\n",
    "\n",
    "# Pasar las frases de corpus_semantic a vectores\n",
    "spacy_mean_embbeding_corpus_semantic_test = corpus_semantic_test.copy()\n",
    "for i, (frase1, frase2) in enumerate(spacy_mean_embbeding_corpus_semantic_test):\n",
    "    \n",
    "    frase1, frase2 = spacy_mean_embedding(frase1, frase2, nlp_md)\n",
    "    spacy_mean_embbeding_corpus_semantic_test[i] = (frase1, frase2)\n",
    "\n",
    "vectors_1 = np.array([pair[0] for pair in spacy_mean_embbeding_corpus_semantic_test])\n",
    "vectors_2 = np.array([pair[1] for pair in spacy_mean_embbeding_corpus_semantic_test])\n",
    "\n",
    "# Obtener predicciones del modelo\n",
    "predicciones = baseline_model.predict([vectors_1, vectors_2])\n",
    "\n",
    "# Calcular el error cuadrático medio (MSE)\n",
    "mse = mean_squared_error(semantic_score_test, predicciones)\n",
    "\n",
    "# Calcular el coeficiente de determinación (R^2)\n",
    "r2 = r2_score(semantic_score_test, predicciones)\n",
    "\n",
    "# Mostrar las predicciones, el MSE y el R^2\n",
    "#print(\"Predicciones:\", predicciones)\n",
    "print(\"Error cuadrático medio (MSE):\", mse)\n",
    "print(\"Coeficiente de determinación (R^2):\", r2)"
   ]
  },
  {
   "cell_type": "markdown",
   "metadata": {},
   "source": [
    "### 4.RoBERTa"
   ]
  },
  {
   "cell_type": "code",
   "execution_count": null,
   "metadata": {},
   "outputs": [],
   "source": [
    "!py -m spacy download ca_core_news_trf"
   ]
  },
  {
   "cell_type": "code",
   "execution_count": null,
   "metadata": {},
   "outputs": [],
   "source": [
    "import spacy\n",
    "\n",
    "nlp_trf = spacy.load('ca_core_news_trf')"
   ]
  },
  {
   "cell_type": "code",
   "execution_count": null,
   "metadata": {},
   "outputs": [],
   "source": [
    "def spacy_trf_CLS(frase1, frase2, model):# Procesar la frase\n",
    "    frase1 = ' '.join(frase1)\n",
    "    frase2 = ' '.join(frase2)\n",
    "    doc1 = model(frase1)\n",
    "    doc2 = model(frase2)\n",
    "\n",
    "    # Obtener el embedding CLS\n",
    "    embedding_CLS1 = doc1._.trf_data.last_hidden_layer_state\n",
    "    embedding_array1 = embedding_CLS1.data\n",
    "    embedding_CLS2 = doc2._.trf_data.last_hidden_layer_state\n",
    "    embedding_array2 = embedding_CLS2.data\n",
    "    \n",
    "    return embedding_array1, embedding_array2"
   ]
  },
  {
   "cell_type": "code",
   "execution_count": null,
   "metadata": {},
   "outputs": [],
   "source": [
    "spacy_trf_CLS_corpus_semantic = corpus_semantic.copy()\n",
    "for i, (frase1, frase2) in enumerate(spacy_trf_CLS_corpus_semantic):\n",
    "    \n",
    "    frase1, frase2 = spacy_trf_CLS(frase1, frase2, nlp_trf)\n",
    "    spacy_trf_CLS_corpus_semantic[i] = (frase1, frase2)"
   ]
  },
  {
   "cell_type": "code",
   "execution_count": null,
   "metadata": {},
   "outputs": [],
   "source": [
    "#### Entrenament de la xarxa amb els vectors de les frases ####\n",
    "\n",
    "# Convertir les llistes de tuples a arrays de NumPy\n",
    "vectors_1 = np.array([pair[0][0] for pair in spacy_trf_CLS_corpus_semantic])\n",
    "vectors_2 = np.array([pair[0][1] for pair in spacy_trf_CLS_corpus_semantic])\n",
    "\n",
    "# Comprovar si hi ha valors fora de rang i substituir-los\n",
    "#vectors_1 = np.clip(vectors_1, 0, 999)\n",
    "#vectors_2 = np.clip(vectors_2, 0, 999)\n",
    "\n",
    "# Convertir les llistes de similituds a un array de NumPy\n",
    "semantic_score = np.array(semantic_score)\n",
    "\n",
    "print(vectors_1.shape)\n",
    "print(vectors_2.shape)\n",
    "print(semantic_score.shape)\n",
    "\n",
    "baseline_model.fit(\n",
    "    [vectors_1, vectors_2], \n",
    "    semantic_score, \n",
    "    epochs=50, \n",
    "    batch_size=32, \n",
    "    validation_split=0.2\n",
    ")"
   ]
  },
  {
   "cell_type": "code",
   "execution_count": null,
   "metadata": {},
   "outputs": [],
   "source": [
    "from sklearn.metrics import mean_squared_error, r2_score\n",
    "\n",
    "# Pasar las frases de corpus_semantic a vectores\n",
    "spacy_trf_CLS_corpus_semantic_test = corpus_semantic_test.copy()\n",
    "for i, (frase1, frase2) in enumerate(spacy_trf_CLS_corpus_semantic_test):\n",
    "    \n",
    "    frase1, frase2 = spacy_trf_CLS(frase1, frase2, nlp_trf)\n",
    "    spacy_trf_CLS_corpus_semantic_test[i] = (frase1, frase2)\n",
    "\n",
    "vectors_1 = np.array([pair[0][0] for pair in spacy_trf_CLS_corpus_semantic_test])\n",
    "vectors_2 = np.array([pair[0][1] for pair in spacy_trf_CLS_corpus_semantic_test])\n",
    "\n",
    "# Obtener predicciones del modelo\n",
    "predicciones = baseline_model.predict([vectors_1, vectors_2])\n",
    "\n",
    "# Calcular el error cuadrático medio (MSE)\n",
    "mse = mean_squared_error(semantic_score_test, predicciones)\n",
    "\n",
    "# Calcular el coeficiente de determinación (R^2)\n",
    "r2 = r2_score(semantic_score_test, predicciones)\n",
    "\n",
    "# Mostrar las predicciones, el MSE y el R^2\n",
    "#print(\"Predicciones:\", predicciones)\n",
    "print(\"Error cuadrático medio (MSE):\", mse)\n",
    "print(\"Coeficiente de determinación (R^2):\", r2)"
   ]
  },
  {
   "cell_type": "code",
   "execution_count": null,
   "metadata": {},
   "outputs": [],
   "source": [
    "import spacy\n",
    "import numpy as np\n",
    "\n",
    "# Cargar el modelo\n",
    "nlp_trf = spacy.load('ca_core_news_trf')\n",
    "\n",
    "# Frase de ejemplo\n",
    "frase1 = 'atorga per primer cop les mencions encarna sanahuja a la inclusió de la perspectiva de gènere en docència universitària'\n",
    "doc = nlp_trf(frase1)\n",
    "\n",
    "# Obtener las representaciones de la última capa oculta\n",
    "embeddings = doc._.trf_data.last_hidden_layer_state\n",
    "\n",
    "# Convertir a numpy array\n",
    "embeddings_np = np.array(embeddings.data)\n",
    "\n",
    "# Calcular la media de los embeddings a lo largo del eje de las palabras\n",
    "mean_embedding = np.mean(embeddings_np, axis=1)\n",
    "\n",
    "print(mean_embedding)"
   ]
  },
  {
   "cell_type": "code",
   "execution_count": null,
   "metadata": {},
   "outputs": [],
   "source": [
    "def spacy_trf_mean(frase1, frase2, model):\n",
    "    frase1 = ' '.join(frase1)\n",
    "    frase2 = ' '.join(frase2)\n",
    "    doc1 = model(frase1)\n",
    "    doc2 = model(frase2)\n",
    "\n",
    "    # Obtener el embedding CLS\n",
    "    embedding_CLS1 = doc1._.trf_data.last_hidden_layer_state\n",
    "    embedding_array1 = embedding_CLS1.data\n",
    "    embedding_CLS2 = doc2._.trf_data.last_hidden_layer_state\n",
    "    embedding_array2 = embedding_CLS2.data\n",
    "    \n",
    "    return np.array(embedding_array1.data), np.array(embedding_array2.data)"
   ]
  },
  {
   "cell_type": "code",
   "execution_count": null,
   "metadata": {},
   "outputs": [],
   "source": [
    "spacy_trf_mean_corpus_semantic = corpus_semantic.copy()\n",
    "for i, (frase1, frase2) in enumerate(spacy_trf_mean_corpus_semantic):\n",
    "    \n",
    "    frase1, frase2 = spacy_trf_CLS(frase1, frase2, nlp_trf)\n",
    "    spacy_trf_mean_corpus_semantic[i] = (frase1, frase2)"
   ]
  },
  {
   "cell_type": "code",
   "execution_count": null,
   "metadata": {},
   "outputs": [],
   "source": [
    "#### Entrenament de la xarxa amb els vectors de les frases ####\n",
    "\n",
    "# Convertir les llistes de tuples a arrays de NumPy\n",
    "vectors_1 = np.array([pair[0][0] for pair in spacy_trf_CLS_corpus_semantic])\n",
    "vectors_2 = np.array([pair[0][1] for pair in spacy_trf_CLS_corpus_semantic])\n",
    "\n",
    "# Comprovar si hi ha valors fora de rang i substituir-los\n",
    "#vectors_1 = np.clip(vectors_1, 0, 999)\n",
    "#vectors_2 = np.clip(vectors_2, 0, 999)\n",
    "\n",
    "# Convertir les llistes de similituds a un array de NumPy\n",
    "semantic_score = np.array(semantic_score)\n",
    "\n",
    "print(vectors_1.shape)\n",
    "print(vectors_2.shape)\n",
    "print(semantic_score.shape)\n",
    "\n",
    "baseline_model.fit(\n",
    "    [vectors_1, vectors_2], \n",
    "    semantic_score, \n",
    "    epochs=50, \n",
    "    batch_size=32, \n",
    "    validation_split=0.2\n",
    ")"
   ]
  },
  {
   "cell_type": "code",
   "execution_count": null,
   "metadata": {},
   "outputs": [],
   "source": [
    "from sklearn.metrics import mean_squared_error, r2_score\n",
    "\n",
    "# Pasar las frases de corpus_semantic a vectores\n",
    "spacy_trf_mean_corpus_semantic_test = corpus_semantic_test.copy()\n",
    "for i, (frase1, frase2) in enumerate(spacy_trf_mean_corpus_semantic_test):\n",
    "    \n",
    "    frase1, frase2 = spacy_trf_mean(frase1, frase2, nlp_trf)\n",
    "    spacy_trf_mean_corpus_semantic_test[i] = (frase1, frase2)\n",
    "\n",
    "vectors_1 = np.array([pair[0][0] for pair in spacy_trf_mean_corpus_semantic_test])\n",
    "vectors_2 = np.array([pair[0][1] for pair in spacy_trf_mean_corpus_semantic_test])\n",
    "\n",
    "# Obtener predicciones del modelo\n",
    "predicciones = baseline_model.predict([vectors_1, vectors_2])\n",
    "\n",
    "# Calcular el error cuadrático medio (MSE)\n",
    "mse = mean_squared_error(semantic_score_test, predicciones)\n",
    "\n",
    "# Calcular el coeficiente de determinación (R^2)\n",
    "r2 = r2_score(semantic_score_test, predicciones)\n",
    "\n",
    "# Mostrar las predicciones, el MSE y el R^2\n",
    "#print(\"Predicciones:\", predicciones)\n",
    "print(\"Error cuadrático medio (MSE):\", mse)\n",
    "print(\"Coeficiente de determinación (R^2):\", r2)"
   ]
  },
  {
   "cell_type": "markdown",
   "metadata": {},
   "source": [
    "### 5. RoBERTa fine-tuned"
   ]
  },
  {
   "cell_type": "code",
   "execution_count": null,
   "metadata": {},
   "outputs": [],
   "source": [
    "from transformers import pipeline, AutoTokenizer\n",
    "from scipy.special import logit\n",
    "\n",
    "model = 'projecte-aina/roberta-base-ca-v2-cased-sts'\n",
    "tokenizer = AutoTokenizer.from_pretrained(model)\n",
    "pipe = pipeline('text-classification', model=model, tokenizer=tokenizer)"
   ]
  },
  {
   "cell_type": "code",
   "execution_count": null,
   "metadata": {},
   "outputs": [],
   "source": [
    "from transformers import AutoTokenizer, AutoModel\n",
    "import torch\n",
    "\n",
    "model_name = 'projecte-aina/roberta-base-ca-v2-cased-sts'\n",
    "tokenizer = AutoTokenizer.from_pretrained(model_name)\n",
    "model = AutoModel.from_pretrained(model_name)"
   ]
  },
  {
   "cell_type": "code",
   "execution_count": null,
   "metadata": {},
   "outputs": [],
   "source": [
    "def get_embeddings(text):\n",
    "    inputs = tokenizer(text, return_tensors='pt', truncation=True, padding=True)\n",
    "    with torch.no_grad():\n",
    "        outputs = model(**inputs)\n",
    "    return outputs.last_hidden_state"
   ]
  },
  {
   "cell_type": "code",
   "execution_count": null,
   "metadata": {},
   "outputs": [],
   "source": [
    "RoBERTa_corpus_semantic = corpus_semantic.copy()\n",
    "for i, (frase1, frase2) in enumerate(RoBERTa_corpus_semantic):\n",
    "    frase1 = get_embeddings(frase1)\n",
    "    frase2 = get_embeddings(frase2)\n",
    "    RoBERTa_corpus_semantic[i] = (frase1, frase2)"
   ]
  },
  {
   "cell_type": "code",
   "execution_count": null,
   "metadata": {},
   "outputs": [],
   "source": [
    "#### Entrenament de la xarxa amb els vectors de les frases ####\n",
    "\n",
    "# Convertir les llistes de tuples a arrays de NumPy\n",
    "vectors_1 = np.array([pair[0][0] for pair in RoBERTa_corpus_semantic])\n",
    "vectors_2 = np.array([pair[0][1] for pair in RoBERTa_corpus_semantic])\n",
    "\n",
    "# Comprovar si hi ha valors fora de rang i substituir-los\n",
    "#vectors_1 = np.clip(vectors_1, 0, 999)\n",
    "#vectors_2 = np.clip(vectors_2, 0, 999)\n",
    "\n",
    "# Convertir les llistes de similituds a un array de NumPy\n",
    "semantic_score = np.array(semantic_score)\n",
    "\n",
    "print(vectors_1.shape)\n",
    "print(vectors_2.shape)\n",
    "print(semantic_score.shape)\n",
    "\n",
    "baseline_model.fit(\n",
    "    [vectors_1, vectors_2], \n",
    "    semantic_score, \n",
    "    epochs=50, \n",
    "    batch_size=32, \n",
    "    validation_split=0.2\n",
    ")"
   ]
  },
  {
   "cell_type": "code",
   "execution_count": null,
   "metadata": {},
   "outputs": [],
   "source": [
    "def prepare(sentence_pairs):\n",
    "    sentence_pairs_prep = []\n",
    "    for s1, s2 in sentence_pairs:\n",
    "        sentence_pairs_prep.append(f\"{tokenizer.cls_token} {s1}{tokenizer.sep_token}{tokenizer.sep_token} {s2}{tokenizer.sep_token}\")\n",
    "    return sentence_pairs_prep"
   ]
  },
  {
   "cell_type": "code",
   "execution_count": null,
   "metadata": {},
   "outputs": [],
   "source": [
    "import numpy as np\n",
    "import torch\n",
    "from transformers import AutoTokenizer, AutoModel\n",
    "model_name = 'projecte-aina/roberta-base-ca-v2-cased-sts'\n",
    "tokenizer = AutoTokenizer.from_pretrained(model_name)\n",
    "transformer_model = AutoModel.from_pretrained(model_name)\n",
    "\n",
    "# Convert sentence pairs to embeddings using the transformer model\n",
    "def get_embeddings(sentence_pairs):\n",
    "    prepared_pairs = prepare(sentence_pairs)\n",
    "    embeddings = []\n",
    "    for pair in prepared_pairs:\n",
    "        inputs = tokenizer(pair, return_tensors='pt', truncation=True, padding=True, max_length=512)\n",
    "        with torch.no_grad():\n",
    "            outputs = transformer_model(**inputs)\n",
    "        embeddings.append(outputs.last_hidden_state.mean(dim=1).squeeze().numpy())\n",
    "    return embeddings\n",
    "\n",
    "fine_tuned_corpus_semantic = corpus_semantic.copy()\n",
    "for i, (frase1, frase2) in enumerate(fine_tuned_corpus_semantic):\n",
    "    fine_tuned_corpus_semantic[i] = (' '.join(frase1), ' '.join(frase2))\n",
    "\n",
    "embeddings = get_embeddings(fine_tuned_corpus_semantic)"
   ]
  },
  {
   "cell_type": "code",
   "execution_count": null,
   "metadata": {},
   "outputs": [],
   "source": [
    "fine_runed_corpus_semantic = corpus_semantic.copy()\n",
    "for i, (frase1, frase2) in enumerate(fine_runed_corpus_semantic):\n",
    "    frase1 = ' '.join(frase1)\n",
    "    frase2 = ' '.join(frase2)\n",
    "    fine_runed_corpus_semantic[i] = (frase1, frase2)"
   ]
  },
  {
   "cell_type": "code",
   "execution_count": null,
   "metadata": {},
   "outputs": [],
   "source": [
    "predictions = pipe(prepare(fine_runed_corpus_semantic), add_special_tokens=False)\n",
    "\n",
    "# convert back to scores to the original 0 and 5 interval\n",
    "for prediction in predictions:\n",
    "    prediction['score'] = logit(prediction['score'])\n",
    "print(predictions)"
   ]
  },
  {
   "cell_type": "code",
   "execution_count": null,
   "metadata": {},
   "outputs": [],
   "source": [
    "def compute_mean_embedding(text, model, embedding_dim):\n",
    "    \"\"\"\n",
    "    Agafa els vectors d'embeddings de cada paraula en una frase o document i \n",
    "    calcula la mitjana dels vectors per obtenir una única representació vectorial \n",
    "    per a la frase o document.\n",
    "    \"\"\"\n",
    "    vectors = [model[word] for word in text if word in model]\n",
    "    if vectors:\n",
    "        mean_vector = np.mean(vectors, axis=0)\n",
    "    else:\n",
    "        mean_vector = np.zeros(embedding_dim)\n",
    "    return mean_vector\n",
    "\n",
    "\n",
    "from sklearn.metrics import mean_squared_error, r2_score\n",
    "\n",
    "# Pasar las frases de corpus_semantic a vectores\n",
    "mean_embbeding_corpus_semantic_test = corpus_semantic_test.copy()\n",
    "for i, (frase1, frase2) in enumerate(mean_embbeding_corpus_semantic_test):\n",
    "    mean_embbeding_corpus_semantic_test[i] = (\n",
    "        compute_mean_embedding(frase1, model_100MB.wv, 100),\n",
    "        compute_mean_embedding(frase2, model_100MB.wv, 100)\n",
    "    )\n",
    "\n",
    "vectors_1 = np.array([pair[0] for pair in mean_embbeding_corpus_semantic_test])\n",
    "vectors_2 = np.array([pair[1] for pair in mean_embbeding_corpus_semantic_test])\n",
    "\n",
    "# Obtener predicciones del modelo\n",
    "predicciones = baseline_model.predict([vectors_1, vectors_2])\n",
    "\n",
    "# Calcular el error cuadrático medio (MSE)\n",
    "mse = mean_squared_error(semantic_score_test, predicciones)\n",
    "\n",
    "# Calcular el coeficiente de determinación (R^2)\n",
    "r2 = r2_score(semantic_score_test, predicciones)\n",
    "\n",
    "# Mostrar las predicciones, el MSE y el R^2\n",
    "#print(\"Predicciones:\", predicciones)\n",
    "print(\"Error cuadrático medio (MSE):\", mse)\n",
    "print(\"Coeficiente de determinación (R^2):\", r2)"
   ]
  },
  {
   "cell_type": "markdown",
   "metadata": {},
   "source": [
    "## Model amb embeddings entrenables"
   ]
  },
  {
   "cell_type": "code",
   "execution_count": 145,
   "metadata": {},
   "outputs": [
    {
     "name": "stdout",
     "output_type": "stream",
     "text": [
      "Model: \"model_50\"\n",
      "__________________________________________________________________________________________________\n",
      " Layer (type)                Output Shape                 Param #   Connected to                  \n",
      "==================================================================================================\n",
      " input_121 (InputLayer)      [(None, 37)]                 0         []                            \n",
      "                                                                                                  \n",
      " input_122 (InputLayer)      [(None, 37)]                 0         []                            \n",
      "                                                                                                  \n",
      " embedding_57 (Embedding)    (None, 37, 100)              100000    ['input_121[0][0]',           \n",
      "                                                                     'input_122[0][0]']           \n",
      "                                                                                                  \n",
      " tf.math.not_equal_28 (TFOp  (None, 37)                   0         ['input_121[0][0]']           \n",
      " Lambda)                                                                                          \n",
      "                                                                                                  \n",
      " tf.math.not_equal_29 (TFOp  (None, 37)                   0         ['input_122[0][0]']           \n",
      " Lambda)                                                                                          \n",
      "                                                                                                  \n",
      " sequential_7 (Sequential)   (None, 37, 1)                1633      ['embedding_57[0][0]',        \n",
      "                                                                     'embedding_57[1][0]']        \n",
      "                                                                                                  \n",
      " tf.__operators__.getitem_1  (None, 37, 1)                0         ['tf.math.not_equal_28[0][0]']\n",
      " 4 (SlicingOpLambda)                                                                              \n",
      "                                                                                                  \n",
      " tf.__operators__.getitem_1  (None, 37, 1)                0         ['tf.math.not_equal_29[0][0]']\n",
      " 5 (SlicingOpLambda)                                                                              \n",
      "                                                                                                  \n",
      " tf.math.exp_14 (TFOpLambda  (None, 37, 1)                0         ['sequential_7[0][0]']        \n",
      " )                                                                                                \n",
      "                                                                                                  \n",
      " tf.cast_14 (TFOpLambda)     (None, 37, 1)                0         ['tf.__operators__.getitem_14[\n",
      "                                                                    0][0]']                       \n",
      "                                                                                                  \n",
      " tf.math.exp_15 (TFOpLambda  (None, 37, 1)                0         ['sequential_7[1][0]']        \n",
      " )                                                                                                \n",
      "                                                                                                  \n",
      " tf.cast_15 (TFOpLambda)     (None, 37, 1)                0         ['tf.__operators__.getitem_15[\n",
      "                                                                    0][0]']                       \n",
      "                                                                                                  \n",
      " tf.math.multiply_28 (TFOpL  (None, 37, 1)                0         ['tf.math.exp_14[0][0]',      \n",
      " ambda)                                                              'tf.cast_14[0][0]']          \n",
      "                                                                                                  \n",
      " tf.math.multiply_29 (TFOpL  (None, 37, 1)                0         ['tf.math.exp_15[0][0]',      \n",
      " ambda)                                                              'tf.cast_15[0][0]']          \n",
      "                                                                                                  \n",
      " tf.math.reduce_sum_28 (TFO  (None, 1, 1)                 0         ['tf.math.multiply_28[0][0]'] \n",
      " pLambda)                                                                                         \n",
      "                                                                                                  \n",
      " tf.math.reduce_sum_29 (TFO  (None, 1, 1)                 0         ['tf.math.multiply_29[0][0]'] \n",
      " pLambda)                                                                                         \n",
      "                                                                                                  \n",
      " tf.math.truediv_14 (TFOpLa  (None, 37, 1)                0         ['tf.math.multiply_28[0][0]', \n",
      " mbda)                                                               'tf.math.reduce_sum_28[0][0]'\n",
      "                                                                    ]                             \n",
      "                                                                                                  \n",
      " tf.math.truediv_15 (TFOpLa  (None, 37, 1)                0         ['tf.math.multiply_29[0][0]', \n",
      " mbda)                                                               'tf.math.reduce_sum_29[0][0]'\n",
      "                                                                    ]                             \n",
      "                                                                                                  \n",
      " tf.math.multiply_30 (TFOpL  (None, 37, 100)              0         ['embedding_57[0][0]',        \n",
      " ambda)                                                              'tf.math.truediv_14[0][0]']  \n",
      "                                                                                                  \n",
      " tf.math.multiply_31 (TFOpL  (None, 37, 100)              0         ['embedding_57[1][0]',        \n",
      " ambda)                                                              'tf.math.truediv_15[0][0]']  \n",
      "                                                                                                  \n",
      " tf.math.reduce_sum_30 (TFO  (None, 100)                  0         ['tf.math.multiply_30[0][0]'] \n",
      " pLambda)                                                                                         \n",
      "                                                                                                  \n",
      " tf.math.reduce_sum_31 (TFO  (None, 100)                  0         ['tf.math.multiply_31[0][0]'] \n",
      " pLambda)                                                                                         \n",
      "                                                                                                  \n",
      " lambda_72 (Lambda)          (None,)                      0         ['tf.math.reduce_sum_30[0][0]'\n",
      "                                                                    , 'tf.math.reduce_sum_31[0][0]\n",
      "                                                                    ']                            \n",
      "                                                                                                  \n",
      "==================================================================================================\n",
      "Total params: 101633 (397.00 KB)\n",
      "Trainable params: 101633 (397.00 KB)\n",
      "Non-trainable params: 0 (0.00 Byte)\n",
      "__________________________________________________________________________________________________\n"
     ]
    }
   ],
   "source": [
    "import tensorflow as tf\n",
    "\n",
    "def model_2(\n",
    "    input_length: int = 37,\n",
    "    dictionary_size: int = 1000,\n",
    "    embedding_size: int = 100,\n",
    "    learning_rate: float = 0.01,\n",
    "    pretrained_weights: Optional[np.ndarray] = None,\n",
    "    trainable: bool = False,\n",
    "    use_cosine: bool = False,\n",
    "    l2_regularizer: float = 1e-4,\n",
    ") -> tf.keras.Model:\n",
    "    # Inputs\n",
    "    input_1 = tf.keras.Input((input_length,), dtype=tf.int32)\n",
    "    input_2 = tf.keras.Input((input_length,), dtype=tf.int32)\n",
    "\n",
    "    # Embedding Layer\n",
    "    if pretrained_weights is None:\n",
    "        embedding = tf.keras.layers.Embedding(\n",
    "            dictionary_size, embedding_size, input_length=input_length, mask_zero=True, embeddings_initializer='uniform'\n",
    "        )\n",
    "    else:\n",
    "        # Obtener la matriz de embeddings del modelo Word2Vec\n",
    "        word_vectors = pretrained_weights.wv\n",
    "        embedding_matrix = np.zeros((len(word_vectors), embedding_size))\n",
    "        for i in range(len(word_vectors)):\n",
    "            embedding_matrix[i] = word_vectors[word_vectors.index_to_key[i]]\n",
    "            \n",
    "        dictionary_size = embedding_matrix.shape[0]\n",
    "        embedding_size = embedding_matrix.shape[1]\n",
    "        initializer = tf.keras.initializers.Constant(embedding_matrix)\n",
    "        embedding = tf.keras.layers.Embedding(\n",
    "            dictionary_size,\n",
    "            embedding_size,\n",
    "            input_length=input_length,\n",
    "            mask_zero=True,\n",
    "            embeddings_initializer=initializer,\n",
    "            trainable=True,\n",
    "        )\n",
    "\n",
    "    # Embed the inputs\n",
    "    embedded_1 = embedding(input_1)\n",
    "    embedded_2 = embedding(input_2)\n",
    "    # Pass through the embedding layer\n",
    "    _input_mask_1, _input_mask_2 = tf.not_equal(input_1, 0), tf.not_equal(input_2, 0)\n",
    "    \n",
    "    # Attention Mechanism\n",
    "    attention_mlp = tf.keras.Sequential([\n",
    "        tf.keras.layers.Dropout(0.2),\n",
    "        tf.keras.layers.Dense(16, activation='tanh', kernel_regularizer=tf.keras.regularizers.l2(l2_regularizer)),\n",
    "        tf.keras.layers.Dropout(0.2),\n",
    "        tf.keras.layers.Dense(1)\n",
    "    ])\n",
    "    # Apply attention to each embedding\n",
    "    attention_weights_1 = attention_mlp(embedded_1)  \n",
    "    attention_weights_2 = attention_mlp(embedded_2) \n",
    "    # Mask the attention weights\n",
    "    attention_weights_1 = tf.exp(attention_weights_1) * tf.cast(_input_mask_1[:, :, None], tf.float32)\n",
    "    attention_weights_2 = tf.exp(attention_weights_2) * tf.cast(_input_mask_2[:, :, None], tf.float32)\n",
    "    # Normalize attention weights\n",
    "    attention_weights_1 = attention_weights_1 / tf.reduce_sum(attention_weights_1, axis=1, keepdims=True)\n",
    "    attention_weights_2 = attention_weights_2 / tf.reduce_sum(attention_weights_2, axis=1, keepdims=True)\n",
    "    # Compute context vectors\n",
    "    projected_1 = tf.reduce_sum(embedded_1 * attention_weights_1, axis=1) \n",
    "    projected_2 = tf.reduce_sum(embedded_2 * attention_weights_2, axis=1) \n",
    "    \n",
    "    if use_cosine:\n",
    "        # Compute the cosine distance using a Lambda layer\n",
    "        def cosine_distance(x):\n",
    "            x1, x2 = x\n",
    "            x1_normalized = tf.keras.backend.l2_normalize(x1, axis=1)\n",
    "            x2_normalized = tf.keras.backend.l2_normalize(x2, axis=1)\n",
    "            return 2.5 * (1.0 + tf.reduce_sum(x1_normalized * x2_normalized, axis=1))\n",
    "        output = tf.keras.layers.Lambda(cosine_distance)([projected_1, projected_2])\n",
    "    else:\n",
    "         # Compute the cosine distance using a Lambda layer\n",
    "        def normalized_product(x):\n",
    "            x1, x2 = x\n",
    "            x1_normalized = tf.keras.backend.l2_normalize(x1, axis=1)\n",
    "            x2_normalized = tf.keras.backend.l2_normalize(x2, axis=1)\n",
    "            return x1_normalized * x2_normalized\n",
    "    \n",
    "        output = tf.keras.layers.Lambda(normalized_product)([projected_1, projected_2])\n",
    "        output = tf.keras.layers.Dropout(0.1)(output)\n",
    "        output = tf.keras.layers.Dense(\n",
    "            16,\n",
    "            activation=\"relu\",\n",
    "            kernel_regularizer=tf.keras.regularizers.l2(l2_regularizer)\n",
    "        )(output)\n",
    "        output = tf.keras.layers.Dropout(0.2)(output)\n",
    "        output = tf.keras.layers.Dense(\n",
    "            1,\n",
    "            activation=\"sigmoid\",\n",
    "        )(output)\n",
    "        \n",
    "        output = tf.keras.layers.Lambda(lambda x: x * 5)(output)\n",
    "        \n",
    "    # Model Definition\n",
    "    model = tf.keras.Model(inputs=(input_1, input_2), outputs=output)\n",
    "    model.compile(\n",
    "        loss=\"mean_squared_error\", optimizer=tf.keras.optimizers.Adam(learning_rate=learning_rate)\n",
    "    )\n",
    "    return model\n",
    "\n",
    "baseline_model = model_2(use_cosine = True)\n",
    "baseline_model.compile()\n",
    "baseline_model.summary()\n"
   ]
  },
  {
   "cell_type": "markdown",
   "metadata": {},
   "source": [
    "### Resultats"
   ]
  },
  {
   "cell_type": "markdown",
   "metadata": {},
   "source": [
    "#### Word2Vec"
   ]
  },
  {
   "cell_type": "code",
   "execution_count": 75,
   "metadata": {},
   "outputs": [],
   "source": [
    "word2vec_embedding_models = {}\n",
    "for model in models:\n",
    "    word2vec_embedding_models[f\"{model}\"] = model_2(pretrained_weights=models[model], trainable=True, use_cosine=True)"
   ]
  },
  {
   "cell_type": "code",
   "execution_count": null,
   "metadata": {},
   "outputs": [],
   "source": [
    "from sklearn.metrics import mean_squared_error\n",
    "\n",
    "def entrenament_wv(model: gensim.models.word2vec, input_1_test, input_2_test, labels_test, batch_size: int = 64):\n",
    "    \n",
    "    model.fit([input_1_sequences, input_2_sequences], labels, epochs=50, batch_size = batch_size, \n",
    "              validation_data=([input_1_sequences_val, input_2_sequences_val], labels_val), verbose=0)\n",
    "\n",
    "    # Evaluate en el train\n",
    "    mse_word2vec = model.evaluate(train_dataset)\n",
    "    print(f\"MSE del model amb Word2Vec Embeddings en train: {mse_word2vec}\")\n",
    "\n",
    "    # Prediccions del test\n",
    "    prediccions_word2vec = model.predict([input_1_test, input_2_test])\n",
    "\n",
    "    # MSE\n",
    "    mse_word2vec = mean_squared_error(labels_test, prediccions_word2vec)\n",
    "    \n",
    "    print('\\n\\n')\n",
    "    print(f\"MSE del model amb Word2Vec Embeddings en test: {mse_word2vec}\")\n",
    "    print(f\"R^2 del model amb Word2Vec Embeddings en test: {r2_score(labels_test, prediccions_word2vec)}\")\n",
    "    \n",
    "for word2vec_model in word2vec_embedding_models:\n",
    "    model = word2vec_embedding_models[word2vec_model]\n",
    "    print(f\"Entrenament embeddings pel model {word2vec_model}\")\n",
    "    datasets = entrenament_wv(model, input_1_sequences_test, input_2_sequences_test, labels_test, batch_size=64)\n",
    "    \n",
    "    "
   ]
  },
  {
   "cell_type": "markdown",
   "metadata": {},
   "source": [
    "#### Random Init"
   ]
  },
  {
   "cell_type": "code",
   "execution_count": 152,
   "metadata": {},
   "outputs": [
    {
     "name": "stdout",
     "output_type": "stream",
     "text": [
      "Epoch 1/50\n",
      "33/33 [==============================] - 1s 17ms/step - loss: 2.7145 - val_loss: 4.2570\n",
      "Epoch 2/50\n",
      "33/33 [==============================] - 0s 12ms/step - loss: 1.4605 - val_loss: 3.2239\n",
      "Epoch 3/50\n",
      "33/33 [==============================] - 0s 12ms/step - loss: 1.6264 - val_loss: 3.3220\n",
      "Epoch 4/50\n",
      "33/33 [==============================] - 0s 12ms/step - loss: 1.4782 - val_loss: 3.4054\n",
      "Epoch 5/50\n",
      "33/33 [==============================] - 0s 12ms/step - loss: 1.5328 - val_loss: 2.9246\n",
      "Epoch 6/50\n",
      "33/33 [==============================] - 0s 12ms/step - loss: 1.5845 - val_loss: 2.7458\n",
      "Epoch 7/50\n",
      "33/33 [==============================] - 0s 12ms/step - loss: 1.5066 - val_loss: 3.4012\n",
      "Epoch 8/50\n",
      "33/33 [==============================] - 0s 12ms/step - loss: 1.4396 - val_loss: 3.0944\n",
      "Epoch 9/50\n",
      "33/33 [==============================] - 0s 12ms/step - loss: 1.2986 - val_loss: 2.5471\n",
      "Epoch 10/50\n",
      "33/33 [==============================] - 0s 12ms/step - loss: 1.2878 - val_loss: 3.5059\n",
      "Epoch 11/50\n",
      "33/33 [==============================] - 0s 12ms/step - loss: 1.1167 - val_loss: 2.9260\n",
      "Epoch 12/50\n",
      "33/33 [==============================] - 0s 12ms/step - loss: 1.1328 - val_loss: 3.0651\n",
      "Epoch 13/50\n",
      "33/33 [==============================] - 0s 12ms/step - loss: 1.1865 - val_loss: 2.8659\n",
      "Epoch 14/50\n",
      "33/33 [==============================] - 0s 12ms/step - loss: 1.1988 - val_loss: 3.0466\n",
      "Epoch 15/50\n",
      "33/33 [==============================] - 0s 12ms/step - loss: 1.1058 - val_loss: 2.7014\n",
      "Epoch 16/50\n",
      "33/33 [==============================] - 0s 12ms/step - loss: 1.2063 - val_loss: 2.6210\n",
      "Epoch 17/50\n",
      "33/33 [==============================] - 0s 12ms/step - loss: 1.1856 - val_loss: 2.5780\n",
      "Epoch 18/50\n",
      "33/33 [==============================] - 0s 12ms/step - loss: 1.2435 - val_loss: 3.0978\n",
      "Epoch 19/50\n",
      "33/33 [==============================] - 0s 12ms/step - loss: 1.1614 - val_loss: 2.5000\n",
      "Epoch 20/50\n",
      "33/33 [==============================] - 0s 12ms/step - loss: 1.1870 - val_loss: 2.4384\n",
      "Epoch 21/50\n",
      "33/33 [==============================] - 0s 12ms/step - loss: 1.1827 - val_loss: 2.4733\n",
      "Epoch 22/50\n",
      "33/33 [==============================] - 0s 12ms/step - loss: 1.1864 - val_loss: 2.6388\n",
      "Epoch 23/50\n",
      "33/33 [==============================] - 0s 12ms/step - loss: 1.2054 - val_loss: 2.4767\n",
      "Epoch 24/50\n",
      "33/33 [==============================] - 0s 12ms/step - loss: 1.2333 - val_loss: 2.5972\n",
      "Epoch 25/50\n",
      "33/33 [==============================] - 0s 12ms/step - loss: 1.1571 - val_loss: 3.5374\n",
      "Epoch 26/50\n",
      "33/33 [==============================] - 0s 12ms/step - loss: 1.0925 - val_loss: 2.9507\n",
      "Epoch 27/50\n",
      "33/33 [==============================] - 0s 12ms/step - loss: 1.0742 - val_loss: 3.1573\n",
      "Epoch 28/50\n",
      "33/33 [==============================] - 0s 12ms/step - loss: 1.0292 - val_loss: 3.0232\n",
      "Epoch 29/50\n",
      "33/33 [==============================] - 0s 13ms/step - loss: 1.0193 - val_loss: 3.0390\n",
      "Epoch 30/50\n",
      "33/33 [==============================] - 0s 13ms/step - loss: 1.0557 - val_loss: 2.6756\n",
      "Epoch 31/50\n",
      "33/33 [==============================] - 0s 14ms/step - loss: 1.1513 - val_loss: 2.6987\n",
      "Epoch 32/50\n",
      "33/33 [==============================] - 0s 12ms/step - loss: 1.0999 - val_loss: 2.9608\n",
      "Epoch 33/50\n",
      "33/33 [==============================] - 0s 12ms/step - loss: 1.0804 - val_loss: 2.4783\n",
      "Epoch 34/50\n",
      "33/33 [==============================] - 0s 12ms/step - loss: 1.1066 - val_loss: 2.5246\n",
      "Epoch 35/50\n",
      "33/33 [==============================] - 0s 12ms/step - loss: 1.0091 - val_loss: 2.4359\n",
      "Epoch 36/50\n",
      "33/33 [==============================] - 0s 12ms/step - loss: 1.0794 - val_loss: 2.2972\n",
      "Epoch 37/50\n",
      "33/33 [==============================] - 0s 12ms/step - loss: 1.1378 - val_loss: 2.3854\n",
      "Epoch 38/50\n",
      "33/33 [==============================] - 0s 12ms/step - loss: 1.0270 - val_loss: 2.4797\n",
      "Epoch 39/50\n",
      "33/33 [==============================] - 0s 12ms/step - loss: 1.0121 - val_loss: 2.3794\n",
      "Epoch 40/50\n",
      "33/33 [==============================] - 0s 12ms/step - loss: 1.0345 - val_loss: 2.7494\n",
      "Epoch 41/50\n",
      "33/33 [==============================] - 0s 12ms/step - loss: 1.0207 - val_loss: 2.8044\n",
      "Epoch 42/50\n",
      "33/33 [==============================] - 0s 12ms/step - loss: 1.0490 - val_loss: 2.9314\n",
      "Epoch 43/50\n",
      "33/33 [==============================] - 0s 12ms/step - loss: 1.1030 - val_loss: 2.6221\n",
      "Epoch 44/50\n",
      "33/33 [==============================] - 0s 12ms/step - loss: 1.0984 - val_loss: 2.4437\n",
      "Epoch 45/50\n",
      "33/33 [==============================] - 0s 12ms/step - loss: 0.9883 - val_loss: 2.6711\n",
      "Epoch 46/50\n",
      "33/33 [==============================] - 0s 12ms/step - loss: 0.9845 - val_loss: 2.7776\n",
      "Epoch 47/50\n",
      "33/33 [==============================] - 0s 12ms/step - loss: 1.1040 - val_loss: 2.5949\n",
      "Epoch 48/50\n",
      "33/33 [==============================] - 0s 12ms/step - loss: 1.0880 - val_loss: 2.6594\n",
      "Epoch 49/50\n",
      "33/33 [==============================] - 0s 12ms/step - loss: 1.0747 - val_loss: 2.6290\n",
      "Epoch 50/50\n",
      "33/33 [==============================] - 0s 12ms/step - loss: 1.0370 - val_loss: 2.3253\n",
      "33/33 [==============================] - 0s 1ms/step - loss: 0.6473\n",
      "MSE del model amb Word2Vec Embeddings en train: 0.6472876071929932\n",
      "16/16 [==============================] - 0s 1ms/step\n",
      "\n",
      "\n",
      "\n",
      "MSE del model amb Word2Vec Embeddings en test: 1.0034994895027056\n",
      "R^2 del model amb Word2Vec Embeddings en test: -0.32912159287411624\n"
     ]
    }
   ],
   "source": [
    "model_random = model_2(dictionary_size=dictionary_size, use_cosine=True)\n",
    "\n",
    "model_random.fit([input_1_sequences, input_2_sequences], labels, epochs=50, batch_size = batch_size, \n",
    "              validation_data=([input_1_sequences_val, input_2_sequences_val], labels_val), verbose=1)\n",
    "\n",
    "# Evaluate en el train\n",
    "mse_word2vec = model.evaluate(train_dataset)\n",
    "print(f\"MSE del model amb Word2Vec Embeddings en train: {mse_word2vec}\")\n",
    "\n",
    "# Prediccions del test\n",
    "prediccions_word2vec = model.predict([input_1_sequences_test, input_1_sequences_test])\n",
    "\n",
    "# MSE\n",
    "mse_word2vec = mean_squared_error(labels_test, prediccions_word2vec)\n",
    "\n",
    "print('\\n\\n')\n",
    "print(f\"MSE del model amb Word2Vec Embeddings en test: {mse_word2vec}\")\n",
    "print(f\"R^2 del model amb Word2Vec Embeddings en test: {r2_score(labels_test, prediccions_word2vec)}\")"
   ]
  },
  {
   "cell_type": "markdown",
   "metadata": {},
   "source": [
    "##### No fer cas, eren de prova"
   ]
  },
  {
   "cell_type": "code",
   "execution_count": 147,
   "metadata": {},
   "outputs": [
    {
     "name": "stdout",
     "output_type": "stream",
     "text": [
      "16/16 [==============================] - 0s 1ms/step\n",
      "MSE del model amb Word2Vec Embeddings: 2.4131508206357184\n"
     ]
    }
   ],
   "source": [
    "from sklearn.metrics import mean_squared_error\n",
    "\n",
    "# Prediccions del test\n",
    "#prediccions_random = random_embedding_model.predict([input_1_sequences_test, input_2_sequences_test])\n",
    "prediccions_word2vec = word2vec_embedding_model_500MB.predict([input_1_sequences_test, input_2_sequences_test])\n",
    "\n",
    "#mse_random = mean_squared_error(labels_test, prediccions_random)\n",
    "mse_word2vec = mean_squared_error(labels_test, prediccions_word2vec)\n",
    "\n",
    "#print(f\"MSE del model amb Random Embeddings: {mse_random}\")\n",
    "print(f\"MSE del model amb Word2Vec Embeddings: {mse_word2vec}\")\n"
   ]
  },
  {
   "cell_type": "code",
   "execution_count": 148,
   "metadata": {},
   "outputs": [
    {
     "data": {
      "text/plain": [
       "array([4.999885 , 1.7393618, 2.750331 , 5.       , 2.5681524, 4.999999 ,\n",
       "       3.0702164, 4.9999995, 2.3415992, 2.7730963, 1.896494 , 3.0329964,\n",
       "       2.5679665, 4.653741 , 2.3944833, 4.9999995, 2.5236316, 2.845388 ,\n",
       "       2.8190827, 2.9034572, 2.6418688, 3.349651 , 4.117687 , 3.0724585,\n",
       "       2.6471596, 3.0156496, 2.8798194, 4.9999557, 3.015096 , 1.9814997,\n",
       "       5.       , 5.       , 2.6539392, 2.9777339, 2.742988 , 2.7142322,\n",
       "       2.6027849, 2.7393017, 3.1408975, 3.0756533, 2.363377 , 2.9754426,\n",
       "       2.6636517, 2.4833744, 3.7304912, 2.4811869, 4.9999866, 2.7227376,\n",
       "       2.5126076, 3.234881 , 2.9756713, 2.3522158, 2.7948453, 3.1648927,\n",
       "       3.0689857, 2.7158532, 4.9997787, 2.4086769, 2.6344836, 2.5146656,\n",
       "       3.1854515, 2.713694 , 2.4471774, 3.478726 , 4.9999733, 3.1975002,\n",
       "       2.4881747, 2.8979073, 4.9735723, 5.       , 3.9811425, 3.0874743,\n",
       "       3.0045466, 3.6822891, 2.0978813, 3.0567954, 4.314348 , 2.7827997,\n",
       "       4.9958897, 5.       , 5.       , 4.9302998, 3.038112 , 1.9862031,\n",
       "       2.9672287, 2.74434  , 4.999915 , 4.9999995, 5.       , 2.7221875,\n",
       "       4.99915  , 5.       , 5.       , 5.       , 5.       , 4.9999995,\n",
       "       2.6035776, 2.4180152, 4.6276417, 2.5168061, 2.9601889, 2.129494 ,\n",
       "       2.8124118, 4.9999995, 2.8541846, 5.       , 3.300531 , 5.       ,\n",
       "       3.1032434, 1.974262 , 2.8942845, 4.9999995, 4.989919 , 2.7352426,\n",
       "       2.804142 , 2.77851  , 5.       , 5.       , 2.3577394, 3.2223182,\n",
       "       4.956645 , 2.8207257, 5.       , 2.571878 , 2.7291253, 3.001974 ,\n",
       "       1.818759 , 4.985747 , 4.999989 , 5.       , 4.9999995, 2.8049846,\n",
       "       4.999998 , 2.4579268, 5.       , 2.9052348, 4.395596 , 2.7103283,\n",
       "       4.999714 , 5.       , 2.8090663, 4.997963 , 2.7300513, 1.6694081,\n",
       "       4.999853 , 5.       , 4.9999995, 2.714423 , 1.5631248, 3.2315147,\n",
       "       2.9392114, 2.9035375, 2.7009807, 3.011131 , 2.7540336, 2.8253264,\n",
       "       5.       , 3.2300248, 3.401694 , 3.1013536, 5.       , 5.       ,\n",
       "       4.9999995, 4.0176115, 3.174687 , 2.7459643, 2.5293396, 4.6543746,\n",
       "       3.1567612, 3.0184178, 5.       , 2.9953961, 3.078836 , 4.3476553,\n",
       "       2.689266 , 2.3832228, 5.       , 4.992852 , 2.8306952, 2.8948762,\n",
       "       1.2609864, 5.       , 3.1436574, 2.7940452, 2.5002656, 5.       ,\n",
       "       5.       , 4.807101 , 4.9900074, 4.9924684, 3.3768888, 4.97033  ,\n",
       "       5.       , 2.4459786, 5.       , 4.999996 , 5.       , 3.2363224,\n",
       "       1.8892887, 3.2795784, 2.1228335, 4.999999 , 1.7523875, 3.5094187,\n",
       "       2.6240692, 4.9999995, 4.9999995, 5.       , 2.5389125, 2.7981484,\n",
       "       4.9999995, 2.4305038, 5.       , 3.0706763, 4.999999 , 5.       ,\n",
       "       4.9999995, 4.9999995, 3.7501848, 2.3037217, 5.       , 2.9742985,\n",
       "       2.7568688, 4.9999895, 2.9976165, 5.       , 4.9999905, 4.06627  ,\n",
       "       5.       , 2.933978 , 2.38238  , 2.7261398, 4.969712 , 3.4736302,\n",
       "       4.747568 , 5.       , 2.5596642, 2.6816792, 2.8875442, 3.625154 ,\n",
       "       4.9999995, 5.       , 2.2440739, 4.9720225, 2.6062658, 2.8918571,\n",
       "       3.1182458, 1.9557455, 4.9999948, 2.9661348, 2.6300025, 5.       ,\n",
       "       2.93131  , 1.8105223, 3.3036976, 3.4638214, 2.5129843, 5.       ,\n",
       "       3.830648 , 2.563914 , 3.1191425, 3.0254598, 4.9340096, 2.5573316,\n",
       "       4.9999857, 5.       , 5.       , 3.1634736, 5.       , 3.2322154,\n",
       "       5.       , 2.9821281, 2.5552564, 2.2048936, 4.4451528, 3.3802536,\n",
       "       3.1767654, 2.3177283, 3.7782142, 5.       , 2.7372515, 2.4985104,\n",
       "       2.8671408, 3.2695792, 5.       , 4.9999743, 5.       , 2.4815402,\n",
       "       5.       , 4.9999995, 3.7290452, 3.0911713, 5.       , 2.3412504,\n",
       "       3.1656547, 4.9999647, 4.9999995, 2.6587927, 4.998836 , 4.512667 ,\n",
       "       3.019745 , 4.9999995, 5.       , 5.       , 5.       , 3.4573894,\n",
       "       4.9903383, 2.6018853, 4.999312 , 2.7162995, 4.9998293, 4.9996586,\n",
       "       2.6723373, 4.9999995, 2.6875277, 5.       , 5.       , 4.9999995,\n",
       "       4.980021 , 4.999986 , 2.9749765, 4.759168 , 2.8191888, 2.1498394,\n",
       "       2.7087607, 1.9943625, 4.997444 , 2.7388039, 4.9999995, 2.8269892,\n",
       "       2.9582236, 4.99998  , 2.6782627, 2.7390587, 5.       , 2.289513 ,\n",
       "       2.4129963, 2.641058 , 2.098889 , 2.5694685, 2.3486593, 4.9999995,\n",
       "       2.445145 , 4.9999995, 2.8058686, 4.0688143, 2.401425 , 5.       ,\n",
       "       2.1343806, 3.977108 , 4.9899964, 4.3677025, 5.       , 2.7492628,\n",
       "       2.6948519, 3.3194494, 4.9999833, 4.9999995, 3.3011918, 4.9999995,\n",
       "       5.       , 2.012522 , 2.965399 , 2.9498982, 4.9999995, 2.5633173,\n",
       "       5.       , 2.5484073, 2.9492178, 4.998266 , 2.8355863, 2.7382996,\n",
       "       4.537429 , 2.328021 , 4.999916 , 4.9994354, 4.984639 , 4.999987 ,\n",
       "       5.       , 3.6202474, 3.9555488, 2.056463 , 3.1197858, 3.0054524,\n",
       "       2.9699893, 2.6875832, 2.7452767, 2.495841 , 2.5939643, 2.4591193,\n",
       "       4.957401 , 3.173993 , 5.       , 5.       , 3.2111964, 2.8256676,\n",
       "       2.6705885, 4.9998775, 3.167408 , 2.9340353, 4.9017315, 3.0136468,\n",
       "       5.       , 3.4801624, 3.4419975, 4.9901967, 2.8322628, 2.9593887,\n",
       "       2.6509285, 2.4910712, 4.396988 , 3.8242362, 2.231076 , 2.3439167,\n",
       "       2.7007961, 2.9947307, 2.417166 , 2.3030589, 4.9999866, 2.3407998,\n",
       "       4.0961466, 3.1872673, 5.       , 2.8604908, 4.256149 , 4.9999423,\n",
       "       2.488503 , 5.       , 2.7799976, 4.9585934, 3.0518875, 2.706249 ,\n",
       "       4.9999995, 5.       , 2.8566008, 2.7908244, 4.130383 , 5.       ,\n",
       "       2.7398703, 2.9603276, 4.999978 , 4.9999833, 2.3141048, 2.3312984,\n",
       "       3.2889078, 4.999014 , 4.30898  , 2.8984008, 2.8111005, 4.9999995,\n",
       "       2.7319717, 3.1702518, 4.9999924, 3.2745118, 2.5279057, 3.0360148,\n",
       "       2.7656004, 2.209739 , 2.9349444, 1.8338008, 2.266297 , 2.239404 ,\n",
       "       5.       , 2.8751888, 2.8981879, 3.863363 , 3.377882 , 2.6691582,\n",
       "       4.9948554, 5.       , 5.       , 5.       , 3.5289469, 4.999926 ,\n",
       "       2.140912 , 4.9999943, 2.9603174, 4.9999995, 4.9998183, 2.4710784,\n",
       "       5.       , 3.000538 , 4.9999866, 4.999999 , 2.7092376, 4.999723 ,\n",
       "       4.9999776, 3.0697083, 5.       , 5.       , 5.       , 5.       ,\n",
       "       4.9845905, 4.999998 , 3.0263498, 3.4381258, 2.4714367, 2.5893788,\n",
       "       2.3859556, 5.       ], dtype=float32)"
      ]
     },
     "execution_count": 148,
     "metadata": {},
     "output_type": "execute_result"
    }
   ],
   "source": [
    "prediccions_word2vec"
   ]
  },
  {
   "cell_type": "code",
   "execution_count": 149,
   "metadata": {},
   "outputs": [
    {
     "name": "stdout",
     "output_type": "stream",
     "text": [
      "R² del model amb Word2Vec Embeddings: -2.196185843759893\n"
     ]
    }
   ],
   "source": [
    "from sklearn.metrics import r2_score\n",
    "\n",
    "# R²\n",
    "#r2_random = r2_score(labels_test, prediccions_random)\n",
    "r2_word2vec = r2_score(labels_test, prediccions_word2vec)\n",
    "\n",
    "#print(f\"R² del model amb Random Embeddings: {r2_random}\")\n",
    "print(f\"R² del model amb Word2Vec Embeddings: {r2_word2vec}\")\n"
   ]
  },
  {
   "cell_type": "code",
   "execution_count": 91,
   "metadata": {},
   "outputs": [
    {
     "data": {
      "image/png": "[encoded data removed]",
      "text/plain": [
       "<Figure size 1200x600 with 2 Axes>"
      ]
     },
     "metadata": {},
     "output_type": "display_data"
    }
   ],
   "source": [
    "import matplotlib.pyplot as plt\n",
    "\n",
    "plt.figure(figsize=(12, 6))\n",
    "\n",
    "# Random Embeddings\n",
    "plt.subplot(1, 2, 1)\n",
    "plt.scatter(labels_test, prediccions_random, alpha=0.5)\n",
    "plt.plot([min(labels), max(labels)], [min(labels), max(labels)], 'r')\n",
    "plt.xlabel('Real Similarity')\n",
    "plt.ylabel('Predicted Similarity')\n",
    "plt.title('Random Embeddings')\n",
    "\n",
    "# Word2Vec Embeddings\n",
    "plt.subplot(1, 2, 2)\n",
    "plt.scatter(labels_test, prediccions_word2vec, alpha=0.5)\n",
    "plt.plot([min(labels), max(labels)], [min(labels), max(labels)], 'r')\n",
    "plt.xlabel('Real Similarity')\n",
    "plt.ylabel('Predicted Similarity')\n",
    "plt.title('Word2Vec Embeddings')\n",
    "\n",
    "plt.tight_layout()\n",
    "plt.show()\n"
   ]
  }
 ],
 "metadata": {
  "kernelspec": {
   "display_name": "Python 3",
   "language": "python",
   "name": "python3"
  },
  "language_info": {
   "codemirror_mode": {
    "name": "ipython",
    "version": 3
   },
   "file_extension": ".py",
   "mimetype": "text/x-python",
   "name": "python",
   "nbconvert_exporter": "python",
   "pygments_lexer": "ipython3",
   "version": "3.11.9"
  }
 },
 "nbformat": 4,
 "nbformat_minor": 2
}
