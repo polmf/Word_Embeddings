{
 "cells": [
  {
   "cell_type": "markdown",
   "metadata": {},
   "source": [
    "# Pràctica 4"
   ]
  },
  {
   "cell_type": "code",
   "execution_count": 43,
   "metadata": {},
   "outputs": [
    {
     "name": "stderr",
     "output_type": "stream",
     "text": [
      "C:\\Users\\USER\\AppData\\Local\\Packages\\PythonSoftwareFoundation.Python.3.11_qbz5n2kfra8p0\\LocalCache\\local-packages\\Python311\\site-packages\\datasets\\load.py:1486: FutureWarning: The repository for projecte-aina/catalan_general_crawling contains custom code which must be executed to correctly load the dataset. You can inspect the repository content at https://hf.co/datasets/projecte-aina/catalan_general_crawling\n",
      "You can avoid this message in future by passing the argument `trust_remote_code=True`.\n",
      "Passing `trust_remote_code=True` will be mandatory to load this dataset from the next major release of `datasets`.\n",
      "  warnings.warn(\n"
     ]
    }
   ],
   "source": [
    "from datasets import load_dataset\n",
    "\n",
    "dataset = load_dataset(\"projecte-aina/catalan_general_crawling\")"
   ]
  },
  {
   "cell_type": "code",
   "execution_count": 44,
   "metadata": {},
   "outputs": [
    {
     "name": "stdout",
     "output_type": "stream",
     "text": [
      "{'text': 'Reduïu els costos dels processos administratius al vostre organisme públic\\nEviteu els desplaçaments i pèrdua de temps als ciutadans en les seves gestions\\nOferiu una administració més transparent a ciutadans i empreses\\nEns grans i petits experimenten aquesta transformació amb èxit, gràcies al suport de l\\'AOC\\nDepartament de Sistemes d\\'Informació i Processos\\n\" Via Oberta ens ha permès fer efectiu el dret dels ciutadans a no aportar documents, eliminant paper i simplificant procediments\"\\n\" e.FACT proporciona informació indispensable per a la realització de les auditories del registre comptable de factures de les Administracions Públiques Catalanes\"\\nCoordinador del departament d\\'Informàtica\\n\"El servei VIA OBERTA és el que ha aportat majors avantatges per als ciutadans\"\\n\"Amb l\\' e-NOTUM hem escurçat els procediments en 12 dies, quasi un 40% menys!\"\\nCoordinadora d\\'organització de persones i e-administració\\n\" Via Oberta ofereix millores per als ciutadans al no haver d\\'aportar cap document\"\\nResponsable d\\'Informàtica i Administració Electrònica\\n\" e-TRAM ens ha permès implantar un servei de tramitació electrònica per als ciutadans de forma ràpida, senzilla i amb un cost reduït\"\\n\"Els municipis amb pocs habitants trobem en els serveis de l\\'AOC la gratuïtat i la comoditat necessàries per dur a terme el nostre dia a dia\"\\n\"Les T-CAT han permès incorporar de forma segura la signatura electrònica dins dels nostres procediments afavorint la transformació digital de la nostra activitat\"\\nCap de Departament de Sistemes i Tecnologies de la Informació\\n\"Amb el desplegament de l\\' idCAT hem apropat l\\'Ajuntament a la ciutadania\"\\n\"Mitjançant els serveis de Govern Obert de l\\'AOC hem pogut fer fàcil el que sembla difícil\"\\n\"Al tauler electrònic pots penjar fins i tot el projecte sencer i al final et permet fer també la diligència\"\\nÀrea de Promoció Econòmica, Administració i Hisenda\\n\"El Sobre Digital i la PSCP han aconseguit una comunió senzilla entre empreses i administració per universalitzar la compra pública electrònica\"\\n\"L\\' e-SET és la implantació d\\'un nou sistema de treball que facilita la feina del dia a dia\"\\nCap del servei de contractació i compres\\n\"El Sobre Digital, una experiència imprescindible per a la bona administració amb estalvi de recursos i millora de la seguretat jurídica i la transparència\"\\nÀrea d\\'Organització i Administració Electrònica\\n\"El desplegament de la valisa electrònica ha estat clau en el procés de transformació digital dels nostres procediments interns\"\\n\"L\\' Hèstia permet el treball en temps real i des de qualsevol lloc, així com sistematitzar la pràctica professional, recollir la informació ordenadament i amb el mateix llenguatge\"\\nConsulta els materials del Congrés de Govern Digital 2019\\nGoverns transparents, fluids, dinàmics, líquids... un bon lema pel principal objectiu de la governança del segle XXI: democratitzar-ho tot.\\nConfluències, rius, cooperació.\\nCatalunya, Mediterrània, mar de drets.\\nA favor: totes les Administracions movent-se per posar-se al dia i millorar, tot aprofitant la revolució digital.\\nEn contra: quants cops estem reinventant la roda i quantes quantes oportunitats perdudes de fer-ho una única vegada i de forma coordinada i col·laborativa?\\n\"La transparència és una oportunitat.\\nHem de perdre tota por a explicar què fem\": la conclusió de la taula d\\'alcaldies de la Jornada de Govern Obert pic.twitter.com/ERbgLSIXZM\\nEl director general de Participació Ciutadana ens convida a transformar les administracions públiques a partir de la participació ciutadana\\nEns cal que allò que preocupa i ocupa els governants formi part d\\'allò en què participa la ciutadania pic.twitter.com/NwQr4EZSCS: \"A moltes institucions encara els sona xinés això de les dades obertes i la transparència.\\nDe que serveix que hi hagi un portal, si llavors no hi ha dades?\\nLlavors l\\'accés a la informació pels periodistes és molt parcial\".\\nOferim eines que, conjuntament amb la metodologia i el suport necessari, fan possible l\\'assoliment d\\'un govern digital\\nPosem al vostre abast tot el coneixement: formació, guies, normatives, etc.\\nTenim eines per gestionar àgilment part del procés administratiu del vostre ens\\nEl nostre equip farà tot el possible per resoldre les vostres incidències\\nSabem que es tracta d\\'una decisió molt important per al vostre ens i és per això que us ho volem posar fàcil.\\nLa selecció de l\\'actualitat d\\'Administració Oberta a la vostra safata.'}\n",
      "\n",
      "{'text': 'En compliment de la Directiva 2009/136/CE, desenvolupada en el nostre ordenament per l\\'article 22.2 de la Llei de Serveis de Societat de la Informació (LSSI) i seguint les instruccions de l\\'Agència Espanyola de Protecció de Dades, procedim a informar-li detalladament de l\\'ús que es realitza a la nostra pàgina web.\\nAquesta informació no revela la seva identitat, però sí que permet la seva identificació com a un usuari concret i pot guardar informació relativa a la freqüència amb la que visita la pàgina web, les seves preferències de navegació o aquella informació que més l\\'interessa.\\nEl que ens permet, cada vegada que accedeix a www.aoc.cat, millorar la qualitat i la usabilitat de la nostra pàgina web.\\nNo obstant, si les desactiva, pot ser que la seva navegació per www.aoc.cat no sigui òptima i algunes de les seves utilitats no funcionin correctament.\\nCookies analítiques: galetes de Google Analytics\\nAquesta pàgina web utilitza Google Analytics, un servei analític del web prestat per Google.\\nInc, una companyia de Delaware l\\'oficina principal de la qual es troba a 1600 Amphitheatre Parkway, Mountain View (Califòrnia), CA 94043, Estats Units (\" Google\").\\nLa informació que genera la cookie sobre l\\'ús del lloc web (incloent l\\'adreça IP) serà directament transmesa i arxivada per Google en els seus servidors d\\'Estats Units.\\nGoogle utilitzarà aquesta informació per compte nostre amb el propòsit de seguir la pista del seu ús del lloc web.\\nGoogle podrà transmetre aquesta informació a tercers quan així ho requereixi la legislació, o quan aquests tercers processin la informació per compte de Google.\\nEn aquests casos, Google no associarà la seva adreça IP amb cap altra dada de què disposi.\\nEn utilitzar aquesta pàgina web consent el tractament de la seva informació per Google en la forma i per als fins anteriorment indicats.\\nL\\'exercici de qualsevol dret s\\'haurà de realitzar mitjançant comunicació directa amb Google.\\nPer optar per no ser rastrejats per Google Analytics a través de tots els llocs web podeu consultar http://tools.google.com/dlpage/gaoptout\\nAixí mateix, també registra quan va ser la primera i l\\'última vegada que l\\'usuari va visitar el web www.aoc.cat.\\nGaletes en altres llocs web del Consorci AOC\\nLes seves finalitats són descrites a la pàgina de privacitat de Twitter.\\nConfiguració de l\\'usuari per evitar Cookies\\nÉs cas de dubte pot dirigir-se al webmaster del domini creador de la cookie.\\nLa selecció de l\\'actualitat d\\'Administració Oberta a la vostra safata.'}\n",
      "\n",
      "{'text': 'L\\'ús de la informació continguda en aquest lloc web implica l\\'acceptació i el consentiment en els termes i les condicions que es detallen en aquest avís legal.\\nTitularitat i règim de responsabilitat de la pàgina web\\nEl responsable d\\'aquesta pàgina web és el Consorci Administració Oberta de Catalunya, (Consorci AOC), amb NIF Q0801175A, i ubicat al Carrer de Tànger, núm. 98, (planta baixa) 08018 (tel. 93 272 25 00 i fax.\\nTota persona que accedeixi a aquest lloc web assumeix el paper d\\'usuari, comprometent-se a l\\'observança i compliment rigorós de les disposicions aquí disposades, així com a qualsevol altre disposició legal que li sigui d\\'aplicació.\\nEl Consorci AOC té el dret a modificar la informació que apareix en aquesta pàgina web, sense que existeixi la obligació de preavís o posada en coneixement dels usuaris de les noves obligacions -a excepció dels compromisos assumits en virtut de convenis específics – entenent-se com a suficient la seva publicació en el lloc web.\\nLes informacions i els continguts relacionats amb l\\'actuació i les funcions del Consorci AOC, que s\\'inclouen en aquest web, estan subjectes a les previsions següents:\\nResponsabilitat amb relació als continguts\\nEl Consorci AOC treballa perquè les informacions, els continguts i els serveis oferts o difosos en aquest web acompleixin de manera suficient la necessària integritat, veracitat, actualització, accessibilitat i usabilitat.\\nA aquest efecte, cal tenir en compte la data d\\'actualització de cadascun dels continguts que en cada cas s\\'indiqui.\\nLa pàgina web ofereix informació, consells, guies i d\\'altres continguts preparats pel Consorci AOC amb finalitats de difusió, informació, conscienciació i en determinats casos la prestació de serveis específics d\\'administració electrònica.\\nS\\'informa a l\\'usuari que tots aquests continguts, malgrat estar preparats amb el màxim nivell de qualitat possibles, no poden suposar en cap moment assessorament específic en matèria tecnològica i/o jurídica o ser considerats com a actuacions dirigides a la resolució de problemàtiques específiques.\\nEn qualsevol cas, el Consorci AOC es reserva el dret a modificar-los, suprimir-los, desenvolupar-los o actualitzar-los unilateralment sense notificació prèvia i sense assumir cap responsabilitat.\\nEl Consorci AOC ofereix la traducció automàtica en altres llengües diferents del català dels continguts del seu web per tal de facilitar als ciutadans la comprensió del text en el seu propi idioma.\\nMalgrat tot, els articles traduïts automàticament poden contenir errors materials dels quals el Consorci AOC no se\\'n fa responsable.\\nEn l\\'actualitat, el Consorci AOC només garanteix la veracitat dels continguts en llengua catalana.\\nReferències i enllaços a webs d\\'altres organitzacions\\nEl web del Consorci AOC conté referències o enllaços a webs de tercers (\"links\"), la major part d\\'elles són a pàgines d\\'Internet d\\'altres administracions públiques, que s\\'han considerat d\\'interès pels usuaris.\\nEn el cas que s\\'abandoni el web, el Consorci AOC no assumeix cap responsabilitat derivada de la connexió o dels contingut dels enllaços de tercers.\\nTot i això, es revisen periòdicament els enllaços a altres pàgines per tal d\\'evitar la inclusió d\\'enllaços que no compleixen la normativa de protecció de dades, així com la resta de normativa vigent.\\nEn aquest sentit, el Consorci manifesta que si es detecta qualsevol contingut que pugui contravenir la legislació nacional o internacional, o l\\'ordre públic, es procedirà a la retirada immediata de l\\'enllaç, posant-ho en coneixement de les autoritat competents.\\nEl Consorci AOC no es fa responsable de la informació i continguts emmagatzemats, a títol enunciatiu però no limitatiu, en els fòrums, blocs, comentaris en xarxes socials, o qualsevol altre mitjà del Consorci AOC que permeti a tercers publicar continguts de forma independent.\\nNo obstant, en compliment de l\\'article 11 i 16 de la LSSICE, es posa a disposició de tots els usuaris, autoritats i forces de seguretat, per col·laborar de forma activa en la retirada o, en el seu cas, bloqueig de tots aquells continguts que poguessin afectar o contravenir la legislació nacional, o internacional, drets de tercers o la moral i l\\'ordre públic.\\nEn el cas que qualsevol usuari consideri que existeix en el lloc web algun contingut que pugui ser susceptible de l\\'anterior classificació, es sol·licita que ho comuniqui de forma immediata a l\\'administrador del la pàgina web per mitjà del correu electrònic [EMAIL]\\nReproducció de continguts propis\\nEl Consorci AOC facilita la consulta lliure i gratuïta de la informació continguda en el web i autoritza la reproducció total o parcial dels seus continguts, sempre i quan els continguts esmentats es conservin íntegres, es citi la font i la data en la que s\\'ha realitzat la còpia, no es manipulin, ni alterin els continguts i no s\\'utilitzi directament amb finalitats comercials (Llei 37/2007, de 16 de novembre, sobre la reutilització de la informació del sector públic).\\nEl Consorci AOC autoritza la descarrega gratuïta dels manuals, impresos, programes i publicacions informatives que s\\'inclouen en el seu web, a efectes de la seva reproducció i distribució, llevat que s\\'indiqui el contrari de forma expressa.\\nNo obstant això, en determinats supòsits el Consorci AOC pot indicar de manera explícita que és necessari sol·licitar una autorització expressa.\\nAixí mateix, la reutilització es pot limitar per la tutela d\\'altres béns jurídics prioritaris, com ara la protecció de les dades personals, la intimitat o els drets de protecció intel·lectual de tercers.\\nEl domini d\\'aquest web és titularitat del Consorci AOC, així com els drets de propietat intel·lectual, el seu disseny i els codis que conté, llevat que s\\'indiqui una titularitat diferent.\\nNo s\\'autoritza en cap cas, l\\'ús de marques o signes distintius, logotips i en general símbols distintius de qualsevol naturalesa propietat del Consorci AOC, en publicacions i webs que no siguin d\\'ens participats o patrocinats per aquest Consorci, sense el coneixement i l\\'autorització corresponent del Consorci AOC.\\nEl Consorci AOC no assumirà cap responsabilitat derivada de l\\'ús per part de tercers del contingut d\\'aquesta pàgina Web i podrà exercitar totes les accions civils o penals que li corresponguin en cas d\\'infracció d\\'aquests drets per part de l\\'usuari.\\nAquesta informació es troba continguda a la Política de Cookies del Consorci AOC.\\nDret aplicable i jurisdicció competent\\nLa llei aplicable en cas de disputa o conflicte d\\'interpretació dels termes que conforme aquest Avís legal, així com qualsevol aspecte relacionat amb els serveis d\\'aquest web, serà la legislació espanyola.\\nEls possibles conflictes relatius a aquest web es regiran exclusivament pel dret espanyol, essent els jutjats de Barcelona els únics competents.\\nTota persona usuària del web, independentment de la jurisdicció territorial des de la qual es produeixi el seu accés, accepta el compliment i respecte d\\'aquesta clàusula amb renúncia expressa a qualsevol altre fur que li pogués correspondre.\\nSi alguna part o clàusula d\\'aquestes Condicions fos declarada nul·la o deixada sense efecte per una resolució judicial, les restants estipulacions conservaran la seva validesa.\\nLa selecció de l\\'actualitat d\\'Administració Oberta a la vostra safata.'}\n",
      "\n",
      "{'text': \"Els Reconeixements Administració Oberta als ajuntaments i consells comarcals que atorga anualment l'AOC han esdevingut el reconeixement públic de tots aquells ens que destaquen en la transformació digital de la seva relació amb la ciutadania i en la seva gestió interna.\\nEls guardons s'atorguen en base a uns indicadors objectius, l'anàlisi dels webs dels ens i l'ús de determinats serveis del Consorci AOC.\\nEl seu objectiu és valorar i reconèixer la implantació i l'ús dels serveis d'administració electrònica i, tal i com s'ha indicat anteriorment, la seva conseqüent transformació digital en seva relació amb la ciutadania i en la seva gestió interna.\\nEls Reconeixements Administració Oberta tenen set categories d'acord amb el nombre d'habitants dels ens i la seva naturalesa:\\nDescripció del mètode d'avaluació dels Reconeixements Administració Oberta\\nLlistat de guardonats a l'edició del 2018: ajuntaments i consells comarcals capdavanters en administració digital\\nSegells Reconeixements Administració Oberta 2018\\nLa selecció de l'actualitat d'Administració Oberta a la vostra safata.\"}\n",
      "\n",
      "{'text': \"En el marc del desenvolupament de l'Administració electrònica, des de l'AOC copsem l'estat de l'administració pel que fa als instruments municipals d'Administració electrònica i, més específicament, al reconeixement efectiu dels drets dels ciutadans arrel de la normativa que regula l'ús dels mitjans electrònics, la transparència, l'accés a la informació pública i el bon govern.\\nAmb aquest objectiu, periòdicament duem a terme una revisió de l'estat de l'e-Administració als 947 ajuntaments de Catalunya 1 i publiquem les dades en un informe.\\nAixí mateix, els resultats de l'anàlisi es plasmen en un mapa de Catalunya interactiu.\\nAl mapa municipal català podeu accedir a la informació relacionada amb els 947 municipis catalans:\\nLa informació que mostren els mapes és la més recent.\\nSi voleu conèixer les dades dels estudis anteriors podeu accedir als informes sobre administració.\\nTambé podeu consultar les dades dels 42 consells comarcals al mapa d'e-administració per comarques.\\nEls informes sobre e-Administració són el resultat d'un estudi dut a terme pel personal del Gabinet Tècnic de l'AOC en un període de temps concret i en base a:\\nA continuació detallem els paràmetres analitzats a l'estudi, agrupats en sis blocs\\nSi l'ajuntament ha aprovat normativa en matèria d'administració electrònica\\nSi l'ajuntament ha aprovat alguna norma específica per regular l'ús dels mitjans electrònics en la seva administració (ordenança reguladora d'administració electrònica, registre electrònic i seu electrònica).\\nEl resultat d'aquesta anàlisi es contrasta amb el personal tècnic dels consells comarcals, d'acord amb el conveni de col·laboració que hi ha entre els consells i el Consorci AOC.\\n1 En els tres primers informes de 2010, es van recollir dades de 946 ajuntaments, ja que La Canonja encara no era legalment municipi independent.\\nTambé es va analitzar en el seu moment el municipi de Medinyà fins a la seva forçosa desaparició el febrer de 2018.\\nEvolució de les dades dels informes sobre l'e-Administració (desembre 2017) (977 kB)\\nNOTA: les dades recollides en aquests informes es publiquen ara en format de dades obertes a indicadors públics d'activitat\\nLa selecció de l'actualitat d'Administració Oberta a la vostra safata.\"}\n",
      "\n",
      "{'text': \"Cursos de lliure accès per a que els comenceu quan vulgueu i els feu al vostre ritme.\\nCursos amb data d'inici planificada i seguiment per part del tutor\\nUna pinzellada de les principals característiques de cada servei.\\nEs pot completar en uns minuts i us permetrà començar amb bon peu.\\nCreació del preu públic del servei de formació (aprovada a la Comissió Executiva del Consorci AOC de 17 de desembre de 2014):\\nLa selecció de l'actualitat d'Administració Oberta a la vostra safata.\"}\n",
      "\n",
      "{'text': 'En aquest document trobareu la darrera versió de les condicions generals de prestació dels Serveis AOC amb la seva data d\\'aprovació per part de la Comissió Executiva del Consorci AOC.\\nTambé trobareu el document immediatament anterior a aquesta versió:\\nCondicions de prestació específiques\\nHi ha serveis que, donades les seves particularitats, disposen addicionalment d\\'unes condicions específiques de prestació.\\nEn cas de dubte o discrepàncies entre l\\'acord específic i el general, les condicions específiques són les que prevalen sobre les genèriques.\\nEn aquests documents trobareu la darrera versió de les condicions específiques amb la seva data d\\'aprovació per part de la Comissió Executiva del Consorci AOC.\\nEn cas d\\'haver-se modificat, també trobareu la versió del document immediatament anterior a l\\'actual:\\nSignatura electrònica i seguretat\\nSi sou usuaris d\\'un dels serveis del Consorci AOC i voleu comunicar-nos la vostra sol·licitud de baixa, feu-ho a través del tràmit de \"Sol·licitud de baixa de servei\" del servei \"Baixa de servei\" que trobareu a l\\'apartat \"Tràmits\", prestador \"Consorci AOC\"\\nAdreceu-vos al Centre d\\'Atenció a l\\'Usuari (CAU) del Consorci AOC.\\nPreus públics del servei de certificació (SCD):\\nLa selecció de l\\'actualitat d\\'Administració Oberta a la vostra safata.'}\n",
      "\n",
      "{'text': \"A continuació podeu accedir als convenis de col·laboració vigents subscrits pel Consorci Administració Oberta de Catalunya:\\nLa selecció de l'actualitat d'Administració Oberta a la vostra safata.\"}\n",
      "\n",
      "{'text': \"La informació sobre els processos de selecció de l'AOC es troba a la seu electrònica.\\nLa selecció de l'actualitat d'Administració Oberta a la vostra safata.\"}\n",
      "\n",
      "{'text': \"El Consorci Administració Oberta de Catalunya (Consorci AOC) té la seva gènesi en el Pacte per a la promoció i el desenvolupament de la Societat de la Informació a les administracions públiques catalanes (42,56 kB), signat al Parlament de Catalunya el 23 de juliol de 2001, entre els presidents de tots els grups parlamentaris, el Govern de la Generalitat de Catalunya i els governs locals representats per Localret.\\nLa missió de l'AOC és impulsar la transformació digital de les administracions catalanes, per promoure governs àgils, lògics i col·laboratius.\\nI la nostra visió es aconseguir que les persones gaudeixen de serveis públics de qualitat i visquin en una societat oberta.\\nSegons la Llei 29/2010, de 3 d'agost, de l'ús dels mitjans electrònics al sector públic de Catalunya, els objectius estratègics del Consorci AOC són, fonamentalment, col·laborar amb l'Administració de la Generalitat, els ens locals i, si s'escau, altres organismes públics, per:\\na) Promoure la interoperabilitat dels sistemes d'informació catalans amb la resta d'administracions.\\nb) Crear i prestar serveis comuns d'administració electrònica.\\nc) Reutilitzar les aplicacions i els serveis d'administració electrònica que es desenvolupin.\\nd) Garantir la identitat i acreditar la voluntat en les actuacions dels ciutadans i el personal del sector públic, així\\xad com la confidencialitat i el no-rebuig en les comunicacions electròniques.\\nMitjançant el Consorci AOC, també es desenvolupen i executen mesures de cooperació i foment de l'Administració de la Generalitat amb els ens locals en matèria d'ús dels mitjans electrònics.\\nEl Consorci AOC treballa amb una clara vocació de servei a les administracions públiques i la voluntat d'anticipar-se de les necessitats futures que ja es preveuen en l'actual marc normatiu o que demanda la ciutadania.\\nConcretament treballem en les següents línies d'actuació estratègiques:\\n1.- Serveis de col·laboració administrativa, amb l'objectiu de potenciar l'intercanvi d'informació per mitjans telemàtics entre les administracions públiques per millorar la seva eficiència i eficàcia, és a dir, de promoure la interoperabilitat dels sistemes d'informació de les administracions públiques catalanes.\\nI això es fa desenvolupant i prestant:\\n2.- Serveis comuns d'Administració electrònica, per tal de proporcionar suport als projectes d'ús intensiu de les tecnologies de la informació i les comunicacions que impulsin les institucions catalanes, potenciant la reusabilitat i la reutilització de les solucions d'Administració electrònica.\\nAmb aquests serveis el Consorci contribueix a:\\nEls serveis comuns d'Administració electrònica en els que treballa el Consorci es classifiquen en:\\n3.- Serveis d'identitat i signatura electrònica, adreçats als empleats públics i carrecs electes, i també a la ciutadania de Catalunya.\\nEl Consorci exerceix també funcions de divulgació, formació i assessorament, això com quan correspon, suport financer a les entitats locals en el desenvolupament dels seus projectes i iniciatives d'Administració electrònica.\\nEstatuts Consorci Administració Oberta de Catalunya\\nLa selecció de l'actualitat d'Administració Oberta a la vostra safata.\"}\n",
      "\n"
     ]
    }
   ],
   "source": [
    "dataset = dataset['train']\n",
    "\n",
    "# i want to see the first 10 examples\n",
    "for i in range(10):\n",
    "    print(dataset[i])\n",
    "    print()"
   ]
  },
  {
   "cell_type": "markdown",
   "metadata": {},
   "source": [
    "Obtenim diferents mides de datasets"
   ]
  },
  {
   "cell_type": "code",
   "execution_count": 45,
   "metadata": {},
   "outputs": [
    {
     "name": "stdout",
     "output_type": "stream",
     "text": [
      "57333\n",
      "369003\n",
      "738007\n"
     ]
    }
   ],
   "source": [
    "# i want to get the first 100 MB of the dataset\n",
    "size = 0\n",
    "for i in range(len(dataset)):\n",
    "    size += len(dataset[i]['text'])\n",
    "    if size > 100000000:\n",
    "        print(i)\n",
    "        break\n",
    "\n",
    "dataset_100MB = dataset.select(list(range(i)))\n",
    "\n",
    "\n",
    "# i want to get the first 500 MB of the dataset\n",
    "size = 0\n",
    "for j in range(len(dataset)):\n",
    "    size += len(dataset[i]['text'])\n",
    "    if size > 500000000:\n",
    "        print(j)\n",
    "        break\n",
    "\n",
    "dataset_500MB = dataset.select(list(range(j)))\n",
    "\n",
    "\n",
    "# i want to get the first 1 GB of the dataset\n",
    "size = 0\n",
    "for g in range(len(dataset)):\n",
    "    size += len(dataset[i]['text'])\n",
    "    if size > 1000000000:\n",
    "        print(g)\n",
    "        break\n",
    "\n",
    "dataset_1GB = dataset.select(list(range(g)))"
   ]
  },
  {
   "cell_type": "markdown",
   "metadata": {},
   "source": [
    "## Preprocessament"
   ]
  },
  {
   "cell_type": "code",
   "execution_count": 46,
   "metadata": {},
   "outputs": [
    {
     "name": "stdout",
     "output_type": "stream",
     "text": [
      "[['reduïu', 'els', 'costos', 'dels', 'processos', 'administratius', 'al', 'vostre', 'organisme', 'públic', 'eviteu', 'els', 'desplaçaments', 'i', 'pèrdua', 'de', 'temps', 'als', 'ciutadans', 'en', 'les', 'seves', 'gestions', 'oferiu', 'una', 'administració', 'més', 'transparent', 'a', 'ciutadans', 'i', 'empreses', 'ens', 'grans', 'i', 'petits', 'experimenten', 'aquesta', 'transformació', 'amb', 'èxit', 'gràcies', 'al', 'suport', 'de', 'l', 'aoc', 'departament', 'de', 'sistemes', 'd', 'informació', 'i', 'processos', 'via', 'oberta', 'ens', 'ha', 'permès', 'fer', 'efectiu', 'el', 'dret', 'dels', 'ciutadans', 'a', 'no', 'aportar', 'documents', 'eliminant', 'paper', 'i', 'simplificant', 'procediments', 'e', 'fact', 'proporciona', 'informació', 'indispensable', 'per', 'a', 'la', 'realització', 'de', 'les', 'auditories', 'del', 'registre', 'comptable', 'de', 'factures', 'de', 'les', 'administracions', 'públiques', 'catalanes', 'coordinador', 'del', 'departament', 'd', 'informàtica', 'el', 'servei', 'via', 'oberta', 'és', 'el', 'que', 'ha', 'aportat', 'majors', 'avantatges', 'per', 'als', 'ciutadans', 'amb', 'l', 'e', 'notum', 'hem', 'escurçat', 'els', 'procediments', 'en', '12', 'dies', 'quasi', 'un', '40', 'menys', 'coordinadora', 'd', 'organització', 'de', 'persones', 'i', 'e', 'administració', 'via', 'oberta', 'ofereix', 'millores', 'per', 'als', 'ciutadans', 'al', 'no', 'haver', 'd', 'aportar', 'cap', 'document', 'responsable', 'd', 'informàtica', 'i', 'administració', 'electrònica', 'e', 'tram', 'ens', 'ha', 'permès', 'implantar', 'un', 'servei', 'de', 'tramitació', 'electrònica', 'per', 'als', 'ciutadans', 'de', 'forma', 'ràpida', 'senzilla', 'i', 'amb', 'un', 'cost', 'reduït', 'els', 'municipis', 'amb', 'pocs', 'habitants', 'trobem', 'en', 'els', 'serveis', 'de', 'l', 'aoc', 'la', 'gratuïtat', 'i', 'la', 'comoditat', 'necessàries', 'per', 'dur', 'a', 'terme', 'el', 'nostre', 'dia', 'a', 'dia', 'les', 't', 'cat', 'han', 'permès', 'incorporar', 'de', 'forma', 'segura', 'la', 'signatura', 'electrònica', 'dins', 'dels', 'nostres', 'procediments', 'afavorint', 'la', 'transformació', 'digital', 'de', 'la', 'nostra', 'activitat', 'cap', 'de', 'departament', 'de', 'sistemes', 'i', 'tecnologies', 'de', 'la', 'informació', 'amb', 'el', 'desplegament', 'de', 'l', 'idcat', 'hem', 'apropat', 'l', 'ajuntament', 'a', 'la', 'ciutadania', 'mitjançant', 'els', 'serveis', 'de', 'govern', 'obert', 'de', 'l', 'aoc', 'hem', 'pogut', 'fer', 'fàcil', 'el', 'que', 'sembla', 'difícil', 'al', 'tauler', 'electrònic', 'pots', 'penjar', 'fins', 'i', 'tot', 'el', 'projecte', 'sencer', 'i', 'al', 'final', 'et', 'permet', 'fer', 'també', 'la', 'diligència', 'àrea', 'de', 'promoció', 'econòmica', 'administració', 'i', 'hisenda', 'el', 'sobre', 'digital', 'i', 'la', 'pscp', 'han', 'aconseguit', 'una', 'comunió', 'senzilla', 'entre', 'empreses', 'i', 'administració', 'per', 'universalitzar', 'la', 'compra', 'pública', 'electrònica', 'l', 'e', 'set', 'és', 'la', 'implantació', 'd', 'un', 'nou', 'sistema', 'de', 'treball', 'que', 'facilita', 'la', 'feina', 'del', 'dia', 'a', 'dia', 'cap', 'del', 'servei', 'de', 'contractació', 'i', 'compres', 'el', 'sobre', 'digital', 'una', 'experiència', 'imprescindible', 'per', 'a', 'la', 'bona', 'administració', 'amb', 'estalvi', 'de', 'recursos', 'i', 'millora', 'de', 'la', 'seguretat', 'jurídica', 'i', 'la', 'transparència', 'àrea', 'd', 'organització', 'i', 'administració', 'electrònica', 'el', 'desplegament', 'de', 'la', 'valisa', 'electrònica', 'ha', 'estat', 'clau', 'en', 'el', 'procés', 'de', 'transformació', 'digital', 'dels', 'nostres', 'procediments', 'interns', 'l', 'hèstia', 'permet', 'el', 'treball', 'en', 'temps', 'real', 'i', 'des', 'de', 'qualsevol', 'lloc', 'així', 'com', 'sistematitzar', 'la', 'pràctica', 'professional', 'recollir', 'la', 'informació', 'ordenadament', 'i', 'amb', 'el', 'mateix', 'llenguatge', 'consulta', 'els', 'materials', 'del', 'congrés', 'de', 'govern', 'digital', '2019', 'governs', 'transparents', 'fluids', 'dinàmics', 'líquids', 'un', 'bon', 'lema', 'pel', 'principal', 'objectiu', 'de', 'la', 'governança', 'del', 'segle', 'xxi', 'democratitzar', 'ho', 'tot', 'confluències', 'rius', 'cooperació', 'catalunya', 'mediterrània', 'mar', 'de', 'drets', 'a', 'favor', 'totes', 'les', 'administracions', 'movent', 'se', 'per', 'posar', 'se', 'al', 'dia', 'i', 'millorar', 'tot', 'aprofitant', 'la', 'revolució', 'digital', 'en', 'contra', 'quants', 'cops', 'estem', 'reinventant', 'la', 'roda', 'i', 'quantes', 'quantes', 'oportunitats', 'perdudes', 'de', 'fer', 'ho', 'una', 'única', 'vegada', 'i', 'de', 'forma', 'coordinada', 'i', 'col', 'laborativa', 'la', 'transparència', 'és', 'una', 'oportunitat', 'hem', 'de', 'perdre', 'tota', 'por', 'a', 'explicar', 'què', 'fem', 'la', 'conclusió', 'de', 'la', 'taula', 'd', 'alcaldies', 'de', 'la', 'jornada', 'de', 'govern', 'obert', 'pic', 'twitter', 'com', 'erbglsixzm', 'el', 'director', 'general', 'de', 'participació', 'ciutadana', 'ens', 'convida', 'a', 'transformar', 'les', 'administracions', 'públiques', 'a', 'partir', 'de', 'la', 'participació', 'ciutadana', 'ens', 'cal', 'que', 'allò', 'que', 'preocupa', 'i', 'ocupa', 'els', 'governants', 'formi', 'part', 'd', 'allò', 'en', 'què', 'participa', 'la', 'ciutadania', 'pic', 'twitter', 'com', 'nwqr4ezscs', 'a', 'moltes', 'institucions', 'encara', 'els', 'sona', 'xinés', 'això', 'de', 'les', 'dades', 'obertes', 'i', 'la', 'transparència', 'de', 'que', 'serveix', 'que', 'hi', 'hagi', 'un', 'portal', 'si', 'llavors', 'no', 'hi', 'ha', 'dades', 'llavors', 'l', 'accés', 'a', 'la', 'informació', 'pels', 'periodistes', 'és', 'molt', 'parcial', 'oferim', 'eines', 'que', 'conjuntament', 'amb', 'la', 'metodologia', 'i', 'el', 'suport', 'necessari', 'fan', 'possible', 'l', 'assoliment', 'd', 'un', 'govern', 'digital', 'posem', 'al', 'vostre', 'abast', 'tot', 'el', 'coneixement', 'formació', 'guies', 'normatives', 'etc', 'tenim', 'eines', 'per', 'gestionar', 'àgilment', 'part', 'del', 'procés', 'administratiu', 'del', 'vostre', 'ens', 'el', 'nostre', 'equip', 'farà', 'tot', 'el', 'possible', 'per', 'resoldre', 'les', 'vostres', 'incidències', 'sabem', 'que', 'es', 'tracta', 'd', 'una', 'decisió', 'molt', 'important', 'per', 'al', 'vostre', 'ens', 'i', 'és', 'per', 'això', 'que', 'us', 'ho', 'volem', 'posar', 'fàcil', 'la', 'selecció', 'de', 'l', 'actualitat', 'd', 'administració', 'oberta', 'a', 'la', 'vostra', 'safata'], ['en', 'compliment', 'de', 'la', 'directiva', '2009', '136', 'ce', 'desenvolupada', 'en', 'el', 'nostre', 'ordenament', 'per', 'l', 'article', '22', '2', 'de', 'la', 'llei', 'de', 'serveis', 'de', 'societat', 'de', 'la', 'informació', 'lssi', 'i', 'seguint', 'les', 'instruccions', 'de', 'l', 'agència', 'espanyola', 'de', 'protecció', 'de', 'dades', 'procedim', 'a', 'informar', 'li', 'detalladament', 'de', 'l', 'ús', 'que', 'es', 'realitza', 'a', 'la', 'nostra', 'pàgina', 'web', 'aquesta', 'informació', 'no', 'revela', 'la', 'seva', 'identitat', 'però', 'sí', 'que', 'permet', 'la', 'seva', 'identificació', 'com', 'a', 'un', 'usuari', 'concret', 'i', 'pot', 'guardar', 'informació', 'relativa', 'a', 'la', 'freqüència', 'amb', 'la', 'que', 'visita', 'la', 'pàgina', 'web', 'les', 'seves', 'preferències', 'de', 'navegació', 'o', 'aquella', 'informació', 'que', 'més', 'l', 'interessa', 'el', 'que', 'ens', 'permet', 'cada', 'vegada', 'que', 'accedeix', 'a', 'www', 'aoc', 'cat', 'millorar', 'la', 'qualitat', 'i', 'la', 'usabilitat', 'de', 'la', 'nostra', 'pàgina', 'web', 'no', 'obstant', 'si', 'les', 'desactiva', 'pot', 'ser', 'que', 'la', 'seva', 'navegació', 'per', 'www', 'aoc', 'cat', 'no', 'sigui', 'òptima', 'i', 'algunes', 'de', 'les', 'seves', 'utilitats', 'no', 'funcionin', 'correctament', 'cookies', 'analítiques', 'galetes', 'de', 'google', 'analytics', 'aquesta', 'pàgina', 'web', 'utilitza', 'google', 'analytics', 'un', 'servei', 'analític', 'del', 'web', 'prestat', 'per', 'google', 'inc', 'una', 'companyia', 'de', 'delaware', 'l', 'oficina', 'principal', 'de', 'la', 'qual', 'es', 'troba', 'a', '1600', 'amphitheatre', 'parkway', 'mountain', 'view', 'califòrnia', 'ca', '94043', 'estats', 'units', 'google', 'la', 'informació', 'que', 'genera', 'la', 'cookie', 'sobre', 'l', 'ús', 'del', 'lloc', 'web', 'incloent', 'l', 'adreça', 'ip', 'serà', 'directament', 'transmesa', 'i', 'arxivada', 'per', 'google', 'en', 'els', 'seus', 'servidors', 'd', 'estats', 'units', 'google', 'utilitzarà', 'aquesta', 'informació', 'per', 'compte', 'nostre', 'amb', 'el', 'propòsit', 'de', 'seguir', 'la', 'pista', 'del', 'seu', 'ús', 'del', 'lloc', 'web', 'google', 'podrà', 'transmetre', 'aquesta', 'informació', 'a', 'tercers', 'quan', 'així', 'ho', 'requereixi', 'la', 'legislació', 'o', 'quan', 'aquests', 'tercers', 'processin', 'la', 'informació', 'per', 'compte', 'de', 'google', 'en', 'aquests', 'casos', 'google', 'no', 'associarà', 'la', 'seva', 'adreça', 'ip', 'amb', 'cap', 'altra', 'dada', 'de', 'què', 'disposi', 'en', 'utilitzar', 'aquesta', 'pàgina', 'web', 'consent', 'el', 'tractament', 'de', 'la', 'seva', 'informació', 'per', 'google', 'en', 'la', 'forma', 'i', 'per', 'als', 'fins', 'anteriorment', 'indicats', 'l', 'exercici', 'de', 'qualsevol', 'dret', 's', 'haurà', 'de', 'realitzar', 'mitjançant', 'comunicació', 'directa', 'amb', 'google', 'per', 'optar', 'per', 'no', 'ser', 'rastrejats', 'per', 'google', 'analytics', 'a', 'través', 'de', 'tots', 'els', 'llocs', 'web', 'podeu', 'consultar', 'http', 'tools', 'google', 'com', 'dlpage', 'gaoptout', 'així', 'mateix', 'també', 'registra', 'quan', 'va', 'ser', 'la', 'primera', 'i', 'l', 'última', 'vegada', 'que', 'l', 'usuari', 'va', 'visitar', 'el', 'web', 'www', 'aoc', 'cat', 'galetes', 'en', 'altres', 'llocs', 'web', 'del', 'consorci', 'aoc', 'les', 'seves', 'finalitats', 'són', 'descrites', 'a', 'la', 'pàgina', 'de', 'privacitat', 'de', 'twitter', 'configuració', 'de', 'l', 'usuari', 'per', 'evitar', 'cookies', 'és', 'cas', 'de', 'dubte', 'pot', 'dirigir', 'se', 'al', 'webmaster', 'del', 'domini', 'creador', 'de', 'la', 'cookie', 'la', 'selecció', 'de', 'l', 'actualitat', 'd', 'administració', 'oberta', 'a', 'la', 'vostra', 'safata']]\n"
     ]
    }
   ],
   "source": [
    "import gensim\n",
    "from gensim.models import Word2Vec\n",
    "import re\n",
    "\n",
    "# Funció per netejar i tokenitzar el text\n",
    "def preprocess_text(text):\n",
    "    # Neteja el text: treu caràcters no desitjats, converteix a minúscules, etc.\n",
    "    text = re.sub(r'\\W+', ' ', text)  # Substitueix caràcters no alfanumèrics per espais\n",
    "    text = text.lower()  # Converteix a minúscules\n",
    "    words = text.split()  # Tokenitza\n",
    "    return words\n",
    "\n",
    "# Carrega el fitxer de text i processa'l\n",
    "corpus_100MB = []\n",
    "for line in dataset_100MB:\n",
    "    words = preprocess_text(line['text'])\n",
    "    if words:  # Assegura't que la línia no està buida\n",
    "        corpus_100MB.append(words)\n",
    "\n",
    "# Comprova algunes línies per assegurar-te que tot està bé\n",
    "print(corpus_100MB[:2])\n"
   ]
  },
  {
   "cell_type": "markdown",
   "metadata": {},
   "source": [
    "## Entrenament model de similitud de Text Semàntic"
   ]
  },
  {
   "cell_type": "code",
   "execution_count": 47,
   "metadata": {},
   "outputs": [
    {
     "name": "stderr",
     "output_type": "stream",
     "text": [
      "C:\\Users\\USER\\AppData\\Local\\Packages\\PythonSoftwareFoundation.Python.3.11_qbz5n2kfra8p0\\LocalCache\\local-packages\\Python311\\site-packages\\datasets\\load.py:1486: FutureWarning: The repository for projecte-aina/sts-ca contains custom code which must be executed to correctly load the dataset. You can inspect the repository content at https://hf.co/datasets/projecte-aina/sts-ca\n",
      "You can avoid this message in future by passing the argument `trust_remote_code=True`.\n",
      "Passing `trust_remote_code=True` will be mandatory to load this dataset from the next major release of `datasets`.\n",
      "  warnings.warn(\n"
     ]
    }
   ],
   "source": [
    "from datasets import load_dataset\n",
    "\n",
    "text_semantic = load_dataset(\"projecte-aina/sts-ca\")"
   ]
  },
  {
   "cell_type": "code",
   "execution_count": 48,
   "metadata": {},
   "outputs": [],
   "source": [
    "from gensim.models import word2vec\n",
    "model_100MB = word2vec.Word2Vec(corpus_100MB, vector_size=100, window=5, min_count=10, workers=4, epochs=25)\n",
    "model_100MB.save(\"model_100MB\")\n",
    "# Obtenir un word-vector"
   ]
  },
  {
   "cell_type": "code",
   "execution_count": 49,
   "metadata": {},
   "outputs": [],
   "source": [
    "model_100MB = Word2Vec.load(\"model_100MB\")"
   ]
  },
  {
   "cell_type": "code",
   "execution_count": 50,
   "metadata": {},
   "outputs": [
    {
     "name": "stdout",
     "output_type": "stream",
     "text": [
      "[('frase', 0.7246354818344116), ('lletra', 0.633410632610321), ('recomanació', 0.6004658937454224), ('conjunció', 0.5997090339660645), ('locució', 0.5862089395523071), ('grafia', 0.5844226479530334), ('afirmació', 0.5692729949951172), ('pronúncia', 0.5562312602996826), ('persona', 0.546882688999176), ('idea', 0.5352196097373962)]\n"
     ]
    }
   ],
   "source": [
    "# Exemple: trobar paraules similars\n",
    "similar_words = model_100MB.wv.most_similar('paraula')\n",
    "print(similar_words)"
   ]
  },
  {
   "cell_type": "code",
   "execution_count": 51,
   "metadata": {},
   "outputs": [],
   "source": [
    "text_semantic_train = text_semantic['train']"
   ]
  },
  {
   "cell_type": "code",
   "execution_count": 52,
   "metadata": {},
   "outputs": [
    {
     "data": {
      "text/plain": [
       "{'sentence1': 'Atorga per primer cop les mencions Encarna Sanahuja a la inclusió de la perspectiva de gènere en docència Universitària',\n",
       " 'sentence2': 'Creen la menció M. Encarna Sanahuja a la inclusió de la perspectiva de gènere en docència universitària',\n",
       " 'label': 3.5}"
      ]
     },
     "execution_count": 52,
     "metadata": {},
     "output_type": "execute_result"
    }
   ],
   "source": [
    "text_semantic_train[0]"
   ]
  },
  {
   "cell_type": "code",
   "execution_count": 53,
   "metadata": {},
   "outputs": [],
   "source": [
    "# Preprcessament del text_semantic\n",
    "corpus_semantic = []\n",
    "semantic_score = []\n",
    "for line in text_semantic_train:\n",
    "    frase1 = preprocess_text(line['sentence1'])\n",
    "    frase2 = preprocess_text(line['sentence2'])\n",
    "\n",
    "    corpus_semantic.append((frase1, frase2))\n",
    "    semantic_score.append(line['label'])"
   ]
  },
  {
   "cell_type": "code",
   "execution_count": 80,
   "metadata": {},
   "outputs": [],
   "source": [
    "vocabulari = {}\n",
    "\n",
    "for frases in corpus_semantic:\n",
    "    for frase in frases:\n",
    "        for paraula in frase:\n",
    "            if paraula in vocabulari:\n",
    "                vocabulari[paraula] += 1\n",
    "            else:\n",
    "                vocabulari[paraula] = 1\n"
   ]
  },
  {
   "cell_type": "code",
   "execution_count": 91,
   "metadata": {},
   "outputs": [],
   "source": [
    "vocabulari_reduit = {palabra for palabra, frecuencia in vocabulari.items() if frecuencia >= 10}\n"
   ]
  },
  {
   "cell_type": "code",
   "execution_count": 82,
   "metadata": {},
   "outputs": [
    {
     "name": "stdout",
     "output_type": "stream",
     "text": [
      "{'atorga': 4, 'per': 906, 'primer': 55, 'cop': 8, 'les': 723, 'mencions': 1, 'encarna': 2, 'sanahuja': 2, 'a': 1959, 'la': 2679, 'inclusió': 2, 'de': 4223, 'perspectiva': 2, 'gènere': 25, 'en': 906, 'docència': 3, 'universitària': 4, 'creen': 1, 'menció': 2, 'm': 36, 'finalment': 16, 'afegiu': 11, 'hi': 166, 'els': 632, 'bolets': 2, 'que': 703, 'haureu': 1, 'saltat': 3, 'una': 578, 'paella': 5, 'amb': 649, 'oli': 11, 'i': 1872, 'deixeu': 5, 'ho': 63, 'coure': 9, 'tot': 45, 'junt': 6, 'durant': 81, '5': 64, 'minuts': 17, 'poseu': 5, 'minipastanagues': 1, 'tallades': 3, 'dauets': 2, 'pèsols': 1, 'rectifiqueu': 1, 'sal': 11, 'un': 932, 'parell': 2, 'més': 239, 'el': 1846, 'tc': 18, 'suspèn': 1, 'pla': 36, 'd': 1122, 'acció': 8, 'exterior': 9, 'relacions': 12, 'ue': 9, 'generalitat': 40, 'constitucional': 8, 'manté': 14, 'suspensió': 1, 'del': 1012, 'estratègic': 1, 'virgin': 6, 'galactic': 1, 'va': 472, 'ser': 151, 'fundada': 1, '2004': 5, 'l': 1313, 'empresari': 3, 'britànic': 3, 'richard': 2, 'branson': 2, 'havia': 24, 'fundat': 1, 'prèviament': 4, 'aerolínia': 1, 'atlantic': 2, 'group': 2, 'és': 531, 'aerolínies': 1, 'propietari': 4, 'identifiquen': 3, 'nou': 42, 'biomarcador': 1, 'realitzar': 3, 'tractaments': 2, 'personalitzats': 1, 'contra': 107, 'càncer': 4, 'nous': 13, 'mama': 1, 'limita': 5, 'al': 632, 'nord': 53, 'municipis': 11, 'san': 5, 'ignacio': 3, 'sud': 59, 'rosario': 1, 'oest': 22, 'oceà': 1, 'pacífic': 4, 'est': 26, 'durango': 2, 'escuinapa': 1, 'mazatlán': 1, 'fets': 25, 'han': 146, 'tingut': 13, 'lloc': 48, 'poc': 14, 'abans': 17, 'vuit': 10, 'vespre': 12, 'carretera': 12, 'c': 35, '13': 21, 'b': 6, '150': 6, 'després': 81, 'dos': 106, 'quarts': 10, 'es': 410, 'construeix': 3, 'planta': 45, 'quadrangular': 1, 'murs': 5, 'paredats': 1, 'tracta': 15, 'edifici': 34, 'exteriorment': 2, 'rectangular': 14, 'luis': 1, 'miguel': 1, 'actuarà': 5, 'palau': 10, 'sant': 106, 'jordi': 31, 'proper': 8, '8': 40, 'juliol': 32, 'manuel': 8, 'carrasco': 1, '12': 26, 'juny': 35, 'procés': 15, 'despolarització': 1, 'càrrega': 6, 'interna': 2, 'negativa': 4, 'cèl': 3, 'lula': 4, 'temporalment': 1, 'esdevé': 2, 'positiva': 1, 'menys': 20, 'experimenta': 3, 'canvi': 4, 'distribució': 2, 'elèctrica': 6, 'resultant': 1, 'disminució': 5, 'dins': 18, 'sem': 8, 'ha': 302, 'atès': 5, '51': 4, 'persones': 97, 'dispositiu': 5, '21': 19, '46': 7, 'contusions': 2, '62': 3, '57': 4, 'quan': 44, 'tenies': 2, 'quinze': 4, 'anys': 111, 'ta': 1, 'mare': 18, 'tenia': 13, 'trenta': 2, 'compara': 1, 't': 13, 'com': 141, 'eres': 1, 'o': 91, 'judici': 10, 'cas': 23, 'dels': 247, 'joves': 14, 'altsasu': 2, 'fiscalia': 24, 'demana': 38, '375': 1, 'presó': 51, 'terrorisme': 5, 'baralla': 7, 'bar': 8, 'acusats': 9, 'vist': 4, 'sentència': 10, 'curs': 11, 'virtual': 2, 'té': 76, 'durada': 6, 'mesos': 28, 'dividits': 2, 'períodes': 2, 'aprenentatge': 3, '2': 84, 'setmanes': 3, 'quinzenes': 2, 'didàctiques': 2, 'qd': 1, 'narrativa': 2, '15': 35, 'dies': 32, 'bombers': 40, 'treballen': 8, 'incendi': 23, 'forestal': 9, 'blanes': 5, 'tortosa': 10, 'patxi': 1, 'hernández': 2, 'sebastià': 8, '3': 90, 'novembre': 38, '1967': 5, 'exfutbolista': 4, 'basc': 6, 'ocupava': 4, 'posició': 10, 'porter': 1, 'juan': 10, 'ugarte': 1, '7': 58, '1982': 3, 'davanter': 2, 'borsa': 2, 'espanyola': 17, 'verd': 6, 'obre': 12, 'increment': 5, 'recupera': 2, 'tanca': 10, 'pujada': 4, '6': 60, '4': 62, 'comarques': 22, 'lleidatanes': 3, 'encadenen': 2, '48mesos': 1, 'seguits': 1, 'caigudes': 6, 'des': 78, '2013': 12, '58': 5, 'interanuals': 3, 'tsjc': 7, 'confirma': 6, 'asseguradora': 2, 'caçador': 2, 'matar': 9, 'agents': 15, 'rurals': 10, 'aspa': 2, 'pagar': 2, '300': 22, '000': 84, 'euros': 66, 'als': 108, 'familiars': 4, 'rebutja': 9, 'fer': 49, 'front': 5, 'indemnització': 4, 'fifa': 6, '16': 27, 'videojoc': 3, 'futbol': 20, 'desenvolupat': 2, 'ea': 4, 'canada': 2, 'publicat': 13, 'sports': 2, '17': 32, 'aeroport': 10, 'prat': 8, 'supera': 4, 'tres': 92, 'milions': 38, 'passatgers': 8, 'segon': 24, 'consecutiu': 5, 'viatgers': 6, 'mes': 23, 'febrer': 16, 'tram': 8, 'ferroviari': 1, 'entre': 118, 'tàrrega': 3, 'cervera': 5, 'línia': 23, 'barcelona': 132, 'manresa': 10, 'lleida': 44, 'farà': 17, 'aquest': 135, 'estiu': 24, 'territori': 10, 'finalitza': 5, 'senyalització': 6, 'via': 22, 'cicloturística': 1, 'intercatalunya': 1, 'tots': 50, 'nostres': 5, 'professors': 4, 'desplacen': 2, 'impartir': 2, 'classes': 2, 'nivells': 3, 'segons': 33, 'necessitats': 7, 'cada': 35, 'empresa': 13, 'formació': 22, 'empreses': 19, 'presenta': 18, 'decoracions': 2, 'totxo': 2, 'diferents': 24, 'colors': 7, 'bonics': 1, 'esgrafiats': 1, 'color': 15, 'groc': 3, 'blanc': 13, 'motius': 4, 'vegetals': 2, 'oficis': 4, 'són': 102, 'fileres': 3, 'rajoles': 2, 'teules': 1, 'decorades': 4, 'elements': 4, 'pintats': 2, 'vermell': 4, 'geomètrics': 3, 'vegetalsi': 1, 'animals': 4, 'fins': 102, 'balenyà': 1, 's': 233, 'desplaçat': 5, 'helicòpter': 4, 'efectius': 4, 'grae': 1, 'gem': 1, 'dona': 31, 'estat': 116, 'evacuada': 4, 'aire': 7, 'hospital': 39, 'vic': 9, 'medicalitzat': 1, 'bellvitge': 4, 'viscut': 1, 'sempre': 10, 'manacor': 3, 'on': 52, 'col': 39, 'laborat': 4, 'premsa': 3, 'articles': 3, 'literaris': 3, 'opinió': 2, 'palma': 6, 'psoe': 24, 'canvia': 3, 'lema': 1, 'estem': 2, 'molt': 76, 'prop': 25, 'sánchez': 25, 'mobilització': 1, 'davant': 26, 'perill': 6, 'real': 6, 'dreta': 24, '10': 41, 'n': 34, 'vot': 13, 'útil': 3, 'valent': 1, 'pel': 86, 'ultradreta': 1, 'neu': 6, 'deixat': 4, 'veure': 12, 'totes': 14, 'cotes': 6, 'gruixos': 1, 'superen': 4, 'centímetres': 5, 'deixa': 5, 'pirineu': 12, 'acumulacions': 2, '30': 27, 'altes': 7, 'aprovada': 8, 'delimitació': 1, 'entorn': 7, 'protecció': 14, 'castell': 11, 'miravet': 1, 'capella': 6, 'sepulcre': 1, 'olèrdola': 1, 'erc': 43, 'consultarà': 2, 'bases': 5, 'suport': 19, 'pedro': 3, 'pressupostos': 9, 'controvèrsies': 1, 'cs': 24, 'pacte': 10, 'pp': 27, 'vox': 3, 'mossos': 63, 'esquadra': 28, 'investiguen': 6, 'circumstàncies': 4, 'sinistre': 6, 'aquests': 16, 'estats': 15, 'haurà': 11, 'units': 18, 'frança': 15, 'regne': 12, 'unit': 9, 'alemanya': 5, 'itàlia': 7, 'mèxic': 7, 'alguns': 18, 'països': 2, 'mobilitzacions': 2, 'participaren': 4, 'total': 26, '28': 16, 'patinadores': 1, 'velocitat': 12, 'comitès': 4, 'nacionals': 7, 'patinadors': 1, 'lecció': 4, 'kaleidoskópio': 2, 'origen': 10, 'projecte': 16, 'internacional': 23, 'connectant': 2, 'mons': 2, 'url': 2, 'aquesta': 67, 'proposta': 9, 'didàctica': 1, 'forma': 32, 'part': 62, 'fa': 37, 'clubs': 3, 'destacà': 2, 'fica': 1, 'interclube': 1, 'abstracts': 1, 'estudis': 3, 'traduïts': 3, 'català': 37, 'gallec': 4, 'euskera': 2, 'francès': 39, 'anglès': 9, 'seus': 21, 'llibres': 3, 'castellà': 8, 'italià': 7, 'xinès': 1, 'coreà': 1, 'braille': 1, 'gener': 25, '2011': 4, 'octubre': 22, '2017': 17, 'delegat': 6, 'territorial': 3, 'govern': 100, 'catalunya': 140, 'terres': 7, 'ebre': 7, '2018': 27, 'fou': 119, 'nomenat': 13, 'laterals': 6, 'consten': 2, 'finestra': 14, 'partida': 3, 'pilastres': 3, 'maons': 2, 'altra': 14, 'arc': 15, 'rebaixat': 2, 'baixos': 6, 'porta': 31, 'quadrada': 4, 'banda': 21, 'plaça': 20, 'poble': 22, 'andorra': 6, 'vella': 9, 'torna': 10, 'omplir': 2, 'se': 89, 'marcat': 3, 'producció': 8, 'escriptors': 2, 'principat': 3, 'previous': 1, 'post': 3, 'cinc': 33, 'ferits': 23, 'lleus': 6, 'inhalació': 4, 'fum': 8, 'hospitalet': 7, 'llobregat': 13, 'pis': 28, 'costat': 14, 'número': 13, 'però': 88, 'també': 111, 'conserva': 8, 'antic': 13, 'damunt': 7, 'carreu': 1, 'portal': 9, 'sobrearc': 1, 'datat': 1, 'primera': 37, 'vegada': 8, '1895': 2, 'atorgat': 1, '1882': 3, 'ponent': 9, 'tossal': 5, 'martí': 8, 'montserè': 1, 'moltes': 15, 'classificacions': 2, 'crambidae': 1, 'tractats': 2, 'subfamília': 6, 'pyralidae': 2, 'cràmbids': 1, 'alçària': 1, '491': 1, 'metres': 33, 'alçada': 9, 'uns': 44, '341': 1, 'vida': 16, 'lícula': 18, 'recorda': 9, 'màxima': 14, 'realitat': 2, 'ficció': 5, 'iceta': 4, 'prefereix': 3, 'no': 222, 'iniciar': 2, 'debat': 8, 'sobre': 87, 'candidat': 9, 'psc': 31, 'convoquin': 2, 'formalment': 1, 'eleccions': 34, 'espanyoles': 5, 'pdecat': 12, 'proposa': 5, 'primàries': 5, 'escollir': 2, 'cara': 2, 'arxiva': 10, 'investigació': 29, 'presumpta': 6, 'falsedat': 3, 'documental': 7, 'atll': 1, 'alfonso': 3, 'malversació': 6, 'edil': 1, 'declaracions': 3, 'moció': 10, 'resolució': 8, 'rupturista': 1, 'parlament': 43, 'acusació': 5, 'sorgir': 3, 'arran': 8, 'declaració': 10, 'independentista': 6, 'junta': 2, 'electoral': 10, 'desestima': 1, 'denúncia': 2, 'editorial': 3, 'mònica': 1, 'terribas': 1, 'matí': 27, 'ràdio': 13, 'denuncia': 10, 'denunciant': 1, 'només': 23, 'veu': 5, 'possible': 10, 'delicte': 17, 'furt': 1, 'sol': 30, 'sedició': 7, 'avisa': 1, 'puigdemont': 27, 'independentisme': 3, 'presentar': 11, 'acatar': 2, '155': 8, 'constitució': 6, 'albiol': 8, 'aposta': 3, 'mantenir': 7, 'si': 84, 'vulneri': 1, 'especulat': 1, 'altres': 39, 'possibles': 3, 'explicacions': 3, 'dues': 82, 'plantes': 18, 'baixa': 20, 'salons': 1, 'terrassa': 8, 'interior': 18, 'trobat': 2, 'fòssils': 4, 'conca': 3, 'karoo': 1, 'àfrica': 7, 'daten': 2, 'triàsic': 1, 'mitjà': 4, 'mongòlia': 1, 'cretaci': 1, 'inferior': 3, 'infraccions': 2, 'comptables': 2, 'greus': 5, 'sancionen': 2, 'imposició': 2, 'multa': 5, 'import': 5, '001': 1, '601': 1, 'jubilats': 2, 'endesa': 2, 'manifesten': 4, 'pobla': 1, 'segur': 8, 'denunciar': 5, 'retallades': 4, 'companyia': 10, 'vol': 19, 'aplicar': 3, 'manifestaran': 1, 'cirque': 2, 'du': 2, 'soleil': 2, 'enguany': 5, 'estrenarà': 3, 'espectacle': 6, 'luzia': 1, '2021': 3, 'estar': 8, 'actiu': 3, 'sobretot': 4, 'parís': 10, 'establir': 4, '1844': 1, 'tornar': 10, '1840': 2, 'morir': 19, '1843': 1, 'diego': 1, 'casar': 4, 'ana': 2, 'cerda': 4, 'castro': 1, 'néta': 3, 'quart': 14, 'duc': 6, 'medinaceli': 4, 'filla': 15, 'gran': 46, 'francisco': 3, 'duquessa': 5, 'sogorb': 3, 'caterina': 6, 'aragó': 9, 'cardona': 4, 'córdoba': 4, 'nascut': 8, '1910': 3, 'cabra': 3, 'alt': 21, 'camp': 10, 'cap': 65, '1902': 3, 'tarragona': 40, 'tarragonès': 4, 'dictadura': 3, 'idi': 1, 'amin': 2, 'dada': 1, 'van': 112, 'patir': 3, 'genocidi': 1, 'seu': 100, 'milton': 2, 'obote': 2, 'rival': 1, 'unir': 1, 'president': 48, 'yoweri': 1, 'museveni': 1, 'lluita': 3, 'derrocat': 1, 'canten': 2, 'fan': 8, 'ballar': 1, 'artistes': 2, 'ballen': 1, 'pràcticament': 1, 'imposen': 1, 'drets': 10, 'deures': 3, 'individuals': 3, 'lectius': 2, 'reconeixement': 4, 'unió': 8, 'conservació': 9, 'natura': 2, 'iucn': 1, 'classifica': 2, 'tortuga': 3, 'carei': 1, 'crític': 4, 'uicn': 3, 'espècie': 18, 'mor': 28, 'conductor': 20, 'turisme': 11, 'sortir': 4, 'pallejà': 1, 'cotxe': 10, 'castellolí': 1, 'gràcies': 7, 'tasca': 4, 'feu': 5, 'dia': 41, 'moltíssimes': 1, 'què': 18, 'reitera': 4, 'objectius': 5, 'polítics': 8, '9': 39, 'insta': 7, 'recuperar': 11, 'suspensions': 1, 'espanyol': 54, 'impugnarà': 1, 'ratifica': 3, 'termini': 12, 'presentació': 12, 'licituds': 5, 'naturals': 4, 'màxim': 9, 'reserva': 10, 'vaga': 20, 'controladors': 2, 'aeris': 3, 'marsella': 2, 'obliga': 8, 'vueling': 1, 'cancel': 6, 'lar': 7, 'vols': 5, 'dilluns': 14, 'francesos': 1, 'almenys': 6, 'desena': 4, 'tribunal': 11, 'contractes': 4, 'sector': 22, 'públic': 22, 'anul': 5, 'concurs': 9, 'elèctric': 5, 'home': 49, 'intentar': 3, 'amagar': 1, 'habitatge': 15, 'centre': 38, 'històric': 4, 'detingut': 30, 'dijous': 21, 'endur': 1, 'bossa': 3, 'mà': 8, 'ciutat': 63, 'cim': 8, 'podem': 22, 'trobar': 12, 'vèrtex': 6, 'geodèsic': 4, 'referència': 5, '291120001': 1, '264101001': 1, 'matriculacions': 4, 'turismes': 5, 'augmenten': 4, '22': 18, 'setembre': 36, 'baixen': 4, 'comparació': 4, '2019': 14, 'pic': 4, 'subenuix': 1, '950': 1, 'sostre': 6, 'serra': 15, 'constitueix': 1, 'extrem': 11, 'meridional': 6, 'comaloforno': 1, '029': 1, 'punt': 29, 'intersecció': 1, 'massís': 2, 'besiberri': 1, 'occidental': 17, 'cresta': 2, 'espanya': 32, 'res': 19, 'forcadell': 17, 'ingressarà': 1, 'alcalá': 1, 'meco': 1, 'aboni': 1, 'fiança': 6, 'jutge': 21, 'acorda': 4, 'eludible': 1, 'demanen': 9, 'setmana': 31, 'llarg': 11, 'extremin': 1, 'mesures': 12, 'precaució': 4, 'pràctica': 5, 'activitats': 16, 'medi': 3, 'natural': 19, 'extremar': 4, 'muntanya': 16, 'ponts': 2, 've': 9, 'tant': 7, 'ens': 26, 'podríem': 1, 'oblidar': 3, 'viber': 1, 'això': 25, 'crec': 4, 'cal': 26, 'mai': 2, 'sé': 9, 'pas': 5, 'feia': 11, 'perquè': 34, 'veiés': 1, 'volia': 4, 'dir': 9, 'li': 24, 'passava': 2, 'pensava': 1, 'realment': 1, 'importava': 1, 'entendrien': 1, 'dotacions': 19, 'sufocar': 2, 'flames': 7, 'tretze': 4, 'llegat': 1, 'carme': 10, 'chacón': 4, 'seva': 107, 'fundació': 11, 'cardiopaties': 2, 'congènites': 2, 'neix': 9, 'lluitar': 5, 'cliqueu': 2, 'llegir': 5, 'article': 2, 'fes': 2, 'click': 1, 'portada': 2, 'revista': 5, 'afiliacions': 1, 'seguretat': 21, 'social': 14, 'cauen': 7, '1': 113, 'plena': 3, 'crisi': 9, 'coronavirus': 17, 'afiliació': 1, 'estrangera': 1, 'cau': 13, '61': 1, 'març': 16, 'efecte': 3, 'arqueta': 2, 'segle': 26, 'xv': 5, 'contenia': 1, 'relíquia': 2, 'santa': 13, 'sandàlia': 2, 'déu': 8, 'ja': 55, 'exhibeix': 1, 'museu': 18, 'exposarà': 1, 'embolcallat': 1, 'sota': 17, '40': 9, 'galícia': 2, '36': 3, 'balears': 5, '38': 5, 'andalusia': 4, 'comunitats': 2, 'situen': 9, 'castella': 10, 'lleó': 12, 'extremadura': 3, 'ambdues': 1, 'navarra': 6, 'selecció': 10, 'catalana': 18, 'lluitarà': 2, 'cinquena': 3, 'guanyat': 7, 'comoditat': 2, 'combinat': 2, 'africà': 2, 'mundial': 17, 'sub': 1, '23': 18, 'primers': 12, 'important': 11, 'comercial': 12, 'pells': 3, 'xix': 8, 'comerç': 3, 'marítim': 3, 'néixer': 14, 'vigo': 1, '1960': 4, '29': 15, 'desembre': 18, '1983': 3, 'assegura': 12, 'antiga': 11, 'cdc': 3, 'transformat': 2, 'partit': 28, 'antisistema': 2, 'provat': 5, 'muntar': 3, 'república': 14, 'cartró': 5, 'pedra': 10, 'carreus': 4, 'ben': 17, 'escairats': 2, 'motllures': 1, 'diversos': 22, 'maçoneria': 1, 'cantoneres': 2, 'mesa': 10, 'congrés': 21, 'ajorna': 2, 'decisió': 4, 'grup': 35, 'propi': 4, 'demòcrata': 2, 'portaveu': 5, 'defensa': 15, 'denominació': 1, 'ico': 2, 'finançat': 2, '318': 1, 'operacions': 3, 'crèdit': 2, '31': 9, '400': 6, 'meur': 15, 'registrat': 7, '109': 1, '571': 1, 'avalat': 1, '057': 1, 'rebut': 2, 'avís': 2, '11': 28, '06': 1, 'hores': 29, '09': 1, '19': 30, 'ocupació': 7, 'feina': 9, 'serveis': 26, '73': 4, 'seguit': 7, 'indústria': 4, '18': 19, 'construcció': 9, 'agricultura': 8, 'nombre': 20, 'ocupats': 1, 'créixer': 3, 'especialment': 3, 'primari': 1, 'prova': 7, 'imprescindible': 4, 'perfecte': 5, 'entrenament': 2, 'físic': 5, 'mental': 4, 'girona': 58, 'consorci': 1, 'ter': 5, 'laboren': 1, 'connectivitat': 2, 'resclosa': 1, 'pilastra': 1, 'comencen': 7, 'construir': 6, 'escala': 9, 'peixos': 6, 'millorar': 8, 'onyar': 1, 'frares': 2, 'obliguen': 2, 'joan': 29, 'despullar': 1, 'posar': 9, 'hàbit': 3, 'monestir': 4, 'ell': 6, 'comparèixer': 1, 'obeir': 1, 'mobilitat': 5, 'dissenyat': 2, 'incidència': 10, 'funcionat': 2, 'tal': 8, 'renfe': 8, 'esperava': 3, 'continuarà': 4, 'operatiu': 10, 'propers': 5, 'especial': 7, 'ministeri': 5, 'promou': 1, 'creació': 11, 'interprofessional': 1, 'fruita': 10, 'dolça': 6, 'asaja': 1, 'reclama': 10, 'campanyes': 1, 'incentivar': 1, 'consum': 5, 'trobada': 5, 'guia': 2, 'eurovacances': 1, 'sortida': 10, 'munic': 1, 'obren': 8, 'vespres': 1, 'dimecres': 16, 'diumenges': 2, 'tarda': 18, 'excepte': 3, 'matins': 4, 'sense': 38, 'antecedents': 20, 'passar': 29, 'disposició': 24, 'jutjat': 13, 'instrucció': 4, 'funcions': 11, 'guàrdia': 31, 'decretar': 8, 'ingrés': 6, 'llibertat': 21, 'agost': 26, 'relació': 11, 'mateix': 34, 'any': 114, 'passat': 21, 'maig': 30, 'societat': 9, 'victoriana': 2, 'estava': 11, 'exacerbada': 1, 'moralismes': 2, 'disciplina': 2, 'rígids': 2, 'prejudicis': 2, 'severes': 2, 'interdiccions': 2, 'època': 4, 'denuncien': 9, 'infractors': 1, 'penal': 1, 'trànsit': 5, 'denunciaran': 1, 'penalment': 2, 'viària': 6, 'única': 9, 'cerimònia': 4, 'directors': 1, 'negres': 5, 'nominats': 1, 'millor': 19, 'lículaː': 1, 'lee': 1, 'daniels': 1, 'broderick': 1, 'johnson': 1, 'candidats': 3, 'australians': 1, 'actorː': 1, 'russell': 1, 'crowe': 1, 'guanyador': 9, 'geoffrey': 1, 'rush': 1, 'jove': 14, 'nacionalitat': 2, 'romanesa': 2, 'arrestat': 10, 'índia': 11, 'gîte': 1, 'ferme': 1, 'crins': 1, 'blancs': 3, 'ideal': 8, 'estada': 6, 'pels': 26, 'busquin': 2, 'encant': 2, 'comfort': 2, 'facilitat': 2, 'hazebrouck': 1, 'noclegi': 1, 'julinek': 1, 'blonie': 1, 'cos': 13, 'funciona': 2, 'manera': 12, 'eficient': 1, 'òptima': 1, 'tractaria': 2, 'khalid': 2, 'brahim': 2, 'bakraoui': 2, 'fitxats': 2, 'policia': 25, 'delictes': 15, 'vandalisme': 2, 'investigats': 5, 'recentment': 1, 'catedral': 2, 'àrtic': 2, 'església': 28, 'moderna': 5, 'construïda': 4, '1965': 7, 'està': 66, 'situat': 33, 'continental': 1, 'probablement': 3, 'monument': 3, 'famós': 1, 'desfangament': 2, 'estàtic': 2, '24': 14, 'fermentació': 2, 'tancs': 2, 'acer': 1, 'inoxidable': 1, 'oc': 3, 'temperatura': 1, 'controlada': 3, 'dogc': 7, 'publica': 1, 'obligatorietat': 2, 'portar': 6, 'mascareta': 2, 'lliure': 7, 'espais': 2, 'ús': 14, 'partir': 16, 'coincideixen': 2, 'següent': 10, 'enllaç': 2, 'podeu': 18, 'consultar': 8, 'llistat': 3, 'definitiu': 1, 'admesos': 2, 'exclosos': 2, 'selectiu': 2, 'nomenament': 3, 'funcionari': 2, 'interí': 2, 'na': 2, 'guàrdies': 2, 'municipals': 9, 'provisional': 15, 'audiència': 25, 'nacional': 43, 'causa': 11, 'anarquistes': 1, 'detinguts': 34, 'operació': 11, 'pandora': 1, 'ii': 18, 'provisionalment': 1, 'mario': 3, 'conde': 1, 'ofegat': 2, 'platja': 16, 'port': 14, 'olivet': 1, 'ametlla': 3, 'mar': 23, 'lloret': 3, 'sigui': 10, 'exigible': 2, 'legalment': 4, 'comunicacions': 2, 'transaccions': 1, 'faci': 3, 'usuari': 7, 'web': 11, 'duran': 1, 'terme': 15, 'mitjançant': 9, 'sistema': 21, 'comunicació': 6, 'faran': 9, 'pinel': 2, 'e': 5, 'autariba': 1, 'hauterive': 1, 'municipi': 52, 'departament': 32, 'òlt': 3, 'garona': 2, 'regió': 38, 'nova': 41, 'aquitània': 4, 'lobèrs': 1, 'bernac': 2, 'loubès': 1, 'víctimes': 9, 'traslladades': 5, 'parc': 14, 'tauli': 1, 'sabadell': 14, 'ferides': 7, 'lleu': 9, 'martorell': 3, 'casal': 4, 'realitzarà': 3, 'festiu': 3, 'escola': 18, 'nadal': 8, '26': 17, 'reprovació': 3, 'ministra': 5, 'diputats': 7, 'compareixença': 4, 'cospedal': 3, 'limitava': 2, 'calavino': 2, 'cavedine': 1, 'dro': 1, 'trento': 2, 'vezzano': 1, 'tradició': 2, 'assumpció': 1, 'maria': 11, 'anar': 17, 'efes': 2, 'ortodoxa': 1, 'magdalena': 4, 'retirar': 3, 'verge': 1, 'apòstol': 1, 'allí': 2, 'barça': 6, 'recorrerà': 1, 'reobertura': 1, 'neymar': 2, 'bartomeu': 3, 'rossell': 1, 'fitxatge': 2, 'jugador': 3, 'oral': 1, 'rosell': 3, 'convenientment': 2, 'vilemovice': 1, 'penzion': 1, 'u': 3, 'balcarky': 1, 'base': 8, 'explorar': 2, 'fantàstica': 2, 'hauteville': 1, 'lompnes': 1, 'villa': 2, 'poupoune': 1, 'negar': 4, 'nilsson': 1, 'richthoff': 1, 'dame': 1, 'archie': 1, 'macdonald': 1, 'guardonat': 7, 'medalla': 4, 'bronze': 7, 'wilson': 1, 'westergren': 1, 'hutmacker': 1, 'mylläri': 1, 'charles': 1, 'courant': 1, 'preu': 12, 'augmenta': 1, 'puja': 9, 'torneig': 2, 'obtenció': 1, 'informació': 18, 'iniciatives': 2, 'emprenedores': 2, 'oportunitats': 4, 'petita': 7, 'obté': 2, 'valorant': 1, 'impacte': 8, 'actuació': 4, 'incorporant': 1, 'valors': 5, 'ètics': 1, '585': 1, 'rei': 18, 'visigot': 1, 'leovigild': 1, 'annexionar': 1, 'afeblit': 1, 'àkhila': 1, 'visigots': 1, '549': 1, '554': 1, 'cel': 9, 'finestres': 11, 'arcs': 5, 'mig': 21, 'tapiada': 1, 'finestrals': 1, 'torra': 17, 'reuneix': 4, 'otegi': 1, 'abordar': 5, 'situació': 6, 'política': 7, 'rajoy': 22, 'reuniran': 3, 'dimarts': 19, 'moncloa': 6, 'endemà': 3, 'investidura': 12, 'segona': 29, 'emperador': 2, 'go': 1, 'mizunoo': 1, 'nominada': 2, 'cort': 1, 'suprema': 1, 'afirma': 4, 'qui': 17, 'decideix': 3, 'interpreta': 1, 'reglament': 5, 'ppc': 15, 'serà': 24, 'convocarà': 1, 'consulta': 4, 'diputada': 3, 'lefkoşa': 2, 'nicosia': 2, 'çolak': 1, 'membre': 20, 'consell': 16, 'municipal': 28, 'local': 18, '1994': 4, '2002': 1, 'resta': 4, 'determini': 1, 'extradició': 2, 'posat': 2, 'òrgan': 4, 'competent': 2, 'ordenar': 1, 'escullen': 3, 'jurat': 4, 'arrenca': 5, 'acusat': 16, 'assassinar': 3, 'fillol': 1, 'capellà': 1, 'comença': 7, 'germà': 4, 'ganivetada': 1, 'coll': 7, 'figueres': 7, 'turquia': 5, 'transcontinental': 1, 'euràsia': 1, 'europea': 3, 'oriental': 14, 'capacitat': 3, 'sala': 13, 'accés': 14, 'invitació': 1, 'actes': 8, '320': 2, 'anc': 2, 'convoca': 9, 'taula': 9, 'partits': 11, 'entitats': 7, 'debatre': 4, 'estratègia': 3, 'conjunta': 3, 'reuneixi': 2, 'sobiranistes': 3, 'troben': 15, 'assentades': 1, 'riu': 9, 'troba': 40, 'desembocadura': 2, 'miño': 1, 'veritat': 11, 'veig': 6, 'difícil': 2, 'tinc': 12, 'clar': 8, 'anomenar': 3, 'buried': 1, 'alive': 1, 'televisió': 6, 'cable': 3, 'americà': 4, 'estrenar': 6, 'all': 2, 'the': 14, 'rage': 1, 'cinquantena': 2, 'guarda': 1, 'minut': 5, 'silenci': 4, 'record': 6, 'morta': 5, 'violenta': 2, 'masquefa': 2, 'guarden': 1, 'caldes': 1, 'malavella': 1, 'nena': 7, 'accident': 27, 'inflable': 1, 'acumula': 1, 'cordó': 1, 'gruixut': 1, 'vertical': 2, 'enganxa': 1, 'cavallet': 1, 'loquem': 1, 'tira': 2, 'folrada': 2, 'formant': 1, 'nansa': 1, 'cistell': 1, 'exteriors': 7, 'llocs': 7, 'places': 7, 'tenim': 8, 'sort': 6, 'comptar': 2, 'tane': 2, 'autèntic': 2, 'cantaor': 2, 'gitano': 2, 'jerez': 2, 'frontera': 2, 'objectiu': 14, 'fomentar': 4, 'art': 9, 'cultura': 11, 'integrin': 2, 'públics': 10, 'generar': 1, 'multiplicitat': 1, 'visions': 1, 'debats': 2, 'crítics': 2, 'acaba': 5, 'jornada': 8, 'metro': 12, 'descensos': 6, 'demanda': 6, '32': 4, 'tercera': 8, 'validació': 1, 'destina': 4, 'gairebé': 14, 'aeronàutic': 1, 'promoure': 2, 'autoocupació': 1, 'juvenil': 4, 'similar': 2, 'tindria': 2, 'programa': 18, 'f': 1, 'lux': 1, 'windows': 1, 'mac': 2, 'linux': 1, 'altre': 18, 'utilitza': 6, 'motor': 6, 'clamav': 1, 'os': 1, 'counteragent': 1, 'autenticitat': 2, 'obres': 33, 'negada': 2, 'h': 17, 'wethey': 2, 'acceptada': 2, 'august': 3, 'mayer': 2, 'j': 7, 'camón': 2, 'aznar': 2, 'obra': 22, 'etapes': 7, '97': 3, 'quilòmetres': 9, 'desnivell': 2, 'acumulat': 4, 'esperen': 3, 'bikers': 1, 'aficionats': 1, 'arriba': 10, '920': 1, 'quals': 13, 'km': 17, 'cursa': 6, 'votacions': 2, 'diumenge': 20, 'deu': 17, 'set': 30, 'nit': 11, '14': 24, 'intoxicats': 2, 'matalàs': 1, 'establert': 5, 'servei': 25, 'alternatiu': 6, 'encaminaran': 1, 'trens': 12, 'alta': 10, '1770': 2, 'potser': 3, 'eren': 16, '200': 16, 'individus': 1, 'mil': 4, '1800': 1, 'baixaren': 1, '1880': 4, '100': 11, 'cens': 4, '1700': 1, 'foren': 6, 'reduïts': 1, '1850': 2, 'copa': 6, 'competició': 9, 'organitza': 1, 'quatre': 49, 'federació': 6, 'associació': 12, 'prestigiosa': 3, 'world': 4, 'cup': 29, 'celebrada': 1, 'tanquen': 2, 'acord': 14, 'coalició': 3, 'país': 11, 'alonso': 1, 'llista': 7, 'comparteixen': 3, 'candidatura': 6, 'motorista': 6, 'implicat': 4, 'mortal': 8, 'calonge': 2, 'donar': 5, 'positiu': 3, 'control': 14, 'alcoholèmia': 7, 'sils': 1, 'glaça': 2, 'habitualment': 3, 'finals': 13, 'abril': 16, 'generalment': 8, 'començaments': 2, 'xvi': 3, 'batllius': 4, 'convertir': 2, 'presidencials': 3, 'enric': 4, 'disposem': 2, 'selecta': 1, 'extensa': 3, 'carta': 3, 'vins': 9, 'caves': 1, 'imbecilitat': 1, 'mal': 5, 'bé': 21, 'pot': 36, 'saspers': 1, 'ocupar': 6, 'còlquida': 2, 'egrissi': 2, 'apoderen': 1, 'esmentat': 1, 'depenent': 3, 'escriu': 3, 'escriure': 6, 'accent': 4, 'jordà': 1, 'novament': 7, 'accions': 1, 'conjuntes': 1, 'pal': 2, 'liar': 1, 'preus': 13, 'up': 1, 'exigeix': 8, 'intercedeixi': 1, 'ce': 1, 'aturar': 5, 'recordar': 1, 'contrasenya': 2, 'siusplau': 1, 'introdueixi': 1, 'email': 7, 'rebre': 16, 'correu': 5, 'electrònic': 7, 'instruccions': 2, 'seguir': 2, 'introdueix': 1, 'teu': 10, 'enviarem': 1, 'teva': 2, 'perú': 2, 'equador': 4, 'detenen': 24, 'ajudar': 4, 'fugir': 6, 'arresten': 1, 'còmplice': 1, 'lladre': 6, 'sucursal': 1, 'resultat': 6, 'arnau': 1, 'vilanova': 6, 'lesions': 2, 'gravetat': 4, 'menor': 5, 'fulles': 2, 'pinnaticompostes': 1, 'x': 11, '0': 15, 'cm': 6, 'pecíol': 1, 'alat': 1, 'folíols': 1, 'nombrosos': 10, 'pètalsblancs': 1, 'fruit': 3, 'mm': 6, 'pèls': 2, 'claviformes': 1, 'fruits': 1, 'núcules': 1, 'lipsoides': 1, 'reticulades': 1, 'glàndules': 3, 'esferoïdals': 1, 'àpex': 1, 'corbs': 1, 'castany': 1, 'adjudicades': 2, '800': 7, 'ciclista': 12, 'unirà': 1, 'breda': 2, 'estació': 19, 'tren': 12, 'riells': 2, 'viabrea': 2, 'invertirà': 2, '931': 1, 'carril': 1, 'bici': 1, 'scorpaena': 1, 'petricola': 1, 'peix': 7, 'pertanyent': 2, 'família': 41, 'escorpènids': 1, 'euphorbia': 1, 'ingens': 1, 'fanerògama': 1, 'suculenta': 1, 'euforbiàcies': 1, 'activitat': 6, 'gratuïta': 5, 'adreçada': 2, 'interessat': 1, 'familiar': 4, 'icònic': 1, 'protagonista': 1, 'juràssic': 1, 'rebrà': 3, 'premi': 37, 'honorífic': 2, 'festival': 34, 'sitges': 8, 'actor': 6, 'christopher': 1, 'walken': 1, 'camioner': 2, 'jonquera': 5, 'quilos': 9, 'marihuana': 13, 'camuflats': 1, 'patates': 4, 'portava': 4, '267': 1, 'kg': 2, 'amagats': 2, 'aport': 1, 'energia': 10, 'freqüència': 6, 'determinada': 1, 'taxa': 21, 'absorció': 3, 'quantitat': 7, 'absorbida': 2, 'dependrà': 1, 'situada': 23, 'cementiri': 6, 'detecten': 2, 'niu': 2, 'vespa': 2, 'asiàtica': 2, 'aprendre': 2, 'detectar': 2, 'sextant': 1, 'grans': 15, 'distàncies': 1, 'permet': 1, 'mesurar': 4, 'angle': 4, 'punts': 21, 'respecte': 12, 'observador': 1, 'ara': 19, 'horitzó': 1, 'estrella': 7, 'visió': 3, 'horitzontal': 1, 'diagonal': 1, 'ryanair': 1, 'enllaçarà': 1, 'reus': 11, 'polonesa': 1, 'gdansk': 1, 'temporada': 20, 'inicia': 3, '37': 3, 'rutes': 1, 'considerat': 7, 'creadors': 1, 'peplum': 1, 'fundadors': 1, 'cienciometria': 1, 'galeria': 4, 'mayoral': 2, 'aproxima': 1, 'postguerra': 1, 'exposició': 7, 'rebel': 4, 'lia': 1, 'consciència': 1, 'inaugura': 2, 'josé': 3, 'guerrero': 1, 'influència': 1, 'eua': 4, 'dedicada': 8, 'artista': 8, 'granadí': 1, 'incorporà': 1, 'corona': 2, 'francesa': 2, '1663': 1, '1675': 2, 'celaá': 1, 'acusi': 1, 'voler': 1, 'criminalitzar': 1, 'democristià': 2, 'voluntat': 3, 'tard': 8, 'participà': 3, 'acabà': 4, 'vuitena': 2, 'olimpíades': 2, '92': 2, 'formà': 1, '1992': 4, 'dotat': 3, 'inclou': 7, 'publicació': 3, 'guardó': 4, '250': 3, 'edicions': 2, 'intoxicat': 2, 'cuina': 14, 'vendrell': 4, 'ferit': 15, 'gelida': 1, 'greu': 18, 'ull': 3, 'robatori': 4, 'noi': 2, 'estranger': 2, 'avaria': 7, 'interromp': 1, 'circulació': 8, 'estacions': 4, 'maragall': 6, 'horta': 5, 'tallada': 5, 'figuera': 1, 'restes': 6, 'romànica': 3, 'enrunada': 1, 'tombetes': 1, 'escut': 2, 'aprovat': 8, '1987': 2, '889': 1, '1993': 6, '1798': 1, 'ampliació': 6, 'cartipàs': 1, 'elevarà': 1, 'ple': 29, 'ajuntament': 29, 'simplici': 1, 'recollir': 5, 'teofrast': 1, 'arquelau': 1, 'era': 54, 'nadiu': 1, 'atenes': 1, 'mentre': 30, 'diògenes': 2, 'laerci': 2, 'diu': 28, 'milet': 2, 'deixeble': 3, 'anaximandre': 1, '33': 3, 'jornades': 6, 'perdia': 2, 'casa': 33, 'lliga': 13, 'acb': 1, 'sis': 23, 'cadena': 6, 'pública': 8, 'radio': 1, 'coexisteix': 1, 'privada': 5, 'valira': 1, 'preestrena': 2, 'àlbum': 7, 'digital': 4, 'streaming': 2, 'cant': 3, 'ocells': 2, 'youtube': 1, 'interpretació': 1, 'disc': 8, 'palmarès': 2, 'destaquen': 3, 'medalles': 4, 'campionat': 11, 'europa': 21, 'rem': 1, '1926': 1, '1929': 2, 'món': 17, 'cromosoma': 1, 'cinetocors': 1, 'centròmer': 1, 'cromàtida': 2, 'germana': 3, 'lels': 1, 'gen': 1, 'locus': 1, 'idèntics': 1, 'lel': 4, 'heretat': 1, 'progenitor': 1, 'diferent': 3, 'antígon': 2, 'iii': 6, 'dosó': 1, 'macedònia': 4, 'filip': 1, 'v': 6, 'fíties': 1, 'vídua': 1, 'demetri': 1, 'gònates': 1, 'berenice': 1, 'esposa': 2, 'alexandre': 1, 'epir': 2, 'saltadores': 2, 'realitzen': 4, 'salts': 2, 'lliures': 3, 'obligatoris': 1, 'dissabte': 15, 'ateneu': 4, 'tindrem': 1, 'cicle': 6, 'trobades': 2, 'crítiques': 6, 'ciència': 6, '19h': 4, 'finalitzarà': 1, 'cloenda': 1, 'aforament': 2, 'bars': 1, 'restaurants': 4, 'queda': 11, 'limitat': 1, '50': 9, 'culturals': 4, '70': 9, 'religiosos': 1, 'equip': 18, 'sènior': 2, 'femení': 4, 'aconseguia': 1, 'ascens': 3, 'divisió': 8, 'quedar': 7, 'subcampió': 1, '1976': 4, '77': 4, 'aconseguir': 12, 'categoria': 5, 'participar': 12, 'absolut': 1, '1885': 2, '1888': 2, '1890': 1, 'cercle': 2, 'artístic': 1, '1894': 4, 'esdevingué': 2, 'acadèmic': 2, 'belles': 4, 'arts': 11, 'alacant': 4, '1900': 2, 'vicepresident': 2, 'orfeó': 3, 'usted': 2, 'colectivo': 2, 'programació': 5, 'poesia': 6, 'heliogàbal': 2, 'tardoral': 1, 'adverteix': 3, 'provar': 2, 'investir': 2, 'acusa': 4, 'fonaments': 1, 'democràcia': 3, 'xifra': 13, 'negoci': 5, 'empresarial': 3, '25': 24, 'organisme': 2, 'encarregant': 1, 'insular': 3, 'eivissa': 4, 'formentera': 2, 'reunió': 9, 'kevin': 1, 'spraggett': 1, 'montreal': 1, 'començar': 13, 'jugar': 6, 'escacs': 2, 'edat': 6, 'finques': 1, 'algaiarens': 1, 'torrevella': 1, 'son': 8, 'squella': 1, 'binisegarra': 1, 'alaior': 1, 'salomó': 1, 'sa': 5, 'font': 8, 'hort': 1, 'vall': 8, 'confrontava': 1, 'possessions': 1, 'ferretjans': 1, 'talaia': 1, 'cortada': 1, 'païssa': 1, 'mesquida': 1, 'justícia': 5, 'dret': 24, 'privilegi': 2, 'educació': 11, 'avui': 18, 'podreu': 6, 'paramount': 1, 'channel': 1, '00': 8, 'nicolas': 1, 'winding': 1, 'refn': 1, '27': 13, 'lasexta': 1, 'tim': 1, 'burton': 1, 'qual': 7, 'nivell': 13, '2015': 24, 'autonòmiques': 1, 'elegit': 9, 'procurador': 1, 'autonòmic': 2, 'popular': 9, 'diputat': 11, 'constantinoble': 2, '750': 3, 'matrimoni': 2, '1990': 3, 'reina': 6, 'elisabet': 4, 'baró': 1, 'clinton': 1, 'davis': 2, '1998': 4, 'cavaller': 2, 'tribu': 5, 'classificada': 2, 'subtribu': 1, 'ophiusina': 1, 'catocalinae': 1, 'noctuidae': 2, 'hypeninae': 1, 'gestió': 9, 'disseny': 16, 'innovació': 5, 'projectes': 5, 'especialitzats': 2, 'àmbit': 7, 'retail': 2, 'hoteleria': 2, 'restauració': 5, 'gestionar': 1, 'deixar': 14, 'camí': 8, 'esquerra': 16, 'ample': 3, 'cadireta': 1, 'foradada': 1, 'girem': 2, 'caminet': 1, 'estret': 1, 'pista': 12, 'euga': 1, 'exportacions': 5, 'estanquen': 1, 'dired': 1, 'programari': 6, 'fitxers': 1, 'oposat': 1, 'propietat': 1, 'desarticulat': 1, 'organitzat': 4, 'dedicava': 1, 'cultiu': 1, 'intensiu': 1, 'venda': 7, 'cocaïna': 6, 'vallès': 11, 'desarticulen': 3, 'adulterava': 1, 'distribuïa': 1, 'claustre': 1, 'udg': 2, 'aprova': 14, 'avaluació': 2, 'estudiants': 6, 'puguin': 3, 'manifestacions': 1, 'manifestar': 2, 'autor': 7, 'llumí': 1, 'restaurant': 1, 'resolta': 1, 'abonats': 2, 'llum': 3, 'districte': 16, 'sants': 13, 'montjuïc': 10, 'subministrament': 5, 'divuit': 2, 'morts': 10, 'eleven': 3, 'defuncions': 6, 'demarcació': 13, 'dotze': 5, 'noves': 8, '53': 1, 'renau': 1, 'inclòs': 4, 'inventari': 11, 'patrimoni': 12, 'arquitectònic': 11, 'roser': 3, 'vilallonga': 1, 'inclosa': 11, 'inscripcions': 7, 'marxa': 6, 'violència': 14, 'celebra': 8, 'continuen': 6, 'obertes': 5, 'segueixen': 3, 'pròxim': 6, 'destacar': 5, 'cinases': 1, 'tenen': 18, 'paper': 5, 'rellevant': 1, 'processos': 4, 'lular': 1, 'aquestes': 17, 'juguen': 1, 'clau': 4, 'regulació': 2, 'molts': 6, 'lulars': 2, 'biblioteca': 10, 'correspondència': 2, 'lluís': 12, 'espadaler': 1, 'manuscrits': 1, 'escriptor': 2, 'recurs': 11, 'inconstitucionalitat': 1, 'aprovarà': 3, 'resistir': 3, 'setge': 4, 'suec': 2, 'guerra': 34, '1718': 1, '1656': 2, 'neidenburg': 1, 'guerres': 3, 'llançada': 2, 'japó': 13, '20': 23, '1985': 3, 'protesta': 9, 'netejadores': 2, 'demanar': 9, 'readmissió': 1, 'treballadores': 2, 'acomiadades': 2, 'readmeten': 1, 'treballadors': 18, 'tenir': 19, 'discapacitat': 3, 'estan': 18, 'obligades': 1, '566': 1, 'vots': 11, 'abstenció': 5, 'abstencions': 1, 'purines': 1, 'compostos': 1, 'orgànics': 2, 'bicíclics': 1, 'formats': 1, 'anells': 2, 'benzè': 1, 'comuns': 6, 'composts': 1, 'buscant': 3, 'apunyalar': 3, 'vigilants': 1, 'agredir': 6, 'causar': 2, 'traumatismes': 1, 'navas': 1, 'lassa': 2, 'lidera': 2, 'empatat': 1, 'elpozo': 1, 'lnfs': 1, 'disputades': 1, 'perdut': 3, 'semifinals': 1, 'intercontinental': 1, 'tritura': 1, 'avellanes': 1, 'barreja': 2, 'bol': 4, 'ingredients': 3, 'secs': 2, 'farina': 6, 'llevat': 5, 'canyella': 1, 'romaní': 1, 'julivert': 2, 'tija': 1, 'locar': 4, 'cibulet': 1, 'utilitzar': 10, 'trossos': 9, 'anxova': 1, 'tallar': 5, 'pebrots': 1, 'piquillo': 1, 'los': 11, 'flor': 1, 'vint': 2, 'teatre': 18, 'assaig': 1, 'diverses': 13, 'llengües': 5, 'escrit': 1, 'novel': 14, 'relats': 1, 'periodístics': 3, 'traduït': 3, 'idiomes': 1, 'helicòpters': 1, 'extingir': 2, 'foc': 24, 'podria': 4, 'ningú': 5, 'químio': 1, 'vaig': 18, 'fet': 9, 'brian': 1, 'persona': 7, 'romànic': 3, 'nau': 8, 'absis': 8, 'cimbori': 1, 'consta': 8, 'transsepte': 1, 'semicirculars': 2, 'passà': 3, 'bàndol': 1, 'franquista': 4, 'combaté': 1, 'terç': 6, 'nostra': 8, 'senyora': 2, 'montserrat': 7, 'civil': 35, 'voluntari': 1, 'requetès': 1, 'esquiadors': 3, 'exèrcit': 11, 'francesc': 9, 'sicílies': 2, 'morí': 3, 'tirolesa': 2, 'arco': 2, 'sm': 1, 'nàpols': 3, '1836': 3, 'mort': 18, 'resposta': 7, 'pueyrredón': 1, 'enviar': 2, 'fi': 7, '1818': 1, '5000': 1, 'homes': 17, 'comandament': 2, 'ramón': 2, 'balcarce': 2, 'rosas': 1, 'ajuda': 6, 'porteny': 1, 'general': 24, 'profunditat': 3, 'compresa': 1, '900': 3, 'altitud': 5, 'obrirem': 1, 'musclos': 1, 'petxines': 1, 'vi': 9, 'reservarem': 1, 'estigui': 10, 'dauradeta': 1, 'tallats': 5, 'castanyes': 1, 'trossets': 1, 'carxofes': 1, 'farcides': 1, 'aigua': 40, 'acondrites': 4, 'primitives': 2, 'lodranites': 1, 'semblances': 1, 'condrites': 2, 'winonaites': 1, 'simil': 1, 'lituds': 1, 'editar': 2, 'compondre': 6, 'àlbums': 3, 'musicals': 5, 'contenen': 3, 'peces': 7, 'orque': 1, 'corals': 3, 'harmonitzacions': 1, 'tonades': 1, 'populars': 4, 'incloent': 7, 'orquestrals': 1, 'valsos': 1, 'cançons': 4, 'sacres': 1, 'batem': 2, 'rovells': 2, 'gr': 2, 'sucre': 6, 'queden': 4, 'consistència': 1, 'cremosa': 1, 'quedi': 1, 'pasta': 4, 'blanca': 13, 'espessa': 1, 'ajudanta': 5, 'direcció': 15, 'judith': 1, 'pujol': 2, 'vestuari': 2, 'albadalejo': 1, 'escenografia': 2, 'judit': 2, 'colomer': 1, 'ajudant': 1, 'edició': 24, 'vídeo': 1, 'xavier': 4, 'martínez': 6, 'soler': 1, 'irene': 1, 'marian': 1, 'garcía': 2, 'habitacions': 1, 'dobles': 2, 'bany': 6, 'menjador': 3, 'vistes': 2, 'disposa': 4, 'balcó': 6, 'independent': 1, 'dormitoris': 1, 'dutxa': 1, 'sens': 2, 'dubte': 6, 'tu': 3, 'jugà': 5, '1978': 1, 'guanyant': 2, 'campionats': 6, 'principals': 4, 'títols': 2, 'guanyà': 4, '2007': 11, '783': 1, 'habitatges': 8, '716': 2, 'principal': 20, 'segones': 6, 'residències': 8, '44': 3, 'estaven': 5, 'desocupats': 4, '547': 1, '516': 1, 'triomf': 2, 'pirineus': 3, 'tancat': 7, 'camps': 7, 'concentració': 3, 'barcarès': 2, 'argelers': 2, '1939': 4, 'creuà': 1, 'internat': 1, 'compromet': 6, 'desencallar': 2, 'vila': 10, 'rodona': 1, 'ensenyament': 5, 'vilafant': 1, 'redactar': 1, 'institut': 11, 'françois': 1, 'guichard': 1, 'le': 1, 'mans': 5, '1745': 2, '1807': 1, 'compositor': 4, 'guitarrista': 1, 'cantant': 2, 'eclesiàstic': 1, 'pierre': 2, 'berton': 1, '1727': 1, '1780': 1, 'concert': 14, 'freedom': 1, 'tindrà': 15, 'comptarà': 2, 'participació': 5, 'coral': 3, 'rihanna': 1, 'oferirà': 4, 'jxcat': 24, 'sànchez': 2, 'confia': 2, 'suprem': 16, 'permetrà': 2, 'assisteixi': 1, 'torrent': 5, 'presidir': 1, 'convocar': 2, 'encara': 19, 'destinat': 1, 'xina': 12, 'birmània': 2, 'navegues': 1, 'estaràs': 2, 'acceptant': 2, 'cookies': 5, 'continues': 1, 'navegant': 1, 'pàgina': 2, 'fem': 7, 'prepara': 2, 'crispat': 1, 'censura': 6, 'disposat': 1, 'performance': 1, 'reivindicativa': 2, 'masclista': 7, 'patriarcat': 1, 'divendres': 24, 'moment': 10, 'emocions': 2, 'riures': 1, 'plors': 1, 'acte': 5, 'magnífic': 1, 'rialles': 1, 'txeca': 2, 'títol': 10, 'dissolució': 4, 'txecoslovàquia': 2, 'ambdós': 1, 'consecutius': 2, 'declarat': 3, 'interès': 8, 'pnin': 1, 'declarats': 1, 'festa': 15, 'tradicional': 7, 'pugen': 8, 'macrooperatiu': 1, 'narcopisos': 2, 'raval': 5, 'urbana': 8, 'risc': 7, 'simplement': 1, 'córrer': 1, 'permetre': 2, 'busques': 2, 'dige': 1, 'ns': 2, 'intentarem': 1, 'internet': 1, 'trobes': 4, 'proposen': 2, 'fons': 15, '500': 16, 'rellançar': 2, 'economia': 14, 'ecologistes': 3, 'europeus': 3, 'bilions': 1, 'basat': 3, 'transferències': 1, 'sotabosc': 2, 'matolls': 1, 'zones': 10, 'arbustives': 1, 'caixmir': 1, 'habita': 7, 'boscos': 11, 'pins': 3, 'himàlaia': 2, 'nepal': 1, 'bhutan': 1, 'tibet': 1, 'arrimadas': 1, 'acordat': 3, 'així': 14, 'colau': 3, 'comín': 3, 'exemplar': 1, 'centenari': 3, 'genuïna': 1, 'curvatura': 1, 'terrenys': 3, 'superfície': 9, '99': 3, '183': 1, 'quadrats': 10, 'comú': 11, 'trenca': 3, 'governarà': 2, 'solitari': 2, 'asens': 1, 'bcomú': 6, 'arcturus': 1, 'magnitud': 1, '01': 5, 'brillant': 3, 'nocturn': 4, 'sírius': 1, 'vista': 4, 'terra': 7, 'ascendit': 1, 'rang': 2, 'brigada': 2, 'arribar': 12, 'tinent': 4, 'llet': 4, 'olla': 2, 'comenci': 3, 'bullir': 4, 'espinacs': 1, 'galets': 1, 'bullin': 1, 'mica': 12, '1942': 5, 'retornà': 2, '1937': 3, 'espera': 5, 'nuvolositat': 2, 'variable': 3, 'problema': 4, 'falta': 7, 'institucions': 4, 'efectivitat': 1, 'tercer': 18, 'trimestre': 14, 'crear': 7, 'treball': 12, 'crea': 3, 'epa': 1, '1508': 2, 'pere': 10, 'moliner': 3, 'senyor': 4, 'efectiu': 7, 'baronia': 5, 'granadella': 2, 'fill': 17, 'kentucky': 2, 'tennessee': 2, 'virgínia': 1, 'geòrgia': 3, 'alabama': 1, 'treballador': 6, 'robar': 11, 'recanvi': 1, 'andreu': 6, 'barca': 4, 'reciclatge': 1, 'enxampar': 4, 'actuacions': 7, 'inspecció': 1, 'embarcacions': 1, 'detenir': 3, 'alcohol': 6, 'afecta': 5, 'directament': 3, 'membranes': 1, 'neurotransmissors': 1, 'nerviós': 2, 'central': 16, 'snc': 1, 'actuant': 1, 'depressor': 2, 'lalfaxolona': 1, 'neuroesteroide': 1, 'potencia': 1, 'gaba': 1, 'veurem': 4, 'depara': 2, 'anem': 5, 'hagut': 8, '005': 1, 'ingressades': 3, 'mateixa': 8, 'ahir': 3, 'actualment': 14, '245': 1, '238': 1, 'ingressats': 5, '65': 3, 'últim': 3, 'balanç': 1, 'mira': 2, 'he': 12, 'malparit': 2, 'bon': 7, 'tipus': 6, 'sóc': 3, 'semblava': 1, 'jo': 14, 'coneixia': 1, 'lloguer': 8, 'situa': 7, '949': 1, 'creix': 7, '786': 1, 'mensuals': 2, 'desllorigador': 1, 'opcionalment': 1, 'acoblar': 1, 'altaveu': 3, 'extern': 2, 'watts': 1, 'terminal': 1, 'estèreo': 2, 'connector': 1, 'auriculars': 1, 'lluèrnia': 2, 'olot': 9, '45': 13, 'propostes': 7, 'itinerants': 1, 'escaldarium': 1, 'espectacular': 2, 'música': 16, 'acava': 1, 'josep': 18, 'pou': 2, 'honor': 10, 'ix': 2, 'gala': 4, 'premis': 13, 'dirigida': 5, 'danés': 1, 'gaudí': 5, 'mullem': 2, 'brou': 4, 'gambes': 1, 'actual': 7, 'ruïnes': 2, 'romanes': 2, 'visibles': 2, 'algunes': 11, 'excavacions': 2, 'volta': 9, '2014': 11, '94a': 1, '2010': 17, '90a': 1, 'robert': 5, 'oppenheimer': 1, 'peters': 1, 'completar': 1, 'doctorat': 5, 'física': 2, 'goudsmit': 1, 'obtenir': 11, 'universitat': 27, 'leiden': 1, 'paul': 1, 'ehrenfest': 1, '1927': 5, 'gaujac': 1, 'gaujacq': 1, 'landes': 1, 'xaintray': 1, 'deux': 1, 'sèvres': 1, 'som': 5, 'independentistes': 13, 'compartim': 1, 'sediciosos': 1, 'espanyolista': 1, 'disputar': 2, '04': 2, '05': 2, 'debuta': 2, 'bronx': 1, 'comtat': 4, 'york': 9, 'districtes': 2, 'metropolitans': 2, 'borough': 1, 'boroughs': 1, 'cultivar': 4, '740': 1, 'masia': 7, 'garrotxa': 2, 'unes': 17, 'baix': 10, 'empordà': 6, 'lesguians': 1, 'poder': 8, 'romandre': 1, 'independents': 5, 'hamdànides': 1, 'governadors': 1, 'cambra': 5, 'decret': 8, 'agràries': 2, 'crèdits': 1, 'moratòria': 1, 'cotitzacions': 1, 'pendents': 3, 'climatologia': 1, 'pont': 6, 'puríssima': 1, 'bones': 2, 'previsions': 1, 'benedicció': 2, '1788': 1, '1711': 1, 'bisbes': 3, 'conferència': 4, 'episcopal': 2, 'tarraconense': 2, 'aproven': 2, 'comissió': 21, 'interdiocesana': 2, 'apostolat': 1, 'seglar': 1, 'litúrgia': 1, 'professor': 12, 'guildhall': 1, 'school': 4, 'reial': 4, 'acadèmia': 4, 'londres': 8, 'legi': 6, 'gildhall': 1, 'conjunt': 18, 'monumental': 1, 'rectoria': 4, 'torres': 7, 'cilíndriques': 2, 'fals': 3, 'completen': 4, 'adossada': 3, 'torre': 9, 'cilíndrica': 1, 'turó': 3, 'vendes': 8, 'superfícies': 3, 'adults': 4, 'viuen': 6, 'emergeixen': 1, 'tocant': 1, 'pavelétskaia': 1, 'felip': 4, 'evreux': 1, 'joana': 1, 'succeí': 1, 'tron': 2, 'navarrès': 2, '1349': 1, 'sanç': 4, 'urraca': 1, 'succeir': 3, 'pare': 8, '994': 1, 'google': 6, 'analytics': 2, 'analítica': 1, 'prestat': 1, 'inc': 2, 'anàlisi': 4, 'votació': 6, 'calendari': 6, 'catalanes': 13, 'telemàticament': 2, 'presentarà': 4, 'europees': 2, 'angolesa': 1, 'futbolística': 4, 'eliminatòries': 2, 'angola': 3, 'sèrbia': 3, 'varietat': 3, 'hàbitats': 3, 'desèrtiques': 1, 'semiàrides': 1, 'herbassars': 2, 'àrids': 4, 'costaners': 2, 'humits': 1, 'montans': 1, 'muntanyosos': 1, 'matollars': 2, 'deserts': 1, 'campanar': 10, 'bastit': 2, 'primitiva': 3, 'espadanya': 2, 'aixeca': 4, 'senzilla': 4, 'salpebra': 1, 'aromatitza': 1, 'raig': 2, 'licor': 1, 'anisat': 1, 'decora': 1, 'cues': 1, 'gambots': 1, 'rodanxes': 1, 'daus': 2, 'pa': 2, 'torrat': 3, 'prepareu': 1, 'sofregit': 2, 'ceba': 5, 'cansalada': 1, 'aboqueu': 2, 'lo': 13, 'ratllades': 1, 'xvii': 5, 'ampliada': 1, 'estil': 9, 'neogòtic': 1, '1897': 2, 'medieval': 2, 'refeta': 1, '1831': 3, 'neoclàssic': 1, 'passada': 3, '79': 2, 'espectadors': 6, 'strenes': 1, 'vedelha': 2, 'occità': 3, 'occitània': 7, 'arieja': 2, 'balacet': 1, 'montoro': 4, 'hauran': 5, 'complir': 4, 'dèficit': 4, 'recursos': 7, 'destinin': 1, 'reduir': 4, 'pde': 2, 'eleva': 2, 'simbolisme': 1, 'europeista': 1, 'xerta': 3, 'celebrarà': 9, 'divuitena': 1, 'piraguada': 1, 'anuncià': 1, 'nintendo': 2, 'selects': 1, 'seria': 2, 'expandida': 1, 'inclouria': 1, 'joc': 12, 'new': 1, 'super': 3, 'bros': 2, 'paquet': 1, 'kart': 1, 'deluxe': 1, 'us': 16, 'premium': 1, 'ww': 1, 'amèrica': 6, 'apunta': 3, '2022': 1, 'atur': 4, 'bbva': 6, 'preveu': 6, '215': 2, 'vinent': 7, 'oficialitat': 1, 'claudicació': 1, 'temps': 13, 'pilota': 3, 'domini': 2, 'accentuar': 1, 'ocasions': 2, 'posava': 2, 'xarxa': 12, 'caçadors': 3, 'furtius': 2, 'professionals': 1, 'pescadors': 2, 'noguera': 5, 'urgell': 9, 'sardà': 1, 'dexeus': 1, 'econòmica': 11, 'economistes': 3, 'nomena': 3, 'oliver': 1, 'legiat': 1, 'mèrit': 1, '96': 1, '103': 1, '60': 5, 'coneixem': 1, 'dades': 14, 'cronològiques': 1, 'molí': 3, 'obstant': 5, 'constructives': 1, 'permetin': 1, 'ubicar': 1, 'cronològicament': 1, 'massip': 1, 'modernista': 5, 'argentona': 3, 'maresme': 6, 'barnolas': 1, 'passatger': 1, 'agredeix': 2, 'roba': 3, 'bus': 2, 'vehicle': 10, 'xoca': 1, 'mercaderies': 3, 'confisquen': 1, 'importants': 3, 'quantitats': 2, 'diners': 6, 'vehicles': 10, 'rellotges': 2, 'gamma': 3, 'intervenen': 2, 'droga': 1, 'estris': 1, 'pesatge': 1, 'regions': 3, 'passin': 2, 'fase': 12, 'salut': 16, 'demanarà': 2, 'aran': 4, 'enxampen': 4, 'fent': 12, 'pintades': 3, 'vagó': 1, 'aturat': 4, 'denunciat': 8, 'pintar': 1, 'esprai': 5, 'algú': 3, 'te': 1, 'lució': 2, 'adient': 1, 'aviat': 6, 'tossa': 1, 'certificat': 8, 'biosphere': 2, 'destination': 2, 'sostenible': 4, 'llavors': 4, 'dictador': 2, 'declarar': 20, 'culpable': 3, 'oferir': 5, 'regal': 2, 'roma': 2, 'magister': 1, 'equitum': 1, 'condemnat': 1, 'provocatio': 1, 'ad': 2, 'populum': 1, 'desemmotllem': 1, 'deixem': 8, 'refredat': 1, 'reixeta': 2, 'desemotllem': 1, 'refredar': 1, 'paredat': 2, 'acabats': 3, 'arrebossat': 3, 'grossers': 1, 'deltebre': 3, 'ambulàncies': 8, 'emergències': 11, 'mèdiques': 8, 'mares': 3, 'pares': 4, 'famílies': 6, 'primogènit': 3, 'germans': 3, 'germanes': 1, 'quin': 5, 'perfil': 2, 'votant': 1, 'taronja': 2, 'hauria': 7, 'sindicat': 4, 'llogateres': 1, 'lloguers': 1, 'llogaters': 3, 'catecp': 2, 'volen': 3, 'reunir': 3, 'proposició': 3, 'llei': 14, 'afectat': 10, 'transbordat': 2, 'comboi': 3, 'nuclear': 2, 'auditors': 2, 'anav': 1, 'desenvolupament': 2, 'simulacre': 2, 'escenaris': 2, 'hipotètics': 2, 'organització': 8, 'vandellòs': 1, 'controls': 4, 'policials': 10, 'poca': 2, 'afluència': 1, 'gent': 6, 'laborable': 2, 'alarma': 5, 'pocs': 3, 'vianants': 1, 'investiga': 8, 'causes': 5, 'continua': 14, 'investigant': 1, 'triangle': 2, 'creguda': 1, 'histriònica': 1, 'marceline': 1, 'aca': 6, 'desbrossa': 1, 'llera': 2, 'riera': 1, 'argençola': 1, 'garantir': 6, 'neteja': 3, 'ridaura': 1, 'aro': 4, 'laboral': 5, '43': 7, 'mina': 1, 'súria': 2, 'resulta': 1, 'moià': 6, 'dimissió': 4, 'testimoni': 4, 'trama': 2, 'gürtel': 4, 'banqueta': 1, 'començat': 11, 'estofat': 1, 'xai': 2, 'acabat': 1, 'forn': 1, 'hem': 12, 'truita': 1, 'llard': 1, 'havien': 7, 'desmantellat': 1, 'plantació': 2, 'desmantellen': 1, 'badalona': 7, 'descrit': 2, 'britton': 1, 'rose': 1, 'standard': 1, 'cyclopedia': 1, 'of': 4, 'horticulture': 1, '1432': 1, 'brown': 3, 'asclepiadeae': 1, '1206': 2, 'muizz': 1, 'din': 3, 'assassinat': 4, 'sicari': 2, 'ismaïlita': 2, 'indus': 2, 'campanya': 10, 'khokars': 2, 'panjab': 2, 'esmentada': 1, 'terrestres': 4, 'aèries': 1, 'vegetació': 8, 'agrícola': 6, 'fruitós': 2, 'bages': 6, 'mitjans': 5, 'biosca': 1, 'reis': 4, 'igualada': 7, 'cultural': 13, 'declarada': 3, 'patrimonial': 1, '2016': 17, 'barcelonesa': 2, 'amics': 5, 'secció': 5, 'ciències': 7, 'morals': 1, 'polítiques': 12, 'barcelonès': 3, 'lletres': 3, 'abandonat': 2, 'dècada': 2, 'hotel': 7, 'restaurat': 3, 'principis': 12, '80': 7, 'reintroducció': 1, 'amfibi': 3, 'extinció': 7, 'rapinyaire': 1, 'tirar': 2, 'endavant': 8, 'favor': 12, 'oposició': 5, 'norma': 1, 'sent': 10, 'loba': 1, 'saint': 4, 'loube': 1, 'gers': 4, 'tegrà': 1, 'thégra': 1, '1940': 3, '1953': 3, 'substitució': 4, 'datava': 1, '1596': 3, 'darrera': 1, '1886': 1, '1887': 2, 'temperatures': 1, 'hivern': 5, 'compliquen': 1, 'esquí': 5, 'comte': 2, 'temporal': 6, 'salva': 1, 'circulava': 3, 'begut': 4, 'drogat': 2, 'provocar': 5, 'frontal': 11, '55': 4, 'bàscara': 2, 'conduïa': 1, 'càrnia': 1, 'garrotxina': 1, 'contracta': 2, '125': 2, 'compra': 6, 'ampliar': 2, 'sentmenat': 1, 'adjacents': 1, 'augmentar': 4, 'condemna': 2, 'expressa': 2, 'solidaritat': 6, 'qualifica': 3, 'antidemocràtic': 1, 'inacceptable': 1, 'inscrit': 1, 'cnmc': 1, 'mercats': 1, 'competència': 3, 'consumidor': 2, 'austràlia': 6, 'accc': 1, 'administra': 1, 'proporcionar': 1, 'verdaderes': 2, 'correctes': 1, 'completes': 2, 'actuals': 3, 'emplenar': 1, 'formularis': 1, 'exactes': 1, 'decau': 1, 'homrani': 3, 'covid': 13, 'empats': 1, 'empat': 3, 'antiguitat': 1, 'clàssica': 3, 'clàssics': 2, 'antics': 1, 'madrid': 15, 'capdavant': 4, 'contagis': 4, '649': 1, 'últims': 8, '512': 2, 'coneix': 1, 'exclusivament': 2, 'cognom': 2, 'ehrenstrahl': 1, 'bismil': 1, 'voleu': 7, 'coneixer': 1, 'tota': 11, 'clikeu': 1, 'links': 2, 'consulteu': 2, 'tríptics': 1, 'tríptic1': 1, 'tríptic2': 1, 'cursos': 7, 'anteriors': 2, 'caldrà': 1, 'mireu': 1, 'següents': 5, 'interessi': 1, 'flanquejat': 2, 'obertures': 20, 'bastant': 4, 'irrellevants': 2, 'respectivament': 3, 'totalment': 6, '1923': 3, 'ministre': 6, 'foment': 3, 'conseqüència': 4, 'proclamació': 2, 'primo': 2, 'rivera': 12, 'assemblea': 1, 'consultiva': 1, 'inverteix': 1, '570': 2, 'pantà': 2, 'darnius': 2, 'boadella': 2, '415': 1, 'georg': 2, 'friedrich': 2, 'händel': 2, 'basada': 1, 'poema': 2, 'tasso': 1, 'òpera': 3, 'rinaldo': 2, 'llibret': 1, 'giacomo': 1, 'rossi': 1, '1860': 3, 'població': 25, 'arkansas': 1, 'arribaba': 1, '435': 2, '450': 3, 'habitants': 22, '111': 3, '115': 3, 'esclaus': 2, '144': 2, '799': 1, 'residents': 3, 'ciutats': 4, 'memòria': 4, 'preliminar': 2, 'avantprojecte': 2, 'filmoteca': 1, 'addiccions': 1, 'roca': 6, 'cubelles': 4, 'llegint': 3, 'treia': 2, 'jaqueta': 3, 'fritz': 2, 'parat': 1, 'tampoc': 9, 'entendre': 4, 'aquella': 2, 'butlleta': 1, 'preguntant': 1, 'deia': 3, 'explicar': 3, 'capelles': 4, 'barroc': 1, 'tardà': 3, 'llombard': 1, 'compten': 1, 'penals': 3, 'arrestats': 2, 'acumulen': 1, 'quaranta': 1, 'aconseguit': 6, 'entrar': 3, 'trenqués': 1, 'vidre': 3, 'bat': 1, 'beisbol': 1, 'amenaçava': 1, 'lladres': 8, 'trencat': 3, 'persiana': 1, 'atrapar': 1, 'ne': 4, 'fugia': 1, 'símptomes': 3, 'clars': 1, 'rinitis': 1, 'conjuntivitis': 1, 'congestió': 1, 'nasal': 1, 'esternuts': 1, 'ulls': 3, 'irritats': 1, 'plorosos': 1, 'picor': 2, 'nas': 2, 'inaguantable': 1, 'asma': 1, 'irritació': 1, 'ocular': 1, 'juga': 6, 'diari': 5, 'periódico': 2, 'angoixada': 1, 'registra': 5, 'aturats': 4, 'encadena': 5, 'agència': 7, 'residus': 4, 'setantena': 2, 'ajuntaments': 1, 'utilització': 7, 'reciclats': 2, 'locals': 5, 'licitud': 4, 'defunció': 1, 'adreça': 3, 'electrònica': 3, 'protegint': 2, 'robots': 2, 'brossa': 2, 'naixement': 4, 'apel': 3, 'critica': 5, 'len': 1, 'liceu': 2, 'acull': 1, 'estrena': 3, 'teuzzone': 1, 'savall': 3, 'protagonitza': 2, 'espai': 12, 'centenar': 4, 'homenatgen': 1, 'companys': 4, 'natal': 2, 'tarròs': 2, 'commemoren': 2, 'afusellament': 1, 'llançà': 1, 'explotat': 1, 'petanca': 1, 'soldant': 1, 'garatge': 1, 'manipulava': 1, 'comptador': 1, 'ciu': 3, 'avalaran': 1, 'votarà': 4, 'ciutadans': 6, 'absté': 4, 'vota': 2, 'protegir': 4, 'imoinda': 1, 'violació': 2, 'submissió': 1, 'decidir': 5, 'forçar': 2, 'suïcidar': 2, 'amenaça': 3, 'motoserra': 1, 'matxet': 1, 'dimensions': 2, 'palafrugell': 4, 'intimidava': 1, 'ganivet': 1, 'identificat': 1, 'heryshaf': 1, 'mitologia': 3, 'egípcia': 2, 'lesfinx': 1, 'figura': 1, 'grega': 1, 'arxidiòcesi': 2, 'província': 27, 'colúmbia': 2, 'britànica': 6, 'canadà': 5, 'vancouver': 2, 'canadenca': 3, 'localitzada': 1, 'escolania': 1, 'tret': 5, 'femap': 2, 'cants': 1, 'danses': 1, 'llibre': 7, 'sanitària': 6, 'ebrenca': 2, 'confirmada': 1, 'donat': 5, 'pacient': 2, 'mortals': 1, 'xocar': 1, 'sarral': 1, 'barberà': 3, 'xoc': 10, 'gi': 1, '600': 8, 'tordera': 1, 'condemnen': 3, 'indemnitzar': 1, 'provocat': 6, 'porc': 4, 'senglar': 1, 'guanyar': 23, 'cançó': 4, 'eurovisió': 2, 'interpretant': 1, 'wild': 1, 'dances': 1, '280': 1, '529': 1, 'jutgessa': 2, 'campions': 2, 'ronda': 6, 'enfrontar': 1, 'roja': 7, 'belgrad': 2, 'posteriorment': 10, 'fitxà': 1, 'campió': 4, 'uefa': 1, '1991': 3, 'pedres': 5, 'rúniques': 2, 'södermanland': 1, 'narren': 1, 'viatges': 1, 'grècia': 4, 'östergötland': 1, 'esmenten': 1, 'mapes': 1, 'segles': 4, 'xx': 6, 'centrada': 1, 'histproador': 1, 'periodista': 5, 'reusenc': 2, 'gras': 2, 'elies': 2, 'sabater': 2, 'impressor': 1, 'aficionat': 2, 'literatura': 4, 'historiador': 3, 'inicial': 2, 'kvænangen': 1, '1677': 1, 'salangen': 1, '1384': 1, 'ofereix': 5, 'meravelloses': 2, 'instal': 13, 'lacions': 4, 'oci': 4, 'piscina': 5, 'jardí': 5, 'vostra': 5, 'experiència': 11, 'inoblidable': 2, 'esportiu': 2, 'sauna': 2, 'quota': 3, 'pagarà': 1, 'formalitzar': 2, 'inscripció': 7, 'realitza': 4, 'matrícula': 2, 'visitar': 8, 'escossi': 1, '39': 1, 'presos': 6, 'plantada': 1, 'cúpula': 2, 'judicial': 23, 'empresonats': 4, 'fixat': 2, 'data': 9, 'bo': 6, 'esponjós': 1, 'humit': 2, 'gust': 2, 'fort': 6, 'mi': 5, 'agrada': 2, 'rossejar': 1, 'carn': 5, 'sofregeix': 1, 'porros': 1, 'finament': 1, 'agafi': 1, 'desfet': 2, 'mantega': 4, 'espígol': 2, 'desfeta': 2, 'envia': 2, 'mascaretes': 4, 'enviat': 1, 'grafistes': 1, 'encarregar': 2, 'promocionar': 3, 'gràfic': 2, 'besant': 1, 'veïns': 16, 'can': 8, 'montcada': 2, 'reixac': 1, 'recol': 4, 'lecten': 1, 'lafarge': 2, 'estudien': 2, 'recórrer': 4, 'autorització': 2, 'ambiental': 1, 'úlcera': 1, 'varicosa': 1, 'aparèixer': 4, 'traumatisme': 3, 'infectar': 1, 'secundàriament': 1, 'poden': 31, 'ulceracions': 1, 'superficials': 1, 'doloroses': 1, 'interessades': 2, 'contacte': 8, 'eleni': 1, 'papaoikonomou': 1, 'aquelles': 1, 'càrrec': 14, '2001': 5, '1995': 6, 'guadiana': 1, 'rius': 4, 'península': 2, 'ibèrica': 2, 'duero': 1, 'douro': 1, 'majors': 4, 'sí': 6, 'moooolt': 1, 'publicava': 1, 'publico': 1, 'visible': 1, 'destaca': 7, 'teulada': 5, 'observa': 1, 'recoberta': 1, 'teula': 5, 'àrab': 3, 'suma': 4, '480': 1, 'casos': 10, 'confirmats': 3, 'pcr': 4, '315': 2, 'multireincident': 2, 'enfronta': 5, 'estrebada': 2, 'cambrils': 10, 'enfronten': 4, 'edificacions': 3, 'auxiliars': 2, 'annexes': 1, 'modernes': 1, 'construccions': 3, 'fallida': 1, 'dissoldre': 2, 'bancarrota': 1, 'obert': 13, 'duresa': 3, 'th': 1, 'valor': 4, 'indica': 1, 'calci': 1, 'magnesi': 3, 'dissolts': 2, 'sòlids': 1, 'tds': 1, 'sals': 1, 'dissoltes': 1, '27a': 2, 'certamen': 7, 'passeig': 4, 'brudieu': 1, 'jutjats': 2, 'integrat': 2, '242': 1, '123': 2, '247': 1, 'modestament': 1, 'centrar': 2, 'cabdal': 1, 'wandsworth': 1, 'londinenc': 2, 'àrea': 13, 'coneguda': 2, 'kingston': 1, 'upon': 1, 'thames': 1, 'còlera': 2, '1934': 3, 'venir': 2, 'vos': 7, 'vostres': 4, 'ganes': 1, 'ximo': 4, 'puig': 12, 'considera': 2, 'instrumental': 1, 'compromís': 6, 'necessària': 1, 'castiga': 1, 'valencians': 1, 'termes': 2, 'anuals': 5, 'disminueix': 4, '874': 1, 'actius': 3, '367': 1, 'descobrir': 2, 'tenien': 3, 'punxada': 1, 'immoble': 3, 'veí': 7, 'amenaces': 4, 'inquilí': 1, 'comprovar': 1, 'apartament': 2, 'forçada': 1, 'avala': 5, 'unanimitat': 4, 'dolors': 5, 'bassa': 3, 'dictar': 3, 'instar': 2, 'reconèixer': 1, 'sanitaris': 1, 'presenten': 4, 'pròpia': 2, 'creuar': 1, 'barranc': 3, 'guiats': 1, 'senyals': 2, 'grocs': 7, 'continuem': 1, 'marge': 2, 'esquerre': 2, 'hidrogràfic': 1, 'comencem': 1, 'caminar': 1, 'vers': 6, 'migdia': 7, 'seguint': 1, 'pr': 1, 'corriol': 2, 'fressat': 1, 'arriu': 1, 'aiguamòg': 1, 'exerceixo': 1, 'productor': 3, 'musical': 2, 'pedagog': 2, 'treballat': 8, 'músic': 1, 'dramaturg': 1, 'teatral': 3, 'calella': 3, '84': 2, 'costa': 11, 'aproximadament': 7, '684': 1, 'jordiada': 1, 'culte': 1, 'preveuen': 1, '41': 3, 'david': 6, 'adelantado': 2, 'menjat': 2, '295': 2, 'calçots': 2, '520': 2, 'arrebossades': 2, 'xemeneia': 1, 'troncocònica': 1, 'maó': 1, 'parets': 4, 'bastides': 1, 'mohs': 2, 'oscil': 2, 'adossat': 3, 'angles': 1, 'superior': 12, 'vuitavat': 1, 'rellotge': 4, 'restablert': 1, 'zona': 22, 'hora': 14, 'interromput': 2, 'tècnica': 4, 'jörg': 1, 'habersetzer': 1, 'thomas': 1, 'martin': 3, 'casado': 1, 'emplaça': 2, 'estabilitat': 1, 'eviti': 3, 'acords': 1, 'abstenir': 1, 'iglesias': 4, 'reflexioni': 1, 'faciliti': 1, 'progressista': 1, 'oferim': 6, 'presencial': 2, 'online': 3, 'imo': 1, 'professionalitzadora': 1, 'transversal': 1, 'segueix': 5, 'oberta': 7, 'haurien': 5, 'participat': 7, 'robatoris': 12, 'esclarir': 3, 'relacionat': 5, 'força': 10, 'birgus': 1, 'parent': 1, 'bernats': 2, 'ermitans': 2, 'coenobita': 2, 'projecta': 1, 'petitet': 1, 'patronat': 2, 'berga': 1, 'acollirà': 6, 'projecció': 1, 'cinema': 7, 'escarser': 2, 'reixa': 3, 'protestes': 1, 'culminar': 1, 'encíclica': 2, 'papa': 5, 'pius': 5, 'xi': 2, 'mit': 2, 'brennender': 2, 'sorge': 2, 'publicar': 1, 'glacera': 2, 'imponent': 2, 'cantó': 8, 'ticino': 1, 'èxit': 6, 'càrrecs': 10, 'agressors': 2, 'detecta': 1, 'taller': 5, 'desballestament': 1, 'il': 13, 'legal': 10, 'abadesses': 1, 'descobreix': 1, 'mecànic': 1, 'llorenç': 2, 'muga': 1, 'amuntegaven': 1, 'olis': 1, 'pneumàtics': 4, '2006': 8, 'bob': 2, 'reemplaçat': 2, 'riekus': 1, '2003': 1, 'bateria': 1, 'branigan': 1, 'mahoney': 1, 'gabarró': 1, 'garcia': 3, '1899': 2, '1980': 3, 'metge': 3, 'agustí': 1, 'pumarola': 1, 'busquets': 1, '1920': 6, 'chandrapur': 2, '1964': 5, 'chanda': 2, 'administrativa': 2, 'maharashtra': 1, 'capital': 14, 'damoh': 2, 'madhya': 1, 'pradesh': 3, 'sagar': 1, 'quarantena': 1, 'arrestades': 1, 'majoria': 20, 'furts': 4, 'endú': 1, 'salvadó': 1, 'secretaria': 3, 'hisenda': 2, 'deté': 4, 'secretari': 11, 'vicepresidència': 1, 'jové': 2, 'salvador': 5, 'grau': 7, '1841': 1, '1928': 2, 'farmacèutica': 2, 'promotor': 1, 'immobiliari': 3, 'filantrop': 1, 'antoni': 8, 'casas': 1, '1930': 2, 'divulgador': 1, 'mecenes': 1, 'estudiant': 4, 'periodisme': 3, 'llicenciat': 2, 'sociologia': 2, 'aportacions': 1, 'ingressos': 3, 'serveixen': 1, 'serveix': 1, 'predador': 1, 'crustacis': 4, 'marí': 4, 'nodreixen': 1, 'petits': 2, 'cucs': 3, 'marins': 1, 'demà': 5, 'darrer': 8, 'matricular': 1, 'factors': 3, 'adversos': 1, 'ribera': 5, 'plantacions': 2, 'fusteres': 1, 'conreus': 2, 'regadiu': 1, 'impactes': 1, 'amenacen': 1, 'integritat': 2, 'bosc': 2, 'pollancres': 1, 'tornada': 4, 'desconvocada': 1, 'beines': 1, 'garrofa': 1, 'allargades': 4, 'arriben': 8, 'adquireixen': 1, 'marró': 2, 'madures': 1, 'pinyes': 1, 'espororíferes': 1, 'groguenc': 1, 'llargada': 2, 'patronal': 4, 'anesco': 2, 'valorarà': 2, 'sindicats': 4, 'laborals': 7, 'estiba': 1, 'treballar': 9, 'ambients': 1, 'requereix': 3, 'bona': 3, 'constant': 3, 'recerca': 4, 'materials': 5, 'qualitat': 4, 'originalitat': 1, 'experimentació': 1, 'academia': 3, 'española': 2, 'nutrición': 1, 'y': 5, 'ciencias': 2, 'alimentación': 1, 'morales': 4, 'políticas': 1, 'abandonen': 2, 'comissions': 3, 'detencions': 3, 'alcaldes': 2, 'cupaires': 2, 'ardanuy': 1, 'puigcorbé': 1, 'fiscal': 6, 'licita': 5, 'pena': 1, 'vigilada': 1, 'licitar': 3, 'proclamat': 2, 'alícia': 1, 'camacho': 3, 'presidència': 11, '98': 2, 'isidre': 2, 'miquel': 8, 'torigues': 1, 'compravenda': 2, 'enfonsa': 1, 'emanuele': 1, 'trevi': 1, 'lana': 1, 'bastašic': 1, 'ignacy': 1, 'karpowicz': 1, 'sergi': 1, 'belbel': 1, 'coca': 1, 'mot': 4, 'buenafuente': 1, 'berto': 1, 'romero': 1, 'carlos': 3, 'latre': 1, 'broncano': 1, 'brays': 1, 'efe': 1, 'quim': 3, 'masferrer': 1, 'protagonistes': 2, 'singlot': 1, 'traslladat': 7, 'patrulles': 4, 'unitats': 2, 'comissaria': 2, 'seves': 26, 'aleta': 3, 'dorsal': 2, 'anals': 1, 'llargues': 2, 'contínues': 1, 'espines': 1, 'radis': 1, 'tous': 2, 'granollers': 3, 'territoris': 2, 'passaran': 3, 'desescalada': 1, 'centren': 1, 'portades': 4, 'licitaran': 1, 'explosió': 4, 'canonja': 2, 'suïssa': 2, 'anomenada': 6, 'axpo': 1, 'raons': 4, 'patrocini': 2, 'belga': 7, 'jupiler': 1, 'league': 2, 'ap': 10, 'borges': 4, 'banques': 1, 'soses': 2, 'intensa': 1, 'boira': 2, 'blanques': 5, 'densa': 1, 'lliguen': 1, 'colpegen': 1, 'castellfollit': 2, 'assalt': 4, 'violent': 2, 'lligar': 3, 'colpejar': 3, 'gaudeix': 1, 'soledat': 1, 'serenitat': 2, 'gandula': 2, 'reclinada': 2, 'gaudir': 1, 'solitud': 1, 'solità': 2, 'plegamans': 2, 'treballs': 8, 'millora': 7, 'infants': 3, 'participen': 5, 'fundesplai': 4, 'anterior': 7, 'mou': 3, 'magazín': 2, 'matinal': 1, 'tv3': 4, 'substituirà': 2, 'pantalla': 5, 'núria': 3, 'dirigirà': 1, 'busquen': 6, 'valls': 7, 'desapareguda': 4, 'noia': 3, 'actuï': 1, 'pes': 5, 'moto': 1, '120': 4, 'permesa': 9, 'jutja': 2, 'abusar': 5, 'sexualment': 5, 'neboda': 1, 'absol': 2, 'avi': 1, 'parella': 8, 'rocamaura': 1, 'voltant': 9, 'cinemes': 3, 'cartas': 1, 'mojadas': 1, 'open': 3, 'arms': 1, 'drama': 2, 'migratori': 1, 'mediterrani': 1, 'hitchcock': 1, 'truffaut': 1, 'passió': 1, 'talbot': 1, 'subtitulats': 1, 'wimbledon': 1, 'atropellada': 2, '88': 4, 'motocicleta': 1, 'eixample': 6, 'desocupació': 1, 'girar': 1, 'agafar': 5, 'citats': 3, 'dependències': 1, 'citat': 2, 'autoritat': 2, 'correus': 1, 'torho': 1, 'magistrada': 1, 'desordres': 2, 'decreta': 2, 'cautelars': 4, 'teniu': 4, 'noies': 1, 'resultar': 5, 'renda': 2, 'posa': 9, 'cita': 4, 'telèfon': 3, 'acordar': 2, 'prèvia': 3, 'endèmic': 4, 'xinesa': 2, 'sichuan': 2, 'viu': 14, 'altituds': 4, 'msnm': 4, 'superiors': 2, 'senadors': 4, 'designats': 1, 'compareixeran': 1, 'cai': 1, 'assistiran': 1, 'senat': 7, 'votaran': 1, '14h': 2, 'obrirà': 5, 'dissabtes': 1, '20h': 1, '30h': 2, 'metacritic': 2, 'dóna': 4, 'nota': 3, '72': 4, 'indicant': 2, 'positives': 2, '76': 1, 'successió': 5, 'xiv': 4, '1701': 1, '1706': 2, 'derrotat': 4, 'batalla': 5, 'torí': 1, '1708': 1, 'oudenaarde': 1, 'juntament': 4, 'borbó': 1, 'vendôme': 1, 'pastís': 2, 'intenteu': 1, 'recomano': 1, 'models': 2, 'pintat': 4, 'cops': 4, 'filles': 3, 'corrine': 1, 'aliesha': 1, 'originals': 6, 'marta': 4, 'pascal': 2, 'surt': 5, 'llarena': 7, 'willy': 1, 'toledo': 1, 'nega': 7, 'provençal': 1, 'fermí': 1, 'vergés': 2, '1908': 1, '1986': 5, 'polític': 3, 'buiria': 1, 'rogel': 1, '1906': 3, 'sindicalista': 1, 'ordenat': 4, 'parcialment': 6, 'divisibilitat': 1, 'ordre': 8, 'parcial': 3, 'anomena': 5, 'poset': 1, 'endèmica': 2, 'illa': 11, 'manus': 1, 'papua': 1, 'guinea': 5, 'boscosos': 1, 'praderies': 2, 'alcaldia': 1, 'document': 3, 'formalitza': 2, 'electrònicament': 2, 'arribaria': 1, 'cinquè': 6, 'giro': 4, 'alfredo': 1, 'binda': 1, 'aconsegueix': 1, '1933': 4, 'nens': 7, 'triar': 2, 'nom': 15, 'noms': 3, 'nenes': 4, 'rates': 1, 'esperança': 2, 'afortunadament': 1, 'quadruplicar': 1, 'conduir': 2, 'ziga': 1, 'zagues': 1, 'conductora': 3, 'quadruplicava': 2, 'trentena': 5, 'pilots': 2, 'escuderia': 2, 'osona': 10, 'prealerta': 5, 'nevades': 3, 'afectar': 1, 'alerta': 8, 'ventcat': 2, 'ratxes': 3, 'fortes': 5, 'extrems': 1, '715': 1, 'km2': 4, '422': 1, 'protegits': 2, 'fèiem': 2, 'informàtica': 1, 'p5': 2, 'recomanat': 2, 'cursen': 1, 'recomana': 5, 'molta': 6, 'tempestes': 1, 'matinada': 3, 'pluges': 4, 'onatge': 3, 'vent': 3, 'litoral': 3, 'opcions': 4, 'visita': 8, 'classificat': 2, '1a': 2, 'masculina': 1, 'voleibol': 1, 'sumat': 1, 'existeixen': 2, 'teories': 2, 'aparició': 1, 'fenomen': 1, 'reestructura': 1, 'r3': 6, 'semidirectes': 2, 'ripoll': 4, 'reajustarà': 1, 'descarregar': 6, 'aquí': 9, 'ceràmiques': 1, 'contemplar': 1, 'vitrines': 1, 'víctor': 5, 'balaguer': 3, 'geltrú': 3, 'exposades': 1, 'públiques': 3, 'elles': 5, 'dibuixos': 4, 'referències': 2, 'oferta': 3, 'habitual': 3, 'regularitzant': 1, 'apropant': 1, 'interessos': 1, 'format': 3, 'butxaca': 2, 'admet': 5, 'preocupació': 1, 'brot': 3, 'segrià': 2, 'descarta': 5, 'confinament': 3, 'domiciliari': 2, 'impulsen': 1, 'lectiva': 2, 'irph': 2, 'admesa': 1, 'tràmit': 5, 'hipoteques': 1, 'tremp': 3, 'incitació': 5, 'odi': 4, 'revelació': 4, 'secrets': 5, 'pensar': 1, 'calia': 1, 'alguna': 4, 'cosa': 6, 'retalla': 2, 'rep': 4, 'actives': 4, 'destinar': 2, '3a': 1, 'etapa': 4, 'tour': 3, '2008': 9, '9a': 2, 'saló': 4, 'còmic': 8, 'portes': 10, 'palaus': 1, 'univers': 6, 'fira': 13, 'xxiv': 1, 'manga': 3, 'pavellons': 1, 'adossa': 2, 'cobert': 2, 'vessant': 7, 'petit': 14, 'porxo': 1, 'barana': 3, 'fusta': 5, 'coberta': 16, 'llinda': 11, 'entrada': 14, 'vilafranca': 3, 'penedès': 5, 'premia': 1, 'millors': 4, 'albet': 1, 'noya': 1, 'eclipsa': 1, '52è': 1, 'tastavins': 1, 'do': 6, 'encausat': 1, 'tocaments': 2, 'petons': 1, 'boca': 2, 'octogenari': 1, 'bellvís': 1, 'cangur': 1, 'vigilava': 1, 'duia': 1, 'cisell': 1, 'alicates': 1, 'tornavís': 1, 'amagada': 1, 'esquena': 3, 'pota': 1, 'intentat': 1, 'amenaçat': 1, 'exigir': 2, 'cartera': 2, 'apareix': 7, 'aleshores': 4, 'clicar': 2, 'opció': 4, 'catàleg': 1, 'tràmits': 2, 'procediments': 1, 'gestions': 1, 'podrien': 1, 'implicades': 1, 'agressió': 4, 'criminal': 4, 'aclarir': 1, 'satúrnia': 1, 'saturnia': 1, 'σατουπνία': 1, 'etrúria': 1, 'albinia': 1, 'albegna': 1, 'sentinum': 1, 'úmbria': 1, 'apenins': 1, 'aesis': 1, 'esino': 1, 'alertats': 1, 'greument': 1, 'ferida': 4, 'relacionada': 1, 'meu': 4, 'anglés': 2, 'c1': 2, 'cae': 1, 'acreditat': 1, 'first': 1, 'b2': 1, 'estic': 1, 'advanced': 1, 'cridat': 2, 'manifestació': 8, 'marc': 3, 'pablo': 2, 'subcampiona': 2, 'sots': 1, 'rica': 2, 'campiona': 2, 'europeu': 7, 'islàndia': 1, 'jugat': 1, 'sigut': 4, 'or': 9, 'national': 2, 'film': 4, 'registry': 2, 'seleccionada': 1, 'prussians': 2, 'alien': 2, 'encerclar': 1, 'imperi': 2, 'otomà': 1, 'austríacs': 1, 'descobreixen': 3, 'teràpia': 1, 'allarga': 2, 'supervivència': 2, 'pacients': 4, 'colorectal': 1, 'avançat': 4, 'mutació': 1, 'braf': 1, 'tractament': 6, 'fetge': 1, 'estadi': 1, 'quines': 2, 'prendran': 1, 'matèria': 4, 'problemes': 7, 'circulatoris': 1, 'destacats': 5, 'localitzat': 3, 'trams': 4, '340': 2, '260': 1, 'vies': 2, 'retencions': 1, 'pairal': 2, 'guimerà': 1, 'carrer': 18, 'major': 14, 'ocupen': 3, 'escons': 7, 'reivindica': 3, 'junqueras': 9, 'sortit': 3, '424': 1, 'cotxes': 8, '419': 1, '268': 1, '93': 1, 'previstos': 2, 'sct': 1, 'entrades': 10, 'costen': 1, 'adherir': 2, 'descompte': 3, 'cost': 5, '2x1': 1, 'carles': 6, 'sentís': 2, 'anfrus': 1, '1911': 2, 'positius': 4, 'residència': 3, 'calafell': 4, '82': 3, 'lleure': 4, 'arreu': 4, '351': 1, 'arròs': 4, 'japonès': 7, 'verdures': 4, 'ou': 3, 'tires': 1, 'filet': 1, 'thai': 1, 'tofu': 2, 'pollastre': 3, 'llagostins': 2, 'titlla': 1, 'patriòtica': 1, 'dolores': 1, 'delgado': 1, 'tapar': 2, 'sentiment': 1, 'integrador': 1, 'pregunta': 6, 'tingui': 3, 'òbvia': 3, 'museus': 7, 'atrau': 1, '168': 1, 'metropolitana': 7, 'implicats': 1, 'camió': 4, 'antonio': 3, 'tonino': 1, 'vittigli': 1, 'ceprano': 1, 'frosinone': 1, 'mauro': 1, 'bettin': 1, 'miane': 1, 'treviso': 2, '1968': 3, 'completament': 4, 'transformada': 1, 'xviii': 4, 'montpol': 1, 'inicià': 1, 'croix': 1, 'belfort': 2, 'borgonya': 2, 'franc': 2, 'courtelevant': 1, 'necessari': 3, 'salvadoriana': 1, 'permanent': 5, 'botànic': 3, 'normal': 3, 'reduïda': 3, 'lleugerament': 4, 'salat': 1, 'acidesa': 1, 'sabor': 2, 'suau': 3, 'equilibrat': 1, 'recordant': 1, 'nos': 2, 'aroma': 2, 'cremós': 1, 'fon': 1, 'paladar': 1, 'deixant': 1, 'regust': 1, 'làctic': 1, 'xampinyons': 1, 'espinosàurids': 1, 'exhibien': 1, 'cranis': 2, 'superficialment': 1, 'similars': 4, 'cocodrils': 1, 'moderns': 1, 'rabdodòntids': 1, 'robusts': 1, 'hipsilofodonts': 1, 'mandíbules': 1, 'profunds': 2, 'esmena': 2, 'totalitat': 8, 'referèndum': 26, 'compleixi': 1, 'compost': 3, 'seccions': 2, 'baudour': 1, 'hautrage': 1, 'neufmaison': 1, 'ghislain': 1, 'sirault': 1, 'tertre': 1, 'villerot': 1, 'froidchapelle': 1, 'boussu': 1, 'lez': 1, 'walcourt': 1, 'fourbechies': 1, 'vergnies': 1, 'erpion': 1, 'sap': 8, 'gaire': 3, 'causades': 2, 'virus': 2, 'bacteris': 3, 'paràsits': 2, 'fongs': 1, 'prions': 1, 'creu': 11, 'reparteix': 4, 'tones': 1, 'menjar': 3, 'distribuirà': 1, '223': 1, 'aliments': 3, 'preparatius': 3, 'substituït': 1, 'hospitalària': 1, 'reincorpora': 1, 'mèdica': 2, 'patró': 5, 'significatiu': 2, 'resistència': 2, 'estudia': 2, 'generalitzat': 2, 'evita': 1, 'autocrítica': 1, 'vam': 2, 'possibilitat': 2, 'provisió': 1, 'material': 7, 'exigirem': 1, 'pugui': 6, 'ciutadania': 1, 'sorprendre': 1, 'ls': 4, 'maleter': 1, 'temerari': 1, 'complex': 2, 'elegant': 1, 'madur': 2, 'vermella': 7, 'negra': 3, 'acompanyada': 2, 'balsàmics': 1, 'anisats': 2, 'donen': 1, 'frescor': 1, 'trobem': 5, 'notes': 4, 'confitura': 1, 'pruna': 2, 'taní': 1, 'sedositat': 1, 'agradable': 2, 'reprèn': 1, 'nóos': 2, 'infanta': 2, 'cristina': 4, 'asseguda': 1, 'banc': 12, 'diferència': 2, 'rectangulars': 6, 'arquejada': 1, 'emmarcades': 1, 'rajol': 1, 'elf': 2, 'ñoldorin': 2, 'finarfin': 2, 'finrod': 1, 'angrod': 2, 'galadriel': 2, 'aegnor': 1, 'caixabank': 1, 'lideren': 1, 'rànquing': 5, 'banca': 2, 'mòbil': 4, 'forrester': 1, 'research': 1, 'entitat': 6, 'euskadi': 2, 'manxa': 2, 'astúries': 1, 'última': 3, 'pianista': 3, 'barceloní': 3, 'interpretat': 3, 'chopin': 1, 'liszt': 1, 'japonesa': 1, 'maki': 1, 'namekawa': 1, 'rus': 2, 'anton': 1, 'batagov': 1, 'interpreten': 1, 'recital': 1, 'llagostera': 2, 'revetlles': 1, 'jaume': 4, 'protagonitzà': 1, 'going': 1, 'my': 1, 'way': 1, 'suposà': 1, 'óscar': 1, 'hollywood': 1, '1944': 4, 'love': 1, 'me': 2, 'tender': 1, '1956': 3, 'junts': 8, 'perd': 6, 'meitat': 8, 'representants': 1, '34': 2, '939': 1, '196': 1, 'escrutat': 1, 'illes': 16, 'fortament': 1, 'cobertes': 1, 'glaceres': 1, 'volcànic': 2, 'volcans': 1, 'ells': 9, 'atribueixen': 1, 'descarten': 5, 'delictius': 1, 'preventiu': 3, 'administrativament': 2, 'responsable': 6, 'escorcollar': 1, 'maniobra': 1, 'irregular': 1, 'esquivar': 1, 'policial': 3, 'clickant': 2, 'icona': 2, 'trobareu': 3, 'full': 4, 'informatiu': 6, '451': 1, 'comprèn': 2, '452': 1, 'och': 3, 'agressions': 3, 'homòfobes': 1, 'augment': 5, 'lgtbi': 4, 'fòbiques': 1, 'legislatives': 2, 'georgianes': 2, 'caure': 11, 'mandat': 2, 'directe': 3, 'únicament': 1, '89': 1, 'herbert': 1, 'spencer': 1, 'gasser': 1, 'plateville': 1, '1963': 4, 'nobel': 3, 'medicina': 4, 'george': 2, 'wald': 1, 'cambridge': 4, '1997': 4, 'bioquímic': 1, 'fisiologia': 1, 'seixantena': 1, 'protesten': 3, 'reclamen': 1, 'obrir': 6, 'sessions': 4, 'murakami': 3, 'reconegut': 2, 'generació': 1, 'haruki': 2, 'yoshimoto': 1, 'banana': 1, 'caza': 1, 'carnero': 1, 'salvaje': 2, 'aclamat': 1, 'previsió': 7, 'tributària': 2, 'contribuents': 2, 'catalans': 14, 'presentin': 1, 'irpf': 3, 'retorna': 1, '190': 1, 'biocat': 1, 'albert': 5, 'director': 10, 'premiada': 1, 'xii': 2, 'bienal': 1, 'arquitectura': 5, 'urbanismo': 1, 'adequació': 2, 'jaciment': 2, 'romà': 4, 'tacó': 2, 'montmeló': 2, 'montornès': 2, 'finalista': 2, 'fad': 1, 'paisatge': 2, 'bruixes': 2, 'comanegra': 2, 'transcórre': 1, 'fagedes': 1, 'pics': 1, 'frontererers': 1, 'identificats': 1, 'cdr': 7, 'gravava': 2, 'retiraven': 1, 'llaços': 4, 'accessos': 1, 'lledoners': 3, 'retirava': 1, 'save': 1, 'carner': 1, '1884': 4, 'brussel': 5, '1970': 9, 'conegut': 2, 'príncep': 2, 'poetes': 2, 'kuba': 1, 'tributari': 2, 'protegit': 3, 'prant': 2, 'sorath': 2, 'kathiawar': 2, 'bombai': 2, 'vekaria': 1, 'viure': 2, 'filipó': 1, 'bisbe': 2, 'ímola': 1, 'ocuparia': 1, '1816': 1, 'apallissar': 2, 'aitona': 2, 'matx': 1, 'jugarà': 1, 'disputarà': 1, 'ataquen': 1, 'cordúlids': 1, 'corduliidae': 2, 'odonats': 2, 'reòfils': 1, 'cordulia': 1, 'anisòpters': 1, 'solucionant': 1, 'espècies': 6, 'raspinells': 1, 'habiten': 1, 'paleàrtic': 1, 'indomalaia': 1, 'natius': 1, 'àsia': 4, 'sibèria': 1, 'filipines': 4, 'diversitat': 2, 'tanmateix': 2, 'malaltia': 3, 'desenvoluparà': 1, 'infeccions': 1, 'asimptomàtiques': 1, 'latents': 1, 'habituals': 4, 'malalties': 1, 'desapareixen': 1, 'repatria': 1, 'espanyols': 3, 'viatge': 2, 'gestiona': 1, 'repatriació': 1, 'relacionats': 2, 'abundants': 1, 'vintena': 2, 'liderats': 1, 'begin': 1, 'gahal': 1, '1981': 4, 'tehiyà': 1, 'kada': 2, 'vilayat': 1, 'marash': 1, '1950': 2, '56': 3, '136': 1, 'wilayat': 1, '372': 1, 'coliderat': 1, 'russel': 2, 'norman': 2, 'metiria': 1, 'turei': 2, 'colíder': 1, 'rampes': 2, 'ricco': 1, 'cobreixen': 1, 'sòl': 5, 'milankovič': 1, 'lomonosov': 1, 'cellnex': 4, 'prejubilacions': 1, 'extraordinaris': 1, 'semestre': 4, 'perejubilacions': 1, 'atemptats': 4, 'nudista': 2, 'renom': 1, 'begur': 3, 'pals': 2, 'oasi': 2, 'amagat': 3, 'peus': 4, 'penya': 3, 'segats': 2, 'envolten': 2, 'obtinguin': 1, 'aniran': 4, 'destinats': 2, 'assandca': 1, 'recaptats': 1, 'biomèdica': 1, 'fàcil': 4, 'despistar': 1, 'caçats': 1, 'proveu': 1, 'treballà': 2, 'llenyataire': 1, 'obrer': 2, 'picapedrer': 1, 'alhora': 2, 'militava': 1, 'cnt': 3, 'exili': 3, 'là': 3, 'llenguadoc': 1, 'continuà': 1, 'militant': 3, 'originàriament': 1, 'gòtiques': 2, 'coronelles': 2, 'reforma': 4, 'barroca': 1, 'substituïdes': 1, 'balcons': 3, 'varen': 1, 'substituir': 1, 'disputà': 4, 'fórmula': 4, 'ayrton': 1, 'senna': 1, '59': 3, '35': 14, 'estudiar': 7, 'acabar': 1, 'carrera': 12, 'exercir': 8, 'togores': 1, 'estatge': 1, 'monges': 2, 'munt': 1, 'querol': 1, 'sadurní': 1, 'montmajor': 1, 'inundat': 2, 'passos': 1, 'subterranis': 1, 'arbres': 2, 'branques': 4, 'inundacions': 1, 'carreteres': 12, 'triturem': 1, 'robot': 3, 'trituradora': 1, 'molinet': 1, 'cafè': 1, 'morter': 4, 'recipient': 1, 'barregem': 2, 'morè': 1, 'cacau': 1, 'triturada': 2, 'darrere': 2, 'capelleta': 1, 'accedeix': 1, 'escales': 5, 'informe': 3, 'nucli': 7, 'concretament': 2, 'allò': 4, 'canviar': 9, 'decidirà': 4, 'agradat': 3, 'màlaga': 1, 'arribarà': 1, 'supercopa': 1, 'baart': 1, 'debutar': 1, 'ajudes': 1, 'directes': 2, 'pac': 2, 'abona': 1, '218': 1, 'ajuts': 4, 'pronoms': 2, 'demostratius': 1, 'servir': 4, 'objectes': 2, 'inanimats': 2, 'distingeixen': 1, 'animats': 1, 'escomesa': 1, 'façana': 22, 'cremat': 6, 'afegim': 3, 'tomàquet': 4, 'polsim': 1, 'traiem': 3, 'salmó': 1, 'tirem': 1, 'préssec': 2, 'descens': 2, '86': 3, '85': 2, 'obc': 1, 'posarà': 2, 'final': 9, 'versió': 2, 'turandot': 1, 'puccini': 1, 'produïda': 3, 'podrà': 5, 'hadawi': 1, 'atac': 5, 'cor': 8, '1946': 1, 'bandera': 3, 'müsavat': 1, 'azerbaidjan': 1, 'blava': 3, 'verda': 2, 'mitja': 8, 'lluna': 3, 'utilitzada': 2, 'creixen': 6, '81': 3, 'vacances': 2, 'tornen': 7, 'aules': 4, '629': 1, 'alumnes': 8, 'infantil': 5, 'primària': 3, 'eso': 7, '2n': 1, 'viii': 2, 'investigar': 5, 'coneixement': 2, 'immediatament': 3, 'informat': 1, 'demanat': 2, 'abandonés': 1, '658': 1, '513': 1, 'creuers': 1, '227': 2, 'vaixells': 1, 'període': 18, 'turistes': 1, 'estrangers': 4, 'desemborsar': 1, '536': 1, 'graset': 2, 'conversa': 2, 'tertúlia': 2, 'periodistes': 2, 'colomina': 2, 'ribó': 4, 'racionero': 1, 'pau': 4, 'cullell': 1, 'soterrani': 3, 'terrat': 4, 'bullen': 1, 'purés': 1, 'preparant': 1, 'vinagreta': 1, 'panís': 1, 'posem': 3, 'grapat': 1, 'kikos': 1, 'piquem': 1, 'mentrestant': 2, 'salteu': 3, 'espàrrecs': 1, 'alls': 1, 'tendres': 1, 'usa': 2, 'protector': 3, 'solar': 6, 'pell': 4, 'gorra': 3, 'visera': 1, 'posseir': 2, 'fossa': 2, 'artificial': 2, 'defenia': 1, 'seua': 7, 'accessible': 3, 'defensava': 1, 'assequible': 1, 'punxar': 1, 'botó': 2, 'ratolí': 4, 'descarreguem': 1, 'corrent': 3, 'eretz': 2, 'israel': 2, 'obligació': 1, 'imposada': 1, 'avantatge': 1, 'drogues': 9, 'cànnabis': 1, 'moments': 2, 'sobte': 2, 'coses': 3, 'rodatge': 3, 'sèrie': 8, 'coreana': 2, 'recuerdos': 2, 'alhambra': 2, 'emetrà': 1, 'netflix': 2, 'directora': 3, '1913': 1, 'preventiva': 5, 'aldarulls': 2, 'postsentència': 1, 'disturbis': 1, 'formada': 6, 'eixos': 3, 'verticals': 3, 'corresponen': 5, 'crugies': 2, 'compon': 1, 'darrers': 1, 'fotocasa': 2, 'lewenhaupt': 2, 'dividí': 1, 'tropes': 5, 'divisions': 1, 'desplegà': 1, 'línies': 7, 'combat': 1, 'ubicació': 2, 'confluència': 3, 'avinguda': 3, 'jacint': 2, 'verdaguer': 2, 'prixana': 1, 'tibidabo': 1, 'rambla': 2, 'mossèn': 6, 'bukhara': 2, 'begs': 2, 'fracassar': 2, 'apunyala': 1, 'braç': 1, 'agent': 1, 'barri': 19, 'cerdanyola': 2, 'mataró': 5, 'abdomen': 3, 'culubret': 1, 'contacta': 2, 'pnb': 2, 'puigneró': 1, 'vincularà': 1, 'derogació': 1, 'negociació': 1, 'derrota': 2, 'luftwaffe': 2, 'anglaterra': 1, 'göring': 1, 'intentà': 1, 'evadir': 1, 'ira': 1, 'hitler': 2, 'culpant': 1, 'udet': 1, 'ordenà': 1, 'ajudés': 1, 'esclafar': 1, 'ofensiva': 1, 'gasolineres': 1, 'feliu': 9, 'buixalleu': 1, 'guíxols': 4, 'trencant': 1, 'vidres': 1, 'finalitzeu': 1, 'sessió': 6, 'tanqueu': 2, 'navegador': 4, 'galeta': 2, 'destrueix': 2, 'vostre': 5, 'ordinador': 4, 'servidor': 2, 'sortiu': 1, 'trucades': 4, '112': 4, 'fetes': 1, 'gironines': 7, 'segurament': 1, 'dirigeix': 1, 'sineuera': 1, 'sèptima': 1, 'interval': 2, 'conté': 4, 'graus': 4, 'diatònica': 2, 'sexta': 1, 'esportives': 1, 'poliesportiva': 2, 'bàsquet': 2, 'aventura': 2, 'parcs': 5, 'infantils': 1, 'piscines': 1, 'retirada': 2, 'lleis': 2, 'valencià': 4, 'desvincula': 2, 'portaavions': 2, 'armada': 4, 'jocs': 9, 'mediterranis': 4, 'precisar': 1, 'lateral': 3, 'dovellada': 1, 'fàbregues': 2, 'msaia': 1, 'viladrau': 4, 'onze': 5, 'alineació': 1, 'nombroses': 2, 'serres': 1, 'moles': 3, 'elevades': 1, 'cingles': 1, 'vessants': 12, 'inclinats': 2, 'entremig': 1, 'pissarres': 1, 'paleozoiques': 1, 'relleus': 3, 'pròpies': 2, 'tercers': 2, 'optimitzar': 4, 'navegació': 2, 'adaptar': 2, 'preferéncies': 1, 'dur': 6, 'tasques': 7, 'analítiques': 2, 'registren': 4, 'imam': 1, 'escorcollen': 1, 'locutori': 1, 'formals': 1, 'horari': 3, '2009': 11, 'ascendí': 1, 'eba': 2, 'aconseguí': 1, '07': 1, 'reflexió': 2, 'arquitectures': 1, 'avantguarda': 1, 'exposicions': 4, 'mies': 2, 'der': 2, 'rohe': 2, 'divulgació': 1, 'torelló': 1, 'possessió': 6, 'requerits': 1, 'discussió': 1, 'cregut': 1, 'gentussa': 1, 'pensat': 1, 'activat': 3, 'concentren': 7, 'inhabilitació': 7, 'confiscat': 3, '1846': 4, 'sobirà': 2, 'sikh': 3, '1845': 1, 'ladwa': 1, 'comportament': 1, '2012': 8, 'atribueix': 4, 'prevaricació': 1, 'desobediència': 10, 'parelles': 8, 'participants': 6, 'aragonès': 4, 'insisteix': 5, 'flexibilitat': 2, 'pressupostària': 2, 'desigualtat': 1, 'despesa': 5, 'víctima': 10, 'autopistes': 1, 'desbordament': 1, 'esquerda': 1, 'creua': 1, '252': 1, 'verges': 1, 'diòcesi': 2, '152': 2, '282': 1, 'batejats': 2, '188': 1, '589': 2, 'equivalent': 2, '114': 1, '854': 1, 'exemplars': 2, 'purs': 1, 'emprats': 1, 'gemmes': 2, 'joieria': 2, 'rars': 1, 'transparents': 1, 'usats': 1, 'desemboca': 1, 'rabassa': 2, 'badia': 1, 'dedicà': 1, 'barriada': 1, 'urbanització': 1, 'castellar': 1, 'índies': 1, 'aïllant': 1, 'bigues': 1, 'tardar': 1, 'quants': 2, 'posicions': 3, 'esmentades': 2, 'reconquerides': 1, 'trigar': 1, 'represes': 1, 'lió': 3, 'futur': 4, 'conclòs': 1, 'uiii': 1, 'dit': 2, 'mh': 1, 'cugat': 4, 'trasllat': 4, 'jesuïta': 2, 'abusos': 4, 'sexuals': 5, 'rebutgi': 1, 'utilitzen': 2, 'platges': 5, 'reclamar': 3, 'adaptat': 1, 'barcelonines': 3, 'qualsevol': 11, 'opinions': 2, 'expressades': 1, 'usuaris': 5, 'www': 4, 'festuk': 1, 'publicades': 1, 'través': 8, 'fòrums': 1, 'xats': 1, 'eines': 1, 'parega': 1, 'coneixedor': 1, 'radiohead': 1, 'sembli': 1, 'desastre': 1, 'organitzant': 1, 'preparen': 1, 'petició': 6, 'kitchen': 2, 'sumar': 1, 'socials': 4, 'garantia': 2, 'proximitat': 4, 'societats': 2, 'constituïdes': 1, 'mercantils': 1, 'flanqueja': 1, 'pendent': 1, 'massa': 6, 'rocosa': 1, 'miranda': 1, 'caminoi': 1, 'xebret': 1, 'forat': 1, 'ciclisme': 4, 'especialitzar': 2, 'nosaltres': 9, 'volem': 2, 'anticatalans': 1, 'pretenen': 1, 'esmenes': 4, 'reconsideració': 2, 'admissió': 1, 'seca': 5, 'haver': 3, 'solubles': 2, 'insolubles': 2, 'substàncies': 3, 'dissolvents': 1, 'temporades': 4, 'betis': 1, 'balompié': 1, '1957': 1, 'últimes': 2, '1958': 2, 'valladolid': 1, 'dorsals': 3, 'podran': 3, 'faisans': 2, 'tailàndia': 1, 'taiwan': 4, 'selva': 9, 'muntanyes': 3, 'pakistan': 2, 'asiàtic': 1, 'hainan': 1, 'processonària': 1, 'pi': 6, 'thaumetopoea': 2, 'pityocampa': 2, 'schiff': 1, 'lepidòpter': 2, 'cedres': 2, 'avets': 1, 'processionària': 1, 'ataca': 1, 'expolicia': 1, 'buscat': 1, 'pertànyer': 2, 'traficava': 3, 'traficants': 1, 'haixix': 2, 'èxtasi': 1, 'cristall': 1, 'club': 12, 'alemanys': 4, 'esport': 6, 'argentins': 1, 'controlats': 1, 'focs': 1, 'obligat': 3, 'desallotjaments': 1, 'controlat': 3, 'ocasionat': 1, 'doblador': 1, 'ullod': 1, '74': 4, 'fontana': 1, 'soc': 2, 'atenció': 6, 'personalitzada': 1, 'dones': 9, 'definir': 1, 'model': 1, 'radiació': 2, 'mesura': 2, 'grays': 1, 'gray': 2, 'correspondria': 1, 'joule': 2, 'irradiada': 2, 'quilogram': 2, 'correspon': 5, 'henri': 2, 'jules': 1, 'valton': 1, 'courson': 1, 'carrières': 1, 'yonne': 1, '1867': 1, 'regatista': 1, 'competir': 3, 'cavall': 2, 'alphonse': 1, 'decuyper': 1, '1877': 2, 'waterpolista': 1, 'destrossar': 2, 'muntatge': 2, 'monarquia': 3, 'guillotina': 1, 'celrà': 2, 'reconstrueixen': 1, 'unionista': 1, 'segarra': 3, 'menors': 9, 'proposem': 2, 'destinació': 2, 'et': 4, 'tècniques': 2, 'milloren': 2, 'rendiment': 5, 'augmentaran': 1, 'latència': 2, 'interrupció': 4, 'processador': 3, 'empitjoren': 1, 'lleument': 1, 'naoko': 2, 'takeuchi': 2, '武内直子': 1, 'kōfu': 1, 'prefectura': 3, 'yamanashi': 1, 'mangaka': 2, 'kohta': 1, 'hirano': 2, '平野耕太': 1, 'kouta': 1, '1973': 3, 'adachi': 1, 'tòquio': 1, 'perdre': 2, 'expresidenta': 2, 'penitenciari': 1, 'exconsellera': 1, 'agraeixen': 1, 'michael': 2, 'kiwanuka': 1, 'razzmatazz': 4, 'lil': 1, 'xan': 1, 'taules': 1, 'rodones': 1, 'conferències': 2, 'tallers': 10, 'xerrades': 1, 'maridatges': 1, 'punta': 3, 'valència': 6, 'gràcia': 6, 'saben': 1, 'oberts': 2, 'supervisats': 1, 'pdi': 1, 'alumnat': 1, '1936': 6, 'utilitzat': 4, 'àmplies': 1, 'miren': 1, 'continu': 2, 'renovat': 1, 'impuls': 2, 'permeta': 2, 'tocs': 4, 'manuals': 1, 'imite': 2, 'tradicionals': 4, 'mecanització': 1, 'renovar': 1, 'toc': 2, 'manual': 1, 'alertar': 3, 'forta': 6, 'olor': 2, 'provinent': 2, 'amadeu': 2, 'oller': 2, 'ancians': 1, 'cràter': 3, 'mart': 1, 'concursant': 1, 'splash': 2, 'participa': 2, 'antena': 1, 'subfamílies': 2, 'taxonomia': 2, 'bouchet': 2, 'rocroi': 2, '2005': 5, 'reconegudes': 2, 'traducció': 2, 'vitale': 2, 'amerigo': 2, 'iannacone': 2, 'baranes': 1, 'ampit': 1, 'diligències': 1, 'crema': 6, 'fotografies': 4, 'diada': 5, 'estatal': 4, 'atén': 2, 'anualment': 1, 'llar': 1, 'dipsalut': 1, 'mitjana': 4, 'vulnerables': 1, 'traslladar': 5, '1893': 2, 'retorn': 1, 'emmeline': 1, 'obermeyer': 1, 'estudià': 6, 'escolapis': 2, 'féu': 1, 'advocat': 2, 'llicencià': 4, 'mostra': 7, 'estarà': 3, 'komintern': 2, 'afrontà': 1, 'afrontar': 1, 'reurbanització': 1, 'darreria': 2, 'començament': 3, 'revisa': 2, 'alça': 3, 'creixement': 4, 'fixa': 1, 'pib': 4, 'atlàntic': 2, 'florida': 4, 'antilles': 1, 'carib': 1, 'bahames': 2, 'brasil': 6, 'tèxtil': 5, 'nylstar': 1, 'ero': 4, 'acomiadar': 2, 'plantilla': 3, 'venca': 1, '68': 1, 'abstindria': 1, 'comprometi': 1, 'donarà': 4, 'reconegui': 1, 'autodeterminació': 1, 'pancit': 1, 'palabok': 1, 'plat': 5, 'típic': 3, 'gastronomia': 2, 'pensa': 1, '426': 1, 'colònies': 2, 'casals': 3, 'adaptacions': 2, 'restriccions': 2, 'sensibilització': 1, 'coordinació': 2, 'cossos': 5, 'txi': 1, 'kung': 1, 'bodhidharma': 1, 'tew': 1, 'bunnag': 1, 'münster': 2, '1832': 1, 'alcalde': 13, 'alcarràs': 2, 'laborar': 6, 'celebració': 4, 'afegir': 3, 'ratllat': 1, 'confitar': 1, 'amargor': 1, 'polpa': 1, 'albergínies': 1, 'salpebrar': 1, 'pebre': 4, 'picat': 2, 'sosté': 4, 'crim': 1, 'quedat': 4, 'conclou': 1, 'processat': 1, 'enganyés': 1, 'prometent': 1, 'forcés': 1, 'obtingut': 6, 'kiss': 1, 'professora': 1, 'convidada': 2, 'rutgers': 1, 'johns': 2, 'hopkins': 2, 'visitant': 1, '1966': 5, 'bourg': 2, 'bruche': 2, 'alemany': 6, 'burg': 2, 'rin': 4, 'bolsenheim': 1, 'alsacià': 3, 'bolsene': 1, 'mitjanit': 1, 'palmera': 1, 'arribava': 1, 'descans': 2, 'plataforma': 7, 'desviar': 1, 'consens': 1, 'desviament': 2, 'opta': 2, 'categories': 3, 'rock': 3, 'llatí': 6, 'urbà': 5, 'querer': 2, 'rosalía': 1, 'guanya': 9, 'grammy': 1, 'descarregat': 2, '4d9f': 1, 'completat': 1, '3d9f': 1, '3d8': 1, 'mapa': 2, 'cronològic': 2, 'evolució': 6, 'rebaixa': 3, 'mínims': 3, 'transport': 6, 'motiu': 1, 'aturada': 2, 'convocada': 2, 'adhereix': 1, 'impulsa': 2, 'sindicals': 2, 'regular': 2, '1634': 1, 'enterrat': 2, 'oude': 1, 'kerk': 1, '1633': 1, 'haarlem': 1, 'nevada': 1, 'ventades': 1, 'lesbianes': 2, 'gais': 2, 'bisexuals': 2, 'transsexuals': 2, 'moçambic': 1, 'reptes': 2, 'legals': 3, 'experimenten': 2, 'lgbt': 2, 'equatorial': 2, 'inauguració': 2, '00h': 3, 'històries': 1, 'alteritat': 1, 'jorge': 3, 'molero': 1, 'envellint': 1, 'fernando': 2, 'vidal': 1, 'nombres': 1, 'signes': 1, 'piscolabis': 1, 'assistents': 5, 'refrigeri': 1, 'manifestants': 2, 'vacarisses': 2, 'tallat': 5, 'arbre': 4, 'cremen': 1, 'ratificar': 2, 'afectats': 6, 'mequinensans': 1, 'respirar': 1, 'acabàvem': 1, 'creure': 2, 'proposar': 1, 'podíem': 1, 'expressió': 1, 'essències': 1, 'montblanc': 4, 'agraden': 2, 'sheridan': 1, 'bratz': 1, 'makeover': 1, 'compartir': 3, 'teus': 2, 'avatar': 1, 'aang': 1, 'candidata': 3, 'ideologia': 2, 'segregadora': 2, 'intenti': 2, 'liquidar': 4, 'aconsegueixen': 2, 'extubar': 1, 'infermera': 1, 'ingressada': 1, 'escapa': 1, 'trueta': 3, 'distribuïdes': 3, 'simètricament': 1, 'cúmuls': 2, 'globulars': 2, 'làctia': 1, 'típicament': 1, 'halo': 1, 'galàctic': 1, 'íbex': 1, 'talla': 1, 'ratxa': 1, 'pèrdues': 3, '47': 1, 'ibex': 5, 'maserati': 1, 'mc12': 2, '330': 3, '205': 2, 'mph': 3, '350': 3, '217': 1, 'ferrari': 1, 'enzo': 1, 'cat': 2, 'http': 1, 'ub': 3, 'edu': 1, 'premi_pau': 1, 'capitals': 2, 'indià': 1, 'utilitzats': 1, 'majoritàriament': 2, 'desitjo': 2, 'puntinikis': 1, 'catorze': 1, 'bicicletes': 1, 'furgoneta': 3, 'transportar': 1, 'pervivència': 2, 'paisatgístics': 2, 'ambientals': 2, 'condicions': 7, 'afilià': 1, 'cadci': 1, 'ugt': 4, 'ingressà': 1, 'socialista': 2, 'unificat': 1, 'psuc': 1, 'alforja': 1, 'comuna': 6, '1322': 1, 'botarell': 1, 'formar': 6, '1339': 1, 'afectada': 5, 'inèdites': 2, 'presentades': 1, 'governar': 2, 'paeria': 1, 'ratifiquen': 1, 'localitzar': 3, 'mercaderia': 2, 'mercat': 2, '850': 1, 'escocès': 1, 'noruec': 1, 'escocesa': 1, 'api': 1, 'rave': 2, 'martian': 1, 'manhunter': 1, 'personatge': 4, 'superheroi': 1, 'dc': 2, 'supergirl': 1, 'fos': 3, 'polònia': 1, 'tornaran': 1, 'graella': 1, 'redueix': 2, 'acompanyament': 2, 'gratuït': 6, 'selecciona': 1, 'personalitzat': 1, 'gavà': 1, 'gironina': 1, 'escollit': 7, 'ocasió': 6, 'vendre': 2, 'superar': 3, 'xifres': 4, 'rècord': 2, 'ven': 2, 'seminous': 1, 'desactivada': 2, 'incidències': 2, 'destacables': 1, 'procicat': 3, 'finalitzat': 2, 'episodi': 1, 'telescopi': 3, 'mpg': 1, 'terrestre': 2, 'european': 1, 'southern': 1, 'observatory': 1, 'silla': 2, 'xile': 1, 'descobriment': 1, 'realitzat': 2, 'observatori': 2, 'instrument': 1, 'harps': 1, 'vallbona': 1, 'cremarà': 1, 'hectàrees': 6, 'montalbà': 1, 'ingressa': 2, 'mas': 6, 'portuguès': 5, 'marinho': 1, 'pinto': 1, 'letó': 1, 'miroslavs': 1, 'mitrofanovs': 1, 'visiten': 2, 'citar': 1, 'doncs': 5, 'tria': 2, 'malgrat': 2, 'rebis': 1, 'somriure': 1, 'canó': 3, 'reforçada': 2, 'toral': 2, 'comunica': 1, 'presbiteral': 1, 'apuntat': 1, 'interdepartamental': 1, 'sida': 1, 'enfront': 1, 'vih': 1, '2020': 8, 'escolar': 1, 'erigida': 2, 'parròquia': 3, 'arquebisbe': 2, 'gregorio': 2, 'modrego': 2, 'confiada': 1, 'agustins': 1, 'lectes': 1, 'canònicament': 1, 'tipologia': 1, 'monolítica': 2, 'conformant': 1, 'muntants': 2, 'racing': 1, 'luxembourg': 1, 'portat': 1, 'convidat': 1, 'pujar': 3, 'amanides': 1, 'sopes': 1, 'salses': 1, 'acompanyar': 3, 'plats': 3, 'cereals': 1, 'carns': 2, 'diàleg': 5, 'amnistia': 1, 'instaurar': 1, 'doctrina': 1, 'xiïta': 2, 'sunnita': 1, 'salabrosa': 1, 'demersal': 2, 'clima': 2, 'subtropical': 1, 'tropical': 1, 'condemnats': 1, 'litigis': 1, 'vigilant': 2, 'agredeixen': 1, 'cúter': 1, 'escapar': 1, 'enguixat': 1, 'adn': 2, 'orgànuls': 2, 'mitocondris': 2, 'cloroplasts': 2, 'eucariotes': 1, 'procariota': 1, 'dut': 2, '83': 1, '962': 2, 'amic': 1, 'inseparables': 1, 'decideixen': 2, 'esteu': 2, 'interessats': 2, 'assistir': 2, 'formalitzeu': 1, 'omplint': 3, 'formulari': 5, 'agrairíem': 1, 'confirméssiu': 1, 'assistència': 1, 'remullant': 4, 'perímetre': 1, 'vilademuls': 1, 'vilopriu': 2, 'goldman': 1, 'sachs': 1, 'suposa': 2, 'recuperació': 1, 'institució': 1, 'cameral': 1, 'tardor': 5, 'genera': 1, 'incertesa': 3, 'tàxon': 2, 'anomenat': 3, 'zoòleg': 2, 'neerlandès': 2, 'jacob': 1, 'victor': 1, 'sody': 1, 'missioner': 1, 'jean': 1, 'armand': 1, 'kolbeckita': 2, 'mineral': 8, 'classe': 8, 'fosfats': 2, 'pertany': 9, 'metavariscita': 2, 'leringaïta': 1, 'silicats': 2, 'granats': 1, 'glàndula': 1, 'tiroide': 2, 'fabrica': 1, 'hormones': 2, 'tiroxina': 2, 'triiodetironina': 1, 'iode': 1, 't4': 1, 'tetraiodotironina': 1, 'deadache': 1, 'estudi': 10, 'lordi': 2, 'arockalypse': 1, 'diàmetre': 3, '240': 2, 'caldera': 1, '060': 1, 'millet': 2, 'gemma': 2, 'montull': 3, 'osàcar': 2, 'licitades': 1, 'barcelonina': 1, 'rosa': 1, 'artigal': 1, 'secundària': 4, 'obligatòria': 1, 'batxillerat': 1, 'laia': 1, 'girós': 1, 'joventut': 1, 'previs': 1, 'esbrinar': 1, 'afectades': 3, 'pepa': 2, 'religiosa': 2, 'congregació': 2, 'apostòliques': 2, 'jesús': 3, 'filòloga': 1, 'teòloga': 1, 'educadora': 1, 'pérez': 2, 'objecte': 1, 'recent': 1, 'respectat': 2, 'caràcter': 7, 'estructura': 7, 'original': 7, 'reformat': 1, 'interiors': 1, 'virchow': 1, 'relativament': 2, 'estretes': 2, 'freturós': 1, 'trets': 2, 'resenyables': 1, 'internes': 1, 'manquen': 1, 'significatius': 1, 'usaven': 1, 'cabell': 1, 'talls': 1, 'rectes': 1, 'prims': 2, 'xapa': 1, 'suaus': 1, 'plàstics': 1, 'suro': 2, 'feltre': 1, 'teles': 1, 'comprar': 1, 'tiquets': 1, 'esgotar': 2, 'acceptaran': 1, 'disponibles': 3, 'desplegament': 1, 'consolidació': 1, 'titulacions': 2, 'universitàries': 2, 'lligades': 1, 'nàutica': 2, 'implementació': 1, 'oficials': 2, 'vinculades': 1, 'nét': 1, 'bernat': 4, 'iv': 4, 'so': 2, 'instituït': 1, 'vescomte': 1, 'èvol': 2, 'estavar': 1, 'estigué': 1, 'vescomtat': 2, '1335': 1, 'creat': 5, 'comprenia': 1, 'sautó': 1, 'feixuga': 1, 'rib': 2, 'tancament': 4, 'cremallera': 1, 'elàstics': 1, 'beaupréau': 1, 'maine': 2, 'loira': 2, 'cholet': 3, 'escorça': 2, 'garrofer': 1, 'astringent': 1, 'laxant': 1, 'pinyol': 1, 'extreu': 1, 'presseguer': 1, 'manéhouville': 1, 'sena': 2, 'normandia': 2, 'hortier': 1, 'rèvol': 1, '192': 1, 'comarca': 14, 'llongaderes': 1, '504': 1, 'cava': 1, 'diürètica': 1, 'eliminar': 2, 'edemes': 2, 'obesitat': 2, 'colesterol': 1, 'àcid': 1, 'úric': 1, 'diabetis': 1, 'urticària': 1, 'expulsió': 2, 'ronyó': 1, 'pateixes': 1, 'diabetes': 1, 'hipertensió': 1, 'arterial': 1, 'restrenyiment': 2, 'adeu': 1, 'materialitzar': 1, 'celebrar': 3, 'now': 3, 'repertori': 1, 'dominat': 1, 'damon': 1, 'albarn': 1, 'liderada': 1, 'chris': 1, 'foreman': 1, 'touch': 1, 'ratpenat': 4, 'pescador': 7, 'gros': 2, 'noctilio': 2, 'leporinus': 1, 'albiventris': 1, 'insectívor': 1, 'ocasionalment': 1, 'carnívor': 1, 'centreamèrica': 1, 'inici': 2, 'acolliment': 2, 'museros': 1, 'homenatge': 2, '1962': 1, 'mundials': 1, '1954': 1, 'marcà': 1, 'gol': 1, 'sospitós': 1, 'encobriment': 1, 'fonts': 3, 'garrotxí': 2, 'riudaura': 1, 'localitat': 4, 'decretat': 2, 'dol': 2, 'oficial': 7, 'vivia': 1, 'edreams': 2, 'sandro': 2, 'absolució': 2, 'vestia': 2, 'camiseta': 2, 'vaquers': 1, 'gris': 1, 'calçons': 1, 'blaus': 1, 'ferro': 4, 'porten': 2, 'obertura': 3, 'guardonada': 1, 'gràfica': 2, 'día': 3, 'durán': 1, 'laura': 3, 'ballester': 1, 'maca': 2, 'bonica': 4, 'em': 6, 'pronunciarà': 1, 'institucional': 3, 'extraordinari': 4, 'jec': 3, 'inhabilitar': 1, 'cooperatives': 5, 'creades': 5, 'mínim': 4, 'concursants': 2, 'recuperen': 3, 'nanses': 1, 'pesca': 2, 'ploms': 1, 'xarxes': 1, 'corda': 2, 'gàbies': 1, 'marenda': 2, 'banyuls': 1, 'abstingut': 6, 'votat': 10, '224': 2, 'piera': 1, 'sotmeti': 1, 'arribi': 1, 'garanteix': 3, 'defensarà': 2, 'vernatallada': 1, 'amer': 1, 'masquí': 1, 'julià': 1, 'vilatorta': 1, 'migjorn': 2, 'adovellada': 3, 'exparella': 3, 'violar': 1, 'excompanya': 1, 'visitants': 4, 'nocturns': 2, 'ofereixen': 5, 'múltiples': 2, 'presentés': 1, 'fla': 1, 'ales': 2, 'curtes': 3, 'arrodonides': 1, 'bec': 1, 'prim': 1, 'marcada': 1, 'aspecte': 1, 'robust': 1, 'punxegudes': 1, 'cua': 3, 'arrodonida': 1, 'curta': 1, 'expressen': 1, 'terrorista': 2, 'westminster': 2, 'donald': 1, 'tusk': 1, 'bèlgica': 3, 'conjuntament': 3, 'combatran': 1, '762': 1, '837': 1, 'límit': 2, 'granera': 1, 'propera': 2, 'bloc': 1, 'pisos': 10, 'john': 4, 'stones': 1, 'barnsley': 1, 'manchester': 1, 'city': 4, 'anglesa': 2, 'joseph': 1, 'willock': 1, '1999': 2, 'futbolista': 3, 'professional': 9, 'centrecampista': 1, 'arsenal': 1, 'premier': 1, 'filmets': 1, 'curtmetratges': 1, 'llargmetratges': 1, 'competiran': 2, 'zoom': 1, 'afizonia': 1, 'daquesta': 1, 'multiintèrpret': 1, 'matat': 1, 'escopeta': 2, 'mata': 1, 'intenta': 1, 'ensenyaments': 3, 'plàstiques': 4, 'artístics': 3, 'capdevila': 2, 'velat': 1, '69': 2, 'rams': 2, 'missa': 5, 'commemora': 2, 'jerusalem': 2, 'crist': 1, 'ressuscitat': 1, 'jutges': 2, 'ccaa': 1, 'garanteixin': 1, 'personal': 3, 'calguin': 1, 'essencials': 1, 'pobladors': 2, 'demani': 1, 'renunciï': 1, 'síndic': 2, 'greuges': 2, 'roldán': 2, 'sondejarà': 1, 'cessi': 1, 'campament': 1, 'areny': 3, 'ribagorça': 2, 'puimolar': 1, 'glaçat': 2, 'garòs': 1, 'interessant': 4, 'mf': 1, 'ramon': 1, 'partides': 4, 'excel': 3, 'lent': 3, 'gm': 1, 'lópez': 2, 'adjunt': 2, 'lecturafacil': 1, 'net': 1, 'simples': 2, 'forjat': 2, 'quadrangulars': 1, 'copley': 2, 'royal': 4, 'society': 4, 'marín': 2, 'legitimat': 1, 'liderar': 4, 'juanma': 1, 'moreno': 1, 'executiu': 4, 'exèrcits': 2, 'comptaven': 2, 'cadascun': 2, '130': 2, 'viatgen': 1, 'singapur': 1, 'buscar': 2, 'hong': 3, 'kong': 3, 'presentem': 2, 'àtics': 2, 'construïts': 2, 'finca': 2, 'decorada': 2, 'dècimes': 6, 'inflació': 11, 'anual': 6, 'estremera': 1, 'traspàs': 2, 'carteres': 1, 'romeva': 3, 'exhaustiu': 1, 'saquejar': 2, 'arques': 2, 'botons': 3, 'pressió': 1, 'punys': 1, 'emergència': 2, 'indiquen': 1, 'maltractar': 1, 'aconseguim': 1, 'saludables': 2, 'sabors': 1, 'genuïns': 1, 'seran': 4, 'banys': 2, 'recomanables': 2, 'altament': 1, 'miler': 5, 'organitzades': 1, 'acabis': 2, 'fp': 4, 'auxiliar': 1, 'infermeria': 1, 'distància': 2, 'aconseguiràs': 2, 'radioteràpia': 1, 'ésser': 2, 'escultor': 1, 'honorari': 2, 'isabel': 2, 'pintor': 1, 'esica': 1, 'enllaços': 4, 'hipertextuals': 2, 'brianxa': 1, 'connectarà': 2, 'mallorca': 2, 'airlines': 1, 'porto': 1, 'comunista': 5, 'republicana': 1, 'balear': 1, 'laboració': 5, 'ciutadana': 2, 'identificació': 2, 'detenció': 4, 'sous': 2, 'regirà': 1, 'ipc': 3, 'explica': 2, 'electricitat': 4, 'detinguda': 3, 'passarà': 3, 'pròximes': 1, 'individu': 1, 'properes': 2, 'montsec': 2, 'alzina': 1, 'esteve': 4, 'sarga': 2, 'pallars': 3, 'jussà': 2, 'alsamora': 1, 'derrotant': 1, 'liberal': 2, 'democràtic': 1, 'nominació': 2, 'elecció': 1, 'querella': 3, 'resolucions': 1, 'apunyalament': 3, 'múltiple': 5, 'milió': 5, 'bosses': 2, 'plàstic': 3, 'compren': 2, 'ampolles': 1, 'krummhörn': 1, 'ocupat': 2, 'vegades': 4, 'franceses': 1, '1757': 1, '1761': 1, 'dresden': 2, 'conquerida': 1, 'prússia': 1, 'austríaca': 1, '1756': 1, 'manuae': 1, 'descobert': 2, 'samuel': 3, 'wallis': 2, '1767': 2, 'maupihaa': 1, 'sad': 1, 'abi': 1, 'wakkas': 1, 'mesquita': 2, 'iraq': 4, 'diya': 1, 'akshehir': 1, '1320': 1, 'execució': 6, 'allargat': 1, 'inaugurarà': 2, 'aigües': 5, 'cornisa': 2, 'millán': 2, 'calvo': 5, '1925': 4, 'utrillas': 1, 'terol': 1, 'guerriller': 1, 'llibertari': 1, 'antifranquista': 1, 'arnedo': 2, '1912': 4, 'tarassona': 1, 'saragossa': 2, 'anarcosindicalista': 1, 'enxampat': 2, 'xxiii': 2, 'reconstrucció': 1, 'carina': 1, 'bronquial': 1, 'da': 1, 'vinci': 1, 'cirurgia': 2, 'robòtica': 1, 'toràcica': 1, 'longitud': 4, '048': 1, 'transcorren': 1, 'íntegrament': 2, 'gósol': 2, 'transcorre': 1, 'saldes': 1, 'taxidins': 1, 'taxidiinae': 1, 'carnívors': 1, 'mustèlids': 1, 'harpionicterins': 1, 'harpyionycterinae': 1, 'ratpenats': 1, 'pteropòdids': 1, 'descripció': 2, 'undead': 1, 'eixam': 1, 'marlaska': 2, 'restituís': 1, 'cobos': 2, 'apm': 1, 'restitueixi': 1, 'destacable': 3, 'vestíbul': 1, 'sostres': 2, 'fanals': 1, 'escalinata': 1, 'enteixinats': 1, 'fusteria': 1, '700': 4, 'prenafeta': 1, '730': 1, 'prades': 1, 'rojals': 1, 'presència': 6, 'prudència': 2, 'cedirà': 1, 'converses': 2, 'nuet': 1, 'renunciarà': 1, 'pactar': 2, 'panamà': 1, 'semblat': 2, 'arma': 3, 'formatge': 5, 'altejó': 1, 'crua': 3, 'vaca': 3, 'fabricat': 1, 'cuita': 2, 'vacaformatge': 1, 'mahón': 2, 'menorca': 2, 'artesà': 3, 'curat': 1, 'semicurat': 1, 'fuita': 3, 'afectació': 1, 'ambient': 2, 'ni': 15, 'parada': 1, 'programada': 1, 'generat': 3, 'desbaratarien': 1, 'estrelles': 1, 'planetes': 2, 'àtoms': 2, 'serien': 1, 'destruïts': 2, 'estels': 2, 'estriparan': 1, 'quedaran': 1, 'wohnwagen': 1, 'lectiu': 1, 'vvaa': 1, 'empestat': 1, 'indi': 1, 'gest': 1, 'esmorzar': 4, 'esmorza': 2, 'fora': 4, 'boomers': 1, 'gasta': 1, 'nen': 6, 'salt': 5, 'ingressat': 3, 'igea': 1, 'explicat': 1, 'rumb': 1, 'decidit': 1, 'utilitzo': 1, 'bloqueja': 1, 'decanto': 1, 'boxhorn': 2, 'luxemburguès': 2, 'boxer': 1, 'wincrange': 1, 'diekirch': 1, 'clervaux': 1, 'weydig': 2, 'weidig': 1, 'biwer': 1, 'grevenmacher': 2, 'oda': 3, 'nobunaga': 3, 'poderós': 1, 'daimyō': 1, 'sengoku': 2, 'inicis': 2, 'azuchi': 2, 'momoyama': 2, 'conèixer': 4, 'esclau': 1, '1581': 1, '織田信長': 1, '1534': 1, '1582': 1, 'destacat': 2, 'dàimio': 1, 'feudal': 1, 'història': 3, 'enlloc': 2, 'raó': 3, 'compromisos': 1, 'recollits': 1, 'redacció': 3, 'gira': 1, 'arracona': 1, 'mostrador': 1, 'expojove': 4, 'soldat': 1, 'armat': 1, 'tapen': 1, 'silueta': 1, 'soldats': 1, 'armats': 1, 'estand': 1, 'madura': 3, 'mel': 2, 'aromes': 3, 'panses': 1, 'contenciós': 1, 'administratiu': 2, 'adhesió': 2, 'diputació': 5, 'ami': 3, 'doctorà': 2, 'stanford': 2, 'califòrnia': 3, 'chavers': 1, 'graduar': 1, 'berkeley': 1, 'topònim': 4, 'descriptiu': 2, 'pren': 4, 'discorre': 1, 'boumort': 2, 'modern': 2, 'mena': 2, 'ferir': 1, 'íntimes': 1, 'reactivació': 2, 'dotada': 1, 'clastra': 1, 'alçat': 1, 'stevens': 2, 'louie': 2, 'psihoyo': 1, 'oscar': 3, 'cove': 1, 'psihoyos': 1, 'fisher': 1, 'seguiment': 4, 'estadístic': 2, 'visites': 2, 'continguts': 13, 'oferts': 2, 'tràfic': 6, 'website': 1, 'coneixen': 1, 'popularment': 1, 'gladiols': 1, 'coltells': 1, 'contells': 1, 'xucladors': 1, 'pertanyen': 4, 'anomenen': 2, 'lliris': 2, 'tronc': 2, 'hipostèsia': 1, 'anestèsia': 1, 'abat': 2, 'porquet': 1, 'matxà': 1, 'traginers': 1, 'depurada': 2, 'sistemes': 1, 'depuració': 1, 'terciària': 1, 'apta': 2, 'regar': 2, 'jardins': 3, 'terciari': 1, 'toronto': 3, 'ontàrio': 1, 'esqueixada': 1, 'treu': 2, '936': 2, 'pensions': 3, 'quant': 3, 'connexió': 4, 'membres': 6, 'considero': 2, 'correcta': 2, 'franja': 2, 'nocturna': 1, 'reuneixen': 2, 'òmnium': 1, 'veto': 3, 'arqueòlegs': 2, 'formigues': 2, 'vaixell': 2, 'conservat': 1, 'enfonsat': 1, 'casc': 1, 'citada': 1, 'fàsia': 1, 'parla': 2, 'esquinica': 1, 'eruga': 1, 'renéixer': 2, 'papallona': 1, 'sojasun': 1, 'codi': 9, 'uci': 6, 'soj': 1, 'desaparegut': 1, 'vini': 1, 'zabù': 1, 'ktm': 1, 'thr': 1, 'ruta': 3, 'solsonès': 1, 'expert': 1, 'micro': 1, 'cogeneració': 1, 'publicitat': 1, 'ogilvy': 1, 'alia': 1, 'tech': 4, 'emprenedors': 1, 'amplia': 1, 'potenciar': 1, 'ecosistema': 1, 'tecnològic': 1, 'cases': 3, 'antigues': 2, 'closa': 1, 'fills': 6, 'sirikit': 1, 'metapont': 1, 'leo': 2, 'leon': 1, 'metapontus': 1, 'grec': 13, 'filòsof': 5, 'pitagòric': 1, 'metapontum': 1, 'leòdames': 1, 'leodamas': 1, 'orador': 1, 'acarnes': 1, 'acharnae': 1, 'humans': 4, 'alliberar': 2, 'kurd': 1, 'engegat': 1, 'renovació': 3, 'titularitat': 1, 'costarà': 1, 'zapotlán': 1, 'juárez': 2, 'hidalgo': 1, 'chihuahua': 1, 'iguala': 1, 'agustín': 2, 'hiroshi': 2, 'fernández': 3, 'empata': 1, 'circular': 7, 'punible': 1, '90': 5, 'poblada': 2, 'nunavut': 1, 'iqaluit': 1, 'simpàtic': 1, 'amigable': 1, 'alegria': 1, 'amable': 1, 'optimista': 1, 'servicial': 1, 'enrabiada': 1, 'inaugurat': 2, '1971': 3, '409': 2, 'cunnilinció': 1, 'tabú': 1, 'cultures': 2, 'parts': 1, 'sagrat': 1, 'bruce': 2, 'springsteen': 2, 'venut': 1, 'r1': 3, 'barra': 3, 'formigó': 1, 'locada': 1, 'intencionadament': 1, 'salou': 4, 'generals': 8, 'sagunt': 1, 'renunciar': 2, 'senador': 6, 'vitalici': 2, '1898': 1, 'mendaza': 1, 'batalles': 2, 'carlina': 2, 'arlaban': 1, 'voldria': 2, 'vull': 1, 'vosaltres': 2, 'descriu': 3, 'vibrant': 1, 'fruites': 1, 'regalèssia': 2, 'intens': 1, 'expressiu': 1, 'potent': 3, 'foscos': 2, 'especiat': 1, 'agradables': 1, 'mentolats': 1, 'tradicionalment': 3, 'utilitzava': 1, 'abaixar': 1, 'febre': 2, 'gripals': 1, 'angines': 1, 'inflamatòries': 1, 'artràlgies': 1, 'artritis': 1, 'gota': 1, 'oligúria': 1, 'retenció': 1, 'urinària': 1, 'quinzena': 3, 'voluntaris': 4, 'tancats': 1, 'criteri': 1, 'ivestigui': 1, 'abstindran': 1, 'unides': 1, 'laborista': 1, 'jeremy': 1, 'corbyn': 3, 'anuncia': 2, 'may': 2, 'endarrerir': 1, 'brexit': 4, 'theresa': 1, 'cdrs': 1, 'rectificació': 2, 'lació': 4, 'adreceu': 1, 'enviant': 1, 'mail': 2, 'aturades': 2, 'tindran': 6, 'avaluar': 1, 'hebron': 2, 'eix': 4, 'recta': 6, 'perpendicular': 1, 'meridià': 1, 'fundador': 3, 'poum': 1, 'comitè': 10, 'provincial': 2, 'element': 3, 'localitzen': 1, 'espeleòleg': 2, 'submarí': 1, 'atrapat': 2, 'cova': 4, 'submarina': 1, 'rescatat': 1, 'lat': 1, 'refugi': 1, 'pastor': 1, 'estanilles': 1, '19a': 1, 'reutilització': 1, 'fonamental': 2, 'mediambiental': 1, 'federal': 2, 'reconeix': 1, 'tribus': 2, 'ponca': 4, 'nebraska': 2, 'oklahoma': 1, 'federalment': 1, 'floració': 2, 'primavera': 2, 'tractor': 1, 'lès': 2, 'bears': 2, 'retrata': 2, 'formen': 5, 'rugbi': 1, 'rugby': 1, 'universtitat': 1, 'tests': 2, 'aleatoris': 2, 'arribin': 1, 'pandèmia': 4, 'aixecat': 1, 'internacionals': 2, 'aplica': 1, 'aeroports': 1, 'gouden': 2, 'harp': 2, 'destrueixen': 1, 'projectils': 2, 'artilleria': 2, 'localitzats': 1, 'polígon': 1, 'capmany': 1, 'espolla': 1, 'termòfils': 1, 'variats': 1, 'sovint': 6, 'vistosos': 1, 'atractius': 1, 'brillants': 1, 'predominen': 1, 'metàl': 1, 'lics': 2, 'equips': 5, 'situats': 1, 'perpetuencs': 1, 'classificació': 2, 'empatats': 1, 'vital': 2, 'ministres': 1, 'començarà': 3, 'abonar': 1, 'modificar': 3, 'evitar': 8, 'pacten': 1, 'mantenen': 2, 'canalitzi': 1, 'convidem': 1, 'monarquina': 1, 'trepitjar': 1, 'present': 2, 'programes': 2, 'establiments': 4, 'llicència': 1, 'assegurança': 1, 'denúncies': 1, 'tinença': 1, 'estupefaents': 1, 'llicenciada': 1, 'audiovisual': 3, 'màster': 2, 'salamanca': 1, 'meva': 8, 'intenció': 3, 'disquisició': 1, 'convèncer': 1, 'coves': 4, 'cantàbrica': 1, 'ornamentades': 1, 'pirinencocantàbrica': 1, 'las': 2, 'madres': 2, 'cordero': 2, 'moncho': 2, 'alpuente': 2, 'hilario': 2, 'ham': 1, 'albera': 2, 'formacions': 3, 'cantautors': 2, 'am': 1, 'obtenen': 1, 'peñín': 2, 'assoleixen': 1, 'qualificació': 3, 'guía': 1, 'ànimes': 1, 'platí': 1, 'recording': 2, 'industry': 2, 'association': 2, 'america': 1, 'riaa': 1, 'divideix': 2, 'llengua': 7, 'bilingüe': 1, 'sínode': 2, 'mateo': 2, 'llobet': 1, 'educatives': 2, 'descansa': 2, 'cama': 2, 'enrere': 1, 'llarga': 1, 'ondulació': 1, 'robava': 1, 'joies': 1, 'domicilis': 3, 'treballava': 1, 'unifamiliar': 1, 'botiga': 2, 'mòbils': 1, 'allotjaments': 1, 'adverteixen': 1, 'turístics': 2, 'derivarà': 1, 'caos': 1, 'apartur': 1, 'augura': 1, 'descontrol': 1, 'tornà': 1, 'accedí': 1, 'vàlida': 2, 'mineralògica': 2, '1977': 3, 'acumulació': 1, 'brutícia': 1, 'desperfectes': 2, 'guinguetes': 1, 'malmeses': 1, 'llevant': 7, 'forts': 2, 'vents': 1, 'onades': 1, 'esborra': 1, 'estartit': 1, 'inunda': 1, 'carrers': 6, 'parament': 2, 'cabirons': 2, 'vistos': 2, 'aparell': 2, 'pissarrós': 2, 'lligat': 1, 'entramat': 1, 'tuit': 1, 'argelia': 1, 'anècdota': 2, 'sembla': 2, 'puerta': 1, 'alliberament': 3, 'desenes': 1, 'especialitzà': 2, 'sociolingüística': 2, 'planificació': 1, 'lingüística': 2, 'estatut': 3, 'estandardització': 1, 'lexicografia': 1, 'dialèctica': 1, 'romanística': 1, 'ameríndies': 1, 'revitalització': 1, 'shiogama': 1, '塩竈市': 1, 'miyagi': 1, 'mito': 2, '水戸市': 1, 'shi': 1, 'ibaraki': 1, 'comèdia': 2, 'protagonitzada': 3, 'inma': 1, 'cuesta': 2, 'mafalda': 2, 'carbonell': 1, 'nacho': 2, 'javier': 1, 'càmara': 1, 'griselda': 1, 'siciliani': 1, 'belén': 1, 'alberto': 1, 'altensteinia': 1, 'ocell': 5, 'serinus': 1, 'esperem': 2, 'tothom': 4, 'conscient': 2, 'cobla': 2, 'musicòlegs': 2, 'historiadors': 2, 'empresonament': 2, 'juanmi': 1, 'sociedad': 2, 'llançament': 3, 'adnan': 1, 'januzaj': 1, 'kaka': 1, 'nestor': 1, 'meridionalis': 1, 'estrigòpids': 1, 'strigopidae': 1, 'zelanda': 1, 'ptilinop': 1, 'leclancher': 1, 'ramphiculus': 1, 'leclancheri': 1, 'colúmbids': 1, 'columbidae': 1, 'hidroxilclinohumita': 1, 'humita': 1, 'cantoner': 3, 'allindades': 1, 'repetir': 2, 'cert': 1, 'frustració': 2, 'ciutadanía': 1, 'responsabilitza': 1, 'fiabilitat': 1, 'utilitat': 1, 'existents': 3, 'veracitat': 3, 'exactitud': 1, 'exhaustivitat': 1, 'actualitat': 1, 'prestats': 1, 'gravació': 4, 'supervisió': 3, 'videoclip': 1, 'maqueta': 1, 'plataformes': 1, 'digitals': 1, 'yaroshevskita': 1, 'vanadats': 1, 'yurmarinita': 1, 'arsenats': 1, 'contrari': 1, 'remarca': 1, 'decisions': 2, 'respondre': 1, 'busqui': 1, 'ella': 4, 'lippisch': 1, 'convair': 1, 'marxar': 2, 'constituí': 1, 'dessecació': 1, 'plànol': 1, '1851': 2, 'resoltes': 1, 'amplis': 1, 'dovellats': 1, '207': 1, '1901': 2, 'constava': 1, '121': 1, '646': 1, 'reben': 4, 'despatx': 1, 'aplaudiments': 2, 'rigau': 1, 'hàbitat': 4, 'sabanes': 3, 'montanes': 1, 'uigurs': 2, 'manats': 2, 'yulbars': 2, 'khan': 4, 'khodja': 2, 'niyaz': 2, 'hadjdji': 2, 'ocupaven': 2, 'sinkiang': 1, 'xinjiang': 1, 'frases': 2, 'destacades': 2, 'tècnic': 2, 'cf': 1, 'roig': 4, 'negre': 2, 'històrica': 4, 'ferrocarril': 3, 'militat': 2, 'brasilers': 1, 'continuació': 5, 'horaris': 3, 'federats': 2, 'resultats': 3, '1879': 2, '1881': 1, '1891': 1, '1892': 3, 'productora': 1, 'danesa': 1, 'sam': 1, 'productions': 2, 'itv': 1, 'studios': 1, 'hawaii': 2, 'marqueses': 2, 'conductors': 1, 'retiraran': 1, 'anuncien': 1, 'comptes': 1, 'inversió': 1, 'quinta': 4, 'justa': 3, 'quarta': 2, 'tons': 3, 'semitò': 1, 'disminuïda': 1, 'augmentada': 1, 'juri': 2, 'abandonant': 1, 'duel': 3, 'ruka': 1, 'utena': 3, 'desafia': 2, 'touga': 2, 'desapareix': 1, 'tens': 2, 'algun': 2, 'respondrem': 1, 'reverteixin': 1, 'recuperin': 1, 'perdudes': 1, 'cgt': 1, 'revertir': 1, 'vigents': 1, '288': 1, '132': 2, '307': 2, 'transportistes': 2, 'xifren': 2, 'prohibició': 1, 'camions': 1, 'diàries': 1, 'tall': 2, 'alerten': 1, 'desproveïment': 1, 'productes': 2, 'casteller': 1, 'encaren': 2, 'autoadministració': 2, 'lideratge': 2, 'actuar': 3, 'absoluta': 6, 'sorteig': 3, 'pots': 1, 'contactar': 3, 'mothern': 1, 'modere': 1, 'maco': 1, 'borrós': 1, 'extinta': 1, 'envelat': 1, 'jardinets': 1, 'catalitzador': 1, 'concerts': 4, 'representacions': 2, 'teatrals': 1, 'desfilades': 1, 'negociï': 2, 'renuncia': 1, 'tripartit': 1, 'implicada': 1, 'recicla': 1, 'garraf': 1, 'envoltada': 2, 'llegendes': 1, 'nimfa': 1, 'llegenda': 1, 'atropellament': 4, 'produït': 2, 'calaf': 1, 'vàlides': 2, 'avança': 3, 'àrees': 2, 'muntanyoses': 1, 'urbanes': 1, 'actitud': 2, 'pressionar': 2, 'marxessin': 1, 'dissuadeix': 1, 'sinó': 1, 'esperona': 1, 'tarragonines': 3, 'tècnics': 2, 'imparteixen': 1, 'dates': 1, 'professorat': 2, 'programats': 2, 'dromiquetes': 1, 'concedida': 1, 'lisímac': 1, 'seutes': 1, 'proporció': 1, 'solut': 2, 'dissociat': 1, 'ions': 1, 'solució': 4, 'ionitzada': 1, 'dèbil': 1, 'dissolvent': 1, 'concentrada': 1, 'arbúcies': 4, 'negociacions': 1, 'salarials': 1, 'preacord': 1, 'desconvocar': 1, 'karl': 1, 'leopold': 1, 'böhm': 1, 'graz': 1, 'salzburg': 2, 'orquestra': 4, 'austríac': 2, 'bernhard': 1, 'paumgartner': 1, 'viena': 1, 'musicòleg': 1, 'atrapen': 1, 'comès': 2, 'assaltat': 1, 'centelles': 6, 'sarró': 1, 'trabucaries': 1, 'sabem': 2, 'papistes': 1, 'has': 2, 'flash': 2, 'sudoku': 1, 'tetris': 1, 'sextuplicava': 1, 'estilo': 2, 'canvià': 2, 'venia': 2, 'dessmond': 1, 'gosar': 1, 'regulacions': 2, 'intermitents': 2, 'sagrera': 2, 'sagrada': 2, 'reprendre': 1, 'generositat': 3, 'negociar': 6, 'pge': 2, 'vetos': 1, 'avenços': 1, 'procedirà': 1, 'tanda': 2, 'baixem': 2, 'josa': 1, 'enllacem': 1, 'davallem': 1, 'seguim': 1, 'fórnols': 1, '303': 1, 'procedents': 4, 'impost': 5, 'iniciativa': 5, 'finançarà': 1, 'doblers': 1, 'abandona': 1, 'cimera': 2, 'líders': 5, 'rubalcaba': 1, 'exministre': 1, 'parlamentari': 1, 'assistirà': 1, 'jxsí': 5, 'csqp': 4, 'castells': 1, 'unilateral': 4, 'sacerdots': 2, 'negaren': 1, 'prestar': 1, 'jurament': 2, 'clergat': 2, 'anomenats': 2, 'refractaris': 1, 'prengueren': 1, 'jurats': 1, 'intrussos': 1, 'considerada': 4, 'pavese': 1, 'picaresca': 1, 'adif': 1, 'solucionen': 1, 'afectava': 2, 'vilassar': 2, 'masnou': 1, 'cotitzants': 1, 'assegurats': 1, 'solivella': 1, '363': 1, 'marçà': 1, 'pronostiquen': 1, 'situar': 2, 'guanyaria': 1, 'dil': 1, 'empatarien': 2, 'cis': 1, 'tona': 1, 'robada': 1, 'morgane': 1, 'ji': 1, 'vieux': 1, 'farka': 1, 'touré': 1, 'eril': 2, 'anna': 1, 'ferrer': 1, '30a': 1, 'omara': 1, 'portuondo': 1, 'neddermann': 1, 'actuaran': 2, 'guatemala': 2, 'hondures': 2, 'nicaragua': 1, 'revoltar': 1, 'executat': 1, 'aghatai': 1, 'xarrada': 1, 'estalvi': 3, 'facutltat': 1, 'unitat': 5, 'perifèrica': 2, 'magnèsia': 1, 'messènia': 1, 'produirà': 1, 'reunirà': 3, 'urtasun': 1, 'ecp': 1, 'garantirà': 1, 'parlamentaris': 1, 'rigor': 3, 'honestedat': 1, 'majories': 1, 'trobaràs': 1, 'allotjament': 1, 'apartat': 2, 'valgut': 2, 'distincions': 2, 'intervé': 1, '154': 1, '345': 1, 'duana': 2, 'farga': 2, 'comissa': 1, 'dòlars': 1, '1932': 1, 'definitivament': 2, 'aprovar': 1, 'autonomia': 1, '1979': 2, 'escòcia': 6, 'independència': 10, 'desaparèixer': 2, 'motxilla': 1, 'chiang': 2, 'kai': 2, 'shek': 2, 'esdevenir': 1, 'líder': 7, 'guomindang': 1, 'sun': 3, 'kmt': 1, 'editor': 6, 'publicarà': 2, 'contes': 2, 'complets': 1, 'volums': 1, 'emperadors': 2, 'xinesos': 1, 'creien': 2, 'descendents': 4, 'inques': 1, 'conclaves': 2, '1667': 2, '1676': 2, '1689': 2, '1691': 2, '1657': 1, '1669': 1, 'maricel': 1, 'modernitat': 1, 'rossellonès': 1, 'ceret': 1, 'explora': 1, 'andré': 1, 'masson': 1, 'tomba': 1, 'boya': 2, 'gabriel': 1, 'simó': 4, 'resolt': 1, 'empara': 1, 'instrueix': 1, 'passi': 2, 'felicita': 1, 'policies': 5, 'vulguin': 1, 'facin': 1, 'grups': 5, 'siguin': 1, 'realistes': 1, 'mentir': 1, 'amplada': 3, 'estreta': 1, 'fama': 1, 'bibliògraf': 1, 'erudit': 1, 'laborà': 1, 'ilustració': 1, 'fundà': 1, 'dirigí': 1, 'publicacions': 2, '1865': 1, 'quinzenal': 1, 'gay': 1, 'saber': 5, '1868': 1, '1869': 2, '1878': 1, 'gramalla': 1, '1870': 3, 'min': 2, 'anada': 3, '1h': 1, 'eugenèsia': 1, '1935': 2, 'fundar': 1, 'onomàstica': 1, 'branca': 1, 'serralada': 2, 'prelitoral': 1, 'geogràficament': 1, 'marina': 2, 'aiguats': 1, 'crescudes': 1, 'sió': 1, 'ondara': 1, 'causen': 1, 'sulu': 1, 'köfte': 1, 'turca': 2, 'kabak': 1, 'kalye': 1, 'carabassó': 1, 'zucchini': 1, 'denunciats': 1, 'sexual': 6, 'cercopitec': 2, 'coronat': 1, 'cercopithecus': 2, 'pogonias': 1, 'primat': 2, 'cercopitècids': 2, 'roloway': 2, 'interfície': 2, 'fàcilment': 1, 'personalitzable': 1, 'arribàvem': 1, 'tarea': 1, 'tornarien': 1, 'carregats': 1, 'testimonia': 2, '1670': 1, 'inscrita': 1, 'commemorativa': 1, 'incisa': 1, 'ubicada': 1, 'ihs': 1, 'mazi': 1, 'compareixerà': 1, 'compareix': 3, 'regionals': 2, 'r2': 4, 'recorregut': 2, 'corredor': 1, 'recuperant': 1, 'progressivament': 2, 'ocde': 1, 'exposats': 1, 'contagi': 1, 'autònoma': 10, 'biblioteques': 2, 'virtuals': 2, 'webs': 2, 'orientació': 6, 'lectura': 3, 'sexe': 2, 'limitació': 3, 'emmarca': 2, 'mediterrània': 2, 'particularitats': 2, 'levonorgestrel': 1, 'ovulació': 3, 'luteínica': 1, 'retarda': 1, 'menstruació': 1, 'mifepristona': 1, 'retardar': 1, 'finlàndia': 3, 'savònia': 1, 'rauma': 1, 'raumo': 1, 'satakunta': 1, 'oculten': 2, 'estigma': 2, 'llars': 3, 'monoparentals': 1, 'incrementarà': 1, 'dificultarà': 1, 'serrat': 2, 'borrell': 1, 'meià': 1, 'elevació': 2, '606': 1, 'olost': 1, '693': 1, 'dinar': 2, 'ampolla': 2, 'verema': 2, 'solidària': 2, 'determinar': 2, 'fallada': 2, '201': 1, '151': 1, 'inactives': 2, '106': 1, 'contribueix': 1, 'benestar': 4, 'emocional': 1, 'practiquen': 2, 'exercici': 1, 'afectiu': 1, 'jutgen': 2, 'exalcalde': 2, 'llavaneres': 2, 'colar': 1, 'ganivets': 2, 'pàrquing': 2, 'mobbing': 1, 'disposar': 1, 'salseta': 1, 'remenant': 1, 'cura': 1, 'emplatem': 1, 'posant': 2, 'salsa': 1, 'curry': 1, 'troços': 1, 'escampem': 1, 'trocets': 1, 'plàtan': 1, 'medes': 2, 'exercicis': 1, 'immersió': 2, 'submarinista': 1, '66': 3, 'organitzada': 2, 'kazakhstan': 2, 'creada': 2, 'soviètica': 3, 'variació': 1, 'desallotjats': 1, 'desallotgen': 1, 'preventivament': 2, 'dotzena': 2, 'fixarà': 1, 'mwh': 2, 'marcarà': 1, 'avisos': 5, 'sanejaments': 1, 'atenen': 1, 'llevantada': 3, 'observat': 2, 'funcionament': 3, 'màquines': 4, 'eina': 2, 'torn': 2, 'numèric': 2, 'sofisticades': 1, 'batallons': 2, 'regulars': 1, 'batalló': 4, 'militar': 3, 'infanteria': 1, 'penes': 3, 'descartar': 2, 'paregut': 1, 'interesant': 1, 'enganxat': 1, 'espasme': 1, 'muscular': 1, 'contracció': 2, 'brusca': 1, 'involuntària': 2, 'múscul': 1, 'músculs': 2, 'endureixin': 1, 'abultin': 1, 'enrampada': 1, 'persistent': 1, 'dolorosa': 1, 'tancarà': 2, 'llull': 1, 'distingit': 1, 'txec': 1, 'batet': 2, 'pinya': 1, 'bas': 1, 'argentina': 2, 'calilegua': 1, 'jujuy': 1, 'ledesma': 1, 'solucions': 4, 'ctt': 2, 'recullen': 1, 'divulgativa': 2, 'descàrrega': 1, 'arrepleguen': 1, 'autobús': 1, 'sabies': 2, 'ajuga': 1, 'abiga': 1, 'ae': 1, 'astragalus': 1, 'astrágalos': 1, 'definia': 1, 'lleguminosa': 1, 'coa': 2, 'vestimenta': 1, 'delegació': 4, 'basquet': 2, 'anirà': 2, 'yog': 2, 'buenos': 2, 'aires': 2, 'oficialment': 2, 'representació': 2, 'còrdova': 1, 'canàries': 1, 'integració': 1, 'islàmic': 2, 'captar': 1, 'terroristes': 1, 'diuen': 4, 'antigament': 2, 'pagès': 1, 'registrada': 2, 'establiment': 1, 'ensorrat': 1, 'calgut': 1, 'desallotjar': 3, 'pansa': 1, 'garnatxa': 5, 'varietats': 3, 'autòctones': 1, 'alella': 1, 'criat': 1, 'bóta': 1, 'roure': 1, 'hongarès': 2, 'criança': 1, 'samsó': 1, '511': 3, 'vallirana': 1, 'arboç': 1, 'begues': 1, 'atropellat': 5, 'prima': 3, '116': 1, '117': 1, 'centenars': 2, 'racista': 1, 'escalfar': 1, 'oliva': 1, 'cassola': 4, 'tallarem': 1, 'juliana': 1, 'saltejarem': 1, 'designen': 1, 'sabrià': 2, 'delegar': 1, 'viladecans': 1, 'alimentari': 1, 'épila': 1, 'educatiu': 4, 'vestir': 2, 'barbie': 1, 'gosset': 1, 'dolç': 1, 'clic': 1, 'accessoris': 1, 'adapta': 2, 'client': 2, 'perfecció': 1, 'melbourne': 1, 'econòmiques': 1, 'llicenciar': 2, 'adelophryne': 1, 'pachydactyla': 1, 'melanophryniscus': 1, 'cambaraensis': 1, 'defenses': 2, 'qüestionen': 1, 'pericial': 1, 'encausats': 1, 'investiguessin': 1, 'filtracions': 1, 'nascuda': 2, 'originària': 2, 'poques': 3, 'composició': 8, 'gramòfon': 1, 'daurat': 1, 'portarà': 1, 'flamenc': 3, 'juro': 2, 'qué': 1, 'malamente': 1, 'rocafonda': 1, 'xup': 1, 'peticions': 2, 'asil': 2, 'dupliquen': 1, '413': 1, 'operador': 2, 'emplaçaments': 1, 'telecomunicacions': 1, 'adquireix': 1, 'irlandès': 1, 'cignal': 1, 'vocal': 3, '1989': 1, 'ramaderia': 1, 'nativa': 2, 'iran': 3, 'afganistan': 1, 'practicat': 1, 'registres': 3, 'blau': 1, 'fosc': 2, 'succés': 2, 'corrents': 1, 'futurisme': 1, 'emmaravellan': 1, 'tecnologies': 2, 'treballarà': 1, 'tancar': 2, 'jocavi': 1, 'fàbrica': 3, 'lang': 2, '30è': 1, 'peralada': 2, 'béjart': 1, 'ballet': 1, 'inauguraran': 1, '31è': 1, 'mecanismes': 2, 'reacció': 1, 'reduccions': 1, 'orgàniques': 1, 'reaccions': 1, 'oxidació': 1, 'orgànica': 1, 'zacaries': 2, 'hebreu': 2, 'ז': 1, 'כ': 1, 'ר': 1, 'י': 2, 'ה': 2, 'zekjar': 1, 'yáh': 1, 'onzè': 1, 'profetes': 2, 'bíblia': 1, 'sofonies': 1, 'צ': 1, 'פ': 1, 'נ': 1, 'novè': 1, 'testament': 1, 'escalfeu': 1, 'popets': 1, 'sencers': 1, 'escalfem': 1, 'carbassó': 1, 'pessic': 2, 'saltem': 1, 'desplomen': 2, 'eurozona': 1, 'passa': 2, 'manel': 1, 'buhos': 1, 'exhaurit': 2, 'sopa': 1, 'garriga': 1, 'catllar': 1, 'pancarta': 2, 'torretes': 1, 'flors': 2, 'grogues': 1, 'llueix': 1, 'priorat': 3, 'suprimit': 2, '1592': 2, 'climent': 2, 'vii': 3, 'secularització': 1, 'vilabertran': 2, 'secularitzar': 1, 'comunitat': 8, 'aviació': 1, 'faig': 1, 'cauré': 1, 'gastroenteritis': 2, 'embotellada': 1, 'transmès': 1, 'envasada': 1, 'mulet': 1, 'canals': 1, 'sortides': 2, 'cims': 1, 'iniciació': 1, '162': 1, 'fontanals': 1, 'cerdanya': 2, 'prullans': 1, 'germinen': 1, 'plàntules': 1, 'lentament': 1, 'orquídies': 1, 'ràpidament': 1, 'entren': 1, 'dormició': 1, 'nuvolades': 2, 'alternaran': 1, 'núvols': 3, 'clarianes': 1, 'entrenador': 3, 'pornografia': 2, 'intendent': 1, 'insten': 1, 'plasença': 1, 'plaisance': 1, 'ponsan': 2, 'sobiran': 1, 'soubiran': 1, 'rutinari': 2, 'documentació': 2, 'lliurar': 1, 'arribada': 3, 'compte': 5, 'aprox': 1, 'dubrovnik': 1, 'ubica': 2, 'surera': 2, 'industrial': 7, 'mundo': 2, 'estaria': 1, 'moure': 1, 'edificis': 6, 'envoltats': 1, 'flanquejats': 1, 'simètrica': 3, 'ressurt': 1, 'emissora': 1, 'durar': 1, 'diplomàtiques': 2, '1975': 3, 'portaran': 1, 'icv': 2, 'forcen': 1, 'monogràfic': 1, 'reincidents': 1, 'telefonia': 1, 'robat': 1, 'comprivar': 1, 'cuit': 3, 'punxem': 2, 'botxeta': 1, 'surti': 1, 'senyal': 1, 'brotxeta': 1, 'agulla': 1, 'vinculat': 1, 'soci': 2, 'natació': 3, 'tàrraco': 1, '1961': 2, 'exjugador': 1, 'candidatures': 1, 'lectives': 1, 'concentrat': 1, 'caserna': 1, 'milers': 2, 'protestar': 2, 'macrooperació': 1, 'ofegades': 1, '171': 1, 'moriondo': 2, 'torinese': 4, 'moncucco': 2, 'castelnuovo': 1, 'don': 1, 'bosco': 1, 'mombello': 2, 'di': 2, 'torino': 2, 'buttigliera': 1, 'asti': 1, 'riva': 2, 'presso': 2, 'chieri': 2, 'arignano': 1, 'cadenes': 2, 'accedir': 3, 'bonaigua': 2, 'beret': 2, 'calen': 1, '142b': 1, 'carpa': 2, 'revetlla': 1, 'esplanada': 1, 'socialistes': 2, 'permetessin': 1, 'ratificarà': 1, 'homar': 1, 'casanovas': 1, 'max': 1, 'dòmine': 1, 'àlex': 1, 'susanna': 1, 'tur': 1, 'calòrica': 1, 'crítica': 2, 'calàbries': 1, 'captura': 1, 'preses': 1, 'alimenta': 2, 'principalment': 1, 'invertebrats': 1, 'aquàtics': 2, 'insectes': 3, 'larves': 4, 'incloses': 1, 'nimfes': 1, 'libèl': 1, 'frigànies': 1, 'humida': 2, 'boscoses': 2, 'colòmbia': 4, 'veneçuela': 3, 'andes': 1, 'clamen': 2, 'salaris': 1, 'precarietat': 3, 'dignes': 1, 'vitautas': 2, 'cavallers': 1, 'prendre': 5, 'trakai': 2, 'breument': 1, 'atacar': 2, 'vílnius': 2, 'jagelló': 1, 'reincident': 1, 'abús': 2, 'alumna': 1, 'delinqüent': 1, 'narrillos': 1, 'rebollar': 1, 'àvila': 2, 'ojos': 1, 'albos': 1, 'entrevista': 4, 'maribel': 1, 'fuertes': 1, 'aspectes': 2, 'ainhoa': 1, 'pancorbo': 1, 'xerrada': 3, 'evacuat': 1, 'aplicació': 3, 'immediat': 3, 'apliqui': 1, 'convoqui': 1, 'quina': 2, 'usingen': 1, 'zur': 1, 'goldenen': 1, 'sonne': 1, 'estimulant': 2, 'emocionant': 2, 'escapada': 2, 'ardlui': 2, 'preinscrites': 2, 'prioritat': 1, 'marqueixanes': 1, 'vinçà': 1, 'orient': 2, 'aliens': 1, 'polèmica': 3, 'fanalets': 1, 'crits': 2, 'globus': 1, 'bolívia': 1, 'evo': 2, 'amiga': 1, '1778': 2, 'pedrera': 2, 'renaixentista': 1, 'ferroviària': 3, 'interrompuda': 2, 'ràfecs': 2, 'bellament': 1, 'ornats': 1, 'sanefes': 1, 'reprodueixen': 2, 'adornats': 1, 'franges': 1, 'datada': 3, '1613': 1, '1617': 1, 'assumit': 1, 'incendis': 2, '91': 1, 'cremades': 2, 'equatoguineana': 1, 'investigui': 1, 'irregularitats': 2, 'agissa': 1, 'cometés': 1, 'destinaran': 2, 'reducció': 2, 'impostos': 2, 'encadenar': 2, 'densitat': 2, 'poblacional': 1, '124': 1, '312': 1, 'protegides': 2, 'cigonya': 1, 'voltor': 1, 'àguila': 2, 'gat': 1, 'salvatge': 1, 'llúdriga': 1, 'aus': 1, 'perdiu': 1, 'rapaces': 1, 'perdiuera': 1, 'falcó': 1, 'mussol': 1, 'òliba': 1, 'corb': 1, 'regidor': 5, 'incitar': 1, 'coma': 1, 'capgirem': 1, 'investigat': 3, 'fc': 2, 'cedit': 1, 'retornant': 1, 'demanaran': 2, 'reconsideri': 2, 'oncles': 1, 'cosins': 1, 'mestres': 5, 'marits': 1, 'avis': 2, 'tiets': 1, 'construeixen': 2, 'nius': 4, 'penjant': 1, 'arbusts': 1, 'rodalies': 2, 'múrcia': 2, 'registrar': 1, 'càpita': 3, 'rere': 1, '769': 1, 'disputaren': 2, 'moscou': 1, 'hèlsinki': 1, 'ppci': 1, 'nick': 1, 'tetsuo': 1, 'laboratori': 2, 'tendències': 3, 'esdi': 1, 'intercolor': 1, 'escull': 1, 'esdicolor_lab': 1, 'tendència': 2, 'protegida': 1, 'llenços': 1, 'muralla': 1, 'guaita': 1, 'comunicada': 1, 'tornaria': 2, 'quedaria': 2, 'baròmetre': 2, 'voti': 1, 'liatius': 1, 'feixisme': 2, 'franquisme': 2, 'intocables': 1, '3r': 1, 'preparar': 1, '1r': 1, 'montsió': 1, '1839': 1, 'apagat': 1, 'mitgeres': 1, 'aiguavessos': 1, 'fibrociment': 1, 'carener': 3, 'paral': 4, 'requeriment': 1, 'incompetència': 1, 'autoconsum': 2, 'recorre': 1, 'invasió': 1, 'competències': 2, 'proposada': 1, 'comparegui': 1, 'gordó': 1, 'crida': 1, 'responsabilitat': 2, 'militància': 1, 'sentit': 4, 'torroella': 4, 'montgrí': 1, 'oposa': 1, '1369': 2, 'portella': 2, 'pinós': 3, 'sagàs': 1, 'dominis': 3, 'enfila': 1, 'pernoctacions': 3, 'hotels': 2, 'feliuràdio': 2, 'agressor': 2, 'homofòbia': 1, 'lgtbifòbia': 2, 'físiques': 1, 'verbals': 1, 'repunt': 1, 'piano': 3, 'violí': 1, 'escultura': 2, 'feta': 2, 'amado': 2, 'gonzález': 2, 'hevia': 2, 'favila': 2, 'abandonà': 1, 'xofer': 1, '1924': 2, 'emigrà': 1, 'clandestinament': 1, 'parisenca': 1, 'introduir': 1, 'gratuïtament': 2, 'introduïu': 1, 'canvieu': 1, 'taxistes': 4, 'afegeixen': 2, 'indefinida': 2, 'estancs': 1, 'arrossegades': 1, 'davallada': 1, 'càrnies': 1, 'allargarà': 2, 'concentrarà': 1, 'gruix': 1, 'espectacles': 3, 'tugores': 1, 'huambo': 2, 'empènyer': 1, 'començava': 1, 'expandir': 1, 'abu': 3, 'kalidjar': 1, '1048': 1, 'nasr': 1, 'khusraw': 1, 'firuz': 1, 'màlik': 1, 'ar': 1, 'rahim': 1, 'djafar': 1, 'muhàmmad': 1, 'pahlawan': 1, 'ibn': 1, 'ildegiz': 1, 'nusrat': 1, 'malik': 1, 'alam': 1, 'adil': 1, 'azam': 1, 'caiguda': 2, 'frega': 2, 'barrera': 2, 'psicològica': 1, 'presentat': 3, 'iaeden': 2, 'alarmat': 2, 'abric': 2, 'rocós': 2, 'vézère': 2, 'reescollit': 1, 'pelar': 1, 'pomes': 2, 'tallem': 2, 'rentem': 1, 'làmines': 1, 'fines': 1, 'galls': 1, 'respostes': 1, 'favorables': 1, 'negatives': 1, 'prosperar': 1, 'aranyes': 2, 'localitzades': 1, 'produeixen': 1, 'fils': 1, 'seda': 2, 'segreguen': 1, 'fil': 1, 'sericígenes': 1, 'situades': 5, 'anomenades': 1, 'sáenz': 1, 'santamaría': 1, 'mediació': 3, 'democràtica': 1, 'legalitat': 2, 'literària': 1, 'romanès': 1, 'alterna': 1, 'assajos': 1, 'autors': 1, 'portugués': 1, 'competitives': 1, 'faltes': 1, 'avinyó': 1, 'fronteres': 3, 'canviat': 1, 'reconec': 1, 'entès': 2, 'volgut': 1, 'sr': 1, 'estimen': 1, 'estimats': 1, 'cuidat': 1, 'estimat': 1, 'pròxims': 3, 'gratuïts': 2, 'quasi': 3, 'texas': 2, 'chainsaw': 2, 'massacre': 2, 'beginning': 2, 'protagonitzar': 1, 'terror': 1, 'interpretar': 1, 'chrissie': 1, 'separen': 2, 'verticalment': 2, 'imiten': 1, 'motllurada': 1, 'separa': 1, 'petaures': 1, 'petaure': 1, 'esquirol': 1, 'coala': 1, 'phascolarctos': 1, 'cinereus': 1, 'marsupial': 1, 'arborícola': 1, 'soviètics': 1, 'difícils': 2, 'estimar': 1, 'naturalesa': 1, 'estalinista': 1, 'bèl': 1, 'valorar': 1, 'taxes': 2, 'publicada': 2, '4830': 1, '4967': 1, 'assolat': 1, 'fam': 2, 'muttra': 1, '1783': 1, '1784': 1, 'meritòria': 1, 'comptava': 2, '391': 1, '013': 1, 'adjudica': 2, 'explotació': 3, 'manteniment': 1, 'butlletí': 4, 'toll': 2, 'arxiu': 2, '1996': 3, 'disponible': 1, 'ocutbre': 1, 'unitària': 2, 'roman': 1, 'sola': 2, 'atm': 2, 'multimèdia': 1, 'dents': 2, 'típiques': 2, 'mamífers': 1, 'havent': 1, 'diferenciat': 3, 'molars': 1, 'premolars': 1, 'cúspides': 2, 'triangulars': 1, 'afilades': 1, 'insectívors': 1, 'cuixart': 2, 'declararan': 2, 'presenti': 2, 'sotmetran': 1, 'mateixes': 4, 'directiu': 2, 'iniciarà': 1, 'sotmetrà': 1, 'aprovació': 1, 'proclamarà': 1, 'pujades': 1, 'trobo': 1, 'penso': 1, 'tirant': 1, 'començo': 1, 'baixar': 1, 'ràpid': 3, 'seguida': 1, 'agafo': 1, 'calma': 1, '67': 1, 'cvs': 2, 'gestionats': 2, 'restant': 2, '63': 1, 'prou': 3, 'intensificarà': 1, 'adhesions': 1, 'urgents': 1, 'reivindicar': 1, 'adonar': 1, 'trucaven': 1, 'intèrfons': 1, 'desenroscaven': 1, 'espiell': 1, 'volien': 1, 'generats': 2, 'basen': 2, 'imparcialitat': 2, 'guien': 1, 'elaboració': 1, 'difusió': 2, 'informatius': 1, 'clarke': 1, 'norwich': 1, '1729': 1, 'teòleg': 1, 'sir': 2, 'william': 4, 'petty': 1, 'frs': 1, 'romsey': 1, '1623': 1, '1687': 1, 'economista': 2, 'incrementaran': 1, 'combatre': 3, 'top': 4, 'manta': 4, 'intensificaran': 2, 'castelldefels': 2, 'gloria': 2, 'hongaresos': 1, 'magyar': 2, 'dolgozók': 1, 'pártja': 1, 'mdp': 1, 'adoptà': 1, 'hongria': 2, '1948': 2, '1945': 2, 'kommunista': 1, 'párt': 1, 'photocall': 1, 'denominat': 2, 'wimpy': 2, 'hamburgueses': 1, 'cèntims': 1, 'abandonar': 2, 'continuar': 2, 'itinerant': 1, 'intentava': 2, 'commemoraran': 1, 'aniversari': 2, 'scc': 1, '1000': 1, 'ac': 6, 'colonitzada': 1, 'fenicis': 1, '1190': 1, 'repoblada': 1, 'sidó': 1, 'vuelta': 1, 'venezuela': 1, 'disputa': 2, 'femenina': 3, 'bombardejada': 1, 'arrasada': 1, 'italians': 2, 'annexionada': 1, 'somàlia': 2, 'italiana': 3, 'ocupada': 2, 'annexada': 1, 'virregnat': 1, 'docents': 2, 'àmbits': 2, 'cfa': 2, 'afa': 2, '590': 2, 'requisits': 2, 'especialitat': 2, 'docent': 1, 'lingüístics': 2, 'compleixen': 3, 'escau': 1, 'seient': 1, 'trencadís': 2, 'ceràmica': 2, 'mosaic': 2, 'irregulars': 1, 'marbre': 2, 'abstracte': 1, 'esclat': 2, 'lleial': 1, 'fidel': 2, 'reorganitzarà': 1, 'funció': 3, 'socieconòmica': 1, 'repartirà': 1, 'ambulatoris': 1, 'copate': 2, 'mosquits': 1, 'arrossars': 2, 'nuclis': 2, 'urbans': 2, 'delta': 3, 'mosquit': 1, 'propis': 2, 'èxits': 1, 'rècords': 2, 'lega': 2, 'extralimita': 1, 'clarament': 1, 'hipotètic': 1, 'vulnera': 1, 'sufragi': 1, 'passiu': 1, 'josua': 1, 'zweifel': 1, 'nasqué': 2, 'glarus': 1, '1854': 2, 'modesta': 2, 'pertanyia': 1, 'boter': 1, '1907': 1, 'convecció': 1, 'capa': 3, 'nedadors': 1, 'trampolí': 3, 'domicili': 1, 'hagi': 4, 'llençat': 1, 'buit': 2, 'empentant': 1, 'euroordre': 3, 'barceloneta': 2, 'somorrostro': 1, 'tn': 2, 'prats': 2, 'raquel': 2, 'sans': 2, '462': 1, '498': 1, 'vostè': 5, 'desitja': 2, 'configurar': 4, 'avisat': 1, 'recepció': 1, 'avisi': 1, 'cookie': 1, 'clara': 2, 'pens': 1, 'privatitzar': 1, 'violents': 3, 'concret': 1, 'quedarà': 2, 'femme': 2, 'in': 3, 'pati': 2, 'focus': 1, 'creativitat': 1, 'expedient': 1, 'sancionador': 1, 'fcc': 1, 'recollida': 2, 'municipalitzar': 1, 'tapien': 2, 'picalquers': 1, 'carretes': 1, 'immobles': 1, 'resistent': 2, 'secada': 1, 'sequera': 1, 'captació': 2, 'presa': 1, 'siurana': 1, 'habilitarà': 1, 'vinebre': 1, 'annette': 1, 'edmondson': 1, 'yvon': 1, 'ledanois': 1, 'clos': 2, 'puigvert': 1, 'inclusiva': 1, 'equitat': 3, 'igualtat': 2, 'oportuntiats': 1, 'stemcat': 1, 'vocacions': 1, 'tecnològiques': 1, 'xiii': 2, 'sang': 1, 'exemples': 2, 'reconquesta': 1, 'bastida': 1, 'recull': 2, 'imatges': 2, 'gaudit': 1, 'patge': 2, 'visitat': 1, 'autobusos': 2, 'bisbal': 1, 'mollerussa': 3, 'llinars': 1, 'vilalba': 1, 'sasserra': 1, 'mida': 1, 'bargello': 1, 'florència': 2, 'grandària': 1, '195': 1, '54': 2, 'dell': 1, 'opera': 1, 'duomo': 3, 'mèdic': 2, 'teknon': 2, 'quirón': 1, 'hospitals': 3, 'privats': 2, 'reputació': 2, 'sisena': 1, 'setena': 1, 'riders': 2, 'desconvoquen': 1, 'spirit': 2, 'uber': 1, 'airbnb': 1, 'glovo': 1, 'desconeix': 1, 'constància': 1, 'posen': 3, 'moda': 2, 'galceran': 2, 'requesens': 1, 'casat': 1, '1434': 1, 'dessoler': 1, 'tingué': 1, 'protour': 2, 'sanitat': 2, '434': 1, 'aquell': 3, 'fred': 1, 'plujós': 2, 'pxc': 1, 'allunyen': 1, 'voten': 6, 'pactada': 1, 'carnicer': 1, 'bcncanvi': 2, 'parlada': 3, 'repartiu': 1, 'papers': 1, 'ompliu': 1, 'repartim': 1, 'motlles': 1, 'enfornem': 1, 'intrínsec': 1, 'suficient': 1, 'panella': 1, 'sl': 1, 'exclusiu': 2, 'recollides': 2, 'finalitat': 2, 'mencionada': 2, 'anteriorment': 5, 'comarcal': 1, 'emet': 2, 'raigs': 2, 'lluminositat': 2, 'espectre': 2, '018': 1, '1024': 1, 'w': 2, 'estel': 1, '1020': 1, 'empleats': 2, 'fiscals': 1, 'estenguin': 1, 'extraordinàries': 1, 'enllà': 2, 'rebé': 1, 'cinematografia': 3, 'oxford': 1, 'llicenciatura': 1, 'honors': 1, 'bryanston': 1, 'filosofia': 1, 'ocurrència': 1, 'repta': 1, 'autònomes': 1, 'pallassades': 1, 'dividit': 1, 'necessita': 2, 'recapte': 1, 'tarja': 1, 'prové': 3, 'jueva': 2, 'schaffer': 1, 'bressola': 1, 'softcatalà': 1, 'finalistes': 2, 'gasull': 2, 'llibreria': 1, 'perpinyà': 2, 'amical': 1, 'wikimedia': 1, 'gaming': 1, 'gerents': 1, '2115': 1, 'subcampionat': 1, 'júnior': 1, '1922': 3, 'pacheco': 1, 'ccoo': 6, 'retorni': 2, 'funcionaris': 1, 'pagues': 1, 'extres': 1, 'iac': 1, 'reiteren': 1, 'paga': 1, 'simbòlica': 1, 'implementar': 1, 'furgonetes': 1, 'motos': 1, 'contenidors': 1, 'arribat': 1, 'façanes': 2, 'automoció': 2, 'volum': 4, 'embarassos': 1, 'adolescents': 2, 'tabaquisme': 1, 'certificats': 2, 'contindre': 2, 'corresponent': 2, 'meq': 1, 'eficaç': 1, 'anell': 2, 'vibrador': 2, 'penis': 2, 'divertit': 1, 'fimpt': 1, 'posposa': 2, 'tingladu': 1, 'acumulada': 1, 'interanual': 1, 'parroquial': 2, 'cabeça': 1, 'pontons': 1, 'aparcament': 1, 'autocaravanes': 1, 'tronar': 1, 'laminar': 1, 'fibrós': 2, 'radiat': 2, 'columnar': 2, 'massiu': 2, 'dodge': 1, 'western': 2, 'dirigit': 1, 'curtiz': 1, 'protagonitzat': 1, 'errol': 1, 'flynn': 1, 'olivia': 1, 'havilland': 1, 'guió': 2, 'buckner': 1, 'dorado': 1, 'howard': 1, 'hawks': 1, 'wayne': 1, 'mitchum': 1, 'cicles': 1, 'mostres': 1, 'reprovi': 1, 'persecució': 1, 'corrupció': 2, '1917': 2, 'governador': 4, 'querétaro': 1, 'véns': 1, 'càritas': 2, 'atendre': 3, '225': 1, 'enginyeria': 4, 'química': 6, 'agroalimentària': 2, 'facilitar': 2, 'incorporació': 1, '1er': 1, 'desafiarà': 1, 'temari': 1, 'estructurat': 2, 'mòduls': 1, 'quadrimestres': 1, 'barrejat': 1, 'fina': 1, 'solvent': 2, 'orgànic': 1, 'apolar': 1, 'medicaments': 1, 'destil': 1, 'lant': 1, 'component': 1, 'centellejador': 1, 'estrenes': 2, 'absolutes': 2, 'titelles': 2, '28a': 1, 'nostre': 3, 'aconsegueixis': 1, 'otomans': 2, '1578': 1, 'fezzan': 1, '1516': 1, 'olímpics': 1, 'anvers': 2, 'proves': 7, 'atletisme': 1, 'hípica': 1, 'metàfora': 1, 'capitalitat': 2, 'oficiarà': 3, '58a': 1, 'taga': 2, '130è': 1, '131è': 1, 'ferm': 2, 'aldover': 2, 'costaran': 1, 'liciten': 2, 'consellera': 2, 'treballa': 2, 'contingència': 2, 'lelament': 1, 'selves': 3, 'pluvials': 3, 'rierols': 1, 'co': 1, 'dirigir': 1, 'llargmetratge': 2, 'esperit': 1, 'estrenada': 3, 'huidas': 1, 'discoteca': 2, 'apunyalen': 1, 'corall': 2, 'caledònia': 2, 'fidji': 1, 'tonga': 2, 'tasmània': 1, 'obri': 2, 'tranquil': 3, 'litat': 2, 'vorà': 1, 'immersa': 1, 'esta': 2, 'veurà': 1, 'embolicada': 1, 'cristal': 5, 'litza': 2, 'amorfa': 2, '578': 1, '482': 1, 'pressupost': 5, 'liquidació': 1, 'tità': 1, 'satèl': 1, 'lit': 1, 'saturn': 1, 'ganimedes': 1, 'venus': 1, 'planeta': 3, 'doble': 1, 'construït': 1, '1875': 1, 'erlangen': 1, 'titular': 2, 'vora': 1, 'cinquanta': 2, 'matemàtiques': 1, 'helsinki': 1, '1938': 1, 'esplèndid': 1, 'caminada': 1, 'amo': 3, 'filològica': 2, 'interuniversitari': 1, 'filologia': 2, 'valenciana': 3, 'elif': 1, 'shafak': 1, 'narcís': 1, 'comadira': 1, 'espanñol': 1, 'maylis': 1, 'kerangal': 1, 'màrius': 1, 'participaran': 1, 'portet': 1, 'bonet': 1, 'vegas': 1, 'quilapayún': 1, 'isaac': 1, 'gil': 1, 'barnasants': 1, 'concretar': 2, 'executar': 2, 'preveure': 2, 'finançament': 2, 'feien': 1, 'immobiliaris': 1, 'botí': 1, '180': 2, 'modificarà': 1, 'successions': 2, 'restituir': 1, 'camarles': 2, 'calcina': 1, 'habitació': 3, 'hostalric': 1, 'golfes': 1, 'piulada': 2, 'disculpes': 1, 'atribuir': 1, 'negava': 1, 'pvp': 1, 'recinte': 1, 'nexes': 2, 'límits': 2, 'connexions': 1, 'generen': 1, 'contextos': 3, 'idensitat': 1, 'maneres': 1, 'gratis': 1, 'tom': 2, 'jerry': 2, 'aena': 2, 'acs': 2, 'arcelormittal': 1, '78': 1, 'crescut': 2, 'castigats': 1, 'parquet': 1, 'iag': 1, 'cbc': 2, 'emetre': 2, 'emissió': 1, 'elegir': 2, 'snp': 2, 'aspira': 1, 'feus': 1, 'laboristes': 1, 'consola': 2, 'gossos': 4, 'insalubres': 1, 'desnutrició': 1, 'cavalls': 1, 'ase': 1, 'malnodrits': 1, 'pèssimes': 1, 'higièniques': 1, 'sanitàries': 1, 'rellevància': 1, 'interés': 2, 'produir': 4, 'rio': 1, 'janeiro': 1, 'atacades': 2, 'vàndals': 2, '1941': 1, 'paracaigudistes': 2, 'llançats': 1, 'aeròdroms': 1, 'creta': 2, 'llançant': 1, 'gallina': 2, 'pelada': 2, '2317': 1, 'mts': 1, 'prepirinenca': 1, 'ensija': 2, 'berguedà': 2, 'elevat': 1, 'pedraforca': 1, 'rassos': 1, 'peguera': 1, 'flora': 2, 'caracteritza': 1, 'torbes': 1, 'arbòrees': 1, 'riques': 1, 'fauna': 1, 'elaborats': 2, 'xarel': 2, 'sauvignon': 2, 'chardonnay': 2, 'macabeu': 1, 'parellada': 1, 'allindanada': 1, 'emmarcada': 1, 'majestuosos': 1, 'pilars': 4, 'acanalats': 1, 'adossats': 1, 'mur': 1, 'dotats': 1, 'basament': 1, 'capitell': 1, 'corinti': 1, 'capitells': 1, 'jònic': 1, 'masies': 2, 'externa': 1, 'ponç': 1, 'completa': 1, 'puntuació': 2, 'assignaran': 2, 'acreditada': 1, 'acreditades': 1, 'ferma': 2, 'interposant': 1, 'miró': 2, 'cedeix': 2, 'escultures': 2, 'botín': 2, 'santander': 2, 'allargaran': 1, 'humà': 1, 'somiar': 1, 'ecosocialistes': 2, 'tiren': 2, 'esquerres': 1, 'depredat': 2, 'cynoscion': 1, 'nannus': 1, 'makaira': 1, 'mazara': 1, 'travel': 1, 'quercorb': 1, 'quercòrb': 1, 'aude': 2, 'occitana': 1, 'saut': 1, 'sault': 1, 'individual': 2, 'còmoda': 1, 'residencial': 1, 'xelida': 1, 'tamariu': 1, 'exclusiva': 1, 'standing': 1, 'corea': 2, 'naus': 2, 'alçades': 1, 'creuer': 2, 'ipcena': 2, 'floresta': 1, 'destrucció': 1, 'oreneta': 1, 'destruir': 1, 'orenetes': 1, 'massissa': 1, 'rematada': 1, 'xapitell': 1, 'llicorella': 2, 'bungalows': 1, 'pensats': 2, 'xamfrà': 1, 'distribuït': 2, 'integren': 1, 'mix': 1, 'obtindria': 1, 'piñeira': 2, 'puigcerdà': 2, 'regidors': 4, 'investit': 3, '775': 1, 'activada': 3, 'brava': 2, 'activa': 3, 'talent': 2, 'agraïm': 1, 'mélenchon': 1, 'implanta': 1, 'pròtesis': 1, 'mapeig': 1, 'cerebral': 1, 'text': 5, 'sariegos': 1, 'nepas': 1, 'sòria': 1, 'vicesecretari': 1, 'ajec': 1, 'calcinar': 2, 'matoll': 1, 'despenalitzar': 1, 'convocatòria': 5, 'referèndums': 1, 'votar': 1, 'parlar': 1, 'lliurement': 1, 'grirona': 1, 'patrocinada': 1, 'particular': 2, 'demanava': 3, 'escopeter': 1, 'imprudència': 1, 'huertas': 1, '080': 1, 'convent': 1, 'arxivi': 1, 'corominas': 1, 'barrufet': 1, 'acollit': 1, 'jova': 1, 'parlat': 3, 'rectificar': 4, 'atemorit': 2, 'privat': 1, 'lliteres': 2, 'compartit': 1, '1974': 1, 'badajoz': 2, 'tinguts': 2, 'rondes': 1, 'elavaorar': 1, 'mostrats': 1, 'cursiva': 1, 'basilical': 1, 'separades': 1, 'sostenen': 1, 'remarcable': 1, 'separats': 1, 'torals': 1, 'regional': 2, 'pujà': 1, 'preferent': 1, 'baixà': 1, 'posta': 2, 'ous': 4, 'guingueta': 1, 'premià': 1, 'canelones': 1, 'guadalupe': 1, 'uruguai': 2, 'homònim': 1, 'mazamorra': 1, 'poblat': 1, 'ubicat': 1, 'durazno': 1, 'autoescola': 1, 'voltregà': 1, 'barregeu': 2, 'estafa': 2, 'agreujada': 1, 'milionària': 1, 'apropiació': 1, 'indeguda': 1, 'administració': 2, 'deslleial': 1, 'primaris': 2, 'conreades': 1, 'secundaris': 1, 'degradats': 1, 'lhospital': 2, 'universitari': 4, 'doctor': 1, 'sanitari': 3, 'gestionat': 1, 'funcionem': 1, 'convinació': 1, 'menus': 1, 'possibilitats': 1, 'inclouen': 1, 'personalitzables': 1, 'ajusten': 1, 'gustos': 1, 'eldiario': 1, 'confirmat': 2, 'acn': 1, '9ena': 1, 'nevera': 2, 'inagural': 1, 'curses': 4, 'castelló': 3, 'puntuable': 1, 'aeròbicament': 1, 'aerobis': 2, 'estrictes': 3, 'anaeròbicament': 1, 'anaerobis': 2, 'facultatius': 1, 'natwick': 1, 'primetime': 1, 'emmy': 2, 'ustinov': 1, 'contracte': 2, 'espècimens': 2, 'madurs': 1, 'sexualitzats': 1, 'ex': 1, 'fissípars': 1, 'vinyes': 2, 'doix': 1, 'costers': 1, '550': 1, 'magatzem': 2, 'sénia': 1, 'flix': 1, 'urartu': 2, 'ichqugulu': 1, 'ani': 1, 'akhuriani': 1, 'subvencions': 2, 'associacions': 2, 'comerciants': 2, 'convocatòries': 1, 'hostaleria': 1, 'zannichellia': 1, 'aquàtiques': 2, 'angiospermes': 1, 'submergides': 1, 'thalassia': 1, 'marines': 1, 'majestat': 1, 'procedent': 1, 'temple': 1, 'arrestar': 1, 'glinka': 1, 'preludis': 1, 'orgue': 1, 'sacra': 1, 'composicions': 1, 'instrumentals': 1, 'cantates': 1, 'peleu': 1, 'bullint': 1, 'fulla': 1, 'llorer': 2, 'bullim': 1, 'creïlles': 1, 'pelades': 1, 'fulleta': 1, 'pragmàtica': 1, 'assessor': 1, 'revistes': 4, 'científiques': 4, 'discurs': 1, 'negatiu': 1, 'hòmes': 1, 'apareixen': 1, 'escenes': 2, 'quotidiana': 2, 'representen': 1, 'lluminós': 1, 'munté': 1, 'abordat': 1, 'filtració': 1, 'inquietud': 1, 'suggerència': 1, 'facebook': 2, 'teneu': 1, 'convoquen': 1, 'cares': 1, 'triplicava': 3, 'boix': 2, 'esforcem': 2, 'llonza': 1, 'elaborada': 1, 'artesanal': 2, 'pit': 1, 'bio': 1, 'elaborat': 2, 'políedres': 2, 'lustra': 2, 'transició': 5, 'dodecàedre': 3, 'icosàedre': 2, 'passant': 2, 'icosidodecàedre': 1, 'truncat': 1, '493': 1, '988': 1, 'exotropia': 1, 'incrementa': 1, 'pressiona': 1, 'dedicat': 3, 'estendre': 1, 'pèrsia': 1, 'kirman': 1, 'armènia': 3, 'caucas': 2, 'anatòlia': 1, 'seljúcides': 1, 'estenien': 1, 'amudarià': 1, 'síria': 1, 'tuvalu': 2, 'noruega': 1, 'editat': 1, 'segell': 2, 'discogràfic': 2, 'rca': 1, 'records': 1, 'influències': 3, 'miles': 2, 'pianistes': 2, 'rellevants': 1, 'jazz': 2, 'compositors': 2, 'influents': 1, 'emu': 2, 'assenyala': 1, 'castellbisbal': 1, 'incursió': 1, 'west': 2, 'side': 2, 'story': 2, 'commemorar': 2, 'leonard': 2, 'bernstein': 2, 'osv': 1, 'interpretarà': 1, 'tracció': 2, 'negociarà': 4, 'respon': 1, 'ultimàtum': 1, 'previst': 3, 'adquisició': 3, 'tomàs': 1, 'dalmau': 2, 'faura': 1, 'traslladats': 4, 'palamós': 1, 'verinós': 2, 'aliment': 1, 'cuirs': 1, 'emprat': 1, 'comercialment': 1, 'cartílag': 1, '1984': 2, 'reingressar': 1, 'independitzar': 1, 'sostenibilitat': 2, 'rotonda': 2, 'llofriu': 1, 'treure': 1, 'condició': 3, 'apagar': 2, 'xifrat': 3, 'díaz': 3, 'béns': 1, 'r': 2, '0010688': 1, 'bcil': 1, '08019': 1, '2105': 1, 'bcn': 3, 'aplega': 2, '170': 1, 'poblenou': 1, 'house': 1, 'dirigents': 1, 'sancionats': 1, 'ètica': 3, 'donació': 2, 'desgravar': 1, 'aportació': 1, 'teves': 1, 'acreditació': 1, 'míssils': 3, 'desenvolupats': 1, 'nazi': 1, 'precursors': 1, 'armes': 5, 'usades': 1, 'freda': 3, 'operatius': 1, 'aristòtil': 1, 'plató': 1, 'sòcrates': 1, 'registre': 1, 'votants': 1, 'llistes': 2, 'unitàries': 1, 'cercar': 1, 'avals': 1, 'diversificació': 2, 'impulsar': 1, 'reactivar': 1, 'comerços': 2, 'històrics': 1, 'singulars': 2, 'emblemàtics': 1, 'messi': 2, '160': 2, 'dianes': 1, 'realitzador': 2, 'triomfs': 1, 'gols': 2, 'rebuts': 1, '143': 1, 'pep': 2, 'culleres': 2, 'roques': 1, 'mirant': 1, 'quedin': 1, 'muntanyetes': 1, 'anirem': 1, 'safata': 1, 'vegetal': 1, 'eton': 1, 'college': 2, 'trinity': 2, 'hall': 1, 'charterhouse': 1, 'addicionalment': 1, 'polaritza': 1, 'depèn': 1, 'magnètic': 2, 'incrementar': 1, 'efectes': 1, 'produeix': 2, 'potenciació': 1, 'siad': 1, 'previstes': 2, 'consistori': 1, 'defensar': 1, 'salti': 1, 'lumia': 1, 'disminuir': 1, 'breu': 3, 'responsables': 1, 'posarem': 1, 'deflagració': 1, 'danys': 1, 'prevenció': 2, 'riscos': 2, 'assessorament': 1, 'íñigo': 1, 'eguaras': 1, 'álvarez': 1, 'antsoain': 1, 'esports': 2, 'migcampista': 1, 'marcos': 1, 'barreno': 1, 'marquitos': 1, 'eivissenc': 1, 'moviment': 3, 'rectilini': 2, 'trajectòria': 1, 'rectilínia': 1, 'balcans': 1, 'vinculada': 1, 'operava': 1, 'clúster': 1, 'promoció': 1, 'cívic': 1, 'emprenedoria': 1, 'coboi': 1, 'tavertet': 2, 'reprenen': 1, 'inhala': 2, 'rodes': 1, 'lenta': 2, 'mantenint': 3, 'braços': 1, 'sòlida': 1, 'baixes': 3, 'celià': 2, 'coordinadora': 1, 'coordinat': 2, 'antiterrorista': 1, 'passen': 1, 'tèrmyica': 1, 'imatge': 2, 'feminismes': 2, 'cartell': 3, '587': 1, '395': 1, 'útils': 2, 'necessaris': 1, 'piolet': 2, 'grampons': 2, 'terratrèmol': 2, 'golf': 1, 'roses': 1, 'epicentre': 1, 'vallicrosa': 1, 'vallors': 1, 'documentada': 2, '1183': 1, '1193': 1, 'descansen': 2, 'médard': 1, 'montparnasse': 1, 'específica': 1, 'estàs': 2, 'constituirà': 1, 'ah': 1, 'fotos': 4, 'aneu': 1, 'oblideu': 1, 'avançada': 2, 'traslladada': 2, 'cranial': 1, 'complicada': 2, 'netbios': 2, 'executa': 1, 'software': 1, 'especifica': 1, 'antidroga': 1, 'suprimir': 2, 'karen': 1, 'cockburn': 1, 'gimnasta': 1, 'especialitzada': 1, 'modalitat': 1, 'guanyadora': 2, 'olímpiques': 2, 'kaillie': 2, 'humphries': 1, 'simondson': 1, 'calgary': 1, 'corredora': 1, 'bobsleigh': 1, 'reparar': 2, 'potable': 2, 'convocants': 2, 'comptat': 2, 'circuit': 1, 'sepang': 1, 'disputen': 1, 'competicions': 2, 'karts': 1, 'motocròs': 1, 'bmx': 1, 'critèrium': 1, 'corrons': 1, 'cicloesportives': 1, 'contrarellotges': 1, 'andrés': 1, 'barba': 1, '35è': 1, 'herralde': 2, 'luminosa': 1, 'fácil': 1, '36è': 1, 'associat': 2, 'facultat': 2, 'babeş': 1, 'bolyai': 1, 'cluj': 1, 'napoca': 1, 'uned': 1, 'configuració': 2, 'dinàmics': 1, 'flexibles': 2, 'adapten': 1, 'realitats': 2, 'absolutament': 1, 'permeten': 1, 'particulars': 1, 'desenvolupin': 1, 'començaran': 1, 'reprendran': 1, 'delegats': 1, 'províncies': 2, 'elegiren': 1, 'nanjing': 1, 'gratuïtes': 2, 'consergeria': 1, 'pisón': 1, 'aprofundeix': 1, 'fin': 1, 'amor': 4, 'hanne': 1, 'orstavik': 1, 'calculava': 1, 'malakal': 1, '139': 1, '1359': 1, '1360': 1, '381': 1, '456': 1, 'ocuparà': 1, '470': 1, 'terreny': 1, 'desplaçar': 2, '21a': 1, 'marató': 2, 'elda': 1, 'horatio': 1, 'powell': 2, 'únic': 1, 'pittsburgh': 2, 'pennsilvània': 2, 'palm': 1, 'springs': 1, 'estatunidenc': 1, 'júpiter': 2, 'brilla': 2, 'determinades': 1, 'nits': 1, 'homogeni': 1, 'simètric': 1, 'suspendre': 1, 'prevista': 1, 'dónam': 1, 'miro': 1, 'trec': 1, 'veus': 1, 'nomenar': 1, 'iconografia': 1, 'atribut': 2, 'arcàngel': 2, 'espasa': 1, 'flamejant': 1, 'trucarà': 2, 'truca': 1, 'patrulla': 1, '153': 1, 'sinistres': 1, '163': 1, 'portem': 1, '135': 1, 'baixmedieval': 1, 'possiblement': 1, 'edificada': 1, 'afegida': 1, 'guardiola': 2, 'enverinar': 2, 'mortalment': 1, 'neguen': 1, 'absolen': 1, 'manca': 1, 'gsma': 1, 'urgència': 1, 'mobile': 2, 'congress': 2, 'taxi': 1, 'mobilitza': 1, 'acollir': 2, 'refugiats': 1, 'acompanyats': 2, 'centres': 6, 'campuzano': 1, 'proclames': 1, 'compliment': 1, 'desconnexió': 1, 'cantonal': 2, 'bordèras': 1, 'castèlnòu': 1, 'montmiralh': 1, 'estrenà': 2, 'teatro': 2, 'carlo': 2, '1823': 1, 'aixequen': 1, 'tancada': 1, 'emplacen': 1, 'just': 1, 'desvern': 1, 'quirze': 1, 'mitgera': 1, 'orientada': 1, 'plegats': 1, 'allà': 2, 'apujada': 1, 'portugal': 3, 'princesa': 3, 'alfons': 1, 'savoia': 1, 'substitueix': 1, 'roger': 1, 'cessat': 1, 'catsalut': 1, 'desavinences': 1, 'assumirà': 1, 'honoré': 2, 'nabéré': 2, 'traoré': 2, 'anunciar': 2, 'lideraria': 1, 'comandaria': 1, 'presidenta': 1, 'burgesos': 1, 'zentrum': 1, 'votaria': 1, 'convida': 1, 'commemoració': 1, 'orgull': 1, 'eliminació': 1, 'aguas': 2, 'isaki': 2, 'lacuesta': 2, 'emporta': 1, 'conxa': 2, 'competirà': 1, 'jugaran': 1, '1616': 1, 'udaiyur': 1, '1620': 1, '1462': 1, '1466': 1, 'global': 4, 'diplomàtics': 2, 'confederació': 1, 'cepes': 1, 'atemorits': 1, 'assisteix': 1, 'pintors': 1, 'obtenint': 1, 'decoració': 1, 'obtingué': 1, 'desnonaments': 2, 'executen': 1, 'estén': 1, 'estudiaré': 1, 'duguen': 1, 'calcer': 1, 'adequats': 1, 'tràgul': 2, 'gregal': 2, '1m': 1, '2m': 1, 'escric': 1, 'triada': 1, 'escollida': 1, 'literature': 1, 'intent': 1, 'expropiat': 2, 'desallotjament': 1, 'lady': 1, 'macbeth': 1, 'encarregat': 1, 'inaugurar': 1, 'andrea': 1, 'jaurrieta': 1, 'impulsada': 1, 'baixada': 3, 'carburants': 2, 'enceta': 1, 'instructor': 2, 'menyspreu': 1, 'encoratja': 1, 'radicalment': 1, 'currículum': 1, 'patit': 1, 'modificació': 1, 'dubtes': 2, 'raonables': 2, 'tesi': 3, 'capellades': 3, 'gironès': 1, 'mestre': 1, 'soteras': 2, 'muray': 1, 'constructor': 1, 'pessebrista': 1, 'paganisme': 1, 'nòrdic': 1, 'freyja': 1, 'deessa': 2, 'bellesa': 1, 'fecunditat': 1, 'escandinava': 1, 'sjöfn': 1, 'associada': 3, 'festes': 2, 'castanyada': 2, 'llarder': 2, 'cecília': 1, 'pasqua': 1, 'sobiranista': 1, 'omple': 2, 'diaris': 4, 'victòria': 1, 'macron': 1, 'dispara': 1, 'krenzlin': 1, 'mecklemburg': 2, 'pomerània': 2, 'leussow': 1, 'tingueu': 1, 'remenat': 1, 'clares': 2, 'muntem': 3, 'nata': 2, 'vainilla': 1, 'vacants': 1, 'intermensual': 1, 'infojobs': 1, 'sabeu': 2, 'defenso': 1, 'val': 1, 'egòlatra': 1, 'oi': 1, 'iia': 1, 'justificat': 2, 'subvenció': 2, 'atorgada': 2, 'ateses': 2, 'nerviosa': 1, 'intoxicació': 1, 'kilòmetres': 1, 'gabon': 1, 'bissau': 1, 'albiach': 1, 'conflueixi': 1, 'dissolgui': 1, 'forces': 1, 'victimisme': 1, 'neucat': 2, 'alfa': 1, 'reunit': 2, 'germandat': 2, 'rocíera': 1, 'adrià': 2, 'besòs': 2, 'pastora': 1, 'alba': 1, 'autopista': 1, 'celoni': 1, 'momo': 1, 'sarr': 1, 'setze': 1, 'incorpora': 1, 'inferiors': 2, '2000': 2, 'triestina': 1, 'cesare': 1, '1952': 1, 'reivindicatiu': 1, 'protagonisme': 1, 'gérard': 1, 'debreu': 1, 'matemàtic': 1, 'restaurada': 2, 'vivo': 1, 'arraulir': 1, 'terradellas': 1, 'catmón': 1, 'ingman': 1, 'sufragat': 1, 'despeses': 2, 'manutenció': 1, 'encunyat': 1, 'hipòcrates': 2, 'τέχνη': 1, 'ιατρική': 1, 'eugeni': 1, 'sierra': 2, 'ràfols': 1, '1919': 3, 'lustrador': 1, 'marià': 1, 'ribas': 1, 'bertran': 1, 'arqueòleg': 1, 'dibuixant': 1, 'torredembarra': 1, 'war': 1, 'zao': 1, 'tatler': 1, '1626': 1, 'frescs': 1, 'piacenza': 1, 'frescos': 1, 'recuperats': 1, 'spannabis': 1, 'cornellà': 1, 'tractar': 2, 'drepanocitosi': 1, 'anèmia': 1, 'hereditària': 1, 'uveïtis': 1, 'ceguesa': 1, 'solana': 1, 'carnissera': 1, 'caputxet': 1, 'accidentats': 1, 'retirats': 2, 'voral': 1, 'incorporar': 2, 'claretians': 2, 'sacerdot': 1, 'admetre': 1, 'juraments': 1, 'tramitació': 1, 'crearà': 1, 'sales': 1, 'jurídic': 1, 'rovira': 1, 'compta': 3, 'dj': 3, 'difive': 1, 'clipper': 1, 'sounds': 1, 'alexandermain': 1, 'esperar': 2, 'restableixi': 2, 'marquic': 1, 'ca': 3, 'taradell': 2, 'aràbiga': 1, 'aïllat': 1, 'trapezoïdal': 1, 'frederic': 1, 'mecklenburg': 1, 'schwerin': 1, 'augusta': 1, 'reuss': 1, 'köstritz': 1, 'ludwigslust': 1, 'hildburghausen': 1, '1826': 1, 'essent': 1, 'saxònia': 1, 'altenburg': 1, 'amàlia': 1, 'württemberg': 1, '380': 1, '464': 1, 'llíria': 1, '269': 1, '365': 1, 'sismògraf': 1, 'reconstruïda': 1, '1949': 2, 'secret': 2, 'sumari': 2, 'magistrat': 1, 'ambulància': 1, 'sèpsia': 1, 'anava': 2, 'parapent': 1, 'organyà': 1, 'excursions': 2, 'reñé': 2, 'renúncia': 2, 'tensió': 1, 'negant': 1, 'conflicte': 2, 'diplomàtic': 2, 'cremar': 2, 'anhidrocaïnita': 1, 'sulfat': 1, 'anhidre': 1, 'potassi': 1, 'kmg': 1, 'so4': 1, 'cl': 1, 'neighborita': 1, 'halur': 1, 'fluorur': 1, 'sodi': 1, 'namgf3': 1, 'analcohòlic': 1, 'plantejar': 1, 'pre': 1, 'constituent': 1, 'depuradora': 2, 'vanderhorstia': 1, 'gòbids': 2, 'perciformes': 2, 'tridentiger': 1, 'intensifica': 1, 'desplaçaments': 2, 'organitzarà': 1, 'sons': 2, 'onzena': 1, 'sèries': 1, 'desdecasa': 1, 'fest': 1, 'lleidatà': 1, 'cofundador': 2, 'badaloní': 2, '1921': 1, '509': 1, 'alifàtic': 1, 'aleiphar': 1, 'greix': 1, 'estromatòlit': 1, 'deriva': 1, 'strōma': 1, 'jaç': 1, 'llit': 1, 'catifa': 1, 'litho': 1, 'comas': 2, 'repetirà': 2, 'colla': 2, 'marquès': 1, 'agafarà': 1, '266': 1, 'afluent': 2, 'belan': 1, 'gaurang': 1, 'tramvia': 2, 'aarhus': 2, 'dinamarca': 2, 'doctorar': 1, 'biològiques': 1, 'acabarà': 1, 'ball': 3, 'sonora': 1, 'band': 1, 'presentava': 2, 'gregues': 2, 'alfabet': 2, 'penetra': 1, 'areste': 1, 'travessa': 2, 'obaga': 1, 'figa': 1, 'remodelació': 1, 'bopb': 2, '166': 1, 'palol': 1, '146': 1, 'aspiren': 1, 'prudenci': 1, 'bertrana': 1, 'ofèlia': 1, 'pintura': 2, 'everett': 1, 'millais': 1, 'realitzada': 2, '1852': 1, 'consultant': 1, 'oracle': 1, 'prerafaelita': 1, 'waterhouse': 1, 'reelegit': 1, 'morella': 1, 'ateneus': 1, 'estabilitza': 1, 'cabal': 1, 'pirinencs': 1, 'inuncat': 2, 'mirar': 2, 'restablerta': 1, 'demores': 1, 'r13': 2, 'r14': 2, 'r15': 2, 'r16': 2, 'reparada': 1, 'retards': 2, 'r11': 1, 'òrbita': 2, 'lipse': 1, 'líptica': 1, 'capturar': 1, 'tonyina': 2, 'veda': 2, 'recreatius': 1, 'pescar': 1, 'varia': 1, 'ambre': 4, 'estant': 1, 'litzada': 2, 'transparent': 1, 'líquid': 1, 'líquida': 1, 'atracar': 2, 'devesa': 2, 'ingressar': 3, 'panrussa': 1, 'gueràsimov': 1, 'vgik': 2, 'gerasimov': 1, 'graduà': 1, 'harmonia': 1, 'instrumentació': 1, 'pedrell': 2, 'édouard': 1, 'risler': 1, 'saëns': 1, 'dèiem': 1, 'dic': 1, 'tantes': 1, 'apunten': 2, 'certa': 1, 'estabilització': 2, 'acosta': 1, 'corba': 1, 'caça': 1, 'formatges': 1, 'maridar': 1, 'marisc': 1, 'neus': 1, 'lloveras': 1, 'capçalera': 2, 'escalonats': 1, 'presbiteris': 1, 'destacant': 1, 'poligonals': 1, 'radials': 1, 'menja': 2, 'bentònics': 1, 'algues': 1, 'bonvehí': 2, 'respecta': 2, 'coincideix': 1, 'batea': 1, 'dècim': 1, 'grossa': 1, 'rifa': 1, 'oriac': 1, 'moisés': 1, 'rodríguez': 1, 'carrión': 1, 'sevilla': 2, 'andalús': 2, 'muñoz': 1, 'bravo': 1, 'pallaresos': 1, 'agafat': 2, 'parlants': 2, 'palles': 2, 'símbol': 1, 'camper': 1, 'gules': 1, 'comtes': 1, 'setanta': 1, 'jover': 2, 'moria': 1, 'afusellat': 2, 'franquistes': 1, 'kupang': 1, 'indonèsia': 2, 'nusa': 1, 'tenggara': 1, 'bandar': 1, 'lampung': 2, 'sumatra': 1, '836': 1, 'gisela': 1, 'pietós': 1, 'pipí': 1, 'finalització': 1, 'revolta': 1, 'afiliant': 1, 'legalització': 1, 'pce': 1, 'ofrena': 2, 'floral': 2, 'representarà': 1, 'estrenat': 1, 'güéjar': 1, 'granada': 2, 'quesada': 1, 'jaén': 1, 'plaer': 1, 'organitzar': 1, 'esdeveniment': 1, '789': 1, '910': 1, 'llambilles': 1, 'caminant': 2, 'papasseit': 2, 'pujaescales': 2, 'escenari': 2, 'augmentat': 1, '75': 1, 'totals': 1, '859': 1, 'seminoles': 1, 'vivint': 1, 'hectàrea': 1, 'carnestoltes': 2, 'autocensura': 1, 'creieu': 2, 'feines': 4, 'seixanta': 1, 'multiplicava': 1, 'paraula': 1, 'legitimitat': 2, 'anticorrupció': 1, 'salarial': 2, '71': 1, '809': 1, 'r4': 2, 'caravaggio': 1, 'milà': 1, 'reivindicació': 1, 'fregant': 1, 'posicionament': 2, 'alberic': 1, 'màximes': 2, 'garanties': 2, 'alfarràs': 1, 'deslocalització': 2, 'globalització': 2, 'valoració': 3, 'conseqüències': 1, 'formes': 1, 'participarà': 2, 'parlamentària': 2, 'impugnació': 1, 'apristurus': 1, 'microps': 2, 'esciliorrínids': 1, 'carcariniformes': 1, 'heteropneustes': 1, 'heteropneustidae': 1, 'siluriformes': 1, 'llacs': 1, 'estanys': 1, 'fluvials': 1, 'aiguamolls': 1, 'inundades': 1, 'intervingué': 1, 'antifeixista': 2, 'sia': 2, 'milità': 1, 'tautologies': 1, 'veritats': 2, 'lògiques': 2, 'lògica': 2, 'proposicional': 2, 'coneguts': 1, 'cardedeu': 1, 'decidible': 2, 'recursiu': 1, 'recursivament': 2, 'enumerable': 1, 'veien': 1, 'característiques': 1, 'mecàniques': 1, 'depenen': 2, 'lina': 1, 'propietats': 1, 'foix': 1, 'calders': 1, 'mascles': 2, 'assolir': 2, 'llargària': 2, 'g': 2, 'masqat': 1, 'dècades': 1, '1750': 1, 'individualment': 2, 'minerals': 2, 'miques': 1, 'clorita': 1, 'diòpsid': 1, 'calcita': 1, 'wol': 1, 'lastonita': 1, 'webnerita': 1, 'vesuvianita': 1, 'serpentines': 1, 'pirrotina': 1, 'calcopirita': 1, 'pirita': 1, 'estannita': 1, 'malaquita': 1, 'pseudomalaquita': 1, 'crisocol': 1, 'quars': 1, 'portàtils': 1, '10a': 1, 'videojocs': 1, 'spike': 2, 'video': 1, 'game': 1, 'awards': 1, 'bloquejar': 1, 'dénia': 1, 'arribades': 1, 'sociología': 1, 'intervingut': 1, 'fitxes': 2, 'instruments': 2, 'lícites': 1, 'comprendre': 2, 'missatge': 2, 'mite': 2, 'nativitat': 2, 'parar': 1, 'símbols': 2, 'rescats': 1, 'disparin': 1, 'precaucions': 1, 'ampla': 1, 'afrontant': 1, 'concursar': 2, 'pedagogia': 2, 'terapèutica': 2, 'instituts': 3, 'edward': 1, 'brien': 1, 'colm': 1, 'meaney': 1, 'fictici': 2, 'star': 2, 'trek': 2, 'elim': 1, 'garak': 1, 'andrew': 1, 'robinson': 1, 'naüja': 1, 'botàs': 1, 'giragonses': 1, 'serreta': 1, 'davalla': 1, 'dispersos': 1, 'alts': 2, 'assolellat': 1, 'entelat': 1, 'articulista': 1, 'levante': 2, 'emv': 2, 'saó': 1, 'laborador': 1, 'público': 1, 'berria': 1, 'enderrock': 2, 'prudent': 1, 'portals': 1, 'enllaçats': 1, 'francolí': 1, 'frontnegre': 1, 'pternistis': 1, 'atrifrons': 1, 'fasiànids': 2, 'phasianidae': 2, 'etiòpia': 1, 'faisà': 1, 'esperons': 1, 'rostchild': 1, 'polyplectron': 1, 'inopinatum': 1, 'malaia': 1, 'establí': 1, 'hispànica': 1, 'anà': 1, 'coordinador': 2, 'retreu': 1, 'parlon': 1, 'apostin': 1, 'búnquer': 1, 'enllaçar': 1, 'adjudiquen': 1, 'variant': 1, 'pactes': 1, 'franques': 1, 'beneficis': 2, 'anirán': 1, 'abella': 2, 'ampa': 1, 'paisà': 1, 'sortien': 1, 'bancària': 1, 'fugien': 1, 'autocaravana': 1, 'desbandada': 1, 'obrers': 1, 'afegeix': 1, 'rebels': 1, 'ajuntar': 1, 'cimarrons': 1, 'sublime': 1, 'específicament': 1, 'superat': 1, '881': 1, '64': 1, 'exàmens': 1, 'festivitat': 1, 'difondre': 1, 'jpl': 1, 'andra': 2, 'eòlica': 2, 'clean': 1, 'co2': 1, 'scewc': 1, 'fusiona': 2, 'elsass': 1, 'unser': 2, 'land': 2, 'paperines': 2, 'preparades': 1, 'intervenir': 1, 'bitllets': 2, 'fraccionats': 2, 'clients': 1, 'eclesiàstica': 2, 'seminari': 2, 'arxiver': 1, 'diocesà': 1, 'seguí': 1, 'afecten': 2, 'vocabulari': 1, 'comprensió': 1, 'tic': 2, 'falguera': 2, 'altura': 1, 'reparava': 2, 'gimnàs': 1, 'operari': 1, 'biga': 1, 'pogut': 2, 'terraplè': 1, 'tv': 1, '3421': 1, 'roquetes': 1, 'electrons': 1, 'sobreviure': 2, 'pedrolo': 2, 'homenot': 2, 'bennasar': 1, 'ceoe': 2, 'tracte': 1, 'sospir': 1, 'enterrats': 2, 'substrat': 1, 'corredors': 1, 'finalitzar': 1, 'obsequi': 2, 'trobarem': 1, 'cruïlla': 3, 'camins': 1, 'portell': 2, 'traspassem': 1, 'desconvoca': 1, 'mercantil': 1, 'axparia': 1, 'trade': 1, 'grupo': 2, 'constitueixen': 1, 'hoc': 1, 'escena': 3, 'praga': 1, '1909': 1, 'exercint': 1, 'graduats': 2, 'formatiu': 1, 'adreçat': 1, 'miedo': 1, 'esperanza': 1, 'buen': 1, 'pop': 1, 'combustibles': 1, 'carbó': 2, 'petroli': 2, 'gas': 2, 'identifica': 1, 'energètics': 1, 'trapero': 2, 'gamelab': 1, 'live': 1, 'especials': 2, 'inserció': 1, 'elaphe': 1, 'ctenosaura': 1, 'hospitalaris': 2, 'acumulades': 2, '361': 1, 'basa': 2, 'subgrup': 2, 'farmacològic': 2, 'terapèutic': 2, 'químic': 1, 'consisteix': 1, 'lletra': 1, 'entrant': 1, 'revoca': 1, 'dina': 1, 'perjudicat': 2, 'retira': 1, 'villarejo': 1, 'accepta': 1, 'cometre': 1, 'arribà': 1, 'exmembres': 1, 'pink': 1, 'panthers': 1, 'demarcacions': 2, 'illot': 1, 'llova': 1, 'marítimoterrestre': 1, 'trenc': 2, 'salobrar': 2, 'campos': 2, 'circumdants': 1, 'maritimoterrestre': 1, 'ruderal': 1, 'segetal': 1, 'herbàcia': 1, 'perenne': 1, 'horts': 1, 'adventícia': 1, 'citen': 1, 'fonollosa': 1, 'presumpte': 1, 'seguidament': 1, 'carregat': 1, 'pastanagues': 1, 'porro': 1, 'cebes': 1, '1824': 1, 'montpeller': 1, '1821': 1, 'facturació': 2, '761': 1, '861': 1, 'normalment': 2, 'objectiva': 2, 'realitzem': 1, 'anomenem': 1, 'patrimonials': 1, 'tiges': 2, 'ramificades': 1, 'prep': 1, 'point': 1, 'ètic': 1, 'clínica': 1, 'trias': 1, 'acceptat': 1, 'virgili': 1, 'iispv': 1, 'alteració': 1, 'ofiolites': 1, 'serpentinitzades': 1, 'residual': 1, 'sòls': 1, 'derivats': 1, 'hidrotermal': 1, 'dipòsits': 1, 'manganès': 1, 'metamorfitzats': 1, 'desigual': 2, 'facultats': 1, 'circumscripció': 2, 'polla': 2, 'lliscava': 2, 'cony': 1, 'tan': 1, 'mullada': 1, 'movistar': 2, 'artsy': 1, 'uneixen': 1, 'destruït': 2, 'bombardeig': 1, 'asiàtiques': 1, 'detingudes': 1, 'desmantellar': 1, 'assíduament': 1, 'tradicionalista': 1, 'llenguatges': 2, 'enumerables': 1, 're': 1, 'recursius': 1, 'acm': 1, 'avisar': 2, 'identificar': 1, 'mademoiselle': 1, 'franco': 1, 'tony': 1, 'richardson': 1, 'haunting': 1, 'wise': 1, 'idea': 2, 'ambiciosa': 1, 'iu': 2, 'pascual': 2, 'suposar': 1, 'quelcom': 1, 'ambiciós': 1, 'desconfinament': 2, 'treballant': 1}\n"
     ]
    }
   ],
   "source": [
    "print(vocabulari)"
   ]
  },
  {
   "cell_type": "markdown",
   "metadata": {},
   "source": [
    "### Model Baseline"
   ]
  },
  {
   "cell_type": "code",
   "execution_count": 56,
   "metadata": {},
   "outputs": [
    {
     "name": "stderr",
     "output_type": "stream",
     "text": [
      "C:\\Users\\USER\\AppData\\Local\\Packages\\PythonSoftwareFoundation.Python.3.11_qbz5n2kfra8p0\\LocalCache\\local-packages\\Python311\\site-packages\\keras\\src\\layers\\core\\embedding.py:90: UserWarning: Argument `input_length` is deprecated. Just remove it.\n",
      "  warnings.warn(\n"
     ]
    },
    {
     "data": {
      "text/html": [
       "<pre style=\"white-space:pre;overflow-x:auto;line-height:normal;font-family:Menlo,'DejaVu Sans Mono',consolas,'Courier New',monospace\"><span style=\"font-weight: bold\">Model: \"functional_5\"</span>\n",
       "</pre>\n"
      ],
      "text/plain": [
       "\u001b[1mModel: \"functional_5\"\u001b[0m\n"
      ]
     },
     "metadata": {},
     "output_type": "display_data"
    },
    {
     "data": {
      "text/html": [
       "<pre style=\"white-space:pre;overflow-x:auto;line-height:normal;font-family:Menlo,'DejaVu Sans Mono',consolas,'Courier New',monospace\">┏━━━━━━━━━━━━━━━━━━━━━┳━━━━━━━━━━━━━━━━━━━┳━━━━━━━━━━━━┳━━━━━━━━━━━━━━━━━━━┓\n",
       "┃<span style=\"font-weight: bold\"> Layer (type)        </span>┃<span style=\"font-weight: bold\"> Output Shape      </span>┃<span style=\"font-weight: bold\">    Param # </span>┃<span style=\"font-weight: bold\"> Connected to      </span>┃\n",
       "┡━━━━━━━━━━━━━━━━━━━━━╇━━━━━━━━━━━━━━━━━━━╇━━━━━━━━━━━━╇━━━━━━━━━━━━━━━━━━━┩\n",
       "│ input_layer_4       │ (<span style=\"color: #00d7ff; text-decoration-color: #00d7ff\">None</span>, <span style=\"color: #00af00; text-decoration-color: #00af00\">100</span>)       │          <span style=\"color: #00af00; text-decoration-color: #00af00\">0</span> │ -                 │\n",
       "│ (<span style=\"color: #0087ff; text-decoration-color: #0087ff\">InputLayer</span>)        │                   │            │                   │\n",
       "├─────────────────────┼───────────────────┼────────────┼───────────────────┤\n",
       "│ input_layer_5       │ (<span style=\"color: #00d7ff; text-decoration-color: #00d7ff\">None</span>, <span style=\"color: #00af00; text-decoration-color: #00af00\">100</span>)       │          <span style=\"color: #00af00; text-decoration-color: #00af00\">0</span> │ -                 │\n",
       "│ (<span style=\"color: #0087ff; text-decoration-color: #0087ff\">InputLayer</span>)        │                   │            │                   │\n",
       "├─────────────────────┼───────────────────┼────────────┼───────────────────┤\n",
       "│ embedding_2         │ (<span style=\"color: #00d7ff; text-decoration-color: #00d7ff\">None</span>, <span style=\"color: #00af00; text-decoration-color: #00af00\">100</span>, <span style=\"color: #00af00; text-decoration-color: #00af00\">16</span>)   │     <span style=\"color: #00af00; text-decoration-color: #00af00\">16,000</span> │ input_layer_4[<span style=\"color: #00af00; text-decoration-color: #00af00\">0</span>]… │\n",
       "│ (<span style=\"color: #0087ff; text-decoration-color: #0087ff\">Embedding</span>)         │                   │            │ input_layer_5[<span style=\"color: #00af00; text-decoration-color: #00af00\">0</span>]… │\n",
       "├─────────────────────┼───────────────────┼────────────┼───────────────────┤\n",
       "│ not_equal_4         │ (<span style=\"color: #00d7ff; text-decoration-color: #00d7ff\">None</span>, <span style=\"color: #00af00; text-decoration-color: #00af00\">100</span>)       │          <span style=\"color: #00af00; text-decoration-color: #00af00\">0</span> │ input_layer_4[<span style=\"color: #00af00; text-decoration-color: #00af00\">0</span>]… │\n",
       "│ (<span style=\"color: #0087ff; text-decoration-color: #0087ff\">NotEqual</span>)          │                   │            │                   │\n",
       "├─────────────────────┼───────────────────┼────────────┼───────────────────┤\n",
       "│ not_equal_5         │ (<span style=\"color: #00d7ff; text-decoration-color: #00d7ff\">None</span>, <span style=\"color: #00af00; text-decoration-color: #00af00\">100</span>)       │          <span style=\"color: #00af00; text-decoration-color: #00af00\">0</span> │ input_layer_5[<span style=\"color: #00af00; text-decoration-color: #00af00\">0</span>]… │\n",
       "│ (<span style=\"color: #0087ff; text-decoration-color: #0087ff\">NotEqual</span>)          │                   │            │                   │\n",
       "├─────────────────────┼───────────────────┼────────────┼───────────────────┤\n",
       "│ lstm_2 (<span style=\"color: #0087ff; text-decoration-color: #0087ff\">LSTM</span>)       │ (<span style=\"color: #00d7ff; text-decoration-color: #00d7ff\">None</span>, <span style=\"color: #00af00; text-decoration-color: #00af00\">64</span>)        │     <span style=\"color: #00af00; text-decoration-color: #00af00\">20,736</span> │ embedding_2[<span style=\"color: #00af00; text-decoration-color: #00af00\">0</span>][<span style=\"color: #00af00; text-decoration-color: #00af00\">0</span>… │\n",
       "│                     │                   │            │ not_equal_4[<span style=\"color: #00af00; text-decoration-color: #00af00\">0</span>][<span style=\"color: #00af00; text-decoration-color: #00af00\">0</span>… │\n",
       "│                     │                   │            │ embedding_2[<span style=\"color: #00af00; text-decoration-color: #00af00\">1</span>][<span style=\"color: #00af00; text-decoration-color: #00af00\">0</span>… │\n",
       "│                     │                   │            │ not_equal_5[<span style=\"color: #00af00; text-decoration-color: #00af00\">0</span>][<span style=\"color: #00af00; text-decoration-color: #00af00\">0</span>] │\n",
       "├─────────────────────┼───────────────────┼────────────┼───────────────────┤\n",
       "│ concatenate_2       │ (<span style=\"color: #00d7ff; text-decoration-color: #00d7ff\">None</span>, <span style=\"color: #00af00; text-decoration-color: #00af00\">128</span>)       │          <span style=\"color: #00af00; text-decoration-color: #00af00\">0</span> │ lstm_2[<span style=\"color: #00af00; text-decoration-color: #00af00\">0</span>][<span style=\"color: #00af00; text-decoration-color: #00af00\">0</span>],     │\n",
       "│ (<span style=\"color: #0087ff; text-decoration-color: #0087ff\">Concatenate</span>)       │                   │            │ lstm_2[<span style=\"color: #00af00; text-decoration-color: #00af00\">1</span>][<span style=\"color: #00af00; text-decoration-color: #00af00\">0</span>]      │\n",
       "├─────────────────────┼───────────────────┼────────────┼───────────────────┤\n",
       "│ dense_4 (<span style=\"color: #0087ff; text-decoration-color: #0087ff\">Dense</span>)     │ (<span style=\"color: #00d7ff; text-decoration-color: #00d7ff\">None</span>, <span style=\"color: #00af00; text-decoration-color: #00af00\">64</span>)        │      <span style=\"color: #00af00; text-decoration-color: #00af00\">8,256</span> │ concatenate_2[<span style=\"color: #00af00; text-decoration-color: #00af00\">0</span>]… │\n",
       "├─────────────────────┼───────────────────┼────────────┼───────────────────┤\n",
       "│ dense_5 (<span style=\"color: #0087ff; text-decoration-color: #0087ff\">Dense</span>)     │ (<span style=\"color: #00d7ff; text-decoration-color: #00d7ff\">None</span>, <span style=\"color: #00af00; text-decoration-color: #00af00\">1</span>)         │         <span style=\"color: #00af00; text-decoration-color: #00af00\">65</span> │ dense_4[<span style=\"color: #00af00; text-decoration-color: #00af00\">0</span>][<span style=\"color: #00af00; text-decoration-color: #00af00\">0</span>]     │\n",
       "└─────────────────────┴───────────────────┴────────────┴───────────────────┘\n",
       "</pre>\n"
      ],
      "text/plain": [
       "┏━━━━━━━━━━━━━━━━━━━━━┳━━━━━━━━━━━━━━━━━━━┳━━━━━━━━━━━━┳━━━━━━━━━━━━━━━━━━━┓\n",
       "┃\u001b[1m \u001b[0m\u001b[1mLayer (type)       \u001b[0m\u001b[1m \u001b[0m┃\u001b[1m \u001b[0m\u001b[1mOutput Shape     \u001b[0m\u001b[1m \u001b[0m┃\u001b[1m \u001b[0m\u001b[1m   Param #\u001b[0m\u001b[1m \u001b[0m┃\u001b[1m \u001b[0m\u001b[1mConnected to     \u001b[0m\u001b[1m \u001b[0m┃\n",
       "┡━━━━━━━━━━━━━━━━━━━━━╇━━━━━━━━━━━━━━━━━━━╇━━━━━━━━━━━━╇━━━━━━━━━━━━━━━━━━━┩\n",
       "│ input_layer_4       │ (\u001b[38;5;45mNone\u001b[0m, \u001b[38;5;34m100\u001b[0m)       │          \u001b[38;5;34m0\u001b[0m │ -                 │\n",
       "│ (\u001b[38;5;33mInputLayer\u001b[0m)        │                   │            │                   │\n",
       "├─────────────────────┼───────────────────┼────────────┼───────────────────┤\n",
       "│ input_layer_5       │ (\u001b[38;5;45mNone\u001b[0m, \u001b[38;5;34m100\u001b[0m)       │          \u001b[38;5;34m0\u001b[0m │ -                 │\n",
       "│ (\u001b[38;5;33mInputLayer\u001b[0m)        │                   │            │                   │\n",
       "├─────────────────────┼───────────────────┼────────────┼───────────────────┤\n",
       "│ embedding_2         │ (\u001b[38;5;45mNone\u001b[0m, \u001b[38;5;34m100\u001b[0m, \u001b[38;5;34m16\u001b[0m)   │     \u001b[38;5;34m16,000\u001b[0m │ input_layer_4[\u001b[38;5;34m0\u001b[0m]… │\n",
       "│ (\u001b[38;5;33mEmbedding\u001b[0m)         │                   │            │ input_layer_5[\u001b[38;5;34m0\u001b[0m]… │\n",
       "├─────────────────────┼───────────────────┼────────────┼───────────────────┤\n",
       "│ not_equal_4         │ (\u001b[38;5;45mNone\u001b[0m, \u001b[38;5;34m100\u001b[0m)       │          \u001b[38;5;34m0\u001b[0m │ input_layer_4[\u001b[38;5;34m0\u001b[0m]… │\n",
       "│ (\u001b[38;5;33mNotEqual\u001b[0m)          │                   │            │                   │\n",
       "├─────────────────────┼───────────────────┼────────────┼───────────────────┤\n",
       "│ not_equal_5         │ (\u001b[38;5;45mNone\u001b[0m, \u001b[38;5;34m100\u001b[0m)       │          \u001b[38;5;34m0\u001b[0m │ input_layer_5[\u001b[38;5;34m0\u001b[0m]… │\n",
       "│ (\u001b[38;5;33mNotEqual\u001b[0m)          │                   │            │                   │\n",
       "├─────────────────────┼───────────────────┼────────────┼───────────────────┤\n",
       "│ lstm_2 (\u001b[38;5;33mLSTM\u001b[0m)       │ (\u001b[38;5;45mNone\u001b[0m, \u001b[38;5;34m64\u001b[0m)        │     \u001b[38;5;34m20,736\u001b[0m │ embedding_2[\u001b[38;5;34m0\u001b[0m][\u001b[38;5;34m0\u001b[0m… │\n",
       "│                     │                   │            │ not_equal_4[\u001b[38;5;34m0\u001b[0m][\u001b[38;5;34m0\u001b[0m… │\n",
       "│                     │                   │            │ embedding_2[\u001b[38;5;34m1\u001b[0m][\u001b[38;5;34m0\u001b[0m… │\n",
       "│                     │                   │            │ not_equal_5[\u001b[38;5;34m0\u001b[0m][\u001b[38;5;34m0\u001b[0m] │\n",
       "├─────────────────────┼───────────────────┼────────────┼───────────────────┤\n",
       "│ concatenate_2       │ (\u001b[38;5;45mNone\u001b[0m, \u001b[38;5;34m128\u001b[0m)       │          \u001b[38;5;34m0\u001b[0m │ lstm_2[\u001b[38;5;34m0\u001b[0m][\u001b[38;5;34m0\u001b[0m],     │\n",
       "│ (\u001b[38;5;33mConcatenate\u001b[0m)       │                   │            │ lstm_2[\u001b[38;5;34m1\u001b[0m][\u001b[38;5;34m0\u001b[0m]      │\n",
       "├─────────────────────┼───────────────────┼────────────┼───────────────────┤\n",
       "│ dense_4 (\u001b[38;5;33mDense\u001b[0m)     │ (\u001b[38;5;45mNone\u001b[0m, \u001b[38;5;34m64\u001b[0m)        │      \u001b[38;5;34m8,256\u001b[0m │ concatenate_2[\u001b[38;5;34m0\u001b[0m]… │\n",
       "├─────────────────────┼───────────────────┼────────────┼───────────────────┤\n",
       "│ dense_5 (\u001b[38;5;33mDense\u001b[0m)     │ (\u001b[38;5;45mNone\u001b[0m, \u001b[38;5;34m1\u001b[0m)         │         \u001b[38;5;34m65\u001b[0m │ dense_4[\u001b[38;5;34m0\u001b[0m][\u001b[38;5;34m0\u001b[0m]     │\n",
       "└─────────────────────┴───────────────────┴────────────┴───────────────────┘\n"
      ]
     },
     "metadata": {},
     "output_type": "display_data"
    },
    {
     "data": {
      "text/html": [
       "<pre style=\"white-space:pre;overflow-x:auto;line-height:normal;font-family:Menlo,'DejaVu Sans Mono',consolas,'Courier New',monospace\"><span style=\"font-weight: bold\"> Total params: </span><span style=\"color: #00af00; text-decoration-color: #00af00\">45,057</span> (176.00 KB)\n",
       "</pre>\n"
      ],
      "text/plain": [
       "\u001b[1m Total params: \u001b[0m\u001b[38;5;34m45,057\u001b[0m (176.00 KB)\n"
      ]
     },
     "metadata": {},
     "output_type": "display_data"
    },
    {
     "data": {
      "text/html": [
       "<pre style=\"white-space:pre;overflow-x:auto;line-height:normal;font-family:Menlo,'DejaVu Sans Mono',consolas,'Courier New',monospace\"><span style=\"font-weight: bold\"> Trainable params: </span><span style=\"color: #00af00; text-decoration-color: #00af00\">45,057</span> (176.00 KB)\n",
       "</pre>\n"
      ],
      "text/plain": [
       "\u001b[1m Trainable params: \u001b[0m\u001b[38;5;34m45,057\u001b[0m (176.00 KB)\n"
      ]
     },
     "metadata": {},
     "output_type": "display_data"
    },
    {
     "data": {
      "text/html": [
       "<pre style=\"white-space:pre;overflow-x:auto;line-height:normal;font-family:Menlo,'DejaVu Sans Mono',consolas,'Courier New',monospace\"><span style=\"font-weight: bold\"> Non-trainable params: </span><span style=\"color: #00af00; text-decoration-color: #00af00\">0</span> (0.00 B)\n",
       "</pre>\n"
      ],
      "text/plain": [
       "\u001b[1m Non-trainable params: \u001b[0m\u001b[38;5;34m0\u001b[0m (0.00 B)\n"
      ]
     },
     "metadata": {},
     "output_type": "display_data"
    }
   ],
   "source": [
    "import tensorflow as tf\n",
    "\n",
    "def build_and_compile_model(input_length: int = 100, hidden_size: int = 64, dictionary_size: int = 1000, embedding_size: int = 16) -> tf.keras.Model:\n",
    "    \n",
    "    input_1, input_2 = tf.keras.Input((input_length, ), dtype=tf.int32), tf.keras.Input((input_length, ), dtype=tf.int32)\n",
    "    \n",
    "    # Define Layers\n",
    "    embedding = tf.keras.layers.Embedding(\n",
    "        dictionary_size, embedding_size, input_length=input_length, mask_zero=True)\n",
    "    \n",
    "    lstm = tf.keras.layers.LSTM(hidden_size)\n",
    "    \n",
    "    concatenate = tf.keras.layers.Concatenate(axis=-1)\n",
    "    hidden = tf.keras.layers.Dense(hidden_size, activation='relu')\n",
    "    output = tf.keras.layers.Dense(1)\n",
    "    \n",
    "    # Pass through the layers\n",
    "    _embedded_1, _embedded_2 = embedding(input_1), embedding(input_2)\n",
    "    _lstm_1, _lstm_2 = lstm(_embedded_1), lstm(_embedded_2)\n",
    "    \n",
    "    _concatenated = concatenate([_lstm_1, _lstm_2])\n",
    "    _hidden_output = hidden(_concatenated)\n",
    "    _output = output(_hidden_output)\n",
    "    \n",
    "    # Define the model\n",
    "    model = tf.keras.Model(inputs=(input_1, input_2), outputs=_output)\n",
    "    model.compile(loss='mean_absolute_error',\n",
    "                  optimizer=tf.keras.optimizers.Adam(0.01))\n",
    "    return model\n",
    "\n",
    "# Exemple d'ús del model\n",
    "baseline_model = build_and_compile_model()\n",
    "baseline_model.summary()"
   ]
  },
  {
   "cell_type": "markdown",
   "metadata": {},
   "source": [
    "### 1. One-Hot"
   ]
  },
  {
   "cell_type": "code",
   "execution_count": 95,
   "metadata": {},
   "outputs": [
    {
     "name": "stderr",
     "output_type": "stream",
     "text": [
      "C:\\Users\\USER\\AppData\\Local\\Packages\\PythonSoftwareFoundation.Python.3.11_qbz5n2kfra8p0\\LocalCache\\local-packages\\Python311\\site-packages\\keras\\src\\layers\\core\\embedding.py:90: UserWarning: Argument `input_length` is deprecated. Just remove it.\n",
      "  warnings.warn(\n"
     ]
    },
    {
     "data": {
      "text/html": [
       "<pre style=\"white-space:pre;overflow-x:auto;line-height:normal;font-family:Menlo,'DejaVu Sans Mono',consolas,'Courier New',monospace\"><span style=\"font-weight: bold\">Model: \"functional_13\"</span>\n",
       "</pre>\n"
      ],
      "text/plain": [
       "\u001b[1mModel: \"functional_13\"\u001b[0m\n"
      ]
     },
     "metadata": {},
     "output_type": "display_data"
    },
    {
     "data": {
      "text/html": [
       "<pre style=\"white-space:pre;overflow-x:auto;line-height:normal;font-family:Menlo,'DejaVu Sans Mono',consolas,'Courier New',monospace\">┏━━━━━━━━━━━━━━━━━━━━━┳━━━━━━━━━━━━━━━━━━━┳━━━━━━━━━━━━┳━━━━━━━━━━━━━━━━━━━┓\n",
       "┃<span style=\"font-weight: bold\"> Layer (type)        </span>┃<span style=\"font-weight: bold\"> Output Shape      </span>┃<span style=\"font-weight: bold\">    Param # </span>┃<span style=\"font-weight: bold\"> Connected to      </span>┃\n",
       "┡━━━━━━━━━━━━━━━━━━━━━╇━━━━━━━━━━━━━━━━━━━╇━━━━━━━━━━━━╇━━━━━━━━━━━━━━━━━━━┩\n",
       "│ input_layer_12      │ (<span style=\"color: #00d7ff; text-decoration-color: #00d7ff\">None</span>, <span style=\"color: #00af00; text-decoration-color: #00af00\">764</span>)       │          <span style=\"color: #00af00; text-decoration-color: #00af00\">0</span> │ -                 │\n",
       "│ (<span style=\"color: #0087ff; text-decoration-color: #0087ff\">InputLayer</span>)        │                   │            │                   │\n",
       "├─────────────────────┼───────────────────┼────────────┼───────────────────┤\n",
       "│ input_layer_13      │ (<span style=\"color: #00d7ff; text-decoration-color: #00d7ff\">None</span>, <span style=\"color: #00af00; text-decoration-color: #00af00\">764</span>)       │          <span style=\"color: #00af00; text-decoration-color: #00af00\">0</span> │ -                 │\n",
       "│ (<span style=\"color: #0087ff; text-decoration-color: #0087ff\">InputLayer</span>)        │                   │            │                   │\n",
       "├─────────────────────┼───────────────────┼────────────┼───────────────────┤\n",
       "│ embedding_6         │ (<span style=\"color: #00d7ff; text-decoration-color: #00d7ff\">None</span>, <span style=\"color: #00af00; text-decoration-color: #00af00\">764</span>, <span style=\"color: #00af00; text-decoration-color: #00af00\">16</span>)   │     <span style=\"color: #00af00; text-decoration-color: #00af00\">16,000</span> │ input_layer_12[<span style=\"color: #00af00; text-decoration-color: #00af00\">0</span>… │\n",
       "│ (<span style=\"color: #0087ff; text-decoration-color: #0087ff\">Embedding</span>)         │                   │            │ input_layer_13[<span style=\"color: #00af00; text-decoration-color: #00af00\">0</span>… │\n",
       "├─────────────────────┼───────────────────┼────────────┼───────────────────┤\n",
       "│ not_equal_12        │ (<span style=\"color: #00d7ff; text-decoration-color: #00d7ff\">None</span>, <span style=\"color: #00af00; text-decoration-color: #00af00\">764</span>)       │          <span style=\"color: #00af00; text-decoration-color: #00af00\">0</span> │ input_layer_12[<span style=\"color: #00af00; text-decoration-color: #00af00\">0</span>… │\n",
       "│ (<span style=\"color: #0087ff; text-decoration-color: #0087ff\">NotEqual</span>)          │                   │            │                   │\n",
       "├─────────────────────┼───────────────────┼────────────┼───────────────────┤\n",
       "│ not_equal_13        │ (<span style=\"color: #00d7ff; text-decoration-color: #00d7ff\">None</span>, <span style=\"color: #00af00; text-decoration-color: #00af00\">764</span>)       │          <span style=\"color: #00af00; text-decoration-color: #00af00\">0</span> │ input_layer_13[<span style=\"color: #00af00; text-decoration-color: #00af00\">0</span>… │\n",
       "│ (<span style=\"color: #0087ff; text-decoration-color: #0087ff\">NotEqual</span>)          │                   │            │                   │\n",
       "├─────────────────────┼───────────────────┼────────────┼───────────────────┤\n",
       "│ lstm_6 (<span style=\"color: #0087ff; text-decoration-color: #0087ff\">LSTM</span>)       │ (<span style=\"color: #00d7ff; text-decoration-color: #00d7ff\">None</span>, <span style=\"color: #00af00; text-decoration-color: #00af00\">64</span>)        │     <span style=\"color: #00af00; text-decoration-color: #00af00\">20,736</span> │ embedding_6[<span style=\"color: #00af00; text-decoration-color: #00af00\">0</span>][<span style=\"color: #00af00; text-decoration-color: #00af00\">0</span>… │\n",
       "│                     │                   │            │ not_equal_12[<span style=\"color: #00af00; text-decoration-color: #00af00\">0</span>][<span style=\"color: #00af00; text-decoration-color: #00af00\">…</span> │\n",
       "│                     │                   │            │ embedding_6[<span style=\"color: #00af00; text-decoration-color: #00af00\">1</span>][<span style=\"color: #00af00; text-decoration-color: #00af00\">0</span>… │\n",
       "│                     │                   │            │ not_equal_13[<span style=\"color: #00af00; text-decoration-color: #00af00\">0</span>][<span style=\"color: #00af00; text-decoration-color: #00af00\">…</span> │\n",
       "├─────────────────────┼───────────────────┼────────────┼───────────────────┤\n",
       "│ concatenate_6       │ (<span style=\"color: #00d7ff; text-decoration-color: #00d7ff\">None</span>, <span style=\"color: #00af00; text-decoration-color: #00af00\">128</span>)       │          <span style=\"color: #00af00; text-decoration-color: #00af00\">0</span> │ lstm_6[<span style=\"color: #00af00; text-decoration-color: #00af00\">0</span>][<span style=\"color: #00af00; text-decoration-color: #00af00\">0</span>],     │\n",
       "│ (<span style=\"color: #0087ff; text-decoration-color: #0087ff\">Concatenate</span>)       │                   │            │ lstm_6[<span style=\"color: #00af00; text-decoration-color: #00af00\">1</span>][<span style=\"color: #00af00; text-decoration-color: #00af00\">0</span>]      │\n",
       "├─────────────────────┼───────────────────┼────────────┼───────────────────┤\n",
       "│ dense_12 (<span style=\"color: #0087ff; text-decoration-color: #0087ff\">Dense</span>)    │ (<span style=\"color: #00d7ff; text-decoration-color: #00d7ff\">None</span>, <span style=\"color: #00af00; text-decoration-color: #00af00\">64</span>)        │      <span style=\"color: #00af00; text-decoration-color: #00af00\">8,256</span> │ concatenate_6[<span style=\"color: #00af00; text-decoration-color: #00af00\">0</span>]… │\n",
       "├─────────────────────┼───────────────────┼────────────┼───────────────────┤\n",
       "│ dense_13 (<span style=\"color: #0087ff; text-decoration-color: #0087ff\">Dense</span>)    │ (<span style=\"color: #00d7ff; text-decoration-color: #00d7ff\">None</span>, <span style=\"color: #00af00; text-decoration-color: #00af00\">1</span>)         │         <span style=\"color: #00af00; text-decoration-color: #00af00\">65</span> │ dense_12[<span style=\"color: #00af00; text-decoration-color: #00af00\">0</span>][<span style=\"color: #00af00; text-decoration-color: #00af00\">0</span>]    │\n",
       "└─────────────────────┴───────────────────┴────────────┴───────────────────┘\n",
       "</pre>\n"
      ],
      "text/plain": [
       "┏━━━━━━━━━━━━━━━━━━━━━┳━━━━━━━━━━━━━━━━━━━┳━━━━━━━━━━━━┳━━━━━━━━━━━━━━━━━━━┓\n",
       "┃\u001b[1m \u001b[0m\u001b[1mLayer (type)       \u001b[0m\u001b[1m \u001b[0m┃\u001b[1m \u001b[0m\u001b[1mOutput Shape     \u001b[0m\u001b[1m \u001b[0m┃\u001b[1m \u001b[0m\u001b[1m   Param #\u001b[0m\u001b[1m \u001b[0m┃\u001b[1m \u001b[0m\u001b[1mConnected to     \u001b[0m\u001b[1m \u001b[0m┃\n",
       "┡━━━━━━━━━━━━━━━━━━━━━╇━━━━━━━━━━━━━━━━━━━╇━━━━━━━━━━━━╇━━━━━━━━━━━━━━━━━━━┩\n",
       "│ input_layer_12      │ (\u001b[38;5;45mNone\u001b[0m, \u001b[38;5;34m764\u001b[0m)       │          \u001b[38;5;34m0\u001b[0m │ -                 │\n",
       "│ (\u001b[38;5;33mInputLayer\u001b[0m)        │                   │            │                   │\n",
       "├─────────────────────┼───────────────────┼────────────┼───────────────────┤\n",
       "│ input_layer_13      │ (\u001b[38;5;45mNone\u001b[0m, \u001b[38;5;34m764\u001b[0m)       │          \u001b[38;5;34m0\u001b[0m │ -                 │\n",
       "│ (\u001b[38;5;33mInputLayer\u001b[0m)        │                   │            │                   │\n",
       "├─────────────────────┼───────────────────┼────────────┼───────────────────┤\n",
       "│ embedding_6         │ (\u001b[38;5;45mNone\u001b[0m, \u001b[38;5;34m764\u001b[0m, \u001b[38;5;34m16\u001b[0m)   │     \u001b[38;5;34m16,000\u001b[0m │ input_layer_12[\u001b[38;5;34m0\u001b[0m… │\n",
       "│ (\u001b[38;5;33mEmbedding\u001b[0m)         │                   │            │ input_layer_13[\u001b[38;5;34m0\u001b[0m… │\n",
       "├─────────────────────┼───────────────────┼────────────┼───────────────────┤\n",
       "│ not_equal_12        │ (\u001b[38;5;45mNone\u001b[0m, \u001b[38;5;34m764\u001b[0m)       │          \u001b[38;5;34m0\u001b[0m │ input_layer_12[\u001b[38;5;34m0\u001b[0m… │\n",
       "│ (\u001b[38;5;33mNotEqual\u001b[0m)          │                   │            │                   │\n",
       "├─────────────────────┼───────────────────┼────────────┼───────────────────┤\n",
       "│ not_equal_13        │ (\u001b[38;5;45mNone\u001b[0m, \u001b[38;5;34m764\u001b[0m)       │          \u001b[38;5;34m0\u001b[0m │ input_layer_13[\u001b[38;5;34m0\u001b[0m… │\n",
       "│ (\u001b[38;5;33mNotEqual\u001b[0m)          │                   │            │                   │\n",
       "├─────────────────────┼───────────────────┼────────────┼───────────────────┤\n",
       "│ lstm_6 (\u001b[38;5;33mLSTM\u001b[0m)       │ (\u001b[38;5;45mNone\u001b[0m, \u001b[38;5;34m64\u001b[0m)        │     \u001b[38;5;34m20,736\u001b[0m │ embedding_6[\u001b[38;5;34m0\u001b[0m][\u001b[38;5;34m0\u001b[0m… │\n",
       "│                     │                   │            │ not_equal_12[\u001b[38;5;34m0\u001b[0m][\u001b[38;5;34m…\u001b[0m │\n",
       "│                     │                   │            │ embedding_6[\u001b[38;5;34m1\u001b[0m][\u001b[38;5;34m0\u001b[0m… │\n",
       "│                     │                   │            │ not_equal_13[\u001b[38;5;34m0\u001b[0m][\u001b[38;5;34m…\u001b[0m │\n",
       "├─────────────────────┼───────────────────┼────────────┼───────────────────┤\n",
       "│ concatenate_6       │ (\u001b[38;5;45mNone\u001b[0m, \u001b[38;5;34m128\u001b[0m)       │          \u001b[38;5;34m0\u001b[0m │ lstm_6[\u001b[38;5;34m0\u001b[0m][\u001b[38;5;34m0\u001b[0m],     │\n",
       "│ (\u001b[38;5;33mConcatenate\u001b[0m)       │                   │            │ lstm_6[\u001b[38;5;34m1\u001b[0m][\u001b[38;5;34m0\u001b[0m]      │\n",
       "├─────────────────────┼───────────────────┼────────────┼───────────────────┤\n",
       "│ dense_12 (\u001b[38;5;33mDense\u001b[0m)    │ (\u001b[38;5;45mNone\u001b[0m, \u001b[38;5;34m64\u001b[0m)        │      \u001b[38;5;34m8,256\u001b[0m │ concatenate_6[\u001b[38;5;34m0\u001b[0m]… │\n",
       "├─────────────────────┼───────────────────┼────────────┼───────────────────┤\n",
       "│ dense_13 (\u001b[38;5;33mDense\u001b[0m)    │ (\u001b[38;5;45mNone\u001b[0m, \u001b[38;5;34m1\u001b[0m)         │         \u001b[38;5;34m65\u001b[0m │ dense_12[\u001b[38;5;34m0\u001b[0m][\u001b[38;5;34m0\u001b[0m]    │\n",
       "└─────────────────────┴───────────────────┴────────────┴───────────────────┘\n"
      ]
     },
     "metadata": {},
     "output_type": "display_data"
    },
    {
     "data": {
      "text/html": [
       "<pre style=\"white-space:pre;overflow-x:auto;line-height:normal;font-family:Menlo,'DejaVu Sans Mono',consolas,'Courier New',monospace\"><span style=\"font-weight: bold\"> Total params: </span><span style=\"color: #00af00; text-decoration-color: #00af00\">45,057</span> (176.00 KB)\n",
       "</pre>\n"
      ],
      "text/plain": [
       "\u001b[1m Total params: \u001b[0m\u001b[38;5;34m45,057\u001b[0m (176.00 KB)\n"
      ]
     },
     "metadata": {},
     "output_type": "display_data"
    },
    {
     "data": {
      "text/html": [
       "<pre style=\"white-space:pre;overflow-x:auto;line-height:normal;font-family:Menlo,'DejaVu Sans Mono',consolas,'Courier New',monospace\"><span style=\"font-weight: bold\"> Trainable params: </span><span style=\"color: #00af00; text-decoration-color: #00af00\">45,057</span> (176.00 KB)\n",
       "</pre>\n"
      ],
      "text/plain": [
       "\u001b[1m Trainable params: \u001b[0m\u001b[38;5;34m45,057\u001b[0m (176.00 KB)\n"
      ]
     },
     "metadata": {},
     "output_type": "display_data"
    },
    {
     "data": {
      "text/html": [
       "<pre style=\"white-space:pre;overflow-x:auto;line-height:normal;font-family:Menlo,'DejaVu Sans Mono',consolas,'Courier New',monospace\"><span style=\"font-weight: bold\"> Non-trainable params: </span><span style=\"color: #00af00; text-decoration-color: #00af00\">0</span> (0.00 B)\n",
       "</pre>\n"
      ],
      "text/plain": [
       "\u001b[1m Non-trainable params: \u001b[0m\u001b[38;5;34m0\u001b[0m (0.00 B)\n"
      ]
     },
     "metadata": {},
     "output_type": "display_data"
    }
   ],
   "source": [
    "import tensorflow as tf\n",
    "\n",
    "def build_and_compile_model(input_length: int = 764, hidden_size: int = 64, dictionary_size: int = 1000, embedding_size: int = 16) -> tf.keras.Model:\n",
    "    \n",
    "    input_1, input_2 = tf.keras.Input((input_length, ), dtype=tf.int32), tf.keras.Input((input_length, ), dtype=tf.int32)\n",
    "    \n",
    "    # Define Layers\n",
    "    embedding = tf.keras.layers.Embedding(\n",
    "        dictionary_size, embedding_size, input_length=input_length, mask_zero=True)\n",
    "    \n",
    "    lstm = tf.keras.layers.LSTM(hidden_size)\n",
    "    \n",
    "    concatenate = tf.keras.layers.Concatenate(axis=-1)\n",
    "    hidden = tf.keras.layers.Dense(hidden_size, activation='relu')\n",
    "    output = tf.keras.layers.Dense(1)\n",
    "    \n",
    "    # Pass through the layers\n",
    "    _embedded_1, _embedded_2 = embedding(input_1), embedding(input_2)\n",
    "    _lstm_1, _lstm_2 = lstm(_embedded_1), lstm(_embedded_2)\n",
    "    \n",
    "    _concatenated = concatenate([_lstm_1, _lstm_2])\n",
    "    _hidden_output = hidden(_concatenated)\n",
    "    _output = output(_hidden_output)\n",
    "    \n",
    "    # Define the model\n",
    "    model = tf.keras.Model(inputs=(input_1, input_2), outputs=_output)\n",
    "    model.compile(loss='mean_absolute_error',\n",
    "                  optimizer=tf.keras.optimizers.Adam(0.01))\n",
    "    return model\n",
    "\n",
    "# Exemple d'ús del model\n",
    "baseline_model = build_and_compile_model()\n",
    "baseline_model.summary()"
   ]
  },
  {
   "cell_type": "code",
   "execution_count": 92,
   "metadata": {},
   "outputs": [],
   "source": [
    "import numpy as np\n",
    "\n",
    "# Función para calcular la representación one-hot de un texto\n",
    "def compute_one_hot_encoding(text, vocabulari):\n",
    "    \"\"\"\n",
    "    Genera la representación one-hot de un texto utilizando un vocabulario predefinido.\n",
    "    \"\"\"\n",
    "    one_hot_vector = np.zeros(len(vocabulari))\n",
    "    vocabulario_list = list(vocabulari)\n",
    "    for palabra in text:\n",
    "        if palabra in vocabulari:\n",
    "            index = vocabulario_list.index(palabra)\n",
    "            one_hot_vector[index] = 1\n",
    "        \n",
    "    return one_hot_vector\n"
   ]
  },
  {
   "cell_type": "code",
   "execution_count": 93,
   "metadata": {},
   "outputs": [],
   "source": [
    "# Passar les frases de corpus_semantic a vectors\n",
    "one_hot_corpus_semantic = corpus_semantic.copy()\n",
    "for i, (frase1, frase2) in enumerate(one_hot_corpus_semantic):\n",
    "    one_hot_corpus_semantic[i] = (compute_one_hot_encoding(frase1, vocabulari_reduit), \n",
    "                                    compute_one_hot_encoding(frase2, vocabulari_reduit))"
   ]
  },
  {
   "cell_type": "code",
   "execution_count": 94,
   "metadata": {},
   "outputs": [
    {
     "name": "stdout",
     "output_type": "stream",
     "text": [
      "(2073, 764)\n",
      "(2073, 764)\n",
      "(2073,)\n"
     ]
    }
   ],
   "source": [
    "vectors_1 = np.array([pair[0] for pair in one_hot_corpus_semantic])\n",
    "vectors_2 = np.array([pair[1] for pair in one_hot_corpus_semantic])\n",
    "\n",
    "\n",
    "print(vectors_1.shape)\n",
    "print(vectors_2.shape)\n",
    "print(semantic_score.shape)"
   ]
  },
  {
   "cell_type": "code",
   "execution_count": 96,
   "metadata": {},
   "outputs": [
    {
     "name": "stdout",
     "output_type": "stream",
     "text": [
      "Epoch 1/50\n",
      "\u001b[1m52/52\u001b[0m \u001b[32m━━━━━━━━━━━━━━━━━━━━\u001b[0m\u001b[37m\u001b[0m \u001b[1m40s\u001b[0m 656ms/step - loss: 1.1836 - val_loss: 0.6803\n",
      "Epoch 2/50\n",
      "\u001b[1m52/52\u001b[0m \u001b[32m━━━━━━━━━━━━━━━━━━━━\u001b[0m\u001b[37m\u001b[0m \u001b[1m40s\u001b[0m 639ms/step - loss: 0.6798 - val_loss: 0.6359\n",
      "Epoch 3/50\n",
      "\u001b[1m52/52\u001b[0m \u001b[32m━━━━━━━━━━━━━━━━━━━━\u001b[0m\u001b[37m\u001b[0m \u001b[1m37s\u001b[0m 720ms/step - loss: 0.6522 - val_loss: 0.6267\n",
      "Epoch 4/50\n",
      "\u001b[1m52/52\u001b[0m \u001b[32m━━━━━━━━━━━━━━━━━━━━\u001b[0m\u001b[37m\u001b[0m \u001b[1m45s\u001b[0m 803ms/step - loss: 0.6829 - val_loss: 0.6446\n",
      "Epoch 5/50\n",
      "\u001b[1m52/52\u001b[0m \u001b[32m━━━━━━━━━━━━━━━━━━━━\u001b[0m\u001b[37m\u001b[0m \u001b[1m38s\u001b[0m 719ms/step - loss: 0.6902 - val_loss: 0.6404\n",
      "Epoch 6/50\n",
      "\u001b[1m52/52\u001b[0m \u001b[32m━━━━━━━━━━━━━━━━━━━━\u001b[0m\u001b[37m\u001b[0m \u001b[1m37s\u001b[0m 637ms/step - loss: 0.6640 - val_loss: 0.6879\n",
      "Epoch 7/50\n",
      "\u001b[1m52/52\u001b[0m \u001b[32m━━━━━━━━━━━━━━━━━━━━\u001b[0m\u001b[37m\u001b[0m \u001b[1m36s\u001b[0m 701ms/step - loss: 0.6541 - val_loss: 0.6277\n",
      "Epoch 8/50\n",
      "\u001b[1m52/52\u001b[0m \u001b[32m━━━━━━━━━━━━━━━━━━━━\u001b[0m\u001b[37m\u001b[0m \u001b[1m40s\u001b[0m 761ms/step - loss: 0.6627 - val_loss: 0.6862\n",
      "Epoch 9/50\n",
      "\u001b[1m52/52\u001b[0m \u001b[32m━━━━━━━━━━━━━━━━━━━━\u001b[0m\u001b[37m\u001b[0m \u001b[1m40s\u001b[0m 733ms/step - loss: 0.6930 - val_loss: 0.6376\n",
      "Epoch 10/50\n",
      "\u001b[1m52/52\u001b[0m \u001b[32m━━━━━━━━━━━━━━━━━━━━\u001b[0m\u001b[37m\u001b[0m \u001b[1m35s\u001b[0m 671ms/step - loss: 0.6461 - val_loss: 0.6657\n",
      "Epoch 11/50\n",
      "\u001b[1m52/52\u001b[0m \u001b[32m━━━━━━━━━━━━━━━━━━━━\u001b[0m\u001b[37m\u001b[0m \u001b[1m35s\u001b[0m 677ms/step - loss: 0.7015 - val_loss: 0.6297\n",
      "Epoch 12/50\n",
      "\u001b[1m52/52\u001b[0m \u001b[32m━━━━━━━━━━━━━━━━━━━━\u001b[0m\u001b[37m\u001b[0m \u001b[1m35s\u001b[0m 670ms/step - loss: 0.6624 - val_loss: 0.6426\n",
      "Epoch 13/50\n",
      "\u001b[1m52/52\u001b[0m \u001b[32m━━━━━━━━━━━━━━━━━━━━\u001b[0m\u001b[37m\u001b[0m \u001b[1m37s\u001b[0m 703ms/step - loss: 0.6555 - val_loss: 0.6464\n",
      "Epoch 14/50\n",
      "\u001b[1m52/52\u001b[0m \u001b[32m━━━━━━━━━━━━━━━━━━━━\u001b[0m\u001b[37m\u001b[0m \u001b[1m36s\u001b[0m 683ms/step - loss: 0.6826 - val_loss: 0.6320\n",
      "Epoch 15/50\n",
      "\u001b[1m52/52\u001b[0m \u001b[32m━━━━━━━━━━━━━━━━━━━━\u001b[0m\u001b[37m\u001b[0m \u001b[1m36s\u001b[0m 688ms/step - loss: 0.6394 - val_loss: 0.6325\n",
      "Epoch 16/50\n",
      "\u001b[1m52/52\u001b[0m \u001b[32m━━━━━━━━━━━━━━━━━━━━\u001b[0m\u001b[37m\u001b[0m \u001b[1m40s\u001b[0m 666ms/step - loss: 0.6559 - val_loss: 0.6483\n",
      "Epoch 17/50\n",
      "\u001b[1m52/52\u001b[0m \u001b[32m━━━━━━━━━━━━━━━━━━━━\u001b[0m\u001b[37m\u001b[0m \u001b[1m35s\u001b[0m 683ms/step - loss: 0.6523 - val_loss: 0.6470\n",
      "Epoch 18/50\n",
      "\u001b[1m52/52\u001b[0m \u001b[32m━━━━━━━━━━━━━━━━━━━━\u001b[0m\u001b[37m\u001b[0m \u001b[1m35s\u001b[0m 678ms/step - loss: 0.6592 - val_loss: 0.6411\n",
      "Epoch 19/50\n",
      "\u001b[1m52/52\u001b[0m \u001b[32m━━━━━━━━━━━━━━━━━━━━\u001b[0m\u001b[37m\u001b[0m \u001b[1m36s\u001b[0m 688ms/step - loss: 0.6944 - val_loss: 0.6339\n",
      "Epoch 20/50\n",
      "\u001b[1m52/52\u001b[0m \u001b[32m━━━━━━━━━━━━━━━━━━━━\u001b[0m\u001b[37m\u001b[0m \u001b[1m40s\u001b[0m 660ms/step - loss: 0.6545 - val_loss: 0.6367\n",
      "Epoch 21/50\n",
      "\u001b[1m52/52\u001b[0m \u001b[32m━━━━━━━━━━━━━━━━━━━━\u001b[0m\u001b[37m\u001b[0m \u001b[1m35s\u001b[0m 683ms/step - loss: 0.6511 - val_loss: 0.6332\n",
      "Epoch 22/50\n",
      "\u001b[1m52/52\u001b[0m \u001b[32m━━━━━━━━━━━━━━━━━━━━\u001b[0m\u001b[37m\u001b[0m \u001b[1m35s\u001b[0m 675ms/step - loss: 0.6598 - val_loss: 0.6306\n",
      "Epoch 23/50\n",
      "\u001b[1m52/52\u001b[0m \u001b[32m━━━━━━━━━━━━━━━━━━━━\u001b[0m\u001b[37m\u001b[0m \u001b[1m35s\u001b[0m 680ms/step - loss: 0.6570 - val_loss: 0.6305\n",
      "Epoch 24/50\n",
      "\u001b[1m52/52\u001b[0m \u001b[32m━━━━━━━━━━━━━━━━━━━━\u001b[0m\u001b[37m\u001b[0m \u001b[1m40s\u001b[0m 665ms/step - loss: 0.6804 - val_loss: 0.6294\n",
      "Epoch 25/50\n",
      "\u001b[1m52/52\u001b[0m \u001b[32m━━━━━━━━━━━━━━━━━━━━\u001b[0m\u001b[37m\u001b[0m \u001b[1m36s\u001b[0m 685ms/step - loss: 0.6527 - val_loss: 0.6331\n",
      "Epoch 26/50\n",
      "\u001b[1m52/52\u001b[0m \u001b[32m━━━━━━━━━━━━━━━━━━━━\u001b[0m\u001b[37m\u001b[0m \u001b[1m35s\u001b[0m 682ms/step - loss: 0.6935 - val_loss: 0.6312\n",
      "Epoch 27/50\n",
      "\u001b[1m52/52\u001b[0m \u001b[32m━━━━━━━━━━━━━━━━━━━━\u001b[0m\u001b[37m\u001b[0m \u001b[1m36s\u001b[0m 690ms/step - loss: 0.6509 - val_loss: 0.6418\n",
      "Epoch 28/50\n",
      "\u001b[1m52/52\u001b[0m \u001b[32m━━━━━━━━━━━━━━━━━━━━\u001b[0m\u001b[37m\u001b[0m \u001b[1m35s\u001b[0m 681ms/step - loss: 0.6627 - val_loss: 0.6321\n",
      "Epoch 29/50\n",
      "\u001b[1m52/52\u001b[0m \u001b[32m━━━━━━━━━━━━━━━━━━━━\u001b[0m\u001b[37m\u001b[0m \u001b[1m36s\u001b[0m 690ms/step - loss: 0.6686 - val_loss: 0.6368\n",
      "Epoch 30/50\n",
      "\u001b[1m52/52\u001b[0m \u001b[32m━━━━━━━━━━━━━━━━━━━━\u001b[0m\u001b[37m\u001b[0m \u001b[1m40s\u001b[0m 664ms/step - loss: 0.6454 - val_loss: 0.6329\n",
      "Epoch 31/50\n",
      "\u001b[1m52/52\u001b[0m \u001b[32m━━━━━━━━━━━━━━━━━━━━\u001b[0m\u001b[37m\u001b[0m \u001b[1m36s\u001b[0m 685ms/step - loss: 0.6705 - val_loss: 0.6308\n",
      "Epoch 32/50\n",
      "\u001b[1m52/52\u001b[0m \u001b[32m━━━━━━━━━━━━━━━━━━━━\u001b[0m\u001b[37m\u001b[0m \u001b[1m36s\u001b[0m 683ms/step - loss: 0.6739 - val_loss: 0.6410\n",
      "Epoch 33/50\n",
      "\u001b[1m52/52\u001b[0m \u001b[32m━━━━━━━━━━━━━━━━━━━━\u001b[0m\u001b[37m\u001b[0m \u001b[1m36s\u001b[0m 691ms/step - loss: 0.6633 - val_loss: 0.6366\n",
      "Epoch 34/50\n",
      "\u001b[1m52/52\u001b[0m \u001b[32m━━━━━━━━━━━━━━━━━━━━\u001b[0m\u001b[37m\u001b[0m \u001b[1m40s\u001b[0m 673ms/step - loss: 0.6495 - val_loss: 0.6317\n",
      "Epoch 35/50\n",
      "\u001b[1m52/52\u001b[0m \u001b[32m━━━━━━━━━━━━━━━━━━━━\u001b[0m\u001b[37m\u001b[0m \u001b[1m36s\u001b[0m 683ms/step - loss: 0.6565 - val_loss: 0.6405\n",
      "Epoch 36/50\n",
      "\u001b[1m52/52\u001b[0m \u001b[32m━━━━━━━━━━━━━━━━━━━━\u001b[0m\u001b[37m\u001b[0m \u001b[1m36s\u001b[0m 682ms/step - loss: 0.6686 - val_loss: 0.6374\n",
      "Epoch 37/50\n",
      "\u001b[1m52/52\u001b[0m \u001b[32m━━━━━━━━━━━━━━━━━━━━\u001b[0m\u001b[37m\u001b[0m \u001b[1m36s\u001b[0m 691ms/step - loss: 0.6367 - val_loss: 0.6343\n",
      "Epoch 38/50\n",
      "\u001b[1m52/52\u001b[0m \u001b[32m━━━━━━━━━━━━━━━━━━━━\u001b[0m\u001b[37m\u001b[0m \u001b[1m40s\u001b[0m 662ms/step - loss: 0.6770 - val_loss: 0.6778\n",
      "Epoch 39/50\n",
      "\u001b[1m52/52\u001b[0m \u001b[32m━━━━━━━━━━━━━━━━━━━━\u001b[0m\u001b[37m\u001b[0m \u001b[1m36s\u001b[0m 685ms/step - loss: 0.6575 - val_loss: 0.6284\n",
      "Epoch 40/50\n",
      "\u001b[1m52/52\u001b[0m \u001b[32m━━━━━━━━━━━━━━━━━━━━\u001b[0m\u001b[37m\u001b[0m \u001b[1m35s\u001b[0m 682ms/step - loss: 0.6587 - val_loss: 0.6415\n",
      "Epoch 41/50\n",
      "\u001b[1m52/52\u001b[0m \u001b[32m━━━━━━━━━━━━━━━━━━━━\u001b[0m\u001b[37m\u001b[0m \u001b[1m35s\u001b[0m 680ms/step - loss: 0.6590 - val_loss: 0.6472\n",
      "Epoch 42/50\n",
      "\u001b[1m52/52\u001b[0m \u001b[32m━━━━━━━━━━━━━━━━━━━━\u001b[0m\u001b[37m\u001b[0m \u001b[1m36s\u001b[0m 684ms/step - loss: 0.6471 - val_loss: 0.6285\n",
      "Epoch 43/50\n",
      "\u001b[1m52/52\u001b[0m \u001b[32m━━━━━━━━━━━━━━━━━━━━\u001b[0m\u001b[37m\u001b[0m \u001b[1m41s\u001b[0m 671ms/step - loss: 0.6664 - val_loss: 0.6309\n",
      "Epoch 44/50\n",
      "\u001b[1m52/52\u001b[0m \u001b[32m━━━━━━━━━━━━━━━━━━━━\u001b[0m\u001b[37m\u001b[0m \u001b[1m36s\u001b[0m 688ms/step - loss: 0.6414 - val_loss: 0.6358\n",
      "Epoch 45/50\n",
      "\u001b[1m52/52\u001b[0m \u001b[32m━━━━━━━━━━━━━━━━━━━━\u001b[0m\u001b[37m\u001b[0m \u001b[1m35s\u001b[0m 682ms/step - loss: 0.6409 - val_loss: 0.6329\n",
      "Epoch 46/50\n",
      "\u001b[1m52/52\u001b[0m \u001b[32m━━━━━━━━━━━━━━━━━━━━\u001b[0m\u001b[37m\u001b[0m \u001b[1m36s\u001b[0m 691ms/step - loss: 0.6678 - val_loss: 0.6448\n",
      "Epoch 47/50\n",
      "\u001b[1m52/52\u001b[0m \u001b[32m━━━━━━━━━━━━━━━━━━━━\u001b[0m\u001b[37m\u001b[0m \u001b[1m35s\u001b[0m 678ms/step - loss: 0.6650 - val_loss: 0.6386\n",
      "Epoch 48/50\n",
      "\u001b[1m52/52\u001b[0m \u001b[32m━━━━━━━━━━━━━━━━━━━━\u001b[0m\u001b[37m\u001b[0m \u001b[1m36s\u001b[0m 687ms/step - loss: 0.6678 - val_loss: 0.6515\n",
      "Epoch 49/50\n",
      "\u001b[1m52/52\u001b[0m \u001b[32m━━━━━━━━━━━━━━━━━━━━\u001b[0m\u001b[37m\u001b[0m \u001b[1m41s\u001b[0m 675ms/step - loss: 0.6613 - val_loss: 0.6400\n",
      "Epoch 50/50\n",
      "\u001b[1m52/52\u001b[0m \u001b[32m━━━━━━━━━━━━━━━━━━━━\u001b[0m\u001b[37m\u001b[0m \u001b[1m36s\u001b[0m 684ms/step - loss: 0.6638 - val_loss: 0.6291\n"
     ]
    },
    {
     "data": {
      "text/plain": [
       "<keras.src.callbacks.history.History at 0x2b89284f990>"
      ]
     },
     "execution_count": 96,
     "metadata": {},
     "output_type": "execute_result"
    }
   ],
   "source": [
    "#### Entrenament de la xarxa amb els vectors de les frases ####\n",
    "\n",
    "# Convertir les llistes de tuples a arrays de NumPy\n",
    "vectors_1 = np.array([pair[0] for pair in one_hot_corpus_semantic])\n",
    "vectors_2 = np.array([pair[1] for pair in one_hot_corpus_semantic])\n",
    "\n",
    "# Comprovar si hi ha valors fora de rang i substituir-los\n",
    "vectors_1 = np.clip(vectors_1, 0, 1)\n",
    "vectors_2 = np.clip(vectors_2, 0, 1)\n",
    "\n",
    "# Convertir les llistes de similituds a un array de NumPy\n",
    "semantic_score = np.array(semantic_score)\n",
    "\n",
    "baseline_model.fit(\n",
    "    [vectors_1, vectors_2], \n",
    "    semantic_score, \n",
    "    epochs=50, \n",
    "    batch_size=32, \n",
    "    validation_split=0.2\n",
    ")"
   ]
  },
  {
   "cell_type": "markdown",
   "metadata": {},
   "source": [
    "### 2. Models Word2Vec pre-entrenats"
   ]
  },
  {
   "cell_type": "code",
   "execution_count": 66,
   "metadata": {},
   "outputs": [],
   "source": [
    "import numpy as np\n",
    "from sklearn.feature_extraction.text import TfidfVectorizer\n",
    "\n",
    "# Word2Vec + Mean \n",
    "def compute_mean_embedding(text, model, embedding_dim):\n",
    "    \"\"\"\n",
    "    Agafa els vectors d'embeddings de cada paraula en una frase o document i \n",
    "    calcula la mitjana dels vectors per obtenir una única representació vectorial \n",
    "    per a la frase o document.\n",
    "    \"\"\"\n",
    "    vectors = [model[word] for word in text if word in model]\n",
    "    if vectors:\n",
    "        mean_vector = np.mean(vectors, axis=0)\n",
    "    else:\n",
    "        mean_vector = np.zeros(embedding_dim)\n",
    "    return mean_vector\n",
    "\n",
    "\n",
    "# Word2Vec + Mean Ponderada\n",
    "def compute_weighted_mean_embedding(text, model, word2tfidf, embedding_dim):\n",
    "    \"\"\"\n",
    "    Utilitza una ponderació per a cada vector de paraula, com ara la freqüència \n",
    "    inversa del document (TF-IDF), per calcular una mitjana ponderada dels vectors.\n",
    "    \"\"\"\n",
    "    vectors = [model[word] * word2tfidf[word] for word in text if word in model and word in word2tfidf]\n",
    "    if vectors:\n",
    "        weighted_mean_vector = np.mean(vectors, axis=0)\n",
    "    else:\n",
    "        weighted_mean_vector = np.zeros(embedding_dim)\n",
    "    return weighted_mean_vector"
   ]
  },
  {
   "cell_type": "code",
   "execution_count": 67,
   "metadata": {},
   "outputs": [],
   "source": [
    "# Passar les frases de corpus_semantic a vectors\n",
    "mean_embbeding_corpus_semantic = corpus_semantic.copy()\n",
    "for i, (frase1, frase2) in enumerate(mean_embbeding_corpus_semantic):\n",
    "    mean_embbeding_corpus_semantic[i] = (compute_mean_embedding(frase1, model_100MB.wv, 100), \n",
    "                                        compute_mean_embedding(frase2, model_100MB.wv, 100))"
   ]
  },
  {
   "cell_type": "code",
   "execution_count": 72,
   "metadata": {},
   "outputs": [
    {
     "name": "stdout",
     "output_type": "stream",
     "text": [
      "(2073, 100)\n",
      "(2073, 100)\n",
      "(2073,)\n",
      "Epoch 1/50\n",
      "\u001b[1m52/52\u001b[0m \u001b[32m━━━━━━━━━━━━━━━━━━━━\u001b[0m\u001b[37m\u001b[0m \u001b[1m12s\u001b[0m 114ms/step - loss: 1.0485 - val_loss: 0.6295\n",
      "Epoch 2/50\n",
      "\u001b[1m52/52\u001b[0m \u001b[32m━━━━━━━━━━━━━━━━━━━━\u001b[0m\u001b[37m\u001b[0m \u001b[1m6s\u001b[0m 118ms/step - loss: 0.6875 - val_loss: 0.6248\n",
      "Epoch 3/50\n",
      "\u001b[1m52/52\u001b[0m \u001b[32m━━━━━━━━━━━━━━━━━━━━\u001b[0m\u001b[37m\u001b[0m \u001b[1m4s\u001b[0m 75ms/step - loss: 0.6671 - val_loss: 0.6261\n",
      "Epoch 4/50\n",
      "\u001b[1m52/52\u001b[0m \u001b[32m━━━━━━━━━━━━━━━━━━━━\u001b[0m\u001b[37m\u001b[0m \u001b[1m6s\u001b[0m 89ms/step - loss: 0.6770 - val_loss: 0.6370\n",
      "Epoch 5/50\n",
      "\u001b[1m52/52\u001b[0m \u001b[32m━━━━━━━━━━━━━━━━━━━━\u001b[0m\u001b[37m\u001b[0m \u001b[1m5s\u001b[0m 96ms/step - loss: 0.6557 - val_loss: 0.6251\n",
      "Epoch 6/50\n",
      "\u001b[1m52/52\u001b[0m \u001b[32m━━━━━━━━━━━━━━━━━━━━\u001b[0m\u001b[37m\u001b[0m \u001b[1m4s\u001b[0m 69ms/step - loss: 0.6731 - val_loss: 0.6451\n",
      "Epoch 7/50\n",
      "\u001b[1m52/52\u001b[0m \u001b[32m━━━━━━━━━━━━━━━━━━━━\u001b[0m\u001b[37m\u001b[0m \u001b[1m4s\u001b[0m 71ms/step - loss: 0.6890 - val_loss: 0.6716\n",
      "Epoch 8/50\n",
      "\u001b[1m52/52\u001b[0m \u001b[32m━━━━━━━━━━━━━━━━━━━━\u001b[0m\u001b[37m\u001b[0m \u001b[1m3s\u001b[0m 66ms/step - loss: 0.6637 - val_loss: 0.6447\n",
      "Epoch 9/50\n",
      "\u001b[1m52/52\u001b[0m \u001b[32m━━━━━━━━━━━━━━━━━━━━\u001b[0m\u001b[37m\u001b[0m \u001b[1m6s\u001b[0m 112ms/step - loss: 0.6758 - val_loss: 0.6228\n",
      "Epoch 10/50\n",
      "\u001b[1m52/52\u001b[0m \u001b[32m━━━━━━━━━━━━━━━━━━━━\u001b[0m\u001b[37m\u001b[0m \u001b[1m4s\u001b[0m 84ms/step - loss: 0.6756 - val_loss: 0.6236\n",
      "Epoch 11/50\n",
      "\u001b[1m52/52\u001b[0m \u001b[32m━━━━━━━━━━━━━━━━━━━━\u001b[0m\u001b[37m\u001b[0m \u001b[1m6s\u001b[0m 117ms/step - loss: 0.6820 - val_loss: 0.6249\n",
      "Epoch 12/50\n",
      "\u001b[1m52/52\u001b[0m \u001b[32m━━━━━━━━━━━━━━━━━━━━\u001b[0m\u001b[37m\u001b[0m \u001b[1m6s\u001b[0m 120ms/step - loss: 0.6717 - val_loss: 0.6238\n",
      "Epoch 13/50\n",
      "\u001b[1m52/52\u001b[0m \u001b[32m━━━━━━━━━━━━━━━━━━━━\u001b[0m\u001b[37m\u001b[0m \u001b[1m5s\u001b[0m 90ms/step - loss: 0.6793 - val_loss: 0.6599\n",
      "Epoch 14/50\n",
      "\u001b[1m52/52\u001b[0m \u001b[32m━━━━━━━━━━━━━━━━━━━━\u001b[0m\u001b[37m\u001b[0m \u001b[1m4s\u001b[0m 73ms/step - loss: 0.6653 - val_loss: 0.6261\n",
      "Epoch 15/50\n",
      "\u001b[1m52/52\u001b[0m \u001b[32m━━━━━━━━━━━━━━━━━━━━\u001b[0m\u001b[37m\u001b[0m \u001b[1m4s\u001b[0m 74ms/step - loss: 0.6401 - val_loss: 0.6239\n",
      "Epoch 16/50\n",
      "\u001b[1m52/52\u001b[0m \u001b[32m━━━━━━━━━━━━━━━━━━━━\u001b[0m\u001b[37m\u001b[0m \u001b[1m4s\u001b[0m 73ms/step - loss: 0.6771 - val_loss: 0.6525\n",
      "Epoch 17/50\n",
      "\u001b[1m52/52\u001b[0m \u001b[32m━━━━━━━━━━━━━━━━━━━━\u001b[0m\u001b[37m\u001b[0m \u001b[1m4s\u001b[0m 77ms/step - loss: 0.6655 - val_loss: 0.6728\n",
      "Epoch 18/50\n",
      "\u001b[1m52/52\u001b[0m \u001b[32m━━━━━━━━━━━━━━━━━━━━\u001b[0m\u001b[37m\u001b[0m \u001b[1m4s\u001b[0m 69ms/step - loss: 0.6958 - val_loss: 0.6243\n",
      "Epoch 19/50\n",
      "\u001b[1m52/52\u001b[0m \u001b[32m━━━━━━━━━━━━━━━━━━━━\u001b[0m\u001b[37m\u001b[0m \u001b[1m4s\u001b[0m 72ms/step - loss: 0.6690 - val_loss: 0.6223\n",
      "Epoch 20/50\n",
      "\u001b[1m52/52\u001b[0m \u001b[32m━━━━━━━━━━━━━━━━━━━━\u001b[0m\u001b[37m\u001b[0m \u001b[1m4s\u001b[0m 77ms/step - loss: 0.6563 - val_loss: 0.6250\n",
      "Epoch 21/50\n",
      "\u001b[1m52/52\u001b[0m \u001b[32m━━━━━━━━━━━━━━━━━━━━\u001b[0m\u001b[37m\u001b[0m \u001b[1m4s\u001b[0m 79ms/step - loss: 0.6727 - val_loss: 0.6214\n",
      "Epoch 22/50\n",
      "\u001b[1m52/52\u001b[0m \u001b[32m━━━━━━━━━━━━━━━━━━━━\u001b[0m\u001b[37m\u001b[0m \u001b[1m4s\u001b[0m 78ms/step - loss: 0.6694 - val_loss: 0.6209\n",
      "Epoch 23/50\n",
      "\u001b[1m52/52\u001b[0m \u001b[32m━━━━━━━━━━━━━━━━━━━━\u001b[0m\u001b[37m\u001b[0m \u001b[1m4s\u001b[0m 78ms/step - loss: 0.6556 - val_loss: 0.6323\n",
      "Epoch 24/50\n",
      "\u001b[1m52/52\u001b[0m \u001b[32m━━━━━━━━━━━━━━━━━━━━\u001b[0m\u001b[37m\u001b[0m \u001b[1m4s\u001b[0m 70ms/step - loss: 0.6396 - val_loss: 0.6212\n",
      "Epoch 25/50\n",
      "\u001b[1m52/52\u001b[0m \u001b[32m━━━━━━━━━━━━━━━━━━━━\u001b[0m\u001b[37m\u001b[0m \u001b[1m6s\u001b[0m 107ms/step - loss: 0.7023 - val_loss: 0.6235\n",
      "Epoch 26/50\n",
      "\u001b[1m52/52\u001b[0m \u001b[32m━━━━━━━━━━━━━━━━━━━━\u001b[0m\u001b[37m\u001b[0m \u001b[1m10s\u001b[0m 101ms/step - loss: 0.6418 - val_loss: 0.6277\n",
      "Epoch 27/50\n",
      "\u001b[1m52/52\u001b[0m \u001b[32m━━━━━━━━━━━━━━━━━━━━\u001b[0m\u001b[37m\u001b[0m \u001b[1m5s\u001b[0m 100ms/step - loss: 0.6357 - val_loss: 0.6240\n",
      "Epoch 28/50\n",
      "\u001b[1m52/52\u001b[0m \u001b[32m━━━━━━━━━━━━━━━━━━━━\u001b[0m\u001b[37m\u001b[0m \u001b[1m6s\u001b[0m 107ms/step - loss: 0.6633 - val_loss: 0.6276\n",
      "Epoch 29/50\n",
      "\u001b[1m52/52\u001b[0m \u001b[32m━━━━━━━━━━━━━━━━━━━━\u001b[0m\u001b[37m\u001b[0m \u001b[1m10s\u001b[0m 99ms/step - loss: 0.6502 - val_loss: 0.6592\n",
      "Epoch 30/50\n",
      "\u001b[1m52/52\u001b[0m \u001b[32m━━━━━━━━━━━━━━━━━━━━\u001b[0m\u001b[37m\u001b[0m \u001b[1m5s\u001b[0m 102ms/step - loss: 0.6720 - val_loss: 0.6473\n",
      "Epoch 31/50\n",
      "\u001b[1m52/52\u001b[0m \u001b[32m━━━━━━━━━━━━━━━━━━━━\u001b[0m\u001b[37m\u001b[0m \u001b[1m6s\u001b[0m 106ms/step - loss: 0.6579 - val_loss: 0.6226\n",
      "Epoch 32/50\n",
      "\u001b[1m52/52\u001b[0m \u001b[32m━━━━━━━━━━━━━━━━━━━━\u001b[0m\u001b[37m\u001b[0m \u001b[1m10s\u001b[0m 98ms/step - loss: 0.6455 - val_loss: 0.6218\n",
      "Epoch 33/50\n",
      "\u001b[1m52/52\u001b[0m \u001b[32m━━━━━━━━━━━━━━━━━━━━\u001b[0m\u001b[37m\u001b[0m \u001b[1m6s\u001b[0m 105ms/step - loss: 0.6475 - val_loss: 0.6361\n",
      "Epoch 34/50\n",
      "\u001b[1m52/52\u001b[0m \u001b[32m━━━━━━━━━━━━━━━━━━━━\u001b[0m\u001b[37m\u001b[0m \u001b[1m5s\u001b[0m 97ms/step - loss: 0.6386 - val_loss: 0.6252\n",
      "Epoch 35/50\n",
      "\u001b[1m52/52\u001b[0m \u001b[32m━━━━━━━━━━━━━━━━━━━━\u001b[0m\u001b[37m\u001b[0m \u001b[1m6s\u001b[0m 109ms/step - loss: 0.6454 - val_loss: 0.6261\n",
      "Epoch 36/50\n",
      "\u001b[1m52/52\u001b[0m \u001b[32m━━━━━━━━━━━━━━━━━━━━\u001b[0m\u001b[37m\u001b[0m \u001b[1m10s\u001b[0m 95ms/step - loss: 0.6528 - val_loss: 0.6224\n",
      "Epoch 37/50\n",
      "\u001b[1m52/52\u001b[0m \u001b[32m━━━━━━━━━━━━━━━━━━━━\u001b[0m\u001b[37m\u001b[0m \u001b[1m6s\u001b[0m 100ms/step - loss: 0.6559 - val_loss: 0.6304\n",
      "Epoch 38/50\n",
      "\u001b[1m52/52\u001b[0m \u001b[32m━━━━━━━━━━━━━━━━━━━━\u001b[0m\u001b[37m\u001b[0m \u001b[1m5s\u001b[0m 101ms/step - loss: 0.7090 - val_loss: 0.6492\n",
      "Epoch 39/50\n",
      "\u001b[1m52/52\u001b[0m \u001b[32m━━━━━━━━━━━━━━━━━━━━\u001b[0m\u001b[37m\u001b[0m \u001b[1m6s\u001b[0m 108ms/step - loss: 0.6746 - val_loss: 0.6317\n",
      "Epoch 40/50\n",
      "\u001b[1m52/52\u001b[0m \u001b[32m━━━━━━━━━━━━━━━━━━━━\u001b[0m\u001b[37m\u001b[0m \u001b[1m5s\u001b[0m 103ms/step - loss: 0.6613 - val_loss: 0.6251\n",
      "Epoch 41/50\n",
      "\u001b[1m52/52\u001b[0m \u001b[32m━━━━━━━━━━━━━━━━━━━━\u001b[0m\u001b[37m\u001b[0m \u001b[1m6s\u001b[0m 112ms/step - loss: 0.6439 - val_loss: 0.6256\n",
      "Epoch 42/50\n",
      "\u001b[1m52/52\u001b[0m \u001b[32m━━━━━━━━━━━━━━━━━━━━\u001b[0m\u001b[37m\u001b[0m \u001b[1m7s\u001b[0m 131ms/step - loss: 0.6677 - val_loss: 0.6349\n",
      "Epoch 43/50\n",
      "\u001b[1m52/52\u001b[0m \u001b[32m━━━━━━━━━━━━━━━━━━━━\u001b[0m\u001b[37m\u001b[0m \u001b[1m8s\u001b[0m 78ms/step - loss: 0.6520 - val_loss: 0.6252\n",
      "Epoch 44/50\n",
      "\u001b[1m52/52\u001b[0m \u001b[32m━━━━━━━━━━━━━━━━━━━━\u001b[0m\u001b[37m\u001b[0m \u001b[1m4s\u001b[0m 85ms/step - loss: 0.6509 - val_loss: 0.6364\n",
      "Epoch 45/50\n",
      "\u001b[1m52/52\u001b[0m \u001b[32m━━━━━━━━━━━━━━━━━━━━\u001b[0m\u001b[37m\u001b[0m \u001b[1m5s\u001b[0m 90ms/step - loss: 0.6334 - val_loss: 0.6276\n",
      "Epoch 46/50\n",
      "\u001b[1m52/52\u001b[0m \u001b[32m━━━━━━━━━━━━━━━━━━━━\u001b[0m\u001b[37m\u001b[0m \u001b[1m4s\u001b[0m 75ms/step - loss: 0.6603 - val_loss: 0.6275\n",
      "Epoch 47/50\n",
      "\u001b[1m52/52\u001b[0m \u001b[32m━━━━━━━━━━━━━━━━━━━━\u001b[0m\u001b[37m\u001b[0m \u001b[1m4s\u001b[0m 71ms/step - loss: 0.6282 - val_loss: 0.6254\n",
      "Epoch 48/50\n",
      "\u001b[1m52/52\u001b[0m \u001b[32m━━━━━━━━━━━━━━━━━━━━\u001b[0m\u001b[37m\u001b[0m \u001b[1m4s\u001b[0m 78ms/step - loss: 0.6550 - val_loss: 0.6289\n",
      "Epoch 49/50\n",
      "\u001b[1m52/52\u001b[0m \u001b[32m━━━━━━━━━━━━━━━━━━━━\u001b[0m\u001b[37m\u001b[0m \u001b[1m4s\u001b[0m 76ms/step - loss: 0.6347 - val_loss: 0.6226\n",
      "Epoch 50/50\n",
      "\u001b[1m52/52\u001b[0m \u001b[32m━━━━━━━━━━━━━━━━━━━━\u001b[0m\u001b[37m\u001b[0m \u001b[1m5s\u001b[0m 90ms/step - loss: 0.6704 - val_loss: 0.6424\n"
     ]
    },
    {
     "data": {
      "text/plain": [
       "<keras.src.callbacks.history.History at 0x2b83f065e90>"
      ]
     },
     "execution_count": 72,
     "metadata": {},
     "output_type": "execute_result"
    }
   ],
   "source": [
    "#### Entrenament de la xarxa amb els vectors de les frases ####\n",
    "\n",
    "# Convertir les llistes de tuples a arrays de NumPy\n",
    "vectors_1 = np.array([pair[0] for pair in mean_embbeding_corpus_semantic])\n",
    "vectors_2 = np.array([pair[1] for pair in mean_embbeding_corpus_semantic])\n",
    "\n",
    "# Comprovar si hi ha valors fora de rang i substituir-los\n",
    "vectors_1 = np.clip(vectors_1, 0, 999)\n",
    "vectors_2 = np.clip(vectors_2, 0, 999)\n",
    "\n",
    "print(vectors_1.shape)\n",
    "print(vectors_2.shape)\n",
    "print(semantic_score.shape)\n",
    "# Convertir les llistes de similituds a un array de NumPy\n",
    "semantic_score = np.array(semantic_score)\n",
    "\n",
    "baseline_model.fit(\n",
    "    [vectors_1, vectors_2], \n",
    "    semantic_score, \n",
    "    epochs=50, \n",
    "    batch_size=32, \n",
    "    validation_split=0.2\n",
    ")"
   ]
  },
  {
   "cell_type": "markdown",
   "metadata": {},
   "source": [
    "### 3. spaCy"
   ]
  },
  {
   "cell_type": "code",
   "execution_count": 146,
   "metadata": {},
   "outputs": [
    {
     "name": "stderr",
     "output_type": "stream",
     "text": [
      "Traceback (most recent call last):\n",
      "  File \"<frozen runpy>\", line 189, in _run_module_as_main\n",
      "  File \"<frozen runpy>\", line 148, in _get_module_details\n",
      "  File \"<frozen runpy>\", line 112, in _get_module_details\n",
      "  File \"C:\\Users\\USER\\AppData\\Local\\Packages\\PythonSoftwareFoundation.Python.3.11_qbz5n2kfra8p0\\LocalCache\\local-packages\\Python312\\site-packages\\spacy\\__init__.py\", line 6, in <module>\n",
      "    from .errors import setup_default_warnings\n",
      "  File \"C:\\Users\\USER\\AppData\\Local\\Packages\\PythonSoftwareFoundation.Python.3.11_qbz5n2kfra8p0\\LocalCache\\local-packages\\Python312\\site-packages\\spacy\\errors.py\", line 3, in <module>\n",
      "    from .compat import Literal\n",
      "  File \"C:\\Users\\USER\\AppData\\Local\\Packages\\PythonSoftwareFoundation.Python.3.11_qbz5n2kfra8p0\\LocalCache\\local-packages\\Python312\\site-packages\\spacy\\compat.py\", line 4, in <module>\n",
      "    from thinc.util import copy_array\n",
      "  File \"C:\\Users\\USER\\AppData\\Local\\Packages\\PythonSoftwareFoundation.Python.3.11_qbz5n2kfra8p0\\LocalCache\\local-packages\\Python312\\site-packages\\thinc\\__init__.py\", line 5, in <module>\n",
      "    from .config import registry\n",
      "  File \"C:\\Users\\USER\\AppData\\Local\\Packages\\PythonSoftwareFoundation.Python.3.11_qbz5n2kfra8p0\\LocalCache\\local-packages\\Python312\\site-packages\\thinc\\config.py\", line 5, in <module>\n",
      "    from .types import Decorator\n",
      "  File \"C:\\Users\\USER\\AppData\\Local\\Packages\\PythonSoftwareFoundation.Python.3.11_qbz5n2kfra8p0\\LocalCache\\local-packages\\Python312\\site-packages\\thinc\\types.py\", line 25, in <module>\n",
      "    from .compat import cupy, has_cupy\n",
      "  File \"C:\\Users\\USER\\AppData\\Local\\Packages\\PythonSoftwareFoundation.Python.3.11_qbz5n2kfra8p0\\LocalCache\\local-packages\\Python312\\site-packages\\thinc\\compat.py\", line 35, in <module>\n",
      "    import torch\n",
      "  File \"C:\\Users\\USER\\AppData\\Local\\Packages\\PythonSoftwareFoundation.Python.3.11_qbz5n2kfra8p0\\LocalCache\\local-packages\\Python312\\site-packages\\torch\\__init__.py\", line 141, in <module>\n",
      "    raise err\n",
      "OSError: [WinError 126] No se puede encontrar el módulo especificado. Error loading \"C:\\Users\\USER\\AppData\\Local\\Packages\\PythonSoftwareFoundation.Python.3.11_qbz5n2kfra8p0\\LocalCache\\local-packages\\Python312\\site-packages\\torch\\lib\\shm.dll\" or one of its dependencies.\n"
     ]
    }
   ],
   "source": [
    "!py -m spacy download ca_core_news_md"
   ]
  },
  {
   "cell_type": "code",
   "execution_count": 169,
   "metadata": {},
   "outputs": [],
   "source": [
    "import spacy\n",
    "\n",
    "nlp_md = spacy.load('ca_core_news_md')"
   ]
  },
  {
   "cell_type": "code",
   "execution_count": 125,
   "metadata": {},
   "outputs": [],
   "source": [
    "import numpy as np\n",
    "import spacy\n",
    "\n",
    "\n",
    "def spacy_mean_embedding(text, model, embedding_dim):\n",
    "    \"\"\"\n",
    "    Agafa els vectors d'embeddings de cada paraula en una frase o document i \n",
    "    calcula la mitjana dels vectors per obtenir una única representació vectorial \n",
    "    per a la frase o document.\n",
    "    \"\"\"\n",
    "    vectors = [model(word).vector for word in text]\n",
    "\n",
    "    if vectors:\n",
    "        mean_vector = np.mean(vectors, axis=0)\n",
    "    else:\n",
    "        mean_vector = np.zeros(embedding_dim)\n",
    "    return mean_vector"
   ]
  },
  {
   "cell_type": "code",
   "execution_count": 126,
   "metadata": {},
   "outputs": [],
   "source": [
    "# Passar les frases de corpus_semantic a vectors\n",
    "spacy_mean_embbeding_corpus_semantic = corpus_semantic.copy()\n",
    "for i, (frase1, frase2) in enumerate(spacy_mean_embbeding_corpus_semantic):\n",
    "    spacy_mean_embbeding_corpus_semantic[i] = (spacy_mean_embedding(frase1,nlp_md, 300), \n",
    "                                            spacy_mean_embedding(frase2, nlp_md, 300))"
   ]
  },
  {
   "cell_type": "code",
   "execution_count": 127,
   "metadata": {},
   "outputs": [
    {
     "name": "stdout",
     "output_type": "stream",
     "text": [
      "(2073, 100)\n",
      "(2073, 100)\n",
      "(2073,)\n",
      "Epoch 1/50\n",
      "\u001b[1m52/52\u001b[0m \u001b[32m━━━━━━━━━━━━━━━━━━━━\u001b[0m\u001b[37m\u001b[0m \u001b[1m9s\u001b[0m 103ms/step - loss: 0.7019 - val_loss: 0.6564\n",
      "Epoch 2/50\n",
      "\u001b[1m52/52\u001b[0m \u001b[32m━━━━━━━━━━━━━━━━━━━━\u001b[0m\u001b[37m\u001b[0m \u001b[1m5s\u001b[0m 89ms/step - loss: 0.6764 - val_loss: 0.6240\n",
      "Epoch 3/50\n",
      "\u001b[1m52/52\u001b[0m \u001b[32m━━━━━━━━━━━━━━━━━━━━\u001b[0m\u001b[37m\u001b[0m \u001b[1m5s\u001b[0m 83ms/step - loss: 0.6828 - val_loss: 0.6246\n",
      "Epoch 4/50\n",
      "\u001b[1m52/52\u001b[0m \u001b[32m━━━━━━━━━━━━━━━━━━━━\u001b[0m\u001b[37m\u001b[0m \u001b[1m5s\u001b[0m 88ms/step - loss: 0.6937 - val_loss: 0.6243\n",
      "Epoch 5/50\n",
      "\u001b[1m52/52\u001b[0m \u001b[32m━━━━━━━━━━━━━━━━━━━━\u001b[0m\u001b[37m\u001b[0m \u001b[1m5s\u001b[0m 87ms/step - loss: 0.6792 - val_loss: 0.6267\n",
      "Epoch 6/50\n",
      "\u001b[1m52/52\u001b[0m \u001b[32m━━━━━━━━━━━━━━━━━━━━\u001b[0m\u001b[37m\u001b[0m \u001b[1m5s\u001b[0m 87ms/step - loss: 0.6785 - val_loss: 0.6238\n",
      "Epoch 7/50\n",
      "\u001b[1m52/52\u001b[0m \u001b[32m━━━━━━━━━━━━━━━━━━━━\u001b[0m\u001b[37m\u001b[0m \u001b[1m5s\u001b[0m 87ms/step - loss: 0.6500 - val_loss: 0.6266\n",
      "Epoch 8/50\n",
      "\u001b[1m52/52\u001b[0m \u001b[32m━━━━━━━━━━━━━━━━━━━━\u001b[0m\u001b[37m\u001b[0m \u001b[1m5s\u001b[0m 88ms/step - loss: 0.6711 - val_loss: 0.6471\n",
      "Epoch 9/50\n",
      "\u001b[1m52/52\u001b[0m \u001b[32m━━━━━━━━━━━━━━━━━━━━\u001b[0m\u001b[37m\u001b[0m \u001b[1m4s\u001b[0m 84ms/step - loss: 0.6796 - val_loss: 0.6273\n",
      "Epoch 10/50\n",
      "\u001b[1m52/52\u001b[0m \u001b[32m━━━━━━━━━━━━━━━━━━━━\u001b[0m\u001b[37m\u001b[0m \u001b[1m5s\u001b[0m 94ms/step - loss: 0.6685 - val_loss: 0.6239\n",
      "Epoch 11/50\n",
      "\u001b[1m52/52\u001b[0m \u001b[32m━━━━━━━━━━━━━━━━━━━━\u001b[0m\u001b[37m\u001b[0m \u001b[1m5s\u001b[0m 95ms/step - loss: 0.6457 - val_loss: 0.6526\n",
      "Epoch 12/50\n",
      "\u001b[1m52/52\u001b[0m \u001b[32m━━━━━━━━━━━━━━━━━━━━\u001b[0m\u001b[37m\u001b[0m \u001b[1m5s\u001b[0m 96ms/step - loss: 0.6734 - val_loss: 0.6299\n",
      "Epoch 13/50\n",
      "\u001b[1m52/52\u001b[0m \u001b[32m━━━━━━━━━━━━━━━━━━━━\u001b[0m\u001b[37m\u001b[0m \u001b[1m5s\u001b[0m 95ms/step - loss: 0.6514 - val_loss: 0.6253\n",
      "Epoch 14/50\n",
      "\u001b[1m52/52\u001b[0m \u001b[32m━━━━━━━━━━━━━━━━━━━━\u001b[0m\u001b[37m\u001b[0m \u001b[1m5s\u001b[0m 93ms/step - loss: 0.6476 - val_loss: 0.6390\n",
      "Epoch 15/50\n",
      "\u001b[1m52/52\u001b[0m \u001b[32m━━━━━━━━━━━━━━━━━━━━\u001b[0m\u001b[37m\u001b[0m \u001b[1m5s\u001b[0m 93ms/step - loss: 0.6659 - val_loss: 0.6442\n",
      "Epoch 16/50\n",
      "\u001b[1m52/52\u001b[0m \u001b[32m━━━━━━━━━━━━━━━━━━━━\u001b[0m\u001b[37m\u001b[0m \u001b[1m5s\u001b[0m 96ms/step - loss: 0.6534 - val_loss: 0.6240\n",
      "Epoch 17/50\n",
      "\u001b[1m52/52\u001b[0m \u001b[32m━━━━━━━━━━━━━━━━━━━━\u001b[0m\u001b[37m\u001b[0m \u001b[1m5s\u001b[0m 96ms/step - loss: 0.6575 - val_loss: 0.6440\n",
      "Epoch 18/50\n",
      "\u001b[1m52/52\u001b[0m \u001b[32m━━━━━━━━━━━━━━━━━━━━\u001b[0m\u001b[37m\u001b[0m \u001b[1m5s\u001b[0m 95ms/step - loss: 0.6672 - val_loss: 0.6280\n",
      "Epoch 19/50\n",
      "\u001b[1m52/52\u001b[0m \u001b[32m━━━━━━━━━━━━━━━━━━━━\u001b[0m\u001b[37m\u001b[0m \u001b[1m5s\u001b[0m 97ms/step - loss: 0.6415 - val_loss: 0.6263\n",
      "Epoch 20/50\n",
      "\u001b[1m52/52\u001b[0m \u001b[32m━━━━━━━━━━━━━━━━━━━━\u001b[0m\u001b[37m\u001b[0m \u001b[1m5s\u001b[0m 96ms/step - loss: 0.6548 - val_loss: 0.6303\n",
      "Epoch 21/50\n",
      "\u001b[1m52/52\u001b[0m \u001b[32m━━━━━━━━━━━━━━━━━━━━\u001b[0m\u001b[37m\u001b[0m \u001b[1m5s\u001b[0m 96ms/step - loss: 0.6541 - val_loss: 0.6335\n",
      "Epoch 22/50\n",
      "\u001b[1m52/52\u001b[0m \u001b[32m━━━━━━━━━━━━━━━━━━━━\u001b[0m\u001b[37m\u001b[0m \u001b[1m5s\u001b[0m 91ms/step - loss: 0.6508 - val_loss: 0.6357\n",
      "Epoch 23/50\n",
      "\u001b[1m52/52\u001b[0m \u001b[32m━━━━━━━━━━━━━━━━━━━━\u001b[0m\u001b[37m\u001b[0m \u001b[1m5s\u001b[0m 95ms/step - loss: 0.6370 - val_loss: 0.6290\n",
      "Epoch 24/50\n",
      "\u001b[1m52/52\u001b[0m \u001b[32m━━━━━━━━━━━━━━━━━━━━\u001b[0m\u001b[37m\u001b[0m \u001b[1m5s\u001b[0m 96ms/step - loss: 0.6356 - val_loss: 0.6272\n",
      "Epoch 25/50\n",
      "\u001b[1m52/52\u001b[0m \u001b[32m━━━━━━━━━━━━━━━━━━━━\u001b[0m\u001b[37m\u001b[0m \u001b[1m5s\u001b[0m 96ms/step - loss: 0.6388 - val_loss: 0.6291\n",
      "Epoch 26/50\n",
      "\u001b[1m52/52\u001b[0m \u001b[32m━━━━━━━━━━━━━━━━━━━━\u001b[0m\u001b[37m\u001b[0m \u001b[1m5s\u001b[0m 97ms/step - loss: 0.6344 - val_loss: 0.6481\n",
      "Epoch 27/50\n",
      "\u001b[1m52/52\u001b[0m \u001b[32m━━━━━━━━━━━━━━━━━━━━\u001b[0m\u001b[37m\u001b[0m \u001b[1m5s\u001b[0m 94ms/step - loss: 0.6530 - val_loss: 0.6488\n",
      "Epoch 28/50\n",
      "\u001b[1m52/52\u001b[0m \u001b[32m━━━━━━━━━━━━━━━━━━━━\u001b[0m\u001b[37m\u001b[0m \u001b[1m5s\u001b[0m 94ms/step - loss: 0.6296 - val_loss: 0.6528\n",
      "Epoch 29/50\n",
      "\u001b[1m52/52\u001b[0m \u001b[32m━━━━━━━━━━━━━━━━━━━━\u001b[0m\u001b[37m\u001b[0m \u001b[1m5s\u001b[0m 96ms/step - loss: 0.6325 - val_loss: 0.6497\n",
      "Epoch 30/50\n",
      "\u001b[1m52/52\u001b[0m \u001b[32m━━━━━━━━━━━━━━━━━━━━\u001b[0m\u001b[37m\u001b[0m \u001b[1m5s\u001b[0m 91ms/step - loss: 0.6327 - val_loss: 0.6379\n",
      "Epoch 31/50\n",
      "\u001b[1m52/52\u001b[0m \u001b[32m━━━━━━━━━━━━━━━━━━━━\u001b[0m\u001b[37m\u001b[0m \u001b[1m5s\u001b[0m 91ms/step - loss: 0.6297 - val_loss: 0.6373\n",
      "Epoch 32/50\n",
      "\u001b[1m52/52\u001b[0m \u001b[32m━━━━━━━━━━━━━━━━━━━━\u001b[0m\u001b[37m\u001b[0m \u001b[1m5s\u001b[0m 93ms/step - loss: 0.6166 - val_loss: 0.6553\n",
      "Epoch 33/50\n",
      "\u001b[1m52/52\u001b[0m \u001b[32m━━━━━━━━━━━━━━━━━━━━\u001b[0m\u001b[37m\u001b[0m \u001b[1m5s\u001b[0m 96ms/step - loss: 0.6207 - val_loss: 0.6423\n",
      "Epoch 34/50\n",
      "\u001b[1m52/52\u001b[0m \u001b[32m━━━━━━━━━━━━━━━━━━━━\u001b[0m\u001b[37m\u001b[0m \u001b[1m5s\u001b[0m 96ms/step - loss: 0.6125 - val_loss: 0.6408\n",
      "Epoch 35/50\n",
      "\u001b[1m52/52\u001b[0m \u001b[32m━━━━━━━━━━━━━━━━━━━━\u001b[0m\u001b[37m\u001b[0m \u001b[1m5s\u001b[0m 95ms/step - loss: 0.6071 - val_loss: 0.6467\n",
      "Epoch 36/50\n",
      "\u001b[1m52/52\u001b[0m \u001b[32m━━━━━━━━━━━━━━━━━━━━\u001b[0m\u001b[37m\u001b[0m \u001b[1m6s\u001b[0m 109ms/step - loss: 0.6285 - val_loss: 0.6459\n",
      "Epoch 37/50\n",
      "\u001b[1m52/52\u001b[0m \u001b[32m━━━━━━━━━━━━━━━━━━━━\u001b[0m\u001b[37m\u001b[0m \u001b[1m10s\u001b[0m 102ms/step - loss: 0.5921 - val_loss: 0.6533\n",
      "Epoch 38/50\n",
      "\u001b[1m52/52\u001b[0m \u001b[32m━━━━━━━━━━━━━━━━━━━━\u001b[0m\u001b[37m\u001b[0m \u001b[1m6s\u001b[0m 106ms/step - loss: 0.6073 - val_loss: 0.6603\n",
      "Epoch 39/50\n",
      "\u001b[1m52/52\u001b[0m \u001b[32m━━━━━━━━━━━━━━━━━━━━\u001b[0m\u001b[37m\u001b[0m \u001b[1m5s\u001b[0m 97ms/step - loss: 0.5881 - val_loss: 0.6514\n",
      "Epoch 40/50\n",
      "\u001b[1m52/52\u001b[0m \u001b[32m━━━━━━━━━━━━━━━━━━━━\u001b[0m\u001b[37m\u001b[0m \u001b[1m6s\u001b[0m 108ms/step - loss: 0.5917 - val_loss: 0.7141\n",
      "Epoch 41/50\n",
      "\u001b[1m52/52\u001b[0m \u001b[32m━━━━━━━━━━━━━━━━━━━━\u001b[0m\u001b[37m\u001b[0m \u001b[1m6s\u001b[0m 110ms/step - loss: 0.5989 - val_loss: 0.6824\n",
      "Epoch 42/50\n",
      "\u001b[1m52/52\u001b[0m \u001b[32m━━━━━━━━━━━━━━━━━━━━\u001b[0m\u001b[37m\u001b[0m \u001b[1m10s\u001b[0m 98ms/step - loss: 0.5791 - val_loss: 0.6783\n",
      "Epoch 43/50\n",
      "\u001b[1m52/52\u001b[0m \u001b[32m━━━━━━━━━━━━━━━━━━━━\u001b[0m\u001b[37m\u001b[0m \u001b[1m6s\u001b[0m 125ms/step - loss: 0.5528 - val_loss: 0.6698\n",
      "Epoch 44/50\n",
      "\u001b[1m52/52\u001b[0m \u001b[32m━━━━━━━━━━━━━━━━━━━━\u001b[0m\u001b[37m\u001b[0m \u001b[1m9s\u001b[0m 101ms/step - loss: 0.5467 - val_loss: 0.6976\n",
      "Epoch 45/50\n",
      "\u001b[1m52/52\u001b[0m \u001b[32m━━━━━━━━━━━━━━━━━━━━\u001b[0m\u001b[37m\u001b[0m \u001b[1m7s\u001b[0m 128ms/step - loss: 0.5499 - val_loss: 0.6623\n",
      "Epoch 46/50\n",
      "\u001b[1m52/52\u001b[0m \u001b[32m━━━━━━━━━━━━━━━━━━━━\u001b[0m\u001b[37m\u001b[0m \u001b[1m5s\u001b[0m 90ms/step - loss: 0.5633 - val_loss: 0.6794\n",
      "Epoch 47/50\n",
      "\u001b[1m52/52\u001b[0m \u001b[32m━━━━━━━━━━━━━━━━━━━━\u001b[0m\u001b[37m\u001b[0m \u001b[1m6s\u001b[0m 113ms/step - loss: 0.5677 - val_loss: 0.6646\n",
      "Epoch 48/50\n",
      "\u001b[1m52/52\u001b[0m \u001b[32m━━━━━━━━━━━━━━━━━━━━\u001b[0m\u001b[37m\u001b[0m \u001b[1m9s\u001b[0m 84ms/step - loss: 0.5398 - val_loss: 0.6877\n",
      "Epoch 49/50\n",
      "\u001b[1m52/52\u001b[0m \u001b[32m━━━━━━━━━━━━━━━━━━━━\u001b[0m\u001b[37m\u001b[0m \u001b[1m5s\u001b[0m 87ms/step - loss: 0.5043 - val_loss: 0.6828\n",
      "Epoch 50/50\n",
      "\u001b[1m52/52\u001b[0m \u001b[32m━━━━━━━━━━━━━━━━━━━━\u001b[0m\u001b[37m\u001b[0m \u001b[1m5s\u001b[0m 87ms/step - loss: 0.5377 - val_loss: 0.6830\n"
     ]
    },
    {
     "data": {
      "text/plain": [
       "<keras.src.callbacks.history.History at 0x2b7adf1fb50>"
      ]
     },
     "execution_count": 127,
     "metadata": {},
     "output_type": "execute_result"
    }
   ],
   "source": [
    "#### Entrenament de la xarxa amb els vectors de les frases ####\n",
    "\n",
    "# Convertir les llistes de tuples a arrays de NumPy\n",
    "vectors_1 = np.array([pair[0] for pair in mean_embbeding_corpus_semantic])\n",
    "vectors_2 = np.array([pair[1] for pair in mean_embbeding_corpus_semantic])\n",
    "\n",
    "# Comprovar si hi ha valors fora de rang i substituir-los\n",
    "#vectors_1 = np.clip(vectors_1, 0, 999)\n",
    "#vectors_2 = np.clip(vectors_2, 0, 999)\n",
    "\n",
    "print(vectors_1.shape)\n",
    "print(vectors_2.shape)\n",
    "print(semantic_score.shape)\n",
    "# Convertir les llistes de similituds a un array de NumPy\n",
    "semantic_score = np.array(semantic_score)\n",
    "\n",
    "baseline_model.fit(\n",
    "    [vectors_1, vectors_2], \n",
    "    semantic_score, \n",
    "    epochs=50, \n",
    "    batch_size=32, \n",
    "    validation_split=0.2\n",
    ")"
   ]
  },
  {
   "cell_type": "markdown",
   "metadata": {},
   "source": [
    "#### 4.RoBERTa"
   ]
  },
  {
   "cell_type": "code",
   "execution_count": 170,
   "metadata": {},
   "outputs": [
    {
     "name": "stderr",
     "output_type": "stream",
     "text": [
      "Traceback (most recent call last):\n",
      "  File \"<frozen runpy>\", line 189, in _run_module_as_main\n",
      "  File \"<frozen runpy>\", line 148, in _get_module_details\n",
      "  File \"<frozen runpy>\", line 112, in _get_module_details\n",
      "  File \"C:\\Users\\USER\\AppData\\Local\\Packages\\PythonSoftwareFoundation.Python.3.11_qbz5n2kfra8p0\\LocalCache\\local-packages\\Python312\\site-packages\\spacy\\__init__.py\", line 6, in <module>\n",
      "    from .errors import setup_default_warnings\n",
      "  File \"C:\\Users\\USER\\AppData\\Local\\Packages\\PythonSoftwareFoundation.Python.3.11_qbz5n2kfra8p0\\LocalCache\\local-packages\\Python312\\site-packages\\spacy\\errors.py\", line 3, in <module>\n",
      "    from .compat import Literal\n",
      "  File \"C:\\Users\\USER\\AppData\\Local\\Packages\\PythonSoftwareFoundation.Python.3.11_qbz5n2kfra8p0\\LocalCache\\local-packages\\Python312\\site-packages\\spacy\\compat.py\", line 4, in <module>\n",
      "    from thinc.util import copy_array\n",
      "  File \"C:\\Users\\USER\\AppData\\Local\\Packages\\PythonSoftwareFoundation.Python.3.11_qbz5n2kfra8p0\\LocalCache\\local-packages\\Python312\\site-packages\\thinc\\__init__.py\", line 5, in <module>\n",
      "    from .config import registry\n",
      "  File \"C:\\Users\\USER\\AppData\\Local\\Packages\\PythonSoftwareFoundation.Python.3.11_qbz5n2kfra8p0\\LocalCache\\local-packages\\Python312\\site-packages\\thinc\\config.py\", line 5, in <module>\n",
      "    from .types import Decorator\n",
      "  File \"C:\\Users\\USER\\AppData\\Local\\Packages\\PythonSoftwareFoundation.Python.3.11_qbz5n2kfra8p0\\LocalCache\\local-packages\\Python312\\site-packages\\thinc\\types.py\", line 25, in <module>\n",
      "    from .compat import cupy, has_cupy\n",
      "  File \"C:\\Users\\USER\\AppData\\Local\\Packages\\PythonSoftwareFoundation.Python.3.11_qbz5n2kfra8p0\\LocalCache\\local-packages\\Python312\\site-packages\\thinc\\compat.py\", line 35, in <module>\n",
      "    import torch\n",
      "  File \"C:\\Users\\USER\\AppData\\Local\\Packages\\PythonSoftwareFoundation.Python.3.11_qbz5n2kfra8p0\\LocalCache\\local-packages\\Python312\\site-packages\\torch\\__init__.py\", line 141, in <module>\n",
      "    raise err\n",
      "OSError: [WinError 126] No se puede encontrar el módulo especificado. Error loading \"C:\\Users\\USER\\AppData\\Local\\Packages\\PythonSoftwareFoundation.Python.3.11_qbz5n2kfra8p0\\LocalCache\\local-packages\\Python312\\site-packages\\torch\\lib\\shm.dll\" or one of its dependencies.\n"
     ]
    }
   ],
   "source": [
    "!py -m spacy download ca_core_news_trf"
   ]
  },
  {
   "cell_type": "code",
   "execution_count": 157,
   "metadata": {},
   "outputs": [
    {
     "name": "stdout",
     "output_type": "stream",
     "text": [
      "Collecting spacy-transformers\n",
      "  Downloading spacy_transformers-1.3.5-cp311-cp311-win_amd64.whl.metadata (7.2 kB)\n",
      "Requirement already satisfied: spacy<4.1.0,>=3.5.0 in c:\\users\\user\\appdata\\local\\packages\\pythonsoftwarefoundation.python.3.11_qbz5n2kfra8p0\\localcache\\local-packages\\python311\\site-packages (from spacy-transformers) (3.7.4)\n",
      "Collecting transformers<4.37.0,>=3.4.0 (from spacy-transformers)\n",
      "  Downloading transformers-4.36.2-py3-none-any.whl.metadata (126 kB)\n",
      "     ---------------------------------------- 0.0/126.8 kB ? eta -:--:--\n",
      "     ------------ -------------------------- 41.0/126.8 kB 1.9 MB/s eta 0:00:01\n",
      "     ------------------------------------ - 122.9/126.8 kB 1.0 MB/s eta 0:00:01\n",
      "     ------------------------------------ 126.8/126.8 kB 532.0 kB/s eta 0:00:00\n",
      "Requirement already satisfied: torch>=1.8.0 in c:\\users\\user\\appdata\\local\\packages\\pythonsoftwarefoundation.python.3.11_qbz5n2kfra8p0\\localcache\\local-packages\\python311\\site-packages (from spacy-transformers) (2.3.0)\n",
      "Requirement already satisfied: srsly<3.0.0,>=2.4.0 in c:\\users\\user\\appdata\\local\\packages\\pythonsoftwarefoundation.python.3.11_qbz5n2kfra8p0\\localcache\\local-packages\\python311\\site-packages (from spacy-transformers) (2.4.8)\n",
      "Collecting spacy-alignments<1.0.0,>=0.7.2 (from spacy-transformers)\n",
      "  Downloading spacy_alignments-0.9.1-cp311-cp311-win_amd64.whl.metadata (2.7 kB)\n",
      "Requirement already satisfied: numpy>=1.19.0 in c:\\users\\user\\appdata\\local\\packages\\pythonsoftwarefoundation.python.3.11_qbz5n2kfra8p0\\localcache\\local-packages\\python311\\site-packages (from spacy-transformers) (1.26.4)\n",
      "Requirement already satisfied: spacy-legacy<3.1.0,>=3.0.11 in c:\\users\\user\\appdata\\local\\packages\\pythonsoftwarefoundation.python.3.11_qbz5n2kfra8p0\\localcache\\local-packages\\python311\\site-packages (from spacy<4.1.0,>=3.5.0->spacy-transformers) (3.0.12)\n",
      "Requirement already satisfied: spacy-loggers<2.0.0,>=1.0.0 in c:\\users\\user\\appdata\\local\\packages\\pythonsoftwarefoundation.python.3.11_qbz5n2kfra8p0\\localcache\\local-packages\\python311\\site-packages (from spacy<4.1.0,>=3.5.0->spacy-transformers) (1.0.5)\n",
      "Requirement already satisfied: murmurhash<1.1.0,>=0.28.0 in c:\\users\\user\\appdata\\local\\packages\\pythonsoftwarefoundation.python.3.11_qbz5n2kfra8p0\\localcache\\local-packages\\python311\\site-packages (from spacy<4.1.0,>=3.5.0->spacy-transformers) (1.0.10)\n",
      "Requirement already satisfied: cymem<2.1.0,>=2.0.2 in c:\\users\\user\\appdata\\local\\packages\\pythonsoftwarefoundation.python.3.11_qbz5n2kfra8p0\\localcache\\local-packages\\python311\\site-packages (from spacy<4.1.0,>=3.5.0->spacy-transformers) (2.0.8)\n",
      "Requirement already satisfied: preshed<3.1.0,>=3.0.2 in c:\\users\\user\\appdata\\local\\packages\\pythonsoftwarefoundation.python.3.11_qbz5n2kfra8p0\\localcache\\local-packages\\python311\\site-packages (from spacy<4.1.0,>=3.5.0->spacy-transformers) (3.0.9)\n",
      "Requirement already satisfied: thinc<8.3.0,>=8.2.2 in c:\\users\\user\\appdata\\local\\packages\\pythonsoftwarefoundation.python.3.11_qbz5n2kfra8p0\\localcache\\local-packages\\python311\\site-packages (from spacy<4.1.0,>=3.5.0->spacy-transformers) (8.2.3)\n",
      "Requirement already satisfied: wasabi<1.2.0,>=0.9.1 in c:\\users\\user\\appdata\\local\\packages\\pythonsoftwarefoundation.python.3.11_qbz5n2kfra8p0\\localcache\\local-packages\\python311\\site-packages (from spacy<4.1.0,>=3.5.0->spacy-transformers) (1.1.2)\n",
      "Requirement already satisfied: catalogue<2.1.0,>=2.0.6 in c:\\users\\user\\appdata\\local\\packages\\pythonsoftwarefoundation.python.3.11_qbz5n2kfra8p0\\localcache\\local-packages\\python311\\site-packages (from spacy<4.1.0,>=3.5.0->spacy-transformers) (2.0.10)\n",
      "Requirement already satisfied: weasel<0.4.0,>=0.1.0 in c:\\users\\user\\appdata\\local\\packages\\pythonsoftwarefoundation.python.3.11_qbz5n2kfra8p0\\localcache\\local-packages\\python311\\site-packages (from spacy<4.1.0,>=3.5.0->spacy-transformers) (0.3.4)\n",
      "Requirement already satisfied: typer<0.10.0,>=0.3.0 in c:\\users\\user\\appdata\\local\\packages\\pythonsoftwarefoundation.python.3.11_qbz5n2kfra8p0\\localcache\\local-packages\\python311\\site-packages (from spacy<4.1.0,>=3.5.0->spacy-transformers) (0.9.0)\n",
      "Requirement already satisfied: smart-open<7.0.0,>=5.2.1 in c:\\users\\user\\appdata\\local\\packages\\pythonsoftwarefoundation.python.3.11_qbz5n2kfra8p0\\localcache\\local-packages\\python311\\site-packages (from spacy<4.1.0,>=3.5.0->spacy-transformers) (6.4.0)\n",
      "Requirement already satisfied: tqdm<5.0.0,>=4.38.0 in c:\\users\\user\\appdata\\local\\packages\\pythonsoftwarefoundation.python.3.11_qbz5n2kfra8p0\\localcache\\local-packages\\python311\\site-packages (from spacy<4.1.0,>=3.5.0->spacy-transformers) (4.66.1)\n",
      "Requirement already satisfied: requests<3.0.0,>=2.13.0 in c:\\users\\user\\appdata\\local\\packages\\pythonsoftwarefoundation.python.3.11_qbz5n2kfra8p0\\localcache\\local-packages\\python311\\site-packages (from spacy<4.1.0,>=3.5.0->spacy-transformers) (2.31.0)\n",
      "Requirement already satisfied: pydantic!=1.8,!=1.8.1,<3.0.0,>=1.7.4 in c:\\users\\user\\appdata\\local\\packages\\pythonsoftwarefoundation.python.3.11_qbz5n2kfra8p0\\localcache\\local-packages\\python311\\site-packages (from spacy<4.1.0,>=3.5.0->spacy-transformers) (2.6.1)\n",
      "Requirement already satisfied: jinja2 in c:\\users\\user\\appdata\\local\\packages\\pythonsoftwarefoundation.python.3.11_qbz5n2kfra8p0\\localcache\\local-packages\\python311\\site-packages (from spacy<4.1.0,>=3.5.0->spacy-transformers) (3.1.3)\n",
      "Requirement already satisfied: setuptools in c:\\program files\\windowsapps\\pythonsoftwarefoundation.python.3.11_3.11.2544.0_x64__qbz5n2kfra8p0\\lib\\site-packages (from spacy<4.1.0,>=3.5.0->spacy-transformers) (65.5.0)\n",
      "Requirement already satisfied: packaging>=20.0 in c:\\users\\user\\appdata\\local\\packages\\pythonsoftwarefoundation.python.3.11_qbz5n2kfra8p0\\localcache\\local-packages\\python311\\site-packages (from spacy<4.1.0,>=3.5.0->spacy-transformers) (23.2)\n",
      "Requirement already satisfied: langcodes<4.0.0,>=3.2.0 in c:\\users\\user\\appdata\\local\\packages\\pythonsoftwarefoundation.python.3.11_qbz5n2kfra8p0\\localcache\\local-packages\\python311\\site-packages (from spacy<4.1.0,>=3.5.0->spacy-transformers) (3.3.0)\n",
      "Requirement already satisfied: filelock in c:\\users\\user\\appdata\\local\\packages\\pythonsoftwarefoundation.python.3.11_qbz5n2kfra8p0\\localcache\\local-packages\\python311\\site-packages (from torch>=1.8.0->spacy-transformers) (3.14.0)\n",
      "Requirement already satisfied: typing-extensions>=4.8.0 in c:\\users\\user\\appdata\\local\\packages\\pythonsoftwarefoundation.python.3.11_qbz5n2kfra8p0\\localcache\\local-packages\\python311\\site-packages (from torch>=1.8.0->spacy-transformers) (4.9.0)\n",
      "Requirement already satisfied: sympy in c:\\users\\user\\appdata\\local\\packages\\pythonsoftwarefoundation.python.3.11_qbz5n2kfra8p0\\localcache\\local-packages\\python311\\site-packages (from torch>=1.8.0->spacy-transformers) (1.12)\n",
      "Requirement already satisfied: networkx in c:\\users\\user\\appdata\\local\\packages\\pythonsoftwarefoundation.python.3.11_qbz5n2kfra8p0\\localcache\\local-packages\\python311\\site-packages (from torch>=1.8.0->spacy-transformers) (3.3)\n",
      "Requirement already satisfied: fsspec in c:\\users\\user\\appdata\\local\\packages\\pythonsoftwarefoundation.python.3.11_qbz5n2kfra8p0\\localcache\\local-packages\\python311\\site-packages (from torch>=1.8.0->spacy-transformers) (2024.3.1)\n",
      "Requirement already satisfied: mkl<=2021.4.0,>=2021.1.1 in c:\\users\\user\\appdata\\local\\packages\\pythonsoftwarefoundation.python.3.11_qbz5n2kfra8p0\\localcache\\local-packages\\python311\\site-packages (from torch>=1.8.0->spacy-transformers) (2021.4.0)\n",
      "Requirement already satisfied: huggingface-hub<1.0,>=0.19.3 in c:\\users\\user\\appdata\\local\\packages\\pythonsoftwarefoundation.python.3.11_qbz5n2kfra8p0\\localcache\\local-packages\\python311\\site-packages (from transformers<4.37.0,>=3.4.0->spacy-transformers) (0.23.1)\n",
      "Requirement already satisfied: pyyaml>=5.1 in c:\\users\\user\\appdata\\local\\packages\\pythonsoftwarefoundation.python.3.11_qbz5n2kfra8p0\\localcache\\local-packages\\python311\\site-packages (from transformers<4.37.0,>=3.4.0->spacy-transformers) (6.0.1)\n",
      "Requirement already satisfied: regex!=2019.12.17 in c:\\users\\user\\appdata\\local\\packages\\pythonsoftwarefoundation.python.3.11_qbz5n2kfra8p0\\localcache\\local-packages\\python311\\site-packages (from transformers<4.37.0,>=3.4.0->spacy-transformers) (2023.12.25)\n",
      "Collecting tokenizers<0.19,>=0.14 (from transformers<4.37.0,>=3.4.0->spacy-transformers)\n",
      "  Downloading tokenizers-0.15.2-cp311-none-win_amd64.whl.metadata (6.8 kB)\n",
      "Collecting safetensors>=0.3.1 (from transformers<4.37.0,>=3.4.0->spacy-transformers)\n",
      "  Downloading safetensors-0.4.3-cp311-none-win_amd64.whl.metadata (3.9 kB)\n",
      "Requirement already satisfied: intel-openmp==2021.* in c:\\users\\user\\appdata\\local\\packages\\pythonsoftwarefoundation.python.3.11_qbz5n2kfra8p0\\localcache\\local-packages\\python311\\site-packages (from mkl<=2021.4.0,>=2021.1.1->torch>=1.8.0->spacy-transformers) (2021.4.0)\n",
      "Requirement already satisfied: tbb==2021.* in c:\\users\\user\\appdata\\local\\packages\\pythonsoftwarefoundation.python.3.11_qbz5n2kfra8p0\\localcache\\local-packages\\python311\\site-packages (from mkl<=2021.4.0,>=2021.1.1->torch>=1.8.0->spacy-transformers) (2021.12.0)\n",
      "Requirement already satisfied: annotated-types>=0.4.0 in c:\\users\\user\\appdata\\local\\packages\\pythonsoftwarefoundation.python.3.11_qbz5n2kfra8p0\\localcache\\local-packages\\python311\\site-packages (from pydantic!=1.8,!=1.8.1,<3.0.0,>=1.7.4->spacy<4.1.0,>=3.5.0->spacy-transformers) (0.6.0)\n",
      "Requirement already satisfied: pydantic-core==2.16.2 in c:\\users\\user\\appdata\\local\\packages\\pythonsoftwarefoundation.python.3.11_qbz5n2kfra8p0\\localcache\\local-packages\\python311\\site-packages (from pydantic!=1.8,!=1.8.1,<3.0.0,>=1.7.4->spacy<4.1.0,>=3.5.0->spacy-transformers) (2.16.2)\n",
      "Requirement already satisfied: charset-normalizer<4,>=2 in c:\\users\\user\\appdata\\local\\packages\\pythonsoftwarefoundation.python.3.11_qbz5n2kfra8p0\\localcache\\local-packages\\python311\\site-packages (from requests<3.0.0,>=2.13.0->spacy<4.1.0,>=3.5.0->spacy-transformers) (3.3.2)\n",
      "Requirement already satisfied: idna<4,>=2.5 in c:\\users\\user\\appdata\\local\\packages\\pythonsoftwarefoundation.python.3.11_qbz5n2kfra8p0\\localcache\\local-packages\\python311\\site-packages (from requests<3.0.0,>=2.13.0->spacy<4.1.0,>=3.5.0->spacy-transformers) (3.6)\n",
      "Requirement already satisfied: urllib3<3,>=1.21.1 in c:\\users\\user\\appdata\\local\\packages\\pythonsoftwarefoundation.python.3.11_qbz5n2kfra8p0\\localcache\\local-packages\\python311\\site-packages (from requests<3.0.0,>=2.13.0->spacy<4.1.0,>=3.5.0->spacy-transformers) (2.2.1)\n",
      "Requirement already satisfied: certifi>=2017.4.17 in c:\\users\\user\\appdata\\local\\packages\\pythonsoftwarefoundation.python.3.11_qbz5n2kfra8p0\\localcache\\local-packages\\python311\\site-packages (from requests<3.0.0,>=2.13.0->spacy<4.1.0,>=3.5.0->spacy-transformers) (2024.2.2)\n",
      "Requirement already satisfied: blis<0.8.0,>=0.7.8 in c:\\users\\user\\appdata\\local\\packages\\pythonsoftwarefoundation.python.3.11_qbz5n2kfra8p0\\localcache\\local-packages\\python311\\site-packages (from thinc<8.3.0,>=8.2.2->spacy<4.1.0,>=3.5.0->spacy-transformers) (0.7.11)\n",
      "Requirement already satisfied: confection<1.0.0,>=0.0.1 in c:\\users\\user\\appdata\\local\\packages\\pythonsoftwarefoundation.python.3.11_qbz5n2kfra8p0\\localcache\\local-packages\\python311\\site-packages (from thinc<8.3.0,>=8.2.2->spacy<4.1.0,>=3.5.0->spacy-transformers) (0.1.4)\n",
      "Requirement already satisfied: colorama in c:\\users\\user\\appdata\\local\\packages\\pythonsoftwarefoundation.python.3.11_qbz5n2kfra8p0\\localcache\\local-packages\\python311\\site-packages (from tqdm<5.0.0,>=4.38.0->spacy<4.1.0,>=3.5.0->spacy-transformers) (0.4.6)\n",
      "Requirement already satisfied: click<9.0.0,>=7.1.1 in c:\\users\\user\\appdata\\local\\packages\\pythonsoftwarefoundation.python.3.11_qbz5n2kfra8p0\\localcache\\local-packages\\python311\\site-packages (from typer<0.10.0,>=0.3.0->spacy<4.1.0,>=3.5.0->spacy-transformers) (8.1.7)\n",
      "Requirement already satisfied: cloudpathlib<0.17.0,>=0.7.0 in c:\\users\\user\\appdata\\local\\packages\\pythonsoftwarefoundation.python.3.11_qbz5n2kfra8p0\\localcache\\local-packages\\python311\\site-packages (from weasel<0.4.0,>=0.1.0->spacy<4.1.0,>=3.5.0->spacy-transformers) (0.16.0)\n",
      "Requirement already satisfied: MarkupSafe>=2.0 in c:\\users\\user\\appdata\\local\\packages\\pythonsoftwarefoundation.python.3.11_qbz5n2kfra8p0\\localcache\\local-packages\\python311\\site-packages (from jinja2->spacy<4.1.0,>=3.5.0->spacy-transformers) (2.1.5)\n",
      "Requirement already satisfied: mpmath>=0.19 in c:\\users\\user\\appdata\\local\\packages\\pythonsoftwarefoundation.python.3.11_qbz5n2kfra8p0\\localcache\\local-packages\\python311\\site-packages (from sympy->torch>=1.8.0->spacy-transformers) (1.3.0)\n",
      "Downloading spacy_transformers-1.3.5-cp311-cp311-win_amd64.whl (343 kB)\n",
      "   ---------------------------------------- 0.0/343.6 kB ? eta -:--:--\n",
      "   ---------- ----------------------------- 92.2/343.6 kB 2.6 MB/s eta 0:00:01\n",
      "   ------------- -------------------------- 112.6/343.6 kB 2.2 MB/s eta 0:00:01\n",
      "   ------------- -------------------------- 112.6/343.6 kB 2.2 MB/s eta 0:00:01\n",
      "   ----------------------- ---------------- 204.8/343.6 kB 1.2 MB/s eta 0:00:01\n",
      "   ----------------------------------- ---- 307.2/343.6 kB 1.2 MB/s eta 0:00:01\n",
      "   ---------------------------------------  337.9/343.6 kB 1.2 MB/s eta 0:00:01\n",
      "   -------------------------------------- 343.6/343.6 kB 969.1 kB/s eta 0:00:00\n",
      "Downloading spacy_alignments-0.9.1-cp311-cp311-win_amd64.whl (187 kB)\n",
      "   ---------------------------------------- 0.0/187.7 kB ? eta -:--:--\n",
      "   ------------- -------------------------- 61.4/187.7 kB 1.6 MB/s eta 0:00:01\n",
      "   -------------------------- ------------- 122.9/187.7 kB 1.2 MB/s eta 0:00:01\n",
      "   ---------------------------------------  184.3/187.7 kB 1.1 MB/s eta 0:00:01\n",
      "   -------------------------------------- 187.7/187.7 kB 755.2 kB/s eta 0:00:00\n",
      "Downloading transformers-4.36.2-py3-none-any.whl (8.2 MB)\n",
      "   ---------------------------------------- 0.0/8.2 MB ? eta -:--:--\n",
      "   ---------------------------------------- 0.1/8.2 MB 1.1 MB/s eta 0:00:08\n",
      "    --------------------------------------- 0.1/8.2 MB 1.1 MB/s eta 0:00:08\n",
      "    --------------------------------------- 0.2/8.2 MB 980.4 kB/s eta 0:00:09\n",
      "   - -------------------------------------- 0.2/8.2 MB 1.0 MB/s eta 0:00:08\n",
      "   - -------------------------------------- 0.3/8.2 MB 983.9 kB/s eta 0:00:09\n",
      "   - -------------------------------------- 0.4/8.2 MB 1.0 MB/s eta 0:00:08\n",
      "   - -------------------------------------- 0.4/8.2 MB 983.6 kB/s eta 0:00:08\n",
      "   -- ------------------------------------- 0.5/8.2 MB 982.5 kB/s eta 0:00:08\n",
      "   -- ------------------------------------- 0.5/8.2 MB 983.5 kB/s eta 0:00:08\n",
      "   -- ------------------------------------- 0.6/8.2 MB 973.6 kB/s eta 0:00:08\n",
      "   --- ------------------------------------ 0.7/8.2 MB 952.6 kB/s eta 0:00:08\n",
      "   --- ------------------------------------ 0.7/8.2 MB 940.0 kB/s eta 0:00:09\n",
      "   --- ------------------------------------ 0.7/8.2 MB 944.0 kB/s eta 0:00:08\n",
      "   --- ------------------------------------ 0.8/8.2 MB 940.7 kB/s eta 0:00:08\n",
      "   ---- ----------------------------------- 0.8/8.2 MB 942.4 kB/s eta 0:00:08\n",
      "   ---- ----------------------------------- 0.9/8.2 MB 951.1 kB/s eta 0:00:08\n",
      "   ---- ----------------------------------- 1.0/8.2 MB 943.5 kB/s eta 0:00:08\n",
      "   ----- ---------------------------------- 1.0/8.2 MB 945.4 kB/s eta 0:00:08\n",
      "   ----- ---------------------------------- 1.1/8.2 MB 951.3 kB/s eta 0:00:08\n",
      "   ----- ---------------------------------- 1.2/8.2 MB 945.2 kB/s eta 0:00:08\n",
      "   ------ --------------------------------- 1.2/8.2 MB 947.4 kB/s eta 0:00:08\n",
      "   ------ --------------------------------- 1.3/8.2 MB 952.4 kB/s eta 0:00:08\n",
      "   ------ --------------------------------- 1.4/8.2 MB 950.5 kB/s eta 0:00:08\n",
      "   ------ --------------------------------- 1.4/8.2 MB 935.3 kB/s eta 0:00:08\n",
      "   ------- -------------------------------- 1.5/8.2 MB 946.6 kB/s eta 0:00:08\n",
      "   ------- -------------------------------- 1.5/8.2 MB 947.7 kB/s eta 0:00:08\n",
      "   ------- -------------------------------- 1.6/8.2 MB 952.3 kB/s eta 0:00:07\n",
      "   -------- ------------------------------- 1.7/8.2 MB 947.9 kB/s eta 0:00:07\n",
      "   -------- ------------------------------- 1.7/8.2 MB 948.9 kB/s eta 0:00:07\n",
      "   -------- ------------------------------- 1.8/8.2 MB 955.7 kB/s eta 0:00:07\n",
      "   --------- ------------------------------ 1.9/8.2 MB 951.1 kB/s eta 0:00:07\n",
      "   --------- ------------------------------ 1.9/8.2 MB 951.7 kB/s eta 0:00:07\n",
      "   --------- ------------------------------ 2.0/8.2 MB 953.0 kB/s eta 0:00:07\n",
      "   --------- ------------------------------ 2.0/8.2 MB 949.3 kB/s eta 0:00:07\n",
      "   ---------- ----------------------------- 2.1/8.2 MB 952.3 kB/s eta 0:00:07\n",
      "   ---------- ----------------------------- 2.1/8.2 MB 953.0 kB/s eta 0:00:07\n",
      "   ---------- ----------------------------- 2.2/8.2 MB 950.1 kB/s eta 0:00:07\n",
      "   ----------- ---------------------------- 2.3/8.2 MB 953.3 kB/s eta 0:00:07\n",
      "   ----------- ---------------------------- 2.4/8.2 MB 949.8 kB/s eta 0:00:07\n",
      "   ----------- ---------------------------- 2.4/8.2 MB 952.8 kB/s eta 0:00:07\n",
      "   ------------ --------------------------- 2.5/8.2 MB 951.8 kB/s eta 0:00:06\n",
      "   ------------ --------------------------- 2.5/8.2 MB 950.4 kB/s eta 0:00:06\n",
      "   ------------ --------------------------- 2.6/8.2 MB 954.7 kB/s eta 0:00:06\n",
      "   ------------- -------------------------- 2.7/8.2 MB 955.5 kB/s eta 0:00:06\n",
      "   ------------- -------------------------- 2.8/8.2 MB 954.5 kB/s eta 0:00:06\n",
      "   ------------- -------------------------- 2.8/8.2 MB 957.1 kB/s eta 0:00:06\n",
      "   -------------- ------------------------- 2.9/8.2 MB 952.7 kB/s eta 0:00:06\n",
      "   -------------- ------------------------- 3.0/8.2 MB 953.2 kB/s eta 0:00:06\n",
      "   -------------- ------------------------- 3.0/8.2 MB 957.2 kB/s eta 0:00:06\n",
      "   --------------- ------------------------ 3.1/8.2 MB 952.8 kB/s eta 0:00:06\n",
      "   --------------- ------------------------ 3.2/8.2 MB 956.6 kB/s eta 0:00:06\n",
      "   --------------- ------------------------ 3.2/8.2 MB 952.7 kB/s eta 0:00:06\n",
      "   --------------- ------------------------ 3.3/8.2 MB 953.0 kB/s eta 0:00:06\n",
      "   ---------------- ----------------------- 3.4/8.2 MB 956.7 kB/s eta 0:00:06\n",
      "   ---------------- ----------------------- 3.4/8.2 MB 954.5 kB/s eta 0:00:06\n",
      "   ---------------- ----------------------- 3.5/8.2 MB 953.4 kB/s eta 0:00:05\n",
      "   ----------------- ---------------------- 3.6/8.2 MB 956.8 kB/s eta 0:00:05\n",
      "   ----------------- ---------------------- 3.6/8.2 MB 953.3 kB/s eta 0:00:05\n",
      "   ----------------- ---------------------- 3.7/8.2 MB 956.3 kB/s eta 0:00:05\n",
      "   ------------------ --------------------- 3.7/8.2 MB 956.9 kB/s eta 0:00:05\n",
      "   ------------------ --------------------- 3.8/8.2 MB 953.3 kB/s eta 0:00:05\n",
      "   ------------------ --------------------- 3.9/8.2 MB 955.2 kB/s eta 0:00:05\n",
      "   ------------------- -------------------- 3.9/8.2 MB 953.2 kB/s eta 0:00:05\n",
      "   ------------------- -------------------- 4.0/8.2 MB 952.3 kB/s eta 0:00:05\n",
      "   ------------------- -------------------- 4.0/8.2 MB 956.3 kB/s eta 0:00:05\n",
      "   ------------------- -------------------- 4.1/8.2 MB 956.8 kB/s eta 0:00:05\n",
      "   -------------------- ------------------- 4.2/8.2 MB 955.9 kB/s eta 0:00:05\n",
      "   -------------------- ------------------- 4.2/8.2 MB 956.4 kB/s eta 0:00:05\n",
      "   -------------------- ------------------- 4.3/8.2 MB 957.8 kB/s eta 0:00:05\n",
      "   --------------------- ------------------ 4.4/8.2 MB 955.1 kB/s eta 0:00:05\n",
      "   --------------------- ------------------ 4.5/8.2 MB 957.6 kB/s eta 0:00:04\n",
      "   --------------------- ------------------ 4.5/8.2 MB 954.8 kB/s eta 0:00:04\n",
      "   ---------------------- ----------------- 4.6/8.2 MB 956.1 kB/s eta 0:00:04\n",
      "   ---------------------- ----------------- 4.7/8.2 MB 958.7 kB/s eta 0:00:04\n",
      "   ----------------------- ---------------- 4.7/8.2 MB 956.0 kB/s eta 0:00:04\n",
      "   ----------------------- ---------------- 4.8/8.2 MB 956.4 kB/s eta 0:00:04\n",
      "   ----------------------- ---------------- 4.9/8.2 MB 955.8 kB/s eta 0:00:04\n",
      "   ------------------------ --------------- 4.9/8.2 MB 957.3 kB/s eta 0:00:04\n",
      "   ------------------------ --------------- 5.0/8.2 MB 957.5 kB/s eta 0:00:04\n",
      "   ------------------------ --------------- 5.1/8.2 MB 956.0 kB/s eta 0:00:04\n",
      "   ------------------------- -------------- 5.2/8.2 MB 957.3 kB/s eta 0:00:04\n",
      "   ------------------------- -------------- 5.2/8.2 MB 956.8 kB/s eta 0:00:04\n",
      "   ------------------------- -------------- 5.3/8.2 MB 957.2 kB/s eta 0:00:04\n",
      "   -------------------------- ------------- 5.4/8.2 MB 958.3 kB/s eta 0:00:03\n",
      "   -------------------------- ------------- 5.4/8.2 MB 955.9 kB/s eta 0:00:03\n",
      "   -------------------------- ------------- 5.5/8.2 MB 957.9 kB/s eta 0:00:03\n",
      "   --------------------------- ------------ 5.6/8.2 MB 956.5 kB/s eta 0:00:03\n",
      "   --------------------------- ------------ 5.6/8.2 MB 955.8 kB/s eta 0:00:03\n",
      "   --------------------------- ------------ 5.7/8.2 MB 957.9 kB/s eta 0:00:03\n",
      "   --------------------------- ------------ 5.7/8.2 MB 955.7 kB/s eta 0:00:03\n",
      "   ---------------------------- ----------- 5.8/8.2 MB 957.6 kB/s eta 0:00:03\n",
      "   ---------------------------- ----------- 5.9/8.2 MB 957.0 kB/s eta 0:00:03\n",
      "   ---------------------------- ----------- 5.9/8.2 MB 956.5 kB/s eta 0:00:03\n",
      "   ----------------------------- ---------- 6.0/8.2 MB 957.6 kB/s eta 0:00:03\n",
      "   ----------------------------- ---------- 6.1/8.2 MB 958.0 kB/s eta 0:00:03\n",
      "   ----------------------------- ---------- 6.1/8.2 MB 956.5 kB/s eta 0:00:03\n",
      "   ------------------------------ --------- 6.2/8.2 MB 957.7 kB/s eta 0:00:03\n",
      "   ------------------------------ --------- 6.3/8.2 MB 958.6 kB/s eta 0:00:03\n",
      "   ------------------------------ --------- 6.3/8.2 MB 956.6 kB/s eta 0:00:02\n",
      "   ------------------------------- -------- 6.4/8.2 MB 957.7 kB/s eta 0:00:02\n",
      "   ------------------------------- -------- 6.5/8.2 MB 957.2 kB/s eta 0:00:02\n",
      "   ------------------------------- -------- 6.5/8.2 MB 957.4 kB/s eta 0:00:02\n",
      "   -------------------------------- ------- 6.6/8.2 MB 958.3 kB/s eta 0:00:02\n",
      "   -------------------------------- ------- 6.6/8.2 MB 956.4 kB/s eta 0:00:02\n",
      "   -------------------------------- ------- 6.7/8.2 MB 956.7 kB/s eta 0:00:02\n",
      "   -------------------------------- ------- 6.7/8.2 MB 958.3 kB/s eta 0:00:02\n",
      "   --------------------------------- ------ 6.8/8.2 MB 957.2 kB/s eta 0:00:02\n",
      "   --------------------------------- ------ 6.9/8.2 MB 957.3 kB/s eta 0:00:02\n",
      "   --------------------------------- ------ 6.9/8.2 MB 958.2 kB/s eta 0:00:02\n",
      "   ---------------------------------- ----- 7.0/8.2 MB 957.1 kB/s eta 0:00:02\n",
      "   ---------------------------------- ----- 7.1/8.2 MB 958.0 kB/s eta 0:00:02\n",
      "   ---------------------------------- ----- 7.1/8.2 MB 958.2 kB/s eta 0:00:02\n",
      "   ---------------------------------- ----- 7.2/8.2 MB 957.1 kB/s eta 0:00:02\n",
      "   ----------------------------------- ---- 7.2/8.2 MB 957.2 kB/s eta 0:00:02\n",
      "   ----------------------------------- ---- 7.3/8.2 MB 956.9 kB/s eta 0:00:01\n",
      "   ----------------------------------- ---- 7.4/8.2 MB 957.7 kB/s eta 0:00:01\n",
      "   ------------------------------------ --- 7.4/8.2 MB 957.9 kB/s eta 0:00:01\n",
      "   ------------------------------------ --- 7.5/8.2 MB 957.6 kB/s eta 0:00:01\n",
      "   ------------------------------------ --- 7.6/8.2 MB 957.8 kB/s eta 0:00:01\n",
      "   ------------------------------------- -- 7.7/8.2 MB 958.0 kB/s eta 0:00:01\n",
      "   ------------------------------------- -- 7.7/8.2 MB 956.9 kB/s eta 0:00:01\n",
      "   ------------------------------------- -- 7.8/8.2 MB 958.3 kB/s eta 0:00:01\n",
      "   -------------------------------------- - 7.8/8.2 MB 958.0 kB/s eta 0:00:01\n",
      "   -------------------------------------- - 7.9/8.2 MB 957.5 kB/s eta 0:00:01\n",
      "   -------------------------------------- - 8.0/8.2 MB 958.3 kB/s eta 0:00:01\n",
      "   ---------------------------------------  8.0/8.2 MB 956.8 kB/s eta 0:00:01\n",
      "   ---------------------------------------  8.1/8.2 MB 958.2 kB/s eta 0:00:01\n",
      "   ---------------------------------------  8.2/8.2 MB 958.3 kB/s eta 0:00:01\n",
      "   ---------------------------------------  8.2/8.2 MB 956.2 kB/s eta 0:00:01\n",
      "   ---------------------------------------  8.2/8.2 MB 956.2 kB/s eta 0:00:01\n",
      "   ---------------------------------------- 8.2/8.2 MB 944.8 kB/s eta 0:00:00\n",
      "Downloading safetensors-0.4.3-cp311-none-win_amd64.whl (287 kB)\n",
      "   ---------------------------------------- 0.0/287.3 kB ? eta -:--:--\n",
      "   -------- ------------------------------- 61.4/287.3 kB 3.2 MB/s eta 0:00:01\n",
      "   --------------- ------------------------ 112.6/287.3 kB 1.3 MB/s eta 0:00:01\n",
      "   --------------------------- ------------ 194.6/287.3 kB 1.2 MB/s eta 0:00:01\n",
      "   ------------------------------- -------- 225.3/287.3 kB 1.1 MB/s eta 0:00:01\n",
      "   ---------------------------------------  286.7/287.3 kB 1.1 MB/s eta 0:00:01\n",
      "   -------------------------------------- 287.3/287.3 kB 885.2 kB/s eta 0:00:00\n",
      "Downloading tokenizers-0.15.2-cp311-none-win_amd64.whl (2.2 MB)\n",
      "   ---------------------------------------- 0.0/2.2 MB ? eta -:--:--\n",
      "   - -------------------------------------- 0.1/2.2 MB 3.4 MB/s eta 0:00:01\n",
      "   -- ------------------------------------- 0.1/2.2 MB 1.2 MB/s eta 0:00:02\n",
      "   --- ------------------------------------ 0.2/2.2 MB 1.2 MB/s eta 0:00:02\n",
      "   ---- ----------------------------------- 0.3/2.2 MB 1.1 MB/s eta 0:00:02\n",
      "   ----- ---------------------------------- 0.3/2.2 MB 1.1 MB/s eta 0:00:02\n",
      "   ------ --------------------------------- 0.4/2.2 MB 1.0 MB/s eta 0:00:02\n",
      "   -------- ------------------------------- 0.4/2.2 MB 1.0 MB/s eta 0:00:02\n",
      "   --------- ------------------------------ 0.5/2.2 MB 1.0 MB/s eta 0:00:02\n",
      "   ---------- ----------------------------- 0.6/2.2 MB 992.2 kB/s eta 0:00:02\n",
      "   ----------- ---------------------------- 0.6/2.2 MB 999.4 kB/s eta 0:00:02\n",
      "   ------------ --------------------------- 0.7/2.2 MB 1.0 MB/s eta 0:00:02\n",
      "   ------------- -------------------------- 0.7/2.2 MB 990.5 kB/s eta 0:00:02\n",
      "   -------------- ------------------------- 0.8/2.2 MB 989.3 kB/s eta 0:00:02\n",
      "   --------------- ------------------------ 0.8/2.2 MB 996.1 kB/s eta 0:00:02\n",
      "   ---------------- ----------------------- 0.9/2.2 MB 977.4 kB/s eta 0:00:02\n",
      "   ----------------- ---------------------- 1.0/2.2 MB 983.8 kB/s eta 0:00:02\n",
      "   ------------------- -------------------- 1.0/2.2 MB 973.9 kB/s eta 0:00:02\n",
      "   -------------------- ------------------- 1.1/2.2 MB 973.9 kB/s eta 0:00:02\n",
      "   --------------------- ------------------ 1.2/2.2 MB 978.6 kB/s eta 0:00:02\n",
      "   ---------------------- ----------------- 1.2/2.2 MB 987.5 kB/s eta 0:00:01\n",
      "   ---------------------- ----------------- 1.3/2.2 MB 975.2 kB/s eta 0:00:01\n",
      "   ------------------------ --------------- 1.4/2.2 MB 975.6 kB/s eta 0:00:01\n",
      "   ------------------------- -------------- 1.4/2.2 MB 979.4 kB/s eta 0:00:01\n",
      "   -------------------------- ------------- 1.5/2.2 MB 976.2 kB/s eta 0:00:01\n",
      "   --------------------------- ------------ 1.5/2.2 MB 973.0 kB/s eta 0:00:01\n",
      "   ---------------------------- ----------- 1.6/2.2 MB 980.1 kB/s eta 0:00:01\n",
      "   ------------------------------ --------- 1.6/2.2 MB 971.2 kB/s eta 0:00:01\n",
      "   ------------------------------- -------- 1.7/2.2 MB 974.4 kB/s eta 0:00:01\n",
      "   -------------------------------- ------- 1.8/2.2 MB 969.1 kB/s eta 0:00:01\n",
      "   --------------------------------- ------ 1.8/2.2 MB 972.1 kB/s eta 0:00:01\n",
      "   ---------------------------------- ----- 1.9/2.2 MB 975.2 kB/s eta 0:00:01\n",
      "   ----------------------------------- ---- 2.0/2.2 MB 970.6 kB/s eta 0:00:01\n",
      "   ------------------------------------ --- 2.0/2.2 MB 970.8 kB/s eta 0:00:01\n",
      "   -------------------------------------- - 2.1/2.2 MB 964.2 kB/s eta 0:00:01\n",
      "   ---------------------------------------  2.2/2.2 MB 969.5 kB/s eta 0:00:01\n",
      "   ---------------------------------------  2.2/2.2 MB 969.4 kB/s eta 0:00:01\n",
      "   ---------------------------------------- 2.2/2.2 MB 944.0 kB/s eta 0:00:00\n",
      "Installing collected packages: spacy-alignments, safetensors, tokenizers, transformers, spacy-transformers\n",
      "Successfully installed safetensors-0.4.3 spacy-alignments-0.9.1 spacy-transformers-1.3.5 tokenizers-0.15.2 transformers-4.36.2\n",
      "Note: you may need to restart the kernel to use updated packages.\n"
     ]
    },
    {
     "name": "stderr",
     "output_type": "stream",
     "text": [
      "\n",
      "[notice] A new release of pip is available: 23.3.2 -> 24.0\n",
      "[notice] To update, run: C:\\Users\\USER\\AppData\\Local\\Microsoft\\WindowsApps\\PythonSoftwareFoundation.Python.3.11_qbz5n2kfra8p0\\python.exe -m pip install --upgrade pip\n"
     ]
    }
   ],
   "source": [
    "%pip install spacy-transformers\n"
   ]
  },
  {
   "cell_type": "code",
   "execution_count": 159,
   "metadata": {},
   "outputs": [
    {
     "name": "stdout",
     "output_type": "stream",
     "text": [
      "Requirement already satisfied: spacy in c:\\users\\user\\appdata\\local\\packages\\pythonsoftwarefoundation.python.3.11_qbz5n2kfra8p0\\localcache\\local-packages\\python311\\site-packages (3.7.4)\n",
      "Requirement already satisfied: spacy-transformers in c:\\users\\user\\appdata\\local\\packages\\pythonsoftwarefoundation.python.3.11_qbz5n2kfra8p0\\localcache\\local-packages\\python311\\site-packages (1.3.5)\n",
      "Requirement already satisfied: spacy-legacy<3.1.0,>=3.0.11 in c:\\users\\user\\appdata\\local\\packages\\pythonsoftwarefoundation.python.3.11_qbz5n2kfra8p0\\localcache\\local-packages\\python311\\site-packages (from spacy) (3.0.12)\n",
      "Requirement already satisfied: spacy-loggers<2.0.0,>=1.0.0 in c:\\users\\user\\appdata\\local\\packages\\pythonsoftwarefoundation.python.3.11_qbz5n2kfra8p0\\localcache\\local-packages\\python311\\site-packages (from spacy) (1.0.5)\n",
      "Requirement already satisfied: murmurhash<1.1.0,>=0.28.0 in c:\\users\\user\\appdata\\local\\packages\\pythonsoftwarefoundation.python.3.11_qbz5n2kfra8p0\\localcache\\local-packages\\python311\\site-packages (from spacy) (1.0.10)\n",
      "Requirement already satisfied: cymem<2.1.0,>=2.0.2 in c:\\users\\user\\appdata\\local\\packages\\pythonsoftwarefoundation.python.3.11_qbz5n2kfra8p0\\localcache\\local-packages\\python311\\site-packages (from spacy) (2.0.8)\n",
      "Requirement already satisfied: preshed<3.1.0,>=3.0.2 in c:\\users\\user\\appdata\\local\\packages\\pythonsoftwarefoundation.python.3.11_qbz5n2kfra8p0\\localcache\\local-packages\\python311\\site-packages (from spacy) (3.0.9)\n",
      "Requirement already satisfied: thinc<8.3.0,>=8.2.2 in c:\\users\\user\\appdata\\local\\packages\\pythonsoftwarefoundation.python.3.11_qbz5n2kfra8p0\\localcache\\local-packages\\python311\\site-packages (from spacy) (8.2.3)\n",
      "Requirement already satisfied: wasabi<1.2.0,>=0.9.1 in c:\\users\\user\\appdata\\local\\packages\\pythonsoftwarefoundation.python.3.11_qbz5n2kfra8p0\\localcache\\local-packages\\python311\\site-packages (from spacy) (1.1.2)\n",
      "Requirement already satisfied: srsly<3.0.0,>=2.4.3 in c:\\users\\user\\appdata\\local\\packages\\pythonsoftwarefoundation.python.3.11_qbz5n2kfra8p0\\localcache\\local-packages\\python311\\site-packages (from spacy) (2.4.8)\n",
      "Requirement already satisfied: catalogue<2.1.0,>=2.0.6 in c:\\users\\user\\appdata\\local\\packages\\pythonsoftwarefoundation.python.3.11_qbz5n2kfra8p0\\localcache\\local-packages\\python311\\site-packages (from spacy) (2.0.10)\n",
      "Requirement already satisfied: weasel<0.4.0,>=0.1.0 in c:\\users\\user\\appdata\\local\\packages\\pythonsoftwarefoundation.python.3.11_qbz5n2kfra8p0\\localcache\\local-packages\\python311\\site-packages (from spacy) (0.3.4)\n",
      "Requirement already satisfied: typer<0.10.0,>=0.3.0 in c:\\users\\user\\appdata\\local\\packages\\pythonsoftwarefoundation.python.3.11_qbz5n2kfra8p0\\localcache\\local-packages\\python311\\site-packages (from spacy) (0.9.0)\n",
      "Requirement already satisfied: smart-open<7.0.0,>=5.2.1 in c:\\users\\user\\appdata\\local\\packages\\pythonsoftwarefoundation.python.3.11_qbz5n2kfra8p0\\localcache\\local-packages\\python311\\site-packages (from spacy) (6.4.0)\n",
      "Requirement already satisfied: tqdm<5.0.0,>=4.38.0 in c:\\users\\user\\appdata\\local\\packages\\pythonsoftwarefoundation.python.3.11_qbz5n2kfra8p0\\localcache\\local-packages\\python311\\site-packages (from spacy) (4.66.1)\n",
      "Requirement already satisfied: requests<3.0.0,>=2.13.0 in c:\\users\\user\\appdata\\local\\packages\\pythonsoftwarefoundation.python.3.11_qbz5n2kfra8p0\\localcache\\local-packages\\python311\\site-packages (from spacy) (2.31.0)\n",
      "Requirement already satisfied: pydantic!=1.8,!=1.8.1,<3.0.0,>=1.7.4 in c:\\users\\user\\appdata\\local\\packages\\pythonsoftwarefoundation.python.3.11_qbz5n2kfra8p0\\localcache\\local-packages\\python311\\site-packages (from spacy) (2.6.1)\n",
      "Requirement already satisfied: jinja2 in c:\\users\\user\\appdata\\local\\packages\\pythonsoftwarefoundation.python.3.11_qbz5n2kfra8p0\\localcache\\local-packages\\python311\\site-packages (from spacy) (3.1.3)\n",
      "Requirement already satisfied: setuptools in c:\\program files\\windowsapps\\pythonsoftwarefoundation.python.3.11_3.11.2544.0_x64__qbz5n2kfra8p0\\lib\\site-packages (from spacy) (65.5.0)\n",
      "Requirement already satisfied: packaging>=20.0 in c:\\users\\user\\appdata\\local\\packages\\pythonsoftwarefoundation.python.3.11_qbz5n2kfra8p0\\localcache\\local-packages\\python311\\site-packages (from spacy) (23.2)\n",
      "Requirement already satisfied: langcodes<4.0.0,>=3.2.0 in c:\\users\\user\\appdata\\local\\packages\\pythonsoftwarefoundation.python.3.11_qbz5n2kfra8p0\\localcache\\local-packages\\python311\\site-packages (from spacy) (3.3.0)\n",
      "Requirement already satisfied: numpy>=1.19.0 in c:\\users\\user\\appdata\\local\\packages\\pythonsoftwarefoundation.python.3.11_qbz5n2kfra8p0\\localcache\\local-packages\\python311\\site-packages (from spacy) (1.26.4)\n",
      "Requirement already satisfied: transformers<4.37.0,>=3.4.0 in c:\\users\\user\\appdata\\local\\packages\\pythonsoftwarefoundation.python.3.11_qbz5n2kfra8p0\\localcache\\local-packages\\python311\\site-packages (from spacy-transformers) (4.36.2)\n",
      "Requirement already satisfied: torch>=1.8.0 in c:\\users\\user\\appdata\\local\\packages\\pythonsoftwarefoundation.python.3.11_qbz5n2kfra8p0\\localcache\\local-packages\\python311\\site-packages (from spacy-transformers) (2.3.0)\n",
      "Requirement already satisfied: spacy-alignments<1.0.0,>=0.7.2 in c:\\users\\user\\appdata\\local\\packages\\pythonsoftwarefoundation.python.3.11_qbz5n2kfra8p0\\localcache\\local-packages\\python311\\site-packages (from spacy-transformers) (0.9.1)\n",
      "Requirement already satisfied: annotated-types>=0.4.0 in c:\\users\\user\\appdata\\local\\packages\\pythonsoftwarefoundation.python.3.11_qbz5n2kfra8p0\\localcache\\local-packages\\python311\\site-packages (from pydantic!=1.8,!=1.8.1,<3.0.0,>=1.7.4->spacy) (0.6.0)\n",
      "Requirement already satisfied: pydantic-core==2.16.2 in c:\\users\\user\\appdata\\local\\packages\\pythonsoftwarefoundation.python.3.11_qbz5n2kfra8p0\\localcache\\local-packages\\python311\\site-packages (from pydantic!=1.8,!=1.8.1,<3.0.0,>=1.7.4->spacy) (2.16.2)\n",
      "Requirement already satisfied: typing-extensions>=4.6.1 in c:\\users\\user\\appdata\\local\\packages\\pythonsoftwarefoundation.python.3.11_qbz5n2kfra8p0\\localcache\\local-packages\\python311\\site-packages (from pydantic!=1.8,!=1.8.1,<3.0.0,>=1.7.4->spacy) (4.9.0)\n",
      "Requirement already satisfied: charset-normalizer<4,>=2 in c:\\users\\user\\appdata\\local\\packages\\pythonsoftwarefoundation.python.3.11_qbz5n2kfra8p0\\localcache\\local-packages\\python311\\site-packages (from requests<3.0.0,>=2.13.0->spacy) (3.3.2)\n",
      "Requirement already satisfied: idna<4,>=2.5 in c:\\users\\user\\appdata\\local\\packages\\pythonsoftwarefoundation.python.3.11_qbz5n2kfra8p0\\localcache\\local-packages\\python311\\site-packages (from requests<3.0.0,>=2.13.0->spacy) (3.6)\n",
      "Requirement already satisfied: urllib3<3,>=1.21.1 in c:\\users\\user\\appdata\\local\\packages\\pythonsoftwarefoundation.python.3.11_qbz5n2kfra8p0\\localcache\\local-packages\\python311\\site-packages (from requests<3.0.0,>=2.13.0->spacy) (2.2.1)\n",
      "Requirement already satisfied: certifi>=2017.4.17 in c:\\users\\user\\appdata\\local\\packages\\pythonsoftwarefoundation.python.3.11_qbz5n2kfra8p0\\localcache\\local-packages\\python311\\site-packages (from requests<3.0.0,>=2.13.0->spacy) (2024.2.2)\n",
      "Requirement already satisfied: blis<0.8.0,>=0.7.8 in c:\\users\\user\\appdata\\local\\packages\\pythonsoftwarefoundation.python.3.11_qbz5n2kfra8p0\\localcache\\local-packages\\python311\\site-packages (from thinc<8.3.0,>=8.2.2->spacy) (0.7.11)\n",
      "Requirement already satisfied: confection<1.0.0,>=0.0.1 in c:\\users\\user\\appdata\\local\\packages\\pythonsoftwarefoundation.python.3.11_qbz5n2kfra8p0\\localcache\\local-packages\\python311\\site-packages (from thinc<8.3.0,>=8.2.2->spacy) (0.1.4)\n",
      "Requirement already satisfied: filelock in c:\\users\\user\\appdata\\local\\packages\\pythonsoftwarefoundation.python.3.11_qbz5n2kfra8p0\\localcache\\local-packages\\python311\\site-packages (from torch>=1.8.0->spacy-transformers) (3.14.0)\n",
      "Requirement already satisfied: sympy in c:\\users\\user\\appdata\\local\\packages\\pythonsoftwarefoundation.python.3.11_qbz5n2kfra8p0\\localcache\\local-packages\\python311\\site-packages (from torch>=1.8.0->spacy-transformers) (1.12)\n",
      "Requirement already satisfied: networkx in c:\\users\\user\\appdata\\local\\packages\\pythonsoftwarefoundation.python.3.11_qbz5n2kfra8p0\\localcache\\local-packages\\python311\\site-packages (from torch>=1.8.0->spacy-transformers) (3.3)\n",
      "Requirement already satisfied: fsspec in c:\\users\\user\\appdata\\local\\packages\\pythonsoftwarefoundation.python.3.11_qbz5n2kfra8p0\\localcache\\local-packages\\python311\\site-packages (from torch>=1.8.0->spacy-transformers) (2024.3.1)\n",
      "Requirement already satisfied: mkl<=2021.4.0,>=2021.1.1 in c:\\users\\user\\appdata\\local\\packages\\pythonsoftwarefoundation.python.3.11_qbz5n2kfra8p0\\localcache\\local-packages\\python311\\site-packages (from torch>=1.8.0->spacy-transformers) (2021.4.0)\n",
      "Requirement already satisfied: colorama in c:\\users\\user\\appdata\\local\\packages\\pythonsoftwarefoundation.python.3.11_qbz5n2kfra8p0\\localcache\\local-packages\\python311\\site-packages (from tqdm<5.0.0,>=4.38.0->spacy) (0.4.6)\n",
      "Requirement already satisfied: huggingface-hub<1.0,>=0.19.3 in c:\\users\\user\\appdata\\local\\packages\\pythonsoftwarefoundation.python.3.11_qbz5n2kfra8p0\\localcache\\local-packages\\python311\\site-packages (from transformers<4.37.0,>=3.4.0->spacy-transformers) (0.23.1)\n",
      "Requirement already satisfied: pyyaml>=5.1 in c:\\users\\user\\appdata\\local\\packages\\pythonsoftwarefoundation.python.3.11_qbz5n2kfra8p0\\localcache\\local-packages\\python311\\site-packages (from transformers<4.37.0,>=3.4.0->spacy-transformers) (6.0.1)\n",
      "Requirement already satisfied: regex!=2019.12.17 in c:\\users\\user\\appdata\\local\\packages\\pythonsoftwarefoundation.python.3.11_qbz5n2kfra8p0\\localcache\\local-packages\\python311\\site-packages (from transformers<4.37.0,>=3.4.0->spacy-transformers) (2023.12.25)\n",
      "Requirement already satisfied: tokenizers<0.19,>=0.14 in c:\\users\\user\\appdata\\local\\packages\\pythonsoftwarefoundation.python.3.11_qbz5n2kfra8p0\\localcache\\local-packages\\python311\\site-packages (from transformers<4.37.0,>=3.4.0->spacy-transformers) (0.15.2)\n",
      "Requirement already satisfied: safetensors>=0.3.1 in c:\\users\\user\\appdata\\local\\packages\\pythonsoftwarefoundation.python.3.11_qbz5n2kfra8p0\\localcache\\local-packages\\python311\\site-packages (from transformers<4.37.0,>=3.4.0->spacy-transformers) (0.4.3)\n",
      "Requirement already satisfied: click<9.0.0,>=7.1.1 in c:\\users\\user\\appdata\\local\\packages\\pythonsoftwarefoundation.python.3.11_qbz5n2kfra8p0\\localcache\\local-packages\\python311\\site-packages (from typer<0.10.0,>=0.3.0->spacy) (8.1.7)\n",
      "Requirement already satisfied: cloudpathlib<0.17.0,>=0.7.0 in c:\\users\\user\\appdata\\local\\packages\\pythonsoftwarefoundation.python.3.11_qbz5n2kfra8p0\\localcache\\local-packages\\python311\\site-packages (from weasel<0.4.0,>=0.1.0->spacy) (0.16.0)\n",
      "Requirement already satisfied: MarkupSafe>=2.0 in c:\\users\\user\\appdata\\local\\packages\\pythonsoftwarefoundation.python.3.11_qbz5n2kfra8p0\\localcache\\local-packages\\python311\\site-packages (from jinja2->spacy) (2.1.5)\n",
      "Requirement already satisfied: intel-openmp==2021.* in c:\\users\\user\\appdata\\local\\packages\\pythonsoftwarefoundation.python.3.11_qbz5n2kfra8p0\\localcache\\local-packages\\python311\\site-packages (from mkl<=2021.4.0,>=2021.1.1->torch>=1.8.0->spacy-transformers) (2021.4.0)\n",
      "Requirement already satisfied: tbb==2021.* in c:\\users\\user\\appdata\\local\\packages\\pythonsoftwarefoundation.python.3.11_qbz5n2kfra8p0\\localcache\\local-packages\\python311\\site-packages (from mkl<=2021.4.0,>=2021.1.1->torch>=1.8.0->spacy-transformers) (2021.12.0)\n",
      "Requirement already satisfied: mpmath>=0.19 in c:\\users\\user\\appdata\\local\\packages\\pythonsoftwarefoundation.python.3.11_qbz5n2kfra8p0\\localcache\\local-packages\\python311\\site-packages (from sympy->torch>=1.8.0->spacy-transformers) (1.3.0)\n",
      "Note: you may need to restart the kernel to use updated packages.\n"
     ]
    },
    {
     "name": "stderr",
     "output_type": "stream",
     "text": [
      "\n",
      "[notice] A new release of pip is available: 23.3.2 -> 24.0\n",
      "[notice] To update, run: C:\\Users\\USER\\AppData\\Local\\Microsoft\\WindowsApps\\PythonSoftwareFoundation.Python.3.11_qbz5n2kfra8p0\\python.exe -m pip install --upgrade pip\n"
     ]
    }
   ],
   "source": [
    "%pip install -U spacy spacy-transformers"
   ]
  },
  {
   "cell_type": "code",
   "execution_count": 165,
   "metadata": {},
   "outputs": [
    {
     "ename": "RegistryError",
     "evalue": "[E893] Could not find function 'spacy-curated-transformers.RobertaTransformer.v1' in function registry 'architectures'. If you're using a custom function, make sure the code is available. If the function is provided by a third-party package, e.g. spacy-transformers, make sure the package is installed in your environment.\n\nAvailable names: spacy-legacy.CharacterEmbed.v1, spacy-legacy.EntityLinker.v1, spacy-legacy.HashEmbedCNN.v1, spacy-legacy.MaxoutWindowEncoder.v1, spacy-legacy.MishWindowEncoder.v1, spacy-legacy.MultiHashEmbed.v1, spacy-legacy.Tagger.v1, spacy-legacy.TextCatBOW.v1, spacy-legacy.TextCatCNN.v1, spacy-legacy.TextCatEnsemble.v1, spacy-legacy.Tok2Vec.v1, spacy-legacy.TransitionBasedParser.v1, spacy.CharacterEmbed.v2, spacy.EntityLinker.v2, spacy.HashEmbedCNN.v2, spacy.MaxoutWindowEncoder.v2, spacy.MishWindowEncoder.v2, spacy.MultiHashEmbed.v2, spacy.PretrainCharacters.v1, spacy.PretrainVectors.v1, spacy.SpanCategorizer.v1, spacy.SpanFinder.v1, spacy.Tagger.v2, spacy.TextCatBOW.v2, spacy.TextCatBOW.v3, spacy.TextCatCNN.v2, spacy.TextCatEnsemble.v2, spacy.TextCatLowData.v1, spacy.TextCatParametricAttention.v1, spacy.TextCatReduce.v1, spacy.Tok2Vec.v2, spacy.Tok2VecListener.v1, spacy.TorchBiLSTMEncoder.v1, spacy.TransitionBasedParser.v2",
     "output_type": "error",
     "traceback": [
      "\u001b[1;31m---------------------------------------------------------------------------\u001b[0m",
      "\u001b[1;31mRegistryError\u001b[0m                             Traceback (most recent call last)",
      "Cell \u001b[1;32mIn[165], line 3\u001b[0m\n\u001b[0;32m      1\u001b[0m \u001b[38;5;28;01mimport\u001b[39;00m \u001b[38;5;21;01mspacy\u001b[39;00m\n\u001b[1;32m----> 3\u001b[0m nlp_trf \u001b[38;5;241m=\u001b[39m \u001b[43mspacy\u001b[49m\u001b[38;5;241;43m.\u001b[39;49m\u001b[43mload\u001b[49m\u001b[43m(\u001b[49m\u001b[38;5;124;43m'\u001b[39;49m\u001b[38;5;124;43mca_core_news_trf\u001b[39;49m\u001b[38;5;124;43m'\u001b[39;49m\u001b[43m)\u001b[49m\n",
      "File \u001b[1;32m~\\AppData\\Local\\Packages\\PythonSoftwareFoundation.Python.3.11_qbz5n2kfra8p0\\LocalCache\\local-packages\\Python311\\site-packages\\spacy\\__init__.py:51\u001b[0m, in \u001b[0;36mload\u001b[1;34m(name, vocab, disable, enable, exclude, config)\u001b[0m\n\u001b[0;32m     27\u001b[0m \u001b[38;5;28;01mdef\u001b[39;00m \u001b[38;5;21mload\u001b[39m(\n\u001b[0;32m     28\u001b[0m     name: Union[\u001b[38;5;28mstr\u001b[39m, Path],\n\u001b[0;32m     29\u001b[0m     \u001b[38;5;241m*\u001b[39m,\n\u001b[1;32m   (...)\u001b[0m\n\u001b[0;32m     34\u001b[0m     config: Union[Dict[\u001b[38;5;28mstr\u001b[39m, Any], Config] \u001b[38;5;241m=\u001b[39m util\u001b[38;5;241m.\u001b[39mSimpleFrozenDict(),\n\u001b[0;32m     35\u001b[0m ) \u001b[38;5;241m-\u001b[39m\u001b[38;5;241m>\u001b[39m Language:\n\u001b[0;32m     36\u001b[0m \u001b[38;5;250m    \u001b[39m\u001b[38;5;124;03m\"\"\"Load a spaCy model from an installed package or a local path.\u001b[39;00m\n\u001b[0;32m     37\u001b[0m \n\u001b[0;32m     38\u001b[0m \u001b[38;5;124;03m    name (str): Package name or model path.\u001b[39;00m\n\u001b[1;32m   (...)\u001b[0m\n\u001b[0;32m     49\u001b[0m \u001b[38;5;124;03m    RETURNS (Language): The loaded nlp object.\u001b[39;00m\n\u001b[0;32m     50\u001b[0m \u001b[38;5;124;03m    \"\"\"\u001b[39;00m\n\u001b[1;32m---> 51\u001b[0m     \u001b[38;5;28;01mreturn\u001b[39;00m \u001b[43mutil\u001b[49m\u001b[38;5;241;43m.\u001b[39;49m\u001b[43mload_model\u001b[49m\u001b[43m(\u001b[49m\n\u001b[0;32m     52\u001b[0m \u001b[43m        \u001b[49m\u001b[43mname\u001b[49m\u001b[43m,\u001b[49m\n\u001b[0;32m     53\u001b[0m \u001b[43m        \u001b[49m\u001b[43mvocab\u001b[49m\u001b[38;5;241;43m=\u001b[39;49m\u001b[43mvocab\u001b[49m\u001b[43m,\u001b[49m\n\u001b[0;32m     54\u001b[0m \u001b[43m        \u001b[49m\u001b[43mdisable\u001b[49m\u001b[38;5;241;43m=\u001b[39;49m\u001b[43mdisable\u001b[49m\u001b[43m,\u001b[49m\n\u001b[0;32m     55\u001b[0m \u001b[43m        \u001b[49m\u001b[43menable\u001b[49m\u001b[38;5;241;43m=\u001b[39;49m\u001b[43menable\u001b[49m\u001b[43m,\u001b[49m\n\u001b[0;32m     56\u001b[0m \u001b[43m        \u001b[49m\u001b[43mexclude\u001b[49m\u001b[38;5;241;43m=\u001b[39;49m\u001b[43mexclude\u001b[49m\u001b[43m,\u001b[49m\n\u001b[0;32m     57\u001b[0m \u001b[43m        \u001b[49m\u001b[43mconfig\u001b[49m\u001b[38;5;241;43m=\u001b[39;49m\u001b[43mconfig\u001b[49m\u001b[43m,\u001b[49m\n\u001b[0;32m     58\u001b[0m \u001b[43m    \u001b[49m\u001b[43m)\u001b[49m\n",
      "File \u001b[1;32m~\\AppData\\Local\\Packages\\PythonSoftwareFoundation.Python.3.11_qbz5n2kfra8p0\\LocalCache\\local-packages\\Python311\\site-packages\\spacy\\util.py:465\u001b[0m, in \u001b[0;36mload_model\u001b[1;34m(name, vocab, disable, enable, exclude, config)\u001b[0m\n\u001b[0;32m    463\u001b[0m     \u001b[38;5;28;01mreturn\u001b[39;00m get_lang_class(name\u001b[38;5;241m.\u001b[39mreplace(\u001b[38;5;124m\"\u001b[39m\u001b[38;5;124mblank:\u001b[39m\u001b[38;5;124m\"\u001b[39m, \u001b[38;5;124m\"\u001b[39m\u001b[38;5;124m\"\u001b[39m))()\n\u001b[0;32m    464\u001b[0m \u001b[38;5;28;01mif\u001b[39;00m is_package(name):  \u001b[38;5;66;03m# installed as package\u001b[39;00m\n\u001b[1;32m--> 465\u001b[0m     \u001b[38;5;28;01mreturn\u001b[39;00m \u001b[43mload_model_from_package\u001b[49m\u001b[43m(\u001b[49m\u001b[43mname\u001b[49m\u001b[43m,\u001b[49m\u001b[43m \u001b[49m\u001b[38;5;241;43m*\u001b[39;49m\u001b[38;5;241;43m*\u001b[39;49m\u001b[43mkwargs\u001b[49m\u001b[43m)\u001b[49m  \u001b[38;5;66;03m# type: ignore[arg-type]\u001b[39;00m\n\u001b[0;32m    466\u001b[0m \u001b[38;5;28;01mif\u001b[39;00m Path(name)\u001b[38;5;241m.\u001b[39mexists():  \u001b[38;5;66;03m# path to model data directory\u001b[39;00m\n\u001b[0;32m    467\u001b[0m     \u001b[38;5;28;01mreturn\u001b[39;00m load_model_from_path(Path(name), \u001b[38;5;241m*\u001b[39m\u001b[38;5;241m*\u001b[39mkwargs)  \u001b[38;5;66;03m# type: ignore[arg-type]\u001b[39;00m\n",
      "File \u001b[1;32m~\\AppData\\Local\\Packages\\PythonSoftwareFoundation.Python.3.11_qbz5n2kfra8p0\\LocalCache\\local-packages\\Python311\\site-packages\\spacy\\util.py:501\u001b[0m, in \u001b[0;36mload_model_from_package\u001b[1;34m(name, vocab, disable, enable, exclude, config)\u001b[0m\n\u001b[0;32m    484\u001b[0m \u001b[38;5;250m\u001b[39m\u001b[38;5;124;03m\"\"\"Load a model from an installed package.\u001b[39;00m\n\u001b[0;32m    485\u001b[0m \n\u001b[0;32m    486\u001b[0m \u001b[38;5;124;03mname (str): The package name.\u001b[39;00m\n\u001b[1;32m   (...)\u001b[0m\n\u001b[0;32m    498\u001b[0m \u001b[38;5;124;03mRETURNS (Language): The loaded nlp object.\u001b[39;00m\n\u001b[0;32m    499\u001b[0m \u001b[38;5;124;03m\"\"\"\u001b[39;00m\n\u001b[0;32m    500\u001b[0m \u001b[38;5;28mcls\u001b[39m \u001b[38;5;241m=\u001b[39m importlib\u001b[38;5;241m.\u001b[39mimport_module(name)\n\u001b[1;32m--> 501\u001b[0m \u001b[38;5;28;01mreturn\u001b[39;00m \u001b[38;5;28;43mcls\u001b[39;49m\u001b[38;5;241;43m.\u001b[39;49m\u001b[43mload\u001b[49m\u001b[43m(\u001b[49m\u001b[43mvocab\u001b[49m\u001b[38;5;241;43m=\u001b[39;49m\u001b[43mvocab\u001b[49m\u001b[43m,\u001b[49m\u001b[43m \u001b[49m\u001b[43mdisable\u001b[49m\u001b[38;5;241;43m=\u001b[39;49m\u001b[43mdisable\u001b[49m\u001b[43m,\u001b[49m\u001b[43m \u001b[49m\u001b[43menable\u001b[49m\u001b[38;5;241;43m=\u001b[39;49m\u001b[43menable\u001b[49m\u001b[43m,\u001b[49m\u001b[43m \u001b[49m\u001b[43mexclude\u001b[49m\u001b[38;5;241;43m=\u001b[39;49m\u001b[43mexclude\u001b[49m\u001b[43m,\u001b[49m\u001b[43m \u001b[49m\u001b[43mconfig\u001b[49m\u001b[38;5;241;43m=\u001b[39;49m\u001b[43mconfig\u001b[49m\u001b[43m)\u001b[49m\n",
      "File \u001b[1;32m~\\AppData\\Local\\Packages\\PythonSoftwareFoundation.Python.3.11_qbz5n2kfra8p0\\LocalCache\\local-packages\\Python311\\site-packages\\ca_core_news_trf\\__init__.py:10\u001b[0m, in \u001b[0;36mload\u001b[1;34m(**overrides)\u001b[0m\n\u001b[0;32m      9\u001b[0m \u001b[38;5;28;01mdef\u001b[39;00m \u001b[38;5;21mload\u001b[39m(\u001b[38;5;241m*\u001b[39m\u001b[38;5;241m*\u001b[39moverrides):\n\u001b[1;32m---> 10\u001b[0m     \u001b[38;5;28;01mreturn\u001b[39;00m \u001b[43mload_model_from_init_py\u001b[49m\u001b[43m(\u001b[49m\u001b[38;5;18;43m__file__\u001b[39;49m\u001b[43m,\u001b[49m\u001b[43m \u001b[49m\u001b[38;5;241;43m*\u001b[39;49m\u001b[38;5;241;43m*\u001b[39;49m\u001b[43moverrides\u001b[49m\u001b[43m)\u001b[49m\n",
      "File \u001b[1;32m~\\AppData\\Local\\Packages\\PythonSoftwareFoundation.Python.3.11_qbz5n2kfra8p0\\LocalCache\\local-packages\\Python311\\site-packages\\spacy\\util.py:682\u001b[0m, in \u001b[0;36mload_model_from_init_py\u001b[1;34m(init_file, vocab, disable, enable, exclude, config)\u001b[0m\n\u001b[0;32m    680\u001b[0m \u001b[38;5;28;01mif\u001b[39;00m \u001b[38;5;129;01mnot\u001b[39;00m model_path\u001b[38;5;241m.\u001b[39mexists():\n\u001b[0;32m    681\u001b[0m     \u001b[38;5;28;01mraise\u001b[39;00m \u001b[38;5;167;01mIOError\u001b[39;00m(Errors\u001b[38;5;241m.\u001b[39mE052\u001b[38;5;241m.\u001b[39mformat(path\u001b[38;5;241m=\u001b[39mdata_path))\n\u001b[1;32m--> 682\u001b[0m \u001b[38;5;28;01mreturn\u001b[39;00m \u001b[43mload_model_from_path\u001b[49m\u001b[43m(\u001b[49m\n\u001b[0;32m    683\u001b[0m \u001b[43m    \u001b[49m\u001b[43mdata_path\u001b[49m\u001b[43m,\u001b[49m\n\u001b[0;32m    684\u001b[0m \u001b[43m    \u001b[49m\u001b[43mvocab\u001b[49m\u001b[38;5;241;43m=\u001b[39;49m\u001b[43mvocab\u001b[49m\u001b[43m,\u001b[49m\n\u001b[0;32m    685\u001b[0m \u001b[43m    \u001b[49m\u001b[43mmeta\u001b[49m\u001b[38;5;241;43m=\u001b[39;49m\u001b[43mmeta\u001b[49m\u001b[43m,\u001b[49m\n\u001b[0;32m    686\u001b[0m \u001b[43m    \u001b[49m\u001b[43mdisable\u001b[49m\u001b[38;5;241;43m=\u001b[39;49m\u001b[43mdisable\u001b[49m\u001b[43m,\u001b[49m\n\u001b[0;32m    687\u001b[0m \u001b[43m    \u001b[49m\u001b[43menable\u001b[49m\u001b[38;5;241;43m=\u001b[39;49m\u001b[43menable\u001b[49m\u001b[43m,\u001b[49m\n\u001b[0;32m    688\u001b[0m \u001b[43m    \u001b[49m\u001b[43mexclude\u001b[49m\u001b[38;5;241;43m=\u001b[39;49m\u001b[43mexclude\u001b[49m\u001b[43m,\u001b[49m\n\u001b[0;32m    689\u001b[0m \u001b[43m    \u001b[49m\u001b[43mconfig\u001b[49m\u001b[38;5;241;43m=\u001b[39;49m\u001b[43mconfig\u001b[49m\u001b[43m,\u001b[49m\n\u001b[0;32m    690\u001b[0m \u001b[43m\u001b[49m\u001b[43m)\u001b[49m\n",
      "File \u001b[1;32m~\\AppData\\Local\\Packages\\PythonSoftwareFoundation.Python.3.11_qbz5n2kfra8p0\\LocalCache\\local-packages\\Python311\\site-packages\\spacy\\util.py:539\u001b[0m, in \u001b[0;36mload_model_from_path\u001b[1;34m(model_path, meta, vocab, disable, enable, exclude, config)\u001b[0m\n\u001b[0;32m    537\u001b[0m overrides \u001b[38;5;241m=\u001b[39m dict_to_dot(config, for_overrides\u001b[38;5;241m=\u001b[39m\u001b[38;5;28;01mTrue\u001b[39;00m)\n\u001b[0;32m    538\u001b[0m config \u001b[38;5;241m=\u001b[39m load_config(config_path, overrides\u001b[38;5;241m=\u001b[39moverrides)\n\u001b[1;32m--> 539\u001b[0m nlp \u001b[38;5;241m=\u001b[39m \u001b[43mload_model_from_config\u001b[49m\u001b[43m(\u001b[49m\n\u001b[0;32m    540\u001b[0m \u001b[43m    \u001b[49m\u001b[43mconfig\u001b[49m\u001b[43m,\u001b[49m\n\u001b[0;32m    541\u001b[0m \u001b[43m    \u001b[49m\u001b[43mvocab\u001b[49m\u001b[38;5;241;43m=\u001b[39;49m\u001b[43mvocab\u001b[49m\u001b[43m,\u001b[49m\n\u001b[0;32m    542\u001b[0m \u001b[43m    \u001b[49m\u001b[43mdisable\u001b[49m\u001b[38;5;241;43m=\u001b[39;49m\u001b[43mdisable\u001b[49m\u001b[43m,\u001b[49m\n\u001b[0;32m    543\u001b[0m \u001b[43m    \u001b[49m\u001b[43menable\u001b[49m\u001b[38;5;241;43m=\u001b[39;49m\u001b[43menable\u001b[49m\u001b[43m,\u001b[49m\n\u001b[0;32m    544\u001b[0m \u001b[43m    \u001b[49m\u001b[43mexclude\u001b[49m\u001b[38;5;241;43m=\u001b[39;49m\u001b[43mexclude\u001b[49m\u001b[43m,\u001b[49m\n\u001b[0;32m    545\u001b[0m \u001b[43m    \u001b[49m\u001b[43mmeta\u001b[49m\u001b[38;5;241;43m=\u001b[39;49m\u001b[43mmeta\u001b[49m\u001b[43m,\u001b[49m\n\u001b[0;32m    546\u001b[0m \u001b[43m\u001b[49m\u001b[43m)\u001b[49m\n\u001b[0;32m    547\u001b[0m \u001b[38;5;28;01mreturn\u001b[39;00m nlp\u001b[38;5;241m.\u001b[39mfrom_disk(model_path, exclude\u001b[38;5;241m=\u001b[39mexclude, overrides\u001b[38;5;241m=\u001b[39moverrides)\n",
      "File \u001b[1;32m~\\AppData\\Local\\Packages\\PythonSoftwareFoundation.Python.3.11_qbz5n2kfra8p0\\LocalCache\\local-packages\\Python311\\site-packages\\spacy\\util.py:587\u001b[0m, in \u001b[0;36mload_model_from_config\u001b[1;34m(config, meta, vocab, disable, enable, exclude, auto_fill, validate)\u001b[0m\n\u001b[0;32m    584\u001b[0m \u001b[38;5;66;03m# This will automatically handle all codes registered via the languages\u001b[39;00m\n\u001b[0;32m    585\u001b[0m \u001b[38;5;66;03m# registry, including custom subclasses provided via entry points\u001b[39;00m\n\u001b[0;32m    586\u001b[0m lang_cls \u001b[38;5;241m=\u001b[39m get_lang_class(nlp_config[\u001b[38;5;124m\"\u001b[39m\u001b[38;5;124mlang\u001b[39m\u001b[38;5;124m\"\u001b[39m])\n\u001b[1;32m--> 587\u001b[0m nlp \u001b[38;5;241m=\u001b[39m \u001b[43mlang_cls\u001b[49m\u001b[38;5;241;43m.\u001b[39;49m\u001b[43mfrom_config\u001b[49m\u001b[43m(\u001b[49m\n\u001b[0;32m    588\u001b[0m \u001b[43m    \u001b[49m\u001b[43mconfig\u001b[49m\u001b[43m,\u001b[49m\n\u001b[0;32m    589\u001b[0m \u001b[43m    \u001b[49m\u001b[43mvocab\u001b[49m\u001b[38;5;241;43m=\u001b[39;49m\u001b[43mvocab\u001b[49m\u001b[43m,\u001b[49m\n\u001b[0;32m    590\u001b[0m \u001b[43m    \u001b[49m\u001b[43mdisable\u001b[49m\u001b[38;5;241;43m=\u001b[39;49m\u001b[43mdisable\u001b[49m\u001b[43m,\u001b[49m\n\u001b[0;32m    591\u001b[0m \u001b[43m    \u001b[49m\u001b[43menable\u001b[49m\u001b[38;5;241;43m=\u001b[39;49m\u001b[43menable\u001b[49m\u001b[43m,\u001b[49m\n\u001b[0;32m    592\u001b[0m \u001b[43m    \u001b[49m\u001b[43mexclude\u001b[49m\u001b[38;5;241;43m=\u001b[39;49m\u001b[43mexclude\u001b[49m\u001b[43m,\u001b[49m\n\u001b[0;32m    593\u001b[0m \u001b[43m    \u001b[49m\u001b[43mauto_fill\u001b[49m\u001b[38;5;241;43m=\u001b[39;49m\u001b[43mauto_fill\u001b[49m\u001b[43m,\u001b[49m\n\u001b[0;32m    594\u001b[0m \u001b[43m    \u001b[49m\u001b[43mvalidate\u001b[49m\u001b[38;5;241;43m=\u001b[39;49m\u001b[43mvalidate\u001b[49m\u001b[43m,\u001b[49m\n\u001b[0;32m    595\u001b[0m \u001b[43m    \u001b[49m\u001b[43mmeta\u001b[49m\u001b[38;5;241;43m=\u001b[39;49m\u001b[43mmeta\u001b[49m\u001b[43m,\u001b[49m\n\u001b[0;32m    596\u001b[0m \u001b[43m\u001b[49m\u001b[43m)\u001b[49m\n\u001b[0;32m    597\u001b[0m \u001b[38;5;28;01mreturn\u001b[39;00m nlp\n",
      "File \u001b[1;32m~\\AppData\\Local\\Packages\\PythonSoftwareFoundation.Python.3.11_qbz5n2kfra8p0\\LocalCache\\local-packages\\Python311\\site-packages\\spacy\\language.py:1889\u001b[0m, in \u001b[0;36mLanguage.from_config\u001b[1;34m(cls, config, vocab, disable, enable, exclude, meta, auto_fill, validate)\u001b[0m\n\u001b[0;32m   1886\u001b[0m     factory \u001b[38;5;241m=\u001b[39m pipe_cfg\u001b[38;5;241m.\u001b[39mpop(\u001b[38;5;124m\"\u001b[39m\u001b[38;5;124mfactory\u001b[39m\u001b[38;5;124m\"\u001b[39m)\n\u001b[0;32m   1887\u001b[0m     \u001b[38;5;66;03m# The pipe name (key in the config) here is the unique name\u001b[39;00m\n\u001b[0;32m   1888\u001b[0m     \u001b[38;5;66;03m# of the component, not necessarily the factory\u001b[39;00m\n\u001b[1;32m-> 1889\u001b[0m     \u001b[43mnlp\u001b[49m\u001b[38;5;241;43m.\u001b[39;49m\u001b[43madd_pipe\u001b[49m\u001b[43m(\u001b[49m\n\u001b[0;32m   1890\u001b[0m \u001b[43m        \u001b[49m\u001b[43mfactory\u001b[49m\u001b[43m,\u001b[49m\n\u001b[0;32m   1891\u001b[0m \u001b[43m        \u001b[49m\u001b[43mname\u001b[49m\u001b[38;5;241;43m=\u001b[39;49m\u001b[43mpipe_name\u001b[49m\u001b[43m,\u001b[49m\n\u001b[0;32m   1892\u001b[0m \u001b[43m        \u001b[49m\u001b[43mconfig\u001b[49m\u001b[38;5;241;43m=\u001b[39;49m\u001b[43mpipe_cfg\u001b[49m\u001b[43m,\u001b[49m\n\u001b[0;32m   1893\u001b[0m \u001b[43m        \u001b[49m\u001b[43mvalidate\u001b[49m\u001b[38;5;241;43m=\u001b[39;49m\u001b[43mvalidate\u001b[49m\u001b[43m,\u001b[49m\n\u001b[0;32m   1894\u001b[0m \u001b[43m        \u001b[49m\u001b[43mraw_config\u001b[49m\u001b[38;5;241;43m=\u001b[39;49m\u001b[43mraw_config\u001b[49m\u001b[43m,\u001b[49m\n\u001b[0;32m   1895\u001b[0m \u001b[43m    \u001b[49m\u001b[43m)\u001b[49m\n\u001b[0;32m   1896\u001b[0m \u001b[38;5;28;01melse\u001b[39;00m:\n\u001b[0;32m   1897\u001b[0m     \u001b[38;5;28;01massert\u001b[39;00m \u001b[38;5;124m\"\u001b[39m\u001b[38;5;124msource\u001b[39m\u001b[38;5;124m\"\u001b[39m \u001b[38;5;129;01min\u001b[39;00m pipe_cfg\n",
      "File \u001b[1;32m~\\AppData\\Local\\Packages\\PythonSoftwareFoundation.Python.3.11_qbz5n2kfra8p0\\LocalCache\\local-packages\\Python311\\site-packages\\spacy\\language.py:821\u001b[0m, in \u001b[0;36mLanguage.add_pipe\u001b[1;34m(self, factory_name, name, before, after, first, last, source, config, raw_config, validate)\u001b[0m\n\u001b[0;32m    817\u001b[0m     pipe_component, factory_name \u001b[38;5;241m=\u001b[39m \u001b[38;5;28mself\u001b[39m\u001b[38;5;241m.\u001b[39mcreate_pipe_from_source(\n\u001b[0;32m    818\u001b[0m         factory_name, source, name\u001b[38;5;241m=\u001b[39mname\n\u001b[0;32m    819\u001b[0m     )\n\u001b[0;32m    820\u001b[0m \u001b[38;5;28;01melse\u001b[39;00m:\n\u001b[1;32m--> 821\u001b[0m     pipe_component \u001b[38;5;241m=\u001b[39m \u001b[38;5;28;43mself\u001b[39;49m\u001b[38;5;241;43m.\u001b[39;49m\u001b[43mcreate_pipe\u001b[49m\u001b[43m(\u001b[49m\n\u001b[0;32m    822\u001b[0m \u001b[43m        \u001b[49m\u001b[43mfactory_name\u001b[49m\u001b[43m,\u001b[49m\n\u001b[0;32m    823\u001b[0m \u001b[43m        \u001b[49m\u001b[43mname\u001b[49m\u001b[38;5;241;43m=\u001b[39;49m\u001b[43mname\u001b[49m\u001b[43m,\u001b[49m\n\u001b[0;32m    824\u001b[0m \u001b[43m        \u001b[49m\u001b[43mconfig\u001b[49m\u001b[38;5;241;43m=\u001b[39;49m\u001b[43mconfig\u001b[49m\u001b[43m,\u001b[49m\n\u001b[0;32m    825\u001b[0m \u001b[43m        \u001b[49m\u001b[43mraw_config\u001b[49m\u001b[38;5;241;43m=\u001b[39;49m\u001b[43mraw_config\u001b[49m\u001b[43m,\u001b[49m\n\u001b[0;32m    826\u001b[0m \u001b[43m        \u001b[49m\u001b[43mvalidate\u001b[49m\u001b[38;5;241;43m=\u001b[39;49m\u001b[43mvalidate\u001b[49m\u001b[43m,\u001b[49m\n\u001b[0;32m    827\u001b[0m \u001b[43m    \u001b[49m\u001b[43m)\u001b[49m\n\u001b[0;32m    828\u001b[0m pipe_index \u001b[38;5;241m=\u001b[39m \u001b[38;5;28mself\u001b[39m\u001b[38;5;241m.\u001b[39m_get_pipe_index(before, after, first, last)\n\u001b[0;32m    829\u001b[0m \u001b[38;5;28mself\u001b[39m\u001b[38;5;241m.\u001b[39m_pipe_meta[name] \u001b[38;5;241m=\u001b[39m \u001b[38;5;28mself\u001b[39m\u001b[38;5;241m.\u001b[39mget_factory_meta(factory_name)\n",
      "File \u001b[1;32m~\\AppData\\Local\\Packages\\PythonSoftwareFoundation.Python.3.11_qbz5n2kfra8p0\\LocalCache\\local-packages\\Python311\\site-packages\\spacy\\language.py:709\u001b[0m, in \u001b[0;36mLanguage.create_pipe\u001b[1;34m(self, factory_name, name, config, raw_config, validate)\u001b[0m\n\u001b[0;32m    706\u001b[0m cfg \u001b[38;5;241m=\u001b[39m {factory_name: config}\n\u001b[0;32m    707\u001b[0m \u001b[38;5;66;03m# We're calling the internal _fill here to avoid constructing the\u001b[39;00m\n\u001b[0;32m    708\u001b[0m \u001b[38;5;66;03m# registered functions twice\u001b[39;00m\n\u001b[1;32m--> 709\u001b[0m resolved \u001b[38;5;241m=\u001b[39m \u001b[43mregistry\u001b[49m\u001b[38;5;241;43m.\u001b[39;49m\u001b[43mresolve\u001b[49m\u001b[43m(\u001b[49m\u001b[43mcfg\u001b[49m\u001b[43m,\u001b[49m\u001b[43m \u001b[49m\u001b[43mvalidate\u001b[49m\u001b[38;5;241;43m=\u001b[39;49m\u001b[43mvalidate\u001b[49m\u001b[43m)\u001b[49m\n\u001b[0;32m    710\u001b[0m filled \u001b[38;5;241m=\u001b[39m registry\u001b[38;5;241m.\u001b[39mfill({\u001b[38;5;124m\"\u001b[39m\u001b[38;5;124mcfg\u001b[39m\u001b[38;5;124m\"\u001b[39m: cfg[factory_name]}, validate\u001b[38;5;241m=\u001b[39mvalidate)[\u001b[38;5;124m\"\u001b[39m\u001b[38;5;124mcfg\u001b[39m\u001b[38;5;124m\"\u001b[39m]\n\u001b[0;32m    711\u001b[0m filled \u001b[38;5;241m=\u001b[39m Config(filled)\n",
      "File \u001b[1;32m~\\AppData\\Local\\Packages\\PythonSoftwareFoundation.Python.3.11_qbz5n2kfra8p0\\LocalCache\\local-packages\\Python311\\site-packages\\confection\\__init__.py:759\u001b[0m, in \u001b[0;36mregistry.resolve\u001b[1;34m(cls, config, schema, overrides, validate)\u001b[0m\n\u001b[0;32m    750\u001b[0m \u001b[38;5;129m@classmethod\u001b[39m\n\u001b[0;32m    751\u001b[0m \u001b[38;5;28;01mdef\u001b[39;00m \u001b[38;5;21mresolve\u001b[39m(\n\u001b[0;32m    752\u001b[0m     \u001b[38;5;28mcls\u001b[39m,\n\u001b[1;32m   (...)\u001b[0m\n\u001b[0;32m    757\u001b[0m     validate: \u001b[38;5;28mbool\u001b[39m \u001b[38;5;241m=\u001b[39m \u001b[38;5;28;01mTrue\u001b[39;00m,\n\u001b[0;32m    758\u001b[0m ) \u001b[38;5;241m-\u001b[39m\u001b[38;5;241m>\u001b[39m Dict[\u001b[38;5;28mstr\u001b[39m, Any]:\n\u001b[1;32m--> 759\u001b[0m     resolved, _ \u001b[38;5;241m=\u001b[39m \u001b[38;5;28;43mcls\u001b[39;49m\u001b[38;5;241;43m.\u001b[39;49m\u001b[43m_make\u001b[49m\u001b[43m(\u001b[49m\n\u001b[0;32m    760\u001b[0m \u001b[43m        \u001b[49m\u001b[43mconfig\u001b[49m\u001b[43m,\u001b[49m\u001b[43m \u001b[49m\u001b[43mschema\u001b[49m\u001b[38;5;241;43m=\u001b[39;49m\u001b[43mschema\u001b[49m\u001b[43m,\u001b[49m\u001b[43m \u001b[49m\u001b[43moverrides\u001b[49m\u001b[38;5;241;43m=\u001b[39;49m\u001b[43moverrides\u001b[49m\u001b[43m,\u001b[49m\u001b[43m \u001b[49m\u001b[43mvalidate\u001b[49m\u001b[38;5;241;43m=\u001b[39;49m\u001b[43mvalidate\u001b[49m\u001b[43m,\u001b[49m\u001b[43m \u001b[49m\u001b[43mresolve\u001b[49m\u001b[38;5;241;43m=\u001b[39;49m\u001b[38;5;28;43;01mTrue\u001b[39;49;00m\n\u001b[0;32m    761\u001b[0m \u001b[43m    \u001b[49m\u001b[43m)\u001b[49m\n\u001b[0;32m    762\u001b[0m     \u001b[38;5;28;01mreturn\u001b[39;00m resolved\n",
      "File \u001b[1;32m~\\AppData\\Local\\Packages\\PythonSoftwareFoundation.Python.3.11_qbz5n2kfra8p0\\LocalCache\\local-packages\\Python311\\site-packages\\confection\\__init__.py:808\u001b[0m, in \u001b[0;36mregistry._make\u001b[1;34m(cls, config, schema, overrides, resolve, validate)\u001b[0m\n\u001b[0;32m    806\u001b[0m \u001b[38;5;28;01mif\u001b[39;00m \u001b[38;5;129;01mnot\u001b[39;00m is_interpolated:\n\u001b[0;32m    807\u001b[0m     config \u001b[38;5;241m=\u001b[39m Config(orig_config)\u001b[38;5;241m.\u001b[39minterpolate()\n\u001b[1;32m--> 808\u001b[0m filled, _, resolved \u001b[38;5;241m=\u001b[39m \u001b[38;5;28;43mcls\u001b[39;49m\u001b[38;5;241;43m.\u001b[39;49m\u001b[43m_fill\u001b[49m\u001b[43m(\u001b[49m\n\u001b[0;32m    809\u001b[0m \u001b[43m    \u001b[49m\u001b[43mconfig\u001b[49m\u001b[43m,\u001b[49m\u001b[43m \u001b[49m\u001b[43mschema\u001b[49m\u001b[43m,\u001b[49m\u001b[43m \u001b[49m\u001b[43mvalidate\u001b[49m\u001b[38;5;241;43m=\u001b[39;49m\u001b[43mvalidate\u001b[49m\u001b[43m,\u001b[49m\u001b[43m \u001b[49m\u001b[43moverrides\u001b[49m\u001b[38;5;241;43m=\u001b[39;49m\u001b[43moverrides\u001b[49m\u001b[43m,\u001b[49m\u001b[43m \u001b[49m\u001b[43mresolve\u001b[49m\u001b[38;5;241;43m=\u001b[39;49m\u001b[43mresolve\u001b[49m\n\u001b[0;32m    810\u001b[0m \u001b[43m\u001b[49m\u001b[43m)\u001b[49m\n\u001b[0;32m    811\u001b[0m filled \u001b[38;5;241m=\u001b[39m Config(filled, section_order\u001b[38;5;241m=\u001b[39msection_order)\n\u001b[0;32m    812\u001b[0m \u001b[38;5;66;03m# Check that overrides didn't include invalid properties not in config\u001b[39;00m\n",
      "File \u001b[1;32m~\\AppData\\Local\\Packages\\PythonSoftwareFoundation.Python.3.11_qbz5n2kfra8p0\\LocalCache\\local-packages\\Python311\\site-packages\\confection\\__init__.py:863\u001b[0m, in \u001b[0;36mregistry._fill\u001b[1;34m(cls, config, schema, validate, resolve, parent, overrides)\u001b[0m\n\u001b[0;32m    861\u001b[0m     schema\u001b[38;5;241m.\u001b[39m__fields__[key] \u001b[38;5;241m=\u001b[39m copy_model_field(field, Any)\n\u001b[0;32m    862\u001b[0m promise_schema \u001b[38;5;241m=\u001b[39m \u001b[38;5;28mcls\u001b[39m\u001b[38;5;241m.\u001b[39mmake_promise_schema(value, resolve\u001b[38;5;241m=\u001b[39mresolve)\n\u001b[1;32m--> 863\u001b[0m filled[key], validation[v_key], final[key] \u001b[38;5;241m=\u001b[39m \u001b[38;5;28;43mcls\u001b[39;49m\u001b[38;5;241;43m.\u001b[39;49m\u001b[43m_fill\u001b[49m\u001b[43m(\u001b[49m\n\u001b[0;32m    864\u001b[0m \u001b[43m    \u001b[49m\u001b[43mvalue\u001b[49m\u001b[43m,\u001b[49m\n\u001b[0;32m    865\u001b[0m \u001b[43m    \u001b[49m\u001b[43mpromise_schema\u001b[49m\u001b[43m,\u001b[49m\n\u001b[0;32m    866\u001b[0m \u001b[43m    \u001b[49m\u001b[43mvalidate\u001b[49m\u001b[38;5;241;43m=\u001b[39;49m\u001b[43mvalidate\u001b[49m\u001b[43m,\u001b[49m\n\u001b[0;32m    867\u001b[0m \u001b[43m    \u001b[49m\u001b[43mresolve\u001b[49m\u001b[38;5;241;43m=\u001b[39;49m\u001b[43mresolve\u001b[49m\u001b[43m,\u001b[49m\n\u001b[0;32m    868\u001b[0m \u001b[43m    \u001b[49m\u001b[43mparent\u001b[49m\u001b[38;5;241;43m=\u001b[39;49m\u001b[43mkey_parent\u001b[49m\u001b[43m,\u001b[49m\n\u001b[0;32m    869\u001b[0m \u001b[43m    \u001b[49m\u001b[43moverrides\u001b[49m\u001b[38;5;241;43m=\u001b[39;49m\u001b[43moverrides\u001b[49m\u001b[43m,\u001b[49m\n\u001b[0;32m    870\u001b[0m \u001b[43m\u001b[49m\u001b[43m)\u001b[49m\n\u001b[0;32m    871\u001b[0m reg_name, func_name \u001b[38;5;241m=\u001b[39m \u001b[38;5;28mcls\u001b[39m\u001b[38;5;241m.\u001b[39mget_constructor(final[key])\n\u001b[0;32m    872\u001b[0m args, kwargs \u001b[38;5;241m=\u001b[39m \u001b[38;5;28mcls\u001b[39m\u001b[38;5;241m.\u001b[39mparse_args(final[key])\n",
      "File \u001b[1;32m~\\AppData\\Local\\Packages\\PythonSoftwareFoundation.Python.3.11_qbz5n2kfra8p0\\LocalCache\\local-packages\\Python311\\site-packages\\confection\\__init__.py:862\u001b[0m, in \u001b[0;36mregistry._fill\u001b[1;34m(cls, config, schema, validate, resolve, parent, overrides)\u001b[0m\n\u001b[0;32m    860\u001b[0m     field \u001b[38;5;241m=\u001b[39m schema\u001b[38;5;241m.\u001b[39m__fields__[key]\n\u001b[0;32m    861\u001b[0m     schema\u001b[38;5;241m.\u001b[39m__fields__[key] \u001b[38;5;241m=\u001b[39m copy_model_field(field, Any)\n\u001b[1;32m--> 862\u001b[0m promise_schema \u001b[38;5;241m=\u001b[39m \u001b[38;5;28;43mcls\u001b[39;49m\u001b[38;5;241;43m.\u001b[39;49m\u001b[43mmake_promise_schema\u001b[49m\u001b[43m(\u001b[49m\u001b[43mvalue\u001b[49m\u001b[43m,\u001b[49m\u001b[43m \u001b[49m\u001b[43mresolve\u001b[49m\u001b[38;5;241;43m=\u001b[39;49m\u001b[43mresolve\u001b[49m\u001b[43m)\u001b[49m\n\u001b[0;32m    863\u001b[0m filled[key], validation[v_key], final[key] \u001b[38;5;241m=\u001b[39m \u001b[38;5;28mcls\u001b[39m\u001b[38;5;241m.\u001b[39m_fill(\n\u001b[0;32m    864\u001b[0m     value,\n\u001b[0;32m    865\u001b[0m     promise_schema,\n\u001b[1;32m   (...)\u001b[0m\n\u001b[0;32m    869\u001b[0m     overrides\u001b[38;5;241m=\u001b[39moverrides,\n\u001b[0;32m    870\u001b[0m )\n\u001b[0;32m    871\u001b[0m reg_name, func_name \u001b[38;5;241m=\u001b[39m \u001b[38;5;28mcls\u001b[39m\u001b[38;5;241m.\u001b[39mget_constructor(final[key])\n",
      "File \u001b[1;32m~\\AppData\\Local\\Packages\\PythonSoftwareFoundation.Python.3.11_qbz5n2kfra8p0\\LocalCache\\local-packages\\Python311\\site-packages\\confection\\__init__.py:1054\u001b[0m, in \u001b[0;36mregistry.make_promise_schema\u001b[1;34m(cls, obj, resolve)\u001b[0m\n\u001b[0;32m   1052\u001b[0m \u001b[38;5;28;01mif\u001b[39;00m \u001b[38;5;129;01mnot\u001b[39;00m resolve \u001b[38;5;129;01mand\u001b[39;00m \u001b[38;5;129;01mnot\u001b[39;00m \u001b[38;5;28mcls\u001b[39m\u001b[38;5;241m.\u001b[39mhas(reg_name, func_name):\n\u001b[0;32m   1053\u001b[0m     \u001b[38;5;28;01mreturn\u001b[39;00m EmptySchema\n\u001b[1;32m-> 1054\u001b[0m func \u001b[38;5;241m=\u001b[39m \u001b[38;5;28;43mcls\u001b[39;49m\u001b[38;5;241;43m.\u001b[39;49m\u001b[43mget\u001b[49m\u001b[43m(\u001b[49m\u001b[43mreg_name\u001b[49m\u001b[43m,\u001b[49m\u001b[43m \u001b[49m\u001b[43mfunc_name\u001b[49m\u001b[43m)\u001b[49m\n\u001b[0;32m   1055\u001b[0m \u001b[38;5;66;03m# Read the argument annotations and defaults from the function signature\u001b[39;00m\n\u001b[0;32m   1056\u001b[0m id_keys \u001b[38;5;241m=\u001b[39m [k \u001b[38;5;28;01mfor\u001b[39;00m k \u001b[38;5;129;01min\u001b[39;00m obj\u001b[38;5;241m.\u001b[39mkeys() \u001b[38;5;28;01mif\u001b[39;00m k\u001b[38;5;241m.\u001b[39mstartswith(\u001b[38;5;124m\"\u001b[39m\u001b[38;5;124m@\u001b[39m\u001b[38;5;124m\"\u001b[39m)]\n",
      "File \u001b[1;32m~\\AppData\\Local\\Packages\\PythonSoftwareFoundation.Python.3.11_qbz5n2kfra8p0\\LocalCache\\local-packages\\Python311\\site-packages\\spacy\\util.py:163\u001b[0m, in \u001b[0;36mregistry.get\u001b[1;34m(cls, registry_name, func_name)\u001b[0m\n\u001b[0;32m    161\u001b[0m             \u001b[38;5;28;01mpass\u001b[39;00m\n\u001b[0;32m    162\u001b[0m     available \u001b[38;5;241m=\u001b[39m \u001b[38;5;124m\"\u001b[39m\u001b[38;5;124m, \u001b[39m\u001b[38;5;124m\"\u001b[39m\u001b[38;5;241m.\u001b[39mjoin(\u001b[38;5;28msorted\u001b[39m(reg\u001b[38;5;241m.\u001b[39mget_all()\u001b[38;5;241m.\u001b[39mkeys())) \u001b[38;5;129;01mor\u001b[39;00m \u001b[38;5;124m\"\u001b[39m\u001b[38;5;124mnone\u001b[39m\u001b[38;5;124m\"\u001b[39m\n\u001b[1;32m--> 163\u001b[0m     \u001b[38;5;28;01mraise\u001b[39;00m RegistryError(\n\u001b[0;32m    164\u001b[0m         Errors\u001b[38;5;241m.\u001b[39mE893\u001b[38;5;241m.\u001b[39mformat(\n\u001b[0;32m    165\u001b[0m             name\u001b[38;5;241m=\u001b[39mfunc_name, reg_name\u001b[38;5;241m=\u001b[39mregistry_name, available\u001b[38;5;241m=\u001b[39mavailable\n\u001b[0;32m    166\u001b[0m         )\n\u001b[0;32m    167\u001b[0m     ) \u001b[38;5;28;01mfrom\u001b[39;00m \u001b[38;5;28;01mNone\u001b[39;00m\n\u001b[0;32m    168\u001b[0m \u001b[38;5;28;01mreturn\u001b[39;00m func\n",
      "\u001b[1;31mRegistryError\u001b[0m: [E893] Could not find function 'spacy-curated-transformers.RobertaTransformer.v1' in function registry 'architectures'. If you're using a custom function, make sure the code is available. If the function is provided by a third-party package, e.g. spacy-transformers, make sure the package is installed in your environment.\n\nAvailable names: spacy-legacy.CharacterEmbed.v1, spacy-legacy.EntityLinker.v1, spacy-legacy.HashEmbedCNN.v1, spacy-legacy.MaxoutWindowEncoder.v1, spacy-legacy.MishWindowEncoder.v1, spacy-legacy.MultiHashEmbed.v1, spacy-legacy.Tagger.v1, spacy-legacy.TextCatBOW.v1, spacy-legacy.TextCatCNN.v1, spacy-legacy.TextCatEnsemble.v1, spacy-legacy.Tok2Vec.v1, spacy-legacy.TransitionBasedParser.v1, spacy.CharacterEmbed.v2, spacy.EntityLinker.v2, spacy.HashEmbedCNN.v2, spacy.MaxoutWindowEncoder.v2, spacy.MishWindowEncoder.v2, spacy.MultiHashEmbed.v2, spacy.PretrainCharacters.v1, spacy.PretrainVectors.v1, spacy.SpanCategorizer.v1, spacy.SpanFinder.v1, spacy.Tagger.v2, spacy.TextCatBOW.v2, spacy.TextCatBOW.v3, spacy.TextCatCNN.v2, spacy.TextCatEnsemble.v2, spacy.TextCatLowData.v1, spacy.TextCatParametricAttention.v1, spacy.TextCatReduce.v1, spacy.Tok2Vec.v2, spacy.Tok2VecListener.v1, spacy.TorchBiLSTMEncoder.v1, spacy.TransitionBasedParser.v2"
     ]
    }
   ],
   "source": [
    "import spacy\n",
    "\n",
    "nlp_trf = spacy.load('ca_core_news_trf')"
   ]
  },
  {
   "cell_type": "code",
   "execution_count": null,
   "metadata": {},
   "outputs": [],
   "source": []
  },
  {
   "cell_type": "markdown",
   "metadata": {},
   "source": [
    "### 5. RoBERTa fine-tuned"
   ]
  },
  {
   "cell_type": "code",
   "execution_count": null,
   "metadata": {},
   "outputs": [],
   "source": []
  },
  {
   "cell_type": "markdown",
   "metadata": {},
   "source": [
    "### Prova"
   ]
  },
  {
   "cell_type": "code",
   "execution_count": null,
   "metadata": {},
   "outputs": [],
   "source": [
    "import numpy as np\n",
    "from sklearn.feature_extraction.text import TfidfVectorizer\n",
    "\n",
    "# Defineix funcions per calcular els embeddings de frases\n",
    "def compute_mean_embedding(text, model, embedding_dim):\n",
    "    \"\"\"\n",
    "    Agafa els vectors d'embeddings de cada paraula en una frase o document i \n",
    "    calcula la mitjana dels vectors per obtenir una única representació vectorial \n",
    "    per a la frase o document.\n",
    "    \"\"\"\n",
    "    vectors = [model[word] for word in text if word in model]\n",
    "    if vectors:\n",
    "        mean_vector = np.mean(vectors, axis=0)\n",
    "    else:\n",
    "        mean_vector = np.zeros(embedding_dim)\n",
    "    return mean_vector\n",
    "\n",
    "def compute_weighted_mean_embedding(text, model, word2tfidf, embedding_dim):\n",
    "    \"\"\"\n",
    "    Utilitza una ponderació per a cada vector de paraula, com ara la freqüència \n",
    "    inversa del document (TF-IDF), per calcular una mitjana ponderada dels vectors.\n",
    "    \"\"\"\n",
    "    vectors = [model[word] * word2tfidf[word] for word in text if word in model and word in word2tfidf]\n",
    "    if vectors:\n",
    "        weighted_mean_vector = np.mean(vectors, axis=0)\n",
    "    else:\n",
    "        weighted_mean_vector = np.zeros(embedding_dim)\n",
    "    return weighted_mean_vector"
   ]
  },
  {
   "cell_type": "code",
   "execution_count": null,
   "metadata": {},
   "outputs": [],
   "source": [
    "# Exemple de corpus\n",
    "corpus = [\"Aquest és un text de exemple\", \"Aquí hi ha un altre text\"]\n",
    "\n",
    "# Prepara els vectors TF-IDF\n",
    "tfidf = TfidfVectorizer()\n",
    "tfidf_matrix = tfidf.fit_transform(corpus)\n",
    "word2tfidf = dict(zip(tfidf.get_feature_names_out(), tfidf.idf_))"
   ]
  },
  {
   "cell_type": "code",
   "execution_count": null,
   "metadata": {},
   "outputs": [
    {
     "name": "stdout",
     "output_type": "stream",
     "text": [
      "Epoch 1/10\n",
      "1/1 [==============================] - 0s 334ms/step - loss: 0.7557\n",
      "Epoch 2/10\n",
      "1/1 [==============================] - 0s 3ms/step - loss: 0.1112\n",
      "Epoch 3/10\n",
      "1/1 [==============================] - 0s 2ms/step - loss: 0.4268\n",
      "Epoch 4/10\n",
      "1/1 [==============================] - 0s 5ms/step - loss: 0.5486\n",
      "Epoch 5/10\n",
      "1/1 [==============================] - 0s 3ms/step - loss: 0.4800\n",
      "Epoch 6/10\n",
      "1/1 [==============================] - 0s 5ms/step - loss: 0.3008\n",
      "Epoch 7/10\n",
      "1/1 [==============================] - 0s 3ms/step - loss: 0.0543\n",
      "Epoch 8/10\n",
      "1/1 [==============================] - 0s 4ms/step - loss: 0.2087\n",
      "Epoch 9/10\n",
      "1/1 [==============================] - 0s 2ms/step - loss: 0.2880\n",
      "Epoch 10/10\n",
      "1/1 [==============================] - 0s 3ms/step - loss: 0.3351\n",
      "1/1 [==============================] - 0s 55ms/step\n",
      "[[0.10263795]]\n"
     ]
    }
   ],
   "source": [
    "# Exemple d'ús amb embeddings pre-entrenats (Word2Vec)\n",
    "from gensim.models import KeyedVectors\n",
    "import tensorflow as tf\n",
    "\n",
    "# Carrega el model pre-entrenat (substitueix 'path_to_model' amb la ruta real)\n",
    "# word2vec_model = KeyedVectors.load_word2vec_format('path_to_model', binary=True)\n",
    "\n",
    "# Defineix la longitud de les seqüències i la dimensió dels embeddings\n",
    "input_length = 10\n",
    "embedding_dim = model_100MB.vector_size\n",
    "\n",
    "# Prepara les dades d'entrenament\n",
    "X_train1 = np.array([compute_mean_embedding(text.split(), model_100MB.wv, embedding_dim) for text in corpus])\n",
    "X_train2 = np.array([compute_weighted_mean_embedding(text.split(), model_100MB.wv, word2tfidf, embedding_dim) for text in corpus])\n",
    "y_train = np.random.rand(len(corpus), 1)\n",
    "\n",
    "# Defineix el model de Keras (ajusta les dimensions segons la longitud de les seqüències i la dimensió dels embeddings)\n",
    "def build_and_compile_model(input_dim, hidden_size=64):\n",
    "    input_1 = tf.keras.Input(shape=(input_dim,))\n",
    "    input_2 = tf.keras.Input(shape=(input_dim,))\n",
    "    \n",
    "    concatenate = tf.keras.layers.Concatenate(axis=-1)([input_1, input_2])\n",
    "    hidden = tf.keras.layers.Dense(hidden_size, activation='relu')(concatenate)\n",
    "    output = tf.keras.layers.Dense(1)(hidden)\n",
    "    \n",
    "    model = tf.keras.Model(inputs=[input_1, input_2], outputs=output)\n",
    "    model.compile(loss='mean_absolute_error', optimizer=tf.keras.optimizers.Adam(0.001))\n",
    "    \n",
    "    return model\n",
    "\n",
    "# Construir i compilar el model\n",
    "m = build_and_compile_model(input_dim=embedding_dim)\n",
    "\n",
    "# Entrenar el model\n",
    "m.fit([X_train1, X_train2], y_train, epochs=10, batch_size=32)\n",
    "\n",
    "# Exemple de predicció\n",
    "input_data1 = compute_mean_embedding(\"Aquest és un text de exemple\".split(), model_100MB.wv, embedding_dim).reshape(1, -1)\n",
    "input_data2 = compute_weighted_mean_embedding(\"Aquí hi ha un altre text\".split(), model_100MB.wv, word2tfidf, embedding_dim).reshape(1, -1)\n",
    "\n",
    "# Predir la similitud\n",
    "y_pred = m.predict([input_data1, input_data2])\n",
    "print(y_pred)"
   ]
  },
  {
   "cell_type": "code",
   "execution_count": null,
   "metadata": {},
   "outputs": [
    {
     "data": {
      "text/plain": [
       "array([[0.24829134],\n",
       "       [0.49559584]])"
      ]
     },
     "execution_count": 39,
     "metadata": {},
     "output_type": "execute_result"
    }
   ],
   "source": [
    "y_train"
   ]
  }
 ],
 "metadata": {
  "kernelspec": {
   "display_name": "Python 3",
   "language": "python",
   "name": "python3"
  },
  "language_info": {
   "codemirror_mode": {
    "name": "ipython",
    "version": 3
   },
   "file_extension": ".py",
   "mimetype": "text/x-python",
   "name": "python",
   "nbconvert_exporter": "python",
   "pygments_lexer": "ipython3",
   "version": "3.11.9"
  }
 },
 "nbformat": 4,
 "nbformat_minor": 2
}
