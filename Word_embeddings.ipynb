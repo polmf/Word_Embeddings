{
 "cells": [
  {
   "cell_type": "markdown",
   "metadata": {},
   "source": [
    "# Pràctica 4"
   ]
  },
  {
   "cell_type": "code",
   "execution_count": 1,
   "metadata": {},
   "outputs": [
    {
     "name": "stderr",
     "output_type": "stream",
     "text": [
      "c:\\Users\\Usuario\\.pyenv\\pyenv-win\\versions\\3.11.0\\Lib\\site-packages\\tqdm\\auto.py:21: TqdmWarning: IProgress not found. Please update jupyter and ipywidgets. See https://ipywidgets.readthedocs.io/en/stable/user_install.html\n",
      "  from .autonotebook import tqdm as notebook_tqdm\n",
      "c:\\Users\\Usuario\\.pyenv\\pyenv-win\\versions\\3.11.0\\Lib\\site-packages\\datasets\\load.py:1486: FutureWarning: The repository for projecte-aina/catalan_general_crawling contains custom code which must be executed to correctly load the dataset. You can inspect the repository content at https://hf.co/datasets/projecte-aina/catalan_general_crawling\n",
      "You can avoid this message in future by passing the argument `trust_remote_code=True`.\n",
      "Passing `trust_remote_code=True` will be mandatory to load this dataset from the next major release of `datasets`.\n",
      "  warnings.warn(\n",
      "Downloading builder script: 100%|██████████| 3.45k/3.45k [00:00<?, ?B/s]\n",
      "Downloading readme: 100%|██████████| 10.1k/10.1k [00:00<?, ?B/s]\n",
      "Downloading data: 100%|██████████| 875M/875M [35:18<00:00, 413kB/s]    \n",
      "Generating train split: 1016113 examples [00:38, 26628.24 examples/s]\n"
     ]
    }
   ],
   "source": [
    "from datasets import load_dataset\n",
    "\n",
    "dataset = load_dataset(\"projecte-aina/catalan_general_crawling\")"
   ]
  },
  {
   "cell_type": "code",
   "execution_count": 6,
   "metadata": {},
   "outputs": [
    {
     "name": "stdout",
     "output_type": "stream",
     "text": [
      "{'text': 'Reduïu els costos dels processos administratius al vostre organisme públic\\nEviteu els desplaçaments i pèrdua de temps als ciutadans en les seves gestions\\nOferiu una administració més transparent a ciutadans i empreses\\nEns grans i petits experimenten aquesta transformació amb èxit, gràcies al suport de l\\'AOC\\nDepartament de Sistemes d\\'Informació i Processos\\n\" Via Oberta ens ha permès fer efectiu el dret dels ciutadans a no aportar documents, eliminant paper i simplificant procediments\"\\n\" e.FACT proporciona informació indispensable per a la realització de les auditories del registre comptable de factures de les Administracions Públiques Catalanes\"\\nCoordinador del departament d\\'Informàtica\\n\"El servei VIA OBERTA és el que ha aportat majors avantatges per als ciutadans\"\\n\"Amb l\\' e-NOTUM hem escurçat els procediments en 12 dies, quasi un 40% menys!\"\\nCoordinadora d\\'organització de persones i e-administració\\n\" Via Oberta ofereix millores per als ciutadans al no haver d\\'aportar cap document\"\\nResponsable d\\'Informàtica i Administració Electrònica\\n\" e-TRAM ens ha permès implantar un servei de tramitació electrònica per als ciutadans de forma ràpida, senzilla i amb un cost reduït\"\\n\"Els municipis amb pocs habitants trobem en els serveis de l\\'AOC la gratuïtat i la comoditat necessàries per dur a terme el nostre dia a dia\"\\n\"Les T-CAT han permès incorporar de forma segura la signatura electrònica dins dels nostres procediments afavorint la transformació digital de la nostra activitat\"\\nCap de Departament de Sistemes i Tecnologies de la Informació\\n\"Amb el desplegament de l\\' idCAT hem apropat l\\'Ajuntament a la ciutadania\"\\n\"Mitjançant els serveis de Govern Obert de l\\'AOC hem pogut fer fàcil el que sembla difícil\"\\n\"Al tauler electrònic pots penjar fins i tot el projecte sencer i al final et permet fer també la diligència\"\\nÀrea de Promoció Econòmica, Administració i Hisenda\\n\"El Sobre Digital i la PSCP han aconseguit una comunió senzilla entre empreses i administració per universalitzar la compra pública electrònica\"\\n\"L\\' e-SET és la implantació d\\'un nou sistema de treball que facilita la feina del dia a dia\"\\nCap del servei de contractació i compres\\n\"El Sobre Digital, una experiència imprescindible per a la bona administració amb estalvi de recursos i millora de la seguretat jurídica i la transparència\"\\nÀrea d\\'Organització i Administració Electrònica\\n\"El desplegament de la valisa electrònica ha estat clau en el procés de transformació digital dels nostres procediments interns\"\\n\"L\\' Hèstia permet el treball en temps real i des de qualsevol lloc, així com sistematitzar la pràctica professional, recollir la informació ordenadament i amb el mateix llenguatge\"\\nConsulta els materials del Congrés de Govern Digital 2019\\nGoverns transparents, fluids, dinàmics, líquids... un bon lema pel principal objectiu de la governança del segle XXI: democratitzar-ho tot.\\nConfluències, rius, cooperació.\\nCatalunya, Mediterrània, mar de drets.\\nA favor: totes les Administracions movent-se per posar-se al dia i millorar, tot aprofitant la revolució digital.\\nEn contra: quants cops estem reinventant la roda i quantes quantes oportunitats perdudes de fer-ho una única vegada i de forma coordinada i col·laborativa?\\n\"La transparència és una oportunitat.\\nHem de perdre tota por a explicar què fem\": la conclusió de la taula d\\'alcaldies de la Jornada de Govern Obert pic.twitter.com/ERbgLSIXZM\\nEl director general de Participació Ciutadana ens convida a transformar les administracions públiques a partir de la participació ciutadana\\nEns cal que allò que preocupa i ocupa els governants formi part d\\'allò en què participa la ciutadania pic.twitter.com/NwQr4EZSCS: \"A moltes institucions encara els sona xinés això de les dades obertes i la transparència.\\nDe que serveix que hi hagi un portal, si llavors no hi ha dades?\\nLlavors l\\'accés a la informació pels periodistes és molt parcial\".\\nOferim eines que, conjuntament amb la metodologia i el suport necessari, fan possible l\\'assoliment d\\'un govern digital\\nPosem al vostre abast tot el coneixement: formació, guies, normatives, etc.\\nTenim eines per gestionar àgilment part del procés administratiu del vostre ens\\nEl nostre equip farà tot el possible per resoldre les vostres incidències\\nSabem que es tracta d\\'una decisió molt important per al vostre ens i és per això que us ho volem posar fàcil.\\nLa selecció de l\\'actualitat d\\'Administració Oberta a la vostra safata.'}\n",
      "\n",
      "{'text': 'En compliment de la Directiva 2009/136/CE, desenvolupada en el nostre ordenament per l\\'article 22.2 de la Llei de Serveis de Societat de la Informació (LSSI) i seguint les instruccions de l\\'Agència Espanyola de Protecció de Dades, procedim a informar-li detalladament de l\\'ús que es realitza a la nostra pàgina web.\\nAquesta informació no revela la seva identitat, però sí que permet la seva identificació com a un usuari concret i pot guardar informació relativa a la freqüència amb la que visita la pàgina web, les seves preferències de navegació o aquella informació que més l\\'interessa.\\nEl que ens permet, cada vegada que accedeix a www.aoc.cat, millorar la qualitat i la usabilitat de la nostra pàgina web.\\nNo obstant, si les desactiva, pot ser que la seva navegació per www.aoc.cat no sigui òptima i algunes de les seves utilitats no funcionin correctament.\\nCookies analítiques: galetes de Google Analytics\\nAquesta pàgina web utilitza Google Analytics, un servei analític del web prestat per Google.\\nInc, una companyia de Delaware l\\'oficina principal de la qual es troba a 1600 Amphitheatre Parkway, Mountain View (Califòrnia), CA 94043, Estats Units (\" Google\").\\nLa informació que genera la cookie sobre l\\'ús del lloc web (incloent l\\'adreça IP) serà directament transmesa i arxivada per Google en els seus servidors d\\'Estats Units.\\nGoogle utilitzarà aquesta informació per compte nostre amb el propòsit de seguir la pista del seu ús del lloc web.\\nGoogle podrà transmetre aquesta informació a tercers quan així ho requereixi la legislació, o quan aquests tercers processin la informació per compte de Google.\\nEn aquests casos, Google no associarà la seva adreça IP amb cap altra dada de què disposi.\\nEn utilitzar aquesta pàgina web consent el tractament de la seva informació per Google en la forma i per als fins anteriorment indicats.\\nL\\'exercici de qualsevol dret s\\'haurà de realitzar mitjançant comunicació directa amb Google.\\nPer optar per no ser rastrejats per Google Analytics a través de tots els llocs web podeu consultar http://tools.google.com/dlpage/gaoptout\\nAixí mateix, també registra quan va ser la primera i l\\'última vegada que l\\'usuari va visitar el web www.aoc.cat.\\nGaletes en altres llocs web del Consorci AOC\\nLes seves finalitats són descrites a la pàgina de privacitat de Twitter.\\nConfiguració de l\\'usuari per evitar Cookies\\nÉs cas de dubte pot dirigir-se al webmaster del domini creador de la cookie.\\nLa selecció de l\\'actualitat d\\'Administració Oberta a la vostra safata.'}\n",
      "\n",
      "{'text': 'L\\'ús de la informació continguda en aquest lloc web implica l\\'acceptació i el consentiment en els termes i les condicions que es detallen en aquest avís legal.\\nTitularitat i règim de responsabilitat de la pàgina web\\nEl responsable d\\'aquesta pàgina web és el Consorci Administració Oberta de Catalunya, (Consorci AOC), amb NIF Q0801175A, i ubicat al Carrer de Tànger, núm. 98, (planta baixa) 08018 (tel. 93 272 25 00 i fax.\\nTota persona que accedeixi a aquest lloc web assumeix el paper d\\'usuari, comprometent-se a l\\'observança i compliment rigorós de les disposicions aquí disposades, així com a qualsevol altre disposició legal que li sigui d\\'aplicació.\\nEl Consorci AOC té el dret a modificar la informació que apareix en aquesta pàgina web, sense que existeixi la obligació de preavís o posada en coneixement dels usuaris de les noves obligacions -a excepció dels compromisos assumits en virtut de convenis específics – entenent-se com a suficient la seva publicació en el lloc web.\\nLes informacions i els continguts relacionats amb l\\'actuació i les funcions del Consorci AOC, que s\\'inclouen en aquest web, estan subjectes a les previsions següents:\\nResponsabilitat amb relació als continguts\\nEl Consorci AOC treballa perquè les informacions, els continguts i els serveis oferts o difosos en aquest web acompleixin de manera suficient la necessària integritat, veracitat, actualització, accessibilitat i usabilitat.\\nA aquest efecte, cal tenir en compte la data d\\'actualització de cadascun dels continguts que en cada cas s\\'indiqui.\\nLa pàgina web ofereix informació, consells, guies i d\\'altres continguts preparats pel Consorci AOC amb finalitats de difusió, informació, conscienciació i en determinats casos la prestació de serveis específics d\\'administració electrònica.\\nS\\'informa a l\\'usuari que tots aquests continguts, malgrat estar preparats amb el màxim nivell de qualitat possibles, no poden suposar en cap moment assessorament específic en matèria tecnològica i/o jurídica o ser considerats com a actuacions dirigides a la resolució de problemàtiques específiques.\\nEn qualsevol cas, el Consorci AOC es reserva el dret a modificar-los, suprimir-los, desenvolupar-los o actualitzar-los unilateralment sense notificació prèvia i sense assumir cap responsabilitat.\\nEl Consorci AOC ofereix la traducció automàtica en altres llengües diferents del català dels continguts del seu web per tal de facilitar als ciutadans la comprensió del text en el seu propi idioma.\\nMalgrat tot, els articles traduïts automàticament poden contenir errors materials dels quals el Consorci AOC no se\\'n fa responsable.\\nEn l\\'actualitat, el Consorci AOC només garanteix la veracitat dels continguts en llengua catalana.\\nReferències i enllaços a webs d\\'altres organitzacions\\nEl web del Consorci AOC conté referències o enllaços a webs de tercers (\"links\"), la major part d\\'elles són a pàgines d\\'Internet d\\'altres administracions públiques, que s\\'han considerat d\\'interès pels usuaris.\\nEn el cas que s\\'abandoni el web, el Consorci AOC no assumeix cap responsabilitat derivada de la connexió o dels contingut dels enllaços de tercers.\\nTot i això, es revisen periòdicament els enllaços a altres pàgines per tal d\\'evitar la inclusió d\\'enllaços que no compleixen la normativa de protecció de dades, així com la resta de normativa vigent.\\nEn aquest sentit, el Consorci manifesta que si es detecta qualsevol contingut que pugui contravenir la legislació nacional o internacional, o l\\'ordre públic, es procedirà a la retirada immediata de l\\'enllaç, posant-ho en coneixement de les autoritat competents.\\nEl Consorci AOC no es fa responsable de la informació i continguts emmagatzemats, a títol enunciatiu però no limitatiu, en els fòrums, blocs, comentaris en xarxes socials, o qualsevol altre mitjà del Consorci AOC que permeti a tercers publicar continguts de forma independent.\\nNo obstant, en compliment de l\\'article 11 i 16 de la LSSICE, es posa a disposició de tots els usuaris, autoritats i forces de seguretat, per col·laborar de forma activa en la retirada o, en el seu cas, bloqueig de tots aquells continguts que poguessin afectar o contravenir la legislació nacional, o internacional, drets de tercers o la moral i l\\'ordre públic.\\nEn el cas que qualsevol usuari consideri que existeix en el lloc web algun contingut que pugui ser susceptible de l\\'anterior classificació, es sol·licita que ho comuniqui de forma immediata a l\\'administrador del la pàgina web per mitjà del correu electrònic [EMAIL]\\nReproducció de continguts propis\\nEl Consorci AOC facilita la consulta lliure i gratuïta de la informació continguda en el web i autoritza la reproducció total o parcial dels seus continguts, sempre i quan els continguts esmentats es conservin íntegres, es citi la font i la data en la que s\\'ha realitzat la còpia, no es manipulin, ni alterin els continguts i no s\\'utilitzi directament amb finalitats comercials (Llei 37/2007, de 16 de novembre, sobre la reutilització de la informació del sector públic).\\nEl Consorci AOC autoritza la descarrega gratuïta dels manuals, impresos, programes i publicacions informatives que s\\'inclouen en el seu web, a efectes de la seva reproducció i distribució, llevat que s\\'indiqui el contrari de forma expressa.\\nNo obstant això, en determinats supòsits el Consorci AOC pot indicar de manera explícita que és necessari sol·licitar una autorització expressa.\\nAixí mateix, la reutilització es pot limitar per la tutela d\\'altres béns jurídics prioritaris, com ara la protecció de les dades personals, la intimitat o els drets de protecció intel·lectual de tercers.\\nEl domini d\\'aquest web és titularitat del Consorci AOC, així com els drets de propietat intel·lectual, el seu disseny i els codis que conté, llevat que s\\'indiqui una titularitat diferent.\\nNo s\\'autoritza en cap cas, l\\'ús de marques o signes distintius, logotips i en general símbols distintius de qualsevol naturalesa propietat del Consorci AOC, en publicacions i webs que no siguin d\\'ens participats o patrocinats per aquest Consorci, sense el coneixement i l\\'autorització corresponent del Consorci AOC.\\nEl Consorci AOC no assumirà cap responsabilitat derivada de l\\'ús per part de tercers del contingut d\\'aquesta pàgina Web i podrà exercitar totes les accions civils o penals que li corresponguin en cas d\\'infracció d\\'aquests drets per part de l\\'usuari.\\nAquesta informació es troba continguda a la Política de Cookies del Consorci AOC.\\nDret aplicable i jurisdicció competent\\nLa llei aplicable en cas de disputa o conflicte d\\'interpretació dels termes que conforme aquest Avís legal, així com qualsevol aspecte relacionat amb els serveis d\\'aquest web, serà la legislació espanyola.\\nEls possibles conflictes relatius a aquest web es regiran exclusivament pel dret espanyol, essent els jutjats de Barcelona els únics competents.\\nTota persona usuària del web, independentment de la jurisdicció territorial des de la qual es produeixi el seu accés, accepta el compliment i respecte d\\'aquesta clàusula amb renúncia expressa a qualsevol altre fur que li pogués correspondre.\\nSi alguna part o clàusula d\\'aquestes Condicions fos declarada nul·la o deixada sense efecte per una resolució judicial, les restants estipulacions conservaran la seva validesa.\\nLa selecció de l\\'actualitat d\\'Administració Oberta a la vostra safata.'}\n",
      "\n",
      "{'text': \"Els Reconeixements Administració Oberta als ajuntaments i consells comarcals que atorga anualment l'AOC han esdevingut el reconeixement públic de tots aquells ens que destaquen en la transformació digital de la seva relació amb la ciutadania i en la seva gestió interna.\\nEls guardons s'atorguen en base a uns indicadors objectius, l'anàlisi dels webs dels ens i l'ús de determinats serveis del Consorci AOC.\\nEl seu objectiu és valorar i reconèixer la implantació i l'ús dels serveis d'administració electrònica i, tal i com s'ha indicat anteriorment, la seva conseqüent transformació digital en seva relació amb la ciutadania i en la seva gestió interna.\\nEls Reconeixements Administració Oberta tenen set categories d'acord amb el nombre d'habitants dels ens i la seva naturalesa:\\nDescripció del mètode d'avaluació dels Reconeixements Administració Oberta\\nLlistat de guardonats a l'edició del 2018: ajuntaments i consells comarcals capdavanters en administració digital\\nSegells Reconeixements Administració Oberta 2018\\nLa selecció de l'actualitat d'Administració Oberta a la vostra safata.\"}\n",
      "\n",
      "{'text': \"En el marc del desenvolupament de l'Administració electrònica, des de l'AOC copsem l'estat de l'administració pel que fa als instruments municipals d'Administració electrònica i, més específicament, al reconeixement efectiu dels drets dels ciutadans arrel de la normativa que regula l'ús dels mitjans electrònics, la transparència, l'accés a la informació pública i el bon govern.\\nAmb aquest objectiu, periòdicament duem a terme una revisió de l'estat de l'e-Administració als 947 ajuntaments de Catalunya 1 i publiquem les dades en un informe.\\nAixí mateix, els resultats de l'anàlisi es plasmen en un mapa de Catalunya interactiu.\\nAl mapa municipal català podeu accedir a la informació relacionada amb els 947 municipis catalans:\\nLa informació que mostren els mapes és la més recent.\\nSi voleu conèixer les dades dels estudis anteriors podeu accedir als informes sobre administració.\\nTambé podeu consultar les dades dels 42 consells comarcals al mapa d'e-administració per comarques.\\nEls informes sobre e-Administració són el resultat d'un estudi dut a terme pel personal del Gabinet Tècnic de l'AOC en un període de temps concret i en base a:\\nA continuació detallem els paràmetres analitzats a l'estudi, agrupats en sis blocs\\nSi l'ajuntament ha aprovat normativa en matèria d'administració electrònica\\nSi l'ajuntament ha aprovat alguna norma específica per regular l'ús dels mitjans electrònics en la seva administració (ordenança reguladora d'administració electrònica, registre electrònic i seu electrònica).\\nEl resultat d'aquesta anàlisi es contrasta amb el personal tècnic dels consells comarcals, d'acord amb el conveni de col·laboració que hi ha entre els consells i el Consorci AOC.\\n1 En els tres primers informes de 2010, es van recollir dades de 946 ajuntaments, ja que La Canonja encara no era legalment municipi independent.\\nTambé es va analitzar en el seu moment el municipi de Medinyà fins a la seva forçosa desaparició el febrer de 2018.\\nEvolució de les dades dels informes sobre l'e-Administració (desembre 2017) (977 kB)\\nNOTA: les dades recollides en aquests informes es publiquen ara en format de dades obertes a indicadors públics d'activitat\\nLa selecció de l'actualitat d'Administració Oberta a la vostra safata.\"}\n",
      "\n",
      "{'text': \"Cursos de lliure accès per a que els comenceu quan vulgueu i els feu al vostre ritme.\\nCursos amb data d'inici planificada i seguiment per part del tutor\\nUna pinzellada de les principals característiques de cada servei.\\nEs pot completar en uns minuts i us permetrà començar amb bon peu.\\nCreació del preu públic del servei de formació (aprovada a la Comissió Executiva del Consorci AOC de 17 de desembre de 2014):\\nLa selecció de l'actualitat d'Administració Oberta a la vostra safata.\"}\n",
      "\n",
      "{'text': 'En aquest document trobareu la darrera versió de les condicions generals de prestació dels Serveis AOC amb la seva data d\\'aprovació per part de la Comissió Executiva del Consorci AOC.\\nTambé trobareu el document immediatament anterior a aquesta versió:\\nCondicions de prestació específiques\\nHi ha serveis que, donades les seves particularitats, disposen addicionalment d\\'unes condicions específiques de prestació.\\nEn cas de dubte o discrepàncies entre l\\'acord específic i el general, les condicions específiques són les que prevalen sobre les genèriques.\\nEn aquests documents trobareu la darrera versió de les condicions específiques amb la seva data d\\'aprovació per part de la Comissió Executiva del Consorci AOC.\\nEn cas d\\'haver-se modificat, també trobareu la versió del document immediatament anterior a l\\'actual:\\nSignatura electrònica i seguretat\\nSi sou usuaris d\\'un dels serveis del Consorci AOC i voleu comunicar-nos la vostra sol·licitud de baixa, feu-ho a través del tràmit de \"Sol·licitud de baixa de servei\" del servei \"Baixa de servei\" que trobareu a l\\'apartat \"Tràmits\", prestador \"Consorci AOC\"\\nAdreceu-vos al Centre d\\'Atenció a l\\'Usuari (CAU) del Consorci AOC.\\nPreus públics del servei de certificació (SCD):\\nLa selecció de l\\'actualitat d\\'Administració Oberta a la vostra safata.'}\n",
      "\n",
      "{'text': \"A continuació podeu accedir als convenis de col·laboració vigents subscrits pel Consorci Administració Oberta de Catalunya:\\nLa selecció de l'actualitat d'Administració Oberta a la vostra safata.\"}\n",
      "\n",
      "{'text': \"La informació sobre els processos de selecció de l'AOC es troba a la seu electrònica.\\nLa selecció de l'actualitat d'Administració Oberta a la vostra safata.\"}\n",
      "\n",
      "{'text': \"El Consorci Administració Oberta de Catalunya (Consorci AOC) té la seva gènesi en el Pacte per a la promoció i el desenvolupament de la Societat de la Informació a les administracions públiques catalanes (42,56 kB), signat al Parlament de Catalunya el 23 de juliol de 2001, entre els presidents de tots els grups parlamentaris, el Govern de la Generalitat de Catalunya i els governs locals representats per Localret.\\nLa missió de l'AOC és impulsar la transformació digital de les administracions catalanes, per promoure governs àgils, lògics i col·laboratius.\\nI la nostra visió es aconseguir que les persones gaudeixen de serveis públics de qualitat i visquin en una societat oberta.\\nSegons la Llei 29/2010, de 3 d'agost, de l'ús dels mitjans electrònics al sector públic de Catalunya, els objectius estratègics del Consorci AOC són, fonamentalment, col·laborar amb l'Administració de la Generalitat, els ens locals i, si s'escau, altres organismes públics, per:\\na) Promoure la interoperabilitat dels sistemes d'informació catalans amb la resta d'administracions.\\nb) Crear i prestar serveis comuns d'administració electrònica.\\nc) Reutilitzar les aplicacions i els serveis d'administració electrònica que es desenvolupin.\\nd) Garantir la identitat i acreditar la voluntat en les actuacions dels ciutadans i el personal del sector públic, així\\xad com la confidencialitat i el no-rebuig en les comunicacions electròniques.\\nMitjançant el Consorci AOC, també es desenvolupen i executen mesures de cooperació i foment de l'Administració de la Generalitat amb els ens locals en matèria d'ús dels mitjans electrònics.\\nEl Consorci AOC treballa amb una clara vocació de servei a les administracions públiques i la voluntat d'anticipar-se de les necessitats futures que ja es preveuen en l'actual marc normatiu o que demanda la ciutadania.\\nConcretament treballem en les següents línies d'actuació estratègiques:\\n1.- Serveis de col·laboració administrativa, amb l'objectiu de potenciar l'intercanvi d'informació per mitjans telemàtics entre les administracions públiques per millorar la seva eficiència i eficàcia, és a dir, de promoure la interoperabilitat dels sistemes d'informació de les administracions públiques catalanes.\\nI això es fa desenvolupant i prestant:\\n2.- Serveis comuns d'Administració electrònica, per tal de proporcionar suport als projectes d'ús intensiu de les tecnologies de la informació i les comunicacions que impulsin les institucions catalanes, potenciant la reusabilitat i la reutilització de les solucions d'Administració electrònica.\\nAmb aquests serveis el Consorci contribueix a:\\nEls serveis comuns d'Administració electrònica en els que treballa el Consorci es classifiquen en:\\n3.- Serveis d'identitat i signatura electrònica, adreçats als empleats públics i carrecs electes, i també a la ciutadania de Catalunya.\\nEl Consorci exerceix també funcions de divulgació, formació i assessorament, això com quan correspon, suport financer a les entitats locals en el desenvolupament dels seus projectes i iniciatives d'Administració electrònica.\\nEstatuts Consorci Administració Oberta de Catalunya\\nLa selecció de l'actualitat d'Administració Oberta a la vostra safata.\"}\n",
      "\n"
     ]
    }
   ],
   "source": [
    "dataset = dataset['train']\n",
    "\n",
    "# i want to see the first 10 examples\n",
    "for i in range(10):\n",
    "    print(dataset[i])\n",
    "    print()"
   ]
  },
  {
   "cell_type": "markdown",
   "metadata": {},
   "source": [
    "Obtenim diferents mides de datasets"
   ]
  },
  {
   "cell_type": "code",
   "execution_count": 18,
   "metadata": {},
   "outputs": [
    {
     "name": "stdout",
     "output_type": "stream",
     "text": [
      "57333\n",
      "369003\n",
      "738007\n"
     ]
    }
   ],
   "source": [
    "# i want to get the first 100 MB of the dataset\n",
    "size = 0\n",
    "for i in range(len(dataset)):\n",
    "    size += len(dataset[i]['text'])\n",
    "    if size > 100000000:\n",
    "        print(i)\n",
    "        break\n",
    "\n",
    "dataset_100MB = dataset.select(list(range(i)))\n",
    "\n",
    "\n",
    "# i want to get the first 500 MB of the dataset\n",
    "size = 0\n",
    "for j in range(len(dataset)):\n",
    "    size += len(dataset[i]['text'])\n",
    "    if size > 500000000:\n",
    "        print(j)\n",
    "        break\n",
    "\n",
    "dataset_500MB = dataset.select(list(range(j)))\n",
    "\n",
    "\n",
    "# i want to get the first 1 GB of the dataset\n",
    "size = 0\n",
    "for g in range(len(dataset)):\n",
    "    size += len(dataset[i]['text'])\n",
    "    if size > 1000000000:\n",
    "        print(g)\n",
    "        break\n",
    "\n",
    "dataset_1GB = dataset.select(list(range(g)))"
   ]
  },
  {
   "cell_type": "markdown",
   "metadata": {},
   "source": [
    "## Preprocessament"
   ]
  },
  {
   "cell_type": "code",
   "execution_count": 32,
   "metadata": {},
   "outputs": [
    {
     "name": "stdout",
     "output_type": "stream",
     "text": [
      "[['reduïu', 'els', 'costos', 'dels', 'processos', 'administratius', 'al', 'vostre', 'organisme', 'públic', 'eviteu', 'els', 'desplaçaments', 'i', 'pèrdua', 'de', 'temps', 'als', 'ciutadans', 'en', 'les', 'seves', 'gestions', 'oferiu', 'una', 'administració', 'més', 'transparent', 'a', 'ciutadans', 'i', 'empreses', 'ens', 'grans', 'i', 'petits', 'experimenten', 'aquesta', 'transformació', 'amb', 'èxit', 'gràcies', 'al', 'suport', 'de', 'l', 'aoc', 'departament', 'de', 'sistemes', 'd', 'informació', 'i', 'processos', 'via', 'oberta', 'ens', 'ha', 'permès', 'fer', 'efectiu', 'el', 'dret', 'dels', 'ciutadans', 'a', 'no', 'aportar', 'documents', 'eliminant', 'paper', 'i', 'simplificant', 'procediments', 'e', 'fact', 'proporciona', 'informació', 'indispensable', 'per', 'a', 'la', 'realització', 'de', 'les', 'auditories', 'del', 'registre', 'comptable', 'de', 'factures', 'de', 'les', 'administracions', 'públiques', 'catalanes', 'coordinador', 'del', 'departament', 'd', 'informàtica', 'el', 'servei', 'via', 'oberta', 'és', 'el', 'que', 'ha', 'aportat', 'majors', 'avantatges', 'per', 'als', 'ciutadans', 'amb', 'l', 'e', 'notum', 'hem', 'escurçat', 'els', 'procediments', 'en', '12', 'dies', 'quasi', 'un', '40', 'menys', 'coordinadora', 'd', 'organització', 'de', 'persones', 'i', 'e', 'administració', 'via', 'oberta', 'ofereix', 'millores', 'per', 'als', 'ciutadans', 'al', 'no', 'haver', 'd', 'aportar', 'cap', 'document', 'responsable', 'd', 'informàtica', 'i', 'administració', 'electrònica', 'e', 'tram', 'ens', 'ha', 'permès', 'implantar', 'un', 'servei', 'de', 'tramitació', 'electrònica', 'per', 'als', 'ciutadans', 'de', 'forma', 'ràpida', 'senzilla', 'i', 'amb', 'un', 'cost', 'reduït', 'els', 'municipis', 'amb', 'pocs', 'habitants', 'trobem', 'en', 'els', 'serveis', 'de', 'l', 'aoc', 'la', 'gratuïtat', 'i', 'la', 'comoditat', 'necessàries', 'per', 'dur', 'a', 'terme', 'el', 'nostre', 'dia', 'a', 'dia', 'les', 't', 'cat', 'han', 'permès', 'incorporar', 'de', 'forma', 'segura', 'la', 'signatura', 'electrònica', 'dins', 'dels', 'nostres', 'procediments', 'afavorint', 'la', 'transformació', 'digital', 'de', 'la', 'nostra', 'activitat', 'cap', 'de', 'departament', 'de', 'sistemes', 'i', 'tecnologies', 'de', 'la', 'informació', 'amb', 'el', 'desplegament', 'de', 'l', 'idcat', 'hem', 'apropat', 'l', 'ajuntament', 'a', 'la', 'ciutadania', 'mitjançant', 'els', 'serveis', 'de', 'govern', 'obert', 'de', 'l', 'aoc', 'hem', 'pogut', 'fer', 'fàcil', 'el', 'que', 'sembla', 'difícil', 'al', 'tauler', 'electrònic', 'pots', 'penjar', 'fins', 'i', 'tot', 'el', 'projecte', 'sencer', 'i', 'al', 'final', 'et', 'permet', 'fer', 'també', 'la', 'diligència', 'àrea', 'de', 'promoció', 'econòmica', 'administració', 'i', 'hisenda', 'el', 'sobre', 'digital', 'i', 'la', 'pscp', 'han', 'aconseguit', 'una', 'comunió', 'senzilla', 'entre', 'empreses', 'i', 'administració', 'per', 'universalitzar', 'la', 'compra', 'pública', 'electrònica', 'l', 'e', 'set', 'és', 'la', 'implantació', 'd', 'un', 'nou', 'sistema', 'de', 'treball', 'que', 'facilita', 'la', 'feina', 'del', 'dia', 'a', 'dia', 'cap', 'del', 'servei', 'de', 'contractació', 'i', 'compres', 'el', 'sobre', 'digital', 'una', 'experiència', 'imprescindible', 'per', 'a', 'la', 'bona', 'administració', 'amb', 'estalvi', 'de', 'recursos', 'i', 'millora', 'de', 'la', 'seguretat', 'jurídica', 'i', 'la', 'transparència', 'àrea', 'd', 'organització', 'i', 'administració', 'electrònica', 'el', 'desplegament', 'de', 'la', 'valisa', 'electrònica', 'ha', 'estat', 'clau', 'en', 'el', 'procés', 'de', 'transformació', 'digital', 'dels', 'nostres', 'procediments', 'interns', 'l', 'hèstia', 'permet', 'el', 'treball', 'en', 'temps', 'real', 'i', 'des', 'de', 'qualsevol', 'lloc', 'així', 'com', 'sistematitzar', 'la', 'pràctica', 'professional', 'recollir', 'la', 'informació', 'ordenadament', 'i', 'amb', 'el', 'mateix', 'llenguatge', 'consulta', 'els', 'materials', 'del', 'congrés', 'de', 'govern', 'digital', '2019', 'governs', 'transparents', 'fluids', 'dinàmics', 'líquids', 'un', 'bon', 'lema', 'pel', 'principal', 'objectiu', 'de', 'la', 'governança', 'del', 'segle', 'xxi', 'democratitzar', 'ho', 'tot', 'confluències', 'rius', 'cooperació', 'catalunya', 'mediterrània', 'mar', 'de', 'drets', 'a', 'favor', 'totes', 'les', 'administracions', 'movent', 'se', 'per', 'posar', 'se', 'al', 'dia', 'i', 'millorar', 'tot', 'aprofitant', 'la', 'revolució', 'digital', 'en', 'contra', 'quants', 'cops', 'estem', 'reinventant', 'la', 'roda', 'i', 'quantes', 'quantes', 'oportunitats', 'perdudes', 'de', 'fer', 'ho', 'una', 'única', 'vegada', 'i', 'de', 'forma', 'coordinada', 'i', 'col', 'laborativa', 'la', 'transparència', 'és', 'una', 'oportunitat', 'hem', 'de', 'perdre', 'tota', 'por', 'a', 'explicar', 'què', 'fem', 'la', 'conclusió', 'de', 'la', 'taula', 'd', 'alcaldies', 'de', 'la', 'jornada', 'de', 'govern', 'obert', 'pic', 'twitter', 'com', 'erbglsixzm', 'el', 'director', 'general', 'de', 'participació', 'ciutadana', 'ens', 'convida', 'a', 'transformar', 'les', 'administracions', 'públiques', 'a', 'partir', 'de', 'la', 'participació', 'ciutadana', 'ens', 'cal', 'que', 'allò', 'que', 'preocupa', 'i', 'ocupa', 'els', 'governants', 'formi', 'part', 'd', 'allò', 'en', 'què', 'participa', 'la', 'ciutadania', 'pic', 'twitter', 'com', 'nwqr4ezscs', 'a', 'moltes', 'institucions', 'encara', 'els', 'sona', 'xinés', 'això', 'de', 'les', 'dades', 'obertes', 'i', 'la', 'transparència', 'de', 'que', 'serveix', 'que', 'hi', 'hagi', 'un', 'portal', 'si', 'llavors', 'no', 'hi', 'ha', 'dades', 'llavors', 'l', 'accés', 'a', 'la', 'informació', 'pels', 'periodistes', 'és', 'molt', 'parcial', 'oferim', 'eines', 'que', 'conjuntament', 'amb', 'la', 'metodologia', 'i', 'el', 'suport', 'necessari', 'fan', 'possible', 'l', 'assoliment', 'd', 'un', 'govern', 'digital', 'posem', 'al', 'vostre', 'abast', 'tot', 'el', 'coneixement', 'formació', 'guies', 'normatives', 'etc', 'tenim', 'eines', 'per', 'gestionar', 'àgilment', 'part', 'del', 'procés', 'administratiu', 'del', 'vostre', 'ens', 'el', 'nostre', 'equip', 'farà', 'tot', 'el', 'possible', 'per', 'resoldre', 'les', 'vostres', 'incidències', 'sabem', 'que', 'es', 'tracta', 'd', 'una', 'decisió', 'molt', 'important', 'per', 'al', 'vostre', 'ens', 'i', 'és', 'per', 'això', 'que', 'us', 'ho', 'volem', 'posar', 'fàcil', 'la', 'selecció', 'de', 'l', 'actualitat', 'd', 'administració', 'oberta', 'a', 'la', 'vostra', 'safata'], ['en', 'compliment', 'de', 'la', 'directiva', '2009', '136', 'ce', 'desenvolupada', 'en', 'el', 'nostre', 'ordenament', 'per', 'l', 'article', '22', '2', 'de', 'la', 'llei', 'de', 'serveis', 'de', 'societat', 'de', 'la', 'informació', 'lssi', 'i', 'seguint', 'les', 'instruccions', 'de', 'l', 'agència', 'espanyola', 'de', 'protecció', 'de', 'dades', 'procedim', 'a', 'informar', 'li', 'detalladament', 'de', 'l', 'ús', 'que', 'es', 'realitza', 'a', 'la', 'nostra', 'pàgina', 'web', 'aquesta', 'informació', 'no', 'revela', 'la', 'seva', 'identitat', 'però', 'sí', 'que', 'permet', 'la', 'seva', 'identificació', 'com', 'a', 'un', 'usuari', 'concret', 'i', 'pot', 'guardar', 'informació', 'relativa', 'a', 'la', 'freqüència', 'amb', 'la', 'que', 'visita', 'la', 'pàgina', 'web', 'les', 'seves', 'preferències', 'de', 'navegació', 'o', 'aquella', 'informació', 'que', 'més', 'l', 'interessa', 'el', 'que', 'ens', 'permet', 'cada', 'vegada', 'que', 'accedeix', 'a', 'www', 'aoc', 'cat', 'millorar', 'la', 'qualitat', 'i', 'la', 'usabilitat', 'de', 'la', 'nostra', 'pàgina', 'web', 'no', 'obstant', 'si', 'les', 'desactiva', 'pot', 'ser', 'que', 'la', 'seva', 'navegació', 'per', 'www', 'aoc', 'cat', 'no', 'sigui', 'òptima', 'i', 'algunes', 'de', 'les', 'seves', 'utilitats', 'no', 'funcionin', 'correctament', 'cookies', 'analítiques', 'galetes', 'de', 'google', 'analytics', 'aquesta', 'pàgina', 'web', 'utilitza', 'google', 'analytics', 'un', 'servei', 'analític', 'del', 'web', 'prestat', 'per', 'google', 'inc', 'una', 'companyia', 'de', 'delaware', 'l', 'oficina', 'principal', 'de', 'la', 'qual', 'es', 'troba', 'a', '1600', 'amphitheatre', 'parkway', 'mountain', 'view', 'califòrnia', 'ca', '94043', 'estats', 'units', 'google', 'la', 'informació', 'que', 'genera', 'la', 'cookie', 'sobre', 'l', 'ús', 'del', 'lloc', 'web', 'incloent', 'l', 'adreça', 'ip', 'serà', 'directament', 'transmesa', 'i', 'arxivada', 'per', 'google', 'en', 'els', 'seus', 'servidors', 'd', 'estats', 'units', 'google', 'utilitzarà', 'aquesta', 'informació', 'per', 'compte', 'nostre', 'amb', 'el', 'propòsit', 'de', 'seguir', 'la', 'pista', 'del', 'seu', 'ús', 'del', 'lloc', 'web', 'google', 'podrà', 'transmetre', 'aquesta', 'informació', 'a', 'tercers', 'quan', 'així', 'ho', 'requereixi', 'la', 'legislació', 'o', 'quan', 'aquests', 'tercers', 'processin', 'la', 'informació', 'per', 'compte', 'de', 'google', 'en', 'aquests', 'casos', 'google', 'no', 'associarà', 'la', 'seva', 'adreça', 'ip', 'amb', 'cap', 'altra', 'dada', 'de', 'què', 'disposi', 'en', 'utilitzar', 'aquesta', 'pàgina', 'web', 'consent', 'el', 'tractament', 'de', 'la', 'seva', 'informació', 'per', 'google', 'en', 'la', 'forma', 'i', 'per', 'als', 'fins', 'anteriorment', 'indicats', 'l', 'exercici', 'de', 'qualsevol', 'dret', 's', 'haurà', 'de', 'realitzar', 'mitjançant', 'comunicació', 'directa', 'amb', 'google', 'per', 'optar', 'per', 'no', 'ser', 'rastrejats', 'per', 'google', 'analytics', 'a', 'través', 'de', 'tots', 'els', 'llocs', 'web', 'podeu', 'consultar', 'http', 'tools', 'google', 'com', 'dlpage', 'gaoptout', 'així', 'mateix', 'també', 'registra', 'quan', 'va', 'ser', 'la', 'primera', 'i', 'l', 'última', 'vegada', 'que', 'l', 'usuari', 'va', 'visitar', 'el', 'web', 'www', 'aoc', 'cat', 'galetes', 'en', 'altres', 'llocs', 'web', 'del', 'consorci', 'aoc', 'les', 'seves', 'finalitats', 'són', 'descrites', 'a', 'la', 'pàgina', 'de', 'privacitat', 'de', 'twitter', 'configuració', 'de', 'l', 'usuari', 'per', 'evitar', 'cookies', 'és', 'cas', 'de', 'dubte', 'pot', 'dirigir', 'se', 'al', 'webmaster', 'del', 'domini', 'creador', 'de', 'la', 'cookie', 'la', 'selecció', 'de', 'l', 'actualitat', 'd', 'administració', 'oberta', 'a', 'la', 'vostra', 'safata']]\n"
     ]
    }
   ],
   "source": [
    "import gensim\n",
    "from gensim.models import Word2Vec\n",
    "import re\n",
    "\n",
    "# Funció per netejar i tokenitzar el text\n",
    "def preprocess_text(text):\n",
    "    # Neteja el text: treu caràcters no desitjats, converteix a minúscules, etc.\n",
    "    text = re.sub(r'\\W+', ' ', text)  # Substitueix caràcters no alfanumèrics per espais\n",
    "    text = text.lower()  # Converteix a minúscules\n",
    "    words = text.split()  # Tokenitza\n",
    "    return words\n",
    "\n",
    "# Carrega el fitxer de text i processa'l\n",
    "corpus_100MB = []\n",
    "for line in dataset_100MB:\n",
    "    words = preprocess_text(line['text'])\n",
    "    if words:  # Assegura't que la línia no està buida\n",
    "        corpus_100MB.append(words)\n",
    "\n",
    "# Comprova algunes línies per assegurar-te que tot està bé\n",
    "print(corpus_100MB[:2])\n"
   ]
  },
  {
   "cell_type": "markdown",
   "metadata": {},
   "source": [
    "## Entrenament model de similitud de Text Semàntic"
   ]
  },
  {
   "cell_type": "code",
   "execution_count": null,
   "metadata": {},
   "outputs": [],
   "source": [
    "from datasets import load_dataset\n",
    "\n",
    "text_semantic = load_dataset(\"projecte-aina/sts-ca\")"
   ]
  },
  {
   "cell_type": "code",
   "execution_count": 33,
   "metadata": {},
   "outputs": [],
   "source": [
    "from gensim.models import word2vec\n",
    "model = word2vec.Word2Vec(corpus_100MB, vector_size=100, window=5, min_count=10, workers=4, epochs=25)\n",
    "# Obtenir un word-vector"
   ]
  },
  {
   "cell_type": "code",
   "execution_count": 35,
   "metadata": {},
   "outputs": [
    {
     "name": "stdout",
     "output_type": "stream",
     "text": [
      "[('frase', 0.7374141216278076), ('grafia', 0.6719822883605957), ('lletra', 0.628826379776001), ('cançó', 0.595634400844574), ('locució', 0.5825865268707275), ('terminació', 0.5624357461929321), ('idea', 0.5605849027633667), ('versió', 0.5579149723052979), ('conjunció', 0.5572755932807922), ('recomanació', 0.556980311870575)]\n"
     ]
    }
   ],
   "source": [
    "# Exemple: trobar paraules similars\n",
    "similar_words = model.wv.most_similar('paraula')\n",
    "print(similar_words)"
   ]
  },
  {
   "cell_type": "code",
   "execution_count": 36,
   "metadata": {},
   "outputs": [],
   "source": [
    "import numpy as np\n",
    "from sklearn.feature_extraction.text import TfidfVectorizer\n",
    "\n",
    "# Defineix funcions per calcular els embeddings de frases\n",
    "def compute_mean_embedding(text, model, embedding_dim):\n",
    "    \"\"\"\n",
    "    Agafa els vectors d'embeddings de cada paraula en una frase o document i \n",
    "    calcula la mitjana dels vectors per obtenir una única representació vectorial \n",
    "    per a la frase o document.\n",
    "    \"\"\"\n",
    "    vectors = [model[word] for word in text if word in model]\n",
    "    if vectors:\n",
    "        mean_vector = np.mean(vectors, axis=0)\n",
    "    else:\n",
    "        mean_vector = np.zeros(embedding_dim)\n",
    "    return mean_vector\n",
    "\n",
    "def compute_weighted_mean_embedding(text, model, word2tfidf, embedding_dim):\n",
    "    \"\"\"\n",
    "    Utilitza una ponderació per a cada vector de paraula, com ara la freqüència \n",
    "    inversa del document (TF-IDF), per calcular una mitjana ponderada dels vectors.\n",
    "    \"\"\"\n",
    "    vectors = [model[word] * word2tfidf[word] for word in text if word in model and word in word2tfidf]\n",
    "    if vectors:\n",
    "        weighted_mean_vector = np.mean(vectors, axis=0)\n",
    "    else:\n",
    "        weighted_mean_vector = np.zeros(embedding_dim)\n",
    "    return weighted_mean_vector"
   ]
  },
  {
   "cell_type": "code",
   "execution_count": 37,
   "metadata": {},
   "outputs": [],
   "source": [
    "# Exemple de corpus\n",
    "corpus = [\"Aquest és un text de exemple\", \"Aquí hi ha un altre text\"]\n",
    "\n",
    "# Prepara els vectors TF-IDF\n",
    "tfidf = TfidfVectorizer()\n",
    "tfidf_matrix = tfidf.fit_transform(corpus)\n",
    "word2tfidf = dict(zip(tfidf.get_feature_names_out(), tfidf.idf_))"
   ]
  },
  {
   "cell_type": "code",
   "execution_count": 38,
   "metadata": {},
   "outputs": [
    {
     "name": "stdout",
     "output_type": "stream",
     "text": [
      "Epoch 1/10\n",
      "1/1 [==============================] - 0s 334ms/step - loss: 0.7557\n",
      "Epoch 2/10\n",
      "1/1 [==============================] - 0s 3ms/step - loss: 0.1112\n",
      "Epoch 3/10\n",
      "1/1 [==============================] - 0s 2ms/step - loss: 0.4268\n",
      "Epoch 4/10\n",
      "1/1 [==============================] - 0s 5ms/step - loss: 0.5486\n",
      "Epoch 5/10\n",
      "1/1 [==============================] - 0s 3ms/step - loss: 0.4800\n",
      "Epoch 6/10\n",
      "1/1 [==============================] - 0s 5ms/step - loss: 0.3008\n",
      "Epoch 7/10\n",
      "1/1 [==============================] - 0s 3ms/step - loss: 0.0543\n",
      "Epoch 8/10\n",
      "1/1 [==============================] - 0s 4ms/step - loss: 0.2087\n",
      "Epoch 9/10\n",
      "1/1 [==============================] - 0s 2ms/step - loss: 0.2880\n",
      "Epoch 10/10\n",
      "1/1 [==============================] - 0s 3ms/step - loss: 0.3351\n",
      "1/1 [==============================] - 0s 55ms/step\n",
      "[[0.10263795]]\n"
     ]
    }
   ],
   "source": [
    "# Exemple d'ús amb embeddings pre-entrenats (Word2Vec)\n",
    "from gensim.models import KeyedVectors\n",
    "import tensorflow as tf\n",
    "\n",
    "# Carrega el model pre-entrenat (substitueix 'path_to_model' amb la ruta real)\n",
    "# word2vec_model = KeyedVectors.load_word2vec_format('path_to_model', binary=True)\n",
    "\n",
    "# Defineix la longitud de les seqüències i la dimensió dels embeddings\n",
    "input_length = 10\n",
    "embedding_dim = model.vector_size\n",
    "\n",
    "# Prepara les dades d'entrenament\n",
    "X_train1 = np.array([compute_mean_embedding(text.split(), model.wv, embedding_dim) for text in corpus])\n",
    "X_train2 = np.array([compute_weighted_mean_embedding(text.split(), model.wv, word2tfidf, embedding_dim) for text in corpus])\n",
    "y_train = np.random.rand(len(corpus), 1)\n",
    "\n",
    "# Defineix el model de Keras (ajusta les dimensions segons la longitud de les seqüències i la dimensió dels embeddings)\n",
    "def build_and_compile_model(input_dim, hidden_size=64):\n",
    "    input_1 = tf.keras.Input(shape=(input_dim,))\n",
    "    input_2 = tf.keras.Input(shape=(input_dim,))\n",
    "    \n",
    "    concatenate = tf.keras.layers.Concatenate(axis=-1)([input_1, input_2])\n",
    "    hidden = tf.keras.layers.Dense(hidden_size, activation='relu')(concatenate)\n",
    "    output = tf.keras.layers.Dense(1)(hidden)\n",
    "    \n",
    "    model = tf.keras.Model(inputs=[input_1, input_2], outputs=output)\n",
    "    model.compile(loss='mean_absolute_error', optimizer=tf.keras.optimizers.Adam(0.001))\n",
    "    \n",
    "    return model\n",
    "\n",
    "# Construir i compilar el model\n",
    "m = build_and_compile_model(input_dim=embedding_dim)\n",
    "\n",
    "# Entrenar el model\n",
    "m.fit([X_train1, X_train2], y_train, epochs=10, batch_size=32)\n",
    "\n",
    "# Exemple de predicció\n",
    "input_data1 = compute_mean_embedding(\"Aquest és un text de exemple\".split(), model.wv, embedding_dim).reshape(1, -1)\n",
    "input_data2 = compute_weighted_mean_embedding(\"Aquí hi ha un altre text\".split(), model.wv, word2tfidf, embedding_dim).reshape(1, -1)\n",
    "\n",
    "# Predir la similitud\n",
    "y_pred = m.predict([input_data1, input_data2])\n",
    "print(y_pred)"
   ]
  },
  {
   "cell_type": "code",
   "execution_count": 39,
   "metadata": {},
   "outputs": [
    {
     "data": {
      "text/plain": [
       "array([[0.24829134],\n",
       "       [0.49559584]])"
      ]
     },
     "execution_count": 39,
     "metadata": {},
     "output_type": "execute_result"
    }
   ],
   "source": [
    "y_train"
   ]
  },
  {
   "cell_type": "markdown",
   "metadata": {},
   "source": [
    "### Implementació de model de regressió de similitud"
   ]
  }
 ],
 "metadata": {
  "kernelspec": {
   "display_name": "Python 3",
   "language": "python",
   "name": "python3"
  },
  "language_info": {
   "codemirror_mode": {
    "name": "ipython",
    "version": 3
   },
   "file_extension": ".py",
   "mimetype": "text/x-python",
   "name": "python",
   "nbconvert_exporter": "python",
   "pygments_lexer": "ipython3",
   "version": "3.11.0"
  }
 },
 "nbformat": 4,
 "nbformat_minor": 2
}
